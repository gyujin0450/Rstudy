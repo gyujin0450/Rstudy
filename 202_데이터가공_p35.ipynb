{
  "nbformat": 4,
  "nbformat_minor": 0,
  "metadata": {
    "colab": {
      "name": "202_데이터가공_p35.ipynb",
      "provenance": [],
      "authorship_tag": "ABX9TyPHVHJweKx0GMXI/zjdYvTC",
      "include_colab_link": true
    },
    "kernelspec": {
      "name": "ir",
      "display_name": "R"
    }
  },
  "cells": [
    {
      "cell_type": "markdown",
      "metadata": {
        "id": "view-in-github",
        "colab_type": "text"
      },
      "source": [
        "<a href=\"https://colab.research.google.com/github/gyujin0450/Rstudy/blob/master/202_%EB%8D%B0%EC%9D%B4%ED%84%B0%EA%B0%80%EA%B3%B5_p35.ipynb\" target=\"_parent\"><img src=\"https://colab.research.google.com/assets/colab-badge.svg\" alt=\"Open In Colab\"/></a>"
      ]
    },
    {
      "cell_type": "markdown",
      "metadata": {
        "id": "PesAhJt_eqEg"
      },
      "source": [
        "데이터 가공"
      ]
    },
    {
      "cell_type": "code",
      "metadata": {
        "id": "r23NMybRe0MX"
      },
      "source": [
        ""
      ],
      "execution_count": null,
      "outputs": []
    }
  ]
}