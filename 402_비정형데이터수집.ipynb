{
  "nbformat": 4,
  "nbformat_minor": 0,
  "metadata": {
    "colab": {
      "name": "402_비정형데이터수집.ipynb",
      "provenance": [],
      "authorship_tag": "ABX9TyNSp7/fxFcHgwUZFaB94ET3",
      "include_colab_link": true
    },
    "kernelspec": {
      "name": "ir",
      "display_name": "R"
    }
  },
  "cells": [
    {
      "cell_type": "markdown",
      "metadata": {
        "id": "view-in-github",
        "colab_type": "text"
      },
      "source": [
        "<a href=\"https://colab.research.google.com/github/gyujin0450/Rstudy/blob/master/402_%EB%B9%84%EC%A0%95%ED%98%95%EB%8D%B0%EC%9D%B4%ED%84%B0%EC%88%98%EC%A7%91.ipynb\" target=\"_parent\"><img src=\"https://colab.research.google.com/assets/colab-badge.svg\" alt=\"Open In Colab\"/></a>"
      ]
    },
    {
      "cell_type": "markdown",
      "metadata": {
        "id": "o8A_DyK6CYWZ"
      },
      "source": [
        "R로 크롤링(crawling) 하기\n",
        "- 웹 페이지에서 필요한 데이터를 추출하는 행위를 의미함\n",
        "- 크롤링을 제대로 하기 위해서는 웹이 작동하는 방식과\n",
        "- 웹 표준기술을 잘 파악하고 있어야 함\n",
        "\n",
        "* 데이터분석가 = 통계개념이 있고, 관련 대학원 졸업 필요\n",
        "* 데이터엔지니어 = 기술적인 지원"
      ]
    },
    {
      "cell_type": "code",
      "metadata": {
        "id": "LBbdQpguEDGa",
        "outputId": "f6272c32-8139-4e50-bab8-282bb56b61b1",
        "colab": {
          "base_uri": "https://localhost:8080/",
          "height": 53
        }
      },
      "source": [
        "# R에서는 rvest 패키지를 이용해서 크롤링 할 수 있음\n",
        "library(rvest)"
      ],
      "execution_count": 1,
      "outputs": [
        {
          "output_type": "stream",
          "text": [
            "Loading required package: xml2\n",
            "\n"
          ],
          "name": "stderr"
        }
      ]
    },
    {
      "cell_type": "code",
      "metadata": {
        "id": "Qo-hks2AE4ge"
      },
      "source": [
        "?rvest"
      ],
      "execution_count": 2,
      "outputs": []
    },
    {
      "cell_type": "code",
      "metadata": {
        "id": "mevLwZ1PFSX1"
      },
      "source": [
        "# https://www.hanbit.co.kr/store/books/new_book_list.html 에서 '제목,저자,가격' 정보 뽑아오기\n",
        "url <- 'https://www.hanbit.co.kr/store/books/new_book_list.html'"
      ],
      "execution_count": 24,
      "outputs": []
    },
    {
      "cell_type": "code",
      "metadata": {
        "id": "1IHJBDejHErq",
        "outputId": "10aafa3d-68b1-45e7-df21-91574cb9fb6f",
        "colab": {
          "base_uri": "https://localhost:8080/",
          "height": 89
        }
      },
      "source": [
        "html <- read_html(url)\n",
        "html"
      ],
      "execution_count": 25,
      "outputs": [
        {
          "output_type": "display_data",
          "data": {
            "text/plain": [
              "{html_document}\n",
              "<html lang=\"ko\">\n",
              "[1] <head>\\n<meta http-equiv=\"Content-Type\" content=\"text/html; charset=UTF-8 ...\n",
              "[2] <body>\\r\\n<!-- Google Tag Manager (noscript) -->\\r\\n<noscript><iframe src ..."
            ]
          },
          "metadata": {
            "tags": []
          }
        }
      ]
    },
    {
      "cell_type": "code",
      "metadata": {
        "id": "lx8-OXznHRWs",
        "outputId": "901e72ab-986e-4d3e-c845-9194768e66ca",
        "colab": {
          "base_uri": "https://localhost:8080/",
          "height": 89
        }
      },
      "source": [
        "str(html)"
      ],
      "execution_count": 6,
      "outputs": [
        {
          "output_type": "stream",
          "text": [
            "List of 2\n",
            " $ node:<externalptr> \n",
            " $ doc :<externalptr> \n",
            " - attr(*, \"class\")= chr [1:2] \"xml_document\" \"xml_node\"\n"
          ],
          "name": "stdout"
        }
      ]
    },
    {
      "cell_type": "code",
      "metadata": {
        "id": "0Ue2D2IpLBbV",
        "outputId": "e32bc7c9-4205-4e11-ae72-a6e56f9a586d",
        "colab": {
          "base_uri": "https://localhost:8080/",
          "height": 395
        }
      },
      "source": [
        "# html tag명칭이나 class명을 기준으로 도서제목울 추출함\n",
        "# html_nodes(대상, css선택자)\n",
        "titles <- html_nodes(html,'p.book_tit')\n",
        "titles"
      ],
      "execution_count": 26,
      "outputs": [
        {
          "output_type": "display_data",
          "data": {
            "text/plain": [
              "{xml_nodeset (20)}\n",
              " [1] <p class=\"book_tit\"><a href=\"/store/books/look.php?p_code=B3288968452\">키 ...\n",
              " [2] <p class=\"book_tit\"><a href=\"/store/books/look.php?p_code=B7300646309\">3 ...\n",
              " [3] <p class=\"book_tit\"><a href=\"/store/books/look.php?p_code=B5185092614\">성 ...\n",
              " [4] <p class=\"book_tit\"><a href=\"/store/books/look.php?p_code=B4126745554\">북 ...\n",
              " [5] <p class=\"book_tit\"><a href=\"/store/books/look.php?p_code=B7269609529\">나 ...\n",
              " [6] <p class=\"book_tit\"><a href=\"/store/books/look.php?p_code=B8144473464\">만 ...\n",
              " [7] <p class=\"book_tit\"><a href=\"/store/books/look.php?p_code=B1303121763\">부 ...\n",
              " [8] <p class=\"book_tit\"><a href=\"/store/books/look.php?p_code=B9696096335\">쉽 ...\n",
              " [9] <p class=\"book_tit\"><a href=\"/store/books/look.php?p_code=B5654500071\">웹 ...\n",
              "[10] <p class=\"book_tit\"><a href=\"/store/books/look.php?p_code=B4595034178\">파 ...\n",
              "[11] <p class=\"book_tit\"><a href=\"/store/books/look.php?p_code=B4792640793\">초 ...\n",
              "[12] <p class=\"book_tit\"><a href=\"/store/books/look.php?p_code=B2916452728\">분 ...\n",
              "[13] <p class=\"book_tit\"><a href=\"/store/books/look.php?p_code=B8764310258\">재 ...\n",
              "[14] <p class=\"book_tit\"><a href=\"/store/books/look.php?p_code=B2172775594\">회 ...\n",
              "[15] <p class=\"book_tit\"><a href=\"/store/books/look.php?p_code=B6503201303\">I ...\n",
              "[16] <p class=\"book_tit\"><a href=\"/store/books/look.php?p_code=B9058586817\">나 ...\n",
              "[17] <p class=\"book_tit\"><a href=\"/store/books/look.php?p_code=B3137824436\">G ...\n",
              "[18] <p class=\"book_tit\"><a href=\"/store/books/look.php?p_code=B2728411076\">재 ...\n",
              "[19] <p class=\"book_tit\"><a href=\"/store/books/look.php?p_code=B1967812795\">재 ...\n",
              "[20] <p class=\"book_tit\"><a href=\"/store/books/look.php?p_code=B8115627505\">만 ..."
            ]
          },
          "metadata": {
            "tags": []
          }
        }
      ]
    },
    {
      "cell_type": "code",
      "metadata": {
        "id": "TWyPppANMN3i",
        "outputId": "67de51fa-17ba-45aa-d404-ed0de36605dd",
        "colab": {
          "base_uri": "https://localhost:8080/",
          "height": 119
        }
      },
      "source": [
        "# 추출한 태그들과 테스트 중 태그들은 모두 제거하고 테스트만 남겨둠\n",
        "# html_text(대상)\n",
        "title <- html_text(titles)\n",
        "title"
      ],
      "execution_count": 27,
      "outputs": [
        {
          "output_type": "display_data",
          "data": {
            "text/plain": [
              " [1] \"키워드 검색량 조회 전략으로 조회수와 방문자 늘리기 네이버 블로그&포스트 만들기\"                             \n",
              " [2] \"3분 엑셀 누구나 아는 나만 모르는 IT 이성원 강사의 : 28만 구독자 누나 IT 유튜브 채널의 엑셀 왕초보 탈출 강의\"\n",
              " [3] \"성공 원칙 - PRINCIPLES FOR SUCCESS\"                                                                         \n",
              " [4] \"북킷리스트\"                                                                                                 \n",
              " [5] \"나는 꼭 필요한 것만 남기기로 했다\"                                                                          \n",
              " [6] \"만들면서 배우는 픽셀 아트\"                                                                                  \n",
              " [7] \"부의 원칙\"                                                                                                  \n",
              " [8] \"쉽게 배워 바로 써먹는 디자인 패턴\"                                                                          \n",
              " [9] \"웹어셈블리 인 액션\"                                                                                         \n",
              "[10] \"파이썬과 대스크를 활용한 고성능 데이터 분석\"                                                                \n",
              "[11] \"초보자를 위한 언리얼 엔진 4 입문\"                                                                           \n",
              "[12] \"분산원장 기술\"                                                                                              \n",
              "[13] \"재미있고 빠른 한글 쓰기 3권 : 교과서 쉬운 낱말\"                                                             \n",
              "[14] \"회사에서 바로 통하는 3ds Max + V-Ray\"                                                                       \n",
              "[15] \"IT CookBook, 액세스 2019로 배우는 데이터베이스 기초와 실습\"                                                 \n",
              "[16] \"나도 초록 식물 잘 키우면 소원이 없겠네\"                                                                     \n",
              "[17] \"GAN 인 액션\"                                                                                                \n",
              "[18] \"재미있고 빠른 어휘력 동화 – 많다의 반대가 뭐야?\"                                                            \n",
              "[19] \"재미있고 빠른 어휘력 동화 – 아지랑이가 뭐야?\"                                                               \n",
              "[20] \"만화로 보는 바빌론 부자들의 돈 버는 지혜\"                                                                   "
            ],
            "text/latex": "\\begin{enumerate*}\n\\item '키워드 검색량 조회 전략으로 조회수와 방문자 늘리기 네이버 블로그\\&포스트 만들기'\n\\item '3분 엑셀 누구나 아는 나만 모르는 IT 이성원 강사의 : 28만 구독자 누나 IT 유튜브 채널의 엑셀 왕초보 탈출 강의'\n\\item '성공 원칙 - PRINCIPLES FOR SUCCESS'\n\\item '북킷리스트'\n\\item '나는 꼭 필요한 것만 남기기로 했다'\n\\item '만들면서 배우는 픽셀 아트'\n\\item '부의 원칙'\n\\item '쉽게 배워 바로 써먹는 디자인 패턴'\n\\item '웹어셈블리 인 액션'\n\\item '파이썬과 대스크를 활용한 고성능 데이터 분석'\n\\item '초보자를 위한 언리얼 엔진 4 입문'\n\\item '분산원장 기술'\n\\item '재미있고 빠른 한글 쓰기 3권 : 교과서 쉬운 낱말'\n\\item '회사에서 바로 통하는 3ds Max + V-Ray'\n\\item 'IT CookBook, 액세스 2019로 배우는 데이터베이스 기초와 실습'\n\\item '나도 초록 식물 잘 키우면 소원이 없겠네'\n\\item 'GAN 인 액션'\n\\item '재미있고 빠른 어휘력 동화 – 많다의 반대가 뭐야?'\n\\item '재미있고 빠른 어휘력 동화 – 아지랑이가 뭐야?'\n\\item '만화로 보는 바빌론 부자들의 돈 버는 지혜'\n\\end{enumerate*}\n",
            "text/markdown": "1. '키워드 검색량 조회 전략으로 조회수와 방문자 늘리기 네이버 블로그&amp;포스트 만들기'\n2. '3분 엑셀 누구나 아는 나만 모르는 IT 이성원 강사의 : 28만 구독자 누나 IT 유튜브 채널의 엑셀 왕초보 탈출 강의'\n3. '성공 원칙 - PRINCIPLES FOR SUCCESS'\n4. '북킷리스트'\n5. '나는 꼭 필요한 것만 남기기로 했다'\n6. '만들면서 배우는 픽셀 아트'\n7. '부의 원칙'\n8. '쉽게 배워 바로 써먹는 디자인 패턴'\n9. '웹어셈블리 인 액션'\n10. '파이썬과 대스크를 활용한 고성능 데이터 분석'\n11. '초보자를 위한 언리얼 엔진 4 입문'\n12. '분산원장 기술'\n13. '재미있고 빠른 한글 쓰기 3권 : 교과서 쉬운 낱말'\n14. '회사에서 바로 통하는 3ds Max + V-Ray'\n15. 'IT CookBook, 액세스 2019로 배우는 데이터베이스 기초와 실습'\n16. '나도 초록 식물 잘 키우면 소원이 없겠네'\n17. 'GAN 인 액션'\n18. '재미있고 빠른 어휘력 동화 – 많다의 반대가 뭐야?'\n19. '재미있고 빠른 어휘력 동화 – 아지랑이가 뭐야?'\n20. '만화로 보는 바빌론 부자들의 돈 버는 지혜'\n\n\n",
            "text/html": [
              "<style>\n",
              ".list-inline {list-style: none; margin:0; padding: 0}\n",
              ".list-inline>li {display: inline-block}\n",
              ".list-inline>li:not(:last-child)::after {content: \"\\00b7\"; padding: 0 .5ex}\n",
              "</style>\n",
              "<ol class=list-inline><li>'키워드 검색량 조회 전략으로 조회수와 방문자 늘리기 네이버 블로그&amp;포스트 만들기'</li><li>'3분 엑셀 누구나 아는 나만 모르는 IT 이성원 강사의 : 28만 구독자 누나 IT 유튜브 채널의 엑셀 왕초보 탈출 강의'</li><li>'성공 원칙 - PRINCIPLES FOR SUCCESS'</li><li>'북킷리스트'</li><li>'나는 꼭 필요한 것만 남기기로 했다'</li><li>'만들면서 배우는 픽셀 아트'</li><li>'부의 원칙'</li><li>'쉽게 배워 바로 써먹는 디자인 패턴'</li><li>'웹어셈블리 인 액션'</li><li>'파이썬과 대스크를 활용한 고성능 데이터 분석'</li><li>'초보자를 위한 언리얼 엔진 4 입문'</li><li>'분산원장 기술'</li><li>'재미있고 빠른 한글 쓰기 3권 : 교과서 쉬운 낱말'</li><li>'회사에서 바로 통하는 3ds Max + V-Ray'</li><li>'IT CookBook, 액세스 2019로 배우는 데이터베이스 기초와 실습'</li><li>'나도 초록 식물 잘 키우면 소원이 없겠네'</li><li>'GAN 인 액션'</li><li>'재미있고 빠른 어휘력 동화 – 많다의 반대가 뭐야?'</li><li>'재미있고 빠른 어휘력 동화 – 아지랑이가 뭐야?'</li><li>'만화로 보는 바빌론 부자들의 돈 버는 지혜'</li></ol>\n"
            ]
          },
          "metadata": {
            "tags": []
          }
        }
      ]
    },
    {
      "cell_type": "code",
      "metadata": {
        "id": "_ww9V17aMpf5",
        "outputId": "ce135325-509f-4bab-e9e9-f735863aef7e",
        "colab": {
          "base_uri": "https://localhost:8080/",
          "height": 395
        }
      },
      "source": [
        "writers <- html_nodes(html,'p.book_writer')\n",
        "writers"
      ],
      "execution_count": 28,
      "outputs": [
        {
          "output_type": "display_data",
          "data": {
            "text/plain": [
              "{xml_nodeset (20)}\n",
              " [1] <p class=\"book_writer\">정진수 </p>\n",
              " [2] <p class=\"book_writer\">이성원 </p>\n",
              " [3] <p class=\"book_writer\">레이 달리오(Ray Dalio) </p>\n",
              " [4] <p class=\"book_writer\">홍지해 , 김나영 , 김문주 , 정윤서 </p>\n",
              " [5] <p class=\"book_writer\">조안 타탐 </p>\n",
              " [6] <p class=\"book_writer\">김윤정 </p>\n",
              " [7] <p class=\"book_writer\">래리 하이트 </p>\n",
              " [8] <p class=\"book_writer\">이호진 </p>\n",
              " [9] <p class=\"book_writer\">제러드 갤런트 </p>\n",
              "[10] <p class=\"book_writer\">제시 대니얼 </p>\n",
              "[11] <p class=\"book_writer\">아라카와 다쿠야 </p>\n",
              "[12] <p class=\"book_writer\">로저 워튼호퍼 </p>\n",
              "[13] <p class=\"book_writer\">한빛에듀 편집부 </p>\n",
              "[14] <p class=\"book_writer\">강석창 </p>\n",
              "[15] <p class=\"book_writer\">김지연 </p>\n",
              "[16] <p class=\"book_writer\">허성하(폭스더그린) </p>\n",
              "[17] <p class=\"book_writer\">야쿠프 란그르 , 블라디미르 보크 </p>\n",
              "[18] <p class=\"book_writer\">윤선아 , 김도윤(그림) </p>\n",
              "[19] <p class=\"book_writer\">송승주 , 박선호(그림) </p>\n",
              "[20] <p class=\"book_writer\">조지 S. 클래이슨 , 사카노 아사히(만화) , 오하시 코스케(기획, 각본) </p>"
            ]
          },
          "metadata": {
            "tags": []
          }
        }
      ]
    },
    {
      "cell_type": "code",
      "metadata": {
        "id": "nXVG3-ACNAqM",
        "outputId": "1d43da69-7d63-4d20-c91c-1b57b9c7d9f2",
        "colab": {
          "base_uri": "https://localhost:8080/",
          "height": 68
        }
      },
      "source": [
        "writer <- html_text(writers)\n",
        "writer"
      ],
      "execution_count": 29,
      "outputs": [
        {
          "output_type": "display_data",
          "data": {
            "text/plain": [
              " [1] \"정진수 \"                                                            \n",
              " [2] \"이성원 \"                                                            \n",
              " [3] \"레이 달리오(Ray Dalio) \"                                            \n",
              " [4] \"홍지해 , 김나영 , 김문주 , 정윤서 \"                                 \n",
              " [5] \"조안 타탐 \"                                                         \n",
              " [6] \"김윤정 \"                                                            \n",
              " [7] \"래리 하이트 \"                                                       \n",
              " [8] \"이호진 \"                                                            \n",
              " [9] \"제러드 갤런트 \"                                                     \n",
              "[10] \"제시 대니얼 \"                                                       \n",
              "[11] \"아라카와 다쿠야 \"                                                   \n",
              "[12] \"로저 워튼호퍼 \"                                                     \n",
              "[13] \"한빛에듀 편집부 \"                                                   \n",
              "[14] \"강석창 \"                                                            \n",
              "[15] \"김지연 \"                                                            \n",
              "[16] \"허성하(폭스더그린) \"                                                \n",
              "[17] \"야쿠프 란그르 , 블라디미르 보크 \"                                   \n",
              "[18] \"윤선아 , 김도윤(그림) \"                                             \n",
              "[19] \"송승주 , 박선호(그림) \"                                             \n",
              "[20] \"조지 S. 클래이슨 , 사카노 아사히(만화) , 오하시 코스케(기획, 각본) \""
            ],
            "text/latex": "\\begin{enumerate*}\n\\item '정진수 '\n\\item '이성원 '\n\\item '레이 달리오(Ray Dalio) '\n\\item '홍지해 , 김나영 , 김문주 , 정윤서 '\n\\item '조안 타탐 '\n\\item '김윤정 '\n\\item '래리 하이트 '\n\\item '이호진 '\n\\item '제러드 갤런트 '\n\\item '제시 대니얼 '\n\\item '아라카와 다쿠야 '\n\\item '로저 워튼호퍼 '\n\\item '한빛에듀 편집부 '\n\\item '강석창 '\n\\item '김지연 '\n\\item '허성하(폭스더그린) '\n\\item '야쿠프 란그르 , 블라디미르 보크 '\n\\item '윤선아 , 김도윤(그림) '\n\\item '송승주 , 박선호(그림) '\n\\item '조지 S. 클래이슨 , 사카노 아사히(만화) , 오하시 코스케(기획, 각본) '\n\\end{enumerate*}\n",
            "text/markdown": "1. '정진수 '\n2. '이성원 '\n3. '레이 달리오(Ray Dalio) '\n4. '홍지해 , 김나영 , 김문주 , 정윤서 '\n5. '조안 타탐 '\n6. '김윤정 '\n7. '래리 하이트 '\n8. '이호진 '\n9. '제러드 갤런트 '\n10. '제시 대니얼 '\n11. '아라카와 다쿠야 '\n12. '로저 워튼호퍼 '\n13. '한빛에듀 편집부 '\n14. '강석창 '\n15. '김지연 '\n16. '허성하(폭스더그린) '\n17. '야쿠프 란그르 , 블라디미르 보크 '\n18. '윤선아 , 김도윤(그림) '\n19. '송승주 , 박선호(그림) '\n20. '조지 S. 클래이슨 , 사카노 아사히(만화) , 오하시 코스케(기획, 각본) '\n\n\n",
            "text/html": [
              "<style>\n",
              ".list-inline {list-style: none; margin:0; padding: 0}\n",
              ".list-inline>li {display: inline-block}\n",
              ".list-inline>li:not(:last-child)::after {content: \"\\00b7\"; padding: 0 .5ex}\n",
              "</style>\n",
              "<ol class=list-inline><li>'정진수 '</li><li>'이성원 '</li><li>'레이 달리오(Ray Dalio) '</li><li>'홍지해 , 김나영 , 김문주 , 정윤서 '</li><li>'조안 타탐 '</li><li>'김윤정 '</li><li>'래리 하이트 '</li><li>'이호진 '</li><li>'제러드 갤런트 '</li><li>'제시 대니얼 '</li><li>'아라카와 다쿠야 '</li><li>'로저 워튼호퍼 '</li><li>'한빛에듀 편집부 '</li><li>'강석창 '</li><li>'김지연 '</li><li>'허성하(폭스더그린) '</li><li>'야쿠프 란그르 , 블라디미르 보크 '</li><li>'윤선아 , 김도윤(그림) '</li><li>'송승주 , 박선호(그림) '</li><li>'조지 S. 클래이슨 , 사카노 아사히(만화) , 오하시 코스케(기획, 각본) '</li></ol>\n"
            ]
          },
          "metadata": {
            "tags": []
          }
        }
      ]
    },
    {
      "cell_type": "code",
      "metadata": {
        "id": "Tgdf0m6_NKYB",
        "outputId": "030d9c60-0295-427c-e4ec-047f609428c2",
        "colab": {
          "base_uri": "https://localhost:8080/",
          "height": 395
        }
      },
      "source": [
        "prices <- html_nodes(html,'span.price')\n",
        "prices"
      ],
      "execution_count": 30,
      "outputs": [
        {
          "output_type": "display_data",
          "data": {
            "text/plain": [
              "{xml_nodeset (20)}\n",
              " [1] <span class=\"price\">12,600<span>원</span></span>\n",
              " [2] <span class=\"price\">14,400<span>원</span></span>\n",
              " [3] <span class=\"price\">13,500<span>원</span></span>\n",
              " [4] <span class=\"price\">15,300<span>원</span></span>\n",
              " [5] <span class=\"price\">12,150<span>원</span></span>\n",
              " [6] <span class=\"price\">25,200<span>원</span></span>\n",
              " [7] <span class=\"price\">16,200<span>원</span></span>\n",
              " [8] <span class=\"price\">31,500<span>원</span></span>\n",
              " [9] <span class=\"price\">34,200<span>원</span></span>\n",
              "[10] <span class=\"price\">25,200<span>원</span></span>\n",
              "[11] <span class=\"price\">31,500<span>원</span></span>\n",
              "[12] <span class=\"price\">19,800<span>원</span></span>\n",
              "[13] <span class=\"price\">7,650<span>원</span></span>\n",
              "[14] <span class=\"price\">37,800<span>원</span></span>\n",
              "[15] <span class=\"price\">28,000<span>원</span></span>\n",
              "[16] <span class=\"price\">14,220<span>원</span></span>\n",
              "[17] <span class=\"price\">27,000<span>원</span></span>\n",
              "[18] <span class=\"price\">10,800<span>원</span></span>\n",
              "[19] <span class=\"price\">10,800<span>원</span></span>\n",
              "[20] <span class=\"price\">14,400<span>원</span></span>"
            ]
          },
          "metadata": {
            "tags": []
          }
        }
      ]
    },
    {
      "cell_type": "code",
      "metadata": {
        "id": "ct4suvZIN22B",
        "outputId": "a375a7eb-1f2a-4035-9555-45ad36f5d76d",
        "colab": {
          "base_uri": "https://localhost:8080/",
          "height": 51
        }
      },
      "source": [
        "price <- html_text(prices)\n",
        "price"
      ],
      "execution_count": 31,
      "outputs": [
        {
          "output_type": "display_data",
          "data": {
            "text/plain": [
              " [1] \"12,600원\" \"14,400원\" \"13,500원\" \"15,300원\" \"12,150원\" \"25,200원\"\n",
              " [7] \"16,200원\" \"31,500원\" \"34,200원\" \"25,200원\" \"31,500원\" \"19,800원\"\n",
              "[13] \"7,650원\"  \"37,800원\" \"28,000원\" \"14,220원\" \"27,000원\" \"10,800원\"\n",
              "[19] \"10,800원\" \"14,400원\""
            ],
            "text/latex": "\\begin{enumerate*}\n\\item '12,600원'\n\\item '14,400원'\n\\item '13,500원'\n\\item '15,300원'\n\\item '12,150원'\n\\item '25,200원'\n\\item '16,200원'\n\\item '31,500원'\n\\item '34,200원'\n\\item '25,200원'\n\\item '31,500원'\n\\item '19,800원'\n\\item '7,650원'\n\\item '37,800원'\n\\item '28,000원'\n\\item '14,220원'\n\\item '27,000원'\n\\item '10,800원'\n\\item '10,800원'\n\\item '14,400원'\n\\end{enumerate*}\n",
            "text/markdown": "1. '12,600원'\n2. '14,400원'\n3. '13,500원'\n4. '15,300원'\n5. '12,150원'\n6. '25,200원'\n7. '16,200원'\n8. '31,500원'\n9. '34,200원'\n10. '25,200원'\n11. '31,500원'\n12. '19,800원'\n13. '7,650원'\n14. '37,800원'\n15. '28,000원'\n16. '14,220원'\n17. '27,000원'\n18. '10,800원'\n19. '10,800원'\n20. '14,400원'\n\n\n",
            "text/html": [
              "<style>\n",
              ".list-inline {list-style: none; margin:0; padding: 0}\n",
              ".list-inline>li {display: inline-block}\n",
              ".list-inline>li:not(:last-child)::after {content: \"\\00b7\"; padding: 0 .5ex}\n",
              "</style>\n",
              "<ol class=list-inline><li>'12,600원'</li><li>'14,400원'</li><li>'13,500원'</li><li>'15,300원'</li><li>'12,150원'</li><li>'25,200원'</li><li>'16,200원'</li><li>'31,500원'</li><li>'34,200원'</li><li>'25,200원'</li><li>'31,500원'</li><li>'19,800원'</li><li>'7,650원'</li><li>'37,800원'</li><li>'28,000원'</li><li>'14,220원'</li><li>'27,000원'</li><li>'10,800원'</li><li>'10,800원'</li><li>'14,400원'</li></ol>\n"
            ]
          },
          "metadata": {
            "tags": []
          }
        }
      ]
    },
    {
      "cell_type": "code",
      "metadata": {
        "id": "JFNv8N97PLfz",
        "outputId": "90dceb9b-bdbc-48c7-d735-979972851814",
        "colab": {
          "base_uri": "https://localhost:8080/",
          "height": 68
        }
      },
      "source": [
        "length(title)\n",
        "length(writer)\n",
        "length(price)"
      ],
      "execution_count": 32,
      "outputs": [
        {
          "output_type": "display_data",
          "data": {
            "text/plain": [
              "[1] 20"
            ],
            "text/latex": "20",
            "text/markdown": "20",
            "text/html": [
              "20"
            ]
          },
          "metadata": {
            "tags": []
          }
        },
        {
          "output_type": "display_data",
          "data": {
            "text/plain": [
              "[1] 20"
            ],
            "text/latex": "20",
            "text/markdown": "20",
            "text/html": [
              "20"
            ]
          },
          "metadata": {
            "tags": []
          }
        },
        {
          "output_type": "display_data",
          "data": {
            "text/plain": [
              "[1] 20"
            ],
            "text/latex": "20",
            "text/markdown": "20",
            "text/html": [
              "20"
            ]
          },
          "metadata": {
            "tags": []
          }
        }
      ]
    },
    {
      "cell_type": "code",
      "metadata": {
        "id": "Lq_R0MgLN99k",
        "outputId": "4625759c-b7a2-4521-8e60-2646fd79f1a7",
        "colab": {
          "base_uri": "https://localhost:8080/",
          "height": 498
        }
      },
      "source": [
        "# 추출된 데이터를 데이터 프레임으로 합치고, csv로 저장\n",
        "bookinfo <- data.frame(title, writer, price, stringsAsFactors = F)\n",
        "bookinfo"
      ],
      "execution_count": 79,
      "outputs": [
        {
          "output_type": "display_data",
          "data": {
            "text/plain": [
              "   title                                                                                                                                                                                                            \n",
              "1  \\n                                    \\n                                        정부·여야, ‘야스쿠니 봉납’ 스가 한목소리 비판 “깊은 유감”\\n                                    \\n                                \n",
              "2  \\n                                    \\n                                        로비 물증 찾아라…옵티머스 수사팀, 주말 압수물 분석 주력\\n                                    \\n                                  \n",
              "3  \\n                                    \\n                                        프랑스 교사 참수 부른 '언론의 자유' 수업\\n                                    \\n                                                 \n",
              "4  \\n                                    \\n                                        서아프리카서 납치됐던 한국인 선원 2명, 50일 만에 석방\\n                                    \\n                                    \n",
              "5  \\n                                    \\n                                        '성폭행 무혐의 처분' 박진성 \"손석희는 지금 어떤 기분일까\"\\n                                    \\n                                \n",
              "6  \\n                                    \\n                                        정부·여야, ‘야스쿠니 봉납’ 스가 한목소리 비판 “깊은 유감”\\n                                    \\n                                \n",
              "7  \\n                                    \\n                                        로비 물증 찾아라…옵티머스 수사팀, 주말 압수물 분석 주력\\n                                    \\n                                  \n",
              "8  \\n                                    \\n                                        프랑스 교사 참수 부른 '언론의 자유' 수업\\n                                    \\n                                                 \n",
              "9  \\n                                    \\n                                        서아프리카서 납치됐던 한국인 선원 2명, 50일 만에 석방\\n                                    \\n                                    \n",
              "10 \\n                                    \\n                                        '성폭행 무혐의 처분' 박진성 \"손석희는 지금 어떤 기분일까\"\\n                                    \\n                                \n",
              "11 \\n                                    \\n                                        정부·여야, ‘야스쿠니 봉납’ 스가 한목소리 비판 “깊은 유감”\\n                                    \\n                                \n",
              "12 \\n                                    \\n                                        로비 물증 찾아라…옵티머스 수사팀, 주말 압수물 분석 주력\\n                                    \\n                                  \n",
              "13 \\n                                    \\n                                        프랑스 교사 참수 부른 '언론의 자유' 수업\\n                                    \\n                                                 \n",
              "14 \\n                                    \\n                                        서아프리카서 납치됐던 한국인 선원 2명, 50일 만에 석방\\n                                    \\n                                    \n",
              "15 \\n                                    \\n                                        '성폭행 무혐의 처분' 박진성 \"손석희는 지금 어떤 기분일까\"\\n                                    \\n                                \n",
              "16 \\n                                    \\n                                        정부·여야, ‘야스쿠니 봉납’ 스가 한목소리 비판 “깊은 유감”\\n                                    \\n                                \n",
              "17 \\n                                    \\n                                        로비 물증 찾아라…옵티머스 수사팀, 주말 압수물 분석 주력\\n                                    \\n                                  \n",
              "18 \\n                                    \\n                                        프랑스 교사 참수 부른 '언론의 자유' 수업\\n                                    \\n                                                 \n",
              "19 \\n                                    \\n                                        서아프리카서 납치됐던 한국인 선원 2명, 50일 만에 석방\\n                                    \\n                                    \n",
              "20 \\n                                    \\n                                        '성폭행 무혐의 처분' 박진성 \"손석희는 지금 어떤 기분일까\"\\n                                    \\n                                \n",
              "   writer                                                              price   \n",
              "1  정진수                                                              12,600원\n",
              "2  이성원                                                              14,400원\n",
              "3  레이 달리오(Ray Dalio)                                              13,500원\n",
              "4  홍지해 , 김나영 , 김문주 , 정윤서                                   15,300원\n",
              "5  조안 타탐                                                           12,150원\n",
              "6  김윤정                                                              25,200원\n",
              "7  래리 하이트                                                         16,200원\n",
              "8  이호진                                                              31,500원\n",
              "9  제러드 갤런트                                                       34,200원\n",
              "10 제시 대니얼                                                         25,200원\n",
              "11 아라카와 다쿠야                                                     31,500원\n",
              "12 로저 워튼호퍼                                                       19,800원\n",
              "13 한빛에듀 편집부                                                     7,650원 \n",
              "14 강석창                                                              37,800원\n",
              "15 김지연                                                              28,000원\n",
              "16 허성하(폭스더그린)                                                  14,220원\n",
              "17 야쿠프 란그르 , 블라디미르 보크                                     27,000원\n",
              "18 윤선아 , 김도윤(그림)                                               10,800원\n",
              "19 송승주 , 박선호(그림)                                               10,800원\n",
              "20 조지 S. 클래이슨 , 사카노 아사히(만화) , 오하시 코스케(기획, 각본)  14,400원"
            ],
            "text/latex": "A data.frame: 20 × 3\n\\begin{tabular}{lll}\n title & writer & price\\\\\n <chr> & <chr> & <chr>\\\\\n\\hline\n\t \n                                    \n                                        정부·여야, ‘야스쿠니 봉납’ 스가 한목소리 비판 “깊은 유감”\n                                    \n                                 & 정진수                                                              & 12,600원\\\\\n\t \n                                    \n                                        로비 물증 찾아라…옵티머스 수사팀, 주말 압수물 분석 주력\n                                    \n                                   & 이성원                                                              & 14,400원\\\\\n\t \n                                    \n                                        프랑스 교사 참수 부른 '언론의 자유' 수업\n                                    \n                                                  & 레이 달리오(Ray Dalio)                                              & 13,500원\\\\\n\t \n                                    \n                                        서아프리카서 납치됐던 한국인 선원 2명, 50일 만에 석방\n                                    \n                                     & 홍지해 , 김나영 , 김문주 , 정윤서                                   & 15,300원\\\\\n\t \n                                    \n                                        '성폭행 무혐의 처분' 박진성 \"손석희는 지금 어떤 기분일까\"\n                                    \n                                 & 조안 타탐                                                           & 12,150원\\\\\n\t \n                                    \n                                        정부·여야, ‘야스쿠니 봉납’ 스가 한목소리 비판 “깊은 유감”\n                                    \n                                 & 김윤정                                                              & 25,200원\\\\\n\t \n                                    \n                                        로비 물증 찾아라…옵티머스 수사팀, 주말 압수물 분석 주력\n                                    \n                                   & 래리 하이트                                                         & 16,200원\\\\\n\t \n                                    \n                                        프랑스 교사 참수 부른 '언론의 자유' 수업\n                                    \n                                                  & 이호진                                                              & 31,500원\\\\\n\t \n                                    \n                                        서아프리카서 납치됐던 한국인 선원 2명, 50일 만에 석방\n                                    \n                                     & 제러드 갤런트                                                       & 34,200원\\\\\n\t \n                                    \n                                        '성폭행 무혐의 처분' 박진성 \"손석희는 지금 어떤 기분일까\"\n                                    \n                                 & 제시 대니얼                                                         & 25,200원\\\\\n\t \n                                    \n                                        정부·여야, ‘야스쿠니 봉납’ 스가 한목소리 비판 “깊은 유감”\n                                    \n                                 & 아라카와 다쿠야                                                     & 31,500원\\\\\n\t \n                                    \n                                        로비 물증 찾아라…옵티머스 수사팀, 주말 압수물 분석 주력\n                                    \n                                   & 로저 워튼호퍼                                                       & 19,800원\\\\\n\t \n                                    \n                                        프랑스 교사 참수 부른 '언론의 자유' 수업\n                                    \n                                                  & 한빛에듀 편집부                                                     & 7,650원 \\\\\n\t \n                                    \n                                        서아프리카서 납치됐던 한국인 선원 2명, 50일 만에 석방\n                                    \n                                     & 강석창                                                              & 37,800원\\\\\n\t \n                                    \n                                        '성폭행 무혐의 처분' 박진성 \"손석희는 지금 어떤 기분일까\"\n                                    \n                                 & 김지연                                                              & 28,000원\\\\\n\t \n                                    \n                                        정부·여야, ‘야스쿠니 봉납’ 스가 한목소리 비판 “깊은 유감”\n                                    \n                                 & 허성하(폭스더그린)                                                  & 14,220원\\\\\n\t \n                                    \n                                        로비 물증 찾아라…옵티머스 수사팀, 주말 압수물 분석 주력\n                                    \n                                   & 야쿠프 란그르 , 블라디미르 보크                                     & 27,000원\\\\\n\t \n                                    \n                                        프랑스 교사 참수 부른 '언론의 자유' 수업\n                                    \n                                                  & 윤선아 , 김도윤(그림)                                               & 10,800원\\\\\n\t \n                                    \n                                        서아프리카서 납치됐던 한국인 선원 2명, 50일 만에 석방\n                                    \n                                     & 송승주 , 박선호(그림)                                               & 10,800원\\\\\n\t \n                                    \n                                        '성폭행 무혐의 처분' 박진성 \"손석희는 지금 어떤 기분일까\"\n                                    \n                                 & 조지 S. 클래이슨 , 사카노 아사히(만화) , 오하시 코스케(기획, 각본)  & 14,400원\\\\\n\\end{tabular}\n",
            "text/markdown": "\nA data.frame: 20 × 3\n\n| title &lt;chr&gt; | writer &lt;chr&gt; | price &lt;chr&gt; |\n|---|---|---|\n| \n                                    \n                                        정부·여야, ‘야스쿠니 봉납’ 스가 한목소리 비판 “깊은 유감”\n                                    \n                                 | 정진수                                                              | 12,600원 |\n| \n                                    \n                                        로비 물증 찾아라…옵티머스 수사팀, 주말 압수물 분석 주력\n                                    \n                                   | 이성원                                                              | 14,400원 |\n| \n                                    \n                                        프랑스 교사 참수 부른 '언론의 자유' 수업\n                                    \n                                                  | 레이 달리오(Ray Dalio)                                              | 13,500원 |\n| \n                                    \n                                        서아프리카서 납치됐던 한국인 선원 2명, 50일 만에 석방\n                                    \n                                     | 홍지해 , 김나영 , 김문주 , 정윤서                                   | 15,300원 |\n| \n                                    \n                                        '성폭행 무혐의 처분' 박진성 \"손석희는 지금 어떤 기분일까\"\n                                    \n                                 | 조안 타탐                                                           | 12,150원 |\n| \n                                    \n                                        정부·여야, ‘야스쿠니 봉납’ 스가 한목소리 비판 “깊은 유감”\n                                    \n                                 | 김윤정                                                              | 25,200원 |\n| \n                                    \n                                        로비 물증 찾아라…옵티머스 수사팀, 주말 압수물 분석 주력\n                                    \n                                   | 래리 하이트                                                         | 16,200원 |\n| \n                                    \n                                        프랑스 교사 참수 부른 '언론의 자유' 수업\n                                    \n                                                  | 이호진                                                              | 31,500원 |\n| \n                                    \n                                        서아프리카서 납치됐던 한국인 선원 2명, 50일 만에 석방\n                                    \n                                     | 제러드 갤런트                                                       | 34,200원 |\n| \n                                    \n                                        '성폭행 무혐의 처분' 박진성 \"손석희는 지금 어떤 기분일까\"\n                                    \n                                 | 제시 대니얼                                                         | 25,200원 |\n| \n                                    \n                                        정부·여야, ‘야스쿠니 봉납’ 스가 한목소리 비판 “깊은 유감”\n                                    \n                                 | 아라카와 다쿠야                                                     | 31,500원 |\n| \n                                    \n                                        로비 물증 찾아라…옵티머스 수사팀, 주말 압수물 분석 주력\n                                    \n                                   | 로저 워튼호퍼                                                       | 19,800원 |\n| \n                                    \n                                        프랑스 교사 참수 부른 '언론의 자유' 수업\n                                    \n                                                  | 한빛에듀 편집부                                                     | 7,650원  |\n| \n                                    \n                                        서아프리카서 납치됐던 한국인 선원 2명, 50일 만에 석방\n                                    \n                                     | 강석창                                                              | 37,800원 |\n| \n                                    \n                                        '성폭행 무혐의 처분' 박진성 \"손석희는 지금 어떤 기분일까\"\n                                    \n                                 | 김지연                                                              | 28,000원 |\n| \n                                    \n                                        정부·여야, ‘야스쿠니 봉납’ 스가 한목소리 비판 “깊은 유감”\n                                    \n                                 | 허성하(폭스더그린)                                                  | 14,220원 |\n| \n                                    \n                                        로비 물증 찾아라…옵티머스 수사팀, 주말 압수물 분석 주력\n                                    \n                                   | 야쿠프 란그르 , 블라디미르 보크                                     | 27,000원 |\n| \n                                    \n                                        프랑스 교사 참수 부른 '언론의 자유' 수업\n                                    \n                                                  | 윤선아 , 김도윤(그림)                                               | 10,800원 |\n| \n                                    \n                                        서아프리카서 납치됐던 한국인 선원 2명, 50일 만에 석방\n                                    \n                                     | 송승주 , 박선호(그림)                                               | 10,800원 |\n| \n                                    \n                                        '성폭행 무혐의 처분' 박진성 \"손석희는 지금 어떤 기분일까\"\n                                    \n                                 | 조지 S. 클래이슨 , 사카노 아사히(만화) , 오하시 코스케(기획, 각본)  | 14,400원 |\n\n",
            "text/html": [
              "<table>\n",
              "<caption>A data.frame: 20 × 3</caption>\n",
              "<thead>\n",
              "\t<tr><th scope=col>title</th><th scope=col>writer</th><th scope=col>price</th></tr>\n",
              "\t<tr><th scope=col>&lt;chr&gt;</th><th scope=col>&lt;chr&gt;</th><th scope=col>&lt;chr&gt;</th></tr>\n",
              "</thead>\n",
              "<tbody>\n",
              "\t<tr><td>\n",
              "                                    \n",
              "                                        정부·여야, ‘야스쿠니 봉납’ 스가 한목소리 비판 “깊은 유감”\n",
              "                                    \n",
              "                                </td><td>정진수                                                             </td><td>12,600원</td></tr>\n",
              "\t<tr><td>\n",
              "                                    \n",
              "                                        로비 물증 찾아라…옵티머스 수사팀, 주말 압수물 분석 주력\n",
              "                                    \n",
              "                                  </td><td>이성원                                                             </td><td>14,400원</td></tr>\n",
              "\t<tr><td>\n",
              "                                    \n",
              "                                        프랑스 교사 참수 부른 '언론의 자유' 수업\n",
              "                                    \n",
              "                                                 </td><td>레이 달리오(Ray Dalio)                                             </td><td>13,500원</td></tr>\n",
              "\t<tr><td>\n",
              "                                    \n",
              "                                        서아프리카서 납치됐던 한국인 선원 2명, 50일 만에 석방\n",
              "                                    \n",
              "                                    </td><td>홍지해 , 김나영 , 김문주 , 정윤서                                  </td><td>15,300원</td></tr>\n",
              "\t<tr><td>\n",
              "                                    \n",
              "                                        '성폭행 무혐의 처분' 박진성 \"손석희는 지금 어떤 기분일까\"\n",
              "                                    \n",
              "                                </td><td>조안 타탐                                                          </td><td>12,150원</td></tr>\n",
              "\t<tr><td>\n",
              "                                    \n",
              "                                        정부·여야, ‘야스쿠니 봉납’ 스가 한목소리 비판 “깊은 유감”\n",
              "                                    \n",
              "                                </td><td>김윤정                                                             </td><td>25,200원</td></tr>\n",
              "\t<tr><td>\n",
              "                                    \n",
              "                                        로비 물증 찾아라…옵티머스 수사팀, 주말 압수물 분석 주력\n",
              "                                    \n",
              "                                  </td><td>래리 하이트                                                        </td><td>16,200원</td></tr>\n",
              "\t<tr><td>\n",
              "                                    \n",
              "                                        프랑스 교사 참수 부른 '언론의 자유' 수업\n",
              "                                    \n",
              "                                                 </td><td>이호진                                                             </td><td>31,500원</td></tr>\n",
              "\t<tr><td>\n",
              "                                    \n",
              "                                        서아프리카서 납치됐던 한국인 선원 2명, 50일 만에 석방\n",
              "                                    \n",
              "                                    </td><td>제러드 갤런트                                                      </td><td>34,200원</td></tr>\n",
              "\t<tr><td>\n",
              "                                    \n",
              "                                        '성폭행 무혐의 처분' 박진성 \"손석희는 지금 어떤 기분일까\"\n",
              "                                    \n",
              "                                </td><td>제시 대니얼                                                        </td><td>25,200원</td></tr>\n",
              "\t<tr><td>\n",
              "                                    \n",
              "                                        정부·여야, ‘야스쿠니 봉납’ 스가 한목소리 비판 “깊은 유감”\n",
              "                                    \n",
              "                                </td><td>아라카와 다쿠야                                                    </td><td>31,500원</td></tr>\n",
              "\t<tr><td>\n",
              "                                    \n",
              "                                        로비 물증 찾아라…옵티머스 수사팀, 주말 압수물 분석 주력\n",
              "                                    \n",
              "                                  </td><td>로저 워튼호퍼                                                      </td><td>19,800원</td></tr>\n",
              "\t<tr><td>\n",
              "                                    \n",
              "                                        프랑스 교사 참수 부른 '언론의 자유' 수업\n",
              "                                    \n",
              "                                                 </td><td>한빛에듀 편집부                                                    </td><td>7,650원 </td></tr>\n",
              "\t<tr><td>\n",
              "                                    \n",
              "                                        서아프리카서 납치됐던 한국인 선원 2명, 50일 만에 석방\n",
              "                                    \n",
              "                                    </td><td>강석창                                                             </td><td>37,800원</td></tr>\n",
              "\t<tr><td>\n",
              "                                    \n",
              "                                        '성폭행 무혐의 처분' 박진성 \"손석희는 지금 어떤 기분일까\"\n",
              "                                    \n",
              "                                </td><td>김지연                                                             </td><td>28,000원</td></tr>\n",
              "\t<tr><td>\n",
              "                                    \n",
              "                                        정부·여야, ‘야스쿠니 봉납’ 스가 한목소리 비판 “깊은 유감”\n",
              "                                    \n",
              "                                </td><td>허성하(폭스더그린)                                                 </td><td>14,220원</td></tr>\n",
              "\t<tr><td>\n",
              "                                    \n",
              "                                        로비 물증 찾아라…옵티머스 수사팀, 주말 압수물 분석 주력\n",
              "                                    \n",
              "                                  </td><td>야쿠프 란그르 , 블라디미르 보크                                    </td><td>27,000원</td></tr>\n",
              "\t<tr><td>\n",
              "                                    \n",
              "                                        프랑스 교사 참수 부른 '언론의 자유' 수업\n",
              "                                    \n",
              "                                                 </td><td>윤선아 , 김도윤(그림)                                              </td><td>10,800원</td></tr>\n",
              "\t<tr><td>\n",
              "                                    \n",
              "                                        서아프리카서 납치됐던 한국인 선원 2명, 50일 만에 석방\n",
              "                                    \n",
              "                                    </td><td>송승주 , 박선호(그림)                                              </td><td>10,800원</td></tr>\n",
              "\t<tr><td>\n",
              "                                    \n",
              "                                        '성폭행 무혐의 처분' 박진성 \"손석희는 지금 어떤 기분일까\"\n",
              "                                    \n",
              "                                </td><td>조지 S. 클래이슨 , 사카노 아사히(만화) , 오하시 코스케(기획, 각본) </td><td>14,400원</td></tr>\n",
              "</tbody>\n",
              "</table>\n"
            ]
          },
          "metadata": {
            "tags": []
          }
        }
      ]
    },
    {
      "cell_type": "code",
      "metadata": {
        "id": "NKkA-XR9OqtU"
      },
      "source": [
        "# 추출한 데이터를 저장하는 방법1 : csv\n",
        "write.csv(bookinfo, 'bookinfo.csv', row.names=F, fileEncoding='UTF-8')"
      ],
      "execution_count": 34,
      "outputs": []
    },
    {
      "cell_type": "code",
      "metadata": {
        "id": "yODXn0xhQ09y"
      },
      "source": [
        "# 추출한 데이터를 저장하는 방법2 : RDBMS (Oracle, MariaDB)"
      ],
      "execution_count": null,
      "outputs": []
    },
    {
      "cell_type": "markdown",
      "metadata": {
        "id": "oaa7uC8pRm_0"
      },
      "source": [
        "(실습) 네이버 뉴스의 뉴스홈 페이지의 뉴스 제목 추출해서 naver_news.csv 저장"
      ]
    },
    {
      "cell_type": "code",
      "metadata": {
        "id": "jAe7ehb-R26H"
      },
      "source": [
        "url <- 'https://news.naver.com/main/home.nhn'"
      ],
      "execution_count": 104,
      "outputs": []
    },
    {
      "cell_type": "code",
      "metadata": {
        "id": "M9nF8-EUSSdr",
        "outputId": "af3e88ed-934c-43f9-dce4-89f7116b9168",
        "colab": {
          "base_uri": "https://localhost:8080/",
          "height": 89
        }
      },
      "source": [
        "html <- read_html(url)\n",
        "html"
      ],
      "execution_count": 105,
      "outputs": [
        {
          "output_type": "display_data",
          "data": {
            "text/plain": [
              "{html_document}\n",
              "<html lang=\"ko\">\n",
              "[1] <head>\\n<meta http-equiv=\"Content-Type\" content=\"text/html; charset=UTF-8 ...\n",
              "[2] <body>\\n\\t<div id=\"wrap\">\\n\\t\\t\\n\\t\\t<div id=\"da_base\"></div>\\n\\t\\t<div i ..."
            ]
          },
          "metadata": {
            "tags": []
          }
        }
      ]
    },
    {
      "cell_type": "code",
      "metadata": {
        "id": "D_dMBeTASa5b",
        "outputId": "4534d2aa-e79b-464a-b839-61d40afb5dc4",
        "colab": {
          "base_uri": "https://localhost:8080/",
          "height": 125
        }
      },
      "source": [
        "titles <- html_nodes(html,'div.hdline_article_tit')\n",
        "titles"
      ],
      "execution_count": 106,
      "outputs": [
        {
          "output_type": "display_data",
          "data": {
            "text/plain": [
              "{xml_nodeset (5)}\n",
              "[1] <div class=\"hdline_article_tit\">\\n                                    <a  ...\n",
              "[2] <div class=\"hdline_article_tit\">\\n                                    <a  ...\n",
              "[3] <div class=\"hdline_article_tit\">\\n                                    <a  ...\n",
              "[4] <div class=\"hdline_article_tit\">\\n                                    <a  ...\n",
              "[5] <div class=\"hdline_article_tit\">\\n                                    <a  ..."
            ]
          },
          "metadata": {
            "tags": []
          }
        }
      ]
    },
    {
      "cell_type": "code",
      "metadata": {
        "id": "6rY-RUn1TSWj",
        "outputId": "a7987c21-0bb8-4cb2-d71b-2e154c29108d",
        "colab": {
          "base_uri": "https://localhost:8080/",
          "height": 187
        }
      },
      "source": [
        "title <- html_text(titles)\n",
        "title"
      ],
      "execution_count": 107,
      "outputs": [
        {
          "output_type": "display_data",
          "data": {
            "text/plain": [
              "[1] \"\\n                                    \\n                                        김봉현 '옥중서신'에 與 \\\"텅 빈 공수처 안타깝다\\\" vs 野 \\\"특검하자\\\"\\n                                    \\n                                \"\n",
              "[2] \"\\n                                    \\n                                        라임펀드 피해자 변호사 “김봉현의 2차, 3차 폭로 기대”\\n                                    \\n                                \"               \n",
              "[3] \"\\n                                    \\n                                        프랑스 교사 참수 부른 '언론의 자유' 수업\\n                                    \\n                                \"                           \n",
              "[4] \"\\n                                    \\n                                        로비 물증 찾아라…옵티머스 수사팀, 주말 압수물 분석 주력\\n                                    \\n                                \"            \n",
              "[5] \"\\n                                    \\n                                        서아프리카서 납치됐던 한국인 선원 2명, 50일 만에 석방\\n                                    \\n                                \"              "
            ],
            "text/latex": "\\begin{enumerate*}\n\\item '\\textbackslash{}n                                    \\textbackslash{}n                                        김봉현 \\textbackslash{}'옥중서신\\textbackslash{}'에 與 \"텅 빈 공수처 안타깝다\" vs 野 \"특검하자\"\\textbackslash{}n                                    \\textbackslash{}n                                '\n\\item '\\textbackslash{}n                                    \\textbackslash{}n                                        라임펀드 피해자 변호사 “김봉현의 2차, 3차 폭로 기대”\\textbackslash{}n                                    \\textbackslash{}n                                '\n\\item '\\textbackslash{}n                                    \\textbackslash{}n                                        프랑스 교사 참수 부른 \\textbackslash{}'언론의 자유\\textbackslash{}' 수업\\textbackslash{}n                                    \\textbackslash{}n                                '\n\\item '\\textbackslash{}n                                    \\textbackslash{}n                                        로비 물증 찾아라…옵티머스 수사팀, 주말 압수물 분석 주력\\textbackslash{}n                                    \\textbackslash{}n                                '\n\\item '\\textbackslash{}n                                    \\textbackslash{}n                                        서아프리카서 납치됐던 한국인 선원 2명, 50일 만에 석방\\textbackslash{}n                                    \\textbackslash{}n                                '\n\\end{enumerate*}\n",
            "text/markdown": "1. <span style=white-space:pre-wrap>'\\n                                    \\n                                        김봉현 \\'옥중서신\\'에 與 \"텅 빈 공수처 안타깝다\" vs 野 \"특검하자\"\\n                                    \\n                                '</span>\n2. <span style=white-space:pre-wrap>'\\n                                    \\n                                        라임펀드 피해자 변호사 “김봉현의 2차, 3차 폭로 기대”\\n                                    \\n                                '</span>\n3. <span style=white-space:pre-wrap>'\\n                                    \\n                                        프랑스 교사 참수 부른 \\'언론의 자유\\' 수업\\n                                    \\n                                '</span>\n4. <span style=white-space:pre-wrap>'\\n                                    \\n                                        로비 물증 찾아라…옵티머스 수사팀, 주말 압수물 분석 주력\\n                                    \\n                                '</span>\n5. <span style=white-space:pre-wrap>'\\n                                    \\n                                        서아프리카서 납치됐던 한국인 선원 2명, 50일 만에 석방\\n                                    \\n                                '</span>\n\n\n",
            "text/html": [
              "<style>\n",
              ".list-inline {list-style: none; margin:0; padding: 0}\n",
              ".list-inline>li {display: inline-block}\n",
              ".list-inline>li:not(:last-child)::after {content: \"\\00b7\"; padding: 0 .5ex}\n",
              "</style>\n",
              "<ol class=list-inline><li><span style=white-space:pre-wrap>'\\n                                    \\n                                        김봉현 \\'옥중서신\\'에 與 \"텅 빈 공수처 안타깝다\" vs 野 \"특검하자\"\\n                                    \\n                                '</span></li><li><span style=white-space:pre-wrap>'\\n                                    \\n                                        라임펀드 피해자 변호사 “김봉현의 2차, 3차 폭로 기대”\\n                                    \\n                                '</span></li><li><span style=white-space:pre-wrap>'\\n                                    \\n                                        프랑스 교사 참수 부른 \\'언론의 자유\\' 수업\\n                                    \\n                                '</span></li><li><span style=white-space:pre-wrap>'\\n                                    \\n                                        로비 물증 찾아라…옵티머스 수사팀, 주말 압수물 분석 주력\\n                                    \\n                                '</span></li><li><span style=white-space:pre-wrap>'\\n                                    \\n                                        서아프리카서 납치됐던 한국인 선원 2명, 50일 만에 석방\\n                                    \\n                                '</span></li></ol>\n"
            ]
          },
          "metadata": {
            "tags": []
          }
        }
      ]
    },
    {
      "cell_type": "code",
      "metadata": {
        "id": "WwNBYpCNks99",
        "outputId": "b4b9cb19-168d-4cdc-f0c2-5edc27a1c012",
        "colab": {
          "base_uri": "https://localhost:8080/",
          "height": 51
        }
      },
      "source": [
        "# Tip : 추출한 문자열에서 공백, 금지어 등을 제거 : gsub()\n",
        "# gsub(찾을문자열, 대체문자열, 대상)\n",
        "title <- gsub('[\\n\\r]','',title) # \\n\\r \n",
        "title <- gsub('\\\\s+','',title)   # 공백\n",
        "title"
      ],
      "execution_count": 109,
      "outputs": [
        {
          "output_type": "display_data",
          "data": {
            "text/plain": [
              "[1] \"김봉현'옥중서신'에與\\\"텅빈공수처안타깝다\\\"vs野\\\"특검하자\\\"\"\n",
              "[2] \"라임펀드피해자변호사“김봉현의2차,3차폭로기대”\"             \n",
              "[3] \"프랑스교사참수부른'언론의자유'수업\"                        \n",
              "[4] \"로비물증찾아라…옵티머스수사팀,주말압수물분석주력\"          \n",
              "[5] \"서아프리카서납치됐던한국인선원2명,50일만에석방\"            "
            ],
            "text/latex": "\\begin{enumerate*}\n\\item '김봉현\\textbackslash{}'옥중서신\\textbackslash{}'에與\"텅빈공수처안타깝다\"vs野\"특검하자\"'\n\\item '라임펀드피해자변호사“김봉현의2차,3차폭로기대”'\n\\item '프랑스교사참수부른\\textbackslash{}'언론의자유\\textbackslash{}'수업'\n\\item '로비물증찾아라…옵티머스수사팀,주말압수물분석주력'\n\\item '서아프리카서납치됐던한국인선원2명,50일만에석방'\n\\end{enumerate*}\n",
            "text/markdown": "1. '김봉현\\'옥중서신\\'에與\"텅빈공수처안타깝다\"vs野\"특검하자\"'\n2. '라임펀드피해자변호사“김봉현의2차,3차폭로기대”'\n3. '프랑스교사참수부른\\'언론의자유\\'수업'\n4. '로비물증찾아라…옵티머스수사팀,주말압수물분석주력'\n5. '서아프리카서납치됐던한국인선원2명,50일만에석방'\n\n\n",
            "text/html": [
              "<style>\n",
              ".list-inline {list-style: none; margin:0; padding: 0}\n",
              ".list-inline>li {display: inline-block}\n",
              ".list-inline>li:not(:last-child)::after {content: \"\\00b7\"; padding: 0 .5ex}\n",
              "</style>\n",
              "<ol class=list-inline><li>'김봉현\\'옥중서신\\'에與\"텅빈공수처안타깝다\"vs野\"특검하자\"'</li><li>'라임펀드피해자변호사“김봉현의2차,3차폭로기대”'</li><li>'프랑스교사참수부른\\'언론의자유\\'수업'</li><li>'로비물증찾아라…옵티머스수사팀,주말압수물분석주력'</li><li>'서아프리카서납치됐던한국인선원2명,50일만에석방'</li></ol>\n"
            ]
          },
          "metadata": {
            "tags": []
          }
        }
      ]
    },
    {
      "cell_type": "code",
      "metadata": {
        "id": "wrf-wJpDckO6",
        "outputId": "11d9eae9-a00d-4a55-c00d-dcc813d0bd3e",
        "colab": {
          "base_uri": "https://localhost:8080/",
          "height": 413
        }
      },
      "source": [
        "titles1 <- html_nodes(html,'ul.mlist2 li strong') # 하위 요소의 특정 부분 추출을 위해 스페이스로 구분\n",
        "titles1"
      ],
      "execution_count": 76,
      "outputs": [
        {
          "output_type": "display_data",
          "data": {
            "text/plain": [
              "{xml_nodeset (33)}\n",
              " [1] <strong>이재명 \"허튼 말과 선동으로 국민 속이는 것 불가능\"</strong>\n",
              " [2] <strong>북한, 유엔총회서 나온 '비핵화' 목소리에 \"내정간섭 말라\"</strong>\n",
              " [3] <strong>여야, '옥중서신' 놓고 충돌…여 \"판 바뀌었다\", 야 \"검범유착 프레임\"</strong>\n",
              " [4] <strong>[단독]외교관보다 구글? 외교부 떠나는 외시수석 합격자들</strong>\n",
              " [5] <strong>라임·옵티 코너 몰리던 與, 김봉현 폭로에 반격 시도</strong>\n",
              " [6] <strong>몽둥이 국경분쟁 그 후···인도, 에어컨까지 수입금지하며 中 견제</strong>\n",
              " [7] <strong>[그게머니]간신히 전셋집 구했는데, 집주인이 3명?</strong>\n",
              " [8] <strong class=\"r_ico r_vod_txt\">동영상기사</strong>\n",
              " [9] <strong>\"이상직 밑에서 승진하려면···주말에 아들 골프 비서해야했다\"</strong>\n",
              "[10] <strong>공정위의 타깃은 네이버? '교각살우' 우려하는 ICT 업계 [뒷북경제]</strong>\n",
              "[11] <strong>[더오래]퇴직연금 절로 불리는 복리 효과와 ‘이것’</strong>\n",
              "[12] <strong>[르포]단풍시작 '부산' 등산로 '북적'…방역수칙 '실종' 곳곳 목격</strong>\n",
              "[13] <strong>'50인 결혼식' 완화 뒤 첫 주말...실내 방역 지침은 강화</strong>\n",
              "[14] <strong class=\"r_ico r_vod_txt\">동영상기사</strong>\n",
              "[15] <strong>\"이재명 경기지사와 '평등·대동사회' 만들 것\"…'이지모' 출범</strong>\n",
              "[16] <strong>[서산] '독감 예방 접종 맞자'... 이른 아침부터 길게 늘어선 줄</strong>\n",
              "[17] <strong>'거리두기 1단계' 첫 주말 집회… 참가자들 \"체온측정 왜 하라는 거냐\"</strong>\n",
              "[18] <strong>[현장] 바닥 검게 그을리고 충전기 운영 중단...코나 전기차 화재가 남긴 것</strong>\n",
              "[19] <strong>방대본 \"긴장 늦출 수 없다…렘데시비르 치료 지침 그대로\" [종합]</strong>\n",
              "[20] <strong>프랑스 교사 참수 부른 '언론의 자유' 수업</strong>\n",
              "..."
            ]
          },
          "metadata": {
            "tags": []
          }
        }
      ]
    },
    {
      "cell_type": "code",
      "metadata": {
        "id": "sd7KF42qc5oD",
        "outputId": "bc367720-a130-468e-8512-519ecff1b7e7",
        "colab": {
          "base_uri": "https://localhost:8080/",
          "height": 272
        }
      },
      "source": [
        "title1 <- html_text(titles1)\n",
        "title1"
      ],
      "execution_count": 77,
      "outputs": [
        {
          "output_type": "display_data",
          "data": {
            "text/plain": [
              " [1] \"이재명 \\\"허튼 말과 선동으로 국민 속이는 것 불가능\\\"\"                    \n",
              " [2] \"북한, 유엔총회서 나온 '비핵화' 목소리에 \\\"내정간섭 말라\\\"\"              \n",
              " [3] \"여야, '옥중서신' 놓고 충돌…여 \\\"판 바뀌었다\\\", 야 \\\"검범유착 프레임\\\"\"  \n",
              " [4] \"[단독]외교관보다 구글? 외교부 떠나는 외시수석 합격자들\"                 \n",
              " [5] \"라임·옵티 코너 몰리던 與, 김봉현 폭로에 반격 시도\"                      \n",
              " [6] \"몽둥이 국경분쟁 그 후···인도, 에어컨까지 수입금지하며 中 견제\"          \n",
              " [7] \"[그게머니]간신히 전셋집 구했는데, 집주인이 3명?\"                        \n",
              " [8] \"동영상기사\"                                                             \n",
              " [9] \"\\\"이상직 밑에서 승진하려면···주말에 아들 골프 비서해야했다\\\"\"           \n",
              "[10] \"공정위의 타깃은 네이버? '교각살우' 우려하는 ICT 업계 [뒷북경제]\"        \n",
              "[11] \"[더오래]퇴직연금 절로 불리는 복리 효과와 ‘이것’\"                        \n",
              "[12] \"[르포]단풍시작 '부산' 등산로 '북적'…방역수칙 '실종' 곳곳 목격\"          \n",
              "[13] \"'50인 결혼식' 완화 뒤 첫 주말...실내 방역 지침은 강화\"                  \n",
              "[14] \"동영상기사\"                                                             \n",
              "[15] \"\\\"이재명 경기지사와 '평등·대동사회' 만들 것\\\"…'이지모' 출범\"            \n",
              "[16] \"[서산] '독감 예방 접종 맞자'... 이른 아침부터 길게 늘어선 줄\"           \n",
              "[17] \"'거리두기 1단계' 첫 주말 집회… 참가자들 \\\"체온측정 왜 하라는 거냐\\\"\"    \n",
              "[18] \"[현장] 바닥 검게 그을리고 충전기 운영 중단...코나 전기차 화재가 남긴 것\"\n",
              "[19] \"방대본 \\\"긴장 늦출 수 없다…렘데시비르 치료 지침 그대로\\\" [종합]\"        \n",
              "[20] \"프랑스 교사 참수 부른 '언론의 자유' 수업\"                               \n",
              "[21] \"거리두기 완화 이후 첫 주말···꼬리에 꼬리 무는 고리 집단감염 (종합)\"     \n",
              "[22] \"국회서도 '뭇매' 영국남자 \\\"세금 논란 사실아냐… 절망스런 시간\\\"\"         \n",
              "[23] \"네티윗 태국 활동가 \\\"1020대가 왜 거리로 나왔냐면…\\\"\"                    \n",
              "[24] \"미국 역대 최대 '돈의 전쟁' 치른다…선거 비용 12조원\"                     \n",
              "[25] \"동영상기사\"                                                             \n",
              "[26] \"'방역보다 경제' 인도…유명 사원도 7개월 만에 문 열어\"                    \n",
              "[27] \"“처음 우한으로 향한 간호사”는 간호사가 아니었다…中 코로나 영웅의 사기극\"\n",
              "[28] \"태국 '물대포 해산'에 비판 목소리 \\\"폭력은 증오 부채질\\\"\"                \n",
              "[29] \"[달콤한 사이언스] 사람들 음식에 맛들인 육식동물이 생태계 붕괴시킨다\"    \n",
              "[30] \"[안녕? 자연] 알프스 빙하 녹아버리니…수천 년전 인류 물품도 빼꼼\"         \n",
              "[31] \"어쩌다 ‘예형’까지…왜 1800년전 삼국지는 디지털시대에도 통할까\"           \n",
              "[32] \"[체험기] “미니링크! 카톡 읽어줘”…운전중 안전하게 카톡 확인되네\"         \n",
              "[33] \"전기트럭 포기?…니콜라, CEO 돌발 발언에 급락\"                            "
            ],
            "text/latex": "\\begin{enumerate*}\n\\item '이재명 \"허튼 말과 선동으로 국민 속이는 것 불가능\"'\n\\item '북한, 유엔총회서 나온 \\textbackslash{}'비핵화\\textbackslash{}' 목소리에 \"내정간섭 말라\"'\n\\item '여야, \\textbackslash{}'옥중서신\\textbackslash{}' 놓고 충돌…여 \"판 바뀌었다\", 야 \"검범유착 프레임\"'\n\\item '{[}단독{]}외교관보다 구글? 외교부 떠나는 외시수석 합격자들'\n\\item '라임·옵티 코너 몰리던 與, 김봉현 폭로에 반격 시도'\n\\item '몽둥이 국경분쟁 그 후···인도, 에어컨까지 수입금지하며 中 견제'\n\\item '{[}그게머니{]}간신히 전셋집 구했는데, 집주인이 3명?'\n\\item '동영상기사'\n\\item '\"이상직 밑에서 승진하려면···주말에 아들 골프 비서해야했다\"'\n\\item '공정위의 타깃은 네이버? \\textbackslash{}'교각살우\\textbackslash{}' 우려하는 ICT 업계 {[}뒷북경제{]}'\n\\item '{[}더오래{]}퇴직연금 절로 불리는 복리 효과와 ‘이것’'\n\\item '{[}르포{]}단풍시작 \\textbackslash{}'부산\\textbackslash{}' 등산로 \\textbackslash{}'북적\\textbackslash{}'…방역수칙 \\textbackslash{}'실종\\textbackslash{}' 곳곳 목격'\n\\item '\\textbackslash{}'50인 결혼식\\textbackslash{}' 완화 뒤 첫 주말...실내 방역 지침은 강화'\n\\item '동영상기사'\n\\item '\"이재명 경기지사와 \\textbackslash{}'평등·대동사회\\textbackslash{}' 만들 것\"…\\textbackslash{}'이지모\\textbackslash{}' 출범'\n\\item '{[}서산{]} \\textbackslash{}'독감 예방 접종 맞자\\textbackslash{}'... 이른 아침부터 길게 늘어선 줄'\n\\item '\\textbackslash{}'거리두기 1단계\\textbackslash{}' 첫 주말 집회… 참가자들 \"체온측정 왜 하라는 거냐\"'\n\\item '{[}현장{]} 바닥 검게 그을리고 충전기 운영 중단...코나 전기차 화재가 남긴 것'\n\\item '방대본 \"긴장 늦출 수 없다…렘데시비르 치료 지침 그대로\" {[}종합{]}'\n\\item '프랑스 교사 참수 부른 \\textbackslash{}'언론의 자유\\textbackslash{}' 수업'\n\\item '거리두기 완화 이후 첫 주말···꼬리에 꼬리 무는 고리 집단감염 (종합)'\n\\item '국회서도 \\textbackslash{}'뭇매\\textbackslash{}' 영국남자 \"세금 논란 사실아냐… 절망스런 시간\"'\n\\item '네티윗 태국 활동가 \"1020대가 왜 거리로 나왔냐면…\"'\n\\item '미국 역대 최대 \\textbackslash{}'돈의 전쟁\\textbackslash{}' 치른다…선거 비용 12조원'\n\\item '동영상기사'\n\\item '\\textbackslash{}'방역보다 경제\\textbackslash{}' 인도…유명 사원도 7개월 만에 문 열어'\n\\item '“처음 우한으로 향한 간호사”는 간호사가 아니었다…中 코로나 영웅의 사기극'\n\\item '태국 \\textbackslash{}'물대포 해산\\textbackslash{}'에 비판 목소리 \"폭력은 증오 부채질\"'\n\\item '{[}달콤한 사이언스{]} 사람들 음식에 맛들인 육식동물이 생태계 붕괴시킨다'\n\\item '{[}안녕? 자연{]} 알프스 빙하 녹아버리니…수천 년전 인류 물품도 빼꼼'\n\\item '어쩌다 ‘예형’까지…왜 1800년전 삼국지는 디지털시대에도 통할까'\n\\item '{[}체험기{]} “미니링크! 카톡 읽어줘”…운전중 안전하게 카톡 확인되네'\n\\item '전기트럭 포기?…니콜라, CEO 돌발 발언에 급락'\n\\end{enumerate*}\n",
            "text/markdown": "1. '이재명 \"허튼 말과 선동으로 국민 속이는 것 불가능\"'\n2. '북한, 유엔총회서 나온 \\'비핵화\\' 목소리에 \"내정간섭 말라\"'\n3. '여야, \\'옥중서신\\' 놓고 충돌…여 \"판 바뀌었다\", 야 \"검범유착 프레임\"'\n4. '[단독]외교관보다 구글? 외교부 떠나는 외시수석 합격자들'\n5. '라임·옵티 코너 몰리던 與, 김봉현 폭로에 반격 시도'\n6. '몽둥이 국경분쟁 그 후···인도, 에어컨까지 수입금지하며 中 견제'\n7. '[그게머니]간신히 전셋집 구했는데, 집주인이 3명?'\n8. '동영상기사'\n9. '\"이상직 밑에서 승진하려면···주말에 아들 골프 비서해야했다\"'\n10. '공정위의 타깃은 네이버? \\'교각살우\\' 우려하는 ICT 업계 [뒷북경제]'\n11. '[더오래]퇴직연금 절로 불리는 복리 효과와 ‘이것’'\n12. '[르포]단풍시작 \\'부산\\' 등산로 \\'북적\\'…방역수칙 \\'실종\\' 곳곳 목격'\n13. '\\'50인 결혼식\\' 완화 뒤 첫 주말...실내 방역 지침은 강화'\n14. '동영상기사'\n15. '\"이재명 경기지사와 \\'평등·대동사회\\' 만들 것\"…\\'이지모\\' 출범'\n16. '[서산] \\'독감 예방 접종 맞자\\'... 이른 아침부터 길게 늘어선 줄'\n17. '\\'거리두기 1단계\\' 첫 주말 집회… 참가자들 \"체온측정 왜 하라는 거냐\"'\n18. '[현장] 바닥 검게 그을리고 충전기 운영 중단...코나 전기차 화재가 남긴 것'\n19. '방대본 \"긴장 늦출 수 없다…렘데시비르 치료 지침 그대로\" [종합]'\n20. '프랑스 교사 참수 부른 \\'언론의 자유\\' 수업'\n21. '거리두기 완화 이후 첫 주말···꼬리에 꼬리 무는 고리 집단감염 (종합)'\n22. '국회서도 \\'뭇매\\' 영국남자 \"세금 논란 사실아냐… 절망스런 시간\"'\n23. '네티윗 태국 활동가 \"1020대가 왜 거리로 나왔냐면…\"'\n24. '미국 역대 최대 \\'돈의 전쟁\\' 치른다…선거 비용 12조원'\n25. '동영상기사'\n26. '\\'방역보다 경제\\' 인도…유명 사원도 7개월 만에 문 열어'\n27. '“처음 우한으로 향한 간호사”는 간호사가 아니었다…中 코로나 영웅의 사기극'\n28. '태국 \\'물대포 해산\\'에 비판 목소리 \"폭력은 증오 부채질\"'\n29. '[달콤한 사이언스] 사람들 음식에 맛들인 육식동물이 생태계 붕괴시킨다'\n30. '[안녕? 자연] 알프스 빙하 녹아버리니…수천 년전 인류 물품도 빼꼼'\n31. '어쩌다 ‘예형’까지…왜 1800년전 삼국지는 디지털시대에도 통할까'\n32. '[체험기] “미니링크! 카톡 읽어줘”…운전중 안전하게 카톡 확인되네'\n33. '전기트럭 포기?…니콜라, CEO 돌발 발언에 급락'\n\n\n",
            "text/html": [
              "<style>\n",
              ".list-inline {list-style: none; margin:0; padding: 0}\n",
              ".list-inline>li {display: inline-block}\n",
              ".list-inline>li:not(:last-child)::after {content: \"\\00b7\"; padding: 0 .5ex}\n",
              "</style>\n",
              "<ol class=list-inline><li>'이재명 \"허튼 말과 선동으로 국민 속이는 것 불가능\"'</li><li>'북한, 유엔총회서 나온 \\'비핵화\\' 목소리에 \"내정간섭 말라\"'</li><li>'여야, \\'옥중서신\\' 놓고 충돌…여 \"판 바뀌었다\", 야 \"검범유착 프레임\"'</li><li>'[단독]외교관보다 구글? 외교부 떠나는 외시수석 합격자들'</li><li>'라임·옵티 코너 몰리던 與, 김봉현 폭로에 반격 시도'</li><li>'몽둥이 국경분쟁 그 후···인도, 에어컨까지 수입금지하며 中 견제'</li><li>'[그게머니]간신히 전셋집 구했는데, 집주인이 3명?'</li><li>'동영상기사'</li><li>'\"이상직 밑에서 승진하려면···주말에 아들 골프 비서해야했다\"'</li><li>'공정위의 타깃은 네이버? \\'교각살우\\' 우려하는 ICT 업계 [뒷북경제]'</li><li>'[더오래]퇴직연금 절로 불리는 복리 효과와 ‘이것’'</li><li>'[르포]단풍시작 \\'부산\\' 등산로 \\'북적\\'…방역수칙 \\'실종\\' 곳곳 목격'</li><li>'\\'50인 결혼식\\' 완화 뒤 첫 주말...실내 방역 지침은 강화'</li><li>'동영상기사'</li><li>'\"이재명 경기지사와 \\'평등·대동사회\\' 만들 것\"…\\'이지모\\' 출범'</li><li>'[서산] \\'독감 예방 접종 맞자\\'... 이른 아침부터 길게 늘어선 줄'</li><li>'\\'거리두기 1단계\\' 첫 주말 집회… 참가자들 \"체온측정 왜 하라는 거냐\"'</li><li>'[현장] 바닥 검게 그을리고 충전기 운영 중단...코나 전기차 화재가 남긴 것'</li><li>'방대본 \"긴장 늦출 수 없다…렘데시비르 치료 지침 그대로\" [종합]'</li><li>'프랑스 교사 참수 부른 \\'언론의 자유\\' 수업'</li><li>'거리두기 완화 이후 첫 주말···꼬리에 꼬리 무는 고리 집단감염 (종합)'</li><li>'국회서도 \\'뭇매\\' 영국남자 \"세금 논란 사실아냐… 절망스런 시간\"'</li><li>'네티윗 태국 활동가 \"1020대가 왜 거리로 나왔냐면…\"'</li><li>'미국 역대 최대 \\'돈의 전쟁\\' 치른다…선거 비용 12조원'</li><li>'동영상기사'</li><li>'\\'방역보다 경제\\' 인도…유명 사원도 7개월 만에 문 열어'</li><li>'“처음 우한으로 향한 간호사”는 간호사가 아니었다…中 코로나 영웅의 사기극'</li><li>'태국 \\'물대포 해산\\'에 비판 목소리 \"폭력은 증오 부채질\"'</li><li>'[달콤한 사이언스] 사람들 음식에 맛들인 육식동물이 생태계 붕괴시킨다'</li><li>'[안녕? 자연] 알프스 빙하 녹아버리니…수천 년전 인류 물품도 빼꼼'</li><li>'어쩌다 ‘예형’까지…왜 1800년전 삼국지는 디지털시대에도 통할까'</li><li>'[체험기] “미니링크! 카톡 읽어줘”…운전중 안전하게 카톡 확인되네'</li><li>'전기트럭 포기?…니콜라, CEO 돌발 발언에 급락'</li></ol>\n"
            ]
          },
          "metadata": {
            "tags": []
          }
        }
      ]
    },
    {
      "cell_type": "code",
      "metadata": {
        "id": "O0LJ__ZvdA4R"
      },
      "source": [
        "# 이 과정을 반복하고, 데이터프레임을 각각 만들어 합침"
      ],
      "execution_count": null,
      "outputs": []
    },
    {
      "cell_type": "code",
      "metadata": {
        "id": "s4EN91AoTftT",
        "outputId": "01783a45-ba4e-480e-ed87-2391358f866c",
        "colab": {
          "base_uri": "https://localhost:8080/",
          "height": 183
        }
      },
      "source": [
        "temp1 <- data.frame(title, stringsAsFactors = F)\n",
        "temp1"
      ],
      "execution_count": 110,
      "outputs": [
        {
          "output_type": "display_data",
          "data": {
            "text/plain": [
              "  title                                                 \n",
              "1 김봉현'옥중서신'에與\"텅빈공수처안타깝다\"vs野\"특검하자\"\n",
              "2 라임펀드피해자변호사“김봉현의2차,3차폭로기대”         \n",
              "3 프랑스교사참수부른'언론의자유'수업                    \n",
              "4 로비물증찾아라…옵티머스수사팀,주말압수물분석주력      \n",
              "5 서아프리카서납치됐던한국인선원2명,50일만에석방        "
            ],
            "text/latex": "A data.frame: 5 × 1\n\\begin{tabular}{l}\n title\\\\\n <chr>\\\\\n\\hline\n\t 김봉현'옥중서신'에與\"텅빈공수처안타깝다\"vs野\"특검하자\"\\\\\n\t 라임펀드피해자변호사“김봉현의2차,3차폭로기대”         \\\\\n\t 프랑스교사참수부른'언론의자유'수업                    \\\\\n\t 로비물증찾아라…옵티머스수사팀,주말압수물분석주력      \\\\\n\t 서아프리카서납치됐던한국인선원2명,50일만에석방        \\\\\n\\end{tabular}\n",
            "text/markdown": "\nA data.frame: 5 × 1\n\n| title &lt;chr&gt; |\n|---|\n| 김봉현'옥중서신'에與\"텅빈공수처안타깝다\"vs野\"특검하자\" |\n| 라임펀드피해자변호사“김봉현의2차,3차폭로기대”          |\n| 프랑스교사참수부른'언론의자유'수업                     |\n| 로비물증찾아라…옵티머스수사팀,주말압수물분석주력       |\n| 서아프리카서납치됐던한국인선원2명,50일만에석방         |\n\n",
            "text/html": [
              "<table>\n",
              "<caption>A data.frame: 5 × 1</caption>\n",
              "<thead>\n",
              "\t<tr><th scope=col>title</th></tr>\n",
              "\t<tr><th scope=col>&lt;chr&gt;</th></tr>\n",
              "</thead>\n",
              "<tbody>\n",
              "\t<tr><td>김봉현'옥중서신'에與\"텅빈공수처안타깝다\"vs野\"특검하자\"</td></tr>\n",
              "\t<tr><td>라임펀드피해자변호사“김봉현의2차,3차폭로기대”         </td></tr>\n",
              "\t<tr><td>프랑스교사참수부른'언론의자유'수업                    </td></tr>\n",
              "\t<tr><td>로비물증찾아라…옵티머스수사팀,주말압수물분석주력      </td></tr>\n",
              "\t<tr><td>서아프리카서납치됐던한국인선원2명,50일만에석방        </td></tr>\n",
              "</tbody>\n",
              "</table>\n"
            ]
          },
          "metadata": {
            "tags": []
          }
        }
      ]
    },
    {
      "cell_type": "code",
      "metadata": {
        "id": "uSIUyFmHdMyx",
        "outputId": "79733696-f6f5-4114-b76f-5cb7f8ae1728",
        "colab": {
          "base_uri": "https://localhost:8080/",
          "height": 771
        }
      },
      "source": [
        "temp2 <- data.frame(title1,stringsAsFactors = F )\n",
        "temp2"
      ],
      "execution_count": 83,
      "outputs": [
        {
          "output_type": "display_data",
          "data": {
            "text/plain": [
              "   title1                                                                 \n",
              "1  이재명 \"허튼 말과 선동으로 국민 속이는 것 불가능\"                      \n",
              "2  북한, 유엔총회서 나온 '비핵화' 목소리에 \"내정간섭 말라\"                \n",
              "3  여야, '옥중서신' 놓고 충돌…여 \"판 바뀌었다\", 야 \"검범유착 프레임\"      \n",
              "4  [단독]외교관보다 구글? 외교부 떠나는 외시수석 합격자들                 \n",
              "5  라임·옵티 코너 몰리던 與, 김봉현 폭로에 반격 시도                      \n",
              "6  몽둥이 국경분쟁 그 후···인도, 에어컨까지 수입금지하며 中 견제          \n",
              "7  [그게머니]간신히 전셋집 구했는데, 집주인이 3명?                        \n",
              "8  동영상기사                                                             \n",
              "9  \"이상직 밑에서 승진하려면···주말에 아들 골프 비서해야했다\"             \n",
              "10 공정위의 타깃은 네이버? '교각살우' 우려하는 ICT 업계 [뒷북경제]        \n",
              "11 [더오래]퇴직연금 절로 불리는 복리 효과와 ‘이것’                        \n",
              "12 [르포]단풍시작 '부산' 등산로 '북적'…방역수칙 '실종' 곳곳 목격          \n",
              "13 '50인 결혼식' 완화 뒤 첫 주말...실내 방역 지침은 강화                  \n",
              "14 동영상기사                                                             \n",
              "15 \"이재명 경기지사와 '평등·대동사회' 만들 것\"…'이지모' 출범              \n",
              "16 [서산] '독감 예방 접종 맞자'... 이른 아침부터 길게 늘어선 줄           \n",
              "17 '거리두기 1단계' 첫 주말 집회… 참가자들 \"체온측정 왜 하라는 거냐\"      \n",
              "18 [현장] 바닥 검게 그을리고 충전기 운영 중단...코나 전기차 화재가 남긴 것\n",
              "19 방대본 \"긴장 늦출 수 없다…렘데시비르 치료 지침 그대로\" [종합]          \n",
              "20 프랑스 교사 참수 부른 '언론의 자유' 수업                               \n",
              "21 거리두기 완화 이후 첫 주말···꼬리에 꼬리 무는 고리 집단감염 (종합)     \n",
              "22 국회서도 '뭇매' 영국남자 \"세금 논란 사실아냐… 절망스런 시간\"           \n",
              "23 네티윗 태국 활동가 \"1020대가 왜 거리로 나왔냐면…\"                      \n",
              "24 미국 역대 최대 '돈의 전쟁' 치른다…선거 비용 12조원                     \n",
              "25 동영상기사                                                             \n",
              "26 '방역보다 경제' 인도…유명 사원도 7개월 만에 문 열어                    \n",
              "27 “처음 우한으로 향한 간호사”는 간호사가 아니었다…中 코로나 영웅의 사기극\n",
              "28 태국 '물대포 해산'에 비판 목소리 \"폭력은 증오 부채질\"                  \n",
              "29 [달콤한 사이언스] 사람들 음식에 맛들인 육식동물이 생태계 붕괴시킨다    \n",
              "30 [안녕? 자연] 알프스 빙하 녹아버리니…수천 년전 인류 물품도 빼꼼         \n",
              "31 어쩌다 ‘예형’까지…왜 1800년전 삼국지는 디지털시대에도 통할까           \n",
              "32 [체험기] “미니링크! 카톡 읽어줘”…운전중 안전하게 카톡 확인되네         \n",
              "33 전기트럭 포기?…니콜라, CEO 돌발 발언에 급락                            "
            ],
            "text/latex": "A data.frame: 33 × 1\n\\begin{tabular}{l}\n title1\\\\\n <chr>\\\\\n\\hline\n\t 이재명 \"허튼 말과 선동으로 국민 속이는 것 불가능\"                      \\\\\n\t 북한, 유엔총회서 나온 '비핵화' 목소리에 \"내정간섭 말라\"                \\\\\n\t 여야, '옥중서신' 놓고 충돌…여 \"판 바뀌었다\", 야 \"검범유착 프레임\"      \\\\\n\t {[}단독{]}외교관보다 구글? 외교부 떠나는 외시수석 합격자들                 \\\\\n\t 라임·옵티 코너 몰리던 與, 김봉현 폭로에 반격 시도                      \\\\\n\t 몽둥이 국경분쟁 그 후···인도, 에어컨까지 수입금지하며 中 견제          \\\\\n\t {[}그게머니{]}간신히 전셋집 구했는데, 집주인이 3명?                        \\\\\n\t 동영상기사                                                             \\\\\n\t \"이상직 밑에서 승진하려면···주말에 아들 골프 비서해야했다\"             \\\\\n\t 공정위의 타깃은 네이버? '교각살우' 우려하는 ICT 업계 {[}뒷북경제{]}        \\\\\n\t {[}더오래{]}퇴직연금 절로 불리는 복리 효과와 ‘이것’                        \\\\\n\t {[}르포{]}단풍시작 '부산' 등산로 '북적'…방역수칙 '실종' 곳곳 목격          \\\\\n\t '50인 결혼식' 완화 뒤 첫 주말...실내 방역 지침은 강화                  \\\\\n\t 동영상기사                                                             \\\\\n\t \"이재명 경기지사와 '평등·대동사회' 만들 것\"…'이지모' 출범              \\\\\n\t {[}서산{]} '독감 예방 접종 맞자'... 이른 아침부터 길게 늘어선 줄           \\\\\n\t '거리두기 1단계' 첫 주말 집회… 참가자들 \"체온측정 왜 하라는 거냐\"      \\\\\n\t {[}현장{]} 바닥 검게 그을리고 충전기 운영 중단...코나 전기차 화재가 남긴 것\\\\\n\t 방대본 \"긴장 늦출 수 없다…렘데시비르 치료 지침 그대로\" {[}종합{]}          \\\\\n\t 프랑스 교사 참수 부른 '언론의 자유' 수업                               \\\\\n\t 거리두기 완화 이후 첫 주말···꼬리에 꼬리 무는 고리 집단감염 (종합)     \\\\\n\t 국회서도 '뭇매' 영국남자 \"세금 논란 사실아냐… 절망스런 시간\"           \\\\\n\t 네티윗 태국 활동가 \"1020대가 왜 거리로 나왔냐면…\"                      \\\\\n\t 미국 역대 최대 '돈의 전쟁' 치른다…선거 비용 12조원                     \\\\\n\t 동영상기사                                                             \\\\\n\t '방역보다 경제' 인도…유명 사원도 7개월 만에 문 열어                    \\\\\n\t “처음 우한으로 향한 간호사”는 간호사가 아니었다…中 코로나 영웅의 사기극\\\\\n\t 태국 '물대포 해산'에 비판 목소리 \"폭력은 증오 부채질\"                  \\\\\n\t {[}달콤한 사이언스{]} 사람들 음식에 맛들인 육식동물이 생태계 붕괴시킨다    \\\\\n\t {[}안녕? 자연{]} 알프스 빙하 녹아버리니…수천 년전 인류 물품도 빼꼼         \\\\\n\t 어쩌다 ‘예형’까지…왜 1800년전 삼국지는 디지털시대에도 통할까           \\\\\n\t {[}체험기{]} “미니링크! 카톡 읽어줘”…운전중 안전하게 카톡 확인되네         \\\\\n\t 전기트럭 포기?…니콜라, CEO 돌발 발언에 급락                            \\\\\n\\end{tabular}\n",
            "text/markdown": "\nA data.frame: 33 × 1\n\n| title1 &lt;chr&gt; |\n|---|\n| 이재명 \"허튼 말과 선동으로 국민 속이는 것 불가능\"                       |\n| 북한, 유엔총회서 나온 '비핵화' 목소리에 \"내정간섭 말라\"                 |\n| 여야, '옥중서신' 놓고 충돌…여 \"판 바뀌었다\", 야 \"검범유착 프레임\"       |\n| [단독]외교관보다 구글? 외교부 떠나는 외시수석 합격자들                  |\n| 라임·옵티 코너 몰리던 與, 김봉현 폭로에 반격 시도                       |\n| 몽둥이 국경분쟁 그 후···인도, 에어컨까지 수입금지하며 中 견제           |\n| [그게머니]간신히 전셋집 구했는데, 집주인이 3명?                         |\n| 동영상기사                                                              |\n| \"이상직 밑에서 승진하려면···주말에 아들 골프 비서해야했다\"              |\n| 공정위의 타깃은 네이버? '교각살우' 우려하는 ICT 업계 [뒷북경제]         |\n| [더오래]퇴직연금 절로 불리는 복리 효과와 ‘이것’                         |\n| [르포]단풍시작 '부산' 등산로 '북적'…방역수칙 '실종' 곳곳 목격           |\n| '50인 결혼식' 완화 뒤 첫 주말...실내 방역 지침은 강화                   |\n| 동영상기사                                                              |\n| \"이재명 경기지사와 '평등·대동사회' 만들 것\"…'이지모' 출범               |\n| [서산] '독감 예방 접종 맞자'... 이른 아침부터 길게 늘어선 줄            |\n| '거리두기 1단계' 첫 주말 집회… 참가자들 \"체온측정 왜 하라는 거냐\"       |\n| [현장] 바닥 검게 그을리고 충전기 운영 중단...코나 전기차 화재가 남긴 것 |\n| 방대본 \"긴장 늦출 수 없다…렘데시비르 치료 지침 그대로\" [종합]           |\n| 프랑스 교사 참수 부른 '언론의 자유' 수업                                |\n| 거리두기 완화 이후 첫 주말···꼬리에 꼬리 무는 고리 집단감염 (종합)      |\n| 국회서도 '뭇매' 영국남자 \"세금 논란 사실아냐… 절망스런 시간\"            |\n| 네티윗 태국 활동가 \"1020대가 왜 거리로 나왔냐면…\"                       |\n| 미국 역대 최대 '돈의 전쟁' 치른다…선거 비용 12조원                      |\n| 동영상기사                                                              |\n| '방역보다 경제' 인도…유명 사원도 7개월 만에 문 열어                     |\n| “처음 우한으로 향한 간호사”는 간호사가 아니었다…中 코로나 영웅의 사기극 |\n| 태국 '물대포 해산'에 비판 목소리 \"폭력은 증오 부채질\"                   |\n| [달콤한 사이언스] 사람들 음식에 맛들인 육식동물이 생태계 붕괴시킨다     |\n| [안녕? 자연] 알프스 빙하 녹아버리니…수천 년전 인류 물품도 빼꼼          |\n| 어쩌다 ‘예형’까지…왜 1800년전 삼국지는 디지털시대에도 통할까            |\n| [체험기] “미니링크! 카톡 읽어줘”…운전중 안전하게 카톡 확인되네          |\n| 전기트럭 포기?…니콜라, CEO 돌발 발언에 급락                             |\n\n",
            "text/html": [
              "<table>\n",
              "<caption>A data.frame: 33 × 1</caption>\n",
              "<thead>\n",
              "\t<tr><th scope=col>title1</th></tr>\n",
              "\t<tr><th scope=col>&lt;chr&gt;</th></tr>\n",
              "</thead>\n",
              "<tbody>\n",
              "\t<tr><td>이재명 \"허튼 말과 선동으로 국민 속이는 것 불가능\"                      </td></tr>\n",
              "\t<tr><td>북한, 유엔총회서 나온 '비핵화' 목소리에 \"내정간섭 말라\"                </td></tr>\n",
              "\t<tr><td>여야, '옥중서신' 놓고 충돌…여 \"판 바뀌었다\", 야 \"검범유착 프레임\"      </td></tr>\n",
              "\t<tr><td>[단독]외교관보다 구글? 외교부 떠나는 외시수석 합격자들                 </td></tr>\n",
              "\t<tr><td>라임·옵티 코너 몰리던 與, 김봉현 폭로에 반격 시도                      </td></tr>\n",
              "\t<tr><td>몽둥이 국경분쟁 그 후···인도, 에어컨까지 수입금지하며 中 견제          </td></tr>\n",
              "\t<tr><td>[그게머니]간신히 전셋집 구했는데, 집주인이 3명?                        </td></tr>\n",
              "\t<tr><td>동영상기사                                                             </td></tr>\n",
              "\t<tr><td>\"이상직 밑에서 승진하려면···주말에 아들 골프 비서해야했다\"             </td></tr>\n",
              "\t<tr><td>공정위의 타깃은 네이버? '교각살우' 우려하는 ICT 업계 [뒷북경제]        </td></tr>\n",
              "\t<tr><td>[더오래]퇴직연금 절로 불리는 복리 효과와 ‘이것’                        </td></tr>\n",
              "\t<tr><td>[르포]단풍시작 '부산' 등산로 '북적'…방역수칙 '실종' 곳곳 목격          </td></tr>\n",
              "\t<tr><td>'50인 결혼식' 완화 뒤 첫 주말...실내 방역 지침은 강화                  </td></tr>\n",
              "\t<tr><td>동영상기사                                                             </td></tr>\n",
              "\t<tr><td>\"이재명 경기지사와 '평등·대동사회' 만들 것\"…'이지모' 출범              </td></tr>\n",
              "\t<tr><td>[서산] '독감 예방 접종 맞자'... 이른 아침부터 길게 늘어선 줄           </td></tr>\n",
              "\t<tr><td>'거리두기 1단계' 첫 주말 집회… 참가자들 \"체온측정 왜 하라는 거냐\"      </td></tr>\n",
              "\t<tr><td>[현장] 바닥 검게 그을리고 충전기 운영 중단...코나 전기차 화재가 남긴 것</td></tr>\n",
              "\t<tr><td>방대본 \"긴장 늦출 수 없다…렘데시비르 치료 지침 그대로\" [종합]          </td></tr>\n",
              "\t<tr><td>프랑스 교사 참수 부른 '언론의 자유' 수업                               </td></tr>\n",
              "\t<tr><td>거리두기 완화 이후 첫 주말···꼬리에 꼬리 무는 고리 집단감염 (종합)     </td></tr>\n",
              "\t<tr><td>국회서도 '뭇매' 영국남자 \"세금 논란 사실아냐… 절망스런 시간\"           </td></tr>\n",
              "\t<tr><td>네티윗 태국 활동가 \"1020대가 왜 거리로 나왔냐면…\"                      </td></tr>\n",
              "\t<tr><td>미국 역대 최대 '돈의 전쟁' 치른다…선거 비용 12조원                     </td></tr>\n",
              "\t<tr><td>동영상기사                                                             </td></tr>\n",
              "\t<tr><td>'방역보다 경제' 인도…유명 사원도 7개월 만에 문 열어                    </td></tr>\n",
              "\t<tr><td>“처음 우한으로 향한 간호사”는 간호사가 아니었다…中 코로나 영웅의 사기극</td></tr>\n",
              "\t<tr><td>태국 '물대포 해산'에 비판 목소리 \"폭력은 증오 부채질\"                  </td></tr>\n",
              "\t<tr><td>[달콤한 사이언스] 사람들 음식에 맛들인 육식동물이 생태계 붕괴시킨다    </td></tr>\n",
              "\t<tr><td>[안녕? 자연] 알프스 빙하 녹아버리니…수천 년전 인류 물품도 빼꼼         </td></tr>\n",
              "\t<tr><td>어쩌다 ‘예형’까지…왜 1800년전 삼국지는 디지털시대에도 통할까           </td></tr>\n",
              "\t<tr><td>[체험기] “미니링크! 카톡 읽어줘”…운전중 안전하게 카톡 확인되네         </td></tr>\n",
              "\t<tr><td>전기트럭 포기?…니콜라, CEO 돌발 발언에 급락                            </td></tr>\n",
              "</tbody>\n",
              "</table>\n"
            ]
          },
          "metadata": {
            "tags": []
          }
        }
      ]
    },
    {
      "cell_type": "code",
      "metadata": {
        "id": "rBAmlygRd7hG"
      },
      "source": [
        "# 두 데이터프레임을 함치기 위해 컬럼명 변경\n",
        "names(temp1) <- c('title')\n",
        "names(temp2) <- c('title')"
      ],
      "execution_count": 111,
      "outputs": []
    },
    {
      "cell_type": "code",
      "metadata": {
        "id": "stYHBgo6e1-G"
      },
      "source": [
        "# 2개의 데이터 프레임을 행기준으로 하나로 합침\n",
        "news_titles <- rbind(temp1, temp2)"
      ],
      "execution_count": 112,
      "outputs": []
    },
    {
      "cell_type": "code",
      "metadata": {
        "id": "gLHalJqHTqtr"
      },
      "source": [
        "write.csv(news_titles, 'naver_news.csv', row.names=F, fileEncoding='UTF-8')"
      ],
      "execution_count": 113,
      "outputs": []
    },
    {
      "cell_type": "code",
      "metadata": {
        "id": "t6bdkq8PVT-x"
      },
      "source": [
        "write.csv(news_titles, 'naver_news2.csv', row.names=F, fileEncoding='EUC-KR')"
      ],
      "execution_count": 87,
      "outputs": []
    },
    {
      "cell_type": "markdown",
      "metadata": {
        "id": "MYj5sZE_R3fD"
      },
      "source": [
        "다음 영화 홈에서 실시간예매순위의 영화 제목을 추출하여 daum_movie.csv 저장\n"
      ]
    },
    {
      "cell_type": "code",
      "metadata": {
        "id": "nPZkFHt-SFoh"
      },
      "source": [
        "url <- 'https://movie.daum.net/main/new#slide-1-0'"
      ],
      "execution_count": 88,
      "outputs": []
    },
    {
      "cell_type": "code",
      "metadata": {
        "id": "I9_Db4XHUWuA",
        "outputId": "c3c48895-31bb-4f5b-ae7a-8c779bc1552b",
        "colab": {
          "base_uri": "https://localhost:8080/",
          "height": 89
        }
      },
      "source": [
        "html <- read_html(url)\n",
        "html"
      ],
      "execution_count": 89,
      "outputs": [
        {
          "output_type": "display_data",
          "data": {
            "text/plain": [
              "{html_document}\n",
              "<html lang=\"ko\" class=\"os_linux none pc version_0\">\n",
              "[1] <head>\\n<meta http-equiv=\"Content-Type\" content=\"text/html; charset=UTF-8 ...\n",
              "[2] <body class=\"movie \">\\t\\t\\t\\t\\t\\t\\n\\n<script src=\"//t1.daumcdn.net/movie/ ..."
            ]
          },
          "metadata": {
            "tags": []
          }
        }
      ]
    },
    {
      "cell_type": "code",
      "metadata": {
        "id": "qEQzv4sghkaQ",
        "outputId": "c525e166-af1f-4c84-d14b-ac97c11eaccc",
        "colab": {
          "base_uri": "https://localhost:8080/",
          "height": 35
        }
      },
      "source": [
        "titles <- html_nodes(html,'strong.tit_poster')\n",
        "titles"
      ],
      "execution_count": 103,
      "outputs": [
        {
          "output_type": "display_data",
          "data": {
            "text/plain": [
              "{xml_nodeset (0)}"
            ]
          },
          "metadata": {
            "tags": []
          }
        }
      ]
    },
    {
      "cell_type": "code",
      "metadata": {
        "id": "nU6xRoEZhB_v"
      },
      "source": [
        "# 동적으로 소스가 생성되는 페이지는 일반적인 방법으로 크로링 할 수 없음\n",
        "# 셀레니엄이라는 웹사이트자동화도구를 이용해야 함\n",
        "# selenium.dev"
      ],
      "execution_count": null,
      "outputs": []
    },
    {
      "cell_type": "code",
      "metadata": {
        "id": "2qE6tL12h5y6"
      },
      "source": [
        "url <- 'https://search.daum.net/search?w=tot&DA=UME&t__nil_searchbox=suggest&sug=&sugo=15&sq=%EC%98%81%ED%99%94&o=3&q=%EC%98%81%ED%99%94+%EC%98%88%EB%A7%A4%EC%88%9C%EC%9C%84'"
      ],
      "execution_count": 95,
      "outputs": []
    },
    {
      "cell_type": "code",
      "metadata": {
        "id": "YnqvZkojh8bn",
        "outputId": "d22c5574-80a2-4d9f-c4df-7205bbeccffd",
        "colab": {
          "base_uri": "https://localhost:8080/",
          "height": 89
        }
      },
      "source": [
        "html <- read_html(url)\n",
        "html"
      ],
      "execution_count": 96,
      "outputs": [
        {
          "output_type": "display_data",
          "data": {
            "text/plain": [
              "{html_document}\n",
              "<html xmlns=\"http://www.w3.org/1999/xhtml\" lang=\"ko\" class=\"unix unknown \">\n",
              "[1] <head profile=\"http://a9.com/-/spec/opensearch/1.1/\">\\n<meta http-equiv=\" ...\n",
              "[2] <body class=\"daum  netizen_btm\">\\n\\n<script type=\"text/javascript\">\\nSL.m ..."
            ]
          },
          "metadata": {
            "tags": []
          }
        }
      ]
    },
    {
      "cell_type": "code",
      "metadata": {
        "id": "fvbU_AcdiA8h",
        "outputId": "967a360f-cc42-4698-f201-337379fe283a",
        "colab": {
          "base_uri": "https://localhost:8080/",
          "height": 413
        }
      },
      "source": [
        "titles <- html_nodes(html,'a.tit_main')\n",
        "titles"
      ],
      "execution_count": 97,
      "outputs": [
        {
          "output_type": "display_data",
          "data": {
            "text/plain": [
              "{xml_nodeset (30)}\n",
              " [1] <a href=\"?w=tot&amp;q=%EC%82%BC%EC%A7%84%EA%B7%B8%EB%A3%B9%20%EC%98%81%E ...\n",
              " [2] <a href=\"?w=tot&amp;q=%EC%86%8C%EB%A6%AC%EB%8F%84%20%EC%97%86%EC%9D%B4&a ...\n",
              " [3] <a href=\"?w=tot&amp;q=%EB%8B%B4%EB%B3%B4&amp;DA=MOR&amp;rtmaxcoll=EM1&am ...\n",
              " [4] <a href=\"?w=tot&amp;q=%ED%85%8C%EB%84%B7&amp;DA=MOR&amp;rtmaxcoll=EM1&am ...\n",
              " [5] <a href=\"?w=tot&amp;q=%ED%8E%98%EC%9D%B4%ED%8A%B8%20%EC%8A%A4%ED%85%8C%E ...\n",
              " [6] <a href=\"?w=tot&amp;q=%EA%B7%B8%EB%A6%B0%EB%9E%9C%EB%93%9C&amp;DA=MOR&am ...\n",
              " [7] <a href=\"?w=tot&amp;q=%ED%8F%B0%EC%A1%B0&amp;DA=MOR&amp;rtmaxcoll=EM1&am ...\n",
              " [8] <a href=\"?w=tot&amp;q=%EA%B7%B8%EB%8C%80%2C%20%EA%B3%A0%EB%A7%99%EC%86%8 ...\n",
              " [9] <a href=\"?w=tot&amp;q=%EB%8F%8C%EB%A9%A9%EC%9D%B4&amp;DA=MOR&amp;rtmaxco ...\n",
              "[10] <a href=\"?w=tot&amp;q=%EB%B0%A5%EC%A0%95&amp;DA=MOR&amp;rtmaxcoll=EM1&am ...\n",
              "[11] <a href=\"?w=tot&amp;q=%EC%95%84%EC%9B%83%ED%8F%AC%EC%8A%A4%ED%8A%B8&amp; ...\n",
              "[12] <a href=\"?w=tot&amp;q=%EA%B7%B9%EC%9E%A5%ED%8C%90%20%EC%9A%94%EA%B4%B4%E ...\n",
              "[13] <a href=\"?w=tot&amp;q=%EC%96%B8%ED%9E%8C%EC%A7%80%EB%93%9C&amp;DA=MOR&am ...\n",
              "[14] <a href=\"?w=tot&amp;q=%EC%96%B4%EB%94%94%EA%B0%94%EC%96%B4%2C%20%EB%B2%8 ...\n",
              "[15] <a href=\"?w=tot&amp;q=%ED%94%84%EB%A1%9D%EC%8B%9C%EB%A7%88%20%ED%94%84%E ...\n",
              "[16] <a href=\"?w=tot&amp;q=%EB%A7%88%ED%8B%B4%20%EC%97%90%EB%8D%B4&amp;DA=MOR ...\n",
              "[17] <a href=\"?w=tot&amp;q=%EB%82%A8%EA%B3%BC%20%EC%97%AC%3A%20%EC%97%AC%EC%A ...\n",
              "[18] <a href=\"?w=tot&amp;q=%EB%B8%8C%EB%A0%88%EC%9D%B4%ED%81%AC%20%EB%8D%94%2 ...\n",
              "[19] <a href=\"?w=tot&amp;q=%EA%B5%AD%EC%A0%9C%EC%88%98%EC%82%AC&amp;DA=MOR&am ...\n",
              "[20] <a href=\"?w=tot&amp;q=%EC%95%88%EB%85%95%EA%B9%8C%EC%A7%80%2030%EB%B6%84 ...\n",
              "..."
            ]
          },
          "metadata": {
            "tags": []
          }
        }
      ]
    },
    {
      "cell_type": "code",
      "metadata": {
        "id": "jXdONf4Jiezo",
        "outputId": "5aefeb5d-74b4-409d-ddb8-c94e1c523445",
        "colab": {
          "base_uri": "https://localhost:8080/",
          "height": 102
        }
      },
      "source": [
        "title <- html_text(titles)\n",
        "title"
      ],
      "execution_count": 98,
      "outputs": [
        {
          "output_type": "display_data",
          "data": {
            "text/plain": [
              " [1] \"삼진그룹 영어토익반\"                          \n",
              " [2] \"소리도 없이\"                                  \n",
              " [3] \"담보\"                                         \n",
              " [4] \"테넷\"                                         \n",
              " [5] \"페이트 스테이 나이트 헤븐즈필 제3장 스프링 송\"\n",
              " [6] \"그린랜드\"                                     \n",
              " [7] \"폰조\"                                         \n",
              " [8] \"그대, 고맙소 : 김호중 생애 첫 팬미팅 무비\"    \n",
              " [9] \"돌멩이\"                                       \n",
              "[10] \"밥정\"                                         \n",
              "[11] \"아웃포스트\"                                   \n",
              "[12] \"극장판 요괴워치: 포에버 프렌즈\"               \n",
              "[13] \"언힌지드\"                                     \n",
              "[14] \"어디갔어, 버나뎃\"                             \n",
              "[15] \"프록시마 프로젝트\"                            \n",
              "[16] \"마틴 에덴\"                                    \n",
              "[17] \"남과 여: 여전히 찬란한\"                       \n",
              "[18] \"브레이크 더 사일런스: 더 무비\"                \n",
              "[19] \"국제수사\"                                     \n",
              "[20] \"안녕까지 30분\"                                \n",
              "[21] \"21 브릿지: 테러 셧다운 \"                      \n",
              "[22] \"극장판 포켓몬스터 뮤츠의 역습 EVOLUTION\"      \n",
              "[23] \"너의 이름은.\"                                 \n",
              "[24] \"종이꽃\"                                       \n",
              "[25] \"담쟁이\"                                       \n",
              "[26] \"애프터: 그 후\"                                \n",
              "[27] \"극장판 미니특공대: 햄버거괴물의 습격\"         \n",
              "[28] \"부활: 그 증거\"                                \n",
              "[29] \"태양의 소녀들\"                                \n",
              "[30] \"그리드\"                                       "
            ],
            "text/latex": "\\begin{enumerate*}\n\\item '삼진그룹 영어토익반'\n\\item '소리도 없이'\n\\item '담보'\n\\item '테넷'\n\\item '페이트 스테이 나이트 헤븐즈필 제3장 스프링 송'\n\\item '그린랜드'\n\\item '폰조'\n\\item '그대, 고맙소 : 김호중 생애 첫 팬미팅 무비'\n\\item '돌멩이'\n\\item '밥정'\n\\item '아웃포스트'\n\\item '극장판 요괴워치: 포에버 프렌즈'\n\\item '언힌지드'\n\\item '어디갔어, 버나뎃'\n\\item '프록시마 프로젝트'\n\\item '마틴 에덴'\n\\item '남과 여: 여전히 찬란한'\n\\item '브레이크 더 사일런스: 더 무비'\n\\item '국제수사'\n\\item '안녕까지 30분'\n\\item '21 브릿지: 테러 셧다운 '\n\\item '극장판 포켓몬스터 뮤츠의 역습 EVOLUTION'\n\\item '너의 이름은.'\n\\item '종이꽃'\n\\item '담쟁이'\n\\item '애프터: 그 후'\n\\item '극장판 미니특공대: 햄버거괴물의 습격'\n\\item '부활: 그 증거'\n\\item '태양의 소녀들'\n\\item '그리드'\n\\end{enumerate*}\n",
            "text/markdown": "1. '삼진그룹 영어토익반'\n2. '소리도 없이'\n3. '담보'\n4. '테넷'\n5. '페이트 스테이 나이트 헤븐즈필 제3장 스프링 송'\n6. '그린랜드'\n7. '폰조'\n8. '그대, 고맙소 : 김호중 생애 첫 팬미팅 무비'\n9. '돌멩이'\n10. '밥정'\n11. '아웃포스트'\n12. '극장판 요괴워치: 포에버 프렌즈'\n13. '언힌지드'\n14. '어디갔어, 버나뎃'\n15. '프록시마 프로젝트'\n16. '마틴 에덴'\n17. '남과 여: 여전히 찬란한'\n18. '브레이크 더 사일런스: 더 무비'\n19. '국제수사'\n20. '안녕까지 30분'\n21. '21 브릿지: 테러 셧다운 '\n22. '극장판 포켓몬스터 뮤츠의 역습 EVOLUTION'\n23. '너의 이름은.'\n24. '종이꽃'\n25. '담쟁이'\n26. '애프터: 그 후'\n27. '극장판 미니특공대: 햄버거괴물의 습격'\n28. '부활: 그 증거'\n29. '태양의 소녀들'\n30. '그리드'\n\n\n",
            "text/html": [
              "<style>\n",
              ".list-inline {list-style: none; margin:0; padding: 0}\n",
              ".list-inline>li {display: inline-block}\n",
              ".list-inline>li:not(:last-child)::after {content: \"\\00b7\"; padding: 0 .5ex}\n",
              "</style>\n",
              "<ol class=list-inline><li>'삼진그룹 영어토익반'</li><li>'소리도 없이'</li><li>'담보'</li><li>'테넷'</li><li>'페이트 스테이 나이트 헤븐즈필 제3장 스프링 송'</li><li>'그린랜드'</li><li>'폰조'</li><li>'그대, 고맙소 : 김호중 생애 첫 팬미팅 무비'</li><li>'돌멩이'</li><li>'밥정'</li><li>'아웃포스트'</li><li>'극장판 요괴워치: 포에버 프렌즈'</li><li>'언힌지드'</li><li>'어디갔어, 버나뎃'</li><li>'프록시마 프로젝트'</li><li>'마틴 에덴'</li><li>'남과 여: 여전히 찬란한'</li><li>'브레이크 더 사일런스: 더 무비'</li><li>'국제수사'</li><li>'안녕까지 30분'</li><li>'21 브릿지: 테러 셧다운 '</li><li>'극장판 포켓몬스터 뮤츠의 역습 EVOLUTION'</li><li>'너의 이름은.'</li><li>'종이꽃'</li><li>'담쟁이'</li><li>'애프터: 그 후'</li><li>'극장판 미니특공대: 햄버거괴물의 습격'</li><li>'부활: 그 증거'</li><li>'태양의 소녀들'</li><li>'그리드'</li></ol>\n"
            ]
          },
          "metadata": {
            "tags": []
          }
        }
      ]
    },
    {
      "cell_type": "code",
      "metadata": {
        "id": "Cg91FNLRinph",
        "outputId": "b528c63f-9643-4a46-c6e9-a54eb9bdefaf",
        "colab": {
          "base_uri": "https://localhost:8080/",
          "height": 708
        }
      },
      "source": [
        "daum_movie <- data.frame(title)\n",
        "daum_movie"
      ],
      "execution_count": 99,
      "outputs": [
        {
          "output_type": "display_data",
          "data": {
            "text/plain": [
              "   title                                        \n",
              "1  삼진그룹 영어토익반                          \n",
              "2  소리도 없이                                  \n",
              "3  담보                                         \n",
              "4  테넷                                         \n",
              "5  페이트 스테이 나이트 헤븐즈필 제3장 스프링 송\n",
              "6  그린랜드                                     \n",
              "7  폰조                                         \n",
              "8  그대, 고맙소 : 김호중 생애 첫 팬미팅 무비    \n",
              "9  돌멩이                                       \n",
              "10 밥정                                         \n",
              "11 아웃포스트                                   \n",
              "12 극장판 요괴워치: 포에버 프렌즈               \n",
              "13 언힌지드                                     \n",
              "14 어디갔어, 버나뎃                             \n",
              "15 프록시마 프로젝트                            \n",
              "16 마틴 에덴                                    \n",
              "17 남과 여: 여전히 찬란한                       \n",
              "18 브레이크 더 사일런스: 더 무비                \n",
              "19 국제수사                                     \n",
              "20 안녕까지 30분                                \n",
              "21 21 브릿지: 테러 셧다운                       \n",
              "22 극장판 포켓몬스터 뮤츠의 역습 EVOLUTION      \n",
              "23 너의 이름은.                                 \n",
              "24 종이꽃                                       \n",
              "25 담쟁이                                       \n",
              "26 애프터: 그 후                                \n",
              "27 극장판 미니특공대: 햄버거괴물의 습격         \n",
              "28 부활: 그 증거                                \n",
              "29 태양의 소녀들                                \n",
              "30 그리드                                       "
            ],
            "text/latex": "A data.frame: 30 × 1\n\\begin{tabular}{l}\n title\\\\\n <chr>\\\\\n\\hline\n\t 삼진그룹 영어토익반                          \\\\\n\t 소리도 없이                                  \\\\\n\t 담보                                         \\\\\n\t 테넷                                         \\\\\n\t 페이트 스테이 나이트 헤븐즈필 제3장 스프링 송\\\\\n\t 그린랜드                                     \\\\\n\t 폰조                                         \\\\\n\t 그대, 고맙소 : 김호중 생애 첫 팬미팅 무비    \\\\\n\t 돌멩이                                       \\\\\n\t 밥정                                         \\\\\n\t 아웃포스트                                   \\\\\n\t 극장판 요괴워치: 포에버 프렌즈               \\\\\n\t 언힌지드                                     \\\\\n\t 어디갔어, 버나뎃                             \\\\\n\t 프록시마 프로젝트                            \\\\\n\t 마틴 에덴                                    \\\\\n\t 남과 여: 여전히 찬란한                       \\\\\n\t 브레이크 더 사일런스: 더 무비                \\\\\n\t 국제수사                                     \\\\\n\t 안녕까지 30분                                \\\\\n\t 21 브릿지: 테러 셧다운                       \\\\\n\t 극장판 포켓몬스터 뮤츠의 역습 EVOLUTION      \\\\\n\t 너의 이름은.                                 \\\\\n\t 종이꽃                                       \\\\\n\t 담쟁이                                       \\\\\n\t 애프터: 그 후                                \\\\\n\t 극장판 미니특공대: 햄버거괴물의 습격         \\\\\n\t 부활: 그 증거                                \\\\\n\t 태양의 소녀들                                \\\\\n\t 그리드                                       \\\\\n\\end{tabular}\n",
            "text/markdown": "\nA data.frame: 30 × 1\n\n| title &lt;chr&gt; |\n|---|\n| 삼진그룹 영어토익반                           |\n| 소리도 없이                                   |\n| 담보                                          |\n| 테넷                                          |\n| 페이트 스테이 나이트 헤븐즈필 제3장 스프링 송 |\n| 그린랜드                                      |\n| 폰조                                          |\n| 그대, 고맙소 : 김호중 생애 첫 팬미팅 무비     |\n| 돌멩이                                        |\n| 밥정                                          |\n| 아웃포스트                                    |\n| 극장판 요괴워치: 포에버 프렌즈                |\n| 언힌지드                                      |\n| 어디갔어, 버나뎃                              |\n| 프록시마 프로젝트                             |\n| 마틴 에덴                                     |\n| 남과 여: 여전히 찬란한                        |\n| 브레이크 더 사일런스: 더 무비                 |\n| 국제수사                                      |\n| 안녕까지 30분                                 |\n| 21 브릿지: 테러 셧다운                        |\n| 극장판 포켓몬스터 뮤츠의 역습 EVOLUTION       |\n| 너의 이름은.                                  |\n| 종이꽃                                        |\n| 담쟁이                                        |\n| 애프터: 그 후                                 |\n| 극장판 미니특공대: 햄버거괴물의 습격          |\n| 부활: 그 증거                                 |\n| 태양의 소녀들                                 |\n| 그리드                                        |\n\n",
            "text/html": [
              "<table>\n",
              "<caption>A data.frame: 30 × 1</caption>\n",
              "<thead>\n",
              "\t<tr><th scope=col>title</th></tr>\n",
              "\t<tr><th scope=col>&lt;chr&gt;</th></tr>\n",
              "</thead>\n",
              "<tbody>\n",
              "\t<tr><td>삼진그룹 영어토익반                          </td></tr>\n",
              "\t<tr><td>소리도 없이                                  </td></tr>\n",
              "\t<tr><td>담보                                         </td></tr>\n",
              "\t<tr><td>테넷                                         </td></tr>\n",
              "\t<tr><td>페이트 스테이 나이트 헤븐즈필 제3장 스프링 송</td></tr>\n",
              "\t<tr><td>그린랜드                                     </td></tr>\n",
              "\t<tr><td>폰조                                         </td></tr>\n",
              "\t<tr><td>그대, 고맙소 : 김호중 생애 첫 팬미팅 무비    </td></tr>\n",
              "\t<tr><td>돌멩이                                       </td></tr>\n",
              "\t<tr><td>밥정                                         </td></tr>\n",
              "\t<tr><td>아웃포스트                                   </td></tr>\n",
              "\t<tr><td>극장판 요괴워치: 포에버 프렌즈               </td></tr>\n",
              "\t<tr><td>언힌지드                                     </td></tr>\n",
              "\t<tr><td>어디갔어, 버나뎃                             </td></tr>\n",
              "\t<tr><td>프록시마 프로젝트                            </td></tr>\n",
              "\t<tr><td>마틴 에덴                                    </td></tr>\n",
              "\t<tr><td>남과 여: 여전히 찬란한                       </td></tr>\n",
              "\t<tr><td>브레이크 더 사일런스: 더 무비                </td></tr>\n",
              "\t<tr><td>국제수사                                     </td></tr>\n",
              "\t<tr><td>안녕까지 30분                                </td></tr>\n",
              "\t<tr><td>21 브릿지: 테러 셧다운                       </td></tr>\n",
              "\t<tr><td>극장판 포켓몬스터 뮤츠의 역습 EVOLUTION      </td></tr>\n",
              "\t<tr><td>너의 이름은.                                 </td></tr>\n",
              "\t<tr><td>종이꽃                                       </td></tr>\n",
              "\t<tr><td>담쟁이                                       </td></tr>\n",
              "\t<tr><td>애프터: 그 후                                </td></tr>\n",
              "\t<tr><td>극장판 미니특공대: 햄버거괴물의 습격         </td></tr>\n",
              "\t<tr><td>부활: 그 증거                                </td></tr>\n",
              "\t<tr><td>태양의 소녀들                                </td></tr>\n",
              "\t<tr><td>그리드                                       </td></tr>\n",
              "</tbody>\n",
              "</table>\n"
            ]
          },
          "metadata": {
            "tags": []
          }
        }
      ]
    },
    {
      "cell_type": "code",
      "metadata": {
        "id": "AYp9DIo7i2tN"
      },
      "source": [
        "write.csv(daum_movie, 'daum_movie.csv', row.names=F, fileEncoding='UTF-8')"
      ],
      "execution_count": 102,
      "outputs": []
    },
    {
      "cell_type": "markdown",
      "metadata": {
        "id": "voknbypGVH8_"
      },
      "source": [
        "yes24.com 에서 베스트 메뉴에 나오는 도서 목록에서 홍보문구(Copy)를 추출해서 best_copy.csv로 저장"
      ]
    },
    {
      "cell_type": "code",
      "metadata": {
        "id": "lHkxwZq_V0Wj"
      },
      "source": [
        "url <- 'http://www.yes24.com/24/Category/BestSeller?CategoryNumber=001&sumgb=06'"
      ],
      "execution_count": 51,
      "outputs": []
    },
    {
      "cell_type": "code",
      "metadata": {
        "id": "Zdx1JwMKWLID",
        "outputId": "f5dd533c-97f2-4666-e20c-e3c6ca6cd6fd",
        "colab": {
          "base_uri": "https://localhost:8080/",
          "height": 89
        }
      },
      "source": [
        "html <- read_html(url)\n",
        "html"
      ],
      "execution_count": 52,
      "outputs": [
        {
          "output_type": "display_data",
          "data": {
            "text/plain": [
              "{html_document}\n",
              "<html>\n",
              "[1] <head>\\n<base href=\"http://www.yes24.com/24/\">\\n<meta http-equiv=\"X-UA-Co ...\n",
              "[2] <body>\\r\\n<dl id=\"yesSkip\">\\n<dt>콘텐츠 바로가기</dt>\\r\\n\\t<dd><a href=\"#wrapper ..."
            ]
          },
          "metadata": {
            "tags": []
          }
        }
      ]
    },
    {
      "cell_type": "code",
      "metadata": {
        "id": "HfgSzGWaWQ_a",
        "outputId": "73e6cd17-2182-4090-e4d7-225cb2c743bb",
        "colab": {
          "base_uri": "https://localhost:8080/",
          "height": 395
        }
      },
      "source": [
        "copys <- html_nodes(html,'p.read')\n",
        "copys"
      ],
      "execution_count": 53,
      "outputs": [
        {
          "output_type": "display_data",
          "data": {
            "text/plain": [
              "{xml_nodeset (20)}\n",
              " [1] <p class=\"read\">\\r\\n\\t\\t\\t            가을 하늘처럼 청량한 흔한남매의 웃음과 유머!  『흔한남매 6 ...\n",
              " [2] <p class=\"read\">\\r\\n\\t\\t\\t            여기는 잠들어야만 입장할 수 있는 ‘달러구트 꿈 백화점’입니다 ...\n",
              " [3] <p class=\"read\">\\r\\n\\t\\t\\t            “당신이 잠든 사이에 누군가는 꿈을 이룬다!” 미국 2개 주  ...\n",
              " [4] <p class=\"read\">\\r\\n\\t\\t\\t            코로나가 앞당긴 미래, 더욱 빨라진 변화의 속도 바이러스發 경 ...\n",
              " [5] <p class=\"read\">\\r\\n\\t\\t\\t            유튜브 1,100만 명이 시청한 [돈의 속성] 완결판 최상위  ...\n",
              " [6] <p class=\"read\">\\r\\n\\t\\t\\t            “안은영이 책을 읽는 분들의 친구였으면 좋겠습니다.” -정세랑 ...\n",
              " [7] <p class=\"read\">\\r\\n\\t\\t\\t            “내 공부의 심장이 미친 듯 뛰기 시작했습니다!”  그 흔한  ...\n",
              " [8] <p class=\"read\">\\r\\n\\t\\t\\t            사라진 태학 3인방을 찾아 한국사 대모험 어벤저스가 뜬다! 설 ...\n",
              " [9] <p class=\"read\">\\r\\n\\t\\t\\t            “날개를 주웠다, 내 날개였다.”  시를 읽는 것은 자기 자신 ...\n",
              "[10] <p class=\"read\">\\r\\n\\t\\t\\t            “다가올 세기에 꼭 필요한 필독서” - 대니얼 레비틴, 베스트 ...\n",
              "[11] <p class=\"read\">\\r\\n\\t\\t\\t            2020년 상반기 경제경영 베스트 1위 “금융문맹은 질병이고  ...\n",
              "[12] <p class=\"read\">\\r\\n\\t\\t\\t            '감정을 느끼지 못하는' 소년의 특별한 성장 이야기. 타인의  ...\n",
              "[13] <p class=\"read\">\\r\\n\\t\\t\\t            돈을 위해 일하지 말고 돈이 당신을 위해 일하게 하라  한국  ...\n",
              "[14] <p class=\"read\">\\r\\n\\t\\t\\t            『만남은 지겹고 이별은 지쳤다』는 그에 대한 현명한 방법을 제 ...\n",
              "[15] <p class=\"read\">\\r\\n\\t\\t\\t            부와 행운을 만나는 출발점, 마법의 감정 Having. 국내  ...\n",
              "[16] <p class=\"read\">\\r\\n\\t\\t\\t            당신이 붙잡아야 할 소중함에 대한 모든 것. 『안녕, 소중한  ...\n",
              "[17] <p class=\"read\">\\r\\n\\t\\t\\t            『주식투자 무작정 따라하기』의 5차 개정판에는 지금 당장 시장 ...\n",
              "[18] <p class=\"read\">\\r\\n\\t\\t\\t            “좌파들, 정말 무섭네. 이렇게 진실 보도를 안 하니.” “엄 ...\n",
              "[19] <p class=\"read\">\\r\\n\\t\\t\\t            “누군가 홀로 죽으면 나의 일이 시작된다” 죽음 언저리에서 행 ...\n",
              "[20] <p class=\"read\">\\r\\n\\t\\t\\t            국민 육아멘토 오은영 박사가 알려주는 ‘부모의 말’ “아이의  ..."
            ]
          },
          "metadata": {
            "tags": []
          }
        }
      ]
    },
    {
      "cell_type": "code",
      "metadata": {
        "id": "wuz7HrfdWmD6",
        "outputId": "ca604321-71f6-4eab-e3e3-40e8051dc50d",
        "colab": {
          "base_uri": "https://localhost:8080/",
          "height": 1000
        }
      },
      "source": [
        "copy <- html_text(copys)\n",
        "copy"
      ],
      "execution_count": 54,
      "outputs": [
        {
          "output_type": "display_data",
          "data": {
            "text/plain": [
              " [1] \"\\r\\n\\t\\t\\t            가을 하늘처럼 청량한 흔한남매의 웃음과 유머!  『흔한남매 6』은 ‘흔한남매’ 유튜브 영상의 스토리를 앙증맞고 유머러스한 만화로 풀어 낸 코믹북입니다. 하루도 조용할 날이 없는 으뜸이와 에이미의 일상 스토리는 진짜 웃음이 필요한 어린이들에게 순수한 웃음과 유쾌한 우애를 선사할 것입니다.\\r\\n\\t\\t\\t        \"                        \n",
              " [2] \"\\r\\n\\t\\t\\t            여기는 잠들어야만 입장할 수 있는 ‘달러구트 꿈 백화점’입니다  잠들어야만 입장할 수 있는 독특한 마을. 그곳에 들어온 잠든 손님들에게 가장 인기 있는 곳은, 온갖 꿈을 한데 모아 판매하는 ‘달러구트의 꿈 백화점’이다. 긴 잠을 자는 사람들은 물론이고, 짧은 낮잠을 자는 사람들과 동물들로 매일매일 대성황을 ...\\r\\n\\t\\t\\t        \"      \n",
              " [3] \"\\r\\n\\t\\t\\t            “당신이 잠든 사이에 누군가는 꿈을 이룬다!” 미국 2개 주 변호사 시험에 합격한 김유진 변호사의 아침 사용법  알람이 울리고 5초, 출근 전 2시간으로 만드는 인생의 터닝포인트! 매일 저녁, 내일이 기다려지는 기적의 모닝 루틴  향긋한 차를 한잔하는 여유로운 아침을 꿈꾸는가? 아침형 인간으로 다시 태어나겠...\\r\\n\\t\\t\\t        \"        \n",
              " [4] \"\\r\\n\\t\\t\\t            코로나가 앞당긴 미래, 더욱 빨라진 변화의 속도 바이러스發 경제, V-nomics(브이노믹스) 시대의 전략을 말하다  ‘집콕’이 일상어로 자리 잡고 비대면은 이제 누구에게나 익숙하며 마스크를 쓰지 않는 것이 더 어색한 세상이 되었다. 코로나가 일상이 되면서 사람들은 서서히 21세기 팬데믹에 적응해가는 중이다. 무슨...\\r\\n\\t\\t\\t        \"    \n",
              " [5] \"\\r\\n\\t\\t\\t            유튜브 1,100만 명이 시청한 [돈의 속성] 완결판 최상위 부자 김승호 회장이 직접 밝히는 돈에 대한 통찰과 철학 맨손에서 종잣돈을 만들고 돈을 불리는 75가지 방법  이 책 『돈의 속성』은 3년 전 어느 극장 하나를 빌려 대중에게 강의했던 내용을 기반으로 집필됐다. 강연은 방송을 통해 전파되며 유튜브와 셀럽들에...\\r\\n\\t\\t\\t        \"   \n",
              " [6] \"\\r\\n\\t\\t\\t            “안은영이 책을 읽는 분들의 친구였으면 좋겠습니다.” -정세랑  출간 5주년 & 영상화 기념 리커버 특별판 출간!   2015년 12월에 출간되어 꾸준한 사랑을 받아 온 『보건교사 안은영』이 출간 5주년과 작품 영상화를 기념하여 ‘리커버 특별판’으로 출간되었다. 2010년 단편소설에서 탄생한 ‘안은영’이 ‘넷플릭스...\\r\\n\\t\\t\\t        \"          \n",
              " [7] \"\\r\\n\\t\\t\\t            “내 공부의 심장이 미친 듯 뛰기 시작했습니다!”  그 흔한 학원 하나 없는 깡촌 시골마을에서 내가 서울대 법대, 연세대 경영대, 동신대 한의대에 동시 합격한 비결.  공부 잘하는 가장 빠른 길은 공부의 재미를 찾는 것이다! 공부에 지친 청소년들을 위한 가장 진솔한 격려와 용기의 메시지.  평범한 고등학생 A군...\\r\\n\\t\\t\\t        \"       \n",
              " [8] \"\\r\\n\\t\\t\\t            사라진 태학 3인방을 찾아 한국사 대모험 어벤저스가 뜬다! 설쌤과 온달의 기막힌 구출 대작전이 시작됩니다!  하늘이 내린 전설의 보물, ‘천사옥대’는 대체 어디에 있을까요? 태학 3인방을 구출하려는 설쌤과 온달의 활약과 함께  신라 천 년의 보물을 알아보아요!  고구려의 영광을 나타내는 신물을 찾는 과제를...\\r\\n\\t\\t\\t        \"        \n",
              " [9] \"\\r\\n\\t\\t\\t            “날개를 주웠다, 내 날개였다.”  시를 읽는 것은 자기 자신으로 돌아오는 것이고, 세상을 경이롭게 여기는 것이며, 여러 색의 감정을 경험하는 것이다. 살아온 날들이 살아갈 날들에게 묻는다. ‘마음챙김의 삶을 살고 있는가, 마음놓침의 시간을 보내고 있는가?’  사회적 거리두기와 삶에 대한 성찰이 어느 때보다 ...\\r\\n\\t\\t\\t        \"       \n",
              "[10] \"\\r\\n\\t\\t\\t            “다가올 세기에 꼭 필요한 필독서” - 대니얼 레비틴, 베스트셀러 『정리하는 뇌』의 저자  빌 게이츠가 가장 선호하는 작가 바츨라프 스밀과 『정리하는 뇌』의 대니얼 레비틴 강력 추천 한계를 거부하는 새로운 인종 ‘폴리매스’의 시대가 온다!  모든 인간은 다양한 잠재력을 타고 난다. 역사상 가장 뛰어난 성...\\r\\n\\t\\t\\t        \"          \n",
              "[11] \"\\r\\n\\t\\t\\t            2020년 상반기 경제경영 베스트 1위 “금융문맹은 질병이고  전염병처럼 주위를 모두 가난하게 만든다”  대한민국의 금융철학을 뒤흔든  존 리의 최신작, 『존리의 금융문맹 탈출』  - 기초 투자 철학 확립을 위한 메시지를 담은 책 - 부자가 되기 위해 반드시 읽어야 할 책 - 금융문맹 탈출하기 위한 마인드를 ...\\r\\n\\t\\t\\t        \"           \n",
              "[12] \"\\r\\n\\t\\t\\t            '감정을 느끼지 못하는' 소년의 특별한 성장 이야기. 타인의 감정에 무감각해진 '공감 불능'인 이 시대에 큰 울림을 주는 소설로, 작품 속 인물들이 타인과 관계 맺고 슬픔에 공감하며 성장해 나가는 과정을 탁월하게 묘사했다. 『완득이』, 『위저드 베이커리』를 잇는 제10회 창비청소년문학상 수상작.\\r\\n\\t\\t\\t        \"                    \n",
              "[13] \"\\r\\n\\t\\t\\t            돈을 위해 일하지 말고 돈이 당신을 위해 일하게 하라  한국 사회에 만연한 그릇된 소비행태는 한국 사람들이 돈에 대해 잘못 알고 있는 탓에 형성된 것이다. 바로 열심히 일하고 저축해도 부자가 되기는 불가능하다고 생각하고 포기하기 때문이다. 그러나 부자의 길은 사실 놀라울 정도로 가까운 데 있다. 생각만 바꾸면...\\r\\n\\t\\t\\t        \" \n",
              "[14] \"\\r\\n\\t\\t\\t            『만남은 지겹고 이별은 지쳤다』는 그에 대한 현명한 방법을 제시한다. 50만 구독자들의 슬픈 밤을 달래주며 많은 사람의 고민을 해결해준 ‘색과 체’. 사람들의 이야기에 귀를 기울이고 들어주는 것에 최선을 다했고, 이제는 목소리를 내서 하고 싶은 이야기를 전달하고자 한다. 사랑의 진통이나 이별의 아픔 같은 것들...\\r\\n\\t\\t\\t        \"  \n",
              "[15] \"\\r\\n\\t\\t\\t            부와 행운을 만나는 출발점, 마법의 감정 Having. 국내 최초로 미국에서 선(先)출간, 영미권을 비롯 프랑스, 독일, 이탈리아, 러시아 등 21개국에 판권이 수출되어 ‘불안감이 사라지게 해준 책’, ‘행운의 바이블’ 등 찬사를 받은 책으로 마음가짐을 다듬으며 원하는 것을 얻는 놀라운 가르침을 담고 있다. 버락 오바마...\\r\\n\\t\\t\\t        \"    \n",
              "[16] \"\\r\\n\\t\\t\\t            당신이 붙잡아야 할 소중함에 대한 모든 것. 『안녕, 소중한 사람』은 익숙함 뒤에 가려진 삶의 진정 소중한 가치들을 일깨우는 책이다. 정한경 작가가 섬세하고 따뜻한 언어로 써내려간 이야기 한 편 한 편은 우리 곁에 머물렀던 누군가를 떠올리게 한다. 감정의 여운은 오래 남아, 책을 덮고도 한참을 생각하게 만든다. ...\\r\\n\\t\\t\\t        \"\n",
              "[17] \"\\r\\n\\t\\t\\t            『주식투자 무작정 따라하기』의 5차 개정판에는 지금 당장 시장 분석에 활용할 수 있도록 업데이트된 시장분석자료와 기업데이터는 물론 스마트폰의 대중적 보급에 따른 모바일 환경에서의 투자 조언, 달라진 주식시장 제도, 해외주식투자자를 위한 친절한 조언 등을 꼼꼼하게 담았다. 투자의 기본 원칙은 잃지 않는 것이...\\r\\n\\t\\t\\t        \"\n",
              "[18] \"\\r\\n\\t\\t\\t            “좌파들, 정말 무섭네. 이렇게 진실 보도를 안 하니.” “엄마 무슨 학원 다녀, 그런 말을 다 어디서 배웠어?” 혀를 차며 진심 어이없어하는 손 여사를 보고 있자니, 더 갖다 붙일 말이 없었다. (_「좌파 고양이를 부탁해」 중에서)  이 짧은 대화 한 토막에서 보듯 우리 사회에서는 수많은 의견 대립들이 ‘좌파’냐...\\r\\n\\t\\t\\t        \"         \n",
              "[19] \"\\r\\n\\t\\t\\t            “누군가 홀로 죽으면 나의 일이 시작된다” 죽음 언저리에서 행하는 특별한 서비스에 대하여 수많은 언론이 집중 조명한 어느 특수청소부의 에세이  누군가 홀로 죽은 집, 쓰레기가 산처럼 쌓인 집, 오물이나 동물 사체로 가득한 집…. 쉽사리 볼 수도, 치울 수 없는 곳을 청소하는 특수청소업체 ‘하드웍스’ 대표 김...\\r\\n\\t\\t\\t        \"        \n",
              "[20] \"\\r\\n\\t\\t\\t            국민 육아멘토 오은영 박사가 알려주는 ‘부모의 말’ “아이의 행동을 바꾸고 싶다면 부모의 말을 바꿔야 합니다”  ‘국민 육아멘토’ ‘대한민국 엄마·아빠들의 엄마’ 오은영 박사의 신간. 누구나 쉽게 따라 할 수 있는 ‘부모의 말 한마디’를 친절하게 알려주는 책이다. 아이에게 하는 부모의 말이 잔소리가 아니...\\r\\n\\t\\t\\t        \"             "
            ],
            "text/latex": "\\begin{enumerate*}\n\\item '\\textbackslash{}r\\textbackslash{}n\\textbackslash{}t\\textbackslash{}t\\textbackslash{}t            가을 하늘처럼 청량한 흔한남매의 웃음과 유머!  『흔한남매 6』은 ‘흔한남매’ 유튜브 영상의 스토리를 앙증맞고 유머러스한 만화로 풀어 낸 코믹북입니다. 하루도 조용할 날이 없는 으뜸이와 에이미의 일상 스토리는 진짜 웃음이 필요한 어린이들에게 순수한 웃음과 유쾌한 우애를 선사할 것입니다.\\textbackslash{}r\\textbackslash{}n\\textbackslash{}t\\textbackslash{}t\\textbackslash{}t        '\n\\item '\\textbackslash{}r\\textbackslash{}n\\textbackslash{}t\\textbackslash{}t\\textbackslash{}t            여기는 잠들어야만 입장할 수 있는 ‘달러구트 꿈 백화점’입니다  잠들어야만 입장할 수 있는 독특한 마을. 그곳에 들어온 잠든 손님들에게 가장 인기 있는 곳은, 온갖 꿈을 한데 모아 판매하는 ‘달러구트의 꿈 백화점’이다. 긴 잠을 자는 사람들은 물론이고, 짧은 낮잠을 자는 사람들과 동물들로 매일매일 대성황을 ...\\textbackslash{}r\\textbackslash{}n\\textbackslash{}t\\textbackslash{}t\\textbackslash{}t        '\n\\item '\\textbackslash{}r\\textbackslash{}n\\textbackslash{}t\\textbackslash{}t\\textbackslash{}t            “당신이 잠든 사이에 누군가는 꿈을 이룬다!” 미국 2개 주 변호사 시험에 합격한 김유진 변호사의 아침 사용법  알람이 울리고 5초, 출근 전 2시간으로 만드는 인생의 터닝포인트! 매일 저녁, 내일이 기다려지는 기적의 모닝 루틴  향긋한 차를 한잔하는 여유로운 아침을 꿈꾸는가? 아침형 인간으로 다시 태어나겠...\\textbackslash{}r\\textbackslash{}n\\textbackslash{}t\\textbackslash{}t\\textbackslash{}t        '\n\\item '\\textbackslash{}r\\textbackslash{}n\\textbackslash{}t\\textbackslash{}t\\textbackslash{}t            코로나가 앞당긴 미래, 더욱 빨라진 변화의 속도 바이러스發 경제, V-nomics(브이노믹스) 시대의 전략을 말하다  ‘집콕’이 일상어로 자리 잡고 비대면은 이제 누구에게나 익숙하며 마스크를 쓰지 않는 것이 더 어색한 세상이 되었다. 코로나가 일상이 되면서 사람들은 서서히 21세기 팬데믹에 적응해가는 중이다. 무슨...\\textbackslash{}r\\textbackslash{}n\\textbackslash{}t\\textbackslash{}t\\textbackslash{}t        '\n\\item '\\textbackslash{}r\\textbackslash{}n\\textbackslash{}t\\textbackslash{}t\\textbackslash{}t            유튜브 1,100만 명이 시청한 {[}돈의 속성{]} 완결판 최상위 부자 김승호 회장이 직접 밝히는 돈에 대한 통찰과 철학 맨손에서 종잣돈을 만들고 돈을 불리는 75가지 방법  이 책 『돈의 속성』은 3년 전 어느 극장 하나를 빌려 대중에게 강의했던 내용을 기반으로 집필됐다. 강연은 방송을 통해 전파되며 유튜브와 셀럽들에...\\textbackslash{}r\\textbackslash{}n\\textbackslash{}t\\textbackslash{}t\\textbackslash{}t        '\n\\item '\\textbackslash{}r\\textbackslash{}n\\textbackslash{}t\\textbackslash{}t\\textbackslash{}t            “안은영이 책을 읽는 분들의 친구였으면 좋겠습니다.” -정세랑  출간 5주년 \\& 영상화 기념 리커버 특별판 출간!   2015년 12월에 출간되어 꾸준한 사랑을 받아 온 『보건교사 안은영』이 출간 5주년과 작품 영상화를 기념하여 ‘리커버 특별판’으로 출간되었다. 2010년 단편소설에서 탄생한 ‘안은영’이 ‘넷플릭스...\\textbackslash{}r\\textbackslash{}n\\textbackslash{}t\\textbackslash{}t\\textbackslash{}t        '\n\\item '\\textbackslash{}r\\textbackslash{}n\\textbackslash{}t\\textbackslash{}t\\textbackslash{}t            “내 공부의 심장이 미친 듯 뛰기 시작했습니다!”  그 흔한 학원 하나 없는 깡촌 시골마을에서 내가 서울대 법대, 연세대 경영대, 동신대 한의대에 동시 합격한 비결.  공부 잘하는 가장 빠른 길은 공부의 재미를 찾는 것이다! 공부에 지친 청소년들을 위한 가장 진솔한 격려와 용기의 메시지.  평범한 고등학생 A군...\\textbackslash{}r\\textbackslash{}n\\textbackslash{}t\\textbackslash{}t\\textbackslash{}t        '\n\\item '\\textbackslash{}r\\textbackslash{}n\\textbackslash{}t\\textbackslash{}t\\textbackslash{}t            사라진 태학 3인방을 찾아 한국사 대모험 어벤저스가 뜬다! 설쌤과 온달의 기막힌 구출 대작전이 시작됩니다!  하늘이 내린 전설의 보물, ‘천사옥대’는 대체 어디에 있을까요? 태학 3인방을 구출하려는 설쌤과 온달의 활약과 함께  신라 천 년의 보물을 알아보아요!  고구려의 영광을 나타내는 신물을 찾는 과제를...\\textbackslash{}r\\textbackslash{}n\\textbackslash{}t\\textbackslash{}t\\textbackslash{}t        '\n\\item '\\textbackslash{}r\\textbackslash{}n\\textbackslash{}t\\textbackslash{}t\\textbackslash{}t            “날개를 주웠다, 내 날개였다.”  시를 읽는 것은 자기 자신으로 돌아오는 것이고, 세상을 경이롭게 여기는 것이며, 여러 색의 감정을 경험하는 것이다. 살아온 날들이 살아갈 날들에게 묻는다. ‘마음챙김의 삶을 살고 있는가, 마음놓침의 시간을 보내고 있는가?’  사회적 거리두기와 삶에 대한 성찰이 어느 때보다 ...\\textbackslash{}r\\textbackslash{}n\\textbackslash{}t\\textbackslash{}t\\textbackslash{}t        '\n\\item '\\textbackslash{}r\\textbackslash{}n\\textbackslash{}t\\textbackslash{}t\\textbackslash{}t            “다가올 세기에 꼭 필요한 필독서” - 대니얼 레비틴, 베스트셀러 『정리하는 뇌』의 저자  빌 게이츠가 가장 선호하는 작가 바츨라프 스밀과 『정리하는 뇌』의 대니얼 레비틴 강력 추천 한계를 거부하는 새로운 인종 ‘폴리매스’의 시대가 온다!  모든 인간은 다양한 잠재력을 타고 난다. 역사상 가장 뛰어난 성...\\textbackslash{}r\\textbackslash{}n\\textbackslash{}t\\textbackslash{}t\\textbackslash{}t        '\n\\item '\\textbackslash{}r\\textbackslash{}n\\textbackslash{}t\\textbackslash{}t\\textbackslash{}t            2020년 상반기 경제경영 베스트 1위 “금융문맹은 질병이고  전염병처럼 주위를 모두 가난하게 만든다”  대한민국의 금융철학을 뒤흔든  존 리의 최신작, 『존리의 금융문맹 탈출』  - 기초 투자 철학 확립을 위한 메시지를 담은 책 - 부자가 되기 위해 반드시 읽어야 할 책 - 금융문맹 탈출하기 위한 마인드를 ...\\textbackslash{}r\\textbackslash{}n\\textbackslash{}t\\textbackslash{}t\\textbackslash{}t        '\n\\item '\\textbackslash{}r\\textbackslash{}n\\textbackslash{}t\\textbackslash{}t\\textbackslash{}t            \\textbackslash{}'감정을 느끼지 못하는\\textbackslash{}' 소년의 특별한 성장 이야기. 타인의 감정에 무감각해진 \\textbackslash{}'공감 불능\\textbackslash{}'인 이 시대에 큰 울림을 주는 소설로, 작품 속 인물들이 타인과 관계 맺고 슬픔에 공감하며 성장해 나가는 과정을 탁월하게 묘사했다. 『완득이』, 『위저드 베이커리』를 잇는 제10회 창비청소년문학상 수상작.\\textbackslash{}r\\textbackslash{}n\\textbackslash{}t\\textbackslash{}t\\textbackslash{}t        '\n\\item '\\textbackslash{}r\\textbackslash{}n\\textbackslash{}t\\textbackslash{}t\\textbackslash{}t            돈을 위해 일하지 말고 돈이 당신을 위해 일하게 하라  한국 사회에 만연한 그릇된 소비행태는 한국 사람들이 돈에 대해 잘못 알고 있는 탓에 형성된 것이다. 바로 열심히 일하고 저축해도 부자가 되기는 불가능하다고 생각하고 포기하기 때문이다. 그러나 부자의 길은 사실 놀라울 정도로 가까운 데 있다. 생각만 바꾸면...\\textbackslash{}r\\textbackslash{}n\\textbackslash{}t\\textbackslash{}t\\textbackslash{}t        '\n\\item '\\textbackslash{}r\\textbackslash{}n\\textbackslash{}t\\textbackslash{}t\\textbackslash{}t            『만남은 지겹고 이별은 지쳤다』는 그에 대한 현명한 방법을 제시한다. 50만 구독자들의 슬픈 밤을 달래주며 많은 사람의 고민을 해결해준 ‘색과 체’. 사람들의 이야기에 귀를 기울이고 들어주는 것에 최선을 다했고, 이제는 목소리를 내서 하고 싶은 이야기를 전달하고자 한다. 사랑의 진통이나 이별의 아픔 같은 것들...\\textbackslash{}r\\textbackslash{}n\\textbackslash{}t\\textbackslash{}t\\textbackslash{}t        '\n\\item '\\textbackslash{}r\\textbackslash{}n\\textbackslash{}t\\textbackslash{}t\\textbackslash{}t            부와 행운을 만나는 출발점, 마법의 감정 Having. 국내 최초로 미국에서 선(先)출간, 영미권을 비롯 프랑스, 독일, 이탈리아, 러시아 등 21개국에 판권이 수출되어 ‘불안감이 사라지게 해준 책’, ‘행운의 바이블’ 등 찬사를 받은 책으로 마음가짐을 다듬으며 원하는 것을 얻는 놀라운 가르침을 담고 있다. 버락 오바마...\\textbackslash{}r\\textbackslash{}n\\textbackslash{}t\\textbackslash{}t\\textbackslash{}t        '\n\\item '\\textbackslash{}r\\textbackslash{}n\\textbackslash{}t\\textbackslash{}t\\textbackslash{}t            당신이 붙잡아야 할 소중함에 대한 모든 것. 『안녕, 소중한 사람』은 익숙함 뒤에 가려진 삶의 진정 소중한 가치들을 일깨우는 책이다. 정한경 작가가 섬세하고 따뜻한 언어로 써내려간 이야기 한 편 한 편은 우리 곁에 머물렀던 누군가를 떠올리게 한다. 감정의 여운은 오래 남아, 책을 덮고도 한참을 생각하게 만든다. ...\\textbackslash{}r\\textbackslash{}n\\textbackslash{}t\\textbackslash{}t\\textbackslash{}t        '\n\\item '\\textbackslash{}r\\textbackslash{}n\\textbackslash{}t\\textbackslash{}t\\textbackslash{}t            『주식투자 무작정 따라하기』의 5차 개정판에는 지금 당장 시장 분석에 활용할 수 있도록 업데이트된 시장분석자료와 기업데이터는 물론 스마트폰의 대중적 보급에 따른 모바일 환경에서의 투자 조언, 달라진 주식시장 제도, 해외주식투자자를 위한 친절한 조언 등을 꼼꼼하게 담았다. 투자의 기본 원칙은 잃지 않는 것이...\\textbackslash{}r\\textbackslash{}n\\textbackslash{}t\\textbackslash{}t\\textbackslash{}t        '\n\\item '\\textbackslash{}r\\textbackslash{}n\\textbackslash{}t\\textbackslash{}t\\textbackslash{}t            “좌파들, 정말 무섭네. 이렇게 진실 보도를 안 하니.” “엄마 무슨 학원 다녀, 그런 말을 다 어디서 배웠어?” 혀를 차며 진심 어이없어하는 손 여사를 보고 있자니, 더 갖다 붙일 말이 없었다. (\\_「좌파 고양이를 부탁해」 중에서)  이 짧은 대화 한 토막에서 보듯 우리 사회에서는 수많은 의견 대립들이 ‘좌파’냐...\\textbackslash{}r\\textbackslash{}n\\textbackslash{}t\\textbackslash{}t\\textbackslash{}t        '\n\\item '\\textbackslash{}r\\textbackslash{}n\\textbackslash{}t\\textbackslash{}t\\textbackslash{}t            “누군가 홀로 죽으면 나의 일이 시작된다” 죽음 언저리에서 행하는 특별한 서비스에 대하여 수많은 언론이 집중 조명한 어느 특수청소부의 에세이  누군가 홀로 죽은 집, 쓰레기가 산처럼 쌓인 집, 오물이나 동물 사체로 가득한 집…. 쉽사리 볼 수도, 치울 수 없는 곳을 청소하는 특수청소업체 ‘하드웍스’ 대표 김...\\textbackslash{}r\\textbackslash{}n\\textbackslash{}t\\textbackslash{}t\\textbackslash{}t        '\n\\item '\\textbackslash{}r\\textbackslash{}n\\textbackslash{}t\\textbackslash{}t\\textbackslash{}t            국민 육아멘토 오은영 박사가 알려주는 ‘부모의 말’ “아이의 행동을 바꾸고 싶다면 부모의 말을 바꿔야 합니다”  ‘국민 육아멘토’ ‘대한민국 엄마·아빠들의 엄마’ 오은영 박사의 신간. 누구나 쉽게 따라 할 수 있는 ‘부모의 말 한마디’를 친절하게 알려주는 책이다. 아이에게 하는 부모의 말이 잔소리가 아니...\\textbackslash{}r\\textbackslash{}n\\textbackslash{}t\\textbackslash{}t\\textbackslash{}t        '\n\\end{enumerate*}\n",
            "text/markdown": "1. <span style=white-space:pre-wrap>'\\r\\n\\t\\t\\t            가을 하늘처럼 청량한 흔한남매의 웃음과 유머!  『흔한남매 6』은 ‘흔한남매’ 유튜브 영상의 스토리를 앙증맞고 유머러스한 만화로 풀어 낸 코믹북입니다. 하루도 조용할 날이 없는 으뜸이와 에이미의 일상 스토리는 진짜 웃음이 필요한 어린이들에게 순수한 웃음과 유쾌한 우애를 선사할 것입니다.\\r\\n\\t\\t\\t        '</span>\n2. <span style=white-space:pre-wrap>'\\r\\n\\t\\t\\t            여기는 잠들어야만 입장할 수 있는 ‘달러구트 꿈 백화점’입니다  잠들어야만 입장할 수 있는 독특한 마을. 그곳에 들어온 잠든 손님들에게 가장 인기 있는 곳은, 온갖 꿈을 한데 모아 판매하는 ‘달러구트의 꿈 백화점’이다. 긴 잠을 자는 사람들은 물론이고, 짧은 낮잠을 자는 사람들과 동물들로 매일매일 대성황을 ...\\r\\n\\t\\t\\t        '</span>\n3. <span style=white-space:pre-wrap>'\\r\\n\\t\\t\\t            “당신이 잠든 사이에 누군가는 꿈을 이룬다!” 미국 2개 주 변호사 시험에 합격한 김유진 변호사의 아침 사용법  알람이 울리고 5초, 출근 전 2시간으로 만드는 인생의 터닝포인트! 매일 저녁, 내일이 기다려지는 기적의 모닝 루틴  향긋한 차를 한잔하는 여유로운 아침을 꿈꾸는가? 아침형 인간으로 다시 태어나겠...\\r\\n\\t\\t\\t        '</span>\n4. <span style=white-space:pre-wrap>'\\r\\n\\t\\t\\t            코로나가 앞당긴 미래, 더욱 빨라진 변화의 속도 바이러스發 경제, V-nomics(브이노믹스) 시대의 전략을 말하다  ‘집콕’이 일상어로 자리 잡고 비대면은 이제 누구에게나 익숙하며 마스크를 쓰지 않는 것이 더 어색한 세상이 되었다. 코로나가 일상이 되면서 사람들은 서서히 21세기 팬데믹에 적응해가는 중이다. 무슨...\\r\\n\\t\\t\\t        '</span>\n5. <span style=white-space:pre-wrap>'\\r\\n\\t\\t\\t            유튜브 1,100만 명이 시청한 [돈의 속성] 완결판 최상위 부자 김승호 회장이 직접 밝히는 돈에 대한 통찰과 철학 맨손에서 종잣돈을 만들고 돈을 불리는 75가지 방법  이 책 『돈의 속성』은 3년 전 어느 극장 하나를 빌려 대중에게 강의했던 내용을 기반으로 집필됐다. 강연은 방송을 통해 전파되며 유튜브와 셀럽들에...\\r\\n\\t\\t\\t        '</span>\n6. <span style=white-space:pre-wrap>'\\r\\n\\t\\t\\t            “안은영이 책을 읽는 분들의 친구였으면 좋겠습니다.” -정세랑  출간 5주년 &amp; 영상화 기념 리커버 특별판 출간!   2015년 12월에 출간되어 꾸준한 사랑을 받아 온 『보건교사 안은영』이 출간 5주년과 작품 영상화를 기념하여 ‘리커버 특별판’으로 출간되었다. 2010년 단편소설에서 탄생한 ‘안은영’이 ‘넷플릭스...\\r\\n\\t\\t\\t        '</span>\n7. <span style=white-space:pre-wrap>'\\r\\n\\t\\t\\t            “내 공부의 심장이 미친 듯 뛰기 시작했습니다!”  그 흔한 학원 하나 없는 깡촌 시골마을에서 내가 서울대 법대, 연세대 경영대, 동신대 한의대에 동시 합격한 비결.  공부 잘하는 가장 빠른 길은 공부의 재미를 찾는 것이다! 공부에 지친 청소년들을 위한 가장 진솔한 격려와 용기의 메시지.  평범한 고등학생 A군...\\r\\n\\t\\t\\t        '</span>\n8. <span style=white-space:pre-wrap>'\\r\\n\\t\\t\\t            사라진 태학 3인방을 찾아 한국사 대모험 어벤저스가 뜬다! 설쌤과 온달의 기막힌 구출 대작전이 시작됩니다!  하늘이 내린 전설의 보물, ‘천사옥대’는 대체 어디에 있을까요? 태학 3인방을 구출하려는 설쌤과 온달의 활약과 함께  신라 천 년의 보물을 알아보아요!  고구려의 영광을 나타내는 신물을 찾는 과제를...\\r\\n\\t\\t\\t        '</span>\n9. <span style=white-space:pre-wrap>'\\r\\n\\t\\t\\t            “날개를 주웠다, 내 날개였다.”  시를 읽는 것은 자기 자신으로 돌아오는 것이고, 세상을 경이롭게 여기는 것이며, 여러 색의 감정을 경험하는 것이다. 살아온 날들이 살아갈 날들에게 묻는다. ‘마음챙김의 삶을 살고 있는가, 마음놓침의 시간을 보내고 있는가?’  사회적 거리두기와 삶에 대한 성찰이 어느 때보다 ...\\r\\n\\t\\t\\t        '</span>\n10. <span style=white-space:pre-wrap>'\\r\\n\\t\\t\\t            “다가올 세기에 꼭 필요한 필독서” - 대니얼 레비틴, 베스트셀러 『정리하는 뇌』의 저자  빌 게이츠가 가장 선호하는 작가 바츨라프 스밀과 『정리하는 뇌』의 대니얼 레비틴 강력 추천 한계를 거부하는 새로운 인종 ‘폴리매스’의 시대가 온다!  모든 인간은 다양한 잠재력을 타고 난다. 역사상 가장 뛰어난 성...\\r\\n\\t\\t\\t        '</span>\n11. <span style=white-space:pre-wrap>'\\r\\n\\t\\t\\t            2020년 상반기 경제경영 베스트 1위 “금융문맹은 질병이고  전염병처럼 주위를 모두 가난하게 만든다”  대한민국의 금융철학을 뒤흔든  존 리의 최신작, 『존리의 금융문맹 탈출』  - 기초 투자 철학 확립을 위한 메시지를 담은 책 - 부자가 되기 위해 반드시 읽어야 할 책 - 금융문맹 탈출하기 위한 마인드를 ...\\r\\n\\t\\t\\t        '</span>\n12. <span style=white-space:pre-wrap>'\\r\\n\\t\\t\\t            \\'감정을 느끼지 못하는\\' 소년의 특별한 성장 이야기. 타인의 감정에 무감각해진 \\'공감 불능\\'인 이 시대에 큰 울림을 주는 소설로, 작품 속 인물들이 타인과 관계 맺고 슬픔에 공감하며 성장해 나가는 과정을 탁월하게 묘사했다. 『완득이』, 『위저드 베이커리』를 잇는 제10회 창비청소년문학상 수상작.\\r\\n\\t\\t\\t        '</span>\n13. <span style=white-space:pre-wrap>'\\r\\n\\t\\t\\t            돈을 위해 일하지 말고 돈이 당신을 위해 일하게 하라  한국 사회에 만연한 그릇된 소비행태는 한국 사람들이 돈에 대해 잘못 알고 있는 탓에 형성된 것이다. 바로 열심히 일하고 저축해도 부자가 되기는 불가능하다고 생각하고 포기하기 때문이다. 그러나 부자의 길은 사실 놀라울 정도로 가까운 데 있다. 생각만 바꾸면...\\r\\n\\t\\t\\t        '</span>\n14. <span style=white-space:pre-wrap>'\\r\\n\\t\\t\\t            『만남은 지겹고 이별은 지쳤다』는 그에 대한 현명한 방법을 제시한다. 50만 구독자들의 슬픈 밤을 달래주며 많은 사람의 고민을 해결해준 ‘색과 체’. 사람들의 이야기에 귀를 기울이고 들어주는 것에 최선을 다했고, 이제는 목소리를 내서 하고 싶은 이야기를 전달하고자 한다. 사랑의 진통이나 이별의 아픔 같은 것들...\\r\\n\\t\\t\\t        '</span>\n15. <span style=white-space:pre-wrap>'\\r\\n\\t\\t\\t            부와 행운을 만나는 출발점, 마법의 감정 Having. 국내 최초로 미국에서 선(先)출간, 영미권을 비롯 프랑스, 독일, 이탈리아, 러시아 등 21개국에 판권이 수출되어 ‘불안감이 사라지게 해준 책’, ‘행운의 바이블’ 등 찬사를 받은 책으로 마음가짐을 다듬으며 원하는 것을 얻는 놀라운 가르침을 담고 있다. 버락 오바마...\\r\\n\\t\\t\\t        '</span>\n16. <span style=white-space:pre-wrap>'\\r\\n\\t\\t\\t            당신이 붙잡아야 할 소중함에 대한 모든 것. 『안녕, 소중한 사람』은 익숙함 뒤에 가려진 삶의 진정 소중한 가치들을 일깨우는 책이다. 정한경 작가가 섬세하고 따뜻한 언어로 써내려간 이야기 한 편 한 편은 우리 곁에 머물렀던 누군가를 떠올리게 한다. 감정의 여운은 오래 남아, 책을 덮고도 한참을 생각하게 만든다. ...\\r\\n\\t\\t\\t        '</span>\n17. <span style=white-space:pre-wrap>'\\r\\n\\t\\t\\t            『주식투자 무작정 따라하기』의 5차 개정판에는 지금 당장 시장 분석에 활용할 수 있도록 업데이트된 시장분석자료와 기업데이터는 물론 스마트폰의 대중적 보급에 따른 모바일 환경에서의 투자 조언, 달라진 주식시장 제도, 해외주식투자자를 위한 친절한 조언 등을 꼼꼼하게 담았다. 투자의 기본 원칙은 잃지 않는 것이...\\r\\n\\t\\t\\t        '</span>\n18. <span style=white-space:pre-wrap>'\\r\\n\\t\\t\\t            “좌파들, 정말 무섭네. 이렇게 진실 보도를 안 하니.” “엄마 무슨 학원 다녀, 그런 말을 다 어디서 배웠어?” 혀를 차며 진심 어이없어하는 손 여사를 보고 있자니, 더 갖다 붙일 말이 없었다. (_「좌파 고양이를 부탁해」 중에서)  이 짧은 대화 한 토막에서 보듯 우리 사회에서는 수많은 의견 대립들이 ‘좌파’냐...\\r\\n\\t\\t\\t        '</span>\n19. <span style=white-space:pre-wrap>'\\r\\n\\t\\t\\t            “누군가 홀로 죽으면 나의 일이 시작된다” 죽음 언저리에서 행하는 특별한 서비스에 대하여 수많은 언론이 집중 조명한 어느 특수청소부의 에세이  누군가 홀로 죽은 집, 쓰레기가 산처럼 쌓인 집, 오물이나 동물 사체로 가득한 집…. 쉽사리 볼 수도, 치울 수 없는 곳을 청소하는 특수청소업체 ‘하드웍스’ 대표 김...\\r\\n\\t\\t\\t        '</span>\n20. <span style=white-space:pre-wrap>'\\r\\n\\t\\t\\t            국민 육아멘토 오은영 박사가 알려주는 ‘부모의 말’ “아이의 행동을 바꾸고 싶다면 부모의 말을 바꿔야 합니다”  ‘국민 육아멘토’ ‘대한민국 엄마·아빠들의 엄마’ 오은영 박사의 신간. 누구나 쉽게 따라 할 수 있는 ‘부모의 말 한마디’를 친절하게 알려주는 책이다. 아이에게 하는 부모의 말이 잔소리가 아니...\\r\\n\\t\\t\\t        '</span>\n\n\n",
            "text/html": [
              "<style>\n",
              ".list-inline {list-style: none; margin:0; padding: 0}\n",
              ".list-inline>li {display: inline-block}\n",
              ".list-inline>li:not(:last-child)::after {content: \"\\00b7\"; padding: 0 .5ex}\n",
              "</style>\n",
              "<ol class=list-inline><li><span style=white-space:pre-wrap>'\\r\\n\\t\\t\\t            가을 하늘처럼 청량한 흔한남매의 웃음과 유머!  『흔한남매 6』은 ‘흔한남매’ 유튜브 영상의 스토리를 앙증맞고 유머러스한 만화로 풀어 낸 코믹북입니다. 하루도 조용할 날이 없는 으뜸이와 에이미의 일상 스토리는 진짜 웃음이 필요한 어린이들에게 순수한 웃음과 유쾌한 우애를 선사할 것입니다.\\r\\n\\t\\t\\t        '</span></li><li><span style=white-space:pre-wrap>'\\r\\n\\t\\t\\t            여기는 잠들어야만 입장할 수 있는 ‘달러구트 꿈 백화점’입니다  잠들어야만 입장할 수 있는 독특한 마을. 그곳에 들어온 잠든 손님들에게 가장 인기 있는 곳은, 온갖 꿈을 한데 모아 판매하는 ‘달러구트의 꿈 백화점’이다. 긴 잠을 자는 사람들은 물론이고, 짧은 낮잠을 자는 사람들과 동물들로 매일매일 대성황을 ...\\r\\n\\t\\t\\t        '</span></li><li><span style=white-space:pre-wrap>'\\r\\n\\t\\t\\t            “당신이 잠든 사이에 누군가는 꿈을 이룬다!” 미국 2개 주 변호사 시험에 합격한 김유진 변호사의 아침 사용법  알람이 울리고 5초, 출근 전 2시간으로 만드는 인생의 터닝포인트! 매일 저녁, 내일이 기다려지는 기적의 모닝 루틴  향긋한 차를 한잔하는 여유로운 아침을 꿈꾸는가? 아침형 인간으로 다시 태어나겠...\\r\\n\\t\\t\\t        '</span></li><li><span style=white-space:pre-wrap>'\\r\\n\\t\\t\\t            코로나가 앞당긴 미래, 더욱 빨라진 변화의 속도 바이러스發 경제, V-nomics(브이노믹스) 시대의 전략을 말하다  ‘집콕’이 일상어로 자리 잡고 비대면은 이제 누구에게나 익숙하며 마스크를 쓰지 않는 것이 더 어색한 세상이 되었다. 코로나가 일상이 되면서 사람들은 서서히 21세기 팬데믹에 적응해가는 중이다. 무슨...\\r\\n\\t\\t\\t        '</span></li><li><span style=white-space:pre-wrap>'\\r\\n\\t\\t\\t            유튜브 1,100만 명이 시청한 [돈의 속성] 완결판 최상위 부자 김승호 회장이 직접 밝히는 돈에 대한 통찰과 철학 맨손에서 종잣돈을 만들고 돈을 불리는 75가지 방법  이 책 『돈의 속성』은 3년 전 어느 극장 하나를 빌려 대중에게 강의했던 내용을 기반으로 집필됐다. 강연은 방송을 통해 전파되며 유튜브와 셀럽들에...\\r\\n\\t\\t\\t        '</span></li><li><span style=white-space:pre-wrap>'\\r\\n\\t\\t\\t            “안은영이 책을 읽는 분들의 친구였으면 좋겠습니다.” -정세랑  출간 5주년 &amp; 영상화 기념 리커버 특별판 출간!   2015년 12월에 출간되어 꾸준한 사랑을 받아 온 『보건교사 안은영』이 출간 5주년과 작품 영상화를 기념하여 ‘리커버 특별판’으로 출간되었다. 2010년 단편소설에서 탄생한 ‘안은영’이 ‘넷플릭스...\\r\\n\\t\\t\\t        '</span></li><li><span style=white-space:pre-wrap>'\\r\\n\\t\\t\\t            “내 공부의 심장이 미친 듯 뛰기 시작했습니다!”  그 흔한 학원 하나 없는 깡촌 시골마을에서 내가 서울대 법대, 연세대 경영대, 동신대 한의대에 동시 합격한 비결.  공부 잘하는 가장 빠른 길은 공부의 재미를 찾는 것이다! 공부에 지친 청소년들을 위한 가장 진솔한 격려와 용기의 메시지.  평범한 고등학생 A군...\\r\\n\\t\\t\\t        '</span></li><li><span style=white-space:pre-wrap>'\\r\\n\\t\\t\\t            사라진 태학 3인방을 찾아 한국사 대모험 어벤저스가 뜬다! 설쌤과 온달의 기막힌 구출 대작전이 시작됩니다!  하늘이 내린 전설의 보물, ‘천사옥대’는 대체 어디에 있을까요? 태학 3인방을 구출하려는 설쌤과 온달의 활약과 함께  신라 천 년의 보물을 알아보아요!  고구려의 영광을 나타내는 신물을 찾는 과제를...\\r\\n\\t\\t\\t        '</span></li><li><span style=white-space:pre-wrap>'\\r\\n\\t\\t\\t            “날개를 주웠다, 내 날개였다.”  시를 읽는 것은 자기 자신으로 돌아오는 것이고, 세상을 경이롭게 여기는 것이며, 여러 색의 감정을 경험하는 것이다. 살아온 날들이 살아갈 날들에게 묻는다. ‘마음챙김의 삶을 살고 있는가, 마음놓침의 시간을 보내고 있는가?’  사회적 거리두기와 삶에 대한 성찰이 어느 때보다 ...\\r\\n\\t\\t\\t        '</span></li><li><span style=white-space:pre-wrap>'\\r\\n\\t\\t\\t            “다가올 세기에 꼭 필요한 필독서” - 대니얼 레비틴, 베스트셀러 『정리하는 뇌』의 저자  빌 게이츠가 가장 선호하는 작가 바츨라프 스밀과 『정리하는 뇌』의 대니얼 레비틴 강력 추천 한계를 거부하는 새로운 인종 ‘폴리매스’의 시대가 온다!  모든 인간은 다양한 잠재력을 타고 난다. 역사상 가장 뛰어난 성...\\r\\n\\t\\t\\t        '</span></li><li><span style=white-space:pre-wrap>'\\r\\n\\t\\t\\t            2020년 상반기 경제경영 베스트 1위 “금융문맹은 질병이고  전염병처럼 주위를 모두 가난하게 만든다”  대한민국의 금융철학을 뒤흔든  존 리의 최신작, 『존리의 금융문맹 탈출』  - 기초 투자 철학 확립을 위한 메시지를 담은 책 - 부자가 되기 위해 반드시 읽어야 할 책 - 금융문맹 탈출하기 위한 마인드를 ...\\r\\n\\t\\t\\t        '</span></li><li><span style=white-space:pre-wrap>'\\r\\n\\t\\t\\t            \\'감정을 느끼지 못하는\\' 소년의 특별한 성장 이야기. 타인의 감정에 무감각해진 \\'공감 불능\\'인 이 시대에 큰 울림을 주는 소설로, 작품 속 인물들이 타인과 관계 맺고 슬픔에 공감하며 성장해 나가는 과정을 탁월하게 묘사했다. 『완득이』, 『위저드 베이커리』를 잇는 제10회 창비청소년문학상 수상작.\\r\\n\\t\\t\\t        '</span></li><li><span style=white-space:pre-wrap>'\\r\\n\\t\\t\\t            돈을 위해 일하지 말고 돈이 당신을 위해 일하게 하라  한국 사회에 만연한 그릇된 소비행태는 한국 사람들이 돈에 대해 잘못 알고 있는 탓에 형성된 것이다. 바로 열심히 일하고 저축해도 부자가 되기는 불가능하다고 생각하고 포기하기 때문이다. 그러나 부자의 길은 사실 놀라울 정도로 가까운 데 있다. 생각만 바꾸면...\\r\\n\\t\\t\\t        '</span></li><li><span style=white-space:pre-wrap>'\\r\\n\\t\\t\\t            『만남은 지겹고 이별은 지쳤다』는 그에 대한 현명한 방법을 제시한다. 50만 구독자들의 슬픈 밤을 달래주며 많은 사람의 고민을 해결해준 ‘색과 체’. 사람들의 이야기에 귀를 기울이고 들어주는 것에 최선을 다했고, 이제는 목소리를 내서 하고 싶은 이야기를 전달하고자 한다. 사랑의 진통이나 이별의 아픔 같은 것들...\\r\\n\\t\\t\\t        '</span></li><li><span style=white-space:pre-wrap>'\\r\\n\\t\\t\\t            부와 행운을 만나는 출발점, 마법의 감정 Having. 국내 최초로 미국에서 선(先)출간, 영미권을 비롯 프랑스, 독일, 이탈리아, 러시아 등 21개국에 판권이 수출되어 ‘불안감이 사라지게 해준 책’, ‘행운의 바이블’ 등 찬사를 받은 책으로 마음가짐을 다듬으며 원하는 것을 얻는 놀라운 가르침을 담고 있다. 버락 오바마...\\r\\n\\t\\t\\t        '</span></li><li><span style=white-space:pre-wrap>'\\r\\n\\t\\t\\t            당신이 붙잡아야 할 소중함에 대한 모든 것. 『안녕, 소중한 사람』은 익숙함 뒤에 가려진 삶의 진정 소중한 가치들을 일깨우는 책이다. 정한경 작가가 섬세하고 따뜻한 언어로 써내려간 이야기 한 편 한 편은 우리 곁에 머물렀던 누군가를 떠올리게 한다. 감정의 여운은 오래 남아, 책을 덮고도 한참을 생각하게 만든다. ...\\r\\n\\t\\t\\t        '</span></li><li><span style=white-space:pre-wrap>'\\r\\n\\t\\t\\t            『주식투자 무작정 따라하기』의 5차 개정판에는 지금 당장 시장 분석에 활용할 수 있도록 업데이트된 시장분석자료와 기업데이터는 물론 스마트폰의 대중적 보급에 따른 모바일 환경에서의 투자 조언, 달라진 주식시장 제도, 해외주식투자자를 위한 친절한 조언 등을 꼼꼼하게 담았다. 투자의 기본 원칙은 잃지 않는 것이...\\r\\n\\t\\t\\t        '</span></li><li><span style=white-space:pre-wrap>'\\r\\n\\t\\t\\t            “좌파들, 정말 무섭네. 이렇게 진실 보도를 안 하니.” “엄마 무슨 학원 다녀, 그런 말을 다 어디서 배웠어?” 혀를 차며 진심 어이없어하는 손 여사를 보고 있자니, 더 갖다 붙일 말이 없었다. (_「좌파 고양이를 부탁해」 중에서)  이 짧은 대화 한 토막에서 보듯 우리 사회에서는 수많은 의견 대립들이 ‘좌파’냐...\\r\\n\\t\\t\\t        '</span></li><li><span style=white-space:pre-wrap>'\\r\\n\\t\\t\\t            “누군가 홀로 죽으면 나의 일이 시작된다” 죽음 언저리에서 행하는 특별한 서비스에 대하여 수많은 언론이 집중 조명한 어느 특수청소부의 에세이  누군가 홀로 죽은 집, 쓰레기가 산처럼 쌓인 집, 오물이나 동물 사체로 가득한 집…. 쉽사리 볼 수도, 치울 수 없는 곳을 청소하는 특수청소업체 ‘하드웍스’ 대표 김...\\r\\n\\t\\t\\t        '</span></li><li><span style=white-space:pre-wrap>'\\r\\n\\t\\t\\t            국민 육아멘토 오은영 박사가 알려주는 ‘부모의 말’ “아이의 행동을 바꾸고 싶다면 부모의 말을 바꿔야 합니다”  ‘국민 육아멘토’ ‘대한민국 엄마·아빠들의 엄마’ 오은영 박사의 신간. 누구나 쉽게 따라 할 수 있는 ‘부모의 말 한마디’를 친절하게 알려주는 책이다. 아이에게 하는 부모의 말이 잔소리가 아니...\\r\\n\\t\\t\\t        '</span></li></ol>\n"
            ]
          },
          "metadata": {
            "tags": []
          }
        }
      ]
    },
    {
      "cell_type": "code",
      "metadata": {
        "id": "BfS8bqpGWsRb",
        "outputId": "c4c69e6f-ff1d-4f32-c508-8b0c04ebfede",
        "colab": {
          "base_uri": "https://localhost:8080/",
          "height": 889
        }
      },
      "source": [
        "best_copy <- data.frame(copy)\n",
        "best_copy"
      ],
      "execution_count": 55,
      "outputs": [
        {
          "output_type": "display_data",
          "data": {
            "text/plain": [
              "   copy                                                                                                                                                                                                                                                                                                                                                  \n",
              "1  \\r\\n\\t\\t\\t            가을 하늘처럼 청량한 흔한남매의 웃음과 유머!  『흔한남매 6』은 ‘흔한남매’ 유튜브 영상의 스토리를 앙증맞고 유머러스한 만화로 풀어 낸 코믹북입니다. 하루도 조용할 날이 없는 으뜸이와 에이미의 일상 스토리는 진짜 웃음이 필요한 어린이들에게 순수한 웃음과 유쾌한 우애를 선사할 것입니다.\\r\\n\\t\\t\\t                                \n",
              "2  \\r\\n\\t\\t\\t            여기는 잠들어야만 입장할 수 있는 ‘달러구트 꿈 백화점’입니다  잠들어야만 입장할 수 있는 독특한 마을. 그곳에 들어온 잠든 손님들에게 가장 인기 있는 곳은, 온갖 꿈을 한데 모아 판매하는 ‘달러구트의 꿈 백화점’이다. 긴 잠을 자는 사람들은 물론이고, 짧은 낮잠을 자는 사람들과 동물들로 매일매일 대성황을 ...\\r\\n\\t\\t\\t              \n",
              "3  \\r\\n\\t\\t\\t            “당신이 잠든 사이에 누군가는 꿈을 이룬다!” 미국 2개 주 변호사 시험에 합격한 김유진 변호사의 아침 사용법  알람이 울리고 5초, 출근 전 2시간으로 만드는 인생의 터닝포인트! 매일 저녁, 내일이 기다려지는 기적의 모닝 루틴  향긋한 차를 한잔하는 여유로운 아침을 꿈꾸는가? 아침형 인간으로 다시 태어나겠...\\r\\n\\t\\t\\t                \n",
              "4  \\r\\n\\t\\t\\t            코로나가 앞당긴 미래, 더욱 빨라진 변화의 속도 바이러스發 경제, V-nomics(브이노믹스) 시대의 전략을 말하다  ‘집콕’이 일상어로 자리 잡고 비대면은 이제 누구에게나 익숙하며 마스크를 쓰지 않는 것이 더 어색한 세상이 되었다. 코로나가 일상이 되면서 사람들은 서서히 21세기 팬데믹에 적응해가는 중이다. 무슨...\\r\\n\\t\\t\\t            \n",
              "5  \\r\\n\\t\\t\\t            유튜브 1,100만 명이 시청한 [돈의 속성] 완결판 최상위 부자 김승호 회장이 직접 밝히는 돈에 대한 통찰과 철학 맨손에서 종잣돈을 만들고 돈을 불리는 75가지 방법  이 책 『돈의 속성』은 3년 전 어느 극장 하나를 빌려 대중에게 강의했던 내용을 기반으로 집필됐다. 강연은 방송을 통해 전파되며 유튜브와 셀럽들에...\\r\\n\\t\\t\\t           \n",
              "6  \\r\\n\\t\\t\\t            “안은영이 책을 읽는 분들의 친구였으면 좋겠습니다.” -정세랑  출간 5주년 & 영상화 기념 리커버 특별판 출간!   2015년 12월에 출간되어 꾸준한 사랑을 받아 온 『보건교사 안은영』이 출간 5주년과 작품 영상화를 기념하여 ‘리커버 특별판’으로 출간되었다. 2010년 단편소설에서 탄생한 ‘안은영’이 ‘넷플릭스...\\r\\n\\t\\t\\t                  \n",
              "7  \\r\\n\\t\\t\\t            “내 공부의 심장이 미친 듯 뛰기 시작했습니다!”  그 흔한 학원 하나 없는 깡촌 시골마을에서 내가 서울대 법대, 연세대 경영대, 동신대 한의대에 동시 합격한 비결.  공부 잘하는 가장 빠른 길은 공부의 재미를 찾는 것이다! 공부에 지친 청소년들을 위한 가장 진솔한 격려와 용기의 메시지.  평범한 고등학생 A군...\\r\\n\\t\\t\\t               \n",
              "8  \\r\\n\\t\\t\\t            사라진 태학 3인방을 찾아 한국사 대모험 어벤저스가 뜬다! 설쌤과 온달의 기막힌 구출 대작전이 시작됩니다!  하늘이 내린 전설의 보물, ‘천사옥대’는 대체 어디에 있을까요? 태학 3인방을 구출하려는 설쌤과 온달의 활약과 함께  신라 천 년의 보물을 알아보아요!  고구려의 영광을 나타내는 신물을 찾는 과제를...\\r\\n\\t\\t\\t                \n",
              "9  \\r\\n\\t\\t\\t            “날개를 주웠다, 내 날개였다.”  시를 읽는 것은 자기 자신으로 돌아오는 것이고, 세상을 경이롭게 여기는 것이며, 여러 색의 감정을 경험하는 것이다. 살아온 날들이 살아갈 날들에게 묻는다. ‘마음챙김의 삶을 살고 있는가, 마음놓침의 시간을 보내고 있는가?’  사회적 거리두기와 삶에 대한 성찰이 어느 때보다 ...\\r\\n\\t\\t\\t               \n",
              "10 \\r\\n\\t\\t\\t            “다가올 세기에 꼭 필요한 필독서” - 대니얼 레비틴, 베스트셀러 『정리하는 뇌』의 저자  빌 게이츠가 가장 선호하는 작가 바츨라프 스밀과 『정리하는 뇌』의 대니얼 레비틴 강력 추천 한계를 거부하는 새로운 인종 ‘폴리매스’의 시대가 온다!  모든 인간은 다양한 잠재력을 타고 난다. 역사상 가장 뛰어난 성...\\r\\n\\t\\t\\t                  \n",
              "11 \\r\\n\\t\\t\\t            2020년 상반기 경제경영 베스트 1위 “금융문맹은 질병이고  전염병처럼 주위를 모두 가난하게 만든다”  대한민국의 금융철학을 뒤흔든  존 리의 최신작, 『존리의 금융문맹 탈출』  - 기초 투자 철학 확립을 위한 메시지를 담은 책 - 부자가 되기 위해 반드시 읽어야 할 책 - 금융문맹 탈출하기 위한 마인드를 ...\\r\\n\\t\\t\\t                   \n",
              "12 \\r\\n\\t\\t\\t            '감정을 느끼지 못하는' 소년의 특별한 성장 이야기. 타인의 감정에 무감각해진 '공감 불능'인 이 시대에 큰 울림을 주는 소설로, 작품 속 인물들이 타인과 관계 맺고 슬픔에 공감하며 성장해 나가는 과정을 탁월하게 묘사했다. 『완득이』, 『위저드 베이커리』를 잇는 제10회 창비청소년문학상 수상작.\\r\\n\\t\\t\\t                            \n",
              "13 \\r\\n\\t\\t\\t            돈을 위해 일하지 말고 돈이 당신을 위해 일하게 하라  한국 사회에 만연한 그릇된 소비행태는 한국 사람들이 돈에 대해 잘못 알고 있는 탓에 형성된 것이다. 바로 열심히 일하고 저축해도 부자가 되기는 불가능하다고 생각하고 포기하기 때문이다. 그러나 부자의 길은 사실 놀라울 정도로 가까운 데 있다. 생각만 바꾸면...\\r\\n\\t\\t\\t         \n",
              "14 \\r\\n\\t\\t\\t            『만남은 지겹고 이별은 지쳤다』는 그에 대한 현명한 방법을 제시한다. 50만 구독자들의 슬픈 밤을 달래주며 많은 사람의 고민을 해결해준 ‘색과 체’. 사람들의 이야기에 귀를 기울이고 들어주는 것에 최선을 다했고, 이제는 목소리를 내서 하고 싶은 이야기를 전달하고자 한다. 사랑의 진통이나 이별의 아픔 같은 것들...\\r\\n\\t\\t\\t          \n",
              "15 \\r\\n\\t\\t\\t            부와 행운을 만나는 출발점, 마법의 감정 Having. 국내 최초로 미국에서 선(先)출간, 영미권을 비롯 프랑스, 독일, 이탈리아, 러시아 등 21개국에 판권이 수출되어 ‘불안감이 사라지게 해준 책’, ‘행운의 바이블’ 등 찬사를 받은 책으로 마음가짐을 다듬으며 원하는 것을 얻는 놀라운 가르침을 담고 있다. 버락 오바마...\\r\\n\\t\\t\\t            \n",
              "16 \\r\\n\\t\\t\\t            당신이 붙잡아야 할 소중함에 대한 모든 것. 『안녕, 소중한 사람』은 익숙함 뒤에 가려진 삶의 진정 소중한 가치들을 일깨우는 책이다. 정한경 작가가 섬세하고 따뜻한 언어로 써내려간 이야기 한 편 한 편은 우리 곁에 머물렀던 누군가를 떠올리게 한다. 감정의 여운은 오래 남아, 책을 덮고도 한참을 생각하게 만든다. ...\\r\\n\\t\\t\\t        \n",
              "17 \\r\\n\\t\\t\\t            『주식투자 무작정 따라하기』의 5차 개정판에는 지금 당장 시장 분석에 활용할 수 있도록 업데이트된 시장분석자료와 기업데이터는 물론 스마트폰의 대중적 보급에 따른 모바일 환경에서의 투자 조언, 달라진 주식시장 제도, 해외주식투자자를 위한 친절한 조언 등을 꼼꼼하게 담았다. 투자의 기본 원칙은 잃지 않는 것이...\\r\\n\\t\\t\\t        \n",
              "18 \\r\\n\\t\\t\\t            “좌파들, 정말 무섭네. 이렇게 진실 보도를 안 하니.” “엄마 무슨 학원 다녀, 그런 말을 다 어디서 배웠어?” 혀를 차며 진심 어이없어하는 손 여사를 보고 있자니, 더 갖다 붙일 말이 없었다. (_「좌파 고양이를 부탁해」 중에서)  이 짧은 대화 한 토막에서 보듯 우리 사회에서는 수많은 의견 대립들이 ‘좌파’냐...\\r\\n\\t\\t\\t                 \n",
              "19 \\r\\n\\t\\t\\t            “누군가 홀로 죽으면 나의 일이 시작된다” 죽음 언저리에서 행하는 특별한 서비스에 대하여 수많은 언론이 집중 조명한 어느 특수청소부의 에세이  누군가 홀로 죽은 집, 쓰레기가 산처럼 쌓인 집, 오물이나 동물 사체로 가득한 집…. 쉽사리 볼 수도, 치울 수 없는 곳을 청소하는 특수청소업체 ‘하드웍스’ 대표 김...\\r\\n\\t\\t\\t                \n",
              "20 \\r\\n\\t\\t\\t            국민 육아멘토 오은영 박사가 알려주는 ‘부모의 말’ “아이의 행동을 바꾸고 싶다면 부모의 말을 바꿔야 합니다”  ‘국민 육아멘토’ ‘대한민국 엄마·아빠들의 엄마’ 오은영 박사의 신간. 누구나 쉽게 따라 할 수 있는 ‘부모의 말 한마디’를 친절하게 알려주는 책이다. 아이에게 하는 부모의 말이 잔소리가 아니...\\r\\n\\t\\t\\t                     "
            ],
            "text/latex": "A data.frame: 20 × 1\n\\begin{tabular}{l}\n copy\\\\\n <chr>\\\\\n\\hline\n\t \r\n\t\t\t            가을 하늘처럼 청량한 흔한남매의 웃음과 유머!  『흔한남매 6』은 ‘흔한남매’ 유튜브 영상의 스토리를 앙증맞고 유머러스한 만화로 풀어 낸 코믹북입니다. 하루도 조용할 날이 없는 으뜸이와 에이미의 일상 스토리는 진짜 웃음이 필요한 어린이들에게 순수한 웃음과 유쾌한 우애를 선사할 것입니다.\r\n\t\t\t                                \\\\\n\t \r\n\t\t\t            여기는 잠들어야만 입장할 수 있는 ‘달러구트 꿈 백화점’입니다  잠들어야만 입장할 수 있는 독특한 마을. 그곳에 들어온 잠든 손님들에게 가장 인기 있는 곳은, 온갖 꿈을 한데 모아 판매하는 ‘달러구트의 꿈 백화점’이다. 긴 잠을 자는 사람들은 물론이고, 짧은 낮잠을 자는 사람들과 동물들로 매일매일 대성황을 ...\r\n\t\t\t              \\\\\n\t \r\n\t\t\t            “당신이 잠든 사이에 누군가는 꿈을 이룬다!” 미국 2개 주 변호사 시험에 합격한 김유진 변호사의 아침 사용법  알람이 울리고 5초, 출근 전 2시간으로 만드는 인생의 터닝포인트! 매일 저녁, 내일이 기다려지는 기적의 모닝 루틴  향긋한 차를 한잔하는 여유로운 아침을 꿈꾸는가? 아침형 인간으로 다시 태어나겠...\r\n\t\t\t                \\\\\n\t \r\n\t\t\t            코로나가 앞당긴 미래, 더욱 빨라진 변화의 속도 바이러스發 경제, V-nomics(브이노믹스) 시대의 전략을 말하다  ‘집콕’이 일상어로 자리 잡고 비대면은 이제 누구에게나 익숙하며 마스크를 쓰지 않는 것이 더 어색한 세상이 되었다. 코로나가 일상이 되면서 사람들은 서서히 21세기 팬데믹에 적응해가는 중이다. 무슨...\r\n\t\t\t            \\\\\n\t \r\n\t\t\t            유튜브 1,100만 명이 시청한 {[}돈의 속성{]} 완결판 최상위 부자 김승호 회장이 직접 밝히는 돈에 대한 통찰과 철학 맨손에서 종잣돈을 만들고 돈을 불리는 75가지 방법  이 책 『돈의 속성』은 3년 전 어느 극장 하나를 빌려 대중에게 강의했던 내용을 기반으로 집필됐다. 강연은 방송을 통해 전파되며 유튜브와 셀럽들에...\r\n\t\t\t           \\\\\n\t \r\n\t\t\t            “안은영이 책을 읽는 분들의 친구였으면 좋겠습니다.” -정세랑  출간 5주년 \\& 영상화 기념 리커버 특별판 출간!   2015년 12월에 출간되어 꾸준한 사랑을 받아 온 『보건교사 안은영』이 출간 5주년과 작품 영상화를 기념하여 ‘리커버 특별판’으로 출간되었다. 2010년 단편소설에서 탄생한 ‘안은영’이 ‘넷플릭스...\r\n\t\t\t                  \\\\\n\t \r\n\t\t\t            “내 공부의 심장이 미친 듯 뛰기 시작했습니다!”  그 흔한 학원 하나 없는 깡촌 시골마을에서 내가 서울대 법대, 연세대 경영대, 동신대 한의대에 동시 합격한 비결.  공부 잘하는 가장 빠른 길은 공부의 재미를 찾는 것이다! 공부에 지친 청소년들을 위한 가장 진솔한 격려와 용기의 메시지.  평범한 고등학생 A군...\r\n\t\t\t               \\\\\n\t \r\n\t\t\t            사라진 태학 3인방을 찾아 한국사 대모험 어벤저스가 뜬다! 설쌤과 온달의 기막힌 구출 대작전이 시작됩니다!  하늘이 내린 전설의 보물, ‘천사옥대’는 대체 어디에 있을까요? 태학 3인방을 구출하려는 설쌤과 온달의 활약과 함께  신라 천 년의 보물을 알아보아요!  고구려의 영광을 나타내는 신물을 찾는 과제를...\r\n\t\t\t                \\\\\n\t \r\n\t\t\t            “날개를 주웠다, 내 날개였다.”  시를 읽는 것은 자기 자신으로 돌아오는 것이고, 세상을 경이롭게 여기는 것이며, 여러 색의 감정을 경험하는 것이다. 살아온 날들이 살아갈 날들에게 묻는다. ‘마음챙김의 삶을 살고 있는가, 마음놓침의 시간을 보내고 있는가?’  사회적 거리두기와 삶에 대한 성찰이 어느 때보다 ...\r\n\t\t\t               \\\\\n\t \r\n\t\t\t            “다가올 세기에 꼭 필요한 필독서” - 대니얼 레비틴, 베스트셀러 『정리하는 뇌』의 저자  빌 게이츠가 가장 선호하는 작가 바츨라프 스밀과 『정리하는 뇌』의 대니얼 레비틴 강력 추천 한계를 거부하는 새로운 인종 ‘폴리매스’의 시대가 온다!  모든 인간은 다양한 잠재력을 타고 난다. 역사상 가장 뛰어난 성...\r\n\t\t\t                  \\\\\n\t \r\n\t\t\t            2020년 상반기 경제경영 베스트 1위 “금융문맹은 질병이고  전염병처럼 주위를 모두 가난하게 만든다”  대한민국의 금융철학을 뒤흔든  존 리의 최신작, 『존리의 금융문맹 탈출』  - 기초 투자 철학 확립을 위한 메시지를 담은 책 - 부자가 되기 위해 반드시 읽어야 할 책 - 금융문맹 탈출하기 위한 마인드를 ...\r\n\t\t\t                   \\\\\n\t \r\n\t\t\t            '감정을 느끼지 못하는' 소년의 특별한 성장 이야기. 타인의 감정에 무감각해진 '공감 불능'인 이 시대에 큰 울림을 주는 소설로, 작품 속 인물들이 타인과 관계 맺고 슬픔에 공감하며 성장해 나가는 과정을 탁월하게 묘사했다. 『완득이』, 『위저드 베이커리』를 잇는 제10회 창비청소년문학상 수상작.\r\n\t\t\t                            \\\\\n\t \r\n\t\t\t            돈을 위해 일하지 말고 돈이 당신을 위해 일하게 하라  한국 사회에 만연한 그릇된 소비행태는 한국 사람들이 돈에 대해 잘못 알고 있는 탓에 형성된 것이다. 바로 열심히 일하고 저축해도 부자가 되기는 불가능하다고 생각하고 포기하기 때문이다. 그러나 부자의 길은 사실 놀라울 정도로 가까운 데 있다. 생각만 바꾸면...\r\n\t\t\t         \\\\\n\t \r\n\t\t\t            『만남은 지겹고 이별은 지쳤다』는 그에 대한 현명한 방법을 제시한다. 50만 구독자들의 슬픈 밤을 달래주며 많은 사람의 고민을 해결해준 ‘색과 체’. 사람들의 이야기에 귀를 기울이고 들어주는 것에 최선을 다했고, 이제는 목소리를 내서 하고 싶은 이야기를 전달하고자 한다. 사랑의 진통이나 이별의 아픔 같은 것들...\r\n\t\t\t          \\\\\n\t \r\n\t\t\t            부와 행운을 만나는 출발점, 마법의 감정 Having. 국내 최초로 미국에서 선(先)출간, 영미권을 비롯 프랑스, 독일, 이탈리아, 러시아 등 21개국에 판권이 수출되어 ‘불안감이 사라지게 해준 책’, ‘행운의 바이블’ 등 찬사를 받은 책으로 마음가짐을 다듬으며 원하는 것을 얻는 놀라운 가르침을 담고 있다. 버락 오바마...\r\n\t\t\t            \\\\\n\t \r\n\t\t\t            당신이 붙잡아야 할 소중함에 대한 모든 것. 『안녕, 소중한 사람』은 익숙함 뒤에 가려진 삶의 진정 소중한 가치들을 일깨우는 책이다. 정한경 작가가 섬세하고 따뜻한 언어로 써내려간 이야기 한 편 한 편은 우리 곁에 머물렀던 누군가를 떠올리게 한다. 감정의 여운은 오래 남아, 책을 덮고도 한참을 생각하게 만든다. ...\r\n\t\t\t        \\\\\n\t \r\n\t\t\t            『주식투자 무작정 따라하기』의 5차 개정판에는 지금 당장 시장 분석에 활용할 수 있도록 업데이트된 시장분석자료와 기업데이터는 물론 스마트폰의 대중적 보급에 따른 모바일 환경에서의 투자 조언, 달라진 주식시장 제도, 해외주식투자자를 위한 친절한 조언 등을 꼼꼼하게 담았다. 투자의 기본 원칙은 잃지 않는 것이...\r\n\t\t\t        \\\\\n\t \r\n\t\t\t            “좌파들, 정말 무섭네. 이렇게 진실 보도를 안 하니.” “엄마 무슨 학원 다녀, 그런 말을 다 어디서 배웠어?” 혀를 차며 진심 어이없어하는 손 여사를 보고 있자니, 더 갖다 붙일 말이 없었다. (\\_「좌파 고양이를 부탁해」 중에서)  이 짧은 대화 한 토막에서 보듯 우리 사회에서는 수많은 의견 대립들이 ‘좌파’냐...\r\n\t\t\t                 \\\\\n\t \r\n\t\t\t            “누군가 홀로 죽으면 나의 일이 시작된다” 죽음 언저리에서 행하는 특별한 서비스에 대하여 수많은 언론이 집중 조명한 어느 특수청소부의 에세이  누군가 홀로 죽은 집, 쓰레기가 산처럼 쌓인 집, 오물이나 동물 사체로 가득한 집…. 쉽사리 볼 수도, 치울 수 없는 곳을 청소하는 특수청소업체 ‘하드웍스’ 대표 김...\r\n\t\t\t                \\\\\n\t \r\n\t\t\t            국민 육아멘토 오은영 박사가 알려주는 ‘부모의 말’ “아이의 행동을 바꾸고 싶다면 부모의 말을 바꿔야 합니다”  ‘국민 육아멘토’ ‘대한민국 엄마·아빠들의 엄마’ 오은영 박사의 신간. 누구나 쉽게 따라 할 수 있는 ‘부모의 말 한마디’를 친절하게 알려주는 책이다. 아이에게 하는 부모의 말이 잔소리가 아니...\r\n\t\t\t                     \\\\\n\\end{tabular}\n",
            "text/markdown": "\nA data.frame: 20 × 1\n\n| copy &lt;chr&gt; |\n|---|\n| \r\n\t\t\t            가을 하늘처럼 청량한 흔한남매의 웃음과 유머!  『흔한남매 6』은 ‘흔한남매’ 유튜브 영상의 스토리를 앙증맞고 유머러스한 만화로 풀어 낸 코믹북입니다. 하루도 조용할 날이 없는 으뜸이와 에이미의 일상 스토리는 진짜 웃음이 필요한 어린이들에게 순수한 웃음과 유쾌한 우애를 선사할 것입니다.\r\n\t\t\t                                 |\n| \r\n\t\t\t            여기는 잠들어야만 입장할 수 있는 ‘달러구트 꿈 백화점’입니다  잠들어야만 입장할 수 있는 독특한 마을. 그곳에 들어온 잠든 손님들에게 가장 인기 있는 곳은, 온갖 꿈을 한데 모아 판매하는 ‘달러구트의 꿈 백화점’이다. 긴 잠을 자는 사람들은 물론이고, 짧은 낮잠을 자는 사람들과 동물들로 매일매일 대성황을 ...\r\n\t\t\t               |\n| \r\n\t\t\t            “당신이 잠든 사이에 누군가는 꿈을 이룬다!” 미국 2개 주 변호사 시험에 합격한 김유진 변호사의 아침 사용법  알람이 울리고 5초, 출근 전 2시간으로 만드는 인생의 터닝포인트! 매일 저녁, 내일이 기다려지는 기적의 모닝 루틴  향긋한 차를 한잔하는 여유로운 아침을 꿈꾸는가? 아침형 인간으로 다시 태어나겠...\r\n\t\t\t                 |\n| \r\n\t\t\t            코로나가 앞당긴 미래, 더욱 빨라진 변화의 속도 바이러스發 경제, V-nomics(브이노믹스) 시대의 전략을 말하다  ‘집콕’이 일상어로 자리 잡고 비대면은 이제 누구에게나 익숙하며 마스크를 쓰지 않는 것이 더 어색한 세상이 되었다. 코로나가 일상이 되면서 사람들은 서서히 21세기 팬데믹에 적응해가는 중이다. 무슨...\r\n\t\t\t             |\n| \r\n\t\t\t            유튜브 1,100만 명이 시청한 [돈의 속성] 완결판 최상위 부자 김승호 회장이 직접 밝히는 돈에 대한 통찰과 철학 맨손에서 종잣돈을 만들고 돈을 불리는 75가지 방법  이 책 『돈의 속성』은 3년 전 어느 극장 하나를 빌려 대중에게 강의했던 내용을 기반으로 집필됐다. 강연은 방송을 통해 전파되며 유튜브와 셀럽들에...\r\n\t\t\t            |\n| \r\n\t\t\t            “안은영이 책을 읽는 분들의 친구였으면 좋겠습니다.” -정세랑  출간 5주년 &amp; 영상화 기념 리커버 특별판 출간!   2015년 12월에 출간되어 꾸준한 사랑을 받아 온 『보건교사 안은영』이 출간 5주년과 작품 영상화를 기념하여 ‘리커버 특별판’으로 출간되었다. 2010년 단편소설에서 탄생한 ‘안은영’이 ‘넷플릭스...\r\n\t\t\t                   |\n| \r\n\t\t\t            “내 공부의 심장이 미친 듯 뛰기 시작했습니다!”  그 흔한 학원 하나 없는 깡촌 시골마을에서 내가 서울대 법대, 연세대 경영대, 동신대 한의대에 동시 합격한 비결.  공부 잘하는 가장 빠른 길은 공부의 재미를 찾는 것이다! 공부에 지친 청소년들을 위한 가장 진솔한 격려와 용기의 메시지.  평범한 고등학생 A군...\r\n\t\t\t                |\n| \r\n\t\t\t            사라진 태학 3인방을 찾아 한국사 대모험 어벤저스가 뜬다! 설쌤과 온달의 기막힌 구출 대작전이 시작됩니다!  하늘이 내린 전설의 보물, ‘천사옥대’는 대체 어디에 있을까요? 태학 3인방을 구출하려는 설쌤과 온달의 활약과 함께  신라 천 년의 보물을 알아보아요!  고구려의 영광을 나타내는 신물을 찾는 과제를...\r\n\t\t\t                 |\n| \r\n\t\t\t            “날개를 주웠다, 내 날개였다.”  시를 읽는 것은 자기 자신으로 돌아오는 것이고, 세상을 경이롭게 여기는 것이며, 여러 색의 감정을 경험하는 것이다. 살아온 날들이 살아갈 날들에게 묻는다. ‘마음챙김의 삶을 살고 있는가, 마음놓침의 시간을 보내고 있는가?’  사회적 거리두기와 삶에 대한 성찰이 어느 때보다 ...\r\n\t\t\t                |\n| \r\n\t\t\t            “다가올 세기에 꼭 필요한 필독서” - 대니얼 레비틴, 베스트셀러 『정리하는 뇌』의 저자  빌 게이츠가 가장 선호하는 작가 바츨라프 스밀과 『정리하는 뇌』의 대니얼 레비틴 강력 추천 한계를 거부하는 새로운 인종 ‘폴리매스’의 시대가 온다!  모든 인간은 다양한 잠재력을 타고 난다. 역사상 가장 뛰어난 성...\r\n\t\t\t                   |\n| \r\n\t\t\t            2020년 상반기 경제경영 베스트 1위 “금융문맹은 질병이고  전염병처럼 주위를 모두 가난하게 만든다”  대한민국의 금융철학을 뒤흔든  존 리의 최신작, 『존리의 금융문맹 탈출』  - 기초 투자 철학 확립을 위한 메시지를 담은 책 - 부자가 되기 위해 반드시 읽어야 할 책 - 금융문맹 탈출하기 위한 마인드를 ...\r\n\t\t\t                    |\n| \r\n\t\t\t            '감정을 느끼지 못하는' 소년의 특별한 성장 이야기. 타인의 감정에 무감각해진 '공감 불능'인 이 시대에 큰 울림을 주는 소설로, 작품 속 인물들이 타인과 관계 맺고 슬픔에 공감하며 성장해 나가는 과정을 탁월하게 묘사했다. 『완득이』, 『위저드 베이커리』를 잇는 제10회 창비청소년문학상 수상작.\r\n\t\t\t                             |\n| \r\n\t\t\t            돈을 위해 일하지 말고 돈이 당신을 위해 일하게 하라  한국 사회에 만연한 그릇된 소비행태는 한국 사람들이 돈에 대해 잘못 알고 있는 탓에 형성된 것이다. 바로 열심히 일하고 저축해도 부자가 되기는 불가능하다고 생각하고 포기하기 때문이다. 그러나 부자의 길은 사실 놀라울 정도로 가까운 데 있다. 생각만 바꾸면...\r\n\t\t\t          |\n| \r\n\t\t\t            『만남은 지겹고 이별은 지쳤다』는 그에 대한 현명한 방법을 제시한다. 50만 구독자들의 슬픈 밤을 달래주며 많은 사람의 고민을 해결해준 ‘색과 체’. 사람들의 이야기에 귀를 기울이고 들어주는 것에 최선을 다했고, 이제는 목소리를 내서 하고 싶은 이야기를 전달하고자 한다. 사랑의 진통이나 이별의 아픔 같은 것들...\r\n\t\t\t           |\n| \r\n\t\t\t            부와 행운을 만나는 출발점, 마법의 감정 Having. 국내 최초로 미국에서 선(先)출간, 영미권을 비롯 프랑스, 독일, 이탈리아, 러시아 등 21개국에 판권이 수출되어 ‘불안감이 사라지게 해준 책’, ‘행운의 바이블’ 등 찬사를 받은 책으로 마음가짐을 다듬으며 원하는 것을 얻는 놀라운 가르침을 담고 있다. 버락 오바마...\r\n\t\t\t             |\n| \r\n\t\t\t            당신이 붙잡아야 할 소중함에 대한 모든 것. 『안녕, 소중한 사람』은 익숙함 뒤에 가려진 삶의 진정 소중한 가치들을 일깨우는 책이다. 정한경 작가가 섬세하고 따뜻한 언어로 써내려간 이야기 한 편 한 편은 우리 곁에 머물렀던 누군가를 떠올리게 한다. 감정의 여운은 오래 남아, 책을 덮고도 한참을 생각하게 만든다. ...\r\n\t\t\t         |\n| \r\n\t\t\t            『주식투자 무작정 따라하기』의 5차 개정판에는 지금 당장 시장 분석에 활용할 수 있도록 업데이트된 시장분석자료와 기업데이터는 물론 스마트폰의 대중적 보급에 따른 모바일 환경에서의 투자 조언, 달라진 주식시장 제도, 해외주식투자자를 위한 친절한 조언 등을 꼼꼼하게 담았다. 투자의 기본 원칙은 잃지 않는 것이...\r\n\t\t\t         |\n| \r\n\t\t\t            “좌파들, 정말 무섭네. 이렇게 진실 보도를 안 하니.” “엄마 무슨 학원 다녀, 그런 말을 다 어디서 배웠어?” 혀를 차며 진심 어이없어하는 손 여사를 보고 있자니, 더 갖다 붙일 말이 없었다. (_「좌파 고양이를 부탁해」 중에서)  이 짧은 대화 한 토막에서 보듯 우리 사회에서는 수많은 의견 대립들이 ‘좌파’냐...\r\n\t\t\t                  |\n| \r\n\t\t\t            “누군가 홀로 죽으면 나의 일이 시작된다” 죽음 언저리에서 행하는 특별한 서비스에 대하여 수많은 언론이 집중 조명한 어느 특수청소부의 에세이  누군가 홀로 죽은 집, 쓰레기가 산처럼 쌓인 집, 오물이나 동물 사체로 가득한 집…. 쉽사리 볼 수도, 치울 수 없는 곳을 청소하는 특수청소업체 ‘하드웍스’ 대표 김...\r\n\t\t\t                 |\n| \r\n\t\t\t            국민 육아멘토 오은영 박사가 알려주는 ‘부모의 말’ “아이의 행동을 바꾸고 싶다면 부모의 말을 바꿔야 합니다”  ‘국민 육아멘토’ ‘대한민국 엄마·아빠들의 엄마’ 오은영 박사의 신간. 누구나 쉽게 따라 할 수 있는 ‘부모의 말 한마디’를 친절하게 알려주는 책이다. 아이에게 하는 부모의 말이 잔소리가 아니...\r\n\t\t\t                      |\n\n",
            "text/html": [
              "<table>\n",
              "<caption>A data.frame: 20 × 1</caption>\n",
              "<thead>\n",
              "\t<tr><th scope=col>copy</th></tr>\n",
              "\t<tr><th scope=col>&lt;chr&gt;</th></tr>\n",
              "</thead>\n",
              "<tbody>\n",
              "\t<tr><td>\r\n",
              "\t\t\t            가을 하늘처럼 청량한 흔한남매의 웃음과 유머!  『흔한남매 6』은 ‘흔한남매’ 유튜브 영상의 스토리를 앙증맞고 유머러스한 만화로 풀어 낸 코믹북입니다. 하루도 조용할 날이 없는 으뜸이와 에이미의 일상 스토리는 진짜 웃음이 필요한 어린이들에게 순수한 웃음과 유쾌한 우애를 선사할 것입니다.\r\n",
              "\t\t\t                                </td></tr>\n",
              "\t<tr><td>\r\n",
              "\t\t\t            여기는 잠들어야만 입장할 수 있는 ‘달러구트 꿈 백화점’입니다  잠들어야만 입장할 수 있는 독특한 마을. 그곳에 들어온 잠든 손님들에게 가장 인기 있는 곳은, 온갖 꿈을 한데 모아 판매하는 ‘달러구트의 꿈 백화점’이다. 긴 잠을 자는 사람들은 물론이고, 짧은 낮잠을 자는 사람들과 동물들로 매일매일 대성황을 ...\r\n",
              "\t\t\t              </td></tr>\n",
              "\t<tr><td>\r\n",
              "\t\t\t            “당신이 잠든 사이에 누군가는 꿈을 이룬다!” 미국 2개 주 변호사 시험에 합격한 김유진 변호사의 아침 사용법  알람이 울리고 5초, 출근 전 2시간으로 만드는 인생의 터닝포인트! 매일 저녁, 내일이 기다려지는 기적의 모닝 루틴  향긋한 차를 한잔하는 여유로운 아침을 꿈꾸는가? 아침형 인간으로 다시 태어나겠...\r\n",
              "\t\t\t                </td></tr>\n",
              "\t<tr><td>\r\n",
              "\t\t\t            코로나가 앞당긴 미래, 더욱 빨라진 변화의 속도 바이러스發 경제, V-nomics(브이노믹스) 시대의 전략을 말하다  ‘집콕’이 일상어로 자리 잡고 비대면은 이제 누구에게나 익숙하며 마스크를 쓰지 않는 것이 더 어색한 세상이 되었다. 코로나가 일상이 되면서 사람들은 서서히 21세기 팬데믹에 적응해가는 중이다. 무슨...\r\n",
              "\t\t\t            </td></tr>\n",
              "\t<tr><td>\r\n",
              "\t\t\t            유튜브 1,100만 명이 시청한 [돈의 속성] 완결판 최상위 부자 김승호 회장이 직접 밝히는 돈에 대한 통찰과 철학 맨손에서 종잣돈을 만들고 돈을 불리는 75가지 방법  이 책 『돈의 속성』은 3년 전 어느 극장 하나를 빌려 대중에게 강의했던 내용을 기반으로 집필됐다. 강연은 방송을 통해 전파되며 유튜브와 셀럽들에...\r\n",
              "\t\t\t           </td></tr>\n",
              "\t<tr><td><span style=white-space:pre-wrap>\r\n",
              "\t\t\t            “안은영이 책을 읽는 분들의 친구였으면 좋겠습니다.” -정세랑  출간 5주년 &amp; 영상화 기념 리커버 특별판 출간!   2015년 12월에 출간되어 꾸준한 사랑을 받아 온 『보건교사 안은영』이 출간 5주년과 작품 영상화를 기념하여 ‘리커버 특별판’으로 출간되었다. 2010년 단편소설에서 탄생한 ‘안은영’이 ‘넷플릭스...\r\n",
              "\t\t\t                  </span></td></tr>\n",
              "\t<tr><td>\r\n",
              "\t\t\t            “내 공부의 심장이 미친 듯 뛰기 시작했습니다!”  그 흔한 학원 하나 없는 깡촌 시골마을에서 내가 서울대 법대, 연세대 경영대, 동신대 한의대에 동시 합격한 비결.  공부 잘하는 가장 빠른 길은 공부의 재미를 찾는 것이다! 공부에 지친 청소년들을 위한 가장 진솔한 격려와 용기의 메시지.  평범한 고등학생 A군...\r\n",
              "\t\t\t               </td></tr>\n",
              "\t<tr><td>\r\n",
              "\t\t\t            사라진 태학 3인방을 찾아 한국사 대모험 어벤저스가 뜬다! 설쌤과 온달의 기막힌 구출 대작전이 시작됩니다!  하늘이 내린 전설의 보물, ‘천사옥대’는 대체 어디에 있을까요? 태학 3인방을 구출하려는 설쌤과 온달의 활약과 함께  신라 천 년의 보물을 알아보아요!  고구려의 영광을 나타내는 신물을 찾는 과제를...\r\n",
              "\t\t\t                </td></tr>\n",
              "\t<tr><td>\r\n",
              "\t\t\t            “날개를 주웠다, 내 날개였다.”  시를 읽는 것은 자기 자신으로 돌아오는 것이고, 세상을 경이롭게 여기는 것이며, 여러 색의 감정을 경험하는 것이다. 살아온 날들이 살아갈 날들에게 묻는다. ‘마음챙김의 삶을 살고 있는가, 마음놓침의 시간을 보내고 있는가?’  사회적 거리두기와 삶에 대한 성찰이 어느 때보다 ...\r\n",
              "\t\t\t               </td></tr>\n",
              "\t<tr><td>\r\n",
              "\t\t\t            “다가올 세기에 꼭 필요한 필독서” - 대니얼 레비틴, 베스트셀러 『정리하는 뇌』의 저자  빌 게이츠가 가장 선호하는 작가 바츨라프 스밀과 『정리하는 뇌』의 대니얼 레비틴 강력 추천 한계를 거부하는 새로운 인종 ‘폴리매스’의 시대가 온다!  모든 인간은 다양한 잠재력을 타고 난다. 역사상 가장 뛰어난 성...\r\n",
              "\t\t\t                  </td></tr>\n",
              "\t<tr><td>\r\n",
              "\t\t\t            2020년 상반기 경제경영 베스트 1위 “금융문맹은 질병이고  전염병처럼 주위를 모두 가난하게 만든다”  대한민국의 금융철학을 뒤흔든  존 리의 최신작, 『존리의 금융문맹 탈출』  - 기초 투자 철학 확립을 위한 메시지를 담은 책 - 부자가 되기 위해 반드시 읽어야 할 책 - 금융문맹 탈출하기 위한 마인드를 ...\r\n",
              "\t\t\t                   </td></tr>\n",
              "\t<tr><td>\r\n",
              "\t\t\t            '감정을 느끼지 못하는' 소년의 특별한 성장 이야기. 타인의 감정에 무감각해진 '공감 불능'인 이 시대에 큰 울림을 주는 소설로, 작품 속 인물들이 타인과 관계 맺고 슬픔에 공감하며 성장해 나가는 과정을 탁월하게 묘사했다. 『완득이』, 『위저드 베이커리』를 잇는 제10회 창비청소년문학상 수상작.\r\n",
              "\t\t\t                            </td></tr>\n",
              "\t<tr><td>\r\n",
              "\t\t\t            돈을 위해 일하지 말고 돈이 당신을 위해 일하게 하라  한국 사회에 만연한 그릇된 소비행태는 한국 사람들이 돈에 대해 잘못 알고 있는 탓에 형성된 것이다. 바로 열심히 일하고 저축해도 부자가 되기는 불가능하다고 생각하고 포기하기 때문이다. 그러나 부자의 길은 사실 놀라울 정도로 가까운 데 있다. 생각만 바꾸면...\r\n",
              "\t\t\t         </td></tr>\n",
              "\t<tr><td>\r\n",
              "\t\t\t            『만남은 지겹고 이별은 지쳤다』는 그에 대한 현명한 방법을 제시한다. 50만 구독자들의 슬픈 밤을 달래주며 많은 사람의 고민을 해결해준 ‘색과 체’. 사람들의 이야기에 귀를 기울이고 들어주는 것에 최선을 다했고, 이제는 목소리를 내서 하고 싶은 이야기를 전달하고자 한다. 사랑의 진통이나 이별의 아픔 같은 것들...\r\n",
              "\t\t\t          </td></tr>\n",
              "\t<tr><td>\r\n",
              "\t\t\t            부와 행운을 만나는 출발점, 마법의 감정 Having. 국내 최초로 미국에서 선(先)출간, 영미권을 비롯 프랑스, 독일, 이탈리아, 러시아 등 21개국에 판권이 수출되어 ‘불안감이 사라지게 해준 책’, ‘행운의 바이블’ 등 찬사를 받은 책으로 마음가짐을 다듬으며 원하는 것을 얻는 놀라운 가르침을 담고 있다. 버락 오바마...\r\n",
              "\t\t\t            </td></tr>\n",
              "\t<tr><td>\r\n",
              "\t\t\t            당신이 붙잡아야 할 소중함에 대한 모든 것. 『안녕, 소중한 사람』은 익숙함 뒤에 가려진 삶의 진정 소중한 가치들을 일깨우는 책이다. 정한경 작가가 섬세하고 따뜻한 언어로 써내려간 이야기 한 편 한 편은 우리 곁에 머물렀던 누군가를 떠올리게 한다. 감정의 여운은 오래 남아, 책을 덮고도 한참을 생각하게 만든다. ...\r\n",
              "\t\t\t        </td></tr>\n",
              "\t<tr><td>\r\n",
              "\t\t\t            『주식투자 무작정 따라하기』의 5차 개정판에는 지금 당장 시장 분석에 활용할 수 있도록 업데이트된 시장분석자료와 기업데이터는 물론 스마트폰의 대중적 보급에 따른 모바일 환경에서의 투자 조언, 달라진 주식시장 제도, 해외주식투자자를 위한 친절한 조언 등을 꼼꼼하게 담았다. 투자의 기본 원칙은 잃지 않는 것이...\r\n",
              "\t\t\t        </td></tr>\n",
              "\t<tr><td>\r\n",
              "\t\t\t            “좌파들, 정말 무섭네. 이렇게 진실 보도를 안 하니.” “엄마 무슨 학원 다녀, 그런 말을 다 어디서 배웠어?” 혀를 차며 진심 어이없어하는 손 여사를 보고 있자니, 더 갖다 붙일 말이 없었다. (_「좌파 고양이를 부탁해」 중에서)  이 짧은 대화 한 토막에서 보듯 우리 사회에서는 수많은 의견 대립들이 ‘좌파’냐...\r\n",
              "\t\t\t                 </td></tr>\n",
              "\t<tr><td>\r\n",
              "\t\t\t            “누군가 홀로 죽으면 나의 일이 시작된다” 죽음 언저리에서 행하는 특별한 서비스에 대하여 수많은 언론이 집중 조명한 어느 특수청소부의 에세이  누군가 홀로 죽은 집, 쓰레기가 산처럼 쌓인 집, 오물이나 동물 사체로 가득한 집…. 쉽사리 볼 수도, 치울 수 없는 곳을 청소하는 특수청소업체 ‘하드웍스’ 대표 김...\r\n",
              "\t\t\t                </td></tr>\n",
              "\t<tr><td>\r\n",
              "\t\t\t            국민 육아멘토 오은영 박사가 알려주는 ‘부모의 말’ “아이의 행동을 바꾸고 싶다면 부모의 말을 바꿔야 합니다”  ‘국민 육아멘토’ ‘대한민국 엄마·아빠들의 엄마’ 오은영 박사의 신간. 누구나 쉽게 따라 할 수 있는 ‘부모의 말 한마디’를 친절하게 알려주는 책이다. 아이에게 하는 부모의 말이 잔소리가 아니...\r\n",
              "\t\t\t                     </td></tr>\n",
              "</tbody>\n",
              "</table>\n"
            ]
          },
          "metadata": {
            "tags": []
          }
        }
      ]
    },
    {
      "cell_type": "code",
      "metadata": {
        "id": "yrWfkr2wW8OS"
      },
      "source": [
        "write.csv(best_copy, 'best_copy.csv', row.names=F, fileEncoding='UTF-8')"
      ],
      "execution_count": 57,
      "outputs": []
    },
    {
      "cell_type": "code",
      "metadata": {
        "id": "QBtSsPT4nDCJ"
      },
      "source": [
        "write.csv(best_copy, 'best_copy2.csv', row.names=F, fileEncoding='EUC-KR')"
      ],
      "execution_count": null,
      "outputs": []
    },
    {
      "cell_type": "markdown",
      "metadata": {
        "id": "2Z-M23WrnFn2"
      },
      "source": [
        "hanbit 출판사 > Store 메뉴의 '전체도서목록'에 출력된 도서 정보 중 '도서명,저장,발행일'수집하세요"
      ]
    },
    {
      "cell_type": "code",
      "metadata": {
        "id": "kbeAr7Ptnaf8"
      },
      "source": [
        "url <- 'https://www.hanbit.co.kr/store/books/full_book_list.html'"
      ],
      "execution_count": 115,
      "outputs": []
    },
    {
      "cell_type": "code",
      "metadata": {
        "id": "_t-xgOtBnojM",
        "outputId": "49e92c39-4e6e-4c51-f0b1-8bca579f5ec4",
        "colab": {
          "base_uri": "https://localhost:8080/",
          "height": 89
        }
      },
      "source": [
        "html <- read_html(url)\n",
        "html"
      ],
      "execution_count": 116,
      "outputs": [
        {
          "output_type": "display_data",
          "data": {
            "text/plain": [
              "{html_document}\n",
              "<html lang=\"ko\">\n",
              "[1] <head>\\n<meta http-equiv=\"Content-Type\" content=\"text/html; charset=UTF-8 ...\n",
              "[2] <body>\\r\\n<!-- Google Tag Manager (noscript) -->\\r\\n<noscript><iframe src ..."
            ]
          },
          "metadata": {
            "tags": []
          }
        }
      ]
    },
    {
      "cell_type": "code",
      "metadata": {
        "id": "kXcCKWo_oA_Z"
      },
      "source": [
        "# css를 이용하거나 \n",
        "# 아래와 같이 크롬에서 위치 정보를 이용해 추출할 수 있음\n",
        "#container > div.full_book_list_wrap > div.table_area > table > tbody > tr:nth-child(1) > td:nth-child(2) > a"
      ],
      "execution_count": null,
      "outputs": []
    },
    {
      "cell_type": "code",
      "metadata": {
        "id": "DluGk7myor4J",
        "outputId": "783b9bd2-2730-467c-f7d4-f61b71b10ead",
        "colab": {
          "base_uri": "https://localhost:8080/",
          "height": 255
        }
      },
      "source": [
        "# #container > div.full_book_list_wrap > div.table_area > table > tbody > tr:nth-child(1) > td:nth-child(2) > a\n",
        "titles <- html_nodes(html, 'td:nth-child(2) > a')\n",
        "title  <- html_text(titles)\n",
        "title"
      ],
      "execution_count": 125,
      "outputs": [
        {
          "output_type": "display_data",
          "data": {
            "text/plain": [
              " [1] \"\"                                                                                                           \n",
              " [2] \"키워드 검색량 조회 전략으로 조회수와 방문자 늘리기 네이버 블로그&포스트 만들기\"                             \n",
              " [3] \"성공 원칙 - PRINCIPLES FOR SUCCESS\"                                                                         \n",
              " [4] \"3분 엑셀 누구나 아는 나만 모르는 IT 이성원 강사의 : 28만 구독자 누나 IT 유튜브 채널의 엑셀 왕초보 탈출 강의\"\n",
              " [5] \"북킷리스트\"                                                                                                 \n",
              " [6] \"나는 꼭 필요한 것만 남기기로 했다\"                                                                          \n",
              " [7] \"파이썬과 대스크를 활용한 고성능 데이터 분석\"                                                                \n",
              " [8] \"웹어셈블리 인 액션\"                                                                                         \n",
              " [9] \"쉽게 배워 바로 써먹는 디자인 패턴\"                                                                          \n",
              "[10] \"부의 원칙\"                                                                                                  \n",
              "[11] \"만들면서 배우는 픽셀 아트\"                                                                                  \n",
              "[12] \"초보자를 위한 언리얼 엔진 4 입문\"                                                                           \n",
              "[13] \"분산원장 기술\"                                                                                              \n",
              "[14] \"회사에서 바로 통하는 3ds Max + V-Ray\"                                                                       \n",
              "[15] \"재미있고 빠른 한글 쓰기 3권 : 교과서 쉬운 낱말\"                                                             \n",
              "[16] \"나도 초록 식물 잘 키우면 소원이 없겠네\"                                                                     \n",
              "[17] \"IT CookBook, 액세스 2019로 배우는 데이터베이스 기초와 실습\"                                                 \n",
              "[18] \"GAN 인 액션\"                                                                                                \n",
              "[19] \"재미있고 빠른 어휘력 동화 – 아지랑이가 뭐야?\"                                                               \n",
              "[20] \"재미있고 빠른 어휘력 동화 – 많다의 반대가 뭐야?\"                                                            \n",
              "[21] \"만화로 보는 바빌론 부자들의 돈 버는 지혜\"                                                                   \n",
              "[22] \"포르잔 C++ 바이블\"                                                                                          \n",
              "[23] \"청소년 인문학 수업 - 1권\"                                                                                   \n",
              "[24] \"청소년 인문학 수업 - 2권\"                                                                                   \n",
              "[25] \"처음 시작하는 파이썬(2판)\"                                                                                  \n",
              "[26] \"퀀트 전략을 위한 인공지능 트레이딩\"                                                                         \n",
              "[27] \"처음 시작하는 딥러닝\"                                                                                       \n",
              "[28] \"회사에서 바로 통하는 실무 엑셀 매크로&VBA\"                                                                  \n",
              "[29] \"게임 오버\"                                                                                                  \n",
              "[30] \"초소형 머신러닝 TinyML\"                                                                                     \n",
              "[31] \"오늘도 뇌는 거짓말을 한다\"                                                                                  \n",
              "[32] \"허팝만 따라 해봐! 유튜브 정석\"                                                                              \n",
              "[33] \"이것이 취업을 위한 코딩 테스트다 with 파이썬\"                                                               \n",
              "[34] \"딥러닝을 위한 선형대수학\"                                                                                   \n",
              "[35] \"유닉스의 탄생\"                                                                                              \n",
              "[36] \"회사에서 바로 통하는  오토캐드 AutoCAD 2021\"                                                                \n",
              "[37] \"IT CookBook, 오라클로 배우는 데이터베이스 개론과 실습(2판)\"                                                 \n",
              "[38] \"별, 걔 다 그립네\"                                                                                           \n",
              "[39] \"대학을 버려야 대학이 산다\"                                                                                  \n",
              "[40] \"IT CookBook, 따라 하면서 배우는 사물인터넷\"                                                                 \n",
              "[41] \"재미있고 빠른 첫 한글 준비 선 긋기1권 직선∙곡선∙자음∙모음\"                                                  \n",
              "[42] \"재미있고 빠른 첫 한글 4권 쌍자음∙받침\"                                                                      \n",
              "[43] \"핸즈온 비지도 학습\"                                                                                         \n",
              "[44] \"재미있고 빠른 첫 한글 쓰기1권 모음∙자음∙쉬운 낱말\"                                                          \n",
              "[45] \"우리 아이 처음 놀이\"                                                                                        \n",
              "[46] \"미라클 모닝 기적의 공식(개정판)\"                                                                            \n",
              "[47] \"창의적 공학설계(3판)\"                                                                                       \n",
              "[48] \"R로 하는 다변량 데이터 분석 : 이론부터 실무 활용까지\"                                                       \n",
              "[49] \"공학 핵심수학(2판)  : 기초부터 심화까지 핵심만 쏙쏙\"                                                        \n",
              "[50] \"응용이 보이는 선형대수학 : 파이썬과 함께하는 선형대수학 이론과 응용\"                                        \n",
              "[51] \"파이썬 증권 데이터 분석\"                                                                                    "
            ],
            "text/latex": "\\begin{enumerate*}\n\\item ''\n\\item '키워드 검색량 조회 전략으로 조회수와 방문자 늘리기 네이버 블로그\\&포스트 만들기'\n\\item '성공 원칙 - PRINCIPLES FOR SUCCESS'\n\\item '3분 엑셀 누구나 아는 나만 모르는 IT 이성원 강사의 : 28만 구독자 누나 IT 유튜브 채널의 엑셀 왕초보 탈출 강의'\n\\item '북킷리스트'\n\\item '나는 꼭 필요한 것만 남기기로 했다'\n\\item '파이썬과 대스크를 활용한 고성능 데이터 분석'\n\\item '웹어셈블리 인 액션'\n\\item '쉽게 배워 바로 써먹는 디자인 패턴'\n\\item '부의 원칙'\n\\item '만들면서 배우는 픽셀 아트'\n\\item '초보자를 위한 언리얼 엔진 4 입문'\n\\item '분산원장 기술'\n\\item '회사에서 바로 통하는 3ds Max + V-Ray'\n\\item '재미있고 빠른 한글 쓰기 3권 : 교과서 쉬운 낱말'\n\\item '나도 초록 식물 잘 키우면 소원이 없겠네'\n\\item 'IT CookBook, 액세스 2019로 배우는 데이터베이스 기초와 실습'\n\\item 'GAN 인 액션'\n\\item '재미있고 빠른 어휘력 동화 – 아지랑이가 뭐야?'\n\\item '재미있고 빠른 어휘력 동화 – 많다의 반대가 뭐야?'\n\\item '만화로 보는 바빌론 부자들의 돈 버는 지혜'\n\\item '포르잔 C++ 바이블'\n\\item '청소년 인문학 수업 - 1권'\n\\item '청소년 인문학 수업 - 2권'\n\\item '처음 시작하는 파이썬(2판)'\n\\item '퀀트 전략을 위한 인공지능 트레이딩'\n\\item '처음 시작하는 딥러닝'\n\\item '회사에서 바로 통하는 실무 엑셀 매크로\\&VBA'\n\\item '게임 오버'\n\\item '초소형 머신러닝 TinyML'\n\\item '오늘도 뇌는 거짓말을 한다'\n\\item '허팝만 따라 해봐! 유튜브 정석'\n\\item '이것이 취업을 위한 코딩 테스트다 with 파이썬'\n\\item '딥러닝을 위한 선형대수학'\n\\item '유닉스의 탄생'\n\\item '회사에서 바로 통하는  오토캐드 AutoCAD 2021'\n\\item 'IT CookBook, 오라클로 배우는 데이터베이스 개론과 실습(2판)'\n\\item '별, 걔 다 그립네'\n\\item '대학을 버려야 대학이 산다'\n\\item 'IT CookBook, 따라 하면서 배우는 사물인터넷'\n\\item '재미있고 빠른 첫 한글 준비 선 긋기1권 직선∙곡선∙자음∙모음'\n\\item '재미있고 빠른 첫 한글 4권 쌍자음∙받침'\n\\item '핸즈온 비지도 학습'\n\\item '재미있고 빠른 첫 한글 쓰기1권 모음∙자음∙쉬운 낱말'\n\\item '우리 아이 처음 놀이'\n\\item '미라클 모닝 기적의 공식(개정판)'\n\\item '창의적 공학설계(3판)'\n\\item 'R로 하는 다변량 데이터 분석 : 이론부터 실무 활용까지'\n\\item '공학 핵심수학(2판)  : 기초부터 심화까지 핵심만 쏙쏙'\n\\item '응용이 보이는 선형대수학 : 파이썬과 함께하는 선형대수학 이론과 응용'\n\\item '파이썬 증권 데이터 분석'\n\\end{enumerate*}\n",
            "text/markdown": "1. ''\n2. '키워드 검색량 조회 전략으로 조회수와 방문자 늘리기 네이버 블로그&amp;포스트 만들기'\n3. '성공 원칙 - PRINCIPLES FOR SUCCESS'\n4. '3분 엑셀 누구나 아는 나만 모르는 IT 이성원 강사의 : 28만 구독자 누나 IT 유튜브 채널의 엑셀 왕초보 탈출 강의'\n5. '북킷리스트'\n6. '나는 꼭 필요한 것만 남기기로 했다'\n7. '파이썬과 대스크를 활용한 고성능 데이터 분석'\n8. '웹어셈블리 인 액션'\n9. '쉽게 배워 바로 써먹는 디자인 패턴'\n10. '부의 원칙'\n11. '만들면서 배우는 픽셀 아트'\n12. '초보자를 위한 언리얼 엔진 4 입문'\n13. '분산원장 기술'\n14. '회사에서 바로 통하는 3ds Max + V-Ray'\n15. '재미있고 빠른 한글 쓰기 3권 : 교과서 쉬운 낱말'\n16. '나도 초록 식물 잘 키우면 소원이 없겠네'\n17. 'IT CookBook, 액세스 2019로 배우는 데이터베이스 기초와 실습'\n18. 'GAN 인 액션'\n19. '재미있고 빠른 어휘력 동화 – 아지랑이가 뭐야?'\n20. '재미있고 빠른 어휘력 동화 – 많다의 반대가 뭐야?'\n21. '만화로 보는 바빌론 부자들의 돈 버는 지혜'\n22. '포르잔 C++ 바이블'\n23. '청소년 인문학 수업 - 1권'\n24. '청소년 인문학 수업 - 2권'\n25. '처음 시작하는 파이썬(2판)'\n26. '퀀트 전략을 위한 인공지능 트레이딩'\n27. '처음 시작하는 딥러닝'\n28. '회사에서 바로 통하는 실무 엑셀 매크로&amp;VBA'\n29. '게임 오버'\n30. '초소형 머신러닝 TinyML'\n31. '오늘도 뇌는 거짓말을 한다'\n32. '허팝만 따라 해봐! 유튜브 정석'\n33. '이것이 취업을 위한 코딩 테스트다 with 파이썬'\n34. '딥러닝을 위한 선형대수학'\n35. '유닉스의 탄생'\n36. <span style=white-space:pre-wrap>'회사에서 바로 통하는  오토캐드 AutoCAD 2021'</span>\n37. 'IT CookBook, 오라클로 배우는 데이터베이스 개론과 실습(2판)'\n38. '별, 걔 다 그립네'\n39. '대학을 버려야 대학이 산다'\n40. 'IT CookBook, 따라 하면서 배우는 사물인터넷'\n41. '재미있고 빠른 첫 한글 준비 선 긋기1권 직선∙곡선∙자음∙모음'\n42. '재미있고 빠른 첫 한글 4권 쌍자음∙받침'\n43. '핸즈온 비지도 학습'\n44. '재미있고 빠른 첫 한글 쓰기1권 모음∙자음∙쉬운 낱말'\n45. '우리 아이 처음 놀이'\n46. '미라클 모닝 기적의 공식(개정판)'\n47. '창의적 공학설계(3판)'\n48. 'R로 하는 다변량 데이터 분석 : 이론부터 실무 활용까지'\n49. <span style=white-space:pre-wrap>'공학 핵심수학(2판)  : 기초부터 심화까지 핵심만 쏙쏙'</span>\n50. '응용이 보이는 선형대수학 : 파이썬과 함께하는 선형대수학 이론과 응용'\n51. '파이썬 증권 데이터 분석'\n\n\n",
            "text/html": [
              "<style>\n",
              ".list-inline {list-style: none; margin:0; padding: 0}\n",
              ".list-inline>li {display: inline-block}\n",
              ".list-inline>li:not(:last-child)::after {content: \"\\00b7\"; padding: 0 .5ex}\n",
              "</style>\n",
              "<ol class=list-inline><li>''</li><li>'키워드 검색량 조회 전략으로 조회수와 방문자 늘리기 네이버 블로그&amp;포스트 만들기'</li><li>'성공 원칙 - PRINCIPLES FOR SUCCESS'</li><li>'3분 엑셀 누구나 아는 나만 모르는 IT 이성원 강사의 : 28만 구독자 누나 IT 유튜브 채널의 엑셀 왕초보 탈출 강의'</li><li>'북킷리스트'</li><li>'나는 꼭 필요한 것만 남기기로 했다'</li><li>'파이썬과 대스크를 활용한 고성능 데이터 분석'</li><li>'웹어셈블리 인 액션'</li><li>'쉽게 배워 바로 써먹는 디자인 패턴'</li><li>'부의 원칙'</li><li>'만들면서 배우는 픽셀 아트'</li><li>'초보자를 위한 언리얼 엔진 4 입문'</li><li>'분산원장 기술'</li><li>'회사에서 바로 통하는 3ds Max + V-Ray'</li><li>'재미있고 빠른 한글 쓰기 3권 : 교과서 쉬운 낱말'</li><li>'나도 초록 식물 잘 키우면 소원이 없겠네'</li><li>'IT CookBook, 액세스 2019로 배우는 데이터베이스 기초와 실습'</li><li>'GAN 인 액션'</li><li>'재미있고 빠른 어휘력 동화 – 아지랑이가 뭐야?'</li><li>'재미있고 빠른 어휘력 동화 – 많다의 반대가 뭐야?'</li><li>'만화로 보는 바빌론 부자들의 돈 버는 지혜'</li><li>'포르잔 C++ 바이블'</li><li>'청소년 인문학 수업 - 1권'</li><li>'청소년 인문학 수업 - 2권'</li><li>'처음 시작하는 파이썬(2판)'</li><li>'퀀트 전략을 위한 인공지능 트레이딩'</li><li>'처음 시작하는 딥러닝'</li><li>'회사에서 바로 통하는 실무 엑셀 매크로&amp;VBA'</li><li>'게임 오버'</li><li>'초소형 머신러닝 TinyML'</li><li>'오늘도 뇌는 거짓말을 한다'</li><li>'허팝만 따라 해봐! 유튜브 정석'</li><li>'이것이 취업을 위한 코딩 테스트다 with 파이썬'</li><li>'딥러닝을 위한 선형대수학'</li><li>'유닉스의 탄생'</li><li><span style=white-space:pre-wrap>'회사에서 바로 통하는  오토캐드 AutoCAD 2021'</span></li><li>'IT CookBook, 오라클로 배우는 데이터베이스 개론과 실습(2판)'</li><li>'별, 걔 다 그립네'</li><li>'대학을 버려야 대학이 산다'</li><li>'IT CookBook, 따라 하면서 배우는 사물인터넷'</li><li>'재미있고 빠른 첫 한글 준비 선 긋기1권 직선∙곡선∙자음∙모음'</li><li>'재미있고 빠른 첫 한글 4권 쌍자음∙받침'</li><li>'핸즈온 비지도 학습'</li><li>'재미있고 빠른 첫 한글 쓰기1권 모음∙자음∙쉬운 낱말'</li><li>'우리 아이 처음 놀이'</li><li>'미라클 모닝 기적의 공식(개정판)'</li><li>'창의적 공학설계(3판)'</li><li>'R로 하는 다변량 데이터 분석 : 이론부터 실무 활용까지'</li><li><span style=white-space:pre-wrap>'공학 핵심수학(2판)  : 기초부터 심화까지 핵심만 쏙쏙'</span></li><li>'응용이 보이는 선형대수학 : 파이썬과 함께하는 선형대수학 이론과 응용'</li><li>'파이썬 증권 데이터 분석'</li></ol>\n"
            ]
          },
          "metadata": {
            "tags": []
          }
        }
      ]
    },
    {
      "cell_type": "code",
      "metadata": {
        "id": "QRYV0Og4rYow"
      },
      "source": [
        "title <- title[2:51]"
      ],
      "execution_count": 134,
      "outputs": []
    },
    {
      "cell_type": "code",
      "metadata": {
        "id": "L7fRHeeZo9bX",
        "outputId": "a4294651-2a18-4b03-8c83-6a08f2824477",
        "colab": {
          "base_uri": "https://localhost:8080/",
          "height": 136
        }
      },
      "source": [
        "writers <- html_nodes(html, 'td:nth-child(3)')\n",
        "writer <- html_text(writers)\n",
        "writer"
      ],
      "execution_count": 126,
      "outputs": [
        {
          "output_type": "display_data",
          "data": {
            "text/plain": [
              " [1] \"정진수   \"                          \"레이 달리오(Ray Dalio)   \"         \n",
              " [3] \"이성원   \"                          \"홍지해 외 3명  \"                   \n",
              " [5] \"조안 타탐   \"                       \"제시 대니얼   \"                    \n",
              " [7] \"제러드 갤런트   \"                   \"이호진   \"                         \n",
              " [9] \"래리 하이트   \"                     \"김윤정   \"                         \n",
              "[11] \"아라카와 다쿠야   \"                 \"로저 워튼호퍼   \"                  \n",
              "[13] \"강석창   \"                          \"한빛에듀 편집부   \"                \n",
              "[15] \"허성하(폭스더그린)   \"              \"김지연   \"                         \n",
              "[17] \"야쿠프 란그르 외 1명  \"             \"송승주 외 1명  \"                   \n",
              "[19] \"윤선아 외 1명  \"                    \"조지 S. 클래이슨 외 3명  \"         \n",
              "[21] \"Behrouz A. Forouzan 외 1명  \"       \"백상경제연구원 외 9명  \"           \n",
              "[23] \"백상경제연구원 외 10명  \"           \"빌 루바노빅   \"                    \n",
              "[25] \"김태헌 외 1명  \"                    \"세스 와이드먼   \"                  \n",
              "[27] \"김경자   \"                          \"한스 페터 마르틴   \"               \n",
              "[29] \"피트 워든 외 1명  \"                 \"알베르 무케베르   \"                \n",
              "[31] \"허팝 외 1명  \"                      \"나동빈   \"                         \n",
              "[33] \"Gilbert Strang   \"                  \"브라이언 커니핸   \"                \n",
              "[35] \"심미현   \"                          \"박우창 외 2명  \"                   \n",
              "[37] \"밤하늘(김하늘) 외 1명  \"            \"조동성 외 인천대학교 가족 178명   \"\n",
              "[39] \"양재삼   \"                          \"한빛학습연구회   \"                 \n",
              "[41] \"한빛학습연구회   \"                  \"안쿠르 A. 파텔   \"                 \n",
              "[43] \"한빛학습연구회   \"                  \"이현주(느림보juliee) 외 1명  \"     \n",
              "[45] \"할 엘로드   \"                       \"김은경   \"                         \n",
              "[47] \"카와하시 잇코 외 2명  \"             \"함남우   \"                         \n",
              "[49] \"이건명   \"                          \"김황후   \"                         "
            ],
            "text/latex": "\\begin{enumerate*}\n\\item '정진수   '\n\\item '레이 달리오(Ray Dalio)   '\n\\item '이성원   '\n\\item '홍지해 외 3명  '\n\\item '조안 타탐   '\n\\item '제시 대니얼   '\n\\item '제러드 갤런트   '\n\\item '이호진   '\n\\item '래리 하이트   '\n\\item '김윤정   '\n\\item '아라카와 다쿠야   '\n\\item '로저 워튼호퍼   '\n\\item '강석창   '\n\\item '한빛에듀 편집부   '\n\\item '허성하(폭스더그린)   '\n\\item '김지연   '\n\\item '야쿠프 란그르 외 1명  '\n\\item '송승주 외 1명  '\n\\item '윤선아 외 1명  '\n\\item '조지 S. 클래이슨 외 3명  '\n\\item 'Behrouz A. Forouzan 외 1명  '\n\\item '백상경제연구원 외 9명  '\n\\item '백상경제연구원 외 10명  '\n\\item '빌 루바노빅   '\n\\item '김태헌 외 1명  '\n\\item '세스 와이드먼   '\n\\item '김경자   '\n\\item '한스 페터 마르틴   '\n\\item '피트 워든 외 1명  '\n\\item '알베르 무케베르   '\n\\item '허팝 외 1명  '\n\\item '나동빈   '\n\\item 'Gilbert Strang   '\n\\item '브라이언 커니핸   '\n\\item '심미현   '\n\\item '박우창 외 2명  '\n\\item '밤하늘(김하늘) 외 1명  '\n\\item '조동성 외 인천대학교 가족 178명   '\n\\item '양재삼   '\n\\item '한빛학습연구회   '\n\\item '한빛학습연구회   '\n\\item '안쿠르 A. 파텔   '\n\\item '한빛학습연구회   '\n\\item '이현주(느림보juliee) 외 1명  '\n\\item '할 엘로드   '\n\\item '김은경   '\n\\item '카와하시 잇코 외 2명  '\n\\item '함남우   '\n\\item '이건명   '\n\\item '김황후   '\n\\end{enumerate*}\n",
            "text/markdown": "1. <span style=white-space:pre-wrap>'정진수   '</span>\n2. <span style=white-space:pre-wrap>'레이 달리오(Ray Dalio)   '</span>\n3. <span style=white-space:pre-wrap>'이성원   '</span>\n4. <span style=white-space:pre-wrap>'홍지해 외 3명  '</span>\n5. <span style=white-space:pre-wrap>'조안 타탐   '</span>\n6. <span style=white-space:pre-wrap>'제시 대니얼   '</span>\n7. <span style=white-space:pre-wrap>'제러드 갤런트   '</span>\n8. <span style=white-space:pre-wrap>'이호진   '</span>\n9. <span style=white-space:pre-wrap>'래리 하이트   '</span>\n10. <span style=white-space:pre-wrap>'김윤정   '</span>\n11. <span style=white-space:pre-wrap>'아라카와 다쿠야   '</span>\n12. <span style=white-space:pre-wrap>'로저 워튼호퍼   '</span>\n13. <span style=white-space:pre-wrap>'강석창   '</span>\n14. <span style=white-space:pre-wrap>'한빛에듀 편집부   '</span>\n15. <span style=white-space:pre-wrap>'허성하(폭스더그린)   '</span>\n16. <span style=white-space:pre-wrap>'김지연   '</span>\n17. <span style=white-space:pre-wrap>'야쿠프 란그르 외 1명  '</span>\n18. <span style=white-space:pre-wrap>'송승주 외 1명  '</span>\n19. <span style=white-space:pre-wrap>'윤선아 외 1명  '</span>\n20. <span style=white-space:pre-wrap>'조지 S. 클래이슨 외 3명  '</span>\n21. <span style=white-space:pre-wrap>'Behrouz A. Forouzan 외 1명  '</span>\n22. <span style=white-space:pre-wrap>'백상경제연구원 외 9명  '</span>\n23. <span style=white-space:pre-wrap>'백상경제연구원 외 10명  '</span>\n24. <span style=white-space:pre-wrap>'빌 루바노빅   '</span>\n25. <span style=white-space:pre-wrap>'김태헌 외 1명  '</span>\n26. <span style=white-space:pre-wrap>'세스 와이드먼   '</span>\n27. <span style=white-space:pre-wrap>'김경자   '</span>\n28. <span style=white-space:pre-wrap>'한스 페터 마르틴   '</span>\n29. <span style=white-space:pre-wrap>'피트 워든 외 1명  '</span>\n30. <span style=white-space:pre-wrap>'알베르 무케베르   '</span>\n31. <span style=white-space:pre-wrap>'허팝 외 1명  '</span>\n32. <span style=white-space:pre-wrap>'나동빈   '</span>\n33. <span style=white-space:pre-wrap>'Gilbert Strang   '</span>\n34. <span style=white-space:pre-wrap>'브라이언 커니핸   '</span>\n35. <span style=white-space:pre-wrap>'심미현   '</span>\n36. <span style=white-space:pre-wrap>'박우창 외 2명  '</span>\n37. <span style=white-space:pre-wrap>'밤하늘(김하늘) 외 1명  '</span>\n38. <span style=white-space:pre-wrap>'조동성 외 인천대학교 가족 178명   '</span>\n39. <span style=white-space:pre-wrap>'양재삼   '</span>\n40. <span style=white-space:pre-wrap>'한빛학습연구회   '</span>\n41. <span style=white-space:pre-wrap>'한빛학습연구회   '</span>\n42. <span style=white-space:pre-wrap>'안쿠르 A. 파텔   '</span>\n43. <span style=white-space:pre-wrap>'한빛학습연구회   '</span>\n44. <span style=white-space:pre-wrap>'이현주(느림보juliee) 외 1명  '</span>\n45. <span style=white-space:pre-wrap>'할 엘로드   '</span>\n46. <span style=white-space:pre-wrap>'김은경   '</span>\n47. <span style=white-space:pre-wrap>'카와하시 잇코 외 2명  '</span>\n48. <span style=white-space:pre-wrap>'함남우   '</span>\n49. <span style=white-space:pre-wrap>'이건명   '</span>\n50. <span style=white-space:pre-wrap>'김황후   '</span>\n\n\n",
            "text/html": [
              "<style>\n",
              ".list-inline {list-style: none; margin:0; padding: 0}\n",
              ".list-inline>li {display: inline-block}\n",
              ".list-inline>li:not(:last-child)::after {content: \"\\00b7\"; padding: 0 .5ex}\n",
              "</style>\n",
              "<ol class=list-inline><li><span style=white-space:pre-wrap>'정진수   '</span></li><li><span style=white-space:pre-wrap>'레이 달리오(Ray Dalio)   '</span></li><li><span style=white-space:pre-wrap>'이성원   '</span></li><li><span style=white-space:pre-wrap>'홍지해 외 3명  '</span></li><li><span style=white-space:pre-wrap>'조안 타탐   '</span></li><li><span style=white-space:pre-wrap>'제시 대니얼   '</span></li><li><span style=white-space:pre-wrap>'제러드 갤런트   '</span></li><li><span style=white-space:pre-wrap>'이호진   '</span></li><li><span style=white-space:pre-wrap>'래리 하이트   '</span></li><li><span style=white-space:pre-wrap>'김윤정   '</span></li><li><span style=white-space:pre-wrap>'아라카와 다쿠야   '</span></li><li><span style=white-space:pre-wrap>'로저 워튼호퍼   '</span></li><li><span style=white-space:pre-wrap>'강석창   '</span></li><li><span style=white-space:pre-wrap>'한빛에듀 편집부   '</span></li><li><span style=white-space:pre-wrap>'허성하(폭스더그린)   '</span></li><li><span style=white-space:pre-wrap>'김지연   '</span></li><li><span style=white-space:pre-wrap>'야쿠프 란그르 외 1명  '</span></li><li><span style=white-space:pre-wrap>'송승주 외 1명  '</span></li><li><span style=white-space:pre-wrap>'윤선아 외 1명  '</span></li><li><span style=white-space:pre-wrap>'조지 S. 클래이슨 외 3명  '</span></li><li><span style=white-space:pre-wrap>'Behrouz A. Forouzan 외 1명  '</span></li><li><span style=white-space:pre-wrap>'백상경제연구원 외 9명  '</span></li><li><span style=white-space:pre-wrap>'백상경제연구원 외 10명  '</span></li><li><span style=white-space:pre-wrap>'빌 루바노빅   '</span></li><li><span style=white-space:pre-wrap>'김태헌 외 1명  '</span></li><li><span style=white-space:pre-wrap>'세스 와이드먼   '</span></li><li><span style=white-space:pre-wrap>'김경자   '</span></li><li><span style=white-space:pre-wrap>'한스 페터 마르틴   '</span></li><li><span style=white-space:pre-wrap>'피트 워든 외 1명  '</span></li><li><span style=white-space:pre-wrap>'알베르 무케베르   '</span></li><li><span style=white-space:pre-wrap>'허팝 외 1명  '</span></li><li><span style=white-space:pre-wrap>'나동빈   '</span></li><li><span style=white-space:pre-wrap>'Gilbert Strang   '</span></li><li><span style=white-space:pre-wrap>'브라이언 커니핸   '</span></li><li><span style=white-space:pre-wrap>'심미현   '</span></li><li><span style=white-space:pre-wrap>'박우창 외 2명  '</span></li><li><span style=white-space:pre-wrap>'밤하늘(김하늘) 외 1명  '</span></li><li><span style=white-space:pre-wrap>'조동성 외 인천대학교 가족 178명   '</span></li><li><span style=white-space:pre-wrap>'양재삼   '</span></li><li><span style=white-space:pre-wrap>'한빛학습연구회   '</span></li><li><span style=white-space:pre-wrap>'한빛학습연구회   '</span></li><li><span style=white-space:pre-wrap>'안쿠르 A. 파텔   '</span></li><li><span style=white-space:pre-wrap>'한빛학습연구회   '</span></li><li><span style=white-space:pre-wrap>'이현주(느림보juliee) 외 1명  '</span></li><li><span style=white-space:pre-wrap>'할 엘로드   '</span></li><li><span style=white-space:pre-wrap>'김은경   '</span></li><li><span style=white-space:pre-wrap>'카와하시 잇코 외 2명  '</span></li><li><span style=white-space:pre-wrap>'함남우   '</span></li><li><span style=white-space:pre-wrap>'이건명   '</span></li><li><span style=white-space:pre-wrap>'김황후   '</span></li></ol>\n"
            ]
          },
          "metadata": {
            "tags": []
          }
        }
      ]
    },
    {
      "cell_type": "code",
      "metadata": {
        "id": "_3ZmprmBqI0H",
        "outputId": "8b34def4-9005-4e9c-9709-1bf3dcaedcc5",
        "colab": {
          "base_uri": "https://localhost:8080/",
          "height": 102
        }
      },
      "source": [
        "issues <- html_nodes(html,'td:nth-child(4)')\n",
        "issue <- html_text(issues)\n",
        "issue"
      ],
      "execution_count": 127,
      "outputs": [
        {
          "output_type": "display_data",
          "data": {
            "text/plain": [
              " [1] \"2020-10-23\" \"2020-10-19\" \"2020-10-19\" \"2020-10-15\" \"2020-10-08\"\n",
              " [6] \"2020-10-05\" \"2020-10-05\" \"2020-10-05\" \"2020-10-05\" \"2020-10-05\"\n",
              "[11] \"2020-10-01\" \"2020-09-30\" \"2020-09-30\" \"2020-09-30\" \"2020-09-28\"\n",
              "[16] \"2020-09-28\" \"2020-09-17\" \"2020-09-16\" \"2020-09-16\" \"2020-09-14\"\n",
              "[21] \"2020-08-31\" \"2020-08-25\" \"2020-08-25\" \"2020-08-24\" \"2020-08-20\"\n",
              "[26] \"2020-08-20\" \"2020-08-20\" \"2020-08-20\" \"2020-08-20\" \"2020-08-10\"\n",
              "[31] \"2020-08-10\" \"2020-08-05\" \"2020-08-05\" \"2020-08-03\" \"2020-08-03\"\n",
              "[36] \"2020-07-30\" \"2020-07-30\" \"2020-07-25\" \"2020-07-23\" \"2020-07-20\"\n",
              "[41] \"2020-07-20\" \"2020-07-20\" \"2020-07-20\" \"2020-07-20\" \"2020-07-15\"\n",
              "[46] \"2020-07-10\" \"2020-07-10\" \"2020-07-06\" \"2020-07-06\" \"2020-07-01\""
            ],
            "text/latex": "\\begin{enumerate*}\n\\item '2020-10-23'\n\\item '2020-10-19'\n\\item '2020-10-19'\n\\item '2020-10-15'\n\\item '2020-10-08'\n\\item '2020-10-05'\n\\item '2020-10-05'\n\\item '2020-10-05'\n\\item '2020-10-05'\n\\item '2020-10-05'\n\\item '2020-10-01'\n\\item '2020-09-30'\n\\item '2020-09-30'\n\\item '2020-09-30'\n\\item '2020-09-28'\n\\item '2020-09-28'\n\\item '2020-09-17'\n\\item '2020-09-16'\n\\item '2020-09-16'\n\\item '2020-09-14'\n\\item '2020-08-31'\n\\item '2020-08-25'\n\\item '2020-08-25'\n\\item '2020-08-24'\n\\item '2020-08-20'\n\\item '2020-08-20'\n\\item '2020-08-20'\n\\item '2020-08-20'\n\\item '2020-08-20'\n\\item '2020-08-10'\n\\item '2020-08-10'\n\\item '2020-08-05'\n\\item '2020-08-05'\n\\item '2020-08-03'\n\\item '2020-08-03'\n\\item '2020-07-30'\n\\item '2020-07-30'\n\\item '2020-07-25'\n\\item '2020-07-23'\n\\item '2020-07-20'\n\\item '2020-07-20'\n\\item '2020-07-20'\n\\item '2020-07-20'\n\\item '2020-07-20'\n\\item '2020-07-15'\n\\item '2020-07-10'\n\\item '2020-07-10'\n\\item '2020-07-06'\n\\item '2020-07-06'\n\\item '2020-07-01'\n\\end{enumerate*}\n",
            "text/markdown": "1. '2020-10-23'\n2. '2020-10-19'\n3. '2020-10-19'\n4. '2020-10-15'\n5. '2020-10-08'\n6. '2020-10-05'\n7. '2020-10-05'\n8. '2020-10-05'\n9. '2020-10-05'\n10. '2020-10-05'\n11. '2020-10-01'\n12. '2020-09-30'\n13. '2020-09-30'\n14. '2020-09-30'\n15. '2020-09-28'\n16. '2020-09-28'\n17. '2020-09-17'\n18. '2020-09-16'\n19. '2020-09-16'\n20. '2020-09-14'\n21. '2020-08-31'\n22. '2020-08-25'\n23. '2020-08-25'\n24. '2020-08-24'\n25. '2020-08-20'\n26. '2020-08-20'\n27. '2020-08-20'\n28. '2020-08-20'\n29. '2020-08-20'\n30. '2020-08-10'\n31. '2020-08-10'\n32. '2020-08-05'\n33. '2020-08-05'\n34. '2020-08-03'\n35. '2020-08-03'\n36. '2020-07-30'\n37. '2020-07-30'\n38. '2020-07-25'\n39. '2020-07-23'\n40. '2020-07-20'\n41. '2020-07-20'\n42. '2020-07-20'\n43. '2020-07-20'\n44. '2020-07-20'\n45. '2020-07-15'\n46. '2020-07-10'\n47. '2020-07-10'\n48. '2020-07-06'\n49. '2020-07-06'\n50. '2020-07-01'\n\n\n",
            "text/html": [
              "<style>\n",
              ".list-inline {list-style: none; margin:0; padding: 0}\n",
              ".list-inline>li {display: inline-block}\n",
              ".list-inline>li:not(:last-child)::after {content: \"\\00b7\"; padding: 0 .5ex}\n",
              "</style>\n",
              "<ol class=list-inline><li>'2020-10-23'</li><li>'2020-10-19'</li><li>'2020-10-19'</li><li>'2020-10-15'</li><li>'2020-10-08'</li><li>'2020-10-05'</li><li>'2020-10-05'</li><li>'2020-10-05'</li><li>'2020-10-05'</li><li>'2020-10-05'</li><li>'2020-10-01'</li><li>'2020-09-30'</li><li>'2020-09-30'</li><li>'2020-09-30'</li><li>'2020-09-28'</li><li>'2020-09-28'</li><li>'2020-09-17'</li><li>'2020-09-16'</li><li>'2020-09-16'</li><li>'2020-09-14'</li><li>'2020-08-31'</li><li>'2020-08-25'</li><li>'2020-08-25'</li><li>'2020-08-24'</li><li>'2020-08-20'</li><li>'2020-08-20'</li><li>'2020-08-20'</li><li>'2020-08-20'</li><li>'2020-08-20'</li><li>'2020-08-10'</li><li>'2020-08-10'</li><li>'2020-08-05'</li><li>'2020-08-05'</li><li>'2020-08-03'</li><li>'2020-08-03'</li><li>'2020-07-30'</li><li>'2020-07-30'</li><li>'2020-07-25'</li><li>'2020-07-23'</li><li>'2020-07-20'</li><li>'2020-07-20'</li><li>'2020-07-20'</li><li>'2020-07-20'</li><li>'2020-07-20'</li><li>'2020-07-15'</li><li>'2020-07-10'</li><li>'2020-07-10'</li><li>'2020-07-06'</li><li>'2020-07-06'</li><li>'2020-07-01'</li></ol>\n"
            ]
          },
          "metadata": {
            "tags": []
          }
        }
      ]
    },
    {
      "cell_type": "code",
      "metadata": {
        "id": "PjqMQGe-q_NT",
        "outputId": "6a8fde8f-cb49-499d-e2f0-e1d08ecb3d20",
        "colab": {
          "base_uri": "https://localhost:8080/",
          "height": 68
        }
      },
      "source": [
        "length(title)\n",
        "length(writer)\n",
        "length(issue)"
      ],
      "execution_count": 129,
      "outputs": [
        {
          "output_type": "display_data",
          "data": {
            "text/plain": [
              "[1] 51"
            ],
            "text/latex": "51",
            "text/markdown": "51",
            "text/html": [
              "51"
            ]
          },
          "metadata": {
            "tags": []
          }
        },
        {
          "output_type": "display_data",
          "data": {
            "text/plain": [
              "[1] 50"
            ],
            "text/latex": "50",
            "text/markdown": "50",
            "text/html": [
              "50"
            ]
          },
          "metadata": {
            "tags": []
          }
        },
        {
          "output_type": "display_data",
          "data": {
            "text/plain": [
              "[1] 50"
            ],
            "text/latex": "50",
            "text/markdown": "50",
            "text/html": [
              "50"
            ]
          },
          "metadata": {
            "tags": []
          }
        }
      ]
    },
    {
      "cell_type": "code",
      "metadata": {
        "id": "n5zbfU5MqZOY",
        "outputId": "97ae48b9-b89e-4432-93c7-6576451f6bbf",
        "colab": {
          "base_uri": "https://localhost:8080/",
          "height": 1000
        }
      },
      "source": [
        "booklist <- data.frame(title, writer, issue, stringsAsFactors = F)\n",
        "booklist"
      ],
      "execution_count": 135,
      "outputs": [
        {
          "output_type": "display_data",
          "data": {
            "text/plain": [
              "   title                                                                                                      \n",
              "1  키워드 검색량 조회 전략으로 조회수와 방문자 늘리기 네이버 블로그&포스트 만들기                             \n",
              "2  성공 원칙 - PRINCIPLES FOR SUCCESS                                                                         \n",
              "3  3분 엑셀 누구나 아는 나만 모르는 IT 이성원 강사의 : 28만 구독자 누나 IT 유튜브 채널의 엑셀 왕초보 탈출 강의\n",
              "4  북킷리스트                                                                                                 \n",
              "5  나는 꼭 필요한 것만 남기기로 했다                                                                          \n",
              "6  파이썬과 대스크를 활용한 고성능 데이터 분석                                                                \n",
              "7  웹어셈블리 인 액션                                                                                         \n",
              "8  쉽게 배워 바로 써먹는 디자인 패턴                                                                          \n",
              "9  부의 원칙                                                                                                  \n",
              "10 만들면서 배우는 픽셀 아트                                                                                  \n",
              "11 초보자를 위한 언리얼 엔진 4 입문                                                                           \n",
              "12 분산원장 기술                                                                                              \n",
              "13 회사에서 바로 통하는 3ds Max + V-Ray                                                                       \n",
              "14 재미있고 빠른 한글 쓰기 3권 : 교과서 쉬운 낱말                                                             \n",
              "15 나도 초록 식물 잘 키우면 소원이 없겠네                                                                     \n",
              "16 IT CookBook, 액세스 2019로 배우는 데이터베이스 기초와 실습                                                 \n",
              "17 GAN 인 액션                                                                                                \n",
              "18 재미있고 빠른 어휘력 동화 – 아지랑이가 뭐야?                                                               \n",
              "19 재미있고 빠른 어휘력 동화 – 많다의 반대가 뭐야?                                                            \n",
              "20 만화로 보는 바빌론 부자들의 돈 버는 지혜                                                                   \n",
              "21 포르잔 C++ 바이블                                                                                          \n",
              "22 청소년 인문학 수업 - 1권                                                                                   \n",
              "23 청소년 인문학 수업 - 2권                                                                                   \n",
              "24 처음 시작하는 파이썬(2판)                                                                                  \n",
              "25 퀀트 전략을 위한 인공지능 트레이딩                                                                         \n",
              "26 처음 시작하는 딥러닝                                                                                       \n",
              "27 회사에서 바로 통하는 실무 엑셀 매크로&VBA                                                                  \n",
              "28 게임 오버                                                                                                  \n",
              "29 초소형 머신러닝 TinyML                                                                                     \n",
              "30 오늘도 뇌는 거짓말을 한다                                                                                  \n",
              "31 허팝만 따라 해봐! 유튜브 정석                                                                              \n",
              "32 이것이 취업을 위한 코딩 테스트다 with 파이썬                                                               \n",
              "33 딥러닝을 위한 선형대수학                                                                                   \n",
              "34 유닉스의 탄생                                                                                              \n",
              "35 회사에서 바로 통하는  오토캐드 AutoCAD 2021                                                                \n",
              "36 IT CookBook, 오라클로 배우는 데이터베이스 개론과 실습(2판)                                                 \n",
              "37 별, 걔 다 그립네                                                                                           \n",
              "38 대학을 버려야 대학이 산다                                                                                  \n",
              "39 IT CookBook, 따라 하면서 배우는 사물인터넷                                                                 \n",
              "40 재미있고 빠른 첫 한글 준비 선 긋기1권 직선∙곡선∙자음∙모음                                                  \n",
              "41 재미있고 빠른 첫 한글 4권 쌍자음∙받침                                                                      \n",
              "42 핸즈온 비지도 학습                                                                                         \n",
              "43 재미있고 빠른 첫 한글 쓰기1권 모음∙자음∙쉬운 낱말                                                          \n",
              "44 우리 아이 처음 놀이                                                                                        \n",
              "45 미라클 모닝 기적의 공식(개정판)                                                                            \n",
              "46 창의적 공학설계(3판)                                                                                       \n",
              "47 R로 하는 다변량 데이터 분석 : 이론부터 실무 활용까지                                                       \n",
              "48 공학 핵심수학(2판)  : 기초부터 심화까지 핵심만 쏙쏙                                                        \n",
              "49 응용이 보이는 선형대수학 : 파이썬과 함께하는 선형대수학 이론과 응용                                        \n",
              "50 파이썬 증권 데이터 분석                                                                                    \n",
              "   writer                             issue     \n",
              "1  정진수                             2020-10-23\n",
              "2  레이 달리오(Ray Dalio)             2020-10-19\n",
              "3  이성원                             2020-10-19\n",
              "4  홍지해 외 3명                      2020-10-15\n",
              "5  조안 타탐                          2020-10-08\n",
              "6  제시 대니얼                        2020-10-05\n",
              "7  제러드 갤런트                      2020-10-05\n",
              "8  이호진                             2020-10-05\n",
              "9  래리 하이트                        2020-10-05\n",
              "10 김윤정                             2020-10-05\n",
              "11 아라카와 다쿠야                    2020-10-01\n",
              "12 로저 워튼호퍼                      2020-09-30\n",
              "13 강석창                             2020-09-30\n",
              "14 한빛에듀 편집부                    2020-09-30\n",
              "15 허성하(폭스더그린)                 2020-09-28\n",
              "16 김지연                             2020-09-28\n",
              "17 야쿠프 란그르 외 1명               2020-09-17\n",
              "18 송승주 외 1명                      2020-09-16\n",
              "19 윤선아 외 1명                      2020-09-16\n",
              "20 조지 S. 클래이슨 외 3명            2020-09-14\n",
              "21 Behrouz A. Forouzan 외 1명         2020-08-31\n",
              "22 백상경제연구원 외 9명              2020-08-25\n",
              "23 백상경제연구원 외 10명             2020-08-25\n",
              "24 빌 루바노빅                        2020-08-24\n",
              "25 김태헌 외 1명                      2020-08-20\n",
              "26 세스 와이드먼                      2020-08-20\n",
              "27 김경자                             2020-08-20\n",
              "28 한스 페터 마르틴                   2020-08-20\n",
              "29 피트 워든 외 1명                   2020-08-20\n",
              "30 알베르 무케베르                    2020-08-10\n",
              "31 허팝 외 1명                        2020-08-10\n",
              "32 나동빈                             2020-08-05\n",
              "33 Gilbert Strang                     2020-08-05\n",
              "34 브라이언 커니핸                    2020-08-03\n",
              "35 심미현                             2020-08-03\n",
              "36 박우창 외 2명                      2020-07-30\n",
              "37 밤하늘(김하늘) 외 1명              2020-07-30\n",
              "38 조동성 외 인천대학교 가족 178명    2020-07-25\n",
              "39 양재삼                             2020-07-23\n",
              "40 한빛학습연구회                     2020-07-20\n",
              "41 한빛학습연구회                     2020-07-20\n",
              "42 안쿠르 A. 파텔                     2020-07-20\n",
              "43 한빛학습연구회                     2020-07-20\n",
              "44 이현주(느림보juliee) 외 1명        2020-07-20\n",
              "45 할 엘로드                          2020-07-15\n",
              "46 김은경                             2020-07-10\n",
              "47 카와하시 잇코 외 2명               2020-07-10\n",
              "48 함남우                             2020-07-06\n",
              "49 이건명                             2020-07-06\n",
              "50 김황후                             2020-07-01"
            ],
            "text/latex": "A data.frame: 50 × 3\n\\begin{tabular}{lll}\n title & writer & issue\\\\\n <chr> & <chr> & <chr>\\\\\n\\hline\n\t 키워드 검색량 조회 전략으로 조회수와 방문자 늘리기 네이버 블로그\\&포스트 만들기                              & 정진수                             & 2020-10-23\\\\\n\t 성공 원칙 - PRINCIPLES FOR SUCCESS                                                                          & 레이 달리오(Ray Dalio)             & 2020-10-19\\\\\n\t 3분 엑셀 누구나 아는 나만 모르는 IT 이성원 강사의 : 28만 구독자 누나 IT 유튜브 채널의 엑셀 왕초보 탈출 강의 & 이성원                             & 2020-10-19\\\\\n\t 북킷리스트                                                                                                  & 홍지해 외 3명                      & 2020-10-15\\\\\n\t 나는 꼭 필요한 것만 남기기로 했다                                                                           & 조안 타탐                          & 2020-10-08\\\\\n\t 파이썬과 대스크를 활용한 고성능 데이터 분석                                                                 & 제시 대니얼                        & 2020-10-05\\\\\n\t 웹어셈블리 인 액션                                                                                          & 제러드 갤런트                      & 2020-10-05\\\\\n\t 쉽게 배워 바로 써먹는 디자인 패턴                                                                           & 이호진                             & 2020-10-05\\\\\n\t 부의 원칙                                                                                                   & 래리 하이트                        & 2020-10-05\\\\\n\t 만들면서 배우는 픽셀 아트                                                                                   & 김윤정                             & 2020-10-05\\\\\n\t 초보자를 위한 언리얼 엔진 4 입문                                                                            & 아라카와 다쿠야                    & 2020-10-01\\\\\n\t 분산원장 기술                                                                                               & 로저 워튼호퍼                      & 2020-09-30\\\\\n\t 회사에서 바로 통하는 3ds Max + V-Ray                                                                        & 강석창                             & 2020-09-30\\\\\n\t 재미있고 빠른 한글 쓰기 3권 : 교과서 쉬운 낱말                                                              & 한빛에듀 편집부                    & 2020-09-30\\\\\n\t 나도 초록 식물 잘 키우면 소원이 없겠네                                                                      & 허성하(폭스더그린)                 & 2020-09-28\\\\\n\t IT CookBook, 액세스 2019로 배우는 데이터베이스 기초와 실습                                                  & 김지연                             & 2020-09-28\\\\\n\t GAN 인 액션                                                                                                 & 야쿠프 란그르 외 1명               & 2020-09-17\\\\\n\t 재미있고 빠른 어휘력 동화 – 아지랑이가 뭐야?                                                                & 송승주 외 1명                      & 2020-09-16\\\\\n\t 재미있고 빠른 어휘력 동화 – 많다의 반대가 뭐야?                                                             & 윤선아 외 1명                      & 2020-09-16\\\\\n\t 만화로 보는 바빌론 부자들의 돈 버는 지혜                                                                    & 조지 S. 클래이슨 외 3명            & 2020-09-14\\\\\n\t 포르잔 C++ 바이블                                                                                           & Behrouz A. Forouzan 외 1명         & 2020-08-31\\\\\n\t 청소년 인문학 수업 - 1권                                                                                    & 백상경제연구원 외 9명              & 2020-08-25\\\\\n\t 청소년 인문학 수업 - 2권                                                                                    & 백상경제연구원 외 10명             & 2020-08-25\\\\\n\t 처음 시작하는 파이썬(2판)                                                                                   & 빌 루바노빅                        & 2020-08-24\\\\\n\t 퀀트 전략을 위한 인공지능 트레이딩                                                                          & 김태헌 외 1명                      & 2020-08-20\\\\\n\t 처음 시작하는 딥러닝                                                                                        & 세스 와이드먼                      & 2020-08-20\\\\\n\t 회사에서 바로 통하는 실무 엑셀 매크로\\&VBA                                                                   & 김경자                             & 2020-08-20\\\\\n\t 게임 오버                                                                                                   & 한스 페터 마르틴                   & 2020-08-20\\\\\n\t 초소형 머신러닝 TinyML                                                                                      & 피트 워든 외 1명                   & 2020-08-20\\\\\n\t 오늘도 뇌는 거짓말을 한다                                                                                   & 알베르 무케베르                    & 2020-08-10\\\\\n\t 허팝만 따라 해봐! 유튜브 정석                                                                               & 허팝 외 1명                        & 2020-08-10\\\\\n\t 이것이 취업을 위한 코딩 테스트다 with 파이썬                                                                & 나동빈                             & 2020-08-05\\\\\n\t 딥러닝을 위한 선형대수학                                                                                    & Gilbert Strang                     & 2020-08-05\\\\\n\t 유닉스의 탄생                                                                                               & 브라이언 커니핸                    & 2020-08-03\\\\\n\t 회사에서 바로 통하는  오토캐드 AutoCAD 2021                                                                 & 심미현                             & 2020-08-03\\\\\n\t IT CookBook, 오라클로 배우는 데이터베이스 개론과 실습(2판)                                                  & 박우창 외 2명                      & 2020-07-30\\\\\n\t 별, 걔 다 그립네                                                                                            & 밤하늘(김하늘) 외 1명              & 2020-07-30\\\\\n\t 대학을 버려야 대학이 산다                                                                                   & 조동성 외 인천대학교 가족 178명    & 2020-07-25\\\\\n\t IT CookBook, 따라 하면서 배우는 사물인터넷                                                                  & 양재삼                             & 2020-07-23\\\\\n\t 재미있고 빠른 첫 한글 준비 선 긋기1권 직선∙곡선∙자음∙모음                                                   & 한빛학습연구회                     & 2020-07-20\\\\\n\t 재미있고 빠른 첫 한글 4권 쌍자음∙받침                                                                       & 한빛학습연구회                     & 2020-07-20\\\\\n\t 핸즈온 비지도 학습                                                                                          & 안쿠르 A. 파텔                     & 2020-07-20\\\\\n\t 재미있고 빠른 첫 한글 쓰기1권 모음∙자음∙쉬운 낱말                                                           & 한빛학습연구회                     & 2020-07-20\\\\\n\t 우리 아이 처음 놀이                                                                                         & 이현주(느림보juliee) 외 1명        & 2020-07-20\\\\\n\t 미라클 모닝 기적의 공식(개정판)                                                                             & 할 엘로드                          & 2020-07-15\\\\\n\t 창의적 공학설계(3판)                                                                                        & 김은경                             & 2020-07-10\\\\\n\t R로 하는 다변량 데이터 분석 : 이론부터 실무 활용까지                                                        & 카와하시 잇코 외 2명               & 2020-07-10\\\\\n\t 공학 핵심수학(2판)  : 기초부터 심화까지 핵심만 쏙쏙                                                         & 함남우                             & 2020-07-06\\\\\n\t 응용이 보이는 선형대수학 : 파이썬과 함께하는 선형대수학 이론과 응용                                         & 이건명                             & 2020-07-06\\\\\n\t 파이썬 증권 데이터 분석                                                                                     & 김황후                             & 2020-07-01\\\\\n\\end{tabular}\n",
            "text/markdown": "\nA data.frame: 50 × 3\n\n| title &lt;chr&gt; | writer &lt;chr&gt; | issue &lt;chr&gt; |\n|---|---|---|\n| 키워드 검색량 조회 전략으로 조회수와 방문자 늘리기 네이버 블로그&amp;포스트 만들기                              | 정진수                             | 2020-10-23 |\n| 성공 원칙 - PRINCIPLES FOR SUCCESS                                                                          | 레이 달리오(Ray Dalio)             | 2020-10-19 |\n| 3분 엑셀 누구나 아는 나만 모르는 IT 이성원 강사의 : 28만 구독자 누나 IT 유튜브 채널의 엑셀 왕초보 탈출 강의 | 이성원                             | 2020-10-19 |\n| 북킷리스트                                                                                                  | 홍지해 외 3명                      | 2020-10-15 |\n| 나는 꼭 필요한 것만 남기기로 했다                                                                           | 조안 타탐                          | 2020-10-08 |\n| 파이썬과 대스크를 활용한 고성능 데이터 분석                                                                 | 제시 대니얼                        | 2020-10-05 |\n| 웹어셈블리 인 액션                                                                                          | 제러드 갤런트                      | 2020-10-05 |\n| 쉽게 배워 바로 써먹는 디자인 패턴                                                                           | 이호진                             | 2020-10-05 |\n| 부의 원칙                                                                                                   | 래리 하이트                        | 2020-10-05 |\n| 만들면서 배우는 픽셀 아트                                                                                   | 김윤정                             | 2020-10-05 |\n| 초보자를 위한 언리얼 엔진 4 입문                                                                            | 아라카와 다쿠야                    | 2020-10-01 |\n| 분산원장 기술                                                                                               | 로저 워튼호퍼                      | 2020-09-30 |\n| 회사에서 바로 통하는 3ds Max + V-Ray                                                                        | 강석창                             | 2020-09-30 |\n| 재미있고 빠른 한글 쓰기 3권 : 교과서 쉬운 낱말                                                              | 한빛에듀 편집부                    | 2020-09-30 |\n| 나도 초록 식물 잘 키우면 소원이 없겠네                                                                      | 허성하(폭스더그린)                 | 2020-09-28 |\n| IT CookBook, 액세스 2019로 배우는 데이터베이스 기초와 실습                                                  | 김지연                             | 2020-09-28 |\n| GAN 인 액션                                                                                                 | 야쿠프 란그르 외 1명               | 2020-09-17 |\n| 재미있고 빠른 어휘력 동화 – 아지랑이가 뭐야?                                                                | 송승주 외 1명                      | 2020-09-16 |\n| 재미있고 빠른 어휘력 동화 – 많다의 반대가 뭐야?                                                             | 윤선아 외 1명                      | 2020-09-16 |\n| 만화로 보는 바빌론 부자들의 돈 버는 지혜                                                                    | 조지 S. 클래이슨 외 3명            | 2020-09-14 |\n| 포르잔 C++ 바이블                                                                                           | Behrouz A. Forouzan 외 1명         | 2020-08-31 |\n| 청소년 인문학 수업 - 1권                                                                                    | 백상경제연구원 외 9명              | 2020-08-25 |\n| 청소년 인문학 수업 - 2권                                                                                    | 백상경제연구원 외 10명             | 2020-08-25 |\n| 처음 시작하는 파이썬(2판)                                                                                   | 빌 루바노빅                        | 2020-08-24 |\n| 퀀트 전략을 위한 인공지능 트레이딩                                                                          | 김태헌 외 1명                      | 2020-08-20 |\n| 처음 시작하는 딥러닝                                                                                        | 세스 와이드먼                      | 2020-08-20 |\n| 회사에서 바로 통하는 실무 엑셀 매크로&amp;VBA                                                                   | 김경자                             | 2020-08-20 |\n| 게임 오버                                                                                                   | 한스 페터 마르틴                   | 2020-08-20 |\n| 초소형 머신러닝 TinyML                                                                                      | 피트 워든 외 1명                   | 2020-08-20 |\n| 오늘도 뇌는 거짓말을 한다                                                                                   | 알베르 무케베르                    | 2020-08-10 |\n| 허팝만 따라 해봐! 유튜브 정석                                                                               | 허팝 외 1명                        | 2020-08-10 |\n| 이것이 취업을 위한 코딩 테스트다 with 파이썬                                                                | 나동빈                             | 2020-08-05 |\n| 딥러닝을 위한 선형대수학                                                                                    | Gilbert Strang                     | 2020-08-05 |\n| 유닉스의 탄생                                                                                               | 브라이언 커니핸                    | 2020-08-03 |\n| 회사에서 바로 통하는  오토캐드 AutoCAD 2021                                                                 | 심미현                             | 2020-08-03 |\n| IT CookBook, 오라클로 배우는 데이터베이스 개론과 실습(2판)                                                  | 박우창 외 2명                      | 2020-07-30 |\n| 별, 걔 다 그립네                                                                                            | 밤하늘(김하늘) 외 1명              | 2020-07-30 |\n| 대학을 버려야 대학이 산다                                                                                   | 조동성 외 인천대학교 가족 178명    | 2020-07-25 |\n| IT CookBook, 따라 하면서 배우는 사물인터넷                                                                  | 양재삼                             | 2020-07-23 |\n| 재미있고 빠른 첫 한글 준비 선 긋기1권 직선∙곡선∙자음∙모음                                                   | 한빛학습연구회                     | 2020-07-20 |\n| 재미있고 빠른 첫 한글 4권 쌍자음∙받침                                                                       | 한빛학습연구회                     | 2020-07-20 |\n| 핸즈온 비지도 학습                                                                                          | 안쿠르 A. 파텔                     | 2020-07-20 |\n| 재미있고 빠른 첫 한글 쓰기1권 모음∙자음∙쉬운 낱말                                                           | 한빛학습연구회                     | 2020-07-20 |\n| 우리 아이 처음 놀이                                                                                         | 이현주(느림보juliee) 외 1명        | 2020-07-20 |\n| 미라클 모닝 기적의 공식(개정판)                                                                             | 할 엘로드                          | 2020-07-15 |\n| 창의적 공학설계(3판)                                                                                        | 김은경                             | 2020-07-10 |\n| R로 하는 다변량 데이터 분석 : 이론부터 실무 활용까지                                                        | 카와하시 잇코 외 2명               | 2020-07-10 |\n| 공학 핵심수학(2판)  : 기초부터 심화까지 핵심만 쏙쏙                                                         | 함남우                             | 2020-07-06 |\n| 응용이 보이는 선형대수학 : 파이썬과 함께하는 선형대수학 이론과 응용                                         | 이건명                             | 2020-07-06 |\n| 파이썬 증권 데이터 분석                                                                                     | 김황후                             | 2020-07-01 |\n\n",
            "text/html": [
              "<table>\n",
              "<caption>A data.frame: 50 × 3</caption>\n",
              "<thead>\n",
              "\t<tr><th scope=col>title</th><th scope=col>writer</th><th scope=col>issue</th></tr>\n",
              "\t<tr><th scope=col>&lt;chr&gt;</th><th scope=col>&lt;chr&gt;</th><th scope=col>&lt;chr&gt;</th></tr>\n",
              "</thead>\n",
              "<tbody>\n",
              "\t<tr><td><span style=white-space:pre-wrap>키워드 검색량 조회 전략으로 조회수와 방문자 늘리기 네이버 블로그&amp;포스트 만들기                             </span></td><td><span style=white-space:pre-wrap>정진수                            </span></td><td>2020-10-23</td></tr>\n",
              "\t<tr><td>성공 원칙 - PRINCIPLES FOR SUCCESS                                                                         </td><td>레이 달리오(Ray Dalio)            </td><td>2020-10-19</td></tr>\n",
              "\t<tr><td>3분 엑셀 누구나 아는 나만 모르는 IT 이성원 강사의 : 28만 구독자 누나 IT 유튜브 채널의 엑셀 왕초보 탈출 강의</td><td>이성원                            </td><td>2020-10-19</td></tr>\n",
              "\t<tr><td>북킷리스트                                                                                                 </td><td>홍지해 외 3명                     </td><td>2020-10-15</td></tr>\n",
              "\t<tr><td>나는 꼭 필요한 것만 남기기로 했다                                                                          </td><td>조안 타탐                         </td><td>2020-10-08</td></tr>\n",
              "\t<tr><td>파이썬과 대스크를 활용한 고성능 데이터 분석                                                                </td><td>제시 대니얼                       </td><td>2020-10-05</td></tr>\n",
              "\t<tr><td>웹어셈블리 인 액션                                                                                         </td><td>제러드 갤런트                     </td><td>2020-10-05</td></tr>\n",
              "\t<tr><td>쉽게 배워 바로 써먹는 디자인 패턴                                                                          </td><td>이호진                            </td><td>2020-10-05</td></tr>\n",
              "\t<tr><td>부의 원칙                                                                                                  </td><td>래리 하이트                       </td><td>2020-10-05</td></tr>\n",
              "\t<tr><td>만들면서 배우는 픽셀 아트                                                                                  </td><td>김윤정                            </td><td>2020-10-05</td></tr>\n",
              "\t<tr><td>초보자를 위한 언리얼 엔진 4 입문                                                                           </td><td>아라카와 다쿠야                   </td><td>2020-10-01</td></tr>\n",
              "\t<tr><td>분산원장 기술                                                                                              </td><td>로저 워튼호퍼                     </td><td>2020-09-30</td></tr>\n",
              "\t<tr><td>회사에서 바로 통하는 3ds Max + V-Ray                                                                       </td><td>강석창                            </td><td>2020-09-30</td></tr>\n",
              "\t<tr><td>재미있고 빠른 한글 쓰기 3권 : 교과서 쉬운 낱말                                                             </td><td>한빛에듀 편집부                   </td><td>2020-09-30</td></tr>\n",
              "\t<tr><td>나도 초록 식물 잘 키우면 소원이 없겠네                                                                     </td><td>허성하(폭스더그린)                </td><td>2020-09-28</td></tr>\n",
              "\t<tr><td>IT CookBook, 액세스 2019로 배우는 데이터베이스 기초와 실습                                                 </td><td>김지연                            </td><td>2020-09-28</td></tr>\n",
              "\t<tr><td>GAN 인 액션                                                                                                </td><td>야쿠프 란그르 외 1명              </td><td>2020-09-17</td></tr>\n",
              "\t<tr><td>재미있고 빠른 어휘력 동화 – 아지랑이가 뭐야?                                                               </td><td>송승주 외 1명                     </td><td>2020-09-16</td></tr>\n",
              "\t<tr><td>재미있고 빠른 어휘력 동화 – 많다의 반대가 뭐야?                                                            </td><td>윤선아 외 1명                     </td><td>2020-09-16</td></tr>\n",
              "\t<tr><td>만화로 보는 바빌론 부자들의 돈 버는 지혜                                                                   </td><td>조지 S. 클래이슨 외 3명           </td><td>2020-09-14</td></tr>\n",
              "\t<tr><td>포르잔 C++ 바이블                                                                                          </td><td>Behrouz A. Forouzan 외 1명        </td><td>2020-08-31</td></tr>\n",
              "\t<tr><td>청소년 인문학 수업 - 1권                                                                                   </td><td>백상경제연구원 외 9명             </td><td>2020-08-25</td></tr>\n",
              "\t<tr><td>청소년 인문학 수업 - 2권                                                                                   </td><td>백상경제연구원 외 10명            </td><td>2020-08-25</td></tr>\n",
              "\t<tr><td>처음 시작하는 파이썬(2판)                                                                                  </td><td>빌 루바노빅                       </td><td>2020-08-24</td></tr>\n",
              "\t<tr><td>퀀트 전략을 위한 인공지능 트레이딩                                                                         </td><td>김태헌 외 1명                     </td><td>2020-08-20</td></tr>\n",
              "\t<tr><td>처음 시작하는 딥러닝                                                                                       </td><td>세스 와이드먼                     </td><td>2020-08-20</td></tr>\n",
              "\t<tr><td><span style=white-space:pre-wrap>회사에서 바로 통하는 실무 엑셀 매크로&amp;VBA                                                                  </span></td><td><span style=white-space:pre-wrap>김경자                            </span></td><td>2020-08-20</td></tr>\n",
              "\t<tr><td>게임 오버                                                                                                  </td><td>한스 페터 마르틴                  </td><td>2020-08-20</td></tr>\n",
              "\t<tr><td>초소형 머신러닝 TinyML                                                                                     </td><td>피트 워든 외 1명                  </td><td>2020-08-20</td></tr>\n",
              "\t<tr><td>오늘도 뇌는 거짓말을 한다                                                                                  </td><td>알베르 무케베르                   </td><td>2020-08-10</td></tr>\n",
              "\t<tr><td>허팝만 따라 해봐! 유튜브 정석                                                                              </td><td>허팝 외 1명                       </td><td>2020-08-10</td></tr>\n",
              "\t<tr><td>이것이 취업을 위한 코딩 테스트다 with 파이썬                                                               </td><td>나동빈                            </td><td>2020-08-05</td></tr>\n",
              "\t<tr><td>딥러닝을 위한 선형대수학                                                                                   </td><td>Gilbert Strang                    </td><td>2020-08-05</td></tr>\n",
              "\t<tr><td>유닉스의 탄생                                                                                              </td><td>브라이언 커니핸                   </td><td>2020-08-03</td></tr>\n",
              "\t<tr><td>회사에서 바로 통하는  오토캐드 AutoCAD 2021                                                                </td><td>심미현                            </td><td>2020-08-03</td></tr>\n",
              "\t<tr><td>IT CookBook, 오라클로 배우는 데이터베이스 개론과 실습(2판)                                                 </td><td>박우창 외 2명                     </td><td>2020-07-30</td></tr>\n",
              "\t<tr><td>별, 걔 다 그립네                                                                                           </td><td>밤하늘(김하늘) 외 1명             </td><td>2020-07-30</td></tr>\n",
              "\t<tr><td>대학을 버려야 대학이 산다                                                                                  </td><td>조동성 외 인천대학교 가족 178명   </td><td>2020-07-25</td></tr>\n",
              "\t<tr><td>IT CookBook, 따라 하면서 배우는 사물인터넷                                                                 </td><td>양재삼                            </td><td>2020-07-23</td></tr>\n",
              "\t<tr><td>재미있고 빠른 첫 한글 준비 선 긋기1권 직선∙곡선∙자음∙모음                                                  </td><td>한빛학습연구회                    </td><td>2020-07-20</td></tr>\n",
              "\t<tr><td>재미있고 빠른 첫 한글 4권 쌍자음∙받침                                                                      </td><td>한빛학습연구회                    </td><td>2020-07-20</td></tr>\n",
              "\t<tr><td>핸즈온 비지도 학습                                                                                         </td><td>안쿠르 A. 파텔                    </td><td>2020-07-20</td></tr>\n",
              "\t<tr><td>재미있고 빠른 첫 한글 쓰기1권 모음∙자음∙쉬운 낱말                                                          </td><td>한빛학습연구회                    </td><td>2020-07-20</td></tr>\n",
              "\t<tr><td>우리 아이 처음 놀이                                                                                        </td><td>이현주(느림보juliee) 외 1명       </td><td>2020-07-20</td></tr>\n",
              "\t<tr><td>미라클 모닝 기적의 공식(개정판)                                                                            </td><td>할 엘로드                         </td><td>2020-07-15</td></tr>\n",
              "\t<tr><td>창의적 공학설계(3판)                                                                                       </td><td>김은경                            </td><td>2020-07-10</td></tr>\n",
              "\t<tr><td>R로 하는 다변량 데이터 분석 : 이론부터 실무 활용까지                                                       </td><td>카와하시 잇코 외 2명              </td><td>2020-07-10</td></tr>\n",
              "\t<tr><td>공학 핵심수학(2판)  : 기초부터 심화까지 핵심만 쏙쏙                                                        </td><td>함남우                            </td><td>2020-07-06</td></tr>\n",
              "\t<tr><td>응용이 보이는 선형대수학 : 파이썬과 함께하는 선형대수학 이론과 응용                                        </td><td>이건명                            </td><td>2020-07-06</td></tr>\n",
              "\t<tr><td>파이썬 증권 데이터 분석                                                                                    </td><td>김황후                            </td><td>2020-07-01</td></tr>\n",
              "</tbody>\n",
              "</table>\n"
            ]
          },
          "metadata": {
            "tags": []
          }
        }
      ]
    },
    {
      "cell_type": "code",
      "metadata": {
        "id": "DDTk2koar4El"
      },
      "source": [
        "write.csv(booklist, 'booklist.csv', row.names=F, fileEncoding='UTF-8')"
      ],
      "execution_count": 136,
      "outputs": []
    }
  ]
}