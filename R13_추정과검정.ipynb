{
  "nbformat": 4,
  "nbformat_minor": 0,
  "metadata": {
    "colab": {
      "name": "R13_추정과검정.ipynb",
      "provenance": [],
      "authorship_tag": "ABX9TyM5lIvr0Tt9H3qGfA5OdrhG",
      "include_colab_link": true
    },
    "kernelspec": {
      "name": "ir",
      "display_name": "R"
    }
  },
  "cells": [
    {
      "cell_type": "markdown",
      "metadata": {
        "id": "view-in-github",
        "colab_type": "text"
      },
      "source": [
        "<a href=\"https://colab.research.google.com/github/gyujin0450/Rstudy/blob/master/R13_%EC%B6%94%EC%A0%95%EA%B3%BC%EA%B2%80%EC%A0%95.ipynb\" target=\"_parent\"><img src=\"https://colab.research.google.com/assets/colab-badge.svg\" alt=\"Open In Colab\"/></a>"
      ]
    },
    {
      "cell_type": "markdown",
      "metadata": {
        "id": "zr8qWmuEhp0d"
      },
      "source": [
        "[이론자료](https://github.com/siestageek/python_statistics/blob/master/%ED%8C%8C%EC%9D%B4%EC%8D%AC%ED%86%B5%EA%B3%8414_%EA%B0%80%EC%84%A4%EA%B3%BC%EA%B2%80%EC%A0%95.ipynb)"
      ]
    },
    {
      "cell_type": "markdown",
      "metadata": {
        "id": "S4N3qUZ_iHLn"
      },
      "source": [
        "단일 표본 t-검정\n",
        "- 모집단의 평균값과 검정 값을 비교할 때 사용\n",
        "- 흔하게 사용되는 분석은 아님"
      ]
    },
    {
      "cell_type": "markdown",
      "metadata": {
        "id": "hysZUeHqiSAw"
      },
      "source": [
        "예) 성인의 평균는 67.6(172cm)인지 알아보자!\n",
        "- H0 : 성인의 평균키는 67.6 인지이다.\n",
        "- H1 : 성인의 평균키는 67.6 인지아니다.\n",
        "  *  검정 방법(1) : 방향성이 없으므로 양측검정 실시\n",
        "  *  유의 수준(1) : 0.05 ( 양측 : 0.025 )\n",
        "\n",
        "- H2 : 성인의 평균키는 67.6 인지 이상이다.\n",
        "- H3 : 성인의 평균키는 67.6 인지 미만이다.\n",
        "  * 건정 방법(2,3) : 방향성이 포함되므로 단측 검정 실시\n",
        "  * 유의 수준(2,3) : 0.05 ( 단측 : 0.05 )"
      ]
    },
    {
      "cell_type": "markdown",
      "metadata": {
        "id": "L-BSo3dkjv6_"
      },
      "source": [
        "R에서 단일표본 t-검증을 알아보려면 t.test 함수 사용\n",
        "- t.test(표본, mu = 평균, alterantive = 단측/양측 여부)\n"
      ]
    },
    {
      "cell_type": "code",
      "metadata": {
        "id": "bt6hymHpkL2I"
      },
      "source": [
        "# 데이터 가져오기\n",
        "h <- read.csv(\"https://raw.githubusercontent.com/siestageek/datasets/master/csv/coffee.csv\")"
      ],
      "execution_count": 1,
      "outputs": []
    },
    {
      "cell_type": "code",
      "metadata": {
        "id": "4JiiU0gTkf7B",
        "outputId": "1a2f1f74-578d-4128-a505-e79808bdad7c",
        "colab": {
          "base_uri": "https://localhost:8080/",
          "height": 204
        }
      },
      "source": [
        "head(h)"
      ],
      "execution_count": 2,
      "outputs": [
        {
          "output_type": "display_data",
          "data": {
            "text/plain": [
              "  user_id age  drinks_coffee height  \n",
              "1 4509    <21  False         64.53818\n",
              "2 1864    >=21 True          65.82425\n",
              "3 2060    <21  False         71.31985\n",
              "4 7875    >=21 True          68.56940\n",
              "5 6254    <21  True          64.02023\n",
              "6 3742    <21  False         63.49178"
            ],
            "text/latex": "A data.frame: 6 × 4\n\\begin{tabular}{r|llll}\n  & user\\_id & age & drinks\\_coffee & height\\\\\n  & <int> & <chr> & <chr> & <dbl>\\\\\n\\hline\n\t1 & 4509 & <21  & False & 64.53818\\\\\n\t2 & 1864 & >=21 & True  & 65.82425\\\\\n\t3 & 2060 & <21  & False & 71.31985\\\\\n\t4 & 7875 & >=21 & True  & 68.56940\\\\\n\t5 & 6254 & <21  & True  & 64.02023\\\\\n\t6 & 3742 & <21  & False & 63.49178\\\\\n\\end{tabular}\n",
            "text/markdown": "\nA data.frame: 6 × 4\n\n| <!--/--> | user_id &lt;int&gt; | age &lt;chr&gt; | drinks_coffee &lt;chr&gt; | height &lt;dbl&gt; |\n|---|---|---|---|---|\n| 1 | 4509 | &lt;21  | False | 64.53818 |\n| 2 | 1864 | &gt;=21 | True  | 65.82425 |\n| 3 | 2060 | &lt;21  | False | 71.31985 |\n| 4 | 7875 | &gt;=21 | True  | 68.56940 |\n| 5 | 6254 | &lt;21  | True  | 64.02023 |\n| 6 | 3742 | &lt;21  | False | 63.49178 |\n\n",
            "text/html": [
              "<table>\n",
              "<caption>A data.frame: 6 × 4</caption>\n",
              "<thead>\n",
              "\t<tr><th></th><th scope=col>user_id</th><th scope=col>age</th><th scope=col>drinks_coffee</th><th scope=col>height</th></tr>\n",
              "\t<tr><th></th><th scope=col>&lt;int&gt;</th><th scope=col>&lt;chr&gt;</th><th scope=col>&lt;chr&gt;</th><th scope=col>&lt;dbl&gt;</th></tr>\n",
              "</thead>\n",
              "<tbody>\n",
              "\t<tr><th scope=row>1</th><td>4509</td><td>&lt;21 </td><td>False</td><td>64.53818</td></tr>\n",
              "\t<tr><th scope=row>2</th><td>1864</td><td>&gt;=21</td><td>True </td><td>65.82425</td></tr>\n",
              "\t<tr><th scope=row>3</th><td>2060</td><td>&lt;21 </td><td>False</td><td>71.31985</td></tr>\n",
              "\t<tr><th scope=row>4</th><td>7875</td><td>&gt;=21</td><td>True </td><td>68.56940</td></tr>\n",
              "\t<tr><th scope=row>5</th><td>6254</td><td>&lt;21 </td><td>True </td><td>64.02023</td></tr>\n",
              "\t<tr><th scope=row>6</th><td>3742</td><td>&lt;21 </td><td>False</td><td>63.49178</td></tr>\n",
              "</tbody>\n",
              "</table>\n"
            ]
          },
          "metadata": {
            "tags": []
          }
        }
      ]
    },
    {
      "cell_type": "code",
      "metadata": {
        "id": "abMLXes1kjWw",
        "outputId": "40e88bd6-5c98-4f84-d3b0-e000b7ef4c14",
        "colab": {
          "base_uri": "https://localhost:8080/"
        }
      },
      "source": [
        "str(h)"
      ],
      "execution_count": 3,
      "outputs": [
        {
          "output_type": "stream",
          "text": [
            "'data.frame':\t2974 obs. of  4 variables:\n",
            " $ user_id      : int  4509 1864 2060 7875 6254 3742 4996 5695 2619 2368 ...\n",
            " $ age          : chr  \"<21\" \">=21\" \"<21\" \">=21\" ...\n",
            " $ drinks_coffee: chr  \"False\" \"True\" \"False\" \"True\" ...\n",
            " $ height       : num  64.5 65.8 71.3 68.6 64 ...\n"
          ],
          "name": "stdout"
        }
      ]
    },
    {
      "cell_type": "code",
      "metadata": {
        "id": "7LH936YFkrM6",
        "outputId": "ef25f9b7-a626-482e-e111-6bb2103d5833",
        "colab": {
          "base_uri": "https://localhost:8080/",
          "height": 53
        }
      },
      "source": [
        "summary(h$height)"
      ],
      "execution_count": 4,
      "outputs": [
        {
          "output_type": "display_data",
          "data": {
            "text/plain": [
              "   Min. 1st Qu.  Median    Mean 3rd Qu.    Max. \n",
              "  56.22   65.27   67.95   67.60   69.79   76.19 "
            ]
          },
          "metadata": {
            "tags": []
          }
        }
      ]
    },
    {
      "cell_type": "code",
      "metadata": {
        "id": "COIaJViYk2Li",
        "outputId": "461bf48c-63e7-4672-eb32-efc77cd58ba8",
        "colab": {
          "base_uri": "https://localhost:8080/",
          "height": 215
        }
      },
      "source": [
        "# t 검점1 : 양측 검정\n",
        "t.test(h$height, mu = 67.6, alternative = c('two.sided'))"
      ],
      "execution_count": 6,
      "outputs": [
        {
          "output_type": "display_data",
          "data": {
            "text/plain": [
              "\n",
              "\tOne Sample t-test\n",
              "\n",
              "data:  h$height\n",
              "t = -0.043933, df = 2973, p-value = 0.965\n",
              "alternative hypothesis: true mean is not equal to 67.6\n",
              "95 percent confidence interval:\n",
              " 67.48533 67.70964\n",
              "sample estimates:\n",
              "mean of x \n",
              " 67.59749 \n"
            ]
          },
          "metadata": {
            "tags": []
          }
        }
      ]
    },
    {
      "cell_type": "markdown",
      "metadata": {
        "id": "IqcoVsAKlWqK"
      },
      "source": [
        "(양측검증) p-value > 0.025 이므로 h0 채택, 즉 평균키 67.6 이다!!"
      ]
    },
    {
      "cell_type": "code",
      "metadata": {
        "id": "NipnQOuvlBnR",
        "outputId": "5aa9521b-e4c9-4fc5-da1b-5e4eae626331",
        "colab": {
          "base_uri": "https://localhost:8080/",
          "height": 215
        }
      },
      "source": [
        "# t 검점2 : 단측 검정, 오른쪽 꼬리(이상)\n",
        "t.test(h$height, mu = 67.6, alternative = c('greater'))"
      ],
      "execution_count": 7,
      "outputs": [
        {
          "output_type": "display_data",
          "data": {
            "text/plain": [
              "\n",
              "\tOne Sample t-test\n",
              "\n",
              "data:  h$height\n",
              "t = -0.043933, df = 2973, p-value = 0.5175\n",
              "alternative hypothesis: true mean is greater than 67.6\n",
              "95 percent confidence interval:\n",
              " 67.50337      Inf\n",
              "sample estimates:\n",
              "mean of x \n",
              " 67.59749 \n"
            ]
          },
          "metadata": {
            "tags": []
          }
        }
      ]
    },
    {
      "cell_type": "markdown",
      "metadata": {
        "id": "stNKdyEjm2VA"
      },
      "source": [
        "(단측검정) p-value > 0.05 이므로 h0 채택,즉 평균키는 67.6이다!!"
      ]
    },
    {
      "cell_type": "code",
      "metadata": {
        "id": "dLRpxgk-nHxM",
        "outputId": "35506925-526f-47c5-e1bf-a8a8fe2cecd4",
        "colab": {
          "base_uri": "https://localhost:8080/",
          "height": 215
        }
      },
      "source": [
        "# t 검점3 : 단측 검정, 왼쪽 꼬리(미만)\n",
        "t.test(h$height, mu = 67.6, alternative = c('less'))"
      ],
      "execution_count": 8,
      "outputs": [
        {
          "output_type": "display_data",
          "data": {
            "text/plain": [
              "\n",
              "\tOne Sample t-test\n",
              "\n",
              "data:  h$height\n",
              "t = -0.043933, df = 2973, p-value = 0.4825\n",
              "alternative hypothesis: true mean is less than 67.6\n",
              "95 percent confidence interval:\n",
              "    -Inf 67.6916\n",
              "sample estimates:\n",
              "mean of x \n",
              " 67.59749 \n"
            ]
          },
          "metadata": {
            "tags": []
          }
        }
      ]
    },
    {
      "cell_type": "markdown",
      "metadata": {
        "id": "Y0OPac-gnUBT"
      },
      "source": [
        "(단측검정) p-value > 0.05 이므로 h0 채택,즉 평균키는 67.6이다!!"
      ]
    },
    {
      "cell_type": "code",
      "metadata": {
        "id": "OVEOn2SNnYdZ"
      },
      "source": [
        ""
      ],
      "execution_count": null,
      "outputs": []
    }
  ]
}