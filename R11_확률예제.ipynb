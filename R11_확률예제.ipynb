{
  "nbformat": 4,
  "nbformat_minor": 0,
  "metadata": {
    "colab": {
      "name": "R11_확률예제.ipynb",
      "provenance": [],
      "toc_visible": true,
      "authorship_tag": "ABX9TyPjn5IYmvr4qYeDKI8pqA3q",
      "include_colab_link": true
    },
    "kernelspec": {
      "name": "ir",
      "display_name": "R"
    }
  },
  "cells": [
    {
      "cell_type": "markdown",
      "metadata": {
        "id": "view-in-github",
        "colab_type": "text"
      },
      "source": [
        "<a href=\"https://colab.research.google.com/github/gyujin0450/Rstudy/blob/master/R11_%ED%99%95%EB%A5%A0%EC%98%88%EC%A0%9C.ipynb\" target=\"_parent\"><img src=\"https://colab.research.google.com/assets/colab-badge.svg\" alt=\"Open In Colab\"/></a>"
      ]
    },
    {
      "cell_type": "markdown",
      "metadata": {
        "id": "eZW_P30YOTk2"
      },
      "source": [
        "# 추론 통계 개요\n",
        "기술통계는 수집한 자료가 어떤 분포와 특성을 가겼는지 분석\n",
        "추론통계는 통계자/분석자가 세운 통계적 가설을\n",
        "확률기반으로 채택여부를 판단하는 통계 기법\n",
        "\n",
        "# 추론통계에서 중요한 개념\n",
        "모집단, 표본, 표본공간, 사건, 확률\n"
      ]
    },
    {
      "cell_type": "markdown",
      "metadata": {
        "id": "nx88TP4kFKMQ"
      },
      "source": [
        "## 확률\n",
        "1) 동전 1개를 10회 던져보고, 뒤면의 수와 앞면의 수룰 출력"
      ]
    },
    {
      "cell_type": "code",
      "metadata": {
        "id": "P7Ny8G3EKKh8",
        "outputId": "74fca143-d818-4ac4-9d02-d309b797e2ab",
        "colab": {
          "base_uri": "https://localhost:8080/",
          "height": 71
        }
      },
      "source": [
        "# sample(표본공간, 횟수, 추출방법)\n",
        "# 복원추출 : replace = T \n",
        "# 비복원추출 : replace = F \n",
        "r <- sample(c(\"앞\",\"뒤\"), 10, replace = T)\n",
        "table(r)"
      ],
      "execution_count": null,
      "outputs": [
        {
          "output_type": "display_data",
          "data": {
            "text/plain": [
              "r\n",
              "뒤 앞 \n",
              " 2  8 "
            ]
          },
          "metadata": {
            "tags": []
          }
        }
      ]
    },
    {
      "cell_type": "markdown",
      "metadata": {
        "id": "FFB9uZBHK-uB"
      },
      "source": [
        "2) 로또 번호 10개 생성"
      ]
    },
    {
      "cell_type": "code",
      "metadata": {
        "id": "_NmK39xxLVsf",
        "outputId": "d10570db-c846-420a-ddfa-29c286ae8fdc",
        "colab": {
          "base_uri": "https://localhost:8080/"
        }
      },
      "source": [
        "sink(\"result.txt\") # RStudo에서 실행해야 함\n",
        "n <- c(1:10)\n",
        "for(i in n) {\n",
        "  r <- sample(c(1:45), 6, replace = F)\n",
        "  cat(i, \":\", r, \"\\n\")  \n",
        "}"
      ],
      "execution_count": 6,
      "outputs": [
        {
          "output_type": "stream",
          "text": [
            "1 : 9 25 13 35 1 33 \n",
            "2 : 11 8 6 16 24 20 \n",
            "3 : 19 41 45 21 6 15 \n",
            "4 : 25 18 45 40 15 10 \n",
            "5 : 22 34 17 9 43 10 \n",
            "6 : 16 31 32 14 17 33 \n",
            "7 : 25 9 28 44 43 3 \n",
            "8 : 34 14 20 40 5 22 \n",
            "9 : 38 11 28 37 30 36 \n",
            "10 : 16 37 35 27 3 10 \n"
          ],
          "name": "stdout"
        }
      ]
    },
    {
      "cell_type": "markdown",
      "metadata": {
        "id": "FWWWYREuLvKr"
      },
      "source": [
        "3) 주사위 1개를 60,000회 던져보고, 각 눈의 나온 수룰 출력"
      ]
    },
    {
      "cell_type": "code",
      "metadata": {
        "id": "wh2gvRUKL53W",
        "outputId": "3d4d7e4b-9861-434d-f45b-7b709b32738b",
        "colab": {
          "base_uri": "https://localhost:8080/",
          "height": 71
        }
      },
      "source": [
        "r <- sample(c(1:6), 60000, replace = T)\n",
        "table(r)"
      ],
      "execution_count": null,
      "outputs": [
        {
          "output_type": "display_data",
          "data": {
            "text/plain": [
              "r\n",
              "    1     2     3     4     5     6 \n",
              "10110  9850  9948 10056  9882 10154 "
            ]
          },
          "metadata": {
            "tags": []
          }
        }
      ]
    },
    {
      "cell_type": "markdown",
      "metadata": {
        "id": "bEYEeo17M3Ti"
      },
      "source": [
        "4) 1 ~ 45 사이 임의의수 6개를 비복원출방식으로 뽑아보세요"
      ]
    },
    {
      "cell_type": "code",
      "metadata": {
        "id": "DJPSRJpUNGX-",
        "outputId": "afc6e8b9-31bc-410a-b714-d543cd80a948",
        "colab": {
          "base_uri": "https://localhost:8080/",
          "height": 34
        }
      },
      "source": [
        "sample(c(1:45), 6, replace = F)"
      ],
      "execution_count": null,
      "outputs": [
        {
          "output_type": "display_data",
          "data": {
            "text/plain": [
              "[1] 29  5 32 39  6 12"
            ],
            "text/latex": "\\begin{enumerate*}\n\\item 29\n\\item 5\n\\item 32\n\\item 39\n\\item 6\n\\item 12\n\\end{enumerate*}\n",
            "text/markdown": "1. 29\n2. 5\n3. 32\n4. 39\n5. 6\n6. 12\n\n\n",
            "text/html": [
              "<style>\n",
              ".list-inline {list-style: none; margin:0; padding: 0}\n",
              ".list-inline>li {display: inline-block}\n",
              ".list-inline>li:not(:last-child)::after {content: \"\\00b7\"; padding: 0 .5ex}\n",
              "</style>\n",
              "<ol class=list-inline><li>29</li><li>5</li><li>32</li><li>39</li><li>6</li><li>12</li></ol>\n"
            ]
          },
          "metadata": {
            "tags": []
          }
        }
      ]
    },
    {
      "cell_type": "markdown",
      "metadata": {
        "id": "7axKKLKbNK8Z"
      },
      "source": [
        "5) 1 ~ 45 사이 임의의수 6개를 복원출방식으로 뽑아보세요"
      ]
    },
    {
      "cell_type": "code",
      "metadata": {
        "id": "NG_w0OIpNPk-",
        "outputId": "d8697c71-3eb4-4360-c1df-1047f3ba17d2",
        "colab": {
          "base_uri": "https://localhost:8080/",
          "height": 34
        }
      },
      "source": [
        "sample(c(1:45), 6, replace = T)"
      ],
      "execution_count": null,
      "outputs": [
        {
          "output_type": "display_data",
          "data": {
            "text/plain": [
              "[1] 24 13 37 38 18  8"
            ],
            "text/latex": "\\begin{enumerate*}\n\\item 24\n\\item 13\n\\item 37\n\\item 38\n\\item 18\n\\item 8\n\\end{enumerate*}\n",
            "text/markdown": "1. 24\n2. 13\n3. 37\n4. 38\n5. 18\n6. 8\n\n\n",
            "text/html": [
              "<style>\n",
              ".list-inline {list-style: none; margin:0; padding: 0}\n",
              ".list-inline>li {display: inline-block}\n",
              ".list-inline>li:not(:last-child)::after {content: \"\\00b7\"; padding: 0 .5ex}\n",
              "</style>\n",
              "<ol class=list-inline><li>24</li><li>13</li><li>37</li><li>38</li><li>18</li><li>8</li></ol>\n"
            ]
          },
          "metadata": {
            "tags": []
          }
        }
      ]
    },
    {
      "cell_type": "markdown",
      "metadata": {
        "id": "ynmif7dmO7Ie"
      },
      "source": [
        "# 주관적 확률 - 나이브베이즈\n",
        "https://nittaku.tistory.com/283\n",
        "\n",
        "사전확률 : 관측자가 관측하기 전에 알고 있는 확률\n",
        "- 확률 시행 전에 이미 가지고 있는 지식을 통해 부여한 확률 \n",
        "\n",
        "사후확률 : 사건 발생후에 어떤 원인으로 부터 일어난 것이라고 생각되어지는 확률\n",
        "- 추가된 정보로 부터 사전정보를 새롭게 수정한 확률 (수정 확률) \n",
        "- 베이즈 정리로 부터 구할 수 있음\n"
      ]
    },
    {
      "cell_type": "markdown",
      "metadata": {
        "id": "cGVe15ujPO-g"
      },
      "source": [
        "# 베이즈 이론 활용\n",
        "- 메일제목으로 메일종류 분석 - 스팸 분류\n",
        "- 개인나이,성별,직업등의 데이터를 토대로 영화장르 추천\n",
        "- 나이,성별,검진정보를 토대로 심장병 여부 판별"
      ]
    },
    {
      "cell_type": "markdown",
      "metadata": {
        "id": "BqHkW4SuTRXI"
      },
      "source": [
        "# 곱셈법칙\n",
        "\n",
        "상호종속적 두사건에 대한 곱셈법칙은\n",
        "다른 사건에 대한 조건부 확률과 주어진 사건의 확률의 곱을 의미\n",
        "- P(A n B ) = P(A)P(B|A)\n",
        "\n",
        "이때 곱셈법칙의 동등석을 이용해서 우변을 다음과 같이 변경\n",
        "- P(A n B ) = P(A)P(B|A) = P(A|B)P(B)\n",
        "\n",
        "이것을 이용해서 베이즈 정리를 유도할 수 있음\n",
        "- P(A)P(B|A) = P(A|B)P(B)\n",
        "- P(A|B) = P(A)P(B|A) / P(B)\n"
      ]
    },
    {
      "cell_type": "markdown",
      "metadata": {
        "id": "5l_mhqvXVMrI"
      },
      "source": [
        "베이즈 확률 vs 경험적 확률\n",
        "- 동전 100회 던졌을 때 앞면이 나올 확율은?\n",
        "- 경험적 확률에서는 '일어난 횟수/전체시도횟수'로 계산\n",
        "\n",
        "만일, A라는 도시에 수지가 태어난 경우\n",
        "이 아이가 노벨상을 받을 확률은?\n",
        "- 이것을 경험적 확률로 계산하려면? 거의 불가능\n",
        "- 이러한 상황에서는 나이브베이즈 확률을 이용함\n",
        "- 일어나지 않은 일에 대한 확률을 불확실성이라는 개념으로 말함\n"
      ]
    },
    {
      "cell_type": "code",
      "metadata": {
        "id": "r96CHsrAVT_w"
      },
      "source": [
        ""
      ],
      "execution_count": null,
      "outputs": []
    }
  ]
}