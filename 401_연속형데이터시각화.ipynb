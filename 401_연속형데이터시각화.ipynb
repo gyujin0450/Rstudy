{
  "nbformat": 4,
  "nbformat_minor": 0,
  "metadata": {
    "colab": {
      "name": "401_연속형데이터시각화.ipynb",
      "provenance": [],
      "authorship_tag": "ABX9TyNPZfaxkc0eS/BMqIy4R7j3",
      "include_colab_link": true
    },
    "kernelspec": {
      "name": "ir",
      "display_name": "R"
    }
  },
  "cells": [
    {
      "cell_type": "markdown",
      "metadata": {
        "id": "view-in-github",
        "colab_type": "text"
      },
      "source": [
        "<a href=\"https://colab.research.google.com/github/gyujin0450/Rstudy/blob/master/401_%EC%97%B0%EC%86%8D%ED%98%95%EB%8D%B0%EC%9D%B4%ED%84%B0%EC%8B%9C%EA%B0%81%ED%99%94.ipynb\" target=\"_parent\"><img src=\"https://colab.research.google.com/assets/colab-badge.svg\" alt=\"Open In Colab\"/></a>"
      ]
    },
    {
      "cell_type": "markdown",
      "metadata": {
        "id": "zoNmqrRp-f1h"
      },
      "source": [
        "연속형 데이터 시각화\n",
        "- 각 데이터의 크기순으로 전체적인 모양이나 분포,관계를 산점도나 히스토그램으로 시각화\n"
      ]
    },
    {
      "cell_type": "markdown",
      "metadata": {
        "id": "z_Ci_1VF_xa0"
      },
      "source": [
        "1) 산점도\n",
        "- n개의 짝으로 이루어진 자료(컬럼이 2개 이상)를 x,y축 평면에 점으로 나타내는 그래프\n",
        "- 자료의 분포를 파악하는데 사용\n",
        "- 주로 상관/회귀분석에 사용\n",
        "plot(x축값, y축값, 옵션)\n",
        "plot(y축값, 옵션) ==> x축값은 1~n으로 자동 지정"
      ]
    },
    {
      "cell_type": "code",
      "metadata": {
        "id": "bf4UdLDmB0z9"
      },
      "source": [
        ""
      ],
      "execution_count": null,
      "outputs": []
    }
  ]
}