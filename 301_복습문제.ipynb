{
  "nbformat": 4,
  "nbformat_minor": 0,
  "metadata": {
    "colab": {
      "name": "301_복습문제.ipynb",
      "provenance": [],
      "authorship_tag": "ABX9TyOGtX981w+pZ0B+tgePMYyH",
      "include_colab_link": true
    },
    "kernelspec": {
      "name": "ir",
      "display_name": "R"
    }
  },
  "cells": [
    {
      "cell_type": "markdown",
      "metadata": {
        "id": "view-in-github",
        "colab_type": "text"
      },
      "source": [
        "<a href=\"https://colab.research.google.com/github/gyujin0450/Rstudy/blob/master/301_%EB%B3%B5%EC%8A%B5%EB%AC%B8%EC%A0%9C.ipynb\" target=\"_parent\"><img src=\"https://colab.research.google.com/assets/colab-badge.svg\" alt=\"Open In Colab\"/></a>"
      ]
    },
    {
      "cell_type": "code",
      "metadata": {
        "id": "JXLH2py87khc"
      },
      "source": [
        "햄버거 종류와 가격을 출력하세요\n",
        "프렌차이즈만 출력하세요\n",
        "\n",
        "가격이 4000원 이상인 버거의 종류와 프랜차이즈명을 출력하세요\n",
        "가격이 3000원 이하인 버거의 종류와 프랜차이즈명을 출력하세요\n",
        "가격이 3000원인 버거의 종류와 프랜차이즈명을 출력하세요\n",
        "가격이 4000원 이상 또는 2000원 이하인 버거의 종류와 프랜차이즈명을 출력하세요\n",
        "가격이 4000원 이상이고 종류가 치즈버거인 프랜차이즈명을 출력하세요\n",
        "가격이 4000원 이상이고 프랜차이즈명이 A 또는 B인 버거의 종류를 출력하세요"
      ],
      "execution_count": null,
      "outputs": []
    },
    {
      "cell_type": "code",
      "metadata": {
        "id": "iqaLVVrI8bPu"
      },
      "source": [
        "load('burgers.rdata')"
      ],
      "execution_count": 12,
      "outputs": []
    },
    {
      "cell_type": "code",
      "metadata": {
        "id": "pIdlDvNo9VT8",
        "outputId": "875c11e9-7d86-4db7-8f07-ef2516663b28",
        "colab": {
          "base_uri": "https://localhost:8080/",
          "height": 204
        }
      },
      "source": [
        "head(burgers)"
      ],
      "execution_count": 13,
      "outputs": [
        {
          "output_type": "display_data",
          "data": {
            "text/plain": [
              "  프랜차이즈명 종류       가격\n",
              "1 A            불고기버거 3000\n",
              "2 A            치즈버거   4000\n",
              "3 A            치킨버거   4500\n",
              "4 B            불고기버거 3500\n",
              "5 B            치즈버거   2500\n",
              "6 B            치킨버거   4000"
            ],
            "text/latex": "A data.frame: 6 × 3\n\\begin{tabular}{r|lll}\n  & 프랜차이즈명 & 종류 & 가격\\\\\n  & <fct> & <fct> & <dbl>\\\\\n\\hline\n\t1 & A & 불고기버거 & 3000\\\\\n\t2 & A & 치즈버거   & 4000\\\\\n\t3 & A & 치킨버거   & 4500\\\\\n\t4 & B & 불고기버거 & 3500\\\\\n\t5 & B & 치즈버거   & 2500\\\\\n\t6 & B & 치킨버거   & 4000\\\\\n\\end{tabular}\n",
            "text/markdown": "\nA data.frame: 6 × 3\n\n| <!--/--> | 프랜차이즈명 &lt;fct&gt; | 종류 &lt;fct&gt; | 가격 &lt;dbl&gt; |\n|---|---|---|---|\n| 1 | A | 불고기버거 | 3000 |\n| 2 | A | 치즈버거   | 4000 |\n| 3 | A | 치킨버거   | 4500 |\n| 4 | B | 불고기버거 | 3500 |\n| 5 | B | 치즈버거   | 2500 |\n| 6 | B | 치킨버거   | 4000 |\n\n",
            "text/html": [
              "<table>\n",
              "<caption>A data.frame: 6 × 3</caption>\n",
              "<thead>\n",
              "\t<tr><th></th><th scope=col>프랜차이즈명</th><th scope=col>종류</th><th scope=col>가격</th></tr>\n",
              "\t<tr><th></th><th scope=col>&lt;fct&gt;</th><th scope=col>&lt;fct&gt;</th><th scope=col>&lt;dbl&gt;</th></tr>\n",
              "</thead>\n",
              "<tbody>\n",
              "\t<tr><th scope=row>1</th><td>A</td><td>불고기버거</td><td>3000</td></tr>\n",
              "\t<tr><th scope=row>2</th><td>A</td><td>치즈버거  </td><td>4000</td></tr>\n",
              "\t<tr><th scope=row>3</th><td>A</td><td>치킨버거  </td><td>4500</td></tr>\n",
              "\t<tr><th scope=row>4</th><td>B</td><td>불고기버거</td><td>3500</td></tr>\n",
              "\t<tr><th scope=row>5</th><td>B</td><td>치즈버거  </td><td>2500</td></tr>\n",
              "\t<tr><th scope=row>6</th><td>B</td><td>치킨버거  </td><td>4000</td></tr>\n",
              "</tbody>\n",
              "</table>\n"
            ]
          },
          "metadata": {
            "tags": []
          }
        }
      ]
    },
    {
      "cell_type": "code",
      "metadata": {
        "id": "q6rM6oBk-yUP",
        "outputId": "20cd922c-3779-4b19-8a60-aee0b91edeb3",
        "colab": {
          "base_uri": "https://localhost:8080/",
          "height": 71
        }
      },
      "source": [
        "install.packages(\"dplyr\")"
      ],
      "execution_count": 15,
      "outputs": [
        {
          "output_type": "stream",
          "text": [
            "Installing package into ‘/usr/local/lib/R/site-library’\n",
            "(as ‘lib’ is unspecified)\n",
            "\n"
          ],
          "name": "stderr"
        }
      ]
    },
    {
      "cell_type": "code",
      "metadata": {
        "id": "j9RNbaNC-6Ln",
        "outputId": "d0e0d91c-458b-41cb-bea4-c067ae26608f",
        "colab": {
          "base_uri": "https://localhost:8080/",
          "height": 269
        }
      },
      "source": [
        "library(dplyr)"
      ],
      "execution_count": 16,
      "outputs": [
        {
          "output_type": "stream",
          "text": [
            "\n",
            "Attaching package: ‘dplyr’\n",
            "\n",
            "\n",
            "The following objects are masked from ‘package:stats’:\n",
            "\n",
            "    filter, lag\n",
            "\n",
            "\n",
            "The following objects are masked from ‘package:base’:\n",
            "\n",
            "    intersect, setdiff, setequal, union\n",
            "\n",
            "\n"
          ],
          "name": "stderr"
        }
      ]
    },
    {
      "cell_type": "code",
      "metadata": {
        "id": "v-G3HYB1DWH4",
        "outputId": "3d56c239-d4d7-46d0-b3fc-e26de8fc39c8",
        "colab": {
          "base_uri": "https://localhost:8080/",
          "height": 284
        }
      },
      "source": [
        "burgers %>% select(프랜차이즈명)"
      ],
      "execution_count": 30,
      "outputs": [
        {
          "output_type": "display_data",
          "data": {
            "text/plain": [
              "  프랜차이즈명\n",
              "1 A           \n",
              "2 A           \n",
              "3 A           \n",
              "4 B           \n",
              "5 B           \n",
              "6 B           \n",
              "7 C           \n",
              "8 C           \n",
              "9 C           "
            ],
            "text/latex": "A data.frame: 9 × 1\n\\begin{tabular}{l}\n 프랜차이즈명\\\\\n <fct>\\\\\n\\hline\n\t A\\\\\n\t A\\\\\n\t A\\\\\n\t B\\\\\n\t B\\\\\n\t B\\\\\n\t C\\\\\n\t C\\\\\n\t C\\\\\n\\end{tabular}\n",
            "text/markdown": "\nA data.frame: 9 × 1\n\n| 프랜차이즈명 &lt;fct&gt; |\n|---|\n| A |\n| A |\n| A |\n| B |\n| B |\n| B |\n| C |\n| C |\n| C |\n\n",
            "text/html": [
              "<table>\n",
              "<caption>A data.frame: 9 × 1</caption>\n",
              "<thead>\n",
              "\t<tr><th scope=col>프랜차이즈명</th></tr>\n",
              "\t<tr><th scope=col>&lt;fct&gt;</th></tr>\n",
              "</thead>\n",
              "<tbody>\n",
              "\t<tr><td>A</td></tr>\n",
              "\t<tr><td>A</td></tr>\n",
              "\t<tr><td>A</td></tr>\n",
              "\t<tr><td>B</td></tr>\n",
              "\t<tr><td>B</td></tr>\n",
              "\t<tr><td>B</td></tr>\n",
              "\t<tr><td>C</td></tr>\n",
              "\t<tr><td>C</td></tr>\n",
              "\t<tr><td>C</td></tr>\n",
              "</tbody>\n",
              "</table>\n"
            ]
          },
          "metadata": {
            "tags": []
          }
        }
      ]
    },
    {
      "cell_type": "code",
      "metadata": {
        "id": "06xAkPpHDShn",
        "outputId": "d9b7b264-798b-4feb-f655-17941a71a238",
        "colab": {
          "base_uri": "https://localhost:8080/",
          "height": 158
        }
      },
      "source": [
        "# 중복제거\n",
        "burgers %>% distinct(프랜차이즈명)"
      ],
      "execution_count": 28,
      "outputs": [
        {
          "output_type": "display_data",
          "data": {
            "text/plain": [
              "  프랜차이즈명\n",
              "1 A           \n",
              "2 B           \n",
              "3 C           "
            ],
            "text/latex": "A data.frame: 3 × 1\n\\begin{tabular}{l}\n 프랜차이즈명\\\\\n <fct>\\\\\n\\hline\n\t A\\\\\n\t B\\\\\n\t C\\\\\n\\end{tabular}\n",
            "text/markdown": "\nA data.frame: 3 × 1\n\n| 프랜차이즈명 &lt;fct&gt; |\n|---|\n| A |\n| B |\n| C |\n\n",
            "text/html": [
              "<table>\n",
              "<caption>A data.frame: 3 × 1</caption>\n",
              "<thead>\n",
              "\t<tr><th scope=col>프랜차이즈명</th></tr>\n",
              "\t<tr><th scope=col>&lt;fct&gt;</th></tr>\n",
              "</thead>\n",
              "<tbody>\n",
              "\t<tr><td>A</td></tr>\n",
              "\t<tr><td>B</td></tr>\n",
              "\t<tr><td>C</td></tr>\n",
              "</tbody>\n",
              "</table>\n"
            ]
          },
          "metadata": {
            "tags": []
          }
        }
      ]
    },
    {
      "cell_type": "code",
      "metadata": {
        "id": "AuhYJGbS-jxM",
        "outputId": "6dbfb0fe-2a93-4a26-f0c4-041f5e30bf7f",
        "colab": {
          "base_uri": "https://localhost:8080/",
          "height": 162
        }
      },
      "source": [
        "# 가격이 4000원 이상인 버거의 종류와 프랜차이즈명을 출력하세요\n",
        "# burgers %>% filter(가격 >= 4000) %>% select(종류,프랜차이즈명)\n",
        "burgers %>% select(종류,프랜차이즈명,가격) %>% filter(가격 >= 4000) # 변수가 많을 경우, 분석하고자 하는 변수를 먼저 선택함"
      ],
      "execution_count": 33,
      "outputs": [
        {
          "output_type": "display_data",
          "data": {
            "text/plain": [
              "  종류       프랜차이즈명\n",
              "1 치즈버거   A           \n",
              "2 치킨버거   A           \n",
              "3 치킨버거   B           \n",
              "4 불고기버거 C           "
            ],
            "text/latex": "A data.frame: 4 × 2\n\\begin{tabular}{ll}\n 종류 & 프랜차이즈명\\\\\n <fct> & <fct>\\\\\n\\hline\n\t 치즈버거   & A\\\\\n\t 치킨버거   & A\\\\\n\t 치킨버거   & B\\\\\n\t 불고기버거 & C\\\\\n\\end{tabular}\n",
            "text/markdown": "\nA data.frame: 4 × 2\n\n| 종류 &lt;fct&gt; | 프랜차이즈명 &lt;fct&gt; |\n|---|---|\n| 치즈버거   | A |\n| 치킨버거   | A |\n| 치킨버거   | B |\n| 불고기버거 | C |\n\n",
            "text/html": [
              "<table>\n",
              "<caption>A data.frame: 4 × 2</caption>\n",
              "<thead>\n",
              "\t<tr><th scope=col>종류</th><th scope=col>프랜차이즈명</th></tr>\n",
              "\t<tr><th scope=col>&lt;fct&gt;</th><th scope=col>&lt;fct&gt;</th></tr>\n",
              "</thead>\n",
              "<tbody>\n",
              "\t<tr><td>치즈버거  </td><td>A</td></tr>\n",
              "\t<tr><td>치킨버거  </td><td>A</td></tr>\n",
              "\t<tr><td>치킨버거  </td><td>B</td></tr>\n",
              "\t<tr><td>불고기버거</td><td>C</td></tr>\n",
              "</tbody>\n",
              "</table>\n"
            ]
          },
          "metadata": {
            "tags": []
          }
        }
      ]
    },
    {
      "cell_type": "code",
      "metadata": {
        "id": "C1lP4q0f_KUW",
        "outputId": "c9340c3d-d250-49fd-ebf1-b2f09ab7cecb",
        "colab": {
          "base_uri": "https://localhost:8080/",
          "height": 162
        }
      },
      "source": [
        "# 가격이 3000원 이하인 버거의 종류와 프랜차이즈명을 출력하세요\n",
        "burgers %>% filter(가격 <= 3000) %>% select(종류,프랜차이즈명)"
      ],
      "execution_count": 20,
      "outputs": [
        {
          "output_type": "display_data",
          "data": {
            "text/plain": [
              "  종류       프랜차이즈명\n",
              "1 불고기버거 A           \n",
              "2 치즈버거   B           \n",
              "3 치즈버거   C           \n",
              "4 치킨버거   C           "
            ],
            "text/latex": "A data.frame: 4 × 2\n\\begin{tabular}{ll}\n 종류 & 프랜차이즈명\\\\\n <fct> & <fct>\\\\\n\\hline\n\t 불고기버거 & A\\\\\n\t 치즈버거   & B\\\\\n\t 치즈버거   & C\\\\\n\t 치킨버거   & C\\\\\n\\end{tabular}\n",
            "text/markdown": "\nA data.frame: 4 × 2\n\n| 종류 &lt;fct&gt; | 프랜차이즈명 &lt;fct&gt; |\n|---|---|\n| 불고기버거 | A |\n| 치즈버거   | B |\n| 치즈버거   | C |\n| 치킨버거   | C |\n\n",
            "text/html": [
              "<table>\n",
              "<caption>A data.frame: 4 × 2</caption>\n",
              "<thead>\n",
              "\t<tr><th scope=col>종류</th><th scope=col>프랜차이즈명</th></tr>\n",
              "\t<tr><th scope=col>&lt;fct&gt;</th><th scope=col>&lt;fct&gt;</th></tr>\n",
              "</thead>\n",
              "<tbody>\n",
              "\t<tr><td>불고기버거</td><td>A</td></tr>\n",
              "\t<tr><td>치즈버거  </td><td>B</td></tr>\n",
              "\t<tr><td>치즈버거  </td><td>C</td></tr>\n",
              "\t<tr><td>치킨버거  </td><td>C</td></tr>\n",
              "</tbody>\n",
              "</table>\n"
            ]
          },
          "metadata": {
            "tags": []
          }
        }
      ]
    },
    {
      "cell_type": "code",
      "metadata": {
        "id": "JWLWlYcG_T7N",
        "outputId": "7dff8a26-f7b2-4910-b37f-b3a2dfe82afa",
        "colab": {
          "base_uri": "https://localhost:8080/",
          "height": 120
        }
      },
      "source": [
        "# 가격이 3000원인 버거의 종류와 프랜차이즈명을 출력하세요\n",
        "burgers %>% filter(가격 == 3000) %>% select(종류,프랜차이즈명)"
      ],
      "execution_count": 21,
      "outputs": [
        {
          "output_type": "display_data",
          "data": {
            "text/plain": [
              "  종류       프랜차이즈명\n",
              "1 불고기버거 A           \n",
              "2 치킨버거   C           "
            ],
            "text/latex": "A data.frame: 2 × 2\n\\begin{tabular}{ll}\n 종류 & 프랜차이즈명\\\\\n <fct> & <fct>\\\\\n\\hline\n\t 불고기버거 & A\\\\\n\t 치킨버거   & C\\\\\n\\end{tabular}\n",
            "text/markdown": "\nA data.frame: 2 × 2\n\n| 종류 &lt;fct&gt; | 프랜차이즈명 &lt;fct&gt; |\n|---|---|\n| 불고기버거 | A |\n| 치킨버거   | C |\n\n",
            "text/html": [
              "<table>\n",
              "<caption>A data.frame: 2 × 2</caption>\n",
              "<thead>\n",
              "\t<tr><th scope=col>종류</th><th scope=col>프랜차이즈명</th></tr>\n",
              "\t<tr><th scope=col>&lt;fct&gt;</th><th scope=col>&lt;fct&gt;</th></tr>\n",
              "</thead>\n",
              "<tbody>\n",
              "\t<tr><td>불고기버거</td><td>A</td></tr>\n",
              "\t<tr><td>치킨버거  </td><td>C</td></tr>\n",
              "</tbody>\n",
              "</table>\n"
            ]
          },
          "metadata": {
            "tags": []
          }
        }
      ]
    },
    {
      "cell_type": "code",
      "metadata": {
        "id": "g0Guy_5g_eA6",
        "outputId": "dd2dd730-6f31-470e-ea2e-a1bcf582a6a0",
        "colab": {
          "base_uri": "https://localhost:8080/",
          "height": 183
        }
      },
      "source": [
        "# 가격이 4000원 이상 또는 2000원 이하인 버거의 종류와 프랜차이즈명을 출력하세요\n",
        "burgers %>% filter(가격 >= 4000 | 가격 <= 2000) %>% select(종류,프랜차이즈명)"
      ],
      "execution_count": 22,
      "outputs": [
        {
          "output_type": "display_data",
          "data": {
            "text/plain": [
              "  종류       프랜차이즈명\n",
              "1 치즈버거   A           \n",
              "2 치킨버거   A           \n",
              "3 치킨버거   B           \n",
              "4 불고기버거 C           \n",
              "5 치즈버거   C           "
            ],
            "text/latex": "A data.frame: 5 × 2\n\\begin{tabular}{ll}\n 종류 & 프랜차이즈명\\\\\n <fct> & <fct>\\\\\n\\hline\n\t 치즈버거   & A\\\\\n\t 치킨버거   & A\\\\\n\t 치킨버거   & B\\\\\n\t 불고기버거 & C\\\\\n\t 치즈버거   & C\\\\\n\\end{tabular}\n",
            "text/markdown": "\nA data.frame: 5 × 2\n\n| 종류 &lt;fct&gt; | 프랜차이즈명 &lt;fct&gt; |\n|---|---|\n| 치즈버거   | A |\n| 치킨버거   | A |\n| 치킨버거   | B |\n| 불고기버거 | C |\n| 치즈버거   | C |\n\n",
            "text/html": [
              "<table>\n",
              "<caption>A data.frame: 5 × 2</caption>\n",
              "<thead>\n",
              "\t<tr><th scope=col>종류</th><th scope=col>프랜차이즈명</th></tr>\n",
              "\t<tr><th scope=col>&lt;fct&gt;</th><th scope=col>&lt;fct&gt;</th></tr>\n",
              "</thead>\n",
              "<tbody>\n",
              "\t<tr><td>치즈버거  </td><td>A</td></tr>\n",
              "\t<tr><td>치킨버거  </td><td>A</td></tr>\n",
              "\t<tr><td>치킨버거  </td><td>B</td></tr>\n",
              "\t<tr><td>불고기버거</td><td>C</td></tr>\n",
              "\t<tr><td>치즈버거  </td><td>C</td></tr>\n",
              "</tbody>\n",
              "</table>\n"
            ]
          },
          "metadata": {
            "tags": []
          }
        }
      ]
    },
    {
      "cell_type": "code",
      "metadata": {
        "id": "dKmoYWze_mPp",
        "outputId": "164bfc85-b157-4a68-c915-1846b9fa03e6",
        "colab": {
          "base_uri": "https://localhost:8080/",
          "height": 99
        }
      },
      "source": [
        "# 가격이 4000원 이상이고 종류가 치즈버거인 프랜차이즈명을 출력하세요\n",
        "burgers %>% filter(가격 >= 4000 & 종류 == '치즈버거') %>% select(종류,프랜차이즈명)"
      ],
      "execution_count": 23,
      "outputs": [
        {
          "output_type": "display_data",
          "data": {
            "text/plain": [
              "  종류     프랜차이즈명\n",
              "1 치즈버거 A           "
            ],
            "text/latex": "A data.frame: 1 × 2\n\\begin{tabular}{ll}\n 종류 & 프랜차이즈명\\\\\n <fct> & <fct>\\\\\n\\hline\n\t 치즈버거 & A\\\\\n\\end{tabular}\n",
            "text/markdown": "\nA data.frame: 1 × 2\n\n| 종류 &lt;fct&gt; | 프랜차이즈명 &lt;fct&gt; |\n|---|---|\n| 치즈버거 | A |\n\n",
            "text/html": [
              "<table>\n",
              "<caption>A data.frame: 1 × 2</caption>\n",
              "<thead>\n",
              "\t<tr><th scope=col>종류</th><th scope=col>프랜차이즈명</th></tr>\n",
              "\t<tr><th scope=col>&lt;fct&gt;</th><th scope=col>&lt;fct&gt;</th></tr>\n",
              "</thead>\n",
              "<tbody>\n",
              "\t<tr><td>치즈버거</td><td>A</td></tr>\n",
              "</tbody>\n",
              "</table>\n"
            ]
          },
          "metadata": {
            "tags": []
          }
        }
      ]
    },
    {
      "cell_type": "code",
      "metadata": {
        "id": "i3QdN0bj_6as",
        "outputId": "c8c85274-ec8d-45a1-96a7-8af4f188c0ed",
        "colab": {
          "base_uri": "https://localhost:8080/",
          "height": 175
        }
      },
      "source": [
        "# 가격이 4000원 이상이고 프랜차이즈명이 A 또는 B인 버거의 종류를 출력하세요\n",
        "burgers %>% filter(가격 >= 4000 & 프랜차이즈명 %in% c('A','B')) %>% select(종류)"
      ],
      "execution_count": 25,
      "outputs": [
        {
          "output_type": "display_data",
          "data": {
            "text/plain": [
              "  종류    \n",
              "1 치즈버거\n",
              "2 치킨버거\n",
              "3 치킨버거"
            ],
            "text/latex": "A data.frame: 3 × 1\n\\begin{tabular}{l}\n 종류\\\\\n <fct>\\\\\n\\hline\n\t 치즈버거\\\\\n\t 치킨버거\\\\\n\t 치킨버거\\\\\n\\end{tabular}\n",
            "text/markdown": "\nA data.frame: 3 × 1\n\n| 종류 &lt;fct&gt; |\n|---|\n| 치즈버거 |\n| 치킨버거 |\n| 치킨버거 |\n\n",
            "text/html": [
              "<table>\n",
              "<caption>A data.frame: 3 × 1</caption>\n",
              "<thead>\n",
              "\t<tr><th scope=col>종류</th></tr>\n",
              "\t<tr><th scope=col>&lt;fct&gt;</th></tr>\n",
              "</thead>\n",
              "<tbody>\n",
              "\t<tr><td>치즈버거</td></tr>\n",
              "\t<tr><td>치킨버거</td></tr>\n",
              "\t<tr><td>치킨버거</td></tr>\n",
              "</tbody>\n",
              "</table>\n"
            ]
          },
          "metadata": {
            "tags": []
          }
        }
      ]
    }
  ]
}