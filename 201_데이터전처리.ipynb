{
  "nbformat": 4,
  "nbformat_minor": 0,
  "metadata": {
    "colab": {
      "name": "R201_데이터전처리.ipynb",
      "provenance": [],
      "collapsed_sections": [],
      "authorship_tag": "ABX9TyPgemxspW09/RtTPvBFREbW",
      "include_colab_link": true
    },
    "kernelspec": {
      "name": "ir",
      "display_name": "R"
    }
  },
  "cells": [
    {
      "cell_type": "markdown",
      "metadata": {
        "id": "view-in-github",
        "colab_type": "text"
      },
      "source": [
        "<a href=\"https://colab.research.google.com/github/gyujin0450/Rstudy/blob/master/201_%EB%8D%B0%EC%9D%B4%ED%84%B0%EC%A0%84%EC%B2%98%EB%A6%AC.ipynb\" target=\"_parent\"><img src=\"https://colab.research.google.com/assets/colab-badge.svg\" alt=\"Open In Colab\"/></a>"
      ]
    },
    {
      "cell_type": "markdown",
      "metadata": {
        "id": "A0fC5GPi2V_L"
      },
      "source": [
        "201. 데이터 정제 예제"
      ]
    },
    {
      "cell_type": "code",
      "metadata": {
        "id": "PZVOg9AU3Sl9",
        "outputId": "f6478a53-04d6-454e-fff2-90087b173dfc",
        "colab": {
          "base_uri": "https://localhost:8080/",
          "height": 288
        }
      },
      "source": [
        "# 데이터 분석 목적에 적합한 작업 진행하기!!\n",
        "\n",
        "# 타이타닉 데이터 읽어오기\n",
        "titanic <- read.csv(\"https://raw.githubusercontent.com/gyujin0450/dataset/master/titanic.csv\")\n",
        "head(titanic,10) "
      ],
      "execution_count": null,
      "outputs": [
        {
          "output_type": "display_data",
          "data": {
            "text/plain": [
              "   pclass survived name                                            sex   \n",
              "1  1      1        Allen, Miss. Elisabeth Walton                   female\n",
              "2  1      1        Allison, Master. Hudson Trevor                  male  \n",
              "3  1      0        Allison, Miss. Helen Loraine                    female\n",
              "4  1      0        Allison, Mr. Hudson Joshua Creighton            male  \n",
              "5  1      0        Allison, Mrs. Hudson J C (Bessie Waldo Daniels) female\n",
              "6  1      1        Anderson, Mr. Harry                             male  \n",
              "7  1      1        Andrews, Miss. Kornelia Theodosia               female\n",
              "8  1      0        Andrews, Mr. Thomas Jr                          male  \n",
              "9  1      1        Appleton, Mrs. Edward Dale (Charlotte Lamson)   female\n",
              "10 1      0        Artagaveytia, Mr. Ramon                         male  \n",
              "   age     sibsp parch ticket   fare     cabin   embarked\n",
              "1  29.0000 0     0     24160    211.3375 B5      S       \n",
              "2   0.9167 1     2     113781   151.5500 C22 C26 S       \n",
              "3   2.0000 1     2     113781   151.5500 C22 C26 S       \n",
              "4  30.0000 1     2     113781   151.5500 C22 C26 S       \n",
              "5  25.0000 1     2     113781   151.5500 C22 C26 S       \n",
              "6  48.0000 0     0     19952     26.5500 E12     S       \n",
              "7  63.0000 1     0     13502     77.9583 D7      S       \n",
              "8  39.0000 0     0     112050     0.0000 A36     S       \n",
              "9  53.0000 2     0     11769     51.4792 C101    S       \n",
              "10 71.0000 0     0     PC 17609  49.5042         C       "
            ],
            "text/latex": "A data.frame: 10 × 11\n\\begin{tabular}{r|lllllllllll}\n  & pclass & survived & name & sex & age & sibsp & parch & ticket & fare & cabin & embarked\\\\\n  & <int> & <int> & <fct> & <fct> & <dbl> & <int> & <int> & <fct> & <dbl> & <fct> & <fct>\\\\\n\\hline\n\t1 & 1 & 1 & Allen, Miss. Elisabeth Walton                   & female & 29.0000 & 0 & 0 & 24160    & 211.3375 & B5      & S\\\\\n\t2 & 1 & 1 & Allison, Master. Hudson Trevor                  & male   &  0.9167 & 1 & 2 & 113781   & 151.5500 & C22 C26 & S\\\\\n\t3 & 1 & 0 & Allison, Miss. Helen Loraine                    & female &  2.0000 & 1 & 2 & 113781   & 151.5500 & C22 C26 & S\\\\\n\t4 & 1 & 0 & Allison, Mr. Hudson Joshua Creighton            & male   & 30.0000 & 1 & 2 & 113781   & 151.5500 & C22 C26 & S\\\\\n\t5 & 1 & 0 & Allison, Mrs. Hudson J C (Bessie Waldo Daniels) & female & 25.0000 & 1 & 2 & 113781   & 151.5500 & C22 C26 & S\\\\\n\t6 & 1 & 1 & Anderson, Mr. Harry                             & male   & 48.0000 & 0 & 0 & 19952    &  26.5500 & E12     & S\\\\\n\t7 & 1 & 1 & Andrews, Miss. Kornelia Theodosia               & female & 63.0000 & 1 & 0 & 13502    &  77.9583 & D7      & S\\\\\n\t8 & 1 & 0 & Andrews, Mr. Thomas Jr                          & male   & 39.0000 & 0 & 0 & 112050   &   0.0000 & A36     & S\\\\\n\t9 & 1 & 1 & Appleton, Mrs. Edward Dale (Charlotte Lamson)   & female & 53.0000 & 2 & 0 & 11769    &  51.4792 & C101    & S\\\\\n\t10 & 1 & 0 & Artagaveytia, Mr. Ramon                         & male   & 71.0000 & 0 & 0 & PC 17609 &  49.5042 &         & C\\\\\n\\end{tabular}\n",
            "text/markdown": "\nA data.frame: 10 × 11\n\n| <!--/--> | pclass &lt;int&gt; | survived &lt;int&gt; | name &lt;fct&gt; | sex &lt;fct&gt; | age &lt;dbl&gt; | sibsp &lt;int&gt; | parch &lt;int&gt; | ticket &lt;fct&gt; | fare &lt;dbl&gt; | cabin &lt;fct&gt; | embarked &lt;fct&gt; |\n|---|---|---|---|---|---|---|---|---|---|---|---|\n| 1 | 1 | 1 | Allen, Miss. Elisabeth Walton                   | female | 29.0000 | 0 | 0 | 24160    | 211.3375 | B5      | S |\n| 2 | 1 | 1 | Allison, Master. Hudson Trevor                  | male   |  0.9167 | 1 | 2 | 113781   | 151.5500 | C22 C26 | S |\n| 3 | 1 | 0 | Allison, Miss. Helen Loraine                    | female |  2.0000 | 1 | 2 | 113781   | 151.5500 | C22 C26 | S |\n| 4 | 1 | 0 | Allison, Mr. Hudson Joshua Creighton            | male   | 30.0000 | 1 | 2 | 113781   | 151.5500 | C22 C26 | S |\n| 5 | 1 | 0 | Allison, Mrs. Hudson J C (Bessie Waldo Daniels) | female | 25.0000 | 1 | 2 | 113781   | 151.5500 | C22 C26 | S |\n| 6 | 1 | 1 | Anderson, Mr. Harry                             | male   | 48.0000 | 0 | 0 | 19952    |  26.5500 | E12     | S |\n| 7 | 1 | 1 | Andrews, Miss. Kornelia Theodosia               | female | 63.0000 | 1 | 0 | 13502    |  77.9583 | D7      | S |\n| 8 | 1 | 0 | Andrews, Mr. Thomas Jr                          | male   | 39.0000 | 0 | 0 | 112050   |   0.0000 | A36     | S |\n| 9 | 1 | 1 | Appleton, Mrs. Edward Dale (Charlotte Lamson)   | female | 53.0000 | 2 | 0 | 11769    |  51.4792 | C101    | S |\n| 10 | 1 | 0 | Artagaveytia, Mr. Ramon                         | male   | 71.0000 | 0 | 0 | PC 17609 |  49.5042 | <!----> | C |\n\n",
            "text/html": [
              "<table>\n",
              "<caption>A data.frame: 10 × 11</caption>\n",
              "<thead>\n",
              "\t<tr><th></th><th scope=col>pclass</th><th scope=col>survived</th><th scope=col>name</th><th scope=col>sex</th><th scope=col>age</th><th scope=col>sibsp</th><th scope=col>parch</th><th scope=col>ticket</th><th scope=col>fare</th><th scope=col>cabin</th><th scope=col>embarked</th></tr>\n",
              "\t<tr><th></th><th scope=col>&lt;int&gt;</th><th scope=col>&lt;int&gt;</th><th scope=col>&lt;fct&gt;</th><th scope=col>&lt;fct&gt;</th><th scope=col>&lt;dbl&gt;</th><th scope=col>&lt;int&gt;</th><th scope=col>&lt;int&gt;</th><th scope=col>&lt;fct&gt;</th><th scope=col>&lt;dbl&gt;</th><th scope=col>&lt;fct&gt;</th><th scope=col>&lt;fct&gt;</th></tr>\n",
              "</thead>\n",
              "<tbody>\n",
              "\t<tr><th scope=row>1</th><td>1</td><td>1</td><td>Allen, Miss. Elisabeth Walton                  </td><td>female</td><td>29.0000</td><td>0</td><td>0</td><td>24160   </td><td>211.3375</td><td>B5     </td><td>S</td></tr>\n",
              "\t<tr><th scope=row>2</th><td>1</td><td>1</td><td>Allison, Master. Hudson Trevor                 </td><td>male  </td><td> 0.9167</td><td>1</td><td>2</td><td>113781  </td><td>151.5500</td><td>C22 C26</td><td>S</td></tr>\n",
              "\t<tr><th scope=row>3</th><td>1</td><td>0</td><td>Allison, Miss. Helen Loraine                   </td><td>female</td><td> 2.0000</td><td>1</td><td>2</td><td>113781  </td><td>151.5500</td><td>C22 C26</td><td>S</td></tr>\n",
              "\t<tr><th scope=row>4</th><td>1</td><td>0</td><td>Allison, Mr. Hudson Joshua Creighton           </td><td>male  </td><td>30.0000</td><td>1</td><td>2</td><td>113781  </td><td>151.5500</td><td>C22 C26</td><td>S</td></tr>\n",
              "\t<tr><th scope=row>5</th><td>1</td><td>0</td><td>Allison, Mrs. Hudson J C (Bessie Waldo Daniels)</td><td>female</td><td>25.0000</td><td>1</td><td>2</td><td>113781  </td><td>151.5500</td><td>C22 C26</td><td>S</td></tr>\n",
              "\t<tr><th scope=row>6</th><td>1</td><td>1</td><td>Anderson, Mr. Harry                            </td><td>male  </td><td>48.0000</td><td>0</td><td>0</td><td>19952   </td><td> 26.5500</td><td>E12    </td><td>S</td></tr>\n",
              "\t<tr><th scope=row>7</th><td>1</td><td>1</td><td>Andrews, Miss. Kornelia Theodosia              </td><td>female</td><td>63.0000</td><td>1</td><td>0</td><td>13502   </td><td> 77.9583</td><td>D7     </td><td>S</td></tr>\n",
              "\t<tr><th scope=row>8</th><td>1</td><td>0</td><td>Andrews, Mr. Thomas Jr                         </td><td>male  </td><td>39.0000</td><td>0</td><td>0</td><td>112050  </td><td>  0.0000</td><td>A36    </td><td>S</td></tr>\n",
              "\t<tr><th scope=row>9</th><td>1</td><td>1</td><td>Appleton, Mrs. Edward Dale (Charlotte Lamson)  </td><td>female</td><td>53.0000</td><td>2</td><td>0</td><td>11769   </td><td> 51.4792</td><td>C101   </td><td>S</td></tr>\n",
              "\t<tr><th scope=row>10</th><td>1</td><td>0</td><td>Artagaveytia, Mr. Ramon                        </td><td>male  </td><td>71.0000</td><td>0</td><td>0</td><td>PC 17609</td><td> 49.5042</td><td>       </td><td>C</td></tr>\n",
              "</tbody>\n",
              "</table>\n"
            ]
          },
          "metadata": {
            "tags": []
          }
        }
      ]
    },
    {
      "cell_type": "code",
      "metadata": {
        "id": "N9bN-9Hm4duS",
        "outputId": "2eb17efc-cc1b-4bd6-a648-f189ca774b41",
        "colab": {
          "base_uri": "https://localhost:8080/",
          "height": 233
        }
      },
      "source": [
        "str(titanic) # 데이터 구조 파악"
      ],
      "execution_count": null,
      "outputs": [
        {
          "output_type": "stream",
          "text": [
            "'data.frame':\t1310 obs. of  11 variables:\n",
            " $ pclass  : int  1 1 1 1 1 1 1 1 1 1 ...\n",
            " $ survived: int  1 1 0 0 0 1 1 0 1 0 ...\n",
            " $ name    : Factor w/ 1308 levels \"\",\"Abbing, Mr. Anthony\",..: 23 25 26 27 28 32 47 48 52 56 ...\n",
            " $ sex     : Factor w/ 3 levels \"\",\"female\",\"male\": 2 3 2 3 2 3 2 3 2 3 ...\n",
            " $ age     : num  29 0.917 2 30 25 ...\n",
            " $ sibsp   : int  0 1 1 1 1 0 1 0 2 0 ...\n",
            " $ parch   : int  0 2 2 2 2 0 0 0 0 0 ...\n",
            " $ ticket  : Factor w/ 930 levels \"\",\"110152\",\"110413\",..: 189 51 51 51 51 126 94 17 78 827 ...\n",
            " $ fare    : num  211 152 152 152 152 ...\n",
            " $ cabin   : Factor w/ 187 levels \"\",\"A10\",\"A11\",..: 45 81 81 81 81 151 147 17 63 1 ...\n",
            " $ embarked: Factor w/ 4 levels \"\",\"C\",\"Q\",\"S\": 4 4 4 4 4 4 4 4 4 2 ...\n"
          ],
          "name": "stdout"
        }
      ]
    },
    {
      "cell_type": "code",
      "metadata": {
        "id": "Zp_1RXvD4mFU",
        "outputId": "e6f31518-eeb0-4f5c-b3f8-884d61366cb1",
        "colab": {
          "base_uri": "https://localhost:8080/",
          "height": 449
        }
      },
      "source": [
        "summary(titanic) # 요약통계"
      ],
      "execution_count": null,
      "outputs": [
        {
          "output_type": "display_data",
          "data": {
            "text/plain": [
              "     pclass         survived                                name     \n",
              " Min.   :1.000   Min.   :0.000   Connolly, Miss. Kate         :   2  \n",
              " 1st Qu.:2.000   1st Qu.:0.000   Kelly, Mr. James             :   2  \n",
              " Median :3.000   Median :0.000                                :   1  \n",
              " Mean   :2.295   Mean   :0.382   Abbing, Mr. Anthony          :   1  \n",
              " 3rd Qu.:3.000   3rd Qu.:1.000   Abbott, Master. Eugene Joseph:   1  \n",
              " Max.   :3.000   Max.   :1.000   Abbott, Mr. Rossmore Edward  :   1  \n",
              " NA's   :1       NA's   :1       (Other)                      :1302  \n",
              "     sex           age              sibsp            parch      \n",
              "       :  1   Min.   : 0.1667   Min.   :0.0000   Min.   :0.000  \n",
              " female:466   1st Qu.:21.0000   1st Qu.:0.0000   1st Qu.:0.000  \n",
              " male  :843   Median :28.0000   Median :0.0000   Median :0.000  \n",
              "              Mean   :29.8811   Mean   :0.4989   Mean   :0.385  \n",
              "              3rd Qu.:39.0000   3rd Qu.:1.0000   3rd Qu.:0.000  \n",
              "              Max.   :80.0000   Max.   :8.0000   Max.   :9.000  \n",
              "              NA's   :264       NA's   :1        NA's   :1      \n",
              "      ticket          fare                     cabin      embarked\n",
              " CA. 2343:  11   Min.   :  0.000                  :1015    :  3   \n",
              " 1601    :   8   1st Qu.:  7.896   C23 C25 C27    :   6   C:270   \n",
              " CA 2144 :   8   Median : 14.454   B57 B59 B63 B66:   5   Q:123   \n",
              " 3101295 :   7   Mean   : 33.295   G6             :   5   S:914   \n",
              " 347077  :   7   3rd Qu.: 31.275   B96 B98        :   4           \n",
              " 347082  :   7   Max.   :512.329   C22 C26        :   4           \n",
              " (Other) :1262   NA's   :2         (Other)        : 271           "
            ]
          },
          "metadata": {
            "tags": []
          }
        }
      ]
    },
    {
      "cell_type": "code",
      "metadata": {
        "id": "GUuUkdiF46Gl",
        "outputId": "77f58c9b-c6d2-43b8-c4c7-81de0488f576",
        "colab": {
          "base_uri": "https://localhost:8080/",
          "height": 34
        }
      },
      "source": [
        "colSums(is.na(titanic)) # 결측치 확인"
      ],
      "execution_count": null,
      "outputs": [
        {
          "output_type": "display_data",
          "data": {
            "text/plain": [
              "  pclass survived     name      sex      age    sibsp    parch   ticket \n",
              "       1        1        0        0      264        1        1        0 \n",
              "    fare    cabin embarked \n",
              "       2        0        0 "
            ],
            "text/latex": "\\begin{description*}\n\\item[pclass] 1\n\\item[survived] 1\n\\item[name] 0\n\\item[sex] 0\n\\item[age] 264\n\\item[sibsp] 1\n\\item[parch] 1\n\\item[ticket] 0\n\\item[fare] 2\n\\item[cabin] 0\n\\item[embarked] 0\n\\end{description*}\n",
            "text/markdown": "pclass\n:   1survived\n:   1name\n:   0sex\n:   0age\n:   264sibsp\n:   1parch\n:   1ticket\n:   0fare\n:   2cabin\n:   0embarked\n:   0\n\n",
            "text/html": [
              "<style>\n",
              ".dl-inline {width: auto; margin:0; padding: 0}\n",
              ".dl-inline>dt, .dl-inline>dd {float: none; width: auto; display: inline-block}\n",
              ".dl-inline>dt::after {content: \":\\0020\"; padding-right: .5ex}\n",
              ".dl-inline>dt:not(:first-of-type) {padding-left: .5ex}\n",
              "</style><dl class=dl-inline><dt>pclass</dt><dd>1</dd><dt>survived</dt><dd>1</dd><dt>name</dt><dd>0</dd><dt>sex</dt><dd>0</dd><dt>age</dt><dd>264</dd><dt>sibsp</dt><dd>1</dd><dt>parch</dt><dd>1</dd><dt>ticket</dt><dd>0</dd><dt>fare</dt><dd>2</dd><dt>cabin</dt><dd>0</dd><dt>embarked</dt><dd>0</dd></dl>\n"
            ]
          },
          "metadata": {
            "tags": []
          }
        }
      ]
    },
    {
      "cell_type": "code",
      "metadata": {
        "id": "fltwp1CL5IMr",
        "outputId": "2c022642-2d25-4b36-a933-aca97a659790",
        "colab": {
          "base_uri": "https://localhost:8080/",
          "height": 34
        }
      },
      "source": [
        "# 결측치 처리 \n",
        "# 1) 결측치 건수가 적은것은 제거 :  na.omit()\n",
        "titanic2 <- na.omit(titanic)\n",
        "colSums(is.na(titanic2))"
      ],
      "execution_count": null,
      "outputs": [
        {
          "output_type": "display_data",
          "data": {
            "text/plain": [
              "  pclass survived     name      sex      age    sibsp    parch   ticket \n",
              "       0        0        0        0        0        0        0        0 \n",
              "    fare    cabin embarked \n",
              "       0        0        0 "
            ],
            "text/latex": "\\begin{description*}\n\\item[pclass] 0\n\\item[survived] 0\n\\item[name] 0\n\\item[sex] 0\n\\item[age] 0\n\\item[sibsp] 0\n\\item[parch] 0\n\\item[ticket] 0\n\\item[fare] 0\n\\item[cabin] 0\n\\item[embarked] 0\n\\end{description*}\n",
            "text/markdown": "pclass\n:   0survived\n:   0name\n:   0sex\n:   0age\n:   0sibsp\n:   0parch\n:   0ticket\n:   0fare\n:   0cabin\n:   0embarked\n:   0\n\n",
            "text/html": [
              "<style>\n",
              ".dl-inline {width: auto; margin:0; padding: 0}\n",
              ".dl-inline>dt, .dl-inline>dd {float: none; width: auto; display: inline-block}\n",
              ".dl-inline>dt::after {content: \":\\0020\"; padding-right: .5ex}\n",
              ".dl-inline>dt:not(:first-of-type) {padding-left: .5ex}\n",
              "</style><dl class=dl-inline><dt>pclass</dt><dd>0</dd><dt>survived</dt><dd>0</dd><dt>name</dt><dd>0</dd><dt>sex</dt><dd>0</dd><dt>age</dt><dd>0</dd><dt>sibsp</dt><dd>0</dd><dt>parch</dt><dd>0</dd><dt>ticket</dt><dd>0</dd><dt>fare</dt><dd>0</dd><dt>cabin</dt><dd>0</dd><dt>embarked</dt><dd>0</dd></dl>\n"
            ]
          },
          "metadata": {
            "tags": []
          }
        }
      ]
    },
    {
      "cell_type": "code",
      "metadata": {
        "id": "Botf2QGi7bSB",
        "outputId": "232bb01c-58e1-4fdf-9583-843a0666229c",
        "colab": {
          "base_uri": "https://localhost:8080/",
          "height": 34
        }
      },
      "source": [
        "# 2) 대체값 넣기 : age 결측치는 중앙값으로 대체\n",
        "# 소숫점 이하 처리 : round(반올림), floor(내림), ceil(올림)\n",
        "mv <- floor(median(titanic$age, na.rm = T))\n",
        "mv"
      ],
      "execution_count": null,
      "outputs": [
        {
          "output_type": "display_data",
          "data": {
            "text/plain": [
              "[1] 28"
            ],
            "text/latex": "28",
            "text/markdown": "28",
            "text/html": [
              "28"
            ]
          },
          "metadata": {
            "tags": []
          }
        }
      ]
    },
    {
      "cell_type": "code",
      "metadata": {
        "id": "cw5PEhnJ73bB",
        "outputId": "d657ad72-0f5c-42f7-961b-dae8b29ff3b4",
        "colab": {
          "base_uri": "https://localhost:8080/",
          "height": 51
        }
      },
      "source": [
        "# 중앙값으로 결측치 대치(조건문 필요!!!)\n",
        "# boolean 인텍스\n",
        "# titanic$age[] <- mv # 모든 나이컬럼에 중앙값 대입(X)\n",
        "# is.na(titanic$age) #  age 컬럼의 결측치 여부 확인\n",
        "# age 컬럼의 결측치를 포함된 항목을 찾아서 중앙값(mv)으로 대치\n",
        "titanic$age[is.na(titanic$age)] <- mv\n",
        "colSums(is.na(titanic))\n",
        "# 나머지 결측치 제거\n",
        "titanic3 <- na.omit(titanic) \n",
        "colSums(is.na(titanic3))"
      ],
      "execution_count": null,
      "outputs": [
        {
          "output_type": "display_data",
          "data": {
            "text/plain": [
              "  pclass survived     name      sex      age    sibsp    parch   ticket \n",
              "       1        1        0        0        0        1        1        0 \n",
              "    fare    cabin embarked \n",
              "       2        0        0 "
            ],
            "text/latex": "\\begin{description*}\n\\item[pclass] 1\n\\item[survived] 1\n\\item[name] 0\n\\item[sex] 0\n\\item[age] 0\n\\item[sibsp] 1\n\\item[parch] 1\n\\item[ticket] 0\n\\item[fare] 2\n\\item[cabin] 0\n\\item[embarked] 0\n\\end{description*}\n",
            "text/markdown": "pclass\n:   1survived\n:   1name\n:   0sex\n:   0age\n:   0sibsp\n:   1parch\n:   1ticket\n:   0fare\n:   2cabin\n:   0embarked\n:   0\n\n",
            "text/html": [
              "<style>\n",
              ".dl-inline {width: auto; margin:0; padding: 0}\n",
              ".dl-inline>dt, .dl-inline>dd {float: none; width: auto; display: inline-block}\n",
              ".dl-inline>dt::after {content: \":\\0020\"; padding-right: .5ex}\n",
              ".dl-inline>dt:not(:first-of-type) {padding-left: .5ex}\n",
              "</style><dl class=dl-inline><dt>pclass</dt><dd>1</dd><dt>survived</dt><dd>1</dd><dt>name</dt><dd>0</dd><dt>sex</dt><dd>0</dd><dt>age</dt><dd>0</dd><dt>sibsp</dt><dd>1</dd><dt>parch</dt><dd>1</dd><dt>ticket</dt><dd>0</dd><dt>fare</dt><dd>2</dd><dt>cabin</dt><dd>0</dd><dt>embarked</dt><dd>0</dd></dl>\n"
            ]
          },
          "metadata": {
            "tags": []
          }
        },
        {
          "output_type": "display_data",
          "data": {
            "text/plain": [
              "  pclass survived     name      sex      age    sibsp    parch   ticket \n",
              "       0        0        0        0        0        0        0        0 \n",
              "    fare    cabin embarked \n",
              "       0        0        0 "
            ],
            "text/latex": "\\begin{description*}\n\\item[pclass] 0\n\\item[survived] 0\n\\item[name] 0\n\\item[sex] 0\n\\item[age] 0\n\\item[sibsp] 0\n\\item[parch] 0\n\\item[ticket] 0\n\\item[fare] 0\n\\item[cabin] 0\n\\item[embarked] 0\n\\end{description*}\n",
            "text/markdown": "pclass\n:   0survived\n:   0name\n:   0sex\n:   0age\n:   0sibsp\n:   0parch\n:   0ticket\n:   0fare\n:   0cabin\n:   0embarked\n:   0\n\n",
            "text/html": [
              "<style>\n",
              ".dl-inline {width: auto; margin:0; padding: 0}\n",
              ".dl-inline>dt, .dl-inline>dd {float: none; width: auto; display: inline-block}\n",
              ".dl-inline>dt::after {content: \":\\0020\"; padding-right: .5ex}\n",
              ".dl-inline>dt:not(:first-of-type) {padding-left: .5ex}\n",
              "</style><dl class=dl-inline><dt>pclass</dt><dd>0</dd><dt>survived</dt><dd>0</dd><dt>name</dt><dd>0</dd><dt>sex</dt><dd>0</dd><dt>age</dt><dd>0</dd><dt>sibsp</dt><dd>0</dd><dt>parch</dt><dd>0</dd><dt>ticket</dt><dd>0</dd><dt>fare</dt><dd>0</dd><dt>cabin</dt><dd>0</dd><dt>embarked</dt><dd>0</dd></dl>\n"
            ]
          },
          "metadata": {
            "tags": []
          }
        }
      ]
    },
    {
      "cell_type": "code",
      "metadata": {
        "id": "Tt3g0j7H-lcS",
        "outputId": "1346e5b3-a12f-4b5b-fe17-7e3b6ee21260",
        "colab": {
          "base_uri": "https://localhost:8080/",
          "height": 437
        }
      },
      "source": [
        "# 시각화\n",
        "# 성별 승성객 수 시각화\n",
        "frq_sex <- table(titanic3$sex)\n",
        "barplot(frq_sex)# 성별 승성객 수 시각화\n",
        "frq_sex <- table(titanic3$sex)\n",
        "barplot(frq_sex)"
      ],
      "execution_count": null,
      "outputs": [
        {
          "output_type": "display_data",
          "data": {
            "image/png": "[encoded data removed]",
            "text/plain": [
              "plot without title"
            ]
          },
          "metadata": {
            "tags": [],
            "image/png": {
              "width": 420,
              "height": 420
            }
          }
        }
      ]
    },
    {
      "cell_type": "code",
      "metadata": {
        "id": "6hK0Zhlr_GUS",
        "outputId": "5fe23f12-e75d-4472-ee8b-7d110eeae0d2",
        "colab": {
          "base_uri": "https://localhost:8080/",
          "height": 71
        }
      },
      "source": [
        "# 위 결과, 여전히 이상한 값이 있는 듯...\n",
        "table(titanic$sex)"
      ],
      "execution_count": null,
      "outputs": [
        {
          "output_type": "display_data",
          "data": {
            "text/plain": [
              "\n",
              "       female   male \n",
              "     1    466    843 "
            ]
          },
          "metadata": {
            "tags": []
          }
        }
      ]
    },
    {
      "cell_type": "code",
      "metadata": {
        "id": "saLN0ulw_jrQ"
      },
      "source": [
        "# Tip) read.csv 알아보기\n",
        "# csv로 작성된 파일을 R로 읽어들일때 사용\n",
        "# read.csv('파일경로', 헤더여부, 구분자, 결측치처리, 인코딩)\n",
        "# read.csv('파일경로', header=F, sep='\\t', na.strings='', encoding='euc-kr') \n",
        "# 구분자 : 탭의 경우 '\\t'\n",
        "# 결측치 : 빈문자열이 있는 경우 NA로 대체\n",
        "# 한글로 작성된 자료 인코딩해야 하는 경우, euc-kr 로 함. 그래서, 가능하면 UTF-8로 작성 필요!!                          "
      ],
      "execution_count": null,
      "outputs": []
    },
    {
      "cell_type": "code",
      "metadata": {
        "id": "rZeIrKvjF41o"
      },
      "source": [
        "titanic_na <- read.csv(\"https://raw.githubusercontent.com/gyujin0450/dataset/master/titanic.csv\", na.strings='')"
      ],
      "execution_count": null,
      "outputs": []
    },
    {
      "cell_type": "code",
      "metadata": {
        "id": "utcrPUaVIgEf",
        "outputId": "afd0d41d-0146-4b58-8469-a5d887bed25d",
        "colab": {
          "base_uri": "https://localhost:8080/",
          "height": 449
        }
      },
      "source": [
        "summary(titanic)"
      ],
      "execution_count": null,
      "outputs": [
        {
          "output_type": "display_data",
          "data": {
            "text/plain": [
              "     pclass         survived                                name     \n",
              " Min.   :1.000   Min.   :0.000   Connolly, Miss. Kate         :   2  \n",
              " 1st Qu.:2.000   1st Qu.:0.000   Kelly, Mr. James             :   2  \n",
              " Median :3.000   Median :0.000                                :   1  \n",
              " Mean   :2.295   Mean   :0.382   Abbing, Mr. Anthony          :   1  \n",
              " 3rd Qu.:3.000   3rd Qu.:1.000   Abbott, Master. Eugene Joseph:   1  \n",
              " Max.   :3.000   Max.   :1.000   Abbott, Mr. Rossmore Edward  :   1  \n",
              " NA's   :1       NA's   :1       (Other)                      :1302  \n",
              "     sex           age              sibsp            parch      \n",
              "       :  1   Min.   : 0.1667   Min.   :0.0000   Min.   :0.000  \n",
              " female:466   1st Qu.:22.0000   1st Qu.:0.0000   1st Qu.:0.000  \n",
              " male  :843   Median :28.0000   Median :0.0000   Median :0.000  \n",
              "              Mean   :29.5020   Mean   :0.4989   Mean   :0.385  \n",
              "              3rd Qu.:35.0000   3rd Qu.:1.0000   3rd Qu.:0.000  \n",
              "              Max.   :80.0000   Max.   :8.0000   Max.   :9.000  \n",
              "                                NA's   :1        NA's   :1      \n",
              "      ticket          fare                     cabin      embarked\n",
              " CA. 2343:  11   Min.   :  0.000                  :1015    :  3   \n",
              " 1601    :   8   1st Qu.:  7.896   C23 C25 C27    :   6   C:270   \n",
              " CA 2144 :   8   Median : 14.454   B57 B59 B63 B66:   5   Q:123   \n",
              " 3101295 :   7   Mean   : 33.295   G6             :   5   S:914   \n",
              " 347077  :   7   3rd Qu.: 31.275   B96 B98        :   4           \n",
              " 347082  :   7   Max.   :512.329   C22 C26        :   4           \n",
              " (Other) :1262   NA's   :2         (Other)        : 271           "
            ]
          },
          "metadata": {
            "tags": []
          }
        }
      ]
    },
    {
      "cell_type": "code",
      "metadata": {
        "id": "y3roEJ1IIqYp",
        "outputId": "744f68c4-a229-4ef3-c141-22f61bab48f3",
        "colab": {
          "base_uri": "https://localhost:8080/",
          "height": 449
        }
      },
      "source": [
        "summary(titanic_na)"
      ],
      "execution_count": null,
      "outputs": [
        {
          "output_type": "display_data",
          "data": {
            "text/plain": [
              "     pclass         survived                                name     \n",
              " Min.   :1.000   Min.   :0.000   Connolly, Miss. Kate         :   2  \n",
              " 1st Qu.:2.000   1st Qu.:0.000   Kelly, Mr. James             :   2  \n",
              " Median :3.000   Median :0.000   Abbing, Mr. Anthony          :   1  \n",
              " Mean   :2.295   Mean   :0.382   Abbott, Master. Eugene Joseph:   1  \n",
              " 3rd Qu.:3.000   3rd Qu.:1.000   Abbott, Mr. Rossmore Edward  :   1  \n",
              " Max.   :3.000   Max.   :1.000   (Other)                      :1302  \n",
              " NA's   :1       NA's   :1       NA's                         :   1  \n",
              "     sex           age              sibsp            parch      \n",
              " female:466   Min.   : 0.1667   Min.   :0.0000   Min.   :0.000  \n",
              " male  :843   1st Qu.:21.0000   1st Qu.:0.0000   1st Qu.:0.000  \n",
              " NA's  :  1   Median :28.0000   Median :0.0000   Median :0.000  \n",
              "              Mean   :29.8811   Mean   :0.4989   Mean   :0.385  \n",
              "              3rd Qu.:39.0000   3rd Qu.:1.0000   3rd Qu.:0.000  \n",
              "              Max.   :80.0000   Max.   :8.0000   Max.   :9.000  \n",
              "              NA's   :264       NA's   :1        NA's   :1      \n",
              "      ticket          fare                     cabin      embarked  \n",
              " CA. 2343:  11   Min.   :  0.000   C23 C25 C27    :   6   C   :270  \n",
              " 1601    :   8   1st Qu.:  7.896   B57 B59 B63 B66:   5   Q   :123  \n",
              " CA 2144 :   8   Median : 14.454   G6             :   5   S   :914  \n",
              " 3101295 :   7   Mean   : 33.295   B96 B98        :   4   NA's:  3  \n",
              " 347077  :   7   3rd Qu.: 31.275   C22 C26        :   4             \n",
              " (Other) :1268   Max.   :512.329   (Other)        : 271             \n",
              " NA's    :   1   NA's   :2         NA's           :1015             "
            ]
          },
          "metadata": {
            "tags": []
          }
        }
      ]
    },
    {
      "cell_type": "code",
      "metadata": {
        "id": "McVkv9sWGOB3",
        "outputId": "30e4be5e-d763-4ba3-a282-52f1adc41181",
        "colab": {
          "base_uri": "https://localhost:8080/",
          "height": 34
        }
      },
      "source": [
        "colSums(is.na(titanic_na)) # 결측치 확인"
      ],
      "execution_count": null,
      "outputs": [
        {
          "output_type": "display_data",
          "data": {
            "text/plain": [
              "  pclass survived     name      sex      age    sibsp    parch   ticket \n",
              "       1        1        1        1      264        1        1        1 \n",
              "    fare    cabin embarked \n",
              "       2     1015        3 "
            ],
            "text/latex": "\\begin{description*}\n\\item[pclass] 1\n\\item[survived] 1\n\\item[name] 1\n\\item[sex] 1\n\\item[age] 264\n\\item[sibsp] 1\n\\item[parch] 1\n\\item[ticket] 1\n\\item[fare] 2\n\\item[cabin] 1015\n\\item[embarked] 3\n\\end{description*}\n",
            "text/markdown": "pclass\n:   1survived\n:   1name\n:   1sex\n:   1age\n:   264sibsp\n:   1parch\n:   1ticket\n:   1fare\n:   2cabin\n:   1015embarked\n:   3\n\n",
            "text/html": [
              "<style>\n",
              ".dl-inline {width: auto; margin:0; padding: 0}\n",
              ".dl-inline>dt, .dl-inline>dd {float: none; width: auto; display: inline-block}\n",
              ".dl-inline>dt::after {content: \":\\0020\"; padding-right: .5ex}\n",
              ".dl-inline>dt:not(:first-of-type) {padding-left: .5ex}\n",
              "</style><dl class=dl-inline><dt>pclass</dt><dd>1</dd><dt>survived</dt><dd>1</dd><dt>name</dt><dd>1</dd><dt>sex</dt><dd>1</dd><dt>age</dt><dd>264</dd><dt>sibsp</dt><dd>1</dd><dt>parch</dt><dd>1</dd><dt>ticket</dt><dd>1</dd><dt>fare</dt><dd>2</dd><dt>cabin</dt><dd>1015</dd><dt>embarked</dt><dd>3</dd></dl>\n"
            ]
          },
          "metadata": {
            "tags": []
          }
        }
      ]
    },
    {
      "cell_type": "code",
      "metadata": {
        "id": "ZXTB4Y1TGYVJ",
        "outputId": "7dfcb4ab-d303-4e76-ddc3-256bec23f32f",
        "colab": {
          "base_uri": "https://localhost:8080/",
          "height": 51
        }
      },
      "source": [
        "mv <- floor(median(titanic_na$age, na.rm = T))\n",
        "mv\n",
        "titanic_na$age[is.na(titanic_na$age)] <- mv\n",
        "colSums(is.na(titanic_na))"
      ],
      "execution_count": null,
      "outputs": [
        {
          "output_type": "display_data",
          "data": {
            "text/plain": [
              "[1] 28"
            ],
            "text/latex": "28",
            "text/markdown": "28",
            "text/html": [
              "28"
            ]
          },
          "metadata": {
            "tags": []
          }
        },
        {
          "output_type": "display_data",
          "data": {
            "text/plain": [
              "  pclass survived     name      sex      age    sibsp    parch   ticket \n",
              "       1        1        1        1        0        1        1        1 \n",
              "    fare    cabin embarked \n",
              "       2     1015        3 "
            ],
            "text/latex": "\\begin{description*}\n\\item[pclass] 1\n\\item[survived] 1\n\\item[name] 1\n\\item[sex] 1\n\\item[age] 0\n\\item[sibsp] 1\n\\item[parch] 1\n\\item[ticket] 1\n\\item[fare] 2\n\\item[cabin] 1015\n\\item[embarked] 3\n\\end{description*}\n",
            "text/markdown": "pclass\n:   1survived\n:   1name\n:   1sex\n:   1age\n:   0sibsp\n:   1parch\n:   1ticket\n:   1fare\n:   2cabin\n:   1015embarked\n:   3\n\n",
            "text/html": [
              "<style>\n",
              ".dl-inline {width: auto; margin:0; padding: 0}\n",
              ".dl-inline>dt, .dl-inline>dd {float: none; width: auto; display: inline-block}\n",
              ".dl-inline>dt::after {content: \":\\0020\"; padding-right: .5ex}\n",
              ".dl-inline>dt:not(:first-of-type) {padding-left: .5ex}\n",
              "</style><dl class=dl-inline><dt>pclass</dt><dd>1</dd><dt>survived</dt><dd>1</dd><dt>name</dt><dd>1</dd><dt>sex</dt><dd>1</dd><dt>age</dt><dd>0</dd><dt>sibsp</dt><dd>1</dd><dt>parch</dt><dd>1</dd><dt>ticket</dt><dd>1</dd><dt>fare</dt><dd>2</dd><dt>cabin</dt><dd>1015</dd><dt>embarked</dt><dd>3</dd></dl>\n"
            ]
          },
          "metadata": {
            "tags": []
          }
        }
      ]
    },
    {
      "cell_type": "code",
      "metadata": {
        "id": "S4KLBdEFGjQx",
        "outputId": "a512db8a-f9f3-4353-cf4e-5f85873b10ea",
        "colab": {
          "base_uri": "https://localhost:8080/",
          "height": 34
        }
      },
      "source": [
        "# 나머지 결측치 제거\n",
        "titanic_omit <- na.omit(titanic_na) \n",
        "colSums(is.na(titanic_omit))"
      ],
      "execution_count": null,
      "outputs": [
        {
          "output_type": "display_data",
          "data": {
            "text/plain": [
              "  pclass survived     name      sex      age    sibsp    parch   ticket \n",
              "       0        0        0        0        0        0        0        0 \n",
              "    fare    cabin embarked \n",
              "       0        0        0 "
            ],
            "text/latex": "\\begin{description*}\n\\item[pclass] 0\n\\item[survived] 0\n\\item[name] 0\n\\item[sex] 0\n\\item[age] 0\n\\item[sibsp] 0\n\\item[parch] 0\n\\item[ticket] 0\n\\item[fare] 0\n\\item[cabin] 0\n\\item[embarked] 0\n\\end{description*}\n",
            "text/markdown": "pclass\n:   0survived\n:   0name\n:   0sex\n:   0age\n:   0sibsp\n:   0parch\n:   0ticket\n:   0fare\n:   0cabin\n:   0embarked\n:   0\n\n",
            "text/html": [
              "<style>\n",
              ".dl-inline {width: auto; margin:0; padding: 0}\n",
              ".dl-inline>dt, .dl-inline>dd {float: none; width: auto; display: inline-block}\n",
              ".dl-inline>dt::after {content: \":\\0020\"; padding-right: .5ex}\n",
              ".dl-inline>dt:not(:first-of-type) {padding-left: .5ex}\n",
              "</style><dl class=dl-inline><dt>pclass</dt><dd>0</dd><dt>survived</dt><dd>0</dd><dt>name</dt><dd>0</dd><dt>sex</dt><dd>0</dd><dt>age</dt><dd>0</dd><dt>sibsp</dt><dd>0</dd><dt>parch</dt><dd>0</dd><dt>ticket</dt><dd>0</dd><dt>fare</dt><dd>0</dd><dt>cabin</dt><dd>0</dd><dt>embarked</dt><dd>0</dd></dl>\n"
            ]
          },
          "metadata": {
            "tags": []
          }
        }
      ]
    },
    {
      "cell_type": "code",
      "metadata": {
        "id": "TvlzzvcBGsuZ",
        "outputId": "fc36db3d-f2cf-46ee-d713-e46577156063",
        "colab": {
          "base_uri": "https://localhost:8080/",
          "height": 437
        }
      },
      "source": [
        "# 성별 승성객 수 시각화\n",
        "frq_sex <- table(titanic_omit$sex)\n",
        "barplot(frq_sex)"
      ],
      "execution_count": null,
      "outputs": [
        {
          "output_type": "display_data",
          "data": {
            "image/png": "[encoded data removed]",
            "text/plain": [
              "plot without title"
            ]
          },
          "metadata": {
            "tags": [],
            "image/png": {
              "width": 420,
              "height": 420
            }
          }
        }
      ]
    },
    {
      "cell_type": "code",
      "metadata": {
        "id": "_X9ctnG9Jw_i",
        "outputId": "8578f206-2a69-4038-932f-644f6cf79c2d",
        "colab": {
          "base_uri": "https://localhost:8080/",
          "height": 34
        }
      },
      "source": [
        "# 작업한 내용을 파일에 저장하기\n",
        "# write.csv('저장경로', row.names=F) : csv 파일로 저장\n",
        "# save(객체, '저장경로') : R용 data 파일로 저장\n",
        "getwd()"
      ],
      "execution_count": null,
      "outputs": [
        {
          "output_type": "display_data",
          "data": {
            "text/plain": [
              "[1] \"/content\""
            ],
            "text/latex": "'/content'",
            "text/markdown": "'/content'",
            "text/html": [
              "'/content'"
            ]
          },
          "metadata": {
            "tags": []
          }
        }
      ]
    },
    {
      "cell_type": "code",
      "metadata": {
        "id": "v9jm0p8KKgAw"
      },
      "source": [
        "write.csv(titanic_omit,'titanic_omit.csv') # 타이타닉 데이테프레임을 titanic_omit.csv 이라는 파일을 현재경로에 저장"
      ],
      "execution_count": null,
      "outputs": []
    },
    {
      "cell_type": "code",
      "metadata": {
        "id": "dKEGsd0nLclJ"
      },
      "source": [
        "write.csv(titanic_omit,'titanic_omit_norow.csv', row.names=F) # 타이타닉 데이테프레임을 titanic_omit.csv 이라는 파일을 현재경로에 저장(row.name이 없게)"
      ],
      "execution_count": null,
      "outputs": []
    },
    {
      "cell_type": "code",
      "metadata": {
        "id": "WL-BYW00L8dP"
      },
      "source": [
        "save(titanic_omit, file='titanic_save.rdata') # 타이타닉 데이테프레임을 R전용 데이터 파일로 저장(호환성을 위해 csv로 저장하는 것을 권장함)"
      ],
      "execution_count": null,
      "outputs": []
    },
    {
      "cell_type": "code",
      "metadata": {
        "id": "yVACZ8xrQq-h",
        "outputId": "08b181d4-97b3-4ad1-beaf-e68dc324c1bf",
        "colab": {
          "base_uri": "https://localhost:8080/",
          "height": 183
        }
      },
      "source": [
        "# ANSI 우편번호 데이터 읽기\n",
        "\n",
        "# zipcode <- read.csv('https://raw.githubusercontent.com/gyujin0450/dataset/master/zipcode_2013.txt')\n",
        "# zipcode <- read.csv('https://raw.githubusercontent.com/gyujin0450/dataset/master/zipcode_2013.csv', encoding='euc-kr')\n",
        "# 한글이 제대로 출력되지 않음\n",
        "\n",
        "# 코랩틀 통해 데이터 파일을 읽어오는 경우\n",
        "# 파일의 인코딩은 반드시 반드시 UTF-8로 설정할 것~!!\n",
        "# 대욜량 파일의 경우, notepad-plus-plus.org 에서 note++ 설치\n",
        "zipcode <- read.csv('https://raw.githubusercontent.com/gyujin0450/dataset/master/zipcode_2013_utf8.csv', sep='\\t')\n",
        "head(zipcode,5)"
      ],
      "execution_count": null,
      "outputs": [
        {
          "output_type": "display_data",
          "data": {
            "text/plain": [
              "  ZIPCODE SIDO GUGUN  DONG    RI            BUNJI       SEQ\n",
              "1 135-806 서울 강남구 개포1동 경남아파트                1  \n",
              "2 135-807 서울 강남구 개포1동 우성3차아파트 (1∼6동)     2  \n",
              "3 135-806 서울 강남구 개포1동 우성9차아파트 (901∼902동) 3  \n",
              "4 135-770 서울 강남구 개포1동 주공아파트    (1∼16동)    4  \n",
              "5 135-805 서울 강남구 개포1동 주공아파트    (17∼40동)   5  "
            ],
            "text/latex": "A data.frame: 5 × 7\n\\begin{tabular}{r|lllllll}\n  & ZIPCODE & SIDO & GUGUN & DONG & RI & BUNJI & SEQ\\\\\n  & <fct> & <fct> & <fct> & <fct> & <fct> & <fct> & <int>\\\\\n\\hline\n\t1 & 135-806 & 서울 & 강남구 & 개포1동 & 경남아파트    &             & 1\\\\\n\t2 & 135-807 & 서울 & 강남구 & 개포1동 & 우성3차아파트 & (1∼6동)     & 2\\\\\n\t3 & 135-806 & 서울 & 강남구 & 개포1동 & 우성9차아파트 & (901∼902동) & 3\\\\\n\t4 & 135-770 & 서울 & 강남구 & 개포1동 & 주공아파트    & (1∼16동)    & 4\\\\\n\t5 & 135-805 & 서울 & 강남구 & 개포1동 & 주공아파트    & (17∼40동)   & 5\\\\\n\\end{tabular}\n",
            "text/markdown": "\nA data.frame: 5 × 7\n\n| <!--/--> | ZIPCODE &lt;fct&gt; | SIDO &lt;fct&gt; | GUGUN &lt;fct&gt; | DONG &lt;fct&gt; | RI &lt;fct&gt; | BUNJI &lt;fct&gt; | SEQ &lt;int&gt; |\n|---|---|---|---|---|---|---|---|\n| 1 | 135-806 | 서울 | 강남구 | 개포1동 | 경남아파트    | <!----> | 1 |\n| 2 | 135-807 | 서울 | 강남구 | 개포1동 | 우성3차아파트 | (1∼6동)     | 2 |\n| 3 | 135-806 | 서울 | 강남구 | 개포1동 | 우성9차아파트 | (901∼902동) | 3 |\n| 4 | 135-770 | 서울 | 강남구 | 개포1동 | 주공아파트    | (1∼16동)    | 4 |\n| 5 | 135-805 | 서울 | 강남구 | 개포1동 | 주공아파트    | (17∼40동)   | 5 |\n\n",
            "text/html": [
              "<table>\n",
              "<caption>A data.frame: 5 × 7</caption>\n",
              "<thead>\n",
              "\t<tr><th></th><th scope=col>ZIPCODE</th><th scope=col>SIDO</th><th scope=col>GUGUN</th><th scope=col>DONG</th><th scope=col>RI</th><th scope=col>BUNJI</th><th scope=col>SEQ</th></tr>\n",
              "\t<tr><th></th><th scope=col>&lt;fct&gt;</th><th scope=col>&lt;fct&gt;</th><th scope=col>&lt;fct&gt;</th><th scope=col>&lt;fct&gt;</th><th scope=col>&lt;fct&gt;</th><th scope=col>&lt;fct&gt;</th><th scope=col>&lt;int&gt;</th></tr>\n",
              "</thead>\n",
              "<tbody>\n",
              "\t<tr><th scope=row>1</th><td>135-806</td><td>서울</td><td>강남구</td><td>개포1동</td><td>경남아파트   </td><td>           </td><td>1</td></tr>\n",
              "\t<tr><th scope=row>2</th><td>135-807</td><td>서울</td><td>강남구</td><td>개포1동</td><td>우성3차아파트</td><td>(1∼6동)    </td><td>2</td></tr>\n",
              "\t<tr><th scope=row>3</th><td>135-806</td><td>서울</td><td>강남구</td><td>개포1동</td><td>우성9차아파트</td><td>(901∼902동)</td><td>3</td></tr>\n",
              "\t<tr><th scope=row>4</th><td>135-770</td><td>서울</td><td>강남구</td><td>개포1동</td><td>주공아파트   </td><td>(1∼16동)   </td><td>4</td></tr>\n",
              "\t<tr><th scope=row>5</th><td>135-805</td><td>서울</td><td>강남구</td><td>개포1동</td><td>주공아파트   </td><td>(17∼40동)  </td><td>5</td></tr>\n",
              "</tbody>\n",
              "</table>\n"
            ]
          },
          "metadata": {
            "tags": []
          }
        }
      ]
    },
    {
      "cell_type": "code",
      "metadata": {
        "id": "fdQgFmCAU3nc",
        "outputId": "f4acd58b-b967-4571-cd35-636fb70490f9",
        "colab": {
          "base_uri": "https://localhost:8080/",
          "height": 183
        }
      },
      "source": [
        "zip <- na.omit(zipcode) # na로 변경하고 지원야 함!!!\n",
        "head(zip,5)"
      ],
      "execution_count": null,
      "outputs": [
        {
          "output_type": "display_data",
          "data": {
            "text/plain": [
              "  ZIPCODE SIDO GUGUN  DONG    RI            BUNJI       SEQ\n",
              "1 135-806 서울 강남구 개포1동 경남아파트                1  \n",
              "2 135-807 서울 강남구 개포1동 우성3차아파트 (1∼6동)     2  \n",
              "3 135-806 서울 강남구 개포1동 우성9차아파트 (901∼902동) 3  \n",
              "4 135-770 서울 강남구 개포1동 주공아파트    (1∼16동)    4  \n",
              "5 135-805 서울 강남구 개포1동 주공아파트    (17∼40동)   5  "
            ],
            "text/latex": "A data.frame: 5 × 7\n\\begin{tabular}{r|lllllll}\n  & ZIPCODE & SIDO & GUGUN & DONG & RI & BUNJI & SEQ\\\\\n  & <fct> & <fct> & <fct> & <fct> & <fct> & <fct> & <int>\\\\\n\\hline\n\t1 & 135-806 & 서울 & 강남구 & 개포1동 & 경남아파트    &             & 1\\\\\n\t2 & 135-807 & 서울 & 강남구 & 개포1동 & 우성3차아파트 & (1∼6동)     & 2\\\\\n\t3 & 135-806 & 서울 & 강남구 & 개포1동 & 우성9차아파트 & (901∼902동) & 3\\\\\n\t4 & 135-770 & 서울 & 강남구 & 개포1동 & 주공아파트    & (1∼16동)    & 4\\\\\n\t5 & 135-805 & 서울 & 강남구 & 개포1동 & 주공아파트    & (17∼40동)   & 5\\\\\n\\end{tabular}\n",
            "text/markdown": "\nA data.frame: 5 × 7\n\n| <!--/--> | ZIPCODE &lt;fct&gt; | SIDO &lt;fct&gt; | GUGUN &lt;fct&gt; | DONG &lt;fct&gt; | RI &lt;fct&gt; | BUNJI &lt;fct&gt; | SEQ &lt;int&gt; |\n|---|---|---|---|---|---|---|---|\n| 1 | 135-806 | 서울 | 강남구 | 개포1동 | 경남아파트    | <!----> | 1 |\n| 2 | 135-807 | 서울 | 강남구 | 개포1동 | 우성3차아파트 | (1∼6동)     | 2 |\n| 3 | 135-806 | 서울 | 강남구 | 개포1동 | 우성9차아파트 | (901∼902동) | 3 |\n| 4 | 135-770 | 서울 | 강남구 | 개포1동 | 주공아파트    | (1∼16동)    | 4 |\n| 5 | 135-805 | 서울 | 강남구 | 개포1동 | 주공아파트    | (17∼40동)   | 5 |\n\n",
            "text/html": [
              "<table>\n",
              "<caption>A data.frame: 5 × 7</caption>\n",
              "<thead>\n",
              "\t<tr><th></th><th scope=col>ZIPCODE</th><th scope=col>SIDO</th><th scope=col>GUGUN</th><th scope=col>DONG</th><th scope=col>RI</th><th scope=col>BUNJI</th><th scope=col>SEQ</th></tr>\n",
              "\t<tr><th></th><th scope=col>&lt;fct&gt;</th><th scope=col>&lt;fct&gt;</th><th scope=col>&lt;fct&gt;</th><th scope=col>&lt;fct&gt;</th><th scope=col>&lt;fct&gt;</th><th scope=col>&lt;fct&gt;</th><th scope=col>&lt;int&gt;</th></tr>\n",
              "</thead>\n",
              "<tbody>\n",
              "\t<tr><th scope=row>1</th><td>135-806</td><td>서울</td><td>강남구</td><td>개포1동</td><td>경남아파트   </td><td>           </td><td>1</td></tr>\n",
              "\t<tr><th scope=row>2</th><td>135-807</td><td>서울</td><td>강남구</td><td>개포1동</td><td>우성3차아파트</td><td>(1∼6동)    </td><td>2</td></tr>\n",
              "\t<tr><th scope=row>3</th><td>135-806</td><td>서울</td><td>강남구</td><td>개포1동</td><td>우성9차아파트</td><td>(901∼902동)</td><td>3</td></tr>\n",
              "\t<tr><th scope=row>4</th><td>135-770</td><td>서울</td><td>강남구</td><td>개포1동</td><td>주공아파트   </td><td>(1∼16동)   </td><td>4</td></tr>\n",
              "\t<tr><th scope=row>5</th><td>135-805</td><td>서울</td><td>강남구</td><td>개포1동</td><td>주공아파트   </td><td>(17∼40동)  </td><td>5</td></tr>\n",
              "</tbody>\n",
              "</table>\n"
            ]
          },
          "metadata": {
            "tags": []
          }
        }
      ]
    },
    {
      "cell_type": "code",
      "metadata": {
        "id": "p8u52L_WU7tj",
        "outputId": "36cb6130-648e-4285-91f7-5dc331e55179",
        "colab": {
          "base_uri": "https://localhost:8080/",
          "height": 183
        }
      },
      "source": [
        "# 결측치를 NA로 변경함\n",
        "zipcode2 <- read.csv('https://raw.githubusercontent.com/gyujin0450/dataset/master/zipcode_2013_utf8.csv', sep='\\t', na.strings='')\n",
        "head(zipcode2,5)"
      ],
      "execution_count": null,
      "outputs": [
        {
          "output_type": "display_data",
          "data": {
            "text/plain": [
              "  ZIPCODE SIDO GUGUN  DONG    RI            BUNJI       SEQ\n",
              "1 135-806 서울 강남구 개포1동 경남아파트    NA          1  \n",
              "2 135-807 서울 강남구 개포1동 우성3차아파트 (1∼6동)     2  \n",
              "3 135-806 서울 강남구 개포1동 우성9차아파트 (901∼902동) 3  \n",
              "4 135-770 서울 강남구 개포1동 주공아파트    (1∼16동)    4  \n",
              "5 135-805 서울 강남구 개포1동 주공아파트    (17∼40동)   5  "
            ],
            "text/latex": "A data.frame: 5 × 7\n\\begin{tabular}{r|lllllll}\n  & ZIPCODE & SIDO & GUGUN & DONG & RI & BUNJI & SEQ\\\\\n  & <fct> & <fct> & <fct> & <fct> & <fct> & <fct> & <int>\\\\\n\\hline\n\t1 & 135-806 & 서울 & 강남구 & 개포1동 & 경남아파트    & NA          & 1\\\\\n\t2 & 135-807 & 서울 & 강남구 & 개포1동 & 우성3차아파트 & (1∼6동)     & 2\\\\\n\t3 & 135-806 & 서울 & 강남구 & 개포1동 & 우성9차아파트 & (901∼902동) & 3\\\\\n\t4 & 135-770 & 서울 & 강남구 & 개포1동 & 주공아파트    & (1∼16동)    & 4\\\\\n\t5 & 135-805 & 서울 & 강남구 & 개포1동 & 주공아파트    & (17∼40동)   & 5\\\\\n\\end{tabular}\n",
            "text/markdown": "\nA data.frame: 5 × 7\n\n| <!--/--> | ZIPCODE &lt;fct&gt; | SIDO &lt;fct&gt; | GUGUN &lt;fct&gt; | DONG &lt;fct&gt; | RI &lt;fct&gt; | BUNJI &lt;fct&gt; | SEQ &lt;int&gt; |\n|---|---|---|---|---|---|---|---|\n| 1 | 135-806 | 서울 | 강남구 | 개포1동 | 경남아파트    | NA          | 1 |\n| 2 | 135-807 | 서울 | 강남구 | 개포1동 | 우성3차아파트 | (1∼6동)     | 2 |\n| 3 | 135-806 | 서울 | 강남구 | 개포1동 | 우성9차아파트 | (901∼902동) | 3 |\n| 4 | 135-770 | 서울 | 강남구 | 개포1동 | 주공아파트    | (1∼16동)    | 4 |\n| 5 | 135-805 | 서울 | 강남구 | 개포1동 | 주공아파트    | (17∼40동)   | 5 |\n\n",
            "text/html": [
              "<table>\n",
              "<caption>A data.frame: 5 × 7</caption>\n",
              "<thead>\n",
              "\t<tr><th></th><th scope=col>ZIPCODE</th><th scope=col>SIDO</th><th scope=col>GUGUN</th><th scope=col>DONG</th><th scope=col>RI</th><th scope=col>BUNJI</th><th scope=col>SEQ</th></tr>\n",
              "\t<tr><th></th><th scope=col>&lt;fct&gt;</th><th scope=col>&lt;fct&gt;</th><th scope=col>&lt;fct&gt;</th><th scope=col>&lt;fct&gt;</th><th scope=col>&lt;fct&gt;</th><th scope=col>&lt;fct&gt;</th><th scope=col>&lt;int&gt;</th></tr>\n",
              "</thead>\n",
              "<tbody>\n",
              "\t<tr><th scope=row>1</th><td>135-806</td><td>서울</td><td>강남구</td><td>개포1동</td><td>경남아파트   </td><td>NA         </td><td>1</td></tr>\n",
              "\t<tr><th scope=row>2</th><td>135-807</td><td>서울</td><td>강남구</td><td>개포1동</td><td>우성3차아파트</td><td>(1∼6동)    </td><td>2</td></tr>\n",
              "\t<tr><th scope=row>3</th><td>135-806</td><td>서울</td><td>강남구</td><td>개포1동</td><td>우성9차아파트</td><td>(901∼902동)</td><td>3</td></tr>\n",
              "\t<tr><th scope=row>4</th><td>135-770</td><td>서울</td><td>강남구</td><td>개포1동</td><td>주공아파트   </td><td>(1∼16동)   </td><td>4</td></tr>\n",
              "\t<tr><th scope=row>5</th><td>135-805</td><td>서울</td><td>강남구</td><td>개포1동</td><td>주공아파트   </td><td>(17∼40동)  </td><td>5</td></tr>\n",
              "</tbody>\n",
              "</table>\n"
            ]
          },
          "metadata": {
            "tags": []
          }
        }
      ]
    },
    {
      "cell_type": "code",
      "metadata": {
        "id": "ZpQGs7RaV7ot",
        "outputId": "d0b113f3-d1e8-402b-cef9-e54e391f0d5c",
        "colab": {
          "base_uri": "https://localhost:8080/",
          "height": 34
        }
      },
      "source": [
        "colSums(is.na(zipcode2))"
      ],
      "execution_count": null,
      "outputs": [
        {
          "output_type": "display_data",
          "data": {
            "text/plain": [
              "ZIPCODE    SIDO   GUGUN    DONG      RI   BUNJI     SEQ \n",
              "      0       0     186       0   20489   31541       0 "
            ],
            "text/latex": "\\begin{description*}\n\\item[ZIPCODE] 0\n\\item[SIDO] 0\n\\item[GUGUN] 186\n\\item[DONG] 0\n\\item[RI] 20489\n\\item[BUNJI] 31541\n\\item[SEQ] 0\n\\end{description*}\n",
            "text/markdown": "ZIPCODE\n:   0SIDO\n:   0GUGUN\n:   186DONG\n:   0RI\n:   20489BUNJI\n:   31541SEQ\n:   0\n\n",
            "text/html": [
              "<style>\n",
              ".dl-inline {width: auto; margin:0; padding: 0}\n",
              ".dl-inline>dt, .dl-inline>dd {float: none; width: auto; display: inline-block}\n",
              ".dl-inline>dt::after {content: \":\\0020\"; padding-right: .5ex}\n",
              ".dl-inline>dt:not(:first-of-type) {padding-left: .5ex}\n",
              "</style><dl class=dl-inline><dt>ZIPCODE</dt><dd>0</dd><dt>SIDO</dt><dd>0</dd><dt>GUGUN</dt><dd>186</dd><dt>DONG</dt><dd>0</dd><dt>RI</dt><dd>20489</dd><dt>BUNJI</dt><dd>31541</dd><dt>SEQ</dt><dd>0</dd></dl>\n"
            ]
          },
          "metadata": {
            "tags": []
          }
        }
      ]
    },
    {
      "cell_type": "code",
      "metadata": {
        "id": "42chdHJDWSzl",
        "outputId": "77da0df4-3665-411b-cead-1295c0fec5a3",
        "colab": {
          "base_uri": "https://localhost:8080/",
          "height": 34
        }
      },
      "source": [
        "colSums(is.na(zip))"
      ],
      "execution_count": null,
      "outputs": [
        {
          "output_type": "display_data",
          "data": {
            "text/plain": [
              "ZIPCODE    SIDO   GUGUN    DONG      RI   BUNJI     SEQ \n",
              "      0       0       0       0       0       0       0 "
            ],
            "text/latex": "\\begin{description*}\n\\item[ZIPCODE] 0\n\\item[SIDO] 0\n\\item[GUGUN] 0\n\\item[DONG] 0\n\\item[RI] 0\n\\item[BUNJI] 0\n\\item[SEQ] 0\n\\end{description*}\n",
            "text/markdown": "ZIPCODE\n:   0SIDO\n:   0GUGUN\n:   0DONG\n:   0RI\n:   0BUNJI\n:   0SEQ\n:   0\n\n",
            "text/html": [
              "<style>\n",
              ".dl-inline {width: auto; margin:0; padding: 0}\n",
              ".dl-inline>dt, .dl-inline>dd {float: none; width: auto; display: inline-block}\n",
              ".dl-inline>dt::after {content: \":\\0020\"; padding-right: .5ex}\n",
              ".dl-inline>dt:not(:first-of-type) {padding-left: .5ex}\n",
              "</style><dl class=dl-inline><dt>ZIPCODE</dt><dd>0</dd><dt>SIDO</dt><dd>0</dd><dt>GUGUN</dt><dd>0</dd><dt>DONG</dt><dd>0</dd><dt>RI</dt><dd>0</dd><dt>BUNJI</dt><dd>0</dd><dt>SEQ</dt><dd>0</dd></dl>\n"
            ]
          },
          "metadata": {
            "tags": []
          }
        }
      ]
    },
    {
      "cell_type": "code",
      "metadata": {
        "id": "TFGbxEQqWcnf",
        "outputId": "e82e5269-4e5b-4017-c947-8f69927bd251",
        "colab": {
          "base_uri": "https://localhost:8080/",
          "height": 183
        }
      },
      "source": [
        "# 사원데이터 읽어오기\n",
        "emp <- read.csv('https://raw.githubusercontent.com/gyujin0450/dataset/master/EMPLOYEES.csv')\n",
        "head(emp,5)"
      ],
      "execution_count": null,
      "outputs": [
        {
          "output_type": "display_data",
          "data": {
            "text/plain": [
              "  EMPLOYEE_ID FIRST_NAME LAST_NAME EMAIL    PHONE_NUMBER HIRE_DATE  JOB_ID \n",
              "1 100         Steven     King      SKING    515.123.4567 2003-06-17 AD_PRES\n",
              "2 101         Neena      Kochhar   NKOCHHAR 515.123.4568 2005-09-21 AD_VP  \n",
              "3 102         Lex        De Haan   LDEHAAN  515.123.4569 2001-01-13 AD_VP  \n",
              "4 103         Alexander  Hunold    AHUNOLD  590.423.4567 2006-01-03 IT_PROG\n",
              "5 104         Bruce      Ernst     BERNST   590.423.4568 2007-05-21 IT_PROG\n",
              "  SALARY COMMISSION_PCT MANAGER_ID DEPARTMENT_ID\n",
              "1 24000  NA              NA        90           \n",
              "2 17000  NA             100        90           \n",
              "3 17000  NA             100        90           \n",
              "4  9000  NA             102        60           \n",
              "5  6000  NA             103        60           "
            ],
            "text/latex": "A data.frame: 5 × 11\n\\begin{tabular}{r|lllllllllll}\n  & EMPLOYEE\\_ID & FIRST\\_NAME & LAST\\_NAME & EMAIL & PHONE\\_NUMBER & HIRE\\_DATE & JOB\\_ID & SALARY & COMMISSION\\_PCT & MANAGER\\_ID & DEPARTMENT\\_ID\\\\\n  & <int> & <fct> & <fct> & <fct> & <fct> & <fct> & <fct> & <int> & <dbl> & <int> & <int>\\\\\n\\hline\n\t1 & 100 & Steven    & King    & SKING    & 515.123.4567 & 2003-06-17 & AD\\_PRES & 24000 & NA &  NA & 90\\\\\n\t2 & 101 & Neena     & Kochhar & NKOCHHAR & 515.123.4568 & 2005-09-21 & AD\\_VP   & 17000 & NA & 100 & 90\\\\\n\t3 & 102 & Lex       & De Haan & LDEHAAN  & 515.123.4569 & 2001-01-13 & AD\\_VP   & 17000 & NA & 100 & 90\\\\\n\t4 & 103 & Alexander & Hunold  & AHUNOLD  & 590.423.4567 & 2006-01-03 & IT\\_PROG &  9000 & NA & 102 & 60\\\\\n\t5 & 104 & Bruce     & Ernst   & BERNST   & 590.423.4568 & 2007-05-21 & IT\\_PROG &  6000 & NA & 103 & 60\\\\\n\\end{tabular}\n",
            "text/markdown": "\nA data.frame: 5 × 11\n\n| <!--/--> | EMPLOYEE_ID &lt;int&gt; | FIRST_NAME &lt;fct&gt; | LAST_NAME &lt;fct&gt; | EMAIL &lt;fct&gt; | PHONE_NUMBER &lt;fct&gt; | HIRE_DATE &lt;fct&gt; | JOB_ID &lt;fct&gt; | SALARY &lt;int&gt; | COMMISSION_PCT &lt;dbl&gt; | MANAGER_ID &lt;int&gt; | DEPARTMENT_ID &lt;int&gt; |\n|---|---|---|---|---|---|---|---|---|---|---|---|\n| 1 | 100 | Steven    | King    | SKING    | 515.123.4567 | 2003-06-17 | AD_PRES | 24000 | NA |  NA | 90 |\n| 2 | 101 | Neena     | Kochhar | NKOCHHAR | 515.123.4568 | 2005-09-21 | AD_VP   | 17000 | NA | 100 | 90 |\n| 3 | 102 | Lex       | De Haan | LDEHAAN  | 515.123.4569 | 2001-01-13 | AD_VP   | 17000 | NA | 100 | 90 |\n| 4 | 103 | Alexander | Hunold  | AHUNOLD  | 590.423.4567 | 2006-01-03 | IT_PROG |  9000 | NA | 102 | 60 |\n| 5 | 104 | Bruce     | Ernst   | BERNST   | 590.423.4568 | 2007-05-21 | IT_PROG |  6000 | NA | 103 | 60 |\n\n",
            "text/html": [
              "<table>\n",
              "<caption>A data.frame: 5 × 11</caption>\n",
              "<thead>\n",
              "\t<tr><th></th><th scope=col>EMPLOYEE_ID</th><th scope=col>FIRST_NAME</th><th scope=col>LAST_NAME</th><th scope=col>EMAIL</th><th scope=col>PHONE_NUMBER</th><th scope=col>HIRE_DATE</th><th scope=col>JOB_ID</th><th scope=col>SALARY</th><th scope=col>COMMISSION_PCT</th><th scope=col>MANAGER_ID</th><th scope=col>DEPARTMENT_ID</th></tr>\n",
              "\t<tr><th></th><th scope=col>&lt;int&gt;</th><th scope=col>&lt;fct&gt;</th><th scope=col>&lt;fct&gt;</th><th scope=col>&lt;fct&gt;</th><th scope=col>&lt;fct&gt;</th><th scope=col>&lt;fct&gt;</th><th scope=col>&lt;fct&gt;</th><th scope=col>&lt;int&gt;</th><th scope=col>&lt;dbl&gt;</th><th scope=col>&lt;int&gt;</th><th scope=col>&lt;int&gt;</th></tr>\n",
              "</thead>\n",
              "<tbody>\n",
              "\t<tr><th scope=row>1</th><td>100</td><td>Steven   </td><td>King   </td><td>SKING   </td><td>515.123.4567</td><td>2003-06-17</td><td>AD_PRES</td><td>24000</td><td>NA</td><td> NA</td><td>90</td></tr>\n",
              "\t<tr><th scope=row>2</th><td>101</td><td>Neena    </td><td>Kochhar</td><td>NKOCHHAR</td><td>515.123.4568</td><td>2005-09-21</td><td>AD_VP  </td><td>17000</td><td>NA</td><td>100</td><td>90</td></tr>\n",
              "\t<tr><th scope=row>3</th><td>102</td><td>Lex      </td><td>De Haan</td><td>LDEHAAN </td><td>515.123.4569</td><td>2001-01-13</td><td>AD_VP  </td><td>17000</td><td>NA</td><td>100</td><td>90</td></tr>\n",
              "\t<tr><th scope=row>4</th><td>103</td><td>Alexander</td><td>Hunold </td><td>AHUNOLD </td><td>590.423.4567</td><td>2006-01-03</td><td>IT_PROG</td><td> 9000</td><td>NA</td><td>102</td><td>60</td></tr>\n",
              "\t<tr><th scope=row>5</th><td>104</td><td>Bruce    </td><td>Ernst  </td><td>BERNST  </td><td>590.423.4568</td><td>2007-05-21</td><td>IT_PROG</td><td> 6000</td><td>NA</td><td>103</td><td>60</td></tr>\n",
              "</tbody>\n",
              "</table>\n"
            ]
          },
          "metadata": {
            "tags": []
          }
        }
      ]
    },
    {
      "cell_type": "code",
      "metadata": {
        "id": "8RP6ZayeW6jG",
        "outputId": "b3b98b42-d640-4694-b451-504b58643c36",
        "colab": {
          "base_uri": "https://localhost:8080/",
          "height": 420
        }
      },
      "source": [
        "# 수당(COMMISSION_PCT)이 없는 경우 0으로 대체\n",
        "# titanic$age[is.na(titanic$age)] <- mv\n",
        "# colSums(is.na(titanic))\n",
        "# emp$COMMISSION_PCT[is.na(emp$COMMISSION_PCT)] <- 0\n",
        "cnd <- is.na(emp$COMMISSION_PCT)\n",
        "emp$COMMISSION_PCT[cnd] <- 0\n",
        "head(emp,5)\n",
        "tail(emp,5)\n",
        "colSums(is.na(emp))"
      ],
      "execution_count": null,
      "outputs": [
        {
          "output_type": "display_data",
          "data": {
            "text/plain": [
              "  EMPLOYEE_ID FIRST_NAME LAST_NAME EMAIL    PHONE_NUMBER HIRE_DATE  JOB_ID \n",
              "1 100         Steven     King      SKING    515.123.4567 2003-06-17 AD_PRES\n",
              "2 101         Neena      Kochhar   NKOCHHAR 515.123.4568 2005-09-21 AD_VP  \n",
              "3 102         Lex        De Haan   LDEHAAN  515.123.4569 2001-01-13 AD_VP  \n",
              "4 103         Alexander  Hunold    AHUNOLD  590.423.4567 2006-01-03 IT_PROG\n",
              "5 104         Bruce      Ernst     BERNST   590.423.4568 2007-05-21 IT_PROG\n",
              "  SALARY COMMISSION_PCT MANAGER_ID DEPARTMENT_ID\n",
              "1 24000  0               NA        90           \n",
              "2 17000  0              100        90           \n",
              "3 17000  0              100        90           \n",
              "4  9000  0              102        60           \n",
              "5  6000  0              103        60           "
            ],
            "text/latex": "A data.frame: 5 × 11\n\\begin{tabular}{r|lllllllllll}\n  & EMPLOYEE\\_ID & FIRST\\_NAME & LAST\\_NAME & EMAIL & PHONE\\_NUMBER & HIRE\\_DATE & JOB\\_ID & SALARY & COMMISSION\\_PCT & MANAGER\\_ID & DEPARTMENT\\_ID\\\\\n  & <int> & <fct> & <fct> & <fct> & <fct> & <fct> & <fct> & <int> & <dbl> & <int> & <int>\\\\\n\\hline\n\t1 & 100 & Steven    & King    & SKING    & 515.123.4567 & 2003-06-17 & AD\\_PRES & 24000 & 0 &  NA & 90\\\\\n\t2 & 101 & Neena     & Kochhar & NKOCHHAR & 515.123.4568 & 2005-09-21 & AD\\_VP   & 17000 & 0 & 100 & 90\\\\\n\t3 & 102 & Lex       & De Haan & LDEHAAN  & 515.123.4569 & 2001-01-13 & AD\\_VP   & 17000 & 0 & 100 & 90\\\\\n\t4 & 103 & Alexander & Hunold  & AHUNOLD  & 590.423.4567 & 2006-01-03 & IT\\_PROG &  9000 & 0 & 102 & 60\\\\\n\t5 & 104 & Bruce     & Ernst   & BERNST   & 590.423.4568 & 2007-05-21 & IT\\_PROG &  6000 & 0 & 103 & 60\\\\\n\\end{tabular}\n",
            "text/markdown": "\nA data.frame: 5 × 11\n\n| <!--/--> | EMPLOYEE_ID &lt;int&gt; | FIRST_NAME &lt;fct&gt; | LAST_NAME &lt;fct&gt; | EMAIL &lt;fct&gt; | PHONE_NUMBER &lt;fct&gt; | HIRE_DATE &lt;fct&gt; | JOB_ID &lt;fct&gt; | SALARY &lt;int&gt; | COMMISSION_PCT &lt;dbl&gt; | MANAGER_ID &lt;int&gt; | DEPARTMENT_ID &lt;int&gt; |\n|---|---|---|---|---|---|---|---|---|---|---|---|\n| 1 | 100 | Steven    | King    | SKING    | 515.123.4567 | 2003-06-17 | AD_PRES | 24000 | 0 |  NA | 90 |\n| 2 | 101 | Neena     | Kochhar | NKOCHHAR | 515.123.4568 | 2005-09-21 | AD_VP   | 17000 | 0 | 100 | 90 |\n| 3 | 102 | Lex       | De Haan | LDEHAAN  | 515.123.4569 | 2001-01-13 | AD_VP   | 17000 | 0 | 100 | 90 |\n| 4 | 103 | Alexander | Hunold  | AHUNOLD  | 590.423.4567 | 2006-01-03 | IT_PROG |  9000 | 0 | 102 | 60 |\n| 5 | 104 | Bruce     | Ernst   | BERNST   | 590.423.4568 | 2007-05-21 | IT_PROG |  6000 | 0 | 103 | 60 |\n\n",
            "text/html": [
              "<table>\n",
              "<caption>A data.frame: 5 × 11</caption>\n",
              "<thead>\n",
              "\t<tr><th></th><th scope=col>EMPLOYEE_ID</th><th scope=col>FIRST_NAME</th><th scope=col>LAST_NAME</th><th scope=col>EMAIL</th><th scope=col>PHONE_NUMBER</th><th scope=col>HIRE_DATE</th><th scope=col>JOB_ID</th><th scope=col>SALARY</th><th scope=col>COMMISSION_PCT</th><th scope=col>MANAGER_ID</th><th scope=col>DEPARTMENT_ID</th></tr>\n",
              "\t<tr><th></th><th scope=col>&lt;int&gt;</th><th scope=col>&lt;fct&gt;</th><th scope=col>&lt;fct&gt;</th><th scope=col>&lt;fct&gt;</th><th scope=col>&lt;fct&gt;</th><th scope=col>&lt;fct&gt;</th><th scope=col>&lt;fct&gt;</th><th scope=col>&lt;int&gt;</th><th scope=col>&lt;dbl&gt;</th><th scope=col>&lt;int&gt;</th><th scope=col>&lt;int&gt;</th></tr>\n",
              "</thead>\n",
              "<tbody>\n",
              "\t<tr><th scope=row>1</th><td>100</td><td>Steven   </td><td>King   </td><td>SKING   </td><td>515.123.4567</td><td>2003-06-17</td><td>AD_PRES</td><td>24000</td><td>0</td><td> NA</td><td>90</td></tr>\n",
              "\t<tr><th scope=row>2</th><td>101</td><td>Neena    </td><td>Kochhar</td><td>NKOCHHAR</td><td>515.123.4568</td><td>2005-09-21</td><td>AD_VP  </td><td>17000</td><td>0</td><td>100</td><td>90</td></tr>\n",
              "\t<tr><th scope=row>3</th><td>102</td><td>Lex      </td><td>De Haan</td><td>LDEHAAN </td><td>515.123.4569</td><td>2001-01-13</td><td>AD_VP  </td><td>17000</td><td>0</td><td>100</td><td>90</td></tr>\n",
              "\t<tr><th scope=row>4</th><td>103</td><td>Alexander</td><td>Hunold </td><td>AHUNOLD </td><td>590.423.4567</td><td>2006-01-03</td><td>IT_PROG</td><td> 9000</td><td>0</td><td>102</td><td>60</td></tr>\n",
              "\t<tr><th scope=row>5</th><td>104</td><td>Bruce    </td><td>Ernst  </td><td>BERNST  </td><td>590.423.4568</td><td>2007-05-21</td><td>IT_PROG</td><td> 6000</td><td>0</td><td>103</td><td>60</td></tr>\n",
              "</tbody>\n",
              "</table>\n"
            ]
          },
          "metadata": {
            "tags": []
          }
        },
        {
          "output_type": "display_data",
          "data": {
            "text/plain": [
              "    EMPLOYEE_ID FIRST_NAME LAST_NAME EMAIL    PHONE_NUMBER HIRE_DATE \n",
              "103 202         Pat        Fay       PFAY     603.123.6666 2005-08-17\n",
              "104 203         Susan      Mavris    SMAVRIS  515.123.7777 2002-06-07\n",
              "105 204         Hermann    Baer      HBAER    515.123.8888 2002-06-07\n",
              "106 205         Shelley    Higgins   SHIGGINS 515.123.8080 2002-06-07\n",
              "107 206         William    Gietz     WGIETZ   515.123.8181 2002-06-07\n",
              "    JOB_ID     SALARY COMMISSION_PCT MANAGER_ID DEPARTMENT_ID\n",
              "103 MK_REP      6000  0              201         20          \n",
              "104 HR_REP      6500  0              101         40          \n",
              "105 PR_REP     10000  0              101         70          \n",
              "106 AC_MGR     12008  0              101        110          \n",
              "107 AC_ACCOUNT  8300  0              205        110          "
            ],
            "text/latex": "A data.frame: 5 × 11\n\\begin{tabular}{r|lllllllllll}\n  & EMPLOYEE\\_ID & FIRST\\_NAME & LAST\\_NAME & EMAIL & PHONE\\_NUMBER & HIRE\\_DATE & JOB\\_ID & SALARY & COMMISSION\\_PCT & MANAGER\\_ID & DEPARTMENT\\_ID\\\\\n  & <int> & <fct> & <fct> & <fct> & <fct> & <fct> & <fct> & <int> & <dbl> & <int> & <int>\\\\\n\\hline\n\t103 & 202 & Pat     & Fay     & PFAY     & 603.123.6666 & 2005-08-17 & MK\\_REP     &  6000 & 0 & 201 &  20\\\\\n\t104 & 203 & Susan   & Mavris  & SMAVRIS  & 515.123.7777 & 2002-06-07 & HR\\_REP     &  6500 & 0 & 101 &  40\\\\\n\t105 & 204 & Hermann & Baer    & HBAER    & 515.123.8888 & 2002-06-07 & PR\\_REP     & 10000 & 0 & 101 &  70\\\\\n\t106 & 205 & Shelley & Higgins & SHIGGINS & 515.123.8080 & 2002-06-07 & AC\\_MGR     & 12008 & 0 & 101 & 110\\\\\n\t107 & 206 & William & Gietz   & WGIETZ   & 515.123.8181 & 2002-06-07 & AC\\_ACCOUNT &  8300 & 0 & 205 & 110\\\\\n\\end{tabular}\n",
            "text/markdown": "\nA data.frame: 5 × 11\n\n| <!--/--> | EMPLOYEE_ID &lt;int&gt; | FIRST_NAME &lt;fct&gt; | LAST_NAME &lt;fct&gt; | EMAIL &lt;fct&gt; | PHONE_NUMBER &lt;fct&gt; | HIRE_DATE &lt;fct&gt; | JOB_ID &lt;fct&gt; | SALARY &lt;int&gt; | COMMISSION_PCT &lt;dbl&gt; | MANAGER_ID &lt;int&gt; | DEPARTMENT_ID &lt;int&gt; |\n|---|---|---|---|---|---|---|---|---|---|---|---|\n| 103 | 202 | Pat     | Fay     | PFAY     | 603.123.6666 | 2005-08-17 | MK_REP     |  6000 | 0 | 201 |  20 |\n| 104 | 203 | Susan   | Mavris  | SMAVRIS  | 515.123.7777 | 2002-06-07 | HR_REP     |  6500 | 0 | 101 |  40 |\n| 105 | 204 | Hermann | Baer    | HBAER    | 515.123.8888 | 2002-06-07 | PR_REP     | 10000 | 0 | 101 |  70 |\n| 106 | 205 | Shelley | Higgins | SHIGGINS | 515.123.8080 | 2002-06-07 | AC_MGR     | 12008 | 0 | 101 | 110 |\n| 107 | 206 | William | Gietz   | WGIETZ   | 515.123.8181 | 2002-06-07 | AC_ACCOUNT |  8300 | 0 | 205 | 110 |\n\n",
            "text/html": [
              "<table>\n",
              "<caption>A data.frame: 5 × 11</caption>\n",
              "<thead>\n",
              "\t<tr><th></th><th scope=col>EMPLOYEE_ID</th><th scope=col>FIRST_NAME</th><th scope=col>LAST_NAME</th><th scope=col>EMAIL</th><th scope=col>PHONE_NUMBER</th><th scope=col>HIRE_DATE</th><th scope=col>JOB_ID</th><th scope=col>SALARY</th><th scope=col>COMMISSION_PCT</th><th scope=col>MANAGER_ID</th><th scope=col>DEPARTMENT_ID</th></tr>\n",
              "\t<tr><th></th><th scope=col>&lt;int&gt;</th><th scope=col>&lt;fct&gt;</th><th scope=col>&lt;fct&gt;</th><th scope=col>&lt;fct&gt;</th><th scope=col>&lt;fct&gt;</th><th scope=col>&lt;fct&gt;</th><th scope=col>&lt;fct&gt;</th><th scope=col>&lt;int&gt;</th><th scope=col>&lt;dbl&gt;</th><th scope=col>&lt;int&gt;</th><th scope=col>&lt;int&gt;</th></tr>\n",
              "</thead>\n",
              "<tbody>\n",
              "\t<tr><th scope=row>103</th><td>202</td><td>Pat    </td><td>Fay    </td><td>PFAY    </td><td>603.123.6666</td><td>2005-08-17</td><td>MK_REP    </td><td> 6000</td><td>0</td><td>201</td><td> 20</td></tr>\n",
              "\t<tr><th scope=row>104</th><td>203</td><td>Susan  </td><td>Mavris </td><td>SMAVRIS </td><td>515.123.7777</td><td>2002-06-07</td><td>HR_REP    </td><td> 6500</td><td>0</td><td>101</td><td> 40</td></tr>\n",
              "\t<tr><th scope=row>105</th><td>204</td><td>Hermann</td><td>Baer   </td><td>HBAER   </td><td>515.123.8888</td><td>2002-06-07</td><td>PR_REP    </td><td>10000</td><td>0</td><td>101</td><td> 70</td></tr>\n",
              "\t<tr><th scope=row>106</th><td>205</td><td>Shelley</td><td>Higgins</td><td>SHIGGINS</td><td>515.123.8080</td><td>2002-06-07</td><td>AC_MGR    </td><td>12008</td><td>0</td><td>101</td><td>110</td></tr>\n",
              "\t<tr><th scope=row>107</th><td>206</td><td>William</td><td>Gietz  </td><td>WGIETZ  </td><td>515.123.8181</td><td>2002-06-07</td><td>AC_ACCOUNT</td><td> 8300</td><td>0</td><td>205</td><td>110</td></tr>\n",
              "</tbody>\n",
              "</table>\n"
            ]
          },
          "metadata": {
            "tags": []
          }
        },
        {
          "output_type": "display_data",
          "data": {
            "text/plain": [
              "   EMPLOYEE_ID     FIRST_NAME      LAST_NAME          EMAIL   PHONE_NUMBER \n",
              "             0              0              0              0              0 \n",
              "     HIRE_DATE         JOB_ID         SALARY COMMISSION_PCT     MANAGER_ID \n",
              "             0              0              0              0              1 \n",
              " DEPARTMENT_ID \n",
              "             1 "
            ],
            "text/latex": "\\begin{description*}\n\\item[EMPLOYEE\\textbackslash{}\\_ID] 0\n\\item[FIRST\\textbackslash{}\\_NAME] 0\n\\item[LAST\\textbackslash{}\\_NAME] 0\n\\item[EMAIL] 0\n\\item[PHONE\\textbackslash{}\\_NUMBER] 0\n\\item[HIRE\\textbackslash{}\\_DATE] 0\n\\item[JOB\\textbackslash{}\\_ID] 0\n\\item[SALARY] 0\n\\item[COMMISSION\\textbackslash{}\\_PCT] 0\n\\item[MANAGER\\textbackslash{}\\_ID] 1\n\\item[DEPARTMENT\\textbackslash{}\\_ID] 1\n\\end{description*}\n",
            "text/markdown": "EMPLOYEE_ID\n:   0FIRST_NAME\n:   0LAST_NAME\n:   0EMAIL\n:   0PHONE_NUMBER\n:   0HIRE_DATE\n:   0JOB_ID\n:   0SALARY\n:   0COMMISSION_PCT\n:   0MANAGER_ID\n:   1DEPARTMENT_ID\n:   1\n\n",
            "text/html": [
              "<style>\n",
              ".dl-inline {width: auto; margin:0; padding: 0}\n",
              ".dl-inline>dt, .dl-inline>dd {float: none; width: auto; display: inline-block}\n",
              ".dl-inline>dt::after {content: \":\\0020\"; padding-right: .5ex}\n",
              ".dl-inline>dt:not(:first-of-type) {padding-left: .5ex}\n",
              "</style><dl class=dl-inline><dt>EMPLOYEE_ID</dt><dd>0</dd><dt>FIRST_NAME</dt><dd>0</dd><dt>LAST_NAME</dt><dd>0</dd><dt>EMAIL</dt><dd>0</dd><dt>PHONE_NUMBER</dt><dd>0</dd><dt>HIRE_DATE</dt><dd>0</dd><dt>JOB_ID</dt><dd>0</dd><dt>SALARY</dt><dd>0</dd><dt>COMMISSION_PCT</dt><dd>0</dd><dt>MANAGER_ID</dt><dd>1</dd><dt>DEPARTMENT_ID</dt><dd>1</dd></dl>\n"
            ]
          },
          "metadata": {
            "tags": []
          }
        }
      ]
    },
    {
      "cell_type": "code",
      "metadata": {
        "id": "ADxAPOClYEgs",
        "outputId": "81663e49-119d-4336-f8ad-49827c9a827a",
        "colab": {
          "base_uri": "https://localhost:8080/",
          "height": 233
        }
      },
      "source": [
        "str(emp)"
      ],
      "execution_count": null,
      "outputs": [
        {
          "output_type": "stream",
          "text": [
            "'data.frame':\t107 obs. of  11 variables:\n",
            " $ EMPLOYEE_ID   : int  100 101 102 103 104 105 106 107 108 109 ...\n",
            " $ FIRST_NAME    : Factor w/ 91 levels \"Adam\",\"Alana\",..: 80 64 51 4 11 18 88 20 61 16 ...\n",
            " $ LAST_NAME     : Factor w/ 102 levels \"Abel\",\"Ande\",..: 50 51 20 44 24 4 74 57 38 27 ...\n",
            " $ EMAIL         : Factor w/ 107 levels \"ABANDA\",\"ABULL\",..: 90 74 61 6 11 17 104 23 73 19 ...\n",
            " $ PHONE_NUMBER  : Factor w/ 107 levels \"011.44.1343.329268\",..: 37 38 39 58 59 60 57 61 50 45 ...\n",
            " $ HIRE_DATE     : Factor w/ 98 levels \"2001-01-13\",\"2002-06-07\",..: 8 40 1 49 79 34 51 73 4 3 ...\n",
            " $ JOB_ID        : Factor w/ 19 levels \"AC_ACCOUNT\",\"AC_MGR\",..: 4 5 5 9 9 9 9 9 7 6 ...\n",
            " $ SALARY        : int  24000 17000 17000 9000 6000 4800 4800 4200 12008 9000 ...\n",
            " $ COMMISSION_PCT: num  0 0 0 0 0 0 0 0 0 0 ...\n",
            " $ MANAGER_ID    : int  NA 100 100 102 103 103 103 103 101 108 ...\n",
            " $ DEPARTMENT_ID : int  90 90 90 60 60 60 60 60 100 100 ...\n"
          ],
          "name": "stdout"
        }
      ]
    },
    {
      "cell_type": "code",
      "metadata": {
        "id": "c5vW62EqYLmO",
        "outputId": "1d272931-2ec9-422f-e125-bdf5667b14d8",
        "colab": {
          "base_uri": "https://localhost:8080/",
          "height": 449
        }
      },
      "source": [
        "summary(emp)"
      ],
      "execution_count": null,
      "outputs": [
        {
          "output_type": "display_data",
          "data": {
            "text/plain": [
              "  EMPLOYEE_ID        FIRST_NAME     LAST_NAME       EMAIL    \n",
              " Min.   :100.0   David    : 3   Cambrault: 2   ABANDA  :  1  \n",
              " 1st Qu.:126.5   John     : 3   Grant    : 2   ABULL   :  1  \n",
              " Median :153.0   Peter    : 3   King     : 2   ACABRIO :  1  \n",
              " Mean   :153.0   Alexander: 2   Smith    : 2   AERRAZUR:  1  \n",
              " 3rd Qu.:179.5   James    : 2   Taylor   : 2   AFRIPP  :  1  \n",
              " Max.   :206.0   Jennifer : 2   Abel     : 1   AHUNOLD :  1  \n",
              "                 (Other)  :92   (Other)  :96   (Other) :101  \n",
              "             PHONE_NUMBER      HIRE_DATE         JOB_ID       SALARY     \n",
              " 011.44.1343.329268:  1   2002-06-07: 4   SA_REP    :30   Min.   : 2100  \n",
              " 011.44.1343.529268:  1   2005-03-10: 2   SH_CLERK  :20   1st Qu.: 3100  \n",
              " 011.44.1343.629268:  1   2005-08-20: 2   ST_CLERK  :20   Median : 6200  \n",
              " 011.44.1343.729268:  1   2006-01-24: 2   FI_ACCOUNT: 5   Mean   : 6462  \n",
              " 011.44.1343.829268:  1   2007-02-07: 2   IT_PROG   : 5   3rd Qu.: 8900  \n",
              " 011.44.1343.929268:  1   2007-06-21: 2   PU_CLERK  : 5   Max.   :24000  \n",
              " (Other)           :101   (Other)   :93   (Other)   :22                  \n",
              " COMMISSION_PCT     MANAGER_ID    DEPARTMENT_ID   \n",
              " Min.   :0.0000   Min.   :100.0   Min.   : 10.00  \n",
              " 1st Qu.:0.0000   1st Qu.:108.0   1st Qu.: 50.00  \n",
              " Median :0.0000   Median :122.0   Median : 50.00  \n",
              " Mean   :0.0729   Mean   :124.8   Mean   : 63.21  \n",
              " 3rd Qu.:0.1500   3rd Qu.:145.0   3rd Qu.: 80.00  \n",
              " Max.   :0.4000   Max.   :205.0   Max.   :110.00  \n",
              "                  NA's   :1       NA's   :1       "
            ]
          },
          "metadata": {
            "tags": []
          }
        }
      ]
    },
    {
      "cell_type": "code",
      "metadata": {
        "id": "DSs1JBI0axU8",
        "outputId": "5f6870be-062b-40d5-f14b-ace687504900",
        "colab": {
          "base_uri": "https://localhost:8080/",
          "height": 143
        }
      },
      "source": [
        "# 연습문제\n",
        "# 1973년, 뉴욕에서 수집한 일간 대기질 데이터인\n",
        "# airquality를 이용해서 결측치를 알아 보고\n",
        "# 적절한 값으로 대체해보세요\n",
        "str(airquality)"
      ],
      "execution_count": null,
      "outputs": [
        {
          "output_type": "stream",
          "text": [
            "'data.frame':\t153 obs. of  6 variables:\n",
            " $ Ozone  : int  41 36 12 18 NA 28 23 19 8 NA ...\n",
            " $ Solar.R: int  190 118 149 313 NA NA 299 99 19 194 ...\n",
            " $ Wind   : num  7.4 8 12.6 11.5 14.3 14.9 8.6 13.8 20.1 8.6 ...\n",
            " $ Temp   : int  67 72 74 62 56 66 65 59 61 69 ...\n",
            " $ Month  : int  5 5 5 5 5 5 5 5 5 5 ...\n",
            " $ Day    : int  1 2 3 4 5 6 7 8 9 10 ...\n"
          ],
          "name": "stdout"
        }
      ]
    },
    {
      "cell_type": "code",
      "metadata": {
        "id": "_8majbGabVdd",
        "outputId": "4787ff49-9de7-42d8-88bb-d6c71d6a614e",
        "colab": {
          "base_uri": "https://localhost:8080/",
          "height": 305
        }
      },
      "source": [
        "summary(airquality)"
      ],
      "execution_count": null,
      "outputs": [
        {
          "output_type": "display_data",
          "data": {
            "text/plain": [
              "     Ozone           Solar.R           Wind             Temp      \n",
              " Min.   :  1.00   Min.   :  7.0   Min.   : 1.700   Min.   :56.00  \n",
              " 1st Qu.: 18.00   1st Qu.:115.8   1st Qu.: 7.400   1st Qu.:72.00  \n",
              " Median : 31.50   Median :205.0   Median : 9.700   Median :79.00  \n",
              " Mean   : 42.13   Mean   :185.9   Mean   : 9.958   Mean   :77.88  \n",
              " 3rd Qu.: 63.25   3rd Qu.:258.8   3rd Qu.:11.500   3rd Qu.:85.00  \n",
              " Max.   :168.00   Max.   :334.0   Max.   :20.700   Max.   :97.00  \n",
              " NA's   :37       NA's   :7                                       \n",
              "     Month            Day      \n",
              " Min.   :5.000   Min.   : 1.0  \n",
              " 1st Qu.:6.000   1st Qu.: 8.0  \n",
              " Median :7.000   Median :16.0  \n",
              " Mean   :6.993   Mean   :15.8  \n",
              " 3rd Qu.:8.000   3rd Qu.:23.0  \n",
              " Max.   :9.000   Max.   :31.0  \n",
              "                               "
            ]
          },
          "metadata": {
            "tags": []
          }
        }
      ]
    },
    {
      "cell_type": "code",
      "metadata": {
        "id": "-7_ZTCrmbcOW",
        "outputId": "d3b318fa-80e3-42c5-dbe8-c4047ce1836d",
        "colab": {
          "base_uri": "https://localhost:8080/",
          "height": 34
        }
      },
      "source": [
        "colSums(is.na(airquality))"
      ],
      "execution_count": null,
      "outputs": [
        {
          "output_type": "display_data",
          "data": {
            "text/plain": [
              "  Ozone Solar.R    Wind    Temp   Month     Day \n",
              "     37       7       0       0       0       0 "
            ],
            "text/latex": "\\begin{description*}\n\\item[Ozone] 37\n\\item[Solar.R] 7\n\\item[Wind] 0\n\\item[Temp] 0\n\\item[Month] 0\n\\item[Day] 0\n\\end{description*}\n",
            "text/markdown": "Ozone\n:   37Solar.R\n:   7Wind\n:   0Temp\n:   0Month\n:   0Day\n:   0\n\n",
            "text/html": [
              "<style>\n",
              ".dl-inline {width: auto; margin:0; padding: 0}\n",
              ".dl-inline>dt, .dl-inline>dd {float: none; width: auto; display: inline-block}\n",
              ".dl-inline>dt::after {content: \":\\0020\"; padding-right: .5ex}\n",
              ".dl-inline>dt:not(:first-of-type) {padding-left: .5ex}\n",
              "</style><dl class=dl-inline><dt>Ozone</dt><dd>37</dd><dt>Solar.R</dt><dd>7</dd><dt>Wind</dt><dd>0</dd><dt>Temp</dt><dd>0</dd><dt>Month</dt><dd>0</dd><dt>Day</dt><dd>0</dd></dl>\n"
            ]
          },
          "metadata": {
            "tags": []
          }
        }
      ]
    },
    {
      "cell_type": "code",
      "metadata": {
        "id": "ps6V_QKLbsbO",
        "outputId": "8f4ac23a-25ae-4601-a105-bac010830280",
        "colab": {
          "base_uri": "https://localhost:8080/",
          "height": 288
        }
      },
      "source": [
        "head(airquality,10)"
      ],
      "execution_count": null,
      "outputs": [
        {
          "output_type": "display_data",
          "data": {
            "text/plain": [
              "   Ozone Solar.R Wind Temp Month Day\n",
              "1  41    190      7.4 67   5      1 \n",
              "2  36    118      8.0 72   5      2 \n",
              "3  12    149     12.6 74   5      3 \n",
              "4  18    313     11.5 62   5      4 \n",
              "5  NA     NA     14.3 56   5      5 \n",
              "6  28     NA     14.9 66   5      6 \n",
              "7  23    299      8.6 65   5      7 \n",
              "8  19     99     13.8 59   5      8 \n",
              "9   8     19     20.1 61   5      9 \n",
              "10 NA    194      8.6 69   5     10 "
            ],
            "text/latex": "A data.frame: 10 × 6\n\\begin{tabular}{r|llllll}\n  & Ozone & Solar.R & Wind & Temp & Month & Day\\\\\n  & <int> & <int> & <dbl> & <int> & <int> & <int>\\\\\n\\hline\n\t1 & 41 & 190 &  7.4 & 67 & 5 &  1\\\\\n\t2 & 36 & 118 &  8.0 & 72 & 5 &  2\\\\\n\t3 & 12 & 149 & 12.6 & 74 & 5 &  3\\\\\n\t4 & 18 & 313 & 11.5 & 62 & 5 &  4\\\\\n\t5 & NA &  NA & 14.3 & 56 & 5 &  5\\\\\n\t6 & 28 &  NA & 14.9 & 66 & 5 &  6\\\\\n\t7 & 23 & 299 &  8.6 & 65 & 5 &  7\\\\\n\t8 & 19 &  99 & 13.8 & 59 & 5 &  8\\\\\n\t9 &  8 &  19 & 20.1 & 61 & 5 &  9\\\\\n\t10 & NA & 194 &  8.6 & 69 & 5 & 10\\\\\n\\end{tabular}\n",
            "text/markdown": "\nA data.frame: 10 × 6\n\n| <!--/--> | Ozone &lt;int&gt; | Solar.R &lt;int&gt; | Wind &lt;dbl&gt; | Temp &lt;int&gt; | Month &lt;int&gt; | Day &lt;int&gt; |\n|---|---|---|---|---|---|---|\n| 1 | 41 | 190 |  7.4 | 67 | 5 |  1 |\n| 2 | 36 | 118 |  8.0 | 72 | 5 |  2 |\n| 3 | 12 | 149 | 12.6 | 74 | 5 |  3 |\n| 4 | 18 | 313 | 11.5 | 62 | 5 |  4 |\n| 5 | NA |  NA | 14.3 | 56 | 5 |  5 |\n| 6 | 28 |  NA | 14.9 | 66 | 5 |  6 |\n| 7 | 23 | 299 |  8.6 | 65 | 5 |  7 |\n| 8 | 19 |  99 | 13.8 | 59 | 5 |  8 |\n| 9 |  8 |  19 | 20.1 | 61 | 5 |  9 |\n| 10 | NA | 194 |  8.6 | 69 | 5 | 10 |\n\n",
            "text/html": [
              "<table>\n",
              "<caption>A data.frame: 10 × 6</caption>\n",
              "<thead>\n",
              "\t<tr><th></th><th scope=col>Ozone</th><th scope=col>Solar.R</th><th scope=col>Wind</th><th scope=col>Temp</th><th scope=col>Month</th><th scope=col>Day</th></tr>\n",
              "\t<tr><th></th><th scope=col>&lt;int&gt;</th><th scope=col>&lt;int&gt;</th><th scope=col>&lt;dbl&gt;</th><th scope=col>&lt;int&gt;</th><th scope=col>&lt;int&gt;</th><th scope=col>&lt;int&gt;</th></tr>\n",
              "</thead>\n",
              "<tbody>\n",
              "\t<tr><th scope=row>1</th><td>41</td><td>190</td><td> 7.4</td><td>67</td><td>5</td><td> 1</td></tr>\n",
              "\t<tr><th scope=row>2</th><td>36</td><td>118</td><td> 8.0</td><td>72</td><td>5</td><td> 2</td></tr>\n",
              "\t<tr><th scope=row>3</th><td>12</td><td>149</td><td>12.6</td><td>74</td><td>5</td><td> 3</td></tr>\n",
              "\t<tr><th scope=row>4</th><td>18</td><td>313</td><td>11.5</td><td>62</td><td>5</td><td> 4</td></tr>\n",
              "\t<tr><th scope=row>5</th><td>NA</td><td> NA</td><td>14.3</td><td>56</td><td>5</td><td> 5</td></tr>\n",
              "\t<tr><th scope=row>6</th><td>28</td><td> NA</td><td>14.9</td><td>66</td><td>5</td><td> 6</td></tr>\n",
              "\t<tr><th scope=row>7</th><td>23</td><td>299</td><td> 8.6</td><td>65</td><td>5</td><td> 7</td></tr>\n",
              "\t<tr><th scope=row>8</th><td>19</td><td> 99</td><td>13.8</td><td>59</td><td>5</td><td> 8</td></tr>\n",
              "\t<tr><th scope=row>9</th><td> 8</td><td> 19</td><td>20.1</td><td>61</td><td>5</td><td> 9</td></tr>\n",
              "\t<tr><th scope=row>10</th><td>NA</td><td>194</td><td> 8.6</td><td>69</td><td>5</td><td>10</td></tr>\n",
              "</tbody>\n",
              "</table>\n"
            ]
          },
          "metadata": {
            "tags": []
          }
        }
      ]
    },
    {
      "cell_type": "code",
      "metadata": {
        "id": "LFuhY7ZdcB1v"
      },
      "source": [
        "# Ozone : 37 / Solar.R : 7\n"
      ],
      "execution_count": null,
      "outputs": []
    }
  ]
}