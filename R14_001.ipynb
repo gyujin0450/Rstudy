{
  "nbformat": 4,
  "nbformat_minor": 0,
  "metadata": {
    "colab": {
      "name": "R14_001.ipynb",
      "provenance": [],
      "authorship_tag": "ABX9TyMi5KkPrgV7g31ed3FWkdVy",
      "include_colab_link": true
    },
    "kernelspec": {
      "name": "ir",
      "display_name": "R"
    }
  },
  "cells": [
    {
      "cell_type": "markdown",
      "metadata": {
        "id": "view-in-github",
        "colab_type": "text"
      },
      "source": [
        "<a href=\"https://colab.research.google.com/github/gyujin0450/Rstudy/blob/master/R14_001.ipynb\" target=\"_parent\"><img src=\"https://colab.research.google.com/assets/colab-badge.svg\" alt=\"Open In Colab\"/></a>"
      ]
    },
    {
      "cell_type": "markdown",
      "metadata": {
        "id": "pJH2LqGzJHDj"
      },
      "source": [
        "두집단의 비교"
      ]
    },
    {
      "cell_type": "code",
      "metadata": {
        "id": "LyXo8qp4LMWZ"
      },
      "source": [
        ""
      ],
      "execution_count": null,
      "outputs": []
    }
  ]
}