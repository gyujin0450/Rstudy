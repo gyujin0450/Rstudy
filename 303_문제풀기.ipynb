{
  "nbformat": 4,
  "nbformat_minor": 0,
  "metadata": {
    "colab": {
      "name": "303_문제풀기.ipynb",
      "provenance": [],
      "authorship_tag": "ABX9TyPX1CqepGKUJcMw214VGAEM",
      "include_colab_link": true
    },
    "kernelspec": {
      "name": "ir",
      "display_name": "R"
    }
  },
  "cells": [
    {
      "cell_type": "markdown",
      "metadata": {
        "id": "view-in-github",
        "colab_type": "text"
      },
      "source": [
        "<a href=\"https://colab.research.google.com/github/gyujin0450/Rstudy/blob/master/303_%EB%AC%B8%EC%A0%9C%ED%92%80%EA%B8%B0.ipynb\" target=\"_parent\"><img src=\"https://colab.research.google.com/assets/colab-badge.svg\" alt=\"Open In Colab\"/></a>"
      ]
    },
    {
      "cell_type": "code",
      "metadata": {
        "id": "ql0ainQqP5DC"
      },
      "source": [
        "# diamonds 데이터셋을 이용해서\n",
        "# 다음 문제를 풀어보시오\n",
        "library(ggplot2)\n",
        "library(dplyr)"
      ],
      "execution_count": 3,
      "outputs": []
    },
    {
      "cell_type": "code",
      "metadata": {
        "id": "REJxblzxRR76",
        "outputId": "f25daa1a-8efe-4a0d-dc0d-69194857b2d2",
        "colab": {
          "base_uri": "https://localhost:8080/",
          "height": 204
        }
      },
      "source": [
        "head(diamonds)"
      ],
      "execution_count": 2,
      "outputs": [
        {
          "output_type": "display_data",
          "data": {
            "text/plain": [
              "  carat cut       color clarity depth table price x    y    z   \n",
              "1 0.23  Ideal     E     SI2     61.5  55    326   3.95 3.98 2.43\n",
              "2 0.21  Premium   E     SI1     59.8  61    326   3.89 3.84 2.31\n",
              "3 0.23  Good      E     VS1     56.9  65    327   4.05 4.07 2.31\n",
              "4 0.29  Premium   I     VS2     62.4  58    334   4.20 4.23 2.63\n",
              "5 0.31  Good      J     SI2     63.3  58    335   4.34 4.35 2.75\n",
              "6 0.24  Very Good J     VVS2    62.8  57    336   3.94 3.96 2.48"
            ],
            "text/latex": "A tibble: 6 × 10\n\\begin{tabular}{llllllllll}\n carat & cut & color & clarity & depth & table & price & x & y & z\\\\\n <dbl> & <ord> & <ord> & <ord> & <dbl> & <dbl> & <int> & <dbl> & <dbl> & <dbl>\\\\\n\\hline\n\t 0.23 & Ideal     & E & SI2  & 61.5 & 55 & 326 & 3.95 & 3.98 & 2.43\\\\\n\t 0.21 & Premium   & E & SI1  & 59.8 & 61 & 326 & 3.89 & 3.84 & 2.31\\\\\n\t 0.23 & Good      & E & VS1  & 56.9 & 65 & 327 & 4.05 & 4.07 & 2.31\\\\\n\t 0.29 & Premium   & I & VS2  & 62.4 & 58 & 334 & 4.20 & 4.23 & 2.63\\\\\n\t 0.31 & Good      & J & SI2  & 63.3 & 58 & 335 & 4.34 & 4.35 & 2.75\\\\\n\t 0.24 & Very Good & J & VVS2 & 62.8 & 57 & 336 & 3.94 & 3.96 & 2.48\\\\\n\\end{tabular}\n",
            "text/markdown": "\nA tibble: 6 × 10\n\n| carat &lt;dbl&gt; | cut &lt;ord&gt; | color &lt;ord&gt; | clarity &lt;ord&gt; | depth &lt;dbl&gt; | table &lt;dbl&gt; | price &lt;int&gt; | x &lt;dbl&gt; | y &lt;dbl&gt; | z &lt;dbl&gt; |\n|---|---|---|---|---|---|---|---|---|---|\n| 0.23 | Ideal     | E | SI2  | 61.5 | 55 | 326 | 3.95 | 3.98 | 2.43 |\n| 0.21 | Premium   | E | SI1  | 59.8 | 61 | 326 | 3.89 | 3.84 | 2.31 |\n| 0.23 | Good      | E | VS1  | 56.9 | 65 | 327 | 4.05 | 4.07 | 2.31 |\n| 0.29 | Premium   | I | VS2  | 62.4 | 58 | 334 | 4.20 | 4.23 | 2.63 |\n| 0.31 | Good      | J | SI2  | 63.3 | 58 | 335 | 4.34 | 4.35 | 2.75 |\n| 0.24 | Very Good | J | VVS2 | 62.8 | 57 | 336 | 3.94 | 3.96 | 2.48 |\n\n",
            "text/html": [
              "<table>\n",
              "<caption>A tibble: 6 × 10</caption>\n",
              "<thead>\n",
              "\t<tr><th scope=col>carat</th><th scope=col>cut</th><th scope=col>color</th><th scope=col>clarity</th><th scope=col>depth</th><th scope=col>table</th><th scope=col>price</th><th scope=col>x</th><th scope=col>y</th><th scope=col>z</th></tr>\n",
              "\t<tr><th scope=col>&lt;dbl&gt;</th><th scope=col>&lt;ord&gt;</th><th scope=col>&lt;ord&gt;</th><th scope=col>&lt;ord&gt;</th><th scope=col>&lt;dbl&gt;</th><th scope=col>&lt;dbl&gt;</th><th scope=col>&lt;int&gt;</th><th scope=col>&lt;dbl&gt;</th><th scope=col>&lt;dbl&gt;</th><th scope=col>&lt;dbl&gt;</th></tr>\n",
              "</thead>\n",
              "<tbody>\n",
              "\t<tr><td>0.23</td><td>Ideal    </td><td>E</td><td>SI2 </td><td>61.5</td><td>55</td><td>326</td><td>3.95</td><td>3.98</td><td>2.43</td></tr>\n",
              "\t<tr><td>0.21</td><td>Premium  </td><td>E</td><td>SI1 </td><td>59.8</td><td>61</td><td>326</td><td>3.89</td><td>3.84</td><td>2.31</td></tr>\n",
              "\t<tr><td>0.23</td><td>Good     </td><td>E</td><td>VS1 </td><td>56.9</td><td>65</td><td>327</td><td>4.05</td><td>4.07</td><td>2.31</td></tr>\n",
              "\t<tr><td>0.29</td><td>Premium  </td><td>I</td><td>VS2 </td><td>62.4</td><td>58</td><td>334</td><td>4.20</td><td>4.23</td><td>2.63</td></tr>\n",
              "\t<tr><td>0.31</td><td>Good     </td><td>J</td><td>SI2 </td><td>63.3</td><td>58</td><td>335</td><td>4.34</td><td>4.35</td><td>2.75</td></tr>\n",
              "\t<tr><td>0.24</td><td>Very Good</td><td>J</td><td>VVS2</td><td>62.8</td><td>57</td><td>336</td><td>3.94</td><td>3.96</td><td>2.48</td></tr>\n",
              "</tbody>\n",
              "</table>\n"
            ]
          },
          "metadata": {
            "tags": []
          }
        }
      ]
    },
    {
      "cell_type": "code",
      "metadata": {
        "id": "8ZJwPm6ISHCo",
        "outputId": "ff692e08-f5fe-4a76-f0bd-a3ac4ee04794",
        "colab": {
          "base_uri": "https://localhost:8080/",
          "height": 215
        }
      },
      "source": [
        "str(diamonds)"
      ],
      "execution_count": 5,
      "outputs": [
        {
          "output_type": "stream",
          "text": [
            "tibble [53,940 × 10] (S3: tbl_df/tbl/data.frame)\n",
            " $ carat  : num [1:53940] 0.23 0.21 0.23 0.29 0.31 0.24 0.24 0.26 0.22 0.23 ...\n",
            " $ cut    : Ord.factor w/ 5 levels \"Fair\"<\"Good\"<..: 5 4 2 4 2 3 3 3 1 3 ...\n",
            " $ color  : Ord.factor w/ 7 levels \"D\"<\"E\"<\"F\"<\"G\"<..: 2 2 2 6 7 7 6 5 2 5 ...\n",
            " $ clarity: Ord.factor w/ 8 levels \"I1\"<\"SI2\"<\"SI1\"<..: 2 3 5 4 2 6 7 3 4 5 ...\n",
            " $ depth  : num [1:53940] 61.5 59.8 56.9 62.4 63.3 62.8 62.3 61.9 65.1 59.4 ...\n",
            " $ table  : num [1:53940] 55 61 65 58 58 57 57 55 61 61 ...\n",
            " $ price  : int [1:53940] 326 326 327 334 335 336 336 337 337 338 ...\n",
            " $ x      : num [1:53940] 3.95 3.89 4.05 4.2 4.34 3.94 3.95 4.07 3.87 4 ...\n",
            " $ y      : num [1:53940] 3.98 3.84 4.07 4.23 4.35 3.96 3.98 4.11 3.78 4.05 ...\n",
            " $ z      : num [1:53940] 2.43 2.31 2.31 2.63 2.75 2.48 2.47 2.53 2.49 2.39 ...\n"
          ],
          "name": "stdout"
        }
      ]
    },
    {
      "cell_type": "code",
      "metadata": {
        "id": "HKMOONX0aCqw",
        "outputId": "18b6079d-9a12-4160-9acd-7b3270bc3eb2",
        "colab": {
          "base_uri": "https://localhost:8080/",
          "height": 221
        }
      },
      "source": [
        "# 변수들 중 carat, price 모두 출력\n",
        "# 기존 방식\n",
        "diamonds[,c('carat','price')] %>% head\n",
        "# diamonds[,c(1,7)]"
      ],
      "execution_count": 46,
      "outputs": [
        {
          "output_type": "display_data",
          "data": {
            "text/plain": [
              "  carat price\n",
              "1 0.23  326  \n",
              "2 0.21  326  \n",
              "3 0.23  327  \n",
              "4 0.29  334  \n",
              "5 0.31  335  \n",
              "6 0.24  336  "
            ],
            "text/latex": "A tibble: 6 × 2\n\\begin{tabular}{ll}\n carat & price\\\\\n <dbl> & <int>\\\\\n\\hline\n\t 0.23 & 326\\\\\n\t 0.21 & 326\\\\\n\t 0.23 & 327\\\\\n\t 0.29 & 334\\\\\n\t 0.31 & 335\\\\\n\t 0.24 & 336\\\\\n\\end{tabular}\n",
            "text/markdown": "\nA tibble: 6 × 2\n\n| carat &lt;dbl&gt; | price &lt;int&gt; |\n|---|---|\n| 0.23 | 326 |\n| 0.21 | 326 |\n| 0.23 | 327 |\n| 0.29 | 334 |\n| 0.31 | 335 |\n| 0.24 | 336 |\n\n",
            "text/html": [
              "<table>\n",
              "<caption>A tibble: 6 × 2</caption>\n",
              "<thead>\n",
              "\t<tr><th scope=col>carat</th><th scope=col>price</th></tr>\n",
              "\t<tr><th scope=col>&lt;dbl&gt;</th><th scope=col>&lt;int&gt;</th></tr>\n",
              "</thead>\n",
              "<tbody>\n",
              "\t<tr><td>0.23</td><td>326</td></tr>\n",
              "\t<tr><td>0.21</td><td>326</td></tr>\n",
              "\t<tr><td>0.23</td><td>327</td></tr>\n",
              "\t<tr><td>0.29</td><td>334</td></tr>\n",
              "\t<tr><td>0.31</td><td>335</td></tr>\n",
              "\t<tr><td>0.24</td><td>336</td></tr>\n",
              "</tbody>\n",
              "</table>\n"
            ]
          },
          "metadata": {
            "tags": []
          }
        }
      ]
    },
    {
      "cell_type": "code",
      "metadata": {
        "id": "EEG4jP-6aNfp",
        "outputId": "44cd5da7-1b4e-4b15-c61f-a11689bab274",
        "colab": {
          "base_uri": "https://localhost:8080/",
          "height": 221
        }
      },
      "source": [
        "diamonds %>% select(c('carat','price')) %>% head"
      ],
      "execution_count": 47,
      "outputs": [
        {
          "output_type": "display_data",
          "data": {
            "text/plain": [
              "  carat price\n",
              "1 0.23  326  \n",
              "2 0.21  326  \n",
              "3 0.23  327  \n",
              "4 0.29  334  \n",
              "5 0.31  335  \n",
              "6 0.24  336  "
            ],
            "text/latex": "A tibble: 6 × 2\n\\begin{tabular}{ll}\n carat & price\\\\\n <dbl> & <int>\\\\\n\\hline\n\t 0.23 & 326\\\\\n\t 0.21 & 326\\\\\n\t 0.23 & 327\\\\\n\t 0.29 & 334\\\\\n\t 0.31 & 335\\\\\n\t 0.24 & 336\\\\\n\\end{tabular}\n",
            "text/markdown": "\nA tibble: 6 × 2\n\n| carat &lt;dbl&gt; | price &lt;int&gt; |\n|---|---|\n| 0.23 | 326 |\n| 0.21 | 326 |\n| 0.23 | 327 |\n| 0.29 | 334 |\n| 0.31 | 335 |\n| 0.24 | 336 |\n\n",
            "text/html": [
              "<table>\n",
              "<caption>A tibble: 6 × 2</caption>\n",
              "<thead>\n",
              "\t<tr><th scope=col>carat</th><th scope=col>price</th></tr>\n",
              "\t<tr><th scope=col>&lt;dbl&gt;</th><th scope=col>&lt;int&gt;</th></tr>\n",
              "</thead>\n",
              "<tbody>\n",
              "\t<tr><td>0.23</td><td>326</td></tr>\n",
              "\t<tr><td>0.21</td><td>326</td></tr>\n",
              "\t<tr><td>0.23</td><td>327</td></tr>\n",
              "\t<tr><td>0.29</td><td>334</td></tr>\n",
              "\t<tr><td>0.31</td><td>335</td></tr>\n",
              "\t<tr><td>0.24</td><td>336</td></tr>\n",
              "</tbody>\n",
              "</table>\n"
            ]
          },
          "metadata": {
            "tags": []
          }
        }
      ]
    },
    {
      "cell_type": "code",
      "metadata": {
        "id": "iu5YCc3lRXSo",
        "outputId": "5b23b55f-a9f6-47ba-f6eb-8e2ac9969aab",
        "colab": {
          "base_uri": "https://localhost:8080/",
          "height": 204
        }
      },
      "source": [
        "# 변수들 중 carat, price 제외하고 모두 출력\n",
        "diamonds %>% select(-c('carat','price')) %>% head"
      ],
      "execution_count": 10,
      "outputs": [
        {
          "output_type": "display_data",
          "data": {
            "text/plain": [
              "  cut       color clarity depth table x    y    z   \n",
              "1 Ideal     E     SI2     61.5  55    3.95 3.98 2.43\n",
              "2 Premium   E     SI1     59.8  61    3.89 3.84 2.31\n",
              "3 Good      E     VS1     56.9  65    4.05 4.07 2.31\n",
              "4 Premium   I     VS2     62.4  58    4.20 4.23 2.63\n",
              "5 Good      J     SI2     63.3  58    4.34 4.35 2.75\n",
              "6 Very Good J     VVS2    62.8  57    3.94 3.96 2.48"
            ],
            "text/latex": "A tibble: 6 × 8\n\\begin{tabular}{llllllll}\n cut & color & clarity & depth & table & x & y & z\\\\\n <ord> & <ord> & <ord> & <dbl> & <dbl> & <dbl> & <dbl> & <dbl>\\\\\n\\hline\n\t Ideal     & E & SI2  & 61.5 & 55 & 3.95 & 3.98 & 2.43\\\\\n\t Premium   & E & SI1  & 59.8 & 61 & 3.89 & 3.84 & 2.31\\\\\n\t Good      & E & VS1  & 56.9 & 65 & 4.05 & 4.07 & 2.31\\\\\n\t Premium   & I & VS2  & 62.4 & 58 & 4.20 & 4.23 & 2.63\\\\\n\t Good      & J & SI2  & 63.3 & 58 & 4.34 & 4.35 & 2.75\\\\\n\t Very Good & J & VVS2 & 62.8 & 57 & 3.94 & 3.96 & 2.48\\\\\n\\end{tabular}\n",
            "text/markdown": "\nA tibble: 6 × 8\n\n| cut &lt;ord&gt; | color &lt;ord&gt; | clarity &lt;ord&gt; | depth &lt;dbl&gt; | table &lt;dbl&gt; | x &lt;dbl&gt; | y &lt;dbl&gt; | z &lt;dbl&gt; |\n|---|---|---|---|---|---|---|---|\n| Ideal     | E | SI2  | 61.5 | 55 | 3.95 | 3.98 | 2.43 |\n| Premium   | E | SI1  | 59.8 | 61 | 3.89 | 3.84 | 2.31 |\n| Good      | E | VS1  | 56.9 | 65 | 4.05 | 4.07 | 2.31 |\n| Premium   | I | VS2  | 62.4 | 58 | 4.20 | 4.23 | 2.63 |\n| Good      | J | SI2  | 63.3 | 58 | 4.34 | 4.35 | 2.75 |\n| Very Good | J | VVS2 | 62.8 | 57 | 3.94 | 3.96 | 2.48 |\n\n",
            "text/html": [
              "<table>\n",
              "<caption>A tibble: 6 × 8</caption>\n",
              "<thead>\n",
              "\t<tr><th scope=col>cut</th><th scope=col>color</th><th scope=col>clarity</th><th scope=col>depth</th><th scope=col>table</th><th scope=col>x</th><th scope=col>y</th><th scope=col>z</th></tr>\n",
              "\t<tr><th scope=col>&lt;ord&gt;</th><th scope=col>&lt;ord&gt;</th><th scope=col>&lt;ord&gt;</th><th scope=col>&lt;dbl&gt;</th><th scope=col>&lt;dbl&gt;</th><th scope=col>&lt;dbl&gt;</th><th scope=col>&lt;dbl&gt;</th><th scope=col>&lt;dbl&gt;</th></tr>\n",
              "</thead>\n",
              "<tbody>\n",
              "\t<tr><td>Ideal    </td><td>E</td><td>SI2 </td><td>61.5</td><td>55</td><td>3.95</td><td>3.98</td><td>2.43</td></tr>\n",
              "\t<tr><td>Premium  </td><td>E</td><td>SI1 </td><td>59.8</td><td>61</td><td>3.89</td><td>3.84</td><td>2.31</td></tr>\n",
              "\t<tr><td>Good     </td><td>E</td><td>VS1 </td><td>56.9</td><td>65</td><td>4.05</td><td>4.07</td><td>2.31</td></tr>\n",
              "\t<tr><td>Premium  </td><td>I</td><td>VS2 </td><td>62.4</td><td>58</td><td>4.20</td><td>4.23</td><td>2.63</td></tr>\n",
              "\t<tr><td>Good     </td><td>J</td><td>SI2 </td><td>63.3</td><td>58</td><td>4.34</td><td>4.35</td><td>2.75</td></tr>\n",
              "\t<tr><td>Very Good</td><td>J</td><td>VVS2</td><td>62.8</td><td>57</td><td>3.94</td><td>3.96</td><td>2.48</td></tr>\n",
              "</tbody>\n",
              "</table>\n"
            ]
          },
          "metadata": {
            "tags": []
          }
        }
      ]
    },
    {
      "cell_type": "code",
      "metadata": {
        "id": "5GPQtpObZa5R",
        "outputId": "b4d6d06f-7b18-43ed-9ef6-16436a9f7216",
        "colab": {
          "base_uri": "https://localhost:8080/",
          "height": 208
        }
      },
      "source": [
        "# 기존 방식은 오류 발생\n",
        "diamonds[,-c('carat','price')] %>% head # \n",
        "# diamonds[,-c(1,7)]"
      ],
      "execution_count": 48,
      "outputs": [
        {
          "output_type": "error",
          "ename": "ERROR",
          "evalue": "ignored",
          "traceback": [
            "Error in -c(\"carat\", \"price\"): invalid argument to unary operator\nTraceback:\n",
            "1. diamonds[, -c(\"carat\", \"price\")] %>% head",
            "2. eval(lhs, parent, parent)",
            "3. eval(lhs, parent, parent)",
            "4. diamonds[, -c(\"carat\", \"price\")]",
            "5. `[.tbl_df`(diamonds, , -c(\"carat\", \"price\"))"
          ]
        }
      ]
    },
    {
      "cell_type": "code",
      "metadata": {
        "id": "Vuki6LKHTHgQ",
        "outputId": "e3075c5d-59ac-45c0-b6d5-416b2ddf4d4f",
        "colab": {
          "base_uri": "https://localhost:8080/",
          "height": 204
        }
      },
      "source": [
        "# cut 변수 값 중 'Ideal' 인 데이터 조회\n",
        "diamonds %>% filter(cut == 'Ideal') %>% head"
      ],
      "execution_count": 16,
      "outputs": [
        {
          "output_type": "display_data",
          "data": {
            "text/plain": [
              "  carat cut   color clarity depth table price x    y    z   \n",
              "1 0.23  Ideal E     SI2     61.5  55    326   3.95 3.98 2.43\n",
              "2 0.23  Ideal J     VS1     62.8  56    340   3.93 3.90 2.46\n",
              "3 0.31  Ideal J     SI2     62.2  54    344   4.35 4.37 2.71\n",
              "4 0.30  Ideal I     SI2     62.0  54    348   4.31 4.34 2.68\n",
              "5 0.33  Ideal I     SI2     61.8  55    403   4.49 4.51 2.78\n",
              "6 0.33  Ideal I     SI2     61.2  56    403   4.49 4.50 2.75"
            ],
            "text/latex": "A tibble: 6 × 10\n\\begin{tabular}{llllllllll}\n carat & cut & color & clarity & depth & table & price & x & y & z\\\\\n <dbl> & <ord> & <ord> & <ord> & <dbl> & <dbl> & <int> & <dbl> & <dbl> & <dbl>\\\\\n\\hline\n\t 0.23 & Ideal & E & SI2 & 61.5 & 55 & 326 & 3.95 & 3.98 & 2.43\\\\\n\t 0.23 & Ideal & J & VS1 & 62.8 & 56 & 340 & 3.93 & 3.90 & 2.46\\\\\n\t 0.31 & Ideal & J & SI2 & 62.2 & 54 & 344 & 4.35 & 4.37 & 2.71\\\\\n\t 0.30 & Ideal & I & SI2 & 62.0 & 54 & 348 & 4.31 & 4.34 & 2.68\\\\\n\t 0.33 & Ideal & I & SI2 & 61.8 & 55 & 403 & 4.49 & 4.51 & 2.78\\\\\n\t 0.33 & Ideal & I & SI2 & 61.2 & 56 & 403 & 4.49 & 4.50 & 2.75\\\\\n\\end{tabular}\n",
            "text/markdown": "\nA tibble: 6 × 10\n\n| carat &lt;dbl&gt; | cut &lt;ord&gt; | color &lt;ord&gt; | clarity &lt;ord&gt; | depth &lt;dbl&gt; | table &lt;dbl&gt; | price &lt;int&gt; | x &lt;dbl&gt; | y &lt;dbl&gt; | z &lt;dbl&gt; |\n|---|---|---|---|---|---|---|---|---|---|\n| 0.23 | Ideal | E | SI2 | 61.5 | 55 | 326 | 3.95 | 3.98 | 2.43 |\n| 0.23 | Ideal | J | VS1 | 62.8 | 56 | 340 | 3.93 | 3.90 | 2.46 |\n| 0.31 | Ideal | J | SI2 | 62.2 | 54 | 344 | 4.35 | 4.37 | 2.71 |\n| 0.30 | Ideal | I | SI2 | 62.0 | 54 | 348 | 4.31 | 4.34 | 2.68 |\n| 0.33 | Ideal | I | SI2 | 61.8 | 55 | 403 | 4.49 | 4.51 | 2.78 |\n| 0.33 | Ideal | I | SI2 | 61.2 | 56 | 403 | 4.49 | 4.50 | 2.75 |\n\n",
            "text/html": [
              "<table>\n",
              "<caption>A tibble: 6 × 10</caption>\n",
              "<thead>\n",
              "\t<tr><th scope=col>carat</th><th scope=col>cut</th><th scope=col>color</th><th scope=col>clarity</th><th scope=col>depth</th><th scope=col>table</th><th scope=col>price</th><th scope=col>x</th><th scope=col>y</th><th scope=col>z</th></tr>\n",
              "\t<tr><th scope=col>&lt;dbl&gt;</th><th scope=col>&lt;ord&gt;</th><th scope=col>&lt;ord&gt;</th><th scope=col>&lt;ord&gt;</th><th scope=col>&lt;dbl&gt;</th><th scope=col>&lt;dbl&gt;</th><th scope=col>&lt;int&gt;</th><th scope=col>&lt;dbl&gt;</th><th scope=col>&lt;dbl&gt;</th><th scope=col>&lt;dbl&gt;</th></tr>\n",
              "</thead>\n",
              "<tbody>\n",
              "\t<tr><td>0.23</td><td>Ideal</td><td>E</td><td>SI2</td><td>61.5</td><td>55</td><td>326</td><td>3.95</td><td>3.98</td><td>2.43</td></tr>\n",
              "\t<tr><td>0.23</td><td>Ideal</td><td>J</td><td>VS1</td><td>62.8</td><td>56</td><td>340</td><td>3.93</td><td>3.90</td><td>2.46</td></tr>\n",
              "\t<tr><td>0.31</td><td>Ideal</td><td>J</td><td>SI2</td><td>62.2</td><td>54</td><td>344</td><td>4.35</td><td>4.37</td><td>2.71</td></tr>\n",
              "\t<tr><td>0.30</td><td>Ideal</td><td>I</td><td>SI2</td><td>62.0</td><td>54</td><td>348</td><td>4.31</td><td>4.34</td><td>2.68</td></tr>\n",
              "\t<tr><td>0.33</td><td>Ideal</td><td>I</td><td>SI2</td><td>61.8</td><td>55</td><td>403</td><td>4.49</td><td>4.51</td><td>2.78</td></tr>\n",
              "\t<tr><td>0.33</td><td>Ideal</td><td>I</td><td>SI2</td><td>61.2</td><td>56</td><td>403</td><td>4.49</td><td>4.50</td><td>2.75</td></tr>\n",
              "</tbody>\n",
              "</table>\n"
            ]
          },
          "metadata": {
            "tags": []
          }
        }
      ]
    },
    {
      "cell_type": "code",
      "metadata": {
        "id": "FnKsEJyzTe2O",
        "outputId": "8512d786-2d25-4f93-bfcd-079becf3f5cc",
        "colab": {
          "base_uri": "https://localhost:8080/",
          "height": 204
        }
      },
      "source": [
        "# carat이 1초과, 5 미만인 데이터 조회\n",
        "# diamonds %>% filter(carat > 1, carat < 5) %>% head\n",
        "diamonds %>% filter(carat > 1 & carat < 5) %>% head"
      ],
      "execution_count": 70,
      "outputs": [
        {
          "output_type": "display_data",
          "data": {
            "text/plain": [
              "  carat cut       color clarity depth table price x    y    z    Ratio   \n",
              "1 1.17  Very Good J     I1      60.2  61    2774  6.83 6.90 4.13 2370.940\n",
              "2 1.01  Premium   F     I1      61.8  60    2781  6.39 6.36 3.94 2753.465\n",
              "3 1.01  Fair      E     I1      64.5  58    2788  6.29 6.21 4.03 2760.396\n",
              "4 1.01  Premium   H     SI2     62.7  59    2788  6.31 6.22 3.93 2760.396\n",
              "5 1.05  Very Good J     SI2     63.2  56    2789  6.49 6.45 4.09 2656.190\n",
              "6 1.05  Fair      J     SI2     65.8  59    2789  6.41 6.27 4.18 2656.190\n",
              "  Double \n",
              "1 5621357\n",
              "2 7581571\n",
              "3 7619786\n",
              "4 7619786\n",
              "5 7055348\n",
              "6 7055348"
            ],
            "text/latex": "A tibble: 6 × 12\n\\begin{tabular}{llllllllllll}\n carat & cut & color & clarity & depth & table & price & x & y & z & Ratio & Double\\\\\n <dbl> & <ord> & <ord> & <ord> & <dbl> & <dbl> & <int> & <dbl> & <dbl> & <dbl> & <dbl> & <dbl>\\\\\n\\hline\n\t 1.17 & Very Good & J & I1  & 60.2 & 61 & 2774 & 6.83 & 6.90 & 4.13 & 2370.940 & 5621357\\\\\n\t 1.01 & Premium   & F & I1  & 61.8 & 60 & 2781 & 6.39 & 6.36 & 3.94 & 2753.465 & 7581571\\\\\n\t 1.01 & Fair      & E & I1  & 64.5 & 58 & 2788 & 6.29 & 6.21 & 4.03 & 2760.396 & 7619786\\\\\n\t 1.01 & Premium   & H & SI2 & 62.7 & 59 & 2788 & 6.31 & 6.22 & 3.93 & 2760.396 & 7619786\\\\\n\t 1.05 & Very Good & J & SI2 & 63.2 & 56 & 2789 & 6.49 & 6.45 & 4.09 & 2656.190 & 7055348\\\\\n\t 1.05 & Fair      & J & SI2 & 65.8 & 59 & 2789 & 6.41 & 6.27 & 4.18 & 2656.190 & 7055348\\\\\n\\end{tabular}\n",
            "text/markdown": "\nA tibble: 6 × 12\n\n| carat &lt;dbl&gt; | cut &lt;ord&gt; | color &lt;ord&gt; | clarity &lt;ord&gt; | depth &lt;dbl&gt; | table &lt;dbl&gt; | price &lt;int&gt; | x &lt;dbl&gt; | y &lt;dbl&gt; | z &lt;dbl&gt; | Ratio &lt;dbl&gt; | Double &lt;dbl&gt; |\n|---|---|---|---|---|---|---|---|---|---|---|---|\n| 1.17 | Very Good | J | I1  | 60.2 | 61 | 2774 | 6.83 | 6.90 | 4.13 | 2370.940 | 5621357 |\n| 1.01 | Premium   | F | I1  | 61.8 | 60 | 2781 | 6.39 | 6.36 | 3.94 | 2753.465 | 7581571 |\n| 1.01 | Fair      | E | I1  | 64.5 | 58 | 2788 | 6.29 | 6.21 | 4.03 | 2760.396 | 7619786 |\n| 1.01 | Premium   | H | SI2 | 62.7 | 59 | 2788 | 6.31 | 6.22 | 3.93 | 2760.396 | 7619786 |\n| 1.05 | Very Good | J | SI2 | 63.2 | 56 | 2789 | 6.49 | 6.45 | 4.09 | 2656.190 | 7055348 |\n| 1.05 | Fair      | J | SI2 | 65.8 | 59 | 2789 | 6.41 | 6.27 | 4.18 | 2656.190 | 7055348 |\n\n",
            "text/html": [
              "<table>\n",
              "<caption>A tibble: 6 × 12</caption>\n",
              "<thead>\n",
              "\t<tr><th scope=col>carat</th><th scope=col>cut</th><th scope=col>color</th><th scope=col>clarity</th><th scope=col>depth</th><th scope=col>table</th><th scope=col>price</th><th scope=col>x</th><th scope=col>y</th><th scope=col>z</th><th scope=col>Ratio</th><th scope=col>Double</th></tr>\n",
              "\t<tr><th scope=col>&lt;dbl&gt;</th><th scope=col>&lt;ord&gt;</th><th scope=col>&lt;ord&gt;</th><th scope=col>&lt;ord&gt;</th><th scope=col>&lt;dbl&gt;</th><th scope=col>&lt;dbl&gt;</th><th scope=col>&lt;int&gt;</th><th scope=col>&lt;dbl&gt;</th><th scope=col>&lt;dbl&gt;</th><th scope=col>&lt;dbl&gt;</th><th scope=col>&lt;dbl&gt;</th><th scope=col>&lt;dbl&gt;</th></tr>\n",
              "</thead>\n",
              "<tbody>\n",
              "\t<tr><td>1.17</td><td>Very Good</td><td>J</td><td>I1 </td><td>60.2</td><td>61</td><td>2774</td><td>6.83</td><td>6.90</td><td>4.13</td><td>2370.940</td><td>5621357</td></tr>\n",
              "\t<tr><td>1.01</td><td>Premium  </td><td>F</td><td>I1 </td><td>61.8</td><td>60</td><td>2781</td><td>6.39</td><td>6.36</td><td>3.94</td><td>2753.465</td><td>7581571</td></tr>\n",
              "\t<tr><td>1.01</td><td>Fair     </td><td>E</td><td>I1 </td><td>64.5</td><td>58</td><td>2788</td><td>6.29</td><td>6.21</td><td>4.03</td><td>2760.396</td><td>7619786</td></tr>\n",
              "\t<tr><td>1.01</td><td>Premium  </td><td>H</td><td>SI2</td><td>62.7</td><td>59</td><td>2788</td><td>6.31</td><td>6.22</td><td>3.93</td><td>2760.396</td><td>7619786</td></tr>\n",
              "\t<tr><td>1.05</td><td>Very Good</td><td>J</td><td>SI2</td><td>63.2</td><td>56</td><td>2789</td><td>6.49</td><td>6.45</td><td>4.09</td><td>2656.190</td><td>7055348</td></tr>\n",
              "\t<tr><td>1.05</td><td>Fair     </td><td>J</td><td>SI2</td><td>65.8</td><td>59</td><td>2789</td><td>6.41</td><td>6.27</td><td>4.18</td><td>2656.190</td><td>7055348</td></tr>\n",
              "</tbody>\n",
              "</table>\n"
            ]
          },
          "metadata": {
            "tags": []
          }
        }
      ]
    },
    {
      "cell_type": "code",
      "metadata": {
        "id": "Z55YeTdATvQz",
        "outputId": "69383469-09eb-40f5-cd67-e166edadaefa",
        "colab": {
          "base_uri": "https://localhost:8080/",
          "height": 204
        }
      },
      "source": [
        "# carat이 1미만이거나, 5초과인 데이터 조회\n",
        "diamonds %>% filter(carat < 1 | carat > 5) %>% head"
      ],
      "execution_count": 18,
      "outputs": [
        {
          "output_type": "display_data",
          "data": {
            "text/plain": [
              "  carat cut       color clarity depth table price x    y    z   \n",
              "1 0.23  Ideal     E     SI2     61.5  55    326   3.95 3.98 2.43\n",
              "2 0.21  Premium   E     SI1     59.8  61    326   3.89 3.84 2.31\n",
              "3 0.23  Good      E     VS1     56.9  65    327   4.05 4.07 2.31\n",
              "4 0.29  Premium   I     VS2     62.4  58    334   4.20 4.23 2.63\n",
              "5 0.31  Good      J     SI2     63.3  58    335   4.34 4.35 2.75\n",
              "6 0.24  Very Good J     VVS2    62.8  57    336   3.94 3.96 2.48"
            ],
            "text/latex": "A tibble: 6 × 10\n\\begin{tabular}{llllllllll}\n carat & cut & color & clarity & depth & table & price & x & y & z\\\\\n <dbl> & <ord> & <ord> & <ord> & <dbl> & <dbl> & <int> & <dbl> & <dbl> & <dbl>\\\\\n\\hline\n\t 0.23 & Ideal     & E & SI2  & 61.5 & 55 & 326 & 3.95 & 3.98 & 2.43\\\\\n\t 0.21 & Premium   & E & SI1  & 59.8 & 61 & 326 & 3.89 & 3.84 & 2.31\\\\\n\t 0.23 & Good      & E & VS1  & 56.9 & 65 & 327 & 4.05 & 4.07 & 2.31\\\\\n\t 0.29 & Premium   & I & VS2  & 62.4 & 58 & 334 & 4.20 & 4.23 & 2.63\\\\\n\t 0.31 & Good      & J & SI2  & 63.3 & 58 & 335 & 4.34 & 4.35 & 2.75\\\\\n\t 0.24 & Very Good & J & VVS2 & 62.8 & 57 & 336 & 3.94 & 3.96 & 2.48\\\\\n\\end{tabular}\n",
            "text/markdown": "\nA tibble: 6 × 10\n\n| carat &lt;dbl&gt; | cut &lt;ord&gt; | color &lt;ord&gt; | clarity &lt;ord&gt; | depth &lt;dbl&gt; | table &lt;dbl&gt; | price &lt;int&gt; | x &lt;dbl&gt; | y &lt;dbl&gt; | z &lt;dbl&gt; |\n|---|---|---|---|---|---|---|---|---|---|\n| 0.23 | Ideal     | E | SI2  | 61.5 | 55 | 326 | 3.95 | 3.98 | 2.43 |\n| 0.21 | Premium   | E | SI1  | 59.8 | 61 | 326 | 3.89 | 3.84 | 2.31 |\n| 0.23 | Good      | E | VS1  | 56.9 | 65 | 327 | 4.05 | 4.07 | 2.31 |\n| 0.29 | Premium   | I | VS2  | 62.4 | 58 | 334 | 4.20 | 4.23 | 2.63 |\n| 0.31 | Good      | J | SI2  | 63.3 | 58 | 335 | 4.34 | 4.35 | 2.75 |\n| 0.24 | Very Good | J | VVS2 | 62.8 | 57 | 336 | 3.94 | 3.96 | 2.48 |\n\n",
            "text/html": [
              "<table>\n",
              "<caption>A tibble: 6 × 10</caption>\n",
              "<thead>\n",
              "\t<tr><th scope=col>carat</th><th scope=col>cut</th><th scope=col>color</th><th scope=col>clarity</th><th scope=col>depth</th><th scope=col>table</th><th scope=col>price</th><th scope=col>x</th><th scope=col>y</th><th scope=col>z</th></tr>\n",
              "\t<tr><th scope=col>&lt;dbl&gt;</th><th scope=col>&lt;ord&gt;</th><th scope=col>&lt;ord&gt;</th><th scope=col>&lt;ord&gt;</th><th scope=col>&lt;dbl&gt;</th><th scope=col>&lt;dbl&gt;</th><th scope=col>&lt;int&gt;</th><th scope=col>&lt;dbl&gt;</th><th scope=col>&lt;dbl&gt;</th><th scope=col>&lt;dbl&gt;</th></tr>\n",
              "</thead>\n",
              "<tbody>\n",
              "\t<tr><td>0.23</td><td>Ideal    </td><td>E</td><td>SI2 </td><td>61.5</td><td>55</td><td>326</td><td>3.95</td><td>3.98</td><td>2.43</td></tr>\n",
              "\t<tr><td>0.21</td><td>Premium  </td><td>E</td><td>SI1 </td><td>59.8</td><td>61</td><td>326</td><td>3.89</td><td>3.84</td><td>2.31</td></tr>\n",
              "\t<tr><td>0.23</td><td>Good     </td><td>E</td><td>VS1 </td><td>56.9</td><td>65</td><td>327</td><td>4.05</td><td>4.07</td><td>2.31</td></tr>\n",
              "\t<tr><td>0.29</td><td>Premium  </td><td>I</td><td>VS2 </td><td>62.4</td><td>58</td><td>334</td><td>4.20</td><td>4.23</td><td>2.63</td></tr>\n",
              "\t<tr><td>0.31</td><td>Good     </td><td>J</td><td>SI2 </td><td>63.3</td><td>58</td><td>335</td><td>4.34</td><td>4.35</td><td>2.75</td></tr>\n",
              "\t<tr><td>0.24</td><td>Very Good</td><td>J</td><td>VVS2</td><td>62.8</td><td>57</td><td>336</td><td>3.94</td><td>3.96</td><td>2.48</td></tr>\n",
              "</tbody>\n",
              "</table>\n"
            ]
          },
          "metadata": {
            "tags": []
          }
        }
      ]
    },
    {
      "cell_type": "code",
      "metadata": {
        "id": "IhqoVQ8bT6Pw",
        "outputId": "4d351b8d-26d9-4aec-c2c7-a5793aa87a6a",
        "colab": {
          "base_uri": "https://localhost:8080/",
          "height": 204
        }
      },
      "source": [
        "# price를 carat으로 나눈 것을 Ratio라는 컬럼으로\n",
        "diamonds$Ratio <- diamonds$price / diamonds$carat\n",
        "# Ratio 컬럼을 제곱한것을 Double이라는 컬럼으로 생성\n",
        "diamonds$Double <- diamonds$Ratio ^ 2\n",
        "head(diamonds)"
      ],
      "execution_count": 24,
      "outputs": [
        {
          "output_type": "display_data",
          "data": {
            "text/plain": [
              "  carat cut       color clarity depth table price x    y    z    Ratio   \n",
              "1 0.23  Ideal     E     SI2     61.5  55    326   3.95 3.98 2.43 1417.391\n",
              "2 0.21  Premium   E     SI1     59.8  61    326   3.89 3.84 2.31 1552.381\n",
              "3 0.23  Good      E     VS1     56.9  65    327   4.05 4.07 2.31 1421.739\n",
              "4 0.29  Premium   I     VS2     62.4  58    334   4.20 4.23 2.63 1151.724\n",
              "5 0.31  Good      J     SI2     63.3  58    335   4.34 4.35 2.75 1080.645\n",
              "6 0.24  Very Good J     VVS2    62.8  57    336   3.94 3.96 2.48 1400.000\n",
              "  Double \n",
              "1 2008998\n",
              "2 2409887\n",
              "3 2021342\n",
              "4 1326468\n",
              "5 1167794\n",
              "6 1960000"
            ],
            "text/latex": "A tibble: 6 × 12\n\\begin{tabular}{llllllllllll}\n carat & cut & color & clarity & depth & table & price & x & y & z & Ratio & Double\\\\\n <dbl> & <ord> & <ord> & <ord> & <dbl> & <dbl> & <int> & <dbl> & <dbl> & <dbl> & <dbl> & <dbl>\\\\\n\\hline\n\t 0.23 & Ideal     & E & SI2  & 61.5 & 55 & 326 & 3.95 & 3.98 & 2.43 & 1417.391 & 2008998\\\\\n\t 0.21 & Premium   & E & SI1  & 59.8 & 61 & 326 & 3.89 & 3.84 & 2.31 & 1552.381 & 2409887\\\\\n\t 0.23 & Good      & E & VS1  & 56.9 & 65 & 327 & 4.05 & 4.07 & 2.31 & 1421.739 & 2021342\\\\\n\t 0.29 & Premium   & I & VS2  & 62.4 & 58 & 334 & 4.20 & 4.23 & 2.63 & 1151.724 & 1326468\\\\\n\t 0.31 & Good      & J & SI2  & 63.3 & 58 & 335 & 4.34 & 4.35 & 2.75 & 1080.645 & 1167794\\\\\n\t 0.24 & Very Good & J & VVS2 & 62.8 & 57 & 336 & 3.94 & 3.96 & 2.48 & 1400.000 & 1960000\\\\\n\\end{tabular}\n",
            "text/markdown": "\nA tibble: 6 × 12\n\n| carat &lt;dbl&gt; | cut &lt;ord&gt; | color &lt;ord&gt; | clarity &lt;ord&gt; | depth &lt;dbl&gt; | table &lt;dbl&gt; | price &lt;int&gt; | x &lt;dbl&gt; | y &lt;dbl&gt; | z &lt;dbl&gt; | Ratio &lt;dbl&gt; | Double &lt;dbl&gt; |\n|---|---|---|---|---|---|---|---|---|---|---|---|\n| 0.23 | Ideal     | E | SI2  | 61.5 | 55 | 326 | 3.95 | 3.98 | 2.43 | 1417.391 | 2008998 |\n| 0.21 | Premium   | E | SI1  | 59.8 | 61 | 326 | 3.89 | 3.84 | 2.31 | 1552.381 | 2409887 |\n| 0.23 | Good      | E | VS1  | 56.9 | 65 | 327 | 4.05 | 4.07 | 2.31 | 1421.739 | 2021342 |\n| 0.29 | Premium   | I | VS2  | 62.4 | 58 | 334 | 4.20 | 4.23 | 2.63 | 1151.724 | 1326468 |\n| 0.31 | Good      | J | SI2  | 63.3 | 58 | 335 | 4.34 | 4.35 | 2.75 | 1080.645 | 1167794 |\n| 0.24 | Very Good | J | VVS2 | 62.8 | 57 | 336 | 3.94 | 3.96 | 2.48 | 1400.000 | 1960000 |\n\n",
            "text/html": [
              "<table>\n",
              "<caption>A tibble: 6 × 12</caption>\n",
              "<thead>\n",
              "\t<tr><th scope=col>carat</th><th scope=col>cut</th><th scope=col>color</th><th scope=col>clarity</th><th scope=col>depth</th><th scope=col>table</th><th scope=col>price</th><th scope=col>x</th><th scope=col>y</th><th scope=col>z</th><th scope=col>Ratio</th><th scope=col>Double</th></tr>\n",
              "\t<tr><th scope=col>&lt;dbl&gt;</th><th scope=col>&lt;ord&gt;</th><th scope=col>&lt;ord&gt;</th><th scope=col>&lt;ord&gt;</th><th scope=col>&lt;dbl&gt;</th><th scope=col>&lt;dbl&gt;</th><th scope=col>&lt;int&gt;</th><th scope=col>&lt;dbl&gt;</th><th scope=col>&lt;dbl&gt;</th><th scope=col>&lt;dbl&gt;</th><th scope=col>&lt;dbl&gt;</th><th scope=col>&lt;dbl&gt;</th></tr>\n",
              "</thead>\n",
              "<tbody>\n",
              "\t<tr><td>0.23</td><td>Ideal    </td><td>E</td><td>SI2 </td><td>61.5</td><td>55</td><td>326</td><td>3.95</td><td>3.98</td><td>2.43</td><td>1417.391</td><td>2008998</td></tr>\n",
              "\t<tr><td>0.21</td><td>Premium  </td><td>E</td><td>SI1 </td><td>59.8</td><td>61</td><td>326</td><td>3.89</td><td>3.84</td><td>2.31</td><td>1552.381</td><td>2409887</td></tr>\n",
              "\t<tr><td>0.23</td><td>Good     </td><td>E</td><td>VS1 </td><td>56.9</td><td>65</td><td>327</td><td>4.05</td><td>4.07</td><td>2.31</td><td>1421.739</td><td>2021342</td></tr>\n",
              "\t<tr><td>0.29</td><td>Premium  </td><td>I</td><td>VS2 </td><td>62.4</td><td>58</td><td>334</td><td>4.20</td><td>4.23</td><td>2.63</td><td>1151.724</td><td>1326468</td></tr>\n",
              "\t<tr><td>0.31</td><td>Good     </td><td>J</td><td>SI2 </td><td>63.3</td><td>58</td><td>335</td><td>4.34</td><td>4.35</td><td>2.75</td><td>1080.645</td><td>1167794</td></tr>\n",
              "\t<tr><td>0.24</td><td>Very Good</td><td>J</td><td>VVS2</td><td>62.8</td><td>57</td><td>336</td><td>3.94</td><td>3.96</td><td>2.48</td><td>1400.000</td><td>1960000</td></tr>\n",
              "</tbody>\n",
              "</table>\n"
            ]
          },
          "metadata": {
            "tags": []
          }
        }
      ]
    },
    {
      "cell_type": "code",
      "metadata": {
        "id": "IrV9HjuUnydm",
        "outputId": "9f0bd525-4507-4b23-817a-a6c920569ab0",
        "colab": {
          "base_uri": "https://localhost:8080/",
          "height": 204
        }
      },
      "source": [
        "# dplyr 이용 방식\n",
        "diamonds %>% mutate( Ratio = price / carat , Double = Ratio ^ 2 ) %>% head"
      ],
      "execution_count": 78,
      "outputs": [
        {
          "output_type": "display_data",
          "data": {
            "text/plain": [
              "  carat cut       color clarity depth table price x    y    z    Ratio   \n",
              "1 0.23  Ideal     E     SI2     61.5  55    326   3.95 3.98 2.43 1417.391\n",
              "2 0.21  Premium   E     SI1     59.8  61    326   3.89 3.84 2.31 1552.381\n",
              "3 0.23  Good      E     VS1     56.9  65    327   4.05 4.07 2.31 1421.739\n",
              "4 0.29  Premium   I     VS2     62.4  58    334   4.20 4.23 2.63 1151.724\n",
              "5 0.31  Good      J     SI2     63.3  58    335   4.34 4.35 2.75 1080.645\n",
              "6 0.24  Very Good J     VVS2    62.8  57    336   3.94 3.96 2.48 1400.000\n",
              "  Double \n",
              "1 2008998\n",
              "2 2409887\n",
              "3 2021342\n",
              "4 1326468\n",
              "5 1167794\n",
              "6 1960000"
            ],
            "text/latex": "A tibble: 6 × 12\n\\begin{tabular}{llllllllllll}\n carat & cut & color & clarity & depth & table & price & x & y & z & Ratio & Double\\\\\n <dbl> & <ord> & <ord> & <ord> & <dbl> & <dbl> & <int> & <dbl> & <dbl> & <dbl> & <dbl> & <dbl>\\\\\n\\hline\n\t 0.23 & Ideal     & E & SI2  & 61.5 & 55 & 326 & 3.95 & 3.98 & 2.43 & 1417.391 & 2008998\\\\\n\t 0.21 & Premium   & E & SI1  & 59.8 & 61 & 326 & 3.89 & 3.84 & 2.31 & 1552.381 & 2409887\\\\\n\t 0.23 & Good      & E & VS1  & 56.9 & 65 & 327 & 4.05 & 4.07 & 2.31 & 1421.739 & 2021342\\\\\n\t 0.29 & Premium   & I & VS2  & 62.4 & 58 & 334 & 4.20 & 4.23 & 2.63 & 1151.724 & 1326468\\\\\n\t 0.31 & Good      & J & SI2  & 63.3 & 58 & 335 & 4.34 & 4.35 & 2.75 & 1080.645 & 1167794\\\\\n\t 0.24 & Very Good & J & VVS2 & 62.8 & 57 & 336 & 3.94 & 3.96 & 2.48 & 1400.000 & 1960000\\\\\n\\end{tabular}\n",
            "text/markdown": "\nA tibble: 6 × 12\n\n| carat &lt;dbl&gt; | cut &lt;ord&gt; | color &lt;ord&gt; | clarity &lt;ord&gt; | depth &lt;dbl&gt; | table &lt;dbl&gt; | price &lt;int&gt; | x &lt;dbl&gt; | y &lt;dbl&gt; | z &lt;dbl&gt; | Ratio &lt;dbl&gt; | Double &lt;dbl&gt; |\n|---|---|---|---|---|---|---|---|---|---|---|---|\n| 0.23 | Ideal     | E | SI2  | 61.5 | 55 | 326 | 3.95 | 3.98 | 2.43 | 1417.391 | 2008998 |\n| 0.21 | Premium   | E | SI1  | 59.8 | 61 | 326 | 3.89 | 3.84 | 2.31 | 1552.381 | 2409887 |\n| 0.23 | Good      | E | VS1  | 56.9 | 65 | 327 | 4.05 | 4.07 | 2.31 | 1421.739 | 2021342 |\n| 0.29 | Premium   | I | VS2  | 62.4 | 58 | 334 | 4.20 | 4.23 | 2.63 | 1151.724 | 1326468 |\n| 0.31 | Good      | J | SI2  | 63.3 | 58 | 335 | 4.34 | 4.35 | 2.75 | 1080.645 | 1167794 |\n| 0.24 | Very Good | J | VVS2 | 62.8 | 57 | 336 | 3.94 | 3.96 | 2.48 | 1400.000 | 1960000 |\n\n",
            "text/html": [
              "<table>\n",
              "<caption>A tibble: 6 × 12</caption>\n",
              "<thead>\n",
              "\t<tr><th scope=col>carat</th><th scope=col>cut</th><th scope=col>color</th><th scope=col>clarity</th><th scope=col>depth</th><th scope=col>table</th><th scope=col>price</th><th scope=col>x</th><th scope=col>y</th><th scope=col>z</th><th scope=col>Ratio</th><th scope=col>Double</th></tr>\n",
              "\t<tr><th scope=col>&lt;dbl&gt;</th><th scope=col>&lt;ord&gt;</th><th scope=col>&lt;ord&gt;</th><th scope=col>&lt;ord&gt;</th><th scope=col>&lt;dbl&gt;</th><th scope=col>&lt;dbl&gt;</th><th scope=col>&lt;int&gt;</th><th scope=col>&lt;dbl&gt;</th><th scope=col>&lt;dbl&gt;</th><th scope=col>&lt;dbl&gt;</th><th scope=col>&lt;dbl&gt;</th><th scope=col>&lt;dbl&gt;</th></tr>\n",
              "</thead>\n",
              "<tbody>\n",
              "\t<tr><td>0.23</td><td>Ideal    </td><td>E</td><td>SI2 </td><td>61.5</td><td>55</td><td>326</td><td>3.95</td><td>3.98</td><td>2.43</td><td>1417.391</td><td>2008998</td></tr>\n",
              "\t<tr><td>0.21</td><td>Premium  </td><td>E</td><td>SI1 </td><td>59.8</td><td>61</td><td>326</td><td>3.89</td><td>3.84</td><td>2.31</td><td>1552.381</td><td>2409887</td></tr>\n",
              "\t<tr><td>0.23</td><td>Good     </td><td>E</td><td>VS1 </td><td>56.9</td><td>65</td><td>327</td><td>4.05</td><td>4.07</td><td>2.31</td><td>1421.739</td><td>2021342</td></tr>\n",
              "\t<tr><td>0.29</td><td>Premium  </td><td>I</td><td>VS2 </td><td>62.4</td><td>58</td><td>334</td><td>4.20</td><td>4.23</td><td>2.63</td><td>1151.724</td><td>1326468</td></tr>\n",
              "\t<tr><td>0.31</td><td>Good     </td><td>J</td><td>SI2 </td><td>63.3</td><td>58</td><td>335</td><td>4.34</td><td>4.35</td><td>2.75</td><td>1080.645</td><td>1167794</td></tr>\n",
              "\t<tr><td>0.24</td><td>Very Good</td><td>J</td><td>VVS2</td><td>62.8</td><td>57</td><td>336</td><td>3.94</td><td>3.96</td><td>2.48</td><td>1400.000</td><td>1960000</td></tr>\n",
              "</tbody>\n",
              "</table>\n"
            ]
          },
          "metadata": {
            "tags": []
          }
        }
      ]
    },
    {
      "cell_type": "code",
      "metadata": {
        "id": "OI2AIZy6VNjo",
        "outputId": "c770fe1b-1dcc-474c-e091-e51babd60fe7",
        "colab": {
          "base_uri": "https://localhost:8080/",
          "height": 251
        }
      },
      "source": [
        "str(diamonds)"
      ],
      "execution_count": 26,
      "outputs": [
        {
          "output_type": "stream",
          "text": [
            "tibble [53,940 × 12] (S3: tbl_df/tbl/data.frame)\n",
            " $ carat  : num [1:53940] 0.23 0.21 0.23 0.29 0.31 0.24 0.24 0.26 0.22 0.23 ...\n",
            " $ cut    : Ord.factor w/ 5 levels \"Fair\"<\"Good\"<..: 5 4 2 4 2 3 3 3 1 3 ...\n",
            " $ color  : Ord.factor w/ 7 levels \"D\"<\"E\"<\"F\"<\"G\"<..: 2 2 2 6 7 7 6 5 2 5 ...\n",
            " $ clarity: Ord.factor w/ 8 levels \"I1\"<\"SI2\"<\"SI1\"<..: 2 3 5 4 2 6 7 3 4 5 ...\n",
            " $ depth  : num [1:53940] 61.5 59.8 56.9 62.4 63.3 62.8 62.3 61.9 65.1 59.4 ...\n",
            " $ table  : num [1:53940] 55 61 65 58 58 57 57 55 61 61 ...\n",
            " $ price  : int [1:53940] 326 326 327 334 335 336 336 337 337 338 ...\n",
            " $ x      : num [1:53940] 3.95 3.89 4.05 4.2 4.34 3.94 3.95 4.07 3.87 4 ...\n",
            " $ y      : num [1:53940] 3.98 3.84 4.07 4.23 4.35 3.96 3.98 4.11 3.78 4.05 ...\n",
            " $ z      : num [1:53940] 2.43 2.31 2.31 2.63 2.75 2.48 2.47 2.53 2.49 2.39 ...\n",
            " $ Ratio  : num [1:53940] 1417 1552 1422 1152 1081 ...\n",
            " $ Double : num [1:53940] 2008998 2409887 2021342 1326468 1167794 ...\n"
          ],
          "name": "stdout"
        }
      ]
    },
    {
      "cell_type": "code",
      "metadata": {
        "id": "WZiyhpOOVQ3g",
        "outputId": "1be51bb1-2349-4d5d-9c7e-27c85fde1e7f",
        "colab": {
          "base_uri": "https://localhost:8080/",
          "height": 53
        }
      },
      "source": [
        "summary(diamonds$price)"
      ],
      "execution_count": 27,
      "outputs": [
        {
          "output_type": "display_data",
          "data": {
            "text/plain": [
              "   Min. 1st Qu.  Median    Mean 3rd Qu.    Max. \n",
              "    326     950    2401    3933    5324   18823 "
            ]
          },
          "metadata": {
            "tags": []
          }
        }
      ]
    },
    {
      "cell_type": "code",
      "metadata": {
        "id": "Ls3wYpD8U70c",
        "outputId": "74ffa212-3e1a-4ea8-c455-ce2dbf116065",
        "colab": {
          "base_uri": "https://localhost:8080/",
          "height": 99
        }
      },
      "source": [
        "# 평균 가격price와 price의 중앙값, 평균 carat을 집계\n",
        "diamonds %>% summarise(price평균 = mean(price), price중앙값 = median(price),평균carat = mean(carat))"
      ],
      "execution_count": 79,
      "outputs": [
        {
          "output_type": "display_data",
          "data": {
            "text/plain": [
              "  price평균 price중앙값 평균carat\n",
              "1 3932.8    2401        0.7979397"
            ],
            "text/latex": "A tibble: 1 × 3\n\\begin{tabular}{lll}\n price평균 & price중앙값 & 평균carat\\\\\n <dbl> & <dbl> & <dbl>\\\\\n\\hline\n\t 3932.8 & 2401 & 0.7979397\\\\\n\\end{tabular}\n",
            "text/markdown": "\nA tibble: 1 × 3\n\n| price평균 &lt;dbl&gt; | price중앙값 &lt;dbl&gt; | 평균carat &lt;dbl&gt; |\n|---|---|---|\n| 3932.8 | 2401 | 0.7979397 |\n\n",
            "text/html": [
              "<table>\n",
              "<caption>A tibble: 1 × 3</caption>\n",
              "<thead>\n",
              "\t<tr><th scope=col>price평균</th><th scope=col>price중앙값</th><th scope=col>평균carat</th></tr>\n",
              "\t<tr><th scope=col>&lt;dbl&gt;</th><th scope=col>&lt;dbl&gt;</th><th scope=col>&lt;dbl&gt;</th></tr>\n",
              "</thead>\n",
              "<tbody>\n",
              "\t<tr><td>3932.8</td><td>2401</td><td>0.7979397</td></tr>\n",
              "</tbody>\n",
              "</table>\n"
            ]
          },
          "metadata": {
            "tags": []
          }
        }
      ]
    },
    {
      "cell_type": "code",
      "metadata": {
        "id": "4AAZG5IGV9Ge",
        "outputId": "696c1336-4451-4447-e2a4-191549dea1c0",
        "colab": {
          "base_uri": "https://localhost:8080/",
          "height": 219
        }
      },
      "source": [
        "# cut 기준으로 평균 가격을 집계\n",
        "diamonds %>% group_by(cut) %>% summarise(평균가격 = mean(price))"
      ],
      "execution_count": 32,
      "outputs": [
        {
          "output_type": "stream",
          "text": [
            "`summarise()` ungrouping output (override with `.groups` argument)\n",
            "\n"
          ],
          "name": "stderr"
        },
        {
          "output_type": "display_data",
          "data": {
            "text/plain": [
              "  cut       평균가격\n",
              "1 Fair      4358.758\n",
              "2 Good      3928.864\n",
              "3 Very Good 3981.760\n",
              "4 Premium   4584.258\n",
              "5 Ideal     3457.542"
            ],
            "text/latex": "A tibble: 5 × 2\n\\begin{tabular}{ll}\n cut & 평균가격\\\\\n <ord> & <dbl>\\\\\n\\hline\n\t Fair      & 4358.758\\\\\n\t Good      & 3928.864\\\\\n\t Very Good & 3981.760\\\\\n\t Premium   & 4584.258\\\\\n\t Ideal     & 3457.542\\\\\n\\end{tabular}\n",
            "text/markdown": "\nA tibble: 5 × 2\n\n| cut &lt;ord&gt; | 평균가격 &lt;dbl&gt; |\n|---|---|\n| Fair      | 4358.758 |\n| Good      | 3928.864 |\n| Very Good | 3981.760 |\n| Premium   | 4584.258 |\n| Ideal     | 3457.542 |\n\n",
            "text/html": [
              "<table>\n",
              "<caption>A tibble: 5 × 2</caption>\n",
              "<thead>\n",
              "\t<tr><th scope=col>cut</th><th scope=col>평균가격</th></tr>\n",
              "\t<tr><th scope=col>&lt;ord&gt;</th><th scope=col>&lt;dbl&gt;</th></tr>\n",
              "</thead>\n",
              "<tbody>\n",
              "\t<tr><td>Fair     </td><td>4358.758</td></tr>\n",
              "\t<tr><td>Good     </td><td>3928.864</td></tr>\n",
              "\t<tr><td>Very Good</td><td>3981.760</td></tr>\n",
              "\t<tr><td>Premium  </td><td>4584.258</td></tr>\n",
              "\t<tr><td>Ideal    </td><td>3457.542</td></tr>\n",
              "</tbody>\n",
              "</table>\n"
            ]
          },
          "metadata": {
            "tags": []
          }
        }
      ]
    },
    {
      "cell_type": "code",
      "metadata": {
        "id": "bhy4Q-TZqp82",
        "outputId": "f971b795-4ff3-4980-c85d-f30afeb9e9ac",
        "colab": {
          "base_uri": "https://localhost:8080/",
          "height": 183
        }
      },
      "source": [
        "# [참고] aggregate() 함수 이용\n",
        "aggregate(diamonds$price, by=list(diamonds$cut), FUN=mean)"
      ],
      "execution_count": 86,
      "outputs": [
        {
          "output_type": "display_data",
          "data": {
            "text/plain": [
              "  Group.1   x       \n",
              "1 Fair      4358.758\n",
              "2 Good      3928.864\n",
              "3 Very Good 3981.760\n",
              "4 Premium   4584.258\n",
              "5 Ideal     3457.542"
            ],
            "text/latex": "A data.frame: 5 × 2\n\\begin{tabular}{ll}\n Group.1 & x\\\\\n <ord> & <dbl>\\\\\n\\hline\n\t Fair      & 4358.758\\\\\n\t Good      & 3928.864\\\\\n\t Very Good & 3981.760\\\\\n\t Premium   & 4584.258\\\\\n\t Ideal     & 3457.542\\\\\n\\end{tabular}\n",
            "text/markdown": "\nA data.frame: 5 × 2\n\n| Group.1 &lt;ord&gt; | x &lt;dbl&gt; |\n|---|---|\n| Fair      | 4358.758 |\n| Good      | 3928.864 |\n| Very Good | 3981.760 |\n| Premium   | 4584.258 |\n| Ideal     | 3457.542 |\n\n",
            "text/html": [
              "<table>\n",
              "<caption>A data.frame: 5 × 2</caption>\n",
              "<thead>\n",
              "\t<tr><th scope=col>Group.1</th><th scope=col>x</th></tr>\n",
              "\t<tr><th scope=col>&lt;ord&gt;</th><th scope=col>&lt;dbl&gt;</th></tr>\n",
              "</thead>\n",
              "<tbody>\n",
              "\t<tr><td>Fair     </td><td>4358.758</td></tr>\n",
              "\t<tr><td>Good     </td><td>3928.864</td></tr>\n",
              "\t<tr><td>Very Good</td><td>3981.760</td></tr>\n",
              "\t<tr><td>Premium  </td><td>4584.258</td></tr>\n",
              "\t<tr><td>Ideal    </td><td>3457.542</td></tr>\n",
              "</tbody>\n",
              "</table>\n"
            ]
          },
          "metadata": {
            "tags": []
          }
        }
      ]
    },
    {
      "cell_type": "code",
      "metadata": {
        "id": "EGJlKmAkq0OK",
        "outputId": "f85828d9-a1e2-4594-c7c4-55d4b3674635",
        "colab": {
          "base_uri": "https://localhost:8080/",
          "height": 183
        }
      },
      "source": [
        "# [참고] 집계함수 사용자 다음 표현식 사용 가능 : a ~ b + c\n",
        "# a : 집계하고자하는 대상\n",
        "# b : 그룹으로 묶을 기준 컬럼\n",
        "# c : 그룹으로 묶을 기준 컬럼2\n",
        "aggregate(price~cut, diamonds, FUN= mean)"
      ],
      "execution_count": 85,
      "outputs": [
        {
          "output_type": "display_data",
          "data": {
            "text/plain": [
              "  cut       price   \n",
              "1 Fair      4358.758\n",
              "2 Good      3928.864\n",
              "3 Very Good 3981.760\n",
              "4 Premium   4584.258\n",
              "5 Ideal     3457.542"
            ],
            "text/latex": "A data.frame: 5 × 2\n\\begin{tabular}{ll}\n cut & price\\\\\n <ord> & <dbl>\\\\\n\\hline\n\t Fair      & 4358.758\\\\\n\t Good      & 3928.864\\\\\n\t Very Good & 3981.760\\\\\n\t Premium   & 4584.258\\\\\n\t Ideal     & 3457.542\\\\\n\\end{tabular}\n",
            "text/markdown": "\nA data.frame: 5 × 2\n\n| cut &lt;ord&gt; | price &lt;dbl&gt; |\n|---|---|\n| Fair      | 4358.758 |\n| Good      | 3928.864 |\n| Very Good | 3981.760 |\n| Premium   | 4584.258 |\n| Ideal     | 3457.542 |\n\n",
            "text/html": [
              "<table>\n",
              "<caption>A data.frame: 5 × 2</caption>\n",
              "<thead>\n",
              "\t<tr><th scope=col>cut</th><th scope=col>price</th></tr>\n",
              "\t<tr><th scope=col>&lt;ord&gt;</th><th scope=col>&lt;dbl&gt;</th></tr>\n",
              "</thead>\n",
              "<tbody>\n",
              "\t<tr><td>Fair     </td><td>4358.758</td></tr>\n",
              "\t<tr><td>Good     </td><td>3928.864</td></tr>\n",
              "\t<tr><td>Very Good</td><td>3981.760</td></tr>\n",
              "\t<tr><td>Premium  </td><td>4584.258</td></tr>\n",
              "\t<tr><td>Ideal    </td><td>3457.542</td></tr>\n",
              "</tbody>\n",
              "</table>\n"
            ]
          },
          "metadata": {
            "tags": []
          }
        }
      ]
    },
    {
      "cell_type": "code",
      "metadata": {
        "id": "x3Ev_UCAo8cH",
        "outputId": "b24831ef-b038-4707-a9ea-ae6ee91cb041",
        "colab": {
          "base_uri": "https://localhost:8080/",
          "height": 219
        }
      },
      "source": [
        "# cut 기준으로 평균 가격을 집계하고 평균가격으로 오름차순\n",
        "diamonds %>% group_by(cut) %>% summarise(평균가격 = mean(price)) %>% arrange(평균가격)"
      ],
      "execution_count": 81,
      "outputs": [
        {
          "output_type": "stream",
          "text": [
            "`summarise()` ungrouping output (override with `.groups` argument)\n",
            "\n"
          ],
          "name": "stderr"
        },
        {
          "output_type": "display_data",
          "data": {
            "text/plain": [
              "  cut       평균가격\n",
              "1 Ideal     3457.542\n",
              "2 Good      3928.864\n",
              "3 Very Good 3981.760\n",
              "4 Fair      4358.758\n",
              "5 Premium   4584.258"
            ],
            "text/latex": "A tibble: 5 × 2\n\\begin{tabular}{ll}\n cut & 평균가격\\\\\n <ord> & <dbl>\\\\\n\\hline\n\t Ideal     & 3457.542\\\\\n\t Good      & 3928.864\\\\\n\t Very Good & 3981.760\\\\\n\t Fair      & 4358.758\\\\\n\t Premium   & 4584.258\\\\\n\\end{tabular}\n",
            "text/markdown": "\nA tibble: 5 × 2\n\n| cut &lt;ord&gt; | 평균가격 &lt;dbl&gt; |\n|---|---|\n| Ideal     | 3457.542 |\n| Good      | 3928.864 |\n| Very Good | 3981.760 |\n| Fair      | 4358.758 |\n| Premium   | 4584.258 |\n\n",
            "text/html": [
              "<table>\n",
              "<caption>A tibble: 5 × 2</caption>\n",
              "<thead>\n",
              "\t<tr><th scope=col>cut</th><th scope=col>평균가격</th></tr>\n",
              "\t<tr><th scope=col>&lt;ord&gt;</th><th scope=col>&lt;dbl&gt;</th></tr>\n",
              "</thead>\n",
              "<tbody>\n",
              "\t<tr><td>Ideal    </td><td>3457.542</td></tr>\n",
              "\t<tr><td>Good     </td><td>3928.864</td></tr>\n",
              "\t<tr><td>Very Good</td><td>3981.760</td></tr>\n",
              "\t<tr><td>Fair     </td><td>4358.758</td></tr>\n",
              "\t<tr><td>Premium  </td><td>4584.258</td></tr>\n",
              "</tbody>\n",
              "</table>\n"
            ]
          },
          "metadata": {
            "tags": []
          }
        }
      ]
    },
    {
      "cell_type": "code",
      "metadata": {
        "id": "_VOdwyT5WV1u",
        "outputId": "07f71bc6-faa9-4cf3-89a4-d59e3697134c",
        "colab": {
          "base_uri": "https://localhost:8080/",
          "height": 240
        }
      },
      "source": [
        "# carat에 한해서 mean, sum 구함\n",
        "diamonds %>% group_by(carat) %>% summarise(mean = mean(carat), sum = sum(carat)) %>% head # 의미가 ??"
      ],
      "execution_count": 84,
      "outputs": [
        {
          "output_type": "stream",
          "text": [
            "`summarise()` ungrouping output (override with `.groups` argument)\n",
            "\n"
          ],
          "name": "stderr"
        },
        {
          "output_type": "display_data",
          "data": {
            "text/plain": [
              "  carat mean sum  \n",
              "1 0.20  0.20  2.40\n",
              "2 0.21  0.21  1.89\n",
              "3 0.22  0.22  1.10\n",
              "4 0.23  0.23 67.39\n",
              "5 0.24  0.24 60.96\n",
              "6 0.25  0.25 53.00"
            ],
            "text/latex": "A tibble: 6 × 3\n\\begin{tabular}{lll}\n carat & mean & sum\\\\\n <dbl> & <dbl> & <dbl>\\\\\n\\hline\n\t 0.20 & 0.20 &  2.40\\\\\n\t 0.21 & 0.21 &  1.89\\\\\n\t 0.22 & 0.22 &  1.10\\\\\n\t 0.23 & 0.23 & 67.39\\\\\n\t 0.24 & 0.24 & 60.96\\\\\n\t 0.25 & 0.25 & 53.00\\\\\n\\end{tabular}\n",
            "text/markdown": "\nA tibble: 6 × 3\n\n| carat &lt;dbl&gt; | mean &lt;dbl&gt; | sum &lt;dbl&gt; |\n|---|---|---|\n| 0.20 | 0.20 |  2.40 |\n| 0.21 | 0.21 |  1.89 |\n| 0.22 | 0.22 |  1.10 |\n| 0.23 | 0.23 | 67.39 |\n| 0.24 | 0.24 | 60.96 |\n| 0.25 | 0.25 | 53.00 |\n\n",
            "text/html": [
              "<table>\n",
              "<caption>A tibble: 6 × 3</caption>\n",
              "<thead>\n",
              "\t<tr><th scope=col>carat</th><th scope=col>mean</th><th scope=col>sum</th></tr>\n",
              "\t<tr><th scope=col>&lt;dbl&gt;</th><th scope=col>&lt;dbl&gt;</th><th scope=col>&lt;dbl&gt;</th></tr>\n",
              "</thead>\n",
              "<tbody>\n",
              "\t<tr><td>0.20</td><td>0.20</td><td> 2.40</td></tr>\n",
              "\t<tr><td>0.21</td><td>0.21</td><td> 1.89</td></tr>\n",
              "\t<tr><td>0.22</td><td>0.22</td><td> 1.10</td></tr>\n",
              "\t<tr><td>0.23</td><td>0.23</td><td>67.39</td></tr>\n",
              "\t<tr><td>0.24</td><td>0.24</td><td>60.96</td></tr>\n",
              "\t<tr><td>0.25</td><td>0.25</td><td>53.00</td></tr>\n",
              "</tbody>\n",
              "</table>\n"
            ]
          },
          "metadata": {
            "tags": []
          }
        }
      ]
    },
    {
      "cell_type": "code",
      "metadata": {
        "id": "Ff3BqUqhWwLd",
        "outputId": "5d1d67d1-8b47-4aac-abdb-317b3c1ff8d5",
        "colab": {
          "base_uri": "https://localhost:8080/",
          "height": 849
        }
      },
      "source": [
        "# cut, color 기준으로 평균 가격을 avgPrice로, 총 carat을 sumCarat이라는 이름으로 집계\n",
        "diamonds %>% group_by(cut, color) %>% summarise(avgPrice = mean(price), sumCarat = sum(carat))"
      ],
      "execution_count": 35,
      "outputs": [
        {
          "output_type": "stream",
          "text": [
            "`summarise()` regrouping output by 'cut' (override with `.groups` argument)\n",
            "\n"
          ],
          "name": "stderr"
        },
        {
          "output_type": "display_data",
          "data": {
            "text/plain": [
              "   cut       color avgPrice sumCarat\n",
              "1  Fair      D     4291.061  149.98 \n",
              "2  Fair      E     3682.312  191.88 \n",
              "3  Fair      F     3827.003  282.27 \n",
              "4  Fair      G     4239.255  321.48 \n",
              "5  Fair      H     5135.683  369.41 \n",
              "6  Fair      I     4685.446  209.66 \n",
              "7  Fair      J     4975.655  159.60 \n",
              "8  Good      D     3405.382  492.87 \n",
              "9  Good      E     3423.644  695.21 \n",
              "10 Good      F     3495.750  705.32 \n",
              "11 Good      G     4123.482  741.13 \n",
              "12 Good      H     4276.255  642.14 \n",
              "13 Good      I     5078.533  551.87 \n",
              "14 Good      J     4574.173  337.56 \n",
              "15 Very Good D     3470.467 1053.69 \n",
              "16 Very Good E     3214.652 1623.16 \n",
              "17 Very Good F     3778.820 1603.44 \n",
              "18 Very Good G     3872.754 1762.87 \n",
              "19 Very Good H     4535.390 1670.69 \n",
              "20 Very Good I     5255.880 1260.53 \n",
              "21 Very Good J     5103.513  768.32 \n",
              "22 Premium   D     3631.293 1156.64 \n",
              "23 Premium   E     3538.914 1677.37 \n",
              "24 Premium   F     4324.890 1927.82 \n",
              "25 Premium   G     4500.742 2460.51 \n",
              "26 Premium   H     5216.707 2398.82 \n",
              "27 Premium   I     5946.181 1634.97 \n",
              "28 Premium   J     6294.592 1044.82 \n",
              "29 Ideal     D     2629.095 1603.38 \n",
              "30 Ideal     E     2597.550 2257.50 \n",
              "31 Ideal     F     3374.939 2509.20 \n",
              "32 Ideal     G     3720.706 3422.29 \n",
              "33 Ideal     H     3889.335 2490.52 \n",
              "34 Ideal     I     4451.970 1910.97 \n",
              "35 Ideal     J     4918.186  952.98 "
            ],
            "text/latex": "A grouped\\_df: 35 × 4\n\\begin{tabular}{llll}\n cut & color & avgPrice & sumCarat\\\\\n <ord> & <ord> & <dbl> & <dbl>\\\\\n\\hline\n\t Fair      & D & 4291.061 &  149.98\\\\\n\t Fair      & E & 3682.312 &  191.88\\\\\n\t Fair      & F & 3827.003 &  282.27\\\\\n\t Fair      & G & 4239.255 &  321.48\\\\\n\t Fair      & H & 5135.683 &  369.41\\\\\n\t Fair      & I & 4685.446 &  209.66\\\\\n\t Fair      & J & 4975.655 &  159.60\\\\\n\t Good      & D & 3405.382 &  492.87\\\\\n\t Good      & E & 3423.644 &  695.21\\\\\n\t Good      & F & 3495.750 &  705.32\\\\\n\t Good      & G & 4123.482 &  741.13\\\\\n\t Good      & H & 4276.255 &  642.14\\\\\n\t Good      & I & 5078.533 &  551.87\\\\\n\t Good      & J & 4574.173 &  337.56\\\\\n\t Very Good & D & 3470.467 & 1053.69\\\\\n\t Very Good & E & 3214.652 & 1623.16\\\\\n\t Very Good & F & 3778.820 & 1603.44\\\\\n\t Very Good & G & 3872.754 & 1762.87\\\\\n\t Very Good & H & 4535.390 & 1670.69\\\\\n\t Very Good & I & 5255.880 & 1260.53\\\\\n\t Very Good & J & 5103.513 &  768.32\\\\\n\t Premium   & D & 3631.293 & 1156.64\\\\\n\t Premium   & E & 3538.914 & 1677.37\\\\\n\t Premium   & F & 4324.890 & 1927.82\\\\\n\t Premium   & G & 4500.742 & 2460.51\\\\\n\t Premium   & H & 5216.707 & 2398.82\\\\\n\t Premium   & I & 5946.181 & 1634.97\\\\\n\t Premium   & J & 6294.592 & 1044.82\\\\\n\t Ideal     & D & 2629.095 & 1603.38\\\\\n\t Ideal     & E & 2597.550 & 2257.50\\\\\n\t Ideal     & F & 3374.939 & 2509.20\\\\\n\t Ideal     & G & 3720.706 & 3422.29\\\\\n\t Ideal     & H & 3889.335 & 2490.52\\\\\n\t Ideal     & I & 4451.970 & 1910.97\\\\\n\t Ideal     & J & 4918.186 &  952.98\\\\\n\\end{tabular}\n",
            "text/markdown": "\nA grouped_df: 35 × 4\n\n| cut &lt;ord&gt; | color &lt;ord&gt; | avgPrice &lt;dbl&gt; | sumCarat &lt;dbl&gt; |\n|---|---|---|---|\n| Fair      | D | 4291.061 |  149.98 |\n| Fair      | E | 3682.312 |  191.88 |\n| Fair      | F | 3827.003 |  282.27 |\n| Fair      | G | 4239.255 |  321.48 |\n| Fair      | H | 5135.683 |  369.41 |\n| Fair      | I | 4685.446 |  209.66 |\n| Fair      | J | 4975.655 |  159.60 |\n| Good      | D | 3405.382 |  492.87 |\n| Good      | E | 3423.644 |  695.21 |\n| Good      | F | 3495.750 |  705.32 |\n| Good      | G | 4123.482 |  741.13 |\n| Good      | H | 4276.255 |  642.14 |\n| Good      | I | 5078.533 |  551.87 |\n| Good      | J | 4574.173 |  337.56 |\n| Very Good | D | 3470.467 | 1053.69 |\n| Very Good | E | 3214.652 | 1623.16 |\n| Very Good | F | 3778.820 | 1603.44 |\n| Very Good | G | 3872.754 | 1762.87 |\n| Very Good | H | 4535.390 | 1670.69 |\n| Very Good | I | 5255.880 | 1260.53 |\n| Very Good | J | 5103.513 |  768.32 |\n| Premium   | D | 3631.293 | 1156.64 |\n| Premium   | E | 3538.914 | 1677.37 |\n| Premium   | F | 4324.890 | 1927.82 |\n| Premium   | G | 4500.742 | 2460.51 |\n| Premium   | H | 5216.707 | 2398.82 |\n| Premium   | I | 5946.181 | 1634.97 |\n| Premium   | J | 6294.592 | 1044.82 |\n| Ideal     | D | 2629.095 | 1603.38 |\n| Ideal     | E | 2597.550 | 2257.50 |\n| Ideal     | F | 3374.939 | 2509.20 |\n| Ideal     | G | 3720.706 | 3422.29 |\n| Ideal     | H | 3889.335 | 2490.52 |\n| Ideal     | I | 4451.970 | 1910.97 |\n| Ideal     | J | 4918.186 |  952.98 |\n\n",
            "text/html": [
              "<table>\n",
              "<caption>A grouped_df: 35 × 4</caption>\n",
              "<thead>\n",
              "\t<tr><th scope=col>cut</th><th scope=col>color</th><th scope=col>avgPrice</th><th scope=col>sumCarat</th></tr>\n",
              "\t<tr><th scope=col>&lt;ord&gt;</th><th scope=col>&lt;ord&gt;</th><th scope=col>&lt;dbl&gt;</th><th scope=col>&lt;dbl&gt;</th></tr>\n",
              "</thead>\n",
              "<tbody>\n",
              "\t<tr><td>Fair     </td><td>D</td><td>4291.061</td><td> 149.98</td></tr>\n",
              "\t<tr><td>Fair     </td><td>E</td><td>3682.312</td><td> 191.88</td></tr>\n",
              "\t<tr><td>Fair     </td><td>F</td><td>3827.003</td><td> 282.27</td></tr>\n",
              "\t<tr><td>Fair     </td><td>G</td><td>4239.255</td><td> 321.48</td></tr>\n",
              "\t<tr><td>Fair     </td><td>H</td><td>5135.683</td><td> 369.41</td></tr>\n",
              "\t<tr><td>Fair     </td><td>I</td><td>4685.446</td><td> 209.66</td></tr>\n",
              "\t<tr><td>Fair     </td><td>J</td><td>4975.655</td><td> 159.60</td></tr>\n",
              "\t<tr><td>Good     </td><td>D</td><td>3405.382</td><td> 492.87</td></tr>\n",
              "\t<tr><td>Good     </td><td>E</td><td>3423.644</td><td> 695.21</td></tr>\n",
              "\t<tr><td>Good     </td><td>F</td><td>3495.750</td><td> 705.32</td></tr>\n",
              "\t<tr><td>Good     </td><td>G</td><td>4123.482</td><td> 741.13</td></tr>\n",
              "\t<tr><td>Good     </td><td>H</td><td>4276.255</td><td> 642.14</td></tr>\n",
              "\t<tr><td>Good     </td><td>I</td><td>5078.533</td><td> 551.87</td></tr>\n",
              "\t<tr><td>Good     </td><td>J</td><td>4574.173</td><td> 337.56</td></tr>\n",
              "\t<tr><td>Very Good</td><td>D</td><td>3470.467</td><td>1053.69</td></tr>\n",
              "\t<tr><td>Very Good</td><td>E</td><td>3214.652</td><td>1623.16</td></tr>\n",
              "\t<tr><td>Very Good</td><td>F</td><td>3778.820</td><td>1603.44</td></tr>\n",
              "\t<tr><td>Very Good</td><td>G</td><td>3872.754</td><td>1762.87</td></tr>\n",
              "\t<tr><td>Very Good</td><td>H</td><td>4535.390</td><td>1670.69</td></tr>\n",
              "\t<tr><td>Very Good</td><td>I</td><td>5255.880</td><td>1260.53</td></tr>\n",
              "\t<tr><td>Very Good</td><td>J</td><td>5103.513</td><td> 768.32</td></tr>\n",
              "\t<tr><td>Premium  </td><td>D</td><td>3631.293</td><td>1156.64</td></tr>\n",
              "\t<tr><td>Premium  </td><td>E</td><td>3538.914</td><td>1677.37</td></tr>\n",
              "\t<tr><td>Premium  </td><td>F</td><td>4324.890</td><td>1927.82</td></tr>\n",
              "\t<tr><td>Premium  </td><td>G</td><td>4500.742</td><td>2460.51</td></tr>\n",
              "\t<tr><td>Premium  </td><td>H</td><td>5216.707</td><td>2398.82</td></tr>\n",
              "\t<tr><td>Premium  </td><td>I</td><td>5946.181</td><td>1634.97</td></tr>\n",
              "\t<tr><td>Premium  </td><td>J</td><td>6294.592</td><td>1044.82</td></tr>\n",
              "\t<tr><td>Ideal    </td><td>D</td><td>2629.095</td><td>1603.38</td></tr>\n",
              "\t<tr><td>Ideal    </td><td>E</td><td>2597.550</td><td>2257.50</td></tr>\n",
              "\t<tr><td>Ideal    </td><td>F</td><td>3374.939</td><td>2509.20</td></tr>\n",
              "\t<tr><td>Ideal    </td><td>G</td><td>3720.706</td><td>3422.29</td></tr>\n",
              "\t<tr><td>Ideal    </td><td>H</td><td>3889.335</td><td>2490.52</td></tr>\n",
              "\t<tr><td>Ideal    </td><td>I</td><td>4451.970</td><td>1910.97</td></tr>\n",
              "\t<tr><td>Ideal    </td><td>J</td><td>4918.186</td><td> 952.98</td></tr>\n",
              "</tbody>\n",
              "</table>\n"
            ]
          },
          "metadata": {
            "tags": []
          }
        }
      ]
    },
    {
      "cell_type": "code",
      "metadata": {
        "id": "WtzVElgGXRA-",
        "outputId": "1bbefe2e-093d-4246-b530-a98150193a53",
        "colab": {
          "base_uri": "https://localhost:8080/",
          "height": 261
        }
      },
      "source": [
        "# color 기준으로 평균 가격을 avgPrice로, 총 carat을 sumCarat이라는 이름으로 집계하고 평균가격으로 내림차순 정렬\n",
        "diamonds %>% group_by(color) %>% summarise(avgPrice = mean(price), sumCarat = sum(carat)) %>% arrange(avgPrice)"
      ],
      "execution_count": 36,
      "outputs": [
        {
          "output_type": "stream",
          "text": [
            "`summarise()` ungrouping output (override with `.groups` argument)\n",
            "\n"
          ],
          "name": "stderr"
        },
        {
          "output_type": "display_data",
          "data": {
            "text/plain": [
              "  color avgPrice sumCarat\n",
              "1 E     3076.752 6445.12 \n",
              "2 D     3169.954 4456.56 \n",
              "3 F     3724.886 7028.05 \n",
              "4 G     3999.136 8708.28 \n",
              "5 H     4486.669 7571.58 \n",
              "6 I     5091.875 5568.00 \n",
              "7 J     5323.818 3263.28 "
            ],
            "text/latex": "A tibble: 7 × 3\n\\begin{tabular}{lll}\n color & avgPrice & sumCarat\\\\\n <ord> & <dbl> & <dbl>\\\\\n\\hline\n\t E & 3076.752 & 6445.12\\\\\n\t D & 3169.954 & 4456.56\\\\\n\t F & 3724.886 & 7028.05\\\\\n\t G & 3999.136 & 8708.28\\\\\n\t H & 4486.669 & 7571.58\\\\\n\t I & 5091.875 & 5568.00\\\\\n\t J & 5323.818 & 3263.28\\\\\n\\end{tabular}\n",
            "text/markdown": "\nA tibble: 7 × 3\n\n| color &lt;ord&gt; | avgPrice &lt;dbl&gt; | sumCarat &lt;dbl&gt; |\n|---|---|---|\n| E | 3076.752 | 6445.12 |\n| D | 3169.954 | 4456.56 |\n| F | 3724.886 | 7028.05 |\n| G | 3999.136 | 8708.28 |\n| H | 4486.669 | 7571.58 |\n| I | 5091.875 | 5568.00 |\n| J | 5323.818 | 3263.28 |\n\n",
            "text/html": [
              "<table>\n",
              "<caption>A tibble: 7 × 3</caption>\n",
              "<thead>\n",
              "\t<tr><th scope=col>color</th><th scope=col>avgPrice</th><th scope=col>sumCarat</th></tr>\n",
              "\t<tr><th scope=col>&lt;ord&gt;</th><th scope=col>&lt;dbl&gt;</th><th scope=col>&lt;dbl&gt;</th></tr>\n",
              "</thead>\n",
              "<tbody>\n",
              "\t<tr><td>E</td><td>3076.752</td><td>6445.12</td></tr>\n",
              "\t<tr><td>D</td><td>3169.954</td><td>4456.56</td></tr>\n",
              "\t<tr><td>F</td><td>3724.886</td><td>7028.05</td></tr>\n",
              "\t<tr><td>G</td><td>3999.136</td><td>8708.28</td></tr>\n",
              "\t<tr><td>H</td><td>4486.669</td><td>7571.58</td></tr>\n",
              "\t<tr><td>I</td><td>5091.875</td><td>5568.00</td></tr>\n",
              "\t<tr><td>J</td><td>5323.818</td><td>3263.28</td></tr>\n",
              "</tbody>\n",
              "</table>\n"
            ]
          },
          "metadata": {
            "tags": []
          }
        }
      ]
    },
    {
      "cell_type": "code",
      "metadata": {
        "id": "APlcvYqlXi3I",
        "outputId": "68e2c730-2ac2-4cd0-f1bb-21b1923f7d31",
        "colab": {
          "base_uri": "https://localhost:8080/",
          "height": 261
        }
      },
      "source": [
        "# color 기준으로 평균 가격을 avgPrice로, 총 carat을 sumCarat이라는 이름으로 집계하고 평균가격은 내림차순 정렬,\n",
        "# 총 carat은 오름차순으로 정렬\n",
        "diamonds %>% group_by(color) %>% summarise(avgPrice = mean(price), sumCarat = sum(carat)) %>% \n",
        "arrange(desc(avgPrice),sumCarat)"
      ],
      "execution_count": 38,
      "outputs": [
        {
          "output_type": "stream",
          "text": [
            "`summarise()` ungrouping output (override with `.groups` argument)\n",
            "\n"
          ],
          "name": "stderr"
        },
        {
          "output_type": "display_data",
          "data": {
            "text/plain": [
              "  color avgPrice sumCarat\n",
              "1 J     5323.818 3263.28 \n",
              "2 I     5091.875 5568.00 \n",
              "3 H     4486.669 7571.58 \n",
              "4 G     3999.136 8708.28 \n",
              "5 F     3724.886 7028.05 \n",
              "6 D     3169.954 4456.56 \n",
              "7 E     3076.752 6445.12 "
            ],
            "text/latex": "A tibble: 7 × 3\n\\begin{tabular}{lll}\n color & avgPrice & sumCarat\\\\\n <ord> & <dbl> & <dbl>\\\\\n\\hline\n\t J & 5323.818 & 3263.28\\\\\n\t I & 5091.875 & 5568.00\\\\\n\t H & 4486.669 & 7571.58\\\\\n\t G & 3999.136 & 8708.28\\\\\n\t F & 3724.886 & 7028.05\\\\\n\t D & 3169.954 & 4456.56\\\\\n\t E & 3076.752 & 6445.12\\\\\n\\end{tabular}\n",
            "text/markdown": "\nA tibble: 7 × 3\n\n| color &lt;ord&gt; | avgPrice &lt;dbl&gt; | sumCarat &lt;dbl&gt; |\n|---|---|---|\n| J | 5323.818 | 3263.28 |\n| I | 5091.875 | 5568.00 |\n| H | 4486.669 | 7571.58 |\n| G | 3999.136 | 8708.28 |\n| F | 3724.886 | 7028.05 |\n| D | 3169.954 | 4456.56 |\n| E | 3076.752 | 6445.12 |\n\n",
            "text/html": [
              "<table>\n",
              "<caption>A tibble: 7 × 3</caption>\n",
              "<thead>\n",
              "\t<tr><th scope=col>color</th><th scope=col>avgPrice</th><th scope=col>sumCarat</th></tr>\n",
              "\t<tr><th scope=col>&lt;ord&gt;</th><th scope=col>&lt;dbl&gt;</th><th scope=col>&lt;dbl&gt;</th></tr>\n",
              "</thead>\n",
              "<tbody>\n",
              "\t<tr><td>J</td><td>5323.818</td><td>3263.28</td></tr>\n",
              "\t<tr><td>I</td><td>5091.875</td><td>5568.00</td></tr>\n",
              "\t<tr><td>H</td><td>4486.669</td><td>7571.58</td></tr>\n",
              "\t<tr><td>G</td><td>3999.136</td><td>8708.28</td></tr>\n",
              "\t<tr><td>F</td><td>3724.886</td><td>7028.05</td></tr>\n",
              "\t<tr><td>D</td><td>3169.954</td><td>4456.56</td></tr>\n",
              "\t<tr><td>E</td><td>3076.752</td><td>6445.12</td></tr>\n",
              "</tbody>\n",
              "</table>\n"
            ]
          },
          "metadata": {
            "tags": []
          }
        }
      ]
    },
    {
      "cell_type": "code",
      "metadata": {
        "id": "XCqpgwauXnId",
        "outputId": "86fa1057-0eef-42ee-b0f4-b26fd34fef34",
        "colab": {
          "base_uri": "https://localhost:8080/",
          "height": 280
        }
      },
      "source": [
        "# 변수명중 c로 시작하는 것만 출력\n",
        "diamonds[,starts_with('c')] # 실행오류 발생"
      ],
      "execution_count": 49,
      "outputs": [
        {
          "output_type": "error",
          "ename": "ERROR",
          "evalue": "ignored",
          "traceback": [
            "Error: `starts_with()` must be used within a *selecting* function.\n\u001b[34mℹ\u001b[39m See <https://tidyselect.r-lib.org/reference/faq-selection-context.html>.\nTraceback:\n",
            "1. diamonds[, starts_with(\"c\")]",
            "2. `[.tbl_df`(diamonds, , starts_with(\"c\"))",
            "3. starts_with(\"c\")",
            "4. vars %||% peek_vars(fn = \"starts_with\")",
            "5. peek_vars(fn = \"starts_with\")",
            "6. abort(glue_c(\"{fn} must be used within a *selecting* function.\", \n .     i = \"See <https://tidyselect.r-lib.org/reference/faq-selection-context.html>.\"))",
            "7. signal_abort(cnd)"
          ]
        }
      ]
    },
    {
      "cell_type": "code",
      "metadata": {
        "id": "9KOhHmJEa4-S",
        "outputId": "e4e3cb14-1f09-45b9-8a56-c7148c09be71",
        "colab": {
          "base_uri": "https://localhost:8080/",
          "height": 204
        }
      },
      "source": [
        "diamonds %>% select(starts_with('c')) %>% head"
      ],
      "execution_count": 51,
      "outputs": [
        {
          "output_type": "display_data",
          "data": {
            "text/plain": [
              "  carat cut       color clarity\n",
              "1 0.23  Ideal     E     SI2    \n",
              "2 0.21  Premium   E     SI1    \n",
              "3 0.23  Good      E     VS1    \n",
              "4 0.29  Premium   I     VS2    \n",
              "5 0.31  Good      J     SI2    \n",
              "6 0.24  Very Good J     VVS2   "
            ],
            "text/latex": "A tibble: 6 × 4\n\\begin{tabular}{llll}\n carat & cut & color & clarity\\\\\n <dbl> & <ord> & <ord> & <ord>\\\\\n\\hline\n\t 0.23 & Ideal     & E & SI2 \\\\\n\t 0.21 & Premium   & E & SI1 \\\\\n\t 0.23 & Good      & E & VS1 \\\\\n\t 0.29 & Premium   & I & VS2 \\\\\n\t 0.31 & Good      & J & SI2 \\\\\n\t 0.24 & Very Good & J & VVS2\\\\\n\\end{tabular}\n",
            "text/markdown": "\nA tibble: 6 × 4\n\n| carat &lt;dbl&gt; | cut &lt;ord&gt; | color &lt;ord&gt; | clarity &lt;ord&gt; |\n|---|---|---|---|\n| 0.23 | Ideal     | E | SI2  |\n| 0.21 | Premium   | E | SI1  |\n| 0.23 | Good      | E | VS1  |\n| 0.29 | Premium   | I | VS2  |\n| 0.31 | Good      | J | SI2  |\n| 0.24 | Very Good | J | VVS2 |\n\n",
            "text/html": [
              "<table>\n",
              "<caption>A tibble: 6 × 4</caption>\n",
              "<thead>\n",
              "\t<tr><th scope=col>carat</th><th scope=col>cut</th><th scope=col>color</th><th scope=col>clarity</th></tr>\n",
              "\t<tr><th scope=col>&lt;dbl&gt;</th><th scope=col>&lt;ord&gt;</th><th scope=col>&lt;ord&gt;</th><th scope=col>&lt;ord&gt;</th></tr>\n",
              "</thead>\n",
              "<tbody>\n",
              "\t<tr><td>0.23</td><td>Ideal    </td><td>E</td><td>SI2 </td></tr>\n",
              "\t<tr><td>0.21</td><td>Premium  </td><td>E</td><td>SI1 </td></tr>\n",
              "\t<tr><td>0.23</td><td>Good     </td><td>E</td><td>VS1 </td></tr>\n",
              "\t<tr><td>0.29</td><td>Premium  </td><td>I</td><td>VS2 </td></tr>\n",
              "\t<tr><td>0.31</td><td>Good     </td><td>J</td><td>SI2 </td></tr>\n",
              "\t<tr><td>0.24</td><td>Very Good</td><td>J</td><td>VVS2</td></tr>\n",
              "</tbody>\n",
              "</table>\n"
            ]
          },
          "metadata": {
            "tags": []
          }
        }
      ]
    },
    {
      "cell_type": "code",
      "metadata": {
        "id": "Pg4_i8LgaI6b",
        "outputId": "878f4e2c-e54e-4451-ff77-f9a705fd284a",
        "colab": {
          "base_uri": "https://localhost:8080/",
          "height": 204
        }
      },
      "source": [
        "# 변수명중 e로 끝나는 것만 출력 \n",
        "diamonds %>% select(ends_with('e')) %>% head"
      ],
      "execution_count": 53,
      "outputs": [
        {
          "output_type": "display_data",
          "data": {
            "text/plain": [
              "  table price Double \n",
              "1 55    326   2008998\n",
              "2 61    326   2409887\n",
              "3 65    327   2021342\n",
              "4 58    334   1326468\n",
              "5 58    335   1167794\n",
              "6 57    336   1960000"
            ],
            "text/latex": "A tibble: 6 × 3\n\\begin{tabular}{lll}\n table & price & Double\\\\\n <dbl> & <int> & <dbl>\\\\\n\\hline\n\t 55 & 326 & 2008998\\\\\n\t 61 & 326 & 2409887\\\\\n\t 65 & 327 & 2021342\\\\\n\t 58 & 334 & 1326468\\\\\n\t 58 & 335 & 1167794\\\\\n\t 57 & 336 & 1960000\\\\\n\\end{tabular}\n",
            "text/markdown": "\nA tibble: 6 × 3\n\n| table &lt;dbl&gt; | price &lt;int&gt; | Double &lt;dbl&gt; |\n|---|---|---|\n| 55 | 326 | 2008998 |\n| 61 | 326 | 2409887 |\n| 65 | 327 | 2021342 |\n| 58 | 334 | 1326468 |\n| 58 | 335 | 1167794 |\n| 57 | 336 | 1960000 |\n\n",
            "text/html": [
              "<table>\n",
              "<caption>A tibble: 6 × 3</caption>\n",
              "<thead>\n",
              "\t<tr><th scope=col>table</th><th scope=col>price</th><th scope=col>Double</th></tr>\n",
              "\t<tr><th scope=col>&lt;dbl&gt;</th><th scope=col>&lt;int&gt;</th><th scope=col>&lt;dbl&gt;</th></tr>\n",
              "</thead>\n",
              "<tbody>\n",
              "\t<tr><td>55</td><td>326</td><td>2008998</td></tr>\n",
              "\t<tr><td>61</td><td>326</td><td>2409887</td></tr>\n",
              "\t<tr><td>65</td><td>327</td><td>2021342</td></tr>\n",
              "\t<tr><td>58</td><td>334</td><td>1326468</td></tr>\n",
              "\t<tr><td>58</td><td>335</td><td>1167794</td></tr>\n",
              "\t<tr><td>57</td><td>336</td><td>1960000</td></tr>\n",
              "</tbody>\n",
              "</table>\n"
            ]
          },
          "metadata": {
            "tags": []
          }
        }
      ]
    },
    {
      "cell_type": "code",
      "metadata": {
        "id": "QeA9jgO1bOwY",
        "outputId": "23c93568-cbf4-49fc-f688-9614e000a078",
        "colab": {
          "base_uri": "https://localhost:8080/",
          "height": 204
        }
      },
      "source": [
        "# 변수명중 l을 포함하는 것만 출력 \n",
        "diamonds %>% select(contains('l')) %>% head"
      ],
      "execution_count": 56,
      "outputs": [
        {
          "output_type": "display_data",
          "data": {
            "text/plain": [
              "  color clarity table Double \n",
              "1 E     SI2     55    2008998\n",
              "2 E     SI1     61    2409887\n",
              "3 E     VS1     65    2021342\n",
              "4 I     VS2     58    1326468\n",
              "5 J     SI2     58    1167794\n",
              "6 J     VVS2    57    1960000"
            ],
            "text/latex": "A tibble: 6 × 4\n\\begin{tabular}{llll}\n color & clarity & table & Double\\\\\n <ord> & <ord> & <dbl> & <dbl>\\\\\n\\hline\n\t E & SI2  & 55 & 2008998\\\\\n\t E & SI1  & 61 & 2409887\\\\\n\t E & VS1  & 65 & 2021342\\\\\n\t I & VS2  & 58 & 1326468\\\\\n\t J & SI2  & 58 & 1167794\\\\\n\t J & VVS2 & 57 & 1960000\\\\\n\\end{tabular}\n",
            "text/markdown": "\nA tibble: 6 × 4\n\n| color &lt;ord&gt; | clarity &lt;ord&gt; | table &lt;dbl&gt; | Double &lt;dbl&gt; |\n|---|---|---|---|\n| E | SI2  | 55 | 2008998 |\n| E | SI1  | 61 | 2409887 |\n| E | VS1  | 65 | 2021342 |\n| I | VS2  | 58 | 1326468 |\n| J | SI2  | 58 | 1167794 |\n| J | VVS2 | 57 | 1960000 |\n\n",
            "text/html": [
              "<table>\n",
              "<caption>A tibble: 6 × 4</caption>\n",
              "<thead>\n",
              "\t<tr><th scope=col>color</th><th scope=col>clarity</th><th scope=col>table</th><th scope=col>Double</th></tr>\n",
              "\t<tr><th scope=col>&lt;ord&gt;</th><th scope=col>&lt;ord&gt;</th><th scope=col>&lt;dbl&gt;</th><th scope=col>&lt;dbl&gt;</th></tr>\n",
              "</thead>\n",
              "<tbody>\n",
              "\t<tr><td>E</td><td>SI2 </td><td>55</td><td>2008998</td></tr>\n",
              "\t<tr><td>E</td><td>SI1 </td><td>61</td><td>2409887</td></tr>\n",
              "\t<tr><td>E</td><td>VS1 </td><td>65</td><td>2021342</td></tr>\n",
              "\t<tr><td>I</td><td>VS2 </td><td>58</td><td>1326468</td></tr>\n",
              "\t<tr><td>J</td><td>SI2 </td><td>58</td><td>1167794</td></tr>\n",
              "\t<tr><td>J</td><td>VVS2</td><td>57</td><td>1960000</td></tr>\n",
              "</tbody>\n",
              "</table>\n"
            ]
          },
          "metadata": {
            "tags": []
          }
        }
      ]
    },
    {
      "cell_type": "code",
      "metadata": {
        "id": "scvA5_uvcgg4",
        "outputId": "ebdc26ae-df4f-42d5-f1a9-99626dbb745f",
        "colab": {
          "base_uri": "https://localhost:8080/",
          "height": 204
        }
      },
      "source": [
        "diamonds %>% select(matches('l')) %>% head # contains() 와 기능은 같고, 추가로 정규식 사용 가능"
      ],
      "execution_count": 62,
      "outputs": [
        {
          "output_type": "display_data",
          "data": {
            "text/plain": [
              "  color clarity table Double \n",
              "1 E     SI2     55    2008998\n",
              "2 E     SI1     61    2409887\n",
              "3 E     VS1     65    2021342\n",
              "4 I     VS2     58    1326468\n",
              "5 J     SI2     58    1167794\n",
              "6 J     VVS2    57    1960000"
            ],
            "text/latex": "A tibble: 6 × 4\n\\begin{tabular}{llll}\n color & clarity & table & Double\\\\\n <ord> & <ord> & <dbl> & <dbl>\\\\\n\\hline\n\t E & SI2  & 55 & 2008998\\\\\n\t E & SI1  & 61 & 2409887\\\\\n\t E & VS1  & 65 & 2021342\\\\\n\t I & VS2  & 58 & 1326468\\\\\n\t J & SI2  & 58 & 1167794\\\\\n\t J & VVS2 & 57 & 1960000\\\\\n\\end{tabular}\n",
            "text/markdown": "\nA tibble: 6 × 4\n\n| color &lt;ord&gt; | clarity &lt;ord&gt; | table &lt;dbl&gt; | Double &lt;dbl&gt; |\n|---|---|---|---|\n| E | SI2  | 55 | 2008998 |\n| E | SI1  | 61 | 2409887 |\n| E | VS1  | 65 | 2021342 |\n| I | VS2  | 58 | 1326468 |\n| J | SI2  | 58 | 1167794 |\n| J | VVS2 | 57 | 1960000 |\n\n",
            "text/html": [
              "<table>\n",
              "<caption>A tibble: 6 × 4</caption>\n",
              "<thead>\n",
              "\t<tr><th scope=col>color</th><th scope=col>clarity</th><th scope=col>table</th><th scope=col>Double</th></tr>\n",
              "\t<tr><th scope=col>&lt;ord&gt;</th><th scope=col>&lt;ord&gt;</th><th scope=col>&lt;dbl&gt;</th><th scope=col>&lt;dbl&gt;</th></tr>\n",
              "</thead>\n",
              "<tbody>\n",
              "\t<tr><td>E</td><td>SI2 </td><td>55</td><td>2008998</td></tr>\n",
              "\t<tr><td>E</td><td>SI1 </td><td>61</td><td>2409887</td></tr>\n",
              "\t<tr><td>E</td><td>VS1 </td><td>65</td><td>2021342</td></tr>\n",
              "\t<tr><td>I</td><td>VS2 </td><td>58</td><td>1326468</td></tr>\n",
              "\t<tr><td>J</td><td>SI2 </td><td>58</td><td>1167794</td></tr>\n",
              "\t<tr><td>J</td><td>VVS2</td><td>57</td><td>1960000</td></tr>\n",
              "</tbody>\n",
              "</table>\n"
            ]
          },
          "metadata": {
            "tags": []
          }
        }
      ]
    },
    {
      "cell_type": "code",
      "metadata": {
        "id": "fAgq3v0gbfrB",
        "outputId": "8868febf-df56-42d1-b082-3a31f9083679",
        "colab": {
          "base_uri": "https://localhost:8080/",
          "height": 204
        }
      },
      "source": [
        "# 변수명중 r과 t를 포함한 것만 출력 \n",
        "# diamonds %>% select(contains(c('r','t'))) %>% head (X)\n",
        "diamonds %>% select(contains('r') & contains('t')) %>% head"
      ],
      "execution_count": 64,
      "outputs": [
        {
          "output_type": "display_data",
          "data": {
            "text/plain": [
              "  carat clarity Ratio   \n",
              "1 0.23  SI2     1417.391\n",
              "2 0.21  SI1     1552.381\n",
              "3 0.23  VS1     1421.739\n",
              "4 0.29  VS2     1151.724\n",
              "5 0.31  SI2     1080.645\n",
              "6 0.24  VVS2    1400.000"
            ],
            "text/latex": "A tibble: 6 × 3\n\\begin{tabular}{lll}\n carat & clarity & Ratio\\\\\n <dbl> & <ord> & <dbl>\\\\\n\\hline\n\t 0.23 & SI2  & 1417.391\\\\\n\t 0.21 & SI1  & 1552.381\\\\\n\t 0.23 & VS1  & 1421.739\\\\\n\t 0.29 & VS2  & 1151.724\\\\\n\t 0.31 & SI2  & 1080.645\\\\\n\t 0.24 & VVS2 & 1400.000\\\\\n\\end{tabular}\n",
            "text/markdown": "\nA tibble: 6 × 3\n\n| carat &lt;dbl&gt; | clarity &lt;ord&gt; | Ratio &lt;dbl&gt; |\n|---|---|---|\n| 0.23 | SI2  | 1417.391 |\n| 0.21 | SI1  | 1552.381 |\n| 0.23 | VS1  | 1421.739 |\n| 0.29 | VS2  | 1151.724 |\n| 0.31 | SI2  | 1080.645 |\n| 0.24 | VVS2 | 1400.000 |\n\n",
            "text/html": [
              "<table>\n",
              "<caption>A tibble: 6 × 3</caption>\n",
              "<thead>\n",
              "\t<tr><th scope=col>carat</th><th scope=col>clarity</th><th scope=col>Ratio</th></tr>\n",
              "\t<tr><th scope=col>&lt;dbl&gt;</th><th scope=col>&lt;ord&gt;</th><th scope=col>&lt;dbl&gt;</th></tr>\n",
              "</thead>\n",
              "<tbody>\n",
              "\t<tr><td>0.23</td><td>SI2 </td><td>1417.391</td></tr>\n",
              "\t<tr><td>0.21</td><td>SI1 </td><td>1552.381</td></tr>\n",
              "\t<tr><td>0.23</td><td>VS1 </td><td>1421.739</td></tr>\n",
              "\t<tr><td>0.29</td><td>VS2 </td><td>1151.724</td></tr>\n",
              "\t<tr><td>0.31</td><td>SI2 </td><td>1080.645</td></tr>\n",
              "\t<tr><td>0.24</td><td>VVS2</td><td>1400.000</td></tr>\n",
              "</tbody>\n",
              "</table>\n"
            ]
          },
          "metadata": {
            "tags": []
          }
        }
      ]
    },
    {
      "cell_type": "code",
      "metadata": {
        "id": "W6lZAbq8c3CY",
        "outputId": "506e30cc-b033-4f5f-b1dd-ce78289906e8",
        "colab": {
          "base_uri": "https://localhost:8080/",
          "height": 204
        }
      },
      "source": [
        "# 정규식에서 . 은 임의의 문자하나 의미 \n",
        "diamonds %>% select(matches('r.t')) %>% head "
      ],
      "execution_count": 67,
      "outputs": [
        {
          "output_type": "display_data",
          "data": {
            "text/plain": [
              "  carat clarity Ratio   \n",
              "1 0.23  SI2     1417.391\n",
              "2 0.21  SI1     1552.381\n",
              "3 0.23  VS1     1421.739\n",
              "4 0.29  VS2     1151.724\n",
              "5 0.31  SI2     1080.645\n",
              "6 0.24  VVS2    1400.000"
            ],
            "text/latex": "A tibble: 6 × 3\n\\begin{tabular}{lll}\n carat & clarity & Ratio\\\\\n <dbl> & <ord> & <dbl>\\\\\n\\hline\n\t 0.23 & SI2  & 1417.391\\\\\n\t 0.21 & SI1  & 1552.381\\\\\n\t 0.23 & VS1  & 1421.739\\\\\n\t 0.29 & VS2  & 1151.724\\\\\n\t 0.31 & SI2  & 1080.645\\\\\n\t 0.24 & VVS2 & 1400.000\\\\\n\\end{tabular}\n",
            "text/markdown": "\nA tibble: 6 × 3\n\n| carat &lt;dbl&gt; | clarity &lt;ord&gt; | Ratio &lt;dbl&gt; |\n|---|---|---|\n| 0.23 | SI2  | 1417.391 |\n| 0.21 | SI1  | 1552.381 |\n| 0.23 | VS1  | 1421.739 |\n| 0.29 | VS2  | 1151.724 |\n| 0.31 | SI2  | 1080.645 |\n| 0.24 | VVS2 | 1400.000 |\n\n",
            "text/html": [
              "<table>\n",
              "<caption>A tibble: 6 × 3</caption>\n",
              "<thead>\n",
              "\t<tr><th scope=col>carat</th><th scope=col>clarity</th><th scope=col>Ratio</th></tr>\n",
              "\t<tr><th scope=col>&lt;dbl&gt;</th><th scope=col>&lt;ord&gt;</th><th scope=col>&lt;dbl&gt;</th></tr>\n",
              "</thead>\n",
              "<tbody>\n",
              "\t<tr><td>0.23</td><td>SI2 </td><td>1417.391</td></tr>\n",
              "\t<tr><td>0.21</td><td>SI1 </td><td>1552.381</td></tr>\n",
              "\t<tr><td>0.23</td><td>VS1 </td><td>1421.739</td></tr>\n",
              "\t<tr><td>0.29</td><td>VS2 </td><td>1151.724</td></tr>\n",
              "\t<tr><td>0.31</td><td>SI2 </td><td>1080.645</td></tr>\n",
              "\t<tr><td>0.24</td><td>VVS2</td><td>1400.000</td></tr>\n",
              "</tbody>\n",
              "</table>\n"
            ]
          },
          "metadata": {
            "tags": []
          }
        }
      ]
    },
    {
      "cell_type": "code",
      "metadata": {
        "id": "A_T1qMq-dx5e",
        "outputId": "a05dfda4-bee9-49ae-c987-911b8b582050",
        "colab": {
          "base_uri": "https://localhost:8080/",
          "height": 204
        }
      },
      "source": [
        "# 정규식에서 + 는 문자하나 이상을 의미\n",
        "diamonds %>% select(matches('r.+t')) %>% head "
      ],
      "execution_count": 69,
      "outputs": [
        {
          "output_type": "display_data",
          "data": {
            "text/plain": [
              "  carat clarity Ratio   \n",
              "1 0.23  SI2     1417.391\n",
              "2 0.21  SI1     1552.381\n",
              "3 0.23  VS1     1421.739\n",
              "4 0.29  VS2     1151.724\n",
              "5 0.31  SI2     1080.645\n",
              "6 0.24  VVS2    1400.000"
            ],
            "text/latex": "A tibble: 6 × 3\n\\begin{tabular}{lll}\n carat & clarity & Ratio\\\\\n <dbl> & <ord> & <dbl>\\\\\n\\hline\n\t 0.23 & SI2  & 1417.391\\\\\n\t 0.21 & SI1  & 1552.381\\\\\n\t 0.23 & VS1  & 1421.739\\\\\n\t 0.29 & VS2  & 1151.724\\\\\n\t 0.31 & SI2  & 1080.645\\\\\n\t 0.24 & VVS2 & 1400.000\\\\\n\\end{tabular}\n",
            "text/markdown": "\nA tibble: 6 × 3\n\n| carat &lt;dbl&gt; | clarity &lt;ord&gt; | Ratio &lt;dbl&gt; |\n|---|---|---|\n| 0.23 | SI2  | 1417.391 |\n| 0.21 | SI1  | 1552.381 |\n| 0.23 | VS1  | 1421.739 |\n| 0.29 | VS2  | 1151.724 |\n| 0.31 | SI2  | 1080.645 |\n| 0.24 | VVS2 | 1400.000 |\n\n",
            "text/html": [
              "<table>\n",
              "<caption>A tibble: 6 × 3</caption>\n",
              "<thead>\n",
              "\t<tr><th scope=col>carat</th><th scope=col>clarity</th><th scope=col>Ratio</th></tr>\n",
              "\t<tr><th scope=col>&lt;dbl&gt;</th><th scope=col>&lt;ord&gt;</th><th scope=col>&lt;dbl&gt;</th></tr>\n",
              "</thead>\n",
              "<tbody>\n",
              "\t<tr><td>0.23</td><td>SI2 </td><td>1417.391</td></tr>\n",
              "\t<tr><td>0.21</td><td>SI1 </td><td>1552.381</td></tr>\n",
              "\t<tr><td>0.23</td><td>VS1 </td><td>1421.739</td></tr>\n",
              "\t<tr><td>0.29</td><td>VS2 </td><td>1151.724</td></tr>\n",
              "\t<tr><td>0.31</td><td>SI2 </td><td>1080.645</td></tr>\n",
              "\t<tr><td>0.24</td><td>VVS2</td><td>1400.000</td></tr>\n",
              "</tbody>\n",
              "</table>\n"
            ]
          },
          "metadata": {
            "tags": []
          }
        }
      ]
    },
    {
      "cell_type": "code",
      "metadata": {
        "id": "5QENQM7teH9o"
      },
      "source": [
        "# 정규식 사용하기\n",
        "1234567890\n",
        "abcdefghijklmnopqrstuvwxyz\n",
        "ABCDEFGHIJKLMNOPQRSTUVWXYZ\n",
        "가나다라마바사아자차카타파하\n",
        "\n",
        "# 정규식 사용하기\n",
        "^1 : 1로 시작\n",
        "0$ : 0으로 끝남\n",
        "[479sx다라] : 4,7,9,.. 문자열을 순서대로"
      ],
      "execution_count": null,
      "outputs": []
    },
    {
      "cell_type": "code",
      "metadata": {
        "id": "JkE7453_bwLo",
        "outputId": "71805a4e-a754-4a7e-f5db-d16678c235b5",
        "colab": {
          "base_uri": "https://localhost:8080/",
          "height": 183
        }
      },
      "source": [
        "# 1행부터 5행까지 데이터 조회\n",
        "# diamonds[1:5,]\n",
        "# diamonds[c(1:5),]\n",
        "# diamonds[seq(1,5),]\n",
        "diamonds %>% slice(1:5)"
      ],
      "execution_count": 73,
      "outputs": [
        {
          "output_type": "display_data",
          "data": {
            "text/plain": [
              "  carat cut     color clarity depth table price x    y    z    Ratio    Double \n",
              "1 0.23  Ideal   E     SI2     61.5  55    326   3.95 3.98 2.43 1417.391 2008998\n",
              "2 0.21  Premium E     SI1     59.8  61    326   3.89 3.84 2.31 1552.381 2409887\n",
              "3 0.23  Good    E     VS1     56.9  65    327   4.05 4.07 2.31 1421.739 2021342\n",
              "4 0.29  Premium I     VS2     62.4  58    334   4.20 4.23 2.63 1151.724 1326468\n",
              "5 0.31  Good    J     SI2     63.3  58    335   4.34 4.35 2.75 1080.645 1167794"
            ],
            "text/latex": "A tibble: 5 × 12\n\\begin{tabular}{llllllllllll}\n carat & cut & color & clarity & depth & table & price & x & y & z & Ratio & Double\\\\\n <dbl> & <ord> & <ord> & <ord> & <dbl> & <dbl> & <int> & <dbl> & <dbl> & <dbl> & <dbl> & <dbl>\\\\\n\\hline\n\t 0.23 & Ideal   & E & SI2 & 61.5 & 55 & 326 & 3.95 & 3.98 & 2.43 & 1417.391 & 2008998\\\\\n\t 0.21 & Premium & E & SI1 & 59.8 & 61 & 326 & 3.89 & 3.84 & 2.31 & 1552.381 & 2409887\\\\\n\t 0.23 & Good    & E & VS1 & 56.9 & 65 & 327 & 4.05 & 4.07 & 2.31 & 1421.739 & 2021342\\\\\n\t 0.29 & Premium & I & VS2 & 62.4 & 58 & 334 & 4.20 & 4.23 & 2.63 & 1151.724 & 1326468\\\\\n\t 0.31 & Good    & J & SI2 & 63.3 & 58 & 335 & 4.34 & 4.35 & 2.75 & 1080.645 & 1167794\\\\\n\\end{tabular}\n",
            "text/markdown": "\nA tibble: 5 × 12\n\n| carat &lt;dbl&gt; | cut &lt;ord&gt; | color &lt;ord&gt; | clarity &lt;ord&gt; | depth &lt;dbl&gt; | table &lt;dbl&gt; | price &lt;int&gt; | x &lt;dbl&gt; | y &lt;dbl&gt; | z &lt;dbl&gt; | Ratio &lt;dbl&gt; | Double &lt;dbl&gt; |\n|---|---|---|---|---|---|---|---|---|---|---|---|\n| 0.23 | Ideal   | E | SI2 | 61.5 | 55 | 326 | 3.95 | 3.98 | 2.43 | 1417.391 | 2008998 |\n| 0.21 | Premium | E | SI1 | 59.8 | 61 | 326 | 3.89 | 3.84 | 2.31 | 1552.381 | 2409887 |\n| 0.23 | Good    | E | VS1 | 56.9 | 65 | 327 | 4.05 | 4.07 | 2.31 | 1421.739 | 2021342 |\n| 0.29 | Premium | I | VS2 | 62.4 | 58 | 334 | 4.20 | 4.23 | 2.63 | 1151.724 | 1326468 |\n| 0.31 | Good    | J | SI2 | 63.3 | 58 | 335 | 4.34 | 4.35 | 2.75 | 1080.645 | 1167794 |\n\n",
            "text/html": [
              "<table>\n",
              "<caption>A tibble: 5 × 12</caption>\n",
              "<thead>\n",
              "\t<tr><th scope=col>carat</th><th scope=col>cut</th><th scope=col>color</th><th scope=col>clarity</th><th scope=col>depth</th><th scope=col>table</th><th scope=col>price</th><th scope=col>x</th><th scope=col>y</th><th scope=col>z</th><th scope=col>Ratio</th><th scope=col>Double</th></tr>\n",
              "\t<tr><th scope=col>&lt;dbl&gt;</th><th scope=col>&lt;ord&gt;</th><th scope=col>&lt;ord&gt;</th><th scope=col>&lt;ord&gt;</th><th scope=col>&lt;dbl&gt;</th><th scope=col>&lt;dbl&gt;</th><th scope=col>&lt;int&gt;</th><th scope=col>&lt;dbl&gt;</th><th scope=col>&lt;dbl&gt;</th><th scope=col>&lt;dbl&gt;</th><th scope=col>&lt;dbl&gt;</th><th scope=col>&lt;dbl&gt;</th></tr>\n",
              "</thead>\n",
              "<tbody>\n",
              "\t<tr><td>0.23</td><td>Ideal  </td><td>E</td><td>SI2</td><td>61.5</td><td>55</td><td>326</td><td>3.95</td><td>3.98</td><td>2.43</td><td>1417.391</td><td>2008998</td></tr>\n",
              "\t<tr><td>0.21</td><td>Premium</td><td>E</td><td>SI1</td><td>59.8</td><td>61</td><td>326</td><td>3.89</td><td>3.84</td><td>2.31</td><td>1552.381</td><td>2409887</td></tr>\n",
              "\t<tr><td>0.23</td><td>Good   </td><td>E</td><td>VS1</td><td>56.9</td><td>65</td><td>327</td><td>4.05</td><td>4.07</td><td>2.31</td><td>1421.739</td><td>2021342</td></tr>\n",
              "\t<tr><td>0.29</td><td>Premium</td><td>I</td><td>VS2</td><td>62.4</td><td>58</td><td>334</td><td>4.20</td><td>4.23</td><td>2.63</td><td>1151.724</td><td>1326468</td></tr>\n",
              "\t<tr><td>0.31</td><td>Good   </td><td>J</td><td>SI2</td><td>63.3</td><td>58</td><td>335</td><td>4.34</td><td>4.35</td><td>2.75</td><td>1080.645</td><td>1167794</td></tr>\n",
              "</tbody>\n",
              "</table>\n"
            ]
          },
          "metadata": {
            "tags": []
          }
        }
      ]
    },
    {
      "cell_type": "code",
      "metadata": {
        "id": "rwuvQglmb2IA",
        "outputId": "b2a94251-c69f-473a-9958-9902c2e79129",
        "colab": {
          "base_uri": "https://localhost:8080/",
          "height": 330
        }
      },
      "source": [
        "# 1~5행, 8행, 15~20행 데이터 조회\n",
        "# diamonds[c(1:5,8,15:20),]\n",
        "diamonds %>% slice(1:5,8,15:20)"
      ],
      "execution_count": 77,
      "outputs": [
        {
          "output_type": "display_data",
          "data": {
            "text/plain": [
              "   carat cut       color clarity depth table price x    y    z    Ratio   \n",
              "1  0.23  Ideal     E     SI2     61.5  55    326   3.95 3.98 2.43 1417.391\n",
              "2  0.21  Premium   E     SI1     59.8  61    326   3.89 3.84 2.31 1552.381\n",
              "3  0.23  Good      E     VS1     56.9  65    327   4.05 4.07 2.31 1421.739\n",
              "4  0.29  Premium   I     VS2     62.4  58    334   4.20 4.23 2.63 1151.724\n",
              "5  0.31  Good      J     SI2     63.3  58    335   4.34 4.35 2.75 1080.645\n",
              "6  0.26  Very Good H     SI1     61.9  55    337   4.07 4.11 2.53 1296.154\n",
              "7  0.20  Premium   E     SI2     60.2  62    345   3.79 3.75 2.27 1725.000\n",
              "8  0.32  Premium   E     I1      60.9  58    345   4.38 4.42 2.68 1078.125\n",
              "9  0.30  Ideal     I     SI2     62.0  54    348   4.31 4.34 2.68 1160.000\n",
              "10 0.30  Good      J     SI1     63.4  54    351   4.23 4.29 2.70 1170.000\n",
              "11 0.30  Good      J     SI1     63.8  56    351   4.23 4.26 2.71 1170.000\n",
              "12 0.30  Very Good J     SI1     62.7  59    351   4.21 4.27 2.66 1170.000\n",
              "   Double \n",
              "1  2008998\n",
              "2  2409887\n",
              "3  2021342\n",
              "4  1326468\n",
              "5  1167794\n",
              "6  1680015\n",
              "7  2975625\n",
              "8  1162354\n",
              "9  1345600\n",
              "10 1368900\n",
              "11 1368900\n",
              "12 1368900"
            ],
            "text/latex": "A tibble: 12 × 12\n\\begin{tabular}{llllllllllll}\n carat & cut & color & clarity & depth & table & price & x & y & z & Ratio & Double\\\\\n <dbl> & <ord> & <ord> & <ord> & <dbl> & <dbl> & <int> & <dbl> & <dbl> & <dbl> & <dbl> & <dbl>\\\\\n\\hline\n\t 0.23 & Ideal     & E & SI2 & 61.5 & 55 & 326 & 3.95 & 3.98 & 2.43 & 1417.391 & 2008998\\\\\n\t 0.21 & Premium   & E & SI1 & 59.8 & 61 & 326 & 3.89 & 3.84 & 2.31 & 1552.381 & 2409887\\\\\n\t 0.23 & Good      & E & VS1 & 56.9 & 65 & 327 & 4.05 & 4.07 & 2.31 & 1421.739 & 2021342\\\\\n\t 0.29 & Premium   & I & VS2 & 62.4 & 58 & 334 & 4.20 & 4.23 & 2.63 & 1151.724 & 1326468\\\\\n\t 0.31 & Good      & J & SI2 & 63.3 & 58 & 335 & 4.34 & 4.35 & 2.75 & 1080.645 & 1167794\\\\\n\t 0.26 & Very Good & H & SI1 & 61.9 & 55 & 337 & 4.07 & 4.11 & 2.53 & 1296.154 & 1680015\\\\\n\t 0.20 & Premium   & E & SI2 & 60.2 & 62 & 345 & 3.79 & 3.75 & 2.27 & 1725.000 & 2975625\\\\\n\t 0.32 & Premium   & E & I1  & 60.9 & 58 & 345 & 4.38 & 4.42 & 2.68 & 1078.125 & 1162354\\\\\n\t 0.30 & Ideal     & I & SI2 & 62.0 & 54 & 348 & 4.31 & 4.34 & 2.68 & 1160.000 & 1345600\\\\\n\t 0.30 & Good      & J & SI1 & 63.4 & 54 & 351 & 4.23 & 4.29 & 2.70 & 1170.000 & 1368900\\\\\n\t 0.30 & Good      & J & SI1 & 63.8 & 56 & 351 & 4.23 & 4.26 & 2.71 & 1170.000 & 1368900\\\\\n\t 0.30 & Very Good & J & SI1 & 62.7 & 59 & 351 & 4.21 & 4.27 & 2.66 & 1170.000 & 1368900\\\\\n\\end{tabular}\n",
            "text/markdown": "\nA tibble: 12 × 12\n\n| carat &lt;dbl&gt; | cut &lt;ord&gt; | color &lt;ord&gt; | clarity &lt;ord&gt; | depth &lt;dbl&gt; | table &lt;dbl&gt; | price &lt;int&gt; | x &lt;dbl&gt; | y &lt;dbl&gt; | z &lt;dbl&gt; | Ratio &lt;dbl&gt; | Double &lt;dbl&gt; |\n|---|---|---|---|---|---|---|---|---|---|---|---|\n| 0.23 | Ideal     | E | SI2 | 61.5 | 55 | 326 | 3.95 | 3.98 | 2.43 | 1417.391 | 2008998 |\n| 0.21 | Premium   | E | SI1 | 59.8 | 61 | 326 | 3.89 | 3.84 | 2.31 | 1552.381 | 2409887 |\n| 0.23 | Good      | E | VS1 | 56.9 | 65 | 327 | 4.05 | 4.07 | 2.31 | 1421.739 | 2021342 |\n| 0.29 | Premium   | I | VS2 | 62.4 | 58 | 334 | 4.20 | 4.23 | 2.63 | 1151.724 | 1326468 |\n| 0.31 | Good      | J | SI2 | 63.3 | 58 | 335 | 4.34 | 4.35 | 2.75 | 1080.645 | 1167794 |\n| 0.26 | Very Good | H | SI1 | 61.9 | 55 | 337 | 4.07 | 4.11 | 2.53 | 1296.154 | 1680015 |\n| 0.20 | Premium   | E | SI2 | 60.2 | 62 | 345 | 3.79 | 3.75 | 2.27 | 1725.000 | 2975625 |\n| 0.32 | Premium   | E | I1  | 60.9 | 58 | 345 | 4.38 | 4.42 | 2.68 | 1078.125 | 1162354 |\n| 0.30 | Ideal     | I | SI2 | 62.0 | 54 | 348 | 4.31 | 4.34 | 2.68 | 1160.000 | 1345600 |\n| 0.30 | Good      | J | SI1 | 63.4 | 54 | 351 | 4.23 | 4.29 | 2.70 | 1170.000 | 1368900 |\n| 0.30 | Good      | J | SI1 | 63.8 | 56 | 351 | 4.23 | 4.26 | 2.71 | 1170.000 | 1368900 |\n| 0.30 | Very Good | J | SI1 | 62.7 | 59 | 351 | 4.21 | 4.27 | 2.66 | 1170.000 | 1368900 |\n\n",
            "text/html": [
              "<table>\n",
              "<caption>A tibble: 12 × 12</caption>\n",
              "<thead>\n",
              "\t<tr><th scope=col>carat</th><th scope=col>cut</th><th scope=col>color</th><th scope=col>clarity</th><th scope=col>depth</th><th scope=col>table</th><th scope=col>price</th><th scope=col>x</th><th scope=col>y</th><th scope=col>z</th><th scope=col>Ratio</th><th scope=col>Double</th></tr>\n",
              "\t<tr><th scope=col>&lt;dbl&gt;</th><th scope=col>&lt;ord&gt;</th><th scope=col>&lt;ord&gt;</th><th scope=col>&lt;ord&gt;</th><th scope=col>&lt;dbl&gt;</th><th scope=col>&lt;dbl&gt;</th><th scope=col>&lt;int&gt;</th><th scope=col>&lt;dbl&gt;</th><th scope=col>&lt;dbl&gt;</th><th scope=col>&lt;dbl&gt;</th><th scope=col>&lt;dbl&gt;</th><th scope=col>&lt;dbl&gt;</th></tr>\n",
              "</thead>\n",
              "<tbody>\n",
              "\t<tr><td>0.23</td><td>Ideal    </td><td>E</td><td>SI2</td><td>61.5</td><td>55</td><td>326</td><td>3.95</td><td>3.98</td><td>2.43</td><td>1417.391</td><td>2008998</td></tr>\n",
              "\t<tr><td>0.21</td><td>Premium  </td><td>E</td><td>SI1</td><td>59.8</td><td>61</td><td>326</td><td>3.89</td><td>3.84</td><td>2.31</td><td>1552.381</td><td>2409887</td></tr>\n",
              "\t<tr><td>0.23</td><td>Good     </td><td>E</td><td>VS1</td><td>56.9</td><td>65</td><td>327</td><td>4.05</td><td>4.07</td><td>2.31</td><td>1421.739</td><td>2021342</td></tr>\n",
              "\t<tr><td>0.29</td><td>Premium  </td><td>I</td><td>VS2</td><td>62.4</td><td>58</td><td>334</td><td>4.20</td><td>4.23</td><td>2.63</td><td>1151.724</td><td>1326468</td></tr>\n",
              "\t<tr><td>0.31</td><td>Good     </td><td>J</td><td>SI2</td><td>63.3</td><td>58</td><td>335</td><td>4.34</td><td>4.35</td><td>2.75</td><td>1080.645</td><td>1167794</td></tr>\n",
              "\t<tr><td>0.26</td><td>Very Good</td><td>H</td><td>SI1</td><td>61.9</td><td>55</td><td>337</td><td>4.07</td><td>4.11</td><td>2.53</td><td>1296.154</td><td>1680015</td></tr>\n",
              "\t<tr><td>0.20</td><td>Premium  </td><td>E</td><td>SI2</td><td>60.2</td><td>62</td><td>345</td><td>3.79</td><td>3.75</td><td>2.27</td><td>1725.000</td><td>2975625</td></tr>\n",
              "\t<tr><td>0.32</td><td>Premium  </td><td>E</td><td>I1 </td><td>60.9</td><td>58</td><td>345</td><td>4.38</td><td>4.42</td><td>2.68</td><td>1078.125</td><td>1162354</td></tr>\n",
              "\t<tr><td>0.30</td><td>Ideal    </td><td>I</td><td>SI2</td><td>62.0</td><td>54</td><td>348</td><td>4.31</td><td>4.34</td><td>2.68</td><td>1160.000</td><td>1345600</td></tr>\n",
              "\t<tr><td>0.30</td><td>Good     </td><td>J</td><td>SI1</td><td>63.4</td><td>54</td><td>351</td><td>4.23</td><td>4.29</td><td>2.70</td><td>1170.000</td><td>1368900</td></tr>\n",
              "\t<tr><td>0.30</td><td>Good     </td><td>J</td><td>SI1</td><td>63.8</td><td>56</td><td>351</td><td>4.23</td><td>4.26</td><td>2.71</td><td>1170.000</td><td>1368900</td></tr>\n",
              "\t<tr><td>0.30</td><td>Very Good</td><td>J</td><td>SI1</td><td>62.7</td><td>59</td><td>351</td><td>4.21</td><td>4.27</td><td>2.66</td><td>1170.000</td><td>1368900</td></tr>\n",
              "</tbody>\n",
              "</table>\n"
            ]
          },
          "metadata": {
            "tags": []
          }
        }
      ]
    },
    {
      "cell_type": "code",
      "metadata": {
        "id": "612BtEWKb-aw",
        "outputId": "cedb08eb-a070-44bd-f875-f91603dac112",
        "colab": {
          "base_uri": "https://localhost:8080/",
          "height": 204
        }
      },
      "source": [
        "# 1~5행 제외하고 데이터 조회\n",
        "# diamonds[-c(1:5),] %>% head\n",
        "diamonds %>% slice(-c(1:5)) %>% head "
      ],
      "execution_count": 76,
      "outputs": [
        {
          "output_type": "display_data",
          "data": {
            "text/plain": [
              "  carat cut       color clarity depth table price x    y    z    Ratio   \n",
              "1 0.24  Very Good J     VVS2    62.8  57    336   3.94 3.96 2.48 1400.000\n",
              "2 0.24  Very Good I     VVS1    62.3  57    336   3.95 3.98 2.47 1400.000\n",
              "3 0.26  Very Good H     SI1     61.9  55    337   4.07 4.11 2.53 1296.154\n",
              "4 0.22  Fair      E     VS2     65.1  61    337   3.87 3.78 2.49 1531.818\n",
              "5 0.23  Very Good H     VS1     59.4  61    338   4.00 4.05 2.39 1469.565\n",
              "6 0.30  Good      J     SI1     64.0  55    339   4.25 4.28 2.73 1130.000\n",
              "  Double \n",
              "1 1960000\n",
              "2 1960000\n",
              "3 1680015\n",
              "4 2346467\n",
              "5 2159622\n",
              "6 1276900"
            ],
            "text/latex": "A tibble: 6 × 12\n\\begin{tabular}{llllllllllll}\n carat & cut & color & clarity & depth & table & price & x & y & z & Ratio & Double\\\\\n <dbl> & <ord> & <ord> & <ord> & <dbl> & <dbl> & <int> & <dbl> & <dbl> & <dbl> & <dbl> & <dbl>\\\\\n\\hline\n\t 0.24 & Very Good & J & VVS2 & 62.8 & 57 & 336 & 3.94 & 3.96 & 2.48 & 1400.000 & 1960000\\\\\n\t 0.24 & Very Good & I & VVS1 & 62.3 & 57 & 336 & 3.95 & 3.98 & 2.47 & 1400.000 & 1960000\\\\\n\t 0.26 & Very Good & H & SI1  & 61.9 & 55 & 337 & 4.07 & 4.11 & 2.53 & 1296.154 & 1680015\\\\\n\t 0.22 & Fair      & E & VS2  & 65.1 & 61 & 337 & 3.87 & 3.78 & 2.49 & 1531.818 & 2346467\\\\\n\t 0.23 & Very Good & H & VS1  & 59.4 & 61 & 338 & 4.00 & 4.05 & 2.39 & 1469.565 & 2159622\\\\\n\t 0.30 & Good      & J & SI1  & 64.0 & 55 & 339 & 4.25 & 4.28 & 2.73 & 1130.000 & 1276900\\\\\n\\end{tabular}\n",
            "text/markdown": "\nA tibble: 6 × 12\n\n| carat &lt;dbl&gt; | cut &lt;ord&gt; | color &lt;ord&gt; | clarity &lt;ord&gt; | depth &lt;dbl&gt; | table &lt;dbl&gt; | price &lt;int&gt; | x &lt;dbl&gt; | y &lt;dbl&gt; | z &lt;dbl&gt; | Ratio &lt;dbl&gt; | Double &lt;dbl&gt; |\n|---|---|---|---|---|---|---|---|---|---|---|---|\n| 0.24 | Very Good | J | VVS2 | 62.8 | 57 | 336 | 3.94 | 3.96 | 2.48 | 1400.000 | 1960000 |\n| 0.24 | Very Good | I | VVS1 | 62.3 | 57 | 336 | 3.95 | 3.98 | 2.47 | 1400.000 | 1960000 |\n| 0.26 | Very Good | H | SI1  | 61.9 | 55 | 337 | 4.07 | 4.11 | 2.53 | 1296.154 | 1680015 |\n| 0.22 | Fair      | E | VS2  | 65.1 | 61 | 337 | 3.87 | 3.78 | 2.49 | 1531.818 | 2346467 |\n| 0.23 | Very Good | H | VS1  | 59.4 | 61 | 338 | 4.00 | 4.05 | 2.39 | 1469.565 | 2159622 |\n| 0.30 | Good      | J | SI1  | 64.0 | 55 | 339 | 4.25 | 4.28 | 2.73 | 1130.000 | 1276900 |\n\n",
            "text/html": [
              "<table>\n",
              "<caption>A tibble: 6 × 12</caption>\n",
              "<thead>\n",
              "\t<tr><th scope=col>carat</th><th scope=col>cut</th><th scope=col>color</th><th scope=col>clarity</th><th scope=col>depth</th><th scope=col>table</th><th scope=col>price</th><th scope=col>x</th><th scope=col>y</th><th scope=col>z</th><th scope=col>Ratio</th><th scope=col>Double</th></tr>\n",
              "\t<tr><th scope=col>&lt;dbl&gt;</th><th scope=col>&lt;ord&gt;</th><th scope=col>&lt;ord&gt;</th><th scope=col>&lt;ord&gt;</th><th scope=col>&lt;dbl&gt;</th><th scope=col>&lt;dbl&gt;</th><th scope=col>&lt;int&gt;</th><th scope=col>&lt;dbl&gt;</th><th scope=col>&lt;dbl&gt;</th><th scope=col>&lt;dbl&gt;</th><th scope=col>&lt;dbl&gt;</th><th scope=col>&lt;dbl&gt;</th></tr>\n",
              "</thead>\n",
              "<tbody>\n",
              "\t<tr><td>0.24</td><td>Very Good</td><td>J</td><td>VVS2</td><td>62.8</td><td>57</td><td>336</td><td>3.94</td><td>3.96</td><td>2.48</td><td>1400.000</td><td>1960000</td></tr>\n",
              "\t<tr><td>0.24</td><td>Very Good</td><td>I</td><td>VVS1</td><td>62.3</td><td>57</td><td>336</td><td>3.95</td><td>3.98</td><td>2.47</td><td>1400.000</td><td>1960000</td></tr>\n",
              "\t<tr><td>0.26</td><td>Very Good</td><td>H</td><td>SI1 </td><td>61.9</td><td>55</td><td>337</td><td>4.07</td><td>4.11</td><td>2.53</td><td>1296.154</td><td>1680015</td></tr>\n",
              "\t<tr><td>0.22</td><td>Fair     </td><td>E</td><td>VS2 </td><td>65.1</td><td>61</td><td>337</td><td>3.87</td><td>3.78</td><td>2.49</td><td>1531.818</td><td>2346467</td></tr>\n",
              "\t<tr><td>0.23</td><td>Very Good</td><td>H</td><td>VS1 </td><td>59.4</td><td>61</td><td>338</td><td>4.00</td><td>4.05</td><td>2.39</td><td>1469.565</td><td>2159622</td></tr>\n",
              "\t<tr><td>0.30</td><td>Good     </td><td>J</td><td>SI1 </td><td>64.0</td><td>55</td><td>339</td><td>4.25</td><td>4.28</td><td>2.73</td><td>1130.000</td><td>1276900</td></tr>\n",
              "</tbody>\n",
              "</table>\n"
            ]
          },
          "metadata": {
            "tags": []
          }
        }
      ]
    }
  ]
}