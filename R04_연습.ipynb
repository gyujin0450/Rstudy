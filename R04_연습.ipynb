{
  "nbformat": 4,
  "nbformat_minor": 0,
  "metadata": {
    "colab": {
      "name": "R04_연습.ipynb",
      "provenance": [],
      "authorship_tag": "ABX9TyNntpc0nrN/ObMQ6BtC1of8",
      "include_colab_link": true
    },
    "kernelspec": {
      "name": "ir",
      "display_name": "R"
    }
  },
  "cells": [
    {
      "cell_type": "markdown",
      "metadata": {
        "id": "view-in-github",
        "colab_type": "text"
      },
      "source": [
        "<a href=\"https://colab.research.google.com/github/gyujin0450/Rstudy/blob/master/R04_%EC%97%B0%EC%8A%B5.ipynb\" target=\"_parent\"><img src=\"https://colab.research.google.com/assets/colab-badge.svg\" alt=\"Open In Colab\"/></a>"
      ]
    },
    {
      "cell_type": "code",
      "metadata": {
        "id": "rYmFt0f_dam4",
        "colab_type": "code",
        "colab": {}
      },
      "source": [
        "emploees <- read.csv('https://raw.githubusercontent.com/gyujin0450/dataset/master/EMPLOYEES.csv')\n",
        "wintermedals <- read.csv('https://raw.githubusercontent.com/gyujin0450/dataset/master/wintermedals.csv')\n",
        "summermedals <- read.csv('https://raw.githubusercontent.com/gyujin0450/dataset/master/summermedals.csv')"
      ],
      "execution_count": null,
      "outputs": []
    },
    {
      "cell_type": "code",
      "metadata": {
        "id": "c-XtetNZe2qb",
        "colab_type": "code",
        "colab": {
          "base_uri": "https://localhost:8080/",
          "height": 230
        },
        "outputId": "554ad475-addc-42aa-c0d9-f53a3e5147d5"
      },
      "source": [
        "str(emploees)"
      ],
      "execution_count": null,
      "outputs": [
        {
          "output_type": "stream",
          "text": [
            "'data.frame':\t107 obs. of  11 variables:\n",
            " $ EMPLOYEE_ID   : int  100 101 102 103 104 105 106 107 108 109 ...\n",
            " $ FIRST_NAME    : Factor w/ 91 levels \"Adam\",\"Alana\",..: 80 64 51 4 11 18 88 20 61 16 ...\n",
            " $ LAST_NAME     : Factor w/ 102 levels \"Abel\",\"Ande\",..: 50 51 20 44 24 4 74 57 38 27 ...\n",
            " $ EMAIL         : Factor w/ 107 levels \"ABANDA\",\"ABULL\",..: 90 74 61 6 11 17 104 23 73 19 ...\n",
            " $ PHONE_NUMBER  : Factor w/ 107 levels \"011.44.1343.329268\",..: 37 38 39 58 59 60 57 61 50 45 ...\n",
            " $ HIRE_DATE     : Factor w/ 98 levels \"2001-01-13\",\"2002-06-07\",..: 8 40 1 49 79 34 51 73 4 3 ...\n",
            " $ JOB_ID        : Factor w/ 19 levels \"AC_ACCOUNT\",\"AC_MGR\",..: 4 5 5 9 9 9 9 9 7 6 ...\n",
            " $ SALARY        : int  24000 17000 17000 9000 6000 4800 4800 4200 12008 9000 ...\n",
            " $ COMMISSION_PCT: num  NA NA NA NA NA NA NA NA NA NA ...\n",
            " $ MANAGER_ID    : int  NA 100 100 102 103 103 103 103 101 108 ...\n",
            " $ DEPARTMENT_ID : int  90 90 90 60 60 60 60 60 100 100 ...\n"
          ],
          "name": "stdout"
        }
      ]
    },
    {
      "cell_type": "code",
      "metadata": {
        "id": "kZ97nyK7e_FL",
        "colab_type": "code",
        "colab": {
          "base_uri": "https://localhost:8080/",
          "height": 443
        },
        "outputId": "9db3653f-e0a8-4ce5-af85-36fa27953cdc"
      },
      "source": [
        "summary(emploees)"
      ],
      "execution_count": null,
      "outputs": [
        {
          "output_type": "display_data",
          "data": {
            "text/plain": [
              "  EMPLOYEE_ID        FIRST_NAME     LAST_NAME       EMAIL    \n",
              " Min.   :100.0   David    : 3   Cambrault: 2   ABANDA  :  1  \n",
              " 1st Qu.:126.5   John     : 3   Grant    : 2   ABULL   :  1  \n",
              " Median :153.0   Peter    : 3   King     : 2   ACABRIO :  1  \n",
              " Mean   :153.0   Alexander: 2   Smith    : 2   AERRAZUR:  1  \n",
              " 3rd Qu.:179.5   James    : 2   Taylor   : 2   AFRIPP  :  1  \n",
              " Max.   :206.0   Jennifer : 2   Abel     : 1   AHUNOLD :  1  \n",
              "                 (Other)  :92   (Other)  :96   (Other) :101  \n",
              "             PHONE_NUMBER      HIRE_DATE         JOB_ID       SALARY     \n",
              " 011.44.1343.329268:  1   2002-06-07: 4   SA_REP    :30   Min.   : 2100  \n",
              " 011.44.1343.529268:  1   2005-03-10: 2   SH_CLERK  :20   1st Qu.: 3100  \n",
              " 011.44.1343.629268:  1   2005-08-20: 2   ST_CLERK  :20   Median : 6200  \n",
              " 011.44.1343.729268:  1   2006-01-24: 2   FI_ACCOUNT: 5   Mean   : 6462  \n",
              " 011.44.1343.829268:  1   2007-02-07: 2   IT_PROG   : 5   3rd Qu.: 8900  \n",
              " 011.44.1343.929268:  1   2007-06-21: 2   PU_CLERK  : 5   Max.   :24000  \n",
              " (Other)           :101   (Other)   :93   (Other)   :22                  \n",
              " COMMISSION_PCT     MANAGER_ID    DEPARTMENT_ID   \n",
              " Min.   :0.1000   Min.   :100.0   Min.   : 10.00  \n",
              " 1st Qu.:0.1500   1st Qu.:108.0   1st Qu.: 50.00  \n",
              " Median :0.2000   Median :122.0   Median : 50.00  \n",
              " Mean   :0.2229   Mean   :124.8   Mean   : 63.21  \n",
              " 3rd Qu.:0.3000   3rd Qu.:145.0   3rd Qu.: 80.00  \n",
              " Max.   :0.4000   Max.   :205.0   Max.   :110.00  \n",
              " NA's   :72       NA's   :1       NA's   :1       "
            ]
          },
          "metadata": {
            "tags": []
          }
        }
      ]
    },
    {
      "cell_type": "code",
      "metadata": {
        "id": "dsMUwouYfG3U",
        "colab_type": "code",
        "colab": {
          "base_uri": "https://localhost:8080/",
          "height": 33
        },
        "outputId": "1bfd903a-8ff5-44d7-bf08-9542c760fd4c"
      },
      "source": [
        "colSums(is.na(emploees))"
      ],
      "execution_count": null,
      "outputs": [
        {
          "output_type": "display_data",
          "data": {
            "text/plain": [
              "   EMPLOYEE_ID     FIRST_NAME      LAST_NAME          EMAIL   PHONE_NUMBER \n",
              "             0              0              0              0              0 \n",
              "     HIRE_DATE         JOB_ID         SALARY COMMISSION_PCT     MANAGER_ID \n",
              "             0              0              0             72              1 \n",
              " DEPARTMENT_ID \n",
              "             1 "
            ],
            "text/latex": "\\begin{description*}\n\\item[EMPLOYEE\\textbackslash{}\\_ID] 0\n\\item[FIRST\\textbackslash{}\\_NAME] 0\n\\item[LAST\\textbackslash{}\\_NAME] 0\n\\item[EMAIL] 0\n\\item[PHONE\\textbackslash{}\\_NUMBER] 0\n\\item[HIRE\\textbackslash{}\\_DATE] 0\n\\item[JOB\\textbackslash{}\\_ID] 0\n\\item[SALARY] 0\n\\item[COMMISSION\\textbackslash{}\\_PCT] 72\n\\item[MANAGER\\textbackslash{}\\_ID] 1\n\\item[DEPARTMENT\\textbackslash{}\\_ID] 1\n\\end{description*}\n",
            "text/markdown": "EMPLOYEE_ID\n:   0FIRST_NAME\n:   0LAST_NAME\n:   0EMAIL\n:   0PHONE_NUMBER\n:   0HIRE_DATE\n:   0JOB_ID\n:   0SALARY\n:   0COMMISSION_PCT\n:   72MANAGER_ID\n:   1DEPARTMENT_ID\n:   1\n\n",
            "text/html": [
              "<style>\n",
              ".dl-inline {width: auto; margin:0; padding: 0}\n",
              ".dl-inline>dt, .dl-inline>dd {float: none; width: auto; display: inline-block}\n",
              ".dl-inline>dt::after {content: \":\\0020\"; padding-right: .5ex}\n",
              ".dl-inline>dt:not(:first-of-type) {padding-left: .5ex}\n",
              "</style><dl class=dl-inline><dt>EMPLOYEE_ID</dt><dd>0</dd><dt>FIRST_NAME</dt><dd>0</dd><dt>LAST_NAME</dt><dd>0</dd><dt>EMAIL</dt><dd>0</dd><dt>PHONE_NUMBER</dt><dd>0</dd><dt>HIRE_DATE</dt><dd>0</dd><dt>JOB_ID</dt><dd>0</dd><dt>SALARY</dt><dd>0</dd><dt>COMMISSION_PCT</dt><dd>72</dd><dt>MANAGER_ID</dt><dd>1</dd><dt>DEPARTMENT_ID</dt><dd>1</dd></dl>\n"
            ]
          },
          "metadata": {
            "tags": []
          }
        }
      ]
    }
  ]
}