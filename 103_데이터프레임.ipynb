{
  "nbformat": 4,
  "nbformat_minor": 0,
  "metadata": {
    "colab": {
      "name": "R03_데이터프레임.ipynb",
      "provenance": [],
      "collapsed_sections": [],
      "authorship_tag": "ABX9TyPRtHdylqC7vF5zV5JFLJON",
      "include_colab_link": true
    },
    "kernelspec": {
      "name": "ir",
      "display_name": "R"
    }
  },
  "cells": [
    {
      "cell_type": "markdown",
      "metadata": {
        "id": "view-in-github",
        "colab_type": "text"
      },
      "source": [
        "<a href=\"https://colab.research.google.com/github/gyujin0450/Rstudy/blob/master/103_%EB%8D%B0%EC%9D%B4%ED%84%B0%ED%94%84%EB%A0%88%EC%9E%84.ipynb\" target=\"_parent\"><img src=\"https://colab.research.google.com/assets/colab-badge.svg\" alt=\"Open In Colab\"/></a>"
      ]
    },
    {
      "cell_type": "markdown",
      "metadata": {
        "id": "oYdxw6UQJ9WW"
      },
      "source": [
        "## 데이터프레임"
      ]
    },
    {
      "cell_type": "code",
      "metadata": {
        "id": "K78uJuKnKR1g"
      },
      "source": [
        "# 정의 : 서로다른 유형의 벡터들을 하나의 자료구조로 묶은것(2차원 테이블형태로 저장)\n",
        "# 사용법 : data.frame(벡터, 벡터, 벡터, .., 옵션)"
      ],
      "execution_count": null,
      "outputs": []
    },
    {
      "cell_type": "code",
      "metadata": {
        "id": "csdBzQXlLcG8"
      },
      "source": [
        "# 신생아 월별 몸무게 변화\n",
        "age <- c(1,3,5,2,11,9, 3, 9, 12, 3)\n",
        "weight <- c(4.4, 5.3, 7.2, 5.2,8.5, 7.3, 6.0, 10.4, 10.2, 6.1)"
      ],
      "execution_count": null,
      "outputs": []
    },
    {
      "cell_type": "code",
      "metadata": {
        "id": "pxH1aK2ELvJa",
        "outputId": "6f152ccd-cfb8-43c1-d765-73591f23a7ac",
        "colab": {
          "base_uri": "https://localhost:8080/",
          "height": 264
        }
      },
      "source": [
        "baby <- data.frame( age, weight)\n",
        "baby"
      ],
      "execution_count": null,
      "outputs": [
        {
          "output_type": "display_data",
          "data": {
            "text/plain": [
              "   age weight\n",
              "1   1   4.4  \n",
              "2   3   5.3  \n",
              "3   5   7.2  \n",
              "4   2   5.2  \n",
              "5  11   8.5  \n",
              "6   9   7.3  \n",
              "7   3   6.0  \n",
              "8   9  10.4  \n",
              "9  12  10.2  \n",
              "10  3   6.1  "
            ],
            "text/latex": "A data.frame: 10 × 2\n\\begin{tabular}{ll}\n age & weight\\\\\n <dbl> & <dbl>\\\\\n\\hline\n\t  1 &  4.4\\\\\n\t  3 &  5.3\\\\\n\t  5 &  7.2\\\\\n\t  2 &  5.2\\\\\n\t 11 &  8.5\\\\\n\t  9 &  7.3\\\\\n\t  3 &  6.0\\\\\n\t  9 & 10.4\\\\\n\t 12 & 10.2\\\\\n\t  3 &  6.1\\\\\n\\end{tabular}\n",
            "text/markdown": "\nA data.frame: 10 × 2\n\n| age &lt;dbl&gt; | weight &lt;dbl&gt; |\n|---|---|\n|  1 |  4.4 |\n|  3 |  5.3 |\n|  5 |  7.2 |\n|  2 |  5.2 |\n| 11 |  8.5 |\n|  9 |  7.3 |\n|  3 |  6.0 |\n|  9 | 10.4 |\n| 12 | 10.2 |\n|  3 |  6.1 |\n\n",
            "text/html": [
              "<table>\n",
              "<caption>A data.frame: 10 × 2</caption>\n",
              "<thead>\n",
              "\t<tr><th scope=col>age</th><th scope=col>weight</th></tr>\n",
              "\t<tr><th scope=col>&lt;dbl&gt;</th><th scope=col>&lt;dbl&gt;</th></tr>\n",
              "</thead>\n",
              "<tbody>\n",
              "\t<tr><td> 1</td><td> 4.4</td></tr>\n",
              "\t<tr><td> 3</td><td> 5.3</td></tr>\n",
              "\t<tr><td> 5</td><td> 7.2</td></tr>\n",
              "\t<tr><td> 2</td><td> 5.2</td></tr>\n",
              "\t<tr><td>11</td><td> 8.5</td></tr>\n",
              "\t<tr><td> 9</td><td> 7.3</td></tr>\n",
              "\t<tr><td> 3</td><td> 6.0</td></tr>\n",
              "\t<tr><td> 9</td><td>10.4</td></tr>\n",
              "\t<tr><td>12</td><td>10.2</td></tr>\n",
              "\t<tr><td> 3</td><td> 6.1</td></tr>\n",
              "</tbody>\n",
              "</table>\n"
            ]
          },
          "metadata": {
            "tags": []
          }
        }
      ]
    },
    {
      "cell_type": "code",
      "metadata": {
        "id": "stEy_fjHL6Sj",
        "outputId": "60e86a1e-3a74-41d4-8c4a-625ab26e54e7",
        "colab": {
          "base_uri": "https://localhost:8080/",
          "height": 70
        }
      },
      "source": [
        "# 데이터프레임의 구조 파악\n",
        "str(baby)"
      ],
      "execution_count": null,
      "outputs": [
        {
          "output_type": "stream",
          "text": [
            "'data.frame':\t10 obs. of  2 variables:\n",
            " $ age   : num  1 3 5 2 11 9 3 9 12 3\n",
            " $ weight: num  4.4 5.3 7.2 5.2 8.5 7.3 6 10.4 10.2 6.1\n"
          ],
          "name": "stdout"
        }
      ]
    },
    {
      "cell_type": "code",
      "metadata": {
        "id": "HjcdvF8rMEaj"
      },
      "source": [
        "# 매니저 평점 분석\n",
        "manager <- c(1,2,3,4,5)\n",
        "date <- c('10/24/14','10/28/14','10/01/14','10/12/14','05/01/14')\n",
        "country <- c('US','US','UK','UK','UK')\n",
        "gender <- c('M','F','F','M','F')\n",
        "mage <- c(32,45,25,39,99)\n",
        "q1 <- c(5,3,3,3,2)\n",
        "q2 <- c(4,5,5,3,2)\n",
        "q3 <- c(5,2,5,4,1)\n",
        "q4 <- c(5,5,5,NA,2)\n",
        "q5 <- c(5,5,2,NA,1)"
      ],
      "execution_count": null,
      "outputs": []
    },
    {
      "cell_type": "code",
      "metadata": {
        "id": "KVrXnhgSN-xk"
      },
      "source": [
        "managers <-data.frame(manager, date, country, gender, mage, q1, q2,q3,q4,q5)"
      ],
      "execution_count": null,
      "outputs": []
    },
    {
      "cell_type": "code",
      "metadata": {
        "id": "S72_OT_xODZS",
        "outputId": "443e5c4e-6b10-4b9c-db0e-d797cc6e8ee6",
        "colab": {
          "base_uri": "https://localhost:8080/",
          "height": 212
        }
      },
      "source": [
        "str(managers)"
      ],
      "execution_count": null,
      "outputs": [
        {
          "output_type": "stream",
          "text": [
            "'data.frame':\t5 obs. of  10 variables:\n",
            " $ manager: num  1 2 3 4 5\n",
            " $ date   : Factor w/ 5 levels \"05/01/14\",\"10/01/14\",..: 4 5 2 3 1\n",
            " $ country: Factor w/ 2 levels \"UK\",\"US\": 2 2 1 1 1\n",
            " $ gender : Factor w/ 2 levels \"F\",\"M\": 2 1 1 2 1\n",
            " $ mage   : num  32 45 25 39 99\n",
            " $ q1     : num  5 3 3 3 2\n",
            " $ q2     : num  4 5 5 3 2\n",
            " $ q3     : num  5 2 5 4 1\n",
            " $ q4     : num  5 5 5 NA 2\n",
            " $ q5     : num  5 5 2 NA 1\n"
          ],
          "name": "stdout"
        }
      ]
    },
    {
      "cell_type": "code",
      "metadata": {
        "id": "NpObzBPcMGVg",
        "outputId": "3d6586f8-9d32-49ae-f142-99436c018c2d",
        "colab": {
          "base_uri": "https://localhost:8080/",
          "height": 212
        }
      },
      "source": [
        "# 문자형을 범주형 자료를 자동 변환 금지 하기(예: date)\n",
        "# managers <-data.frame(manager, date, country, gender, mage, q1, q2,q3,q4,q5,stringsAsFactors = F)\n",
        "# country, gender 는 범주형을 유지하려면...\n",
        "# managers$country <- as.factor(managers$country)\n",
        "# managers$gender <- as.factor(managers$gender)\n",
        "managers <-data.frame(manager, date, as.factor(country), as.factor(gender), mage, q1, q2,q3,q4,q5,stringsAsFactors = F)\n",
        "str(managers)"
      ],
      "execution_count": null,
      "outputs": [
        {
          "output_type": "stream",
          "text": [
            "'data.frame':\t5 obs. of  10 variables:\n",
            " $ manager           : num  1 2 3 4 5\n",
            " $ date              : chr  \"10/24/14\" \"10/28/14\" \"10/01/14\" \"10/12/14\" ...\n",
            " $ as.factor.country.: Factor w/ 2 levels \"UK\",\"US\": 2 2 1 1 1\n",
            " $ as.factor.gender. : Factor w/ 2 levels \"F\",\"M\": 2 1 1 2 1\n",
            " $ mage              : num  32 45 25 39 99\n",
            " $ q1                : num  5 3 3 3 2\n",
            " $ q2                : num  4 5 5 3 2\n",
            " $ q3                : num  5 2 5 4 1\n",
            " $ q4                : num  5 5 5 NA 2\n",
            " $ q5                : num  5 5 2 NA 1\n"
          ],
          "name": "stdout"
        }
      ]
    },
    {
      "cell_type": "code",
      "metadata": {
        "id": "2odqZhI6MpvR",
        "outputId": "22d7b09d-4310-4630-e8cd-36ee4a453507",
        "colab": {
          "base_uri": "https://localhost:8080/",
          "height": 212
        }
      },
      "source": [
        "# managers <-data.frame(manager, as.character(date), country, gender, mage, q1, q2,q3,q4,q5)일 때는 적용이 안됨??\n",
        "managers <-data.frame(manager, date, country, gender, mage, q1, q2,q3,q4,q5)\n",
        "managers$date <- as.character(managers$date)\n",
        "str(managers)"
      ],
      "execution_count": null,
      "outputs": [
        {
          "output_type": "stream",
          "text": [
            "'data.frame':\t5 obs. of  10 variables:\n",
            " $ manager: num  1 2 3 4 5\n",
            " $ date   : chr  \"10/24/14\" \"10/28/14\" \"10/01/14\" \"10/12/14\" ...\n",
            " $ country: Factor w/ 2 levels \"UK\",\"US\": 2 2 1 1 1\n",
            " $ gender : Factor w/ 2 levels \"F\",\"M\": 2 1 1 2 1\n",
            " $ mage   : num  32 45 25 39 99\n",
            " $ q1     : num  5 3 3 3 2\n",
            " $ q2     : num  4 5 5 3 2\n",
            " $ q3     : num  5 2 5 4 1\n",
            " $ q4     : num  5 5 5 NA 2\n",
            " $ q5     : num  5 5 2 NA 1\n"
          ],
          "name": "stdout"
        }
      ]
    },
    {
      "cell_type": "code",
      "metadata": {
        "id": "0lKhoe1ySZZy"
      },
      "source": [
        "# 외부에 있는 titanic.csv 불러오기(주의 github가 public 이어야 함)\n",
        "titanic <- read.csv('https://raw.githubusercontent.com/gyujin0450/dataset/master/titanic.csv')"
      ],
      "execution_count": null,
      "outputs": []
    },
    {
      "cell_type": "code",
      "metadata": {
        "id": "bVUQXs5aT1Di",
        "outputId": "08302eb5-4b60-41f5-958e-ab594e9dfab3",
        "colab": {
          "base_uri": "https://localhost:8080/",
          "height": 230
        }
      },
      "source": [
        "str(titanic)"
      ],
      "execution_count": null,
      "outputs": [
        {
          "output_type": "stream",
          "text": [
            "'data.frame':\t1310 obs. of  11 variables:\n",
            " $ pclass  : int  1 1 1 1 1 1 1 1 1 1 ...\n",
            " $ survived: int  1 1 0 0 0 1 1 0 1 0 ...\n",
            " $ name    : Factor w/ 1308 levels \"\",\"Abbing, Mr. Anthony\",..: 23 25 26 27 28 32 47 48 52 56 ...\n",
            " $ sex     : Factor w/ 3 levels \"\",\"female\",\"male\": 2 3 2 3 2 3 2 3 2 3 ...\n",
            " $ age     : num  29 0.917 2 30 25 ...\n",
            " $ sibsp   : int  0 1 1 1 1 0 1 0 2 0 ...\n",
            " $ parch   : int  0 2 2 2 2 0 0 0 0 0 ...\n",
            " $ ticket  : Factor w/ 930 levels \"\",\"110152\",\"110413\",..: 189 51 51 51 51 126 94 17 78 827 ...\n",
            " $ fare    : num  211 152 152 152 152 ...\n",
            " $ cabin   : Factor w/ 187 levels \"\",\"A10\",\"A11\",..: 45 81 81 81 81 151 147 17 63 1 ...\n",
            " $ embarked: Factor w/ 4 levels \"\",\"C\",\"Q\",\"S\": 4 4 4 4 4 4 4 4 4 2 ...\n"
          ],
          "name": "stdout"
        }
      ]
    },
    {
      "cell_type": "code",
      "metadata": {
        "id": "ARsPComtT4r5",
        "outputId": "ae3704ec-e06f-41ba-d77d-d1e8c9b67ab7",
        "colab": {
          "base_uri": "https://localhost:8080/",
          "height": 443
        }
      },
      "source": [
        "summary(titanic)"
      ],
      "execution_count": null,
      "outputs": [
        {
          "output_type": "display_data",
          "data": {
            "text/plain": [
              "     pclass         survived                                name     \n",
              " Min.   :1.000   Min.   :0.000   Connolly, Miss. Kate         :   2  \n",
              " 1st Qu.:2.000   1st Qu.:0.000   Kelly, Mr. James             :   2  \n",
              " Median :3.000   Median :0.000                                :   1  \n",
              " Mean   :2.295   Mean   :0.382   Abbing, Mr. Anthony          :   1  \n",
              " 3rd Qu.:3.000   3rd Qu.:1.000   Abbott, Master. Eugene Joseph:   1  \n",
              " Max.   :3.000   Max.   :1.000   Abbott, Mr. Rossmore Edward  :   1  \n",
              " NA's   :1       NA's   :1       (Other)                      :1302  \n",
              "     sex           age              sibsp            parch      \n",
              "       :  1   Min.   : 0.1667   Min.   :0.0000   Min.   :0.000  \n",
              " female:466   1st Qu.:21.0000   1st Qu.:0.0000   1st Qu.:0.000  \n",
              " male  :843   Median :28.0000   Median :0.0000   Median :0.000  \n",
              "              Mean   :29.8811   Mean   :0.4989   Mean   :0.385  \n",
              "              3rd Qu.:39.0000   3rd Qu.:1.0000   3rd Qu.:0.000  \n",
              "              Max.   :80.0000   Max.   :8.0000   Max.   :9.000  \n",
              "              NA's   :264       NA's   :1        NA's   :1      \n",
              "      ticket          fare                     cabin      embarked\n",
              " CA. 2343:  11   Min.   :  0.000                  :1015    :  3   \n",
              " 1601    :   8   1st Qu.:  7.896   C23 C25 C27    :   6   C:270   \n",
              " CA 2144 :   8   Median : 14.454   B57 B59 B63 B66:   5   Q:123   \n",
              " 3101295 :   7   Mean   : 33.295   G6             :   5   S:914   \n",
              " 347077  :   7   3rd Qu.: 31.275   B96 B98        :   4           \n",
              " 347082  :   7   Max.   :512.329   C22 C26        :   4           \n",
              " (Other) :1262   NA's   :2         (Other)        : 271           "
            ]
          },
          "metadata": {
            "tags": []
          }
        }
      ]
    },
    {
      "cell_type": "code",
      "metadata": {
        "id": "97qJ9KTFUWPM",
        "outputId": "4b2c0d57-72ce-4ce3-8eeb-b03017aef76c",
        "colab": {
          "base_uri": "https://localhost:8080/",
          "height": 50
        }
      },
      "source": [
        "colSums(is.na(titanic)) # 결측치 갯수 파악"
      ],
      "execution_count": null,
      "outputs": [
        {
          "output_type": "display_data",
          "data": {
            "text/plain": [
              "  pclass survived     name      sex      age    sibsp    parch   ticket \n",
              "       1        1        0        0      264        1        1        0 \n",
              "    fare    cabin embarked \n",
              "       2        0        0 "
            ],
            "text/latex": "\\begin{description*}\n\\item[pclass] 1\n\\item[survived] 1\n\\item[name] 0\n\\item[sex] 0\n\\item[age] 264\n\\item[sibsp] 1\n\\item[parch] 1\n\\item[ticket] 0\n\\item[fare] 2\n\\item[cabin] 0\n\\item[embarked] 0\n\\end{description*}\n",
            "text/markdown": "pclass\n:   1survived\n:   1name\n:   0sex\n:   0age\n:   264sibsp\n:   1parch\n:   1ticket\n:   0fare\n:   2cabin\n:   0embarked\n:   0\n\n",
            "text/html": [
              "<style>\n",
              ".dl-inline {width: auto; margin:0; padding: 0}\n",
              ".dl-inline>dt, .dl-inline>dd {float: none; width: auto; display: inline-block}\n",
              ".dl-inline>dt::after {content: \":\\0020\"; padding-right: .5ex}\n",
              ".dl-inline>dt:not(:first-of-type) {padding-left: .5ex}\n",
              "</style><dl class=dl-inline><dt>pclass</dt><dd>1</dd><dt>survived</dt><dd>1</dd><dt>name</dt><dd>0</dd><dt>sex</dt><dd>0</dd><dt>age</dt><dd>264</dd><dt>sibsp</dt><dd>1</dd><dt>parch</dt><dd>1</dd><dt>ticket</dt><dd>0</dd><dt>fare</dt><dd>2</dd><dt>cabin</dt><dd>0</dd><dt>embarked</dt><dd>0</dd></dl>\n"
            ]
          },
          "metadata": {
            "tags": []
          }
        }
      ]
    },
    {
      "cell_type": "code",
      "metadata": {
        "id": "VpM5FAUIYp-p",
        "outputId": "9e27c007-d154-44de-842a-d710ef8d142d",
        "colab": {
          "base_uri": "https://localhost:8080/",
          "height": 436
        }
      },
      "source": [
        "# 타이타닉 승선객 중 사망/생존(survived) 현황\n",
        "# 0 : dead, 1 : live\n",
        "frq_survived <- table(titanic$survived)\n",
        "barplot(frq_survived)"
      ],
      "execution_count": null,
      "outputs": [
        {
          "output_type": "display_data",
          "data": {
            "image/png": "[encoded data removed]",
            "text/plain": [
              "plot without title"
            ]
          },
          "metadata": {
            "tags": [],
            "image/png": {
              "width": 420,
              "height": 420
            }
          }
        }
      ]
    },
    {
      "cell_type": "code",
      "metadata": {
        "id": "L2WgvLudYySl",
        "outputId": "22d06a3e-b351-40b6-df37-e84865690565",
        "colab": {
          "base_uri": "https://localhost:8080/",
          "height": 436
        }
      },
      "source": [
        "# 타이타닉 승선객 중 성별(sex) 현황\n",
        "frq_sex <- table(titanic$sex)\n",
        "barplot(frq_sex)\n",
        "# 결측치를 제거하려면.."
      ],
      "execution_count": null,
      "outputs": [
        {
          "output_type": "display_data",
          "data": {
            "image/png": "[encoded data removed]",
            "text/plain": [
              "plot without title"
            ]
          },
          "metadata": {
            "tags": [],
            "image/png": {
              "width": 420,
              "height": 420
            }
          }
        }
      ]
    },
    {
      "cell_type": "code",
      "metadata": {
        "id": "9XPktnKOY3E0",
        "outputId": "29a74205-08e6-4179-91a7-50067a0c322a",
        "colab": {
          "base_uri": "https://localhost:8080/",
          "height": 436
        }
      },
      "source": [
        "# 타이타닉 승선색 중 승선위치(embarked) 현황(??)\n",
        "# C : cherbrug\n",
        "# S : southampthon\n",
        "# q : queenstown\n",
        "frq_embarked <- table(titanic$embarked)\n",
        "barplot(frq_embarked) # 오타 주의!! "
      ],
      "execution_count": null,
      "outputs": [
        {
          "output_type": "display_data",
          "data": {
            "image/png": "[encoded data removed]",
            "text/plain": [
              "plot without title"
            ]
          },
          "metadata": {
            "tags": [],
            "image/png": {
              "width": 420,
              "height": 420
            }
          }
        }
      ]
    },
    {
      "cell_type": "code",
      "metadata": {
        "id": "XynK67XIabbP",
        "outputId": "ebbab9de-7e03-48b0-ae5b-476234a1fe8d",
        "colab": {
          "base_uri": "https://localhost:8080/",
          "height": 436
        }
      },
      "source": [
        "# 타이타닉 승선객 중 나이(age) 현황 시각화\n",
        "\n",
        "hist(titanic$age)"
      ],
      "execution_count": null,
      "outputs": [
        {
          "output_type": "display_data",
          "data": {
            "image/png": "[encoded data removed]",
            "text/plain": [
              "Plot with title “Histogram of titanic$age”"
            ]
          },
          "metadata": {
            "tags": [],
            "image/png": {
              "width": 420,
              "height": 420
            }
          }
        }
      ]
    },
    {
      "cell_type": "code",
      "metadata": {
        "id": "dZ1Ufx-Pc2US"
      },
      "source": [
        ""
      ],
      "execution_count": null,
      "outputs": []
    }
  ]
}