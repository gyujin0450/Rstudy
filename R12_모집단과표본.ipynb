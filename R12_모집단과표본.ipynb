{
  "nbformat": 4,
  "nbformat_minor": 0,
  "metadata": {
    "colab": {
      "name": "R12_모집단과표본.ipynb",
      "provenance": [],
      "authorship_tag": "ABX9TyNd5twHiq1BhVyG6ipMmZ0M",
      "include_colab_link": true
    },
    "kernelspec": {
      "name": "ir",
      "display_name": "R"
    }
  },
  "cells": [
    {
      "cell_type": "markdown",
      "metadata": {
        "id": "view-in-github",
        "colab_type": "text"
      },
      "source": [
        "<a href=\"https://colab.research.google.com/github/gyujin0450/Rstudy/blob/master/R12_%EB%AA%A8%EC%A7%91%EB%8B%A8%EA%B3%BC%ED%91%9C%EB%B3%B8.ipynb\" target=\"_parent\"><img src=\"https://colab.research.google.com/assets/colab-badge.svg\" alt=\"Open In Colab\"/></a>"
      ]
    },
    {
      "cell_type": "markdown",
      "metadata": {
        "id": "n7LwNKE6lvcW"
      },
      "source": [
        "# 모집단과 표본\n",
        "- 중심화 경향 척도 : 전체집단을 대표하는 하나의 수룰 의미\n",
        "   - 대표값 : 평균, 중앙값, 최빈값\n",
        "- 분산화 경향 척도 : 데이터들이 중심으로 부터 얼마나 흩어져 있는지 알아 봄\n",
        "  - 분산, 표준편차, 왜도, 척도\n",
        "\n",
        "https://github.com/siestageek/python_statistics/blob/master/%ED%8C%8C%EC%9D%B4%EC%8D%AC%ED%86%B5%EA%B3%8411_%ED%86%B5%EA%B3%84%EC%99%80%EB%8D%B0%EC%9D%B4%ED%84%B0.ipynb"
      ]
    },
    {
      "cell_type": "code",
      "metadata": {
        "id": "GBGtww0smRoD"
      },
      "source": [
        "kings <- c(73,62,45,53,38,16,51,28,37,30,56,30,33,56,66,54,40,33,59,36,82,48,44,22,32,67,52)"
      ],
      "execution_count": 1,
      "outputs": []
    },
    {
      "cell_type": "code",
      "metadata": {
        "id": "S7d1uNQkmzbX",
        "outputId": "e0c2ab6a-e2b8-4322-c7dd-0ba01e5a0e46",
        "colab": {
          "base_uri": "https://localhost:8080/",
          "height": 34
        }
      },
      "source": [
        "mean(kings)"
      ],
      "execution_count": 2,
      "outputs": [
        {
          "output_type": "display_data",
          "data": {
            "text/plain": [
              "[1] 46.03704"
            ],
            "text/latex": "46.037037037037",
            "text/markdown": "46.037037037037",
            "text/html": [
              "46.037037037037"
            ]
          },
          "metadata": {
            "tags": []
          }
        }
      ]
    }
  ]
}