{
  "nbformat": 4,
  "nbformat_minor": 0,
  "metadata": {
    "colab": {
      "name": "202_데이터가공(1)_p35.ipynb",
      "provenance": [],
      "authorship_tag": "ABX9TyN6idsFRo/4M+Uw8s/gka1d",
      "include_colab_link": true
    },
    "kernelspec": {
      "name": "ir",
      "display_name": "R"
    }
  },
  "cells": [
    {
      "cell_type": "markdown",
      "metadata": {
        "id": "view-in-github",
        "colab_type": "text"
      },
      "source": [
        "<a href=\"https://colab.research.google.com/github/gyujin0450/Rstudy/blob/master/202_%EB%8D%B0%EC%9D%B4%ED%84%B0%EA%B0%80%EA%B3%B5(1)_p35.ipynb\" target=\"_parent\"><img src=\"https://colab.research.google.com/assets/colab-badge.svg\" alt=\"Open In Colab\"/></a>"
      ]
    },
    {
      "cell_type": "markdown",
      "metadata": {
        "id": "PesAhJt_eqEg"
      },
      "source": [
        "데이터 가공"
      ]
    },
    {
      "cell_type": "code",
      "metadata": {
        "id": "r23NMybRe0MX"
      },
      "source": [
        "# 성적데이터(sungjuk.rdata) 읽어오기\n",
        "# 코랩에 파일을 드래그해서 올리고 실습함"
      ],
      "execution_count": null,
      "outputs": []
    },
    {
      "cell_type": "code",
      "metadata": {
        "id": "T59eDhQlf3a7",
        "outputId": "4af281a9-7669-479d-8a70-33dfeba0880c",
        "colab": {
          "base_uri": "https://localhost:8080/",
          "height": 162
        }
      },
      "source": [
        "load('sungjuk.rdata') # R 전용 데이터 읽어옴\n",
        "sungjuk"
      ],
      "execution_count": 1,
      "outputs": [
        {
          "output_type": "display_data",
          "data": {
            "text/plain": [
              "  name eng mat sci\n",
              "1 John 90  85  90 \n",
              "2 Tom  95  96  80 \n",
              "3 Mark 69  49  70 \n",
              "4 Jane 78  95  60 "
            ],
            "text/latex": "A data.frame: 4 × 4\n\\begin{tabular}{llll}\n name & eng & mat & sci\\\\\n <fct> & <dbl> & <dbl> & <dbl>\\\\\n\\hline\n\t John & 90 & 85 & 90\\\\\n\t Tom  & 95 & 96 & 80\\\\\n\t Mark & 69 & 49 & 70\\\\\n\t Jane & 78 & 95 & 60\\\\\n\\end{tabular}\n",
            "text/markdown": "\nA data.frame: 4 × 4\n\n| name &lt;fct&gt; | eng &lt;dbl&gt; | mat &lt;dbl&gt; | sci &lt;dbl&gt; |\n|---|---|---|---|\n| John | 90 | 85 | 90 |\n| Tom  | 95 | 96 | 80 |\n| Mark | 69 | 49 | 70 |\n| Jane | 78 | 95 | 60 |\n\n",
            "text/html": [
              "<table>\n",
              "<caption>A data.frame: 4 × 4</caption>\n",
              "<thead>\n",
              "\t<tr><th scope=col>name</th><th scope=col>eng</th><th scope=col>mat</th><th scope=col>sci</th></tr>\n",
              "\t<tr><th scope=col>&lt;fct&gt;</th><th scope=col>&lt;dbl&gt;</th><th scope=col>&lt;dbl&gt;</th><th scope=col>&lt;dbl&gt;</th></tr>\n",
              "</thead>\n",
              "<tbody>\n",
              "\t<tr><td>John</td><td>90</td><td>85</td><td>90</td></tr>\n",
              "\t<tr><td>Tom </td><td>95</td><td>96</td><td>80</td></tr>\n",
              "\t<tr><td>Mark</td><td>69</td><td>49</td><td>70</td></tr>\n",
              "\t<tr><td>Jane</td><td>78</td><td>95</td><td>60</td></tr>\n",
              "</tbody>\n",
              "</table>\n"
            ]
          },
          "metadata": {
            "tags": []
          }
        }
      ]
    },
    {
      "cell_type": "code",
      "metadata": {
        "id": "Hg7VhRwXgC41",
        "outputId": "3374c60d-c9be-47e9-89d2-84f0b82344bd",
        "colab": {
          "base_uri": "https://localhost:8080/",
          "height": 162
        }
      },
      "source": [
        "# 총점과 평균을 계산하여 tot, avg 라는 컬럼 생성(방법1)\n",
        "sungjuk$tot <- sungjuk$eng + sungjuk$mat + sungjuk$sci\n",
        "sungjuk$avg <- sungjuk$tot / 3\n",
        "sungjuk"
      ],
      "execution_count": 3,
      "outputs": [
        {
          "output_type": "display_data",
          "data": {
            "text/plain": [
              "  name eng mat sci tot avg     \n",
              "1 John 90  85  90  265 88.33333\n",
              "2 Tom  95  96  80  271 90.33333\n",
              "3 Mark 69  49  70  188 62.66667\n",
              "4 Jane 78  95  60  233 77.66667"
            ],
            "text/latex": "A data.frame: 4 × 6\n\\begin{tabular}{llllll}\n name & eng & mat & sci & tot & avg\\\\\n <fct> & <dbl> & <dbl> & <dbl> & <dbl> & <dbl>\\\\\n\\hline\n\t John & 90 & 85 & 90 & 265 & 88.33333\\\\\n\t Tom  & 95 & 96 & 80 & 271 & 90.33333\\\\\n\t Mark & 69 & 49 & 70 & 188 & 62.66667\\\\\n\t Jane & 78 & 95 & 60 & 233 & 77.66667\\\\\n\\end{tabular}\n",
            "text/markdown": "\nA data.frame: 4 × 6\n\n| name &lt;fct&gt; | eng &lt;dbl&gt; | mat &lt;dbl&gt; | sci &lt;dbl&gt; | tot &lt;dbl&gt; | avg &lt;dbl&gt; |\n|---|---|---|---|---|---|\n| John | 90 | 85 | 90 | 265 | 88.33333 |\n| Tom  | 95 | 96 | 80 | 271 | 90.33333 |\n| Mark | 69 | 49 | 70 | 188 | 62.66667 |\n| Jane | 78 | 95 | 60 | 233 | 77.66667 |\n\n",
            "text/html": [
              "<table>\n",
              "<caption>A data.frame: 4 × 6</caption>\n",
              "<thead>\n",
              "\t<tr><th scope=col>name</th><th scope=col>eng</th><th scope=col>mat</th><th scope=col>sci</th><th scope=col>tot</th><th scope=col>avg</th></tr>\n",
              "\t<tr><th scope=col>&lt;fct&gt;</th><th scope=col>&lt;dbl&gt;</th><th scope=col>&lt;dbl&gt;</th><th scope=col>&lt;dbl&gt;</th><th scope=col>&lt;dbl&gt;</th><th scope=col>&lt;dbl&gt;</th></tr>\n",
              "</thead>\n",
              "<tbody>\n",
              "\t<tr><td>John</td><td>90</td><td>85</td><td>90</td><td>265</td><td>88.33333</td></tr>\n",
              "\t<tr><td>Tom </td><td>95</td><td>96</td><td>80</td><td>271</td><td>90.33333</td></tr>\n",
              "\t<tr><td>Mark</td><td>69</td><td>49</td><td>70</td><td>188</td><td>62.66667</td></tr>\n",
              "\t<tr><td>Jane</td><td>78</td><td>95</td><td>60</td><td>233</td><td>77.66667</td></tr>\n",
              "</tbody>\n",
              "</table>\n"
            ]
          },
          "metadata": {
            "tags": []
          }
        }
      ]
    },
    {
      "cell_type": "code",
      "metadata": {
        "id": "0vmMSZVlgonl",
        "outputId": "31f27564-8c76-4832-b432-ec7da8275814",
        "colab": {
          "base_uri": "https://localhost:8080/",
          "height": 162
        }
      },
      "source": [
        "# 총점과 평균을 계산하여 tot, avg 라는 컬럼 생성(방법2)\n",
        "sungjuk <- within(sungjuk, {\n",
        "              tot <- eng + mat + sci\n",
        "              avg <- tot / 3\n",
        "           })\n",
        "sungjuk"
      ],
      "execution_count": 4,
      "outputs": [
        {
          "output_type": "display_data",
          "data": {
            "text/plain": [
              "  name eng mat sci tot avg     \n",
              "1 John 90  85  90  265 88.33333\n",
              "2 Tom  95  96  80  271 90.33333\n",
              "3 Mark 69  49  70  188 62.66667\n",
              "4 Jane 78  95  60  233 77.66667"
            ],
            "text/latex": "A data.frame: 4 × 6\n\\begin{tabular}{llllll}\n name & eng & mat & sci & tot & avg\\\\\n <fct> & <dbl> & <dbl> & <dbl> & <dbl> & <dbl>\\\\\n\\hline\n\t John & 90 & 85 & 90 & 265 & 88.33333\\\\\n\t Tom  & 95 & 96 & 80 & 271 & 90.33333\\\\\n\t Mark & 69 & 49 & 70 & 188 & 62.66667\\\\\n\t Jane & 78 & 95 & 60 & 233 & 77.66667\\\\\n\\end{tabular}\n",
            "text/markdown": "\nA data.frame: 4 × 6\n\n| name &lt;fct&gt; | eng &lt;dbl&gt; | mat &lt;dbl&gt; | sci &lt;dbl&gt; | tot &lt;dbl&gt; | avg &lt;dbl&gt; |\n|---|---|---|---|---|---|\n| John | 90 | 85 | 90 | 265 | 88.33333 |\n| Tom  | 95 | 96 | 80 | 271 | 90.33333 |\n| Mark | 69 | 49 | 70 | 188 | 62.66667 |\n| Jane | 78 | 95 | 60 | 233 | 77.66667 |\n\n",
            "text/html": [
              "<table>\n",
              "<caption>A data.frame: 4 × 6</caption>\n",
              "<thead>\n",
              "\t<tr><th scope=col>name</th><th scope=col>eng</th><th scope=col>mat</th><th scope=col>sci</th><th scope=col>tot</th><th scope=col>avg</th></tr>\n",
              "\t<tr><th scope=col>&lt;fct&gt;</th><th scope=col>&lt;dbl&gt;</th><th scope=col>&lt;dbl&gt;</th><th scope=col>&lt;dbl&gt;</th><th scope=col>&lt;dbl&gt;</th><th scope=col>&lt;dbl&gt;</th></tr>\n",
              "</thead>\n",
              "<tbody>\n",
              "\t<tr><td>John</td><td>90</td><td>85</td><td>90</td><td>265</td><td>88.33333</td></tr>\n",
              "\t<tr><td>Tom </td><td>95</td><td>96</td><td>80</td><td>271</td><td>90.33333</td></tr>\n",
              "\t<tr><td>Mark</td><td>69</td><td>49</td><td>70</td><td>188</td><td>62.66667</td></tr>\n",
              "\t<tr><td>Jane</td><td>78</td><td>95</td><td>60</td><td>233</td><td>77.66667</td></tr>\n",
              "</tbody>\n",
              "</table>\n"
            ]
          },
          "metadata": {
            "tags": []
          }
        }
      ]
    },
    {
      "cell_type": "code",
      "metadata": {
        "id": "yvG8OrvUi3-T",
        "outputId": "360279b9-d799-42a9-c1ba-701053e18e59",
        "colab": {
          "base_uri": "https://localhost:8080/",
          "height": 34
        }
      },
      "source": [
        "# 정렬 : order(컬럼명,...)\n",
        "# 성적데이터를 평균을 기준으로 정렬\n",
        "order(sungjuk$avg)  #  각 데이터별 정렬 순번 출력"
      ],
      "execution_count": 5,
      "outputs": [
        {
          "output_type": "display_data",
          "data": {
            "text/plain": [
              "[1] 3 4 1 2"
            ],
            "text/latex": "\\begin{enumerate*}\n\\item 3\n\\item 4\n\\item 1\n\\item 2\n\\end{enumerate*}\n",
            "text/markdown": "1. 3\n2. 4\n3. 1\n4. 2\n\n\n",
            "text/html": [
              "<style>\n",
              ".list-inline {list-style: none; margin:0; padding: 0}\n",
              ".list-inline>li {display: inline-block}\n",
              ".list-inline>li:not(:last-child)::after {content: \"\\00b7\"; padding: 0 .5ex}\n",
              "</style>\n",
              "<ol class=list-inline><li>3</li><li>4</li><li>1</li><li>2</li></ol>\n"
            ]
          },
          "metadata": {
            "tags": []
          }
        }
      ]
    },
    {
      "cell_type": "code",
      "metadata": {
        "id": "Q689LY3UjSJt",
        "outputId": "e0b7b3e3-4fd5-4ec1-ba11-7a8bb28523a2",
        "colab": {
          "base_uri": "https://localhost:8080/",
          "height": 162
        }
      },
      "source": [
        "rn <- order(sungjuk$avg) # 오름차순\n",
        "sungjuk[rn,]"
      ],
      "execution_count": 6,
      "outputs": [
        {
          "output_type": "display_data",
          "data": {
            "text/plain": [
              "  name eng mat sci tot avg     \n",
              "3 Mark 69  49  70  188 62.66667\n",
              "4 Jane 78  95  60  233 77.66667\n",
              "1 John 90  85  90  265 88.33333\n",
              "2 Tom  95  96  80  271 90.33333"
            ],
            "text/latex": "A data.frame: 4 × 6\n\\begin{tabular}{r|llllll}\n  & name & eng & mat & sci & tot & avg\\\\\n  & <fct> & <dbl> & <dbl> & <dbl> & <dbl> & <dbl>\\\\\n\\hline\n\t3 & Mark & 69 & 49 & 70 & 188 & 62.66667\\\\\n\t4 & Jane & 78 & 95 & 60 & 233 & 77.66667\\\\\n\t1 & John & 90 & 85 & 90 & 265 & 88.33333\\\\\n\t2 & Tom  & 95 & 96 & 80 & 271 & 90.33333\\\\\n\\end{tabular}\n",
            "text/markdown": "\nA data.frame: 4 × 6\n\n| <!--/--> | name &lt;fct&gt; | eng &lt;dbl&gt; | mat &lt;dbl&gt; | sci &lt;dbl&gt; | tot &lt;dbl&gt; | avg &lt;dbl&gt; |\n|---|---|---|---|---|---|---|\n| 3 | Mark | 69 | 49 | 70 | 188 | 62.66667 |\n| 4 | Jane | 78 | 95 | 60 | 233 | 77.66667 |\n| 1 | John | 90 | 85 | 90 | 265 | 88.33333 |\n| 2 | Tom  | 95 | 96 | 80 | 271 | 90.33333 |\n\n",
            "text/html": [
              "<table>\n",
              "<caption>A data.frame: 4 × 6</caption>\n",
              "<thead>\n",
              "\t<tr><th></th><th scope=col>name</th><th scope=col>eng</th><th scope=col>mat</th><th scope=col>sci</th><th scope=col>tot</th><th scope=col>avg</th></tr>\n",
              "\t<tr><th></th><th scope=col>&lt;fct&gt;</th><th scope=col>&lt;dbl&gt;</th><th scope=col>&lt;dbl&gt;</th><th scope=col>&lt;dbl&gt;</th><th scope=col>&lt;dbl&gt;</th><th scope=col>&lt;dbl&gt;</th></tr>\n",
              "</thead>\n",
              "<tbody>\n",
              "\t<tr><th scope=row>3</th><td>Mark</td><td>69</td><td>49</td><td>70</td><td>188</td><td>62.66667</td></tr>\n",
              "\t<tr><th scope=row>4</th><td>Jane</td><td>78</td><td>95</td><td>60</td><td>233</td><td>77.66667</td></tr>\n",
              "\t<tr><th scope=row>1</th><td>John</td><td>90</td><td>85</td><td>90</td><td>265</td><td>88.33333</td></tr>\n",
              "\t<tr><th scope=row>2</th><td>Tom </td><td>95</td><td>96</td><td>80</td><td>271</td><td>90.33333</td></tr>\n",
              "</tbody>\n",
              "</table>\n"
            ]
          },
          "metadata": {
            "tags": []
          }
        }
      ]
    },
    {
      "cell_type": "code",
      "metadata": {
        "id": "JW0_soI6jtaQ",
        "outputId": "7e86125e-560b-47c7-8db6-43e17d33ae89",
        "colab": {
          "base_uri": "https://localhost:8080/",
          "height": 162
        }
      },
      "source": [
        "rn <- order(-sungjuk$avg) # 내림차순\n",
        "sungjuk[rn,]"
      ],
      "execution_count": 7,
      "outputs": [
        {
          "output_type": "display_data",
          "data": {
            "text/plain": [
              "  name eng mat sci tot avg     \n",
              "2 Tom  95  96  80  271 90.33333\n",
              "1 John 90  85  90  265 88.33333\n",
              "4 Jane 78  95  60  233 77.66667\n",
              "3 Mark 69  49  70  188 62.66667"
            ],
            "text/latex": "A data.frame: 4 × 6\n\\begin{tabular}{r|llllll}\n  & name & eng & mat & sci & tot & avg\\\\\n  & <fct> & <dbl> & <dbl> & <dbl> & <dbl> & <dbl>\\\\\n\\hline\n\t2 & Tom  & 95 & 96 & 80 & 271 & 90.33333\\\\\n\t1 & John & 90 & 85 & 90 & 265 & 88.33333\\\\\n\t4 & Jane & 78 & 95 & 60 & 233 & 77.66667\\\\\n\t3 & Mark & 69 & 49 & 70 & 188 & 62.66667\\\\\n\\end{tabular}\n",
            "text/markdown": "\nA data.frame: 4 × 6\n\n| <!--/--> | name &lt;fct&gt; | eng &lt;dbl&gt; | mat &lt;dbl&gt; | sci &lt;dbl&gt; | tot &lt;dbl&gt; | avg &lt;dbl&gt; |\n|---|---|---|---|---|---|---|\n| 2 | Tom  | 95 | 96 | 80 | 271 | 90.33333 |\n| 1 | John | 90 | 85 | 90 | 265 | 88.33333 |\n| 4 | Jane | 78 | 95 | 60 | 233 | 77.66667 |\n| 3 | Mark | 69 | 49 | 70 | 188 | 62.66667 |\n\n",
            "text/html": [
              "<table>\n",
              "<caption>A data.frame: 4 × 6</caption>\n",
              "<thead>\n",
              "\t<tr><th></th><th scope=col>name</th><th scope=col>eng</th><th scope=col>mat</th><th scope=col>sci</th><th scope=col>tot</th><th scope=col>avg</th></tr>\n",
              "\t<tr><th></th><th scope=col>&lt;fct&gt;</th><th scope=col>&lt;dbl&gt;</th><th scope=col>&lt;dbl&gt;</th><th scope=col>&lt;dbl&gt;</th><th scope=col>&lt;dbl&gt;</th><th scope=col>&lt;dbl&gt;</th></tr>\n",
              "</thead>\n",
              "<tbody>\n",
              "\t<tr><th scope=row>2</th><td>Tom </td><td>95</td><td>96</td><td>80</td><td>271</td><td>90.33333</td></tr>\n",
              "\t<tr><th scope=row>1</th><td>John</td><td>90</td><td>85</td><td>90</td><td>265</td><td>88.33333</td></tr>\n",
              "\t<tr><th scope=row>4</th><td>Jane</td><td>78</td><td>95</td><td>60</td><td>233</td><td>77.66667</td></tr>\n",
              "\t<tr><th scope=row>3</th><td>Mark</td><td>69</td><td>49</td><td>70</td><td>188</td><td>62.66667</td></tr>\n",
              "</tbody>\n",
              "</table>\n"
            ]
          },
          "metadata": {
            "tags": []
          }
        }
      ]
    }
  ]
}