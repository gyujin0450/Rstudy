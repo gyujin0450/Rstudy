{
  "nbformat": 4,
  "nbformat_minor": 0,
  "metadata": {
    "colab": {
      "name": "202_데이터가공(1)_p35.ipynb",
      "provenance": [],
      "authorship_tag": "ABX9TyPdHH/5cBB+FI5OWhN/1UPz",
      "include_colab_link": true
    },
    "kernelspec": {
      "name": "ir",
      "display_name": "R"
    }
  },
  "cells": [
    {
      "cell_type": "markdown",
      "metadata": {
        "id": "view-in-github",
        "colab_type": "text"
      },
      "source": [
        "<a href=\"https://colab.research.google.com/github/gyujin0450/Rstudy/blob/master/202_%EB%8D%B0%EC%9D%B4%ED%84%B0%EA%B0%80%EA%B3%B5(1)_p35.ipynb\" target=\"_parent\"><img src=\"https://colab.research.google.com/assets/colab-badge.svg\" alt=\"Open In Colab\"/></a>"
      ]
    },
    {
      "cell_type": "markdown",
      "metadata": {
        "id": "PesAhJt_eqEg"
      },
      "source": [
        "데이터 가공"
      ]
    },
    {
      "cell_type": "code",
      "metadata": {
        "id": "r23NMybRe0MX"
      },
      "source": [
        "# 성적데이터(sungjuk.rdata) 읽어오기\n",
        "# 코랩에 파일을 드래그해서 올리고 실습함"
      ],
      "execution_count": null,
      "outputs": []
    },
    {
      "cell_type": "code",
      "metadata": {
        "id": "T59eDhQlf3a7",
        "outputId": "4af281a9-7669-479d-8a70-33dfeba0880c",
        "colab": {
          "base_uri": "https://localhost:8080/",
          "height": 162
        }
      },
      "source": [
        "load('sungjuk.rdata') # R 전용 데이터 읽어옴\n",
        "sungjuk"
      ],
      "execution_count": 1,
      "outputs": [
        {
          "output_type": "display_data",
          "data": {
            "text/plain": [
              "  name eng mat sci\n",
              "1 John 90  85  90 \n",
              "2 Tom  95  96  80 \n",
              "3 Mark 69  49  70 \n",
              "4 Jane 78  95  60 "
            ],
            "text/latex": "A data.frame: 4 × 4\n\\begin{tabular}{llll}\n name & eng & mat & sci\\\\\n <fct> & <dbl> & <dbl> & <dbl>\\\\\n\\hline\n\t John & 90 & 85 & 90\\\\\n\t Tom  & 95 & 96 & 80\\\\\n\t Mark & 69 & 49 & 70\\\\\n\t Jane & 78 & 95 & 60\\\\\n\\end{tabular}\n",
            "text/markdown": "\nA data.frame: 4 × 4\n\n| name &lt;fct&gt; | eng &lt;dbl&gt; | mat &lt;dbl&gt; | sci &lt;dbl&gt; |\n|---|---|---|---|\n| John | 90 | 85 | 90 |\n| Tom  | 95 | 96 | 80 |\n| Mark | 69 | 49 | 70 |\n| Jane | 78 | 95 | 60 |\n\n",
            "text/html": [
              "<table>\n",
              "<caption>A data.frame: 4 × 4</caption>\n",
              "<thead>\n",
              "\t<tr><th scope=col>name</th><th scope=col>eng</th><th scope=col>mat</th><th scope=col>sci</th></tr>\n",
              "\t<tr><th scope=col>&lt;fct&gt;</th><th scope=col>&lt;dbl&gt;</th><th scope=col>&lt;dbl&gt;</th><th scope=col>&lt;dbl&gt;</th></tr>\n",
              "</thead>\n",
              "<tbody>\n",
              "\t<tr><td>John</td><td>90</td><td>85</td><td>90</td></tr>\n",
              "\t<tr><td>Tom </td><td>95</td><td>96</td><td>80</td></tr>\n",
              "\t<tr><td>Mark</td><td>69</td><td>49</td><td>70</td></tr>\n",
              "\t<tr><td>Jane</td><td>78</td><td>95</td><td>60</td></tr>\n",
              "</tbody>\n",
              "</table>\n"
            ]
          },
          "metadata": {
            "tags": []
          }
        }
      ]
    },
    {
      "cell_type": "code",
      "metadata": {
        "id": "Hg7VhRwXgC41",
        "outputId": "3374c60d-c9be-47e9-89d2-84f0b82344bd",
        "colab": {
          "base_uri": "https://localhost:8080/",
          "height": 162
        }
      },
      "source": [
        "# 총점과 평균을 계산하여 tot, avg 라는 컬럼 생성(방법1)\n",
        "sungjuk$tot <- sungjuk$eng + sungjuk$mat + sungjuk$sci\n",
        "sungjuk$avg <- sungjuk$tot / 3\n",
        "sungjuk"
      ],
      "execution_count": 3,
      "outputs": [
        {
          "output_type": "display_data",
          "data": {
            "text/plain": [
              "  name eng mat sci tot avg     \n",
              "1 John 90  85  90  265 88.33333\n",
              "2 Tom  95  96  80  271 90.33333\n",
              "3 Mark 69  49  70  188 62.66667\n",
              "4 Jane 78  95  60  233 77.66667"
            ],
            "text/latex": "A data.frame: 4 × 6\n\\begin{tabular}{llllll}\n name & eng & mat & sci & tot & avg\\\\\n <fct> & <dbl> & <dbl> & <dbl> & <dbl> & <dbl>\\\\\n\\hline\n\t John & 90 & 85 & 90 & 265 & 88.33333\\\\\n\t Tom  & 95 & 96 & 80 & 271 & 90.33333\\\\\n\t Mark & 69 & 49 & 70 & 188 & 62.66667\\\\\n\t Jane & 78 & 95 & 60 & 233 & 77.66667\\\\\n\\end{tabular}\n",
            "text/markdown": "\nA data.frame: 4 × 6\n\n| name &lt;fct&gt; | eng &lt;dbl&gt; | mat &lt;dbl&gt; | sci &lt;dbl&gt; | tot &lt;dbl&gt; | avg &lt;dbl&gt; |\n|---|---|---|---|---|---|\n| John | 90 | 85 | 90 | 265 | 88.33333 |\n| Tom  | 95 | 96 | 80 | 271 | 90.33333 |\n| Mark | 69 | 49 | 70 | 188 | 62.66667 |\n| Jane | 78 | 95 | 60 | 233 | 77.66667 |\n\n",
            "text/html": [
              "<table>\n",
              "<caption>A data.frame: 4 × 6</caption>\n",
              "<thead>\n",
              "\t<tr><th scope=col>name</th><th scope=col>eng</th><th scope=col>mat</th><th scope=col>sci</th><th scope=col>tot</th><th scope=col>avg</th></tr>\n",
              "\t<tr><th scope=col>&lt;fct&gt;</th><th scope=col>&lt;dbl&gt;</th><th scope=col>&lt;dbl&gt;</th><th scope=col>&lt;dbl&gt;</th><th scope=col>&lt;dbl&gt;</th><th scope=col>&lt;dbl&gt;</th></tr>\n",
              "</thead>\n",
              "<tbody>\n",
              "\t<tr><td>John</td><td>90</td><td>85</td><td>90</td><td>265</td><td>88.33333</td></tr>\n",
              "\t<tr><td>Tom </td><td>95</td><td>96</td><td>80</td><td>271</td><td>90.33333</td></tr>\n",
              "\t<tr><td>Mark</td><td>69</td><td>49</td><td>70</td><td>188</td><td>62.66667</td></tr>\n",
              "\t<tr><td>Jane</td><td>78</td><td>95</td><td>60</td><td>233</td><td>77.66667</td></tr>\n",
              "</tbody>\n",
              "</table>\n"
            ]
          },
          "metadata": {
            "tags": []
          }
        }
      ]
    },
    {
      "cell_type": "code",
      "metadata": {
        "id": "0vmMSZVlgonl",
        "outputId": "31f27564-8c76-4832-b432-ec7da8275814",
        "colab": {
          "base_uri": "https://localhost:8080/",
          "height": 162
        }
      },
      "source": [
        "# 총점과 평균을 계산하여 tot, avg 라는 컬럼 생성(방법2)\n",
        "sungjuk <- within(sungjuk, {\n",
        "              tot <- eng + mat + sci\n",
        "              avg <- tot / 3\n",
        "           })\n",
        "sungjuk"
      ],
      "execution_count": 4,
      "outputs": [
        {
          "output_type": "display_data",
          "data": {
            "text/plain": [
              "  name eng mat sci tot avg     \n",
              "1 John 90  85  90  265 88.33333\n",
              "2 Tom  95  96  80  271 90.33333\n",
              "3 Mark 69  49  70  188 62.66667\n",
              "4 Jane 78  95  60  233 77.66667"
            ],
            "text/latex": "A data.frame: 4 × 6\n\\begin{tabular}{llllll}\n name & eng & mat & sci & tot & avg\\\\\n <fct> & <dbl> & <dbl> & <dbl> & <dbl> & <dbl>\\\\\n\\hline\n\t John & 90 & 85 & 90 & 265 & 88.33333\\\\\n\t Tom  & 95 & 96 & 80 & 271 & 90.33333\\\\\n\t Mark & 69 & 49 & 70 & 188 & 62.66667\\\\\n\t Jane & 78 & 95 & 60 & 233 & 77.66667\\\\\n\\end{tabular}\n",
            "text/markdown": "\nA data.frame: 4 × 6\n\n| name &lt;fct&gt; | eng &lt;dbl&gt; | mat &lt;dbl&gt; | sci &lt;dbl&gt; | tot &lt;dbl&gt; | avg &lt;dbl&gt; |\n|---|---|---|---|---|---|\n| John | 90 | 85 | 90 | 265 | 88.33333 |\n| Tom  | 95 | 96 | 80 | 271 | 90.33333 |\n| Mark | 69 | 49 | 70 | 188 | 62.66667 |\n| Jane | 78 | 95 | 60 | 233 | 77.66667 |\n\n",
            "text/html": [
              "<table>\n",
              "<caption>A data.frame: 4 × 6</caption>\n",
              "<thead>\n",
              "\t<tr><th scope=col>name</th><th scope=col>eng</th><th scope=col>mat</th><th scope=col>sci</th><th scope=col>tot</th><th scope=col>avg</th></tr>\n",
              "\t<tr><th scope=col>&lt;fct&gt;</th><th scope=col>&lt;dbl&gt;</th><th scope=col>&lt;dbl&gt;</th><th scope=col>&lt;dbl&gt;</th><th scope=col>&lt;dbl&gt;</th><th scope=col>&lt;dbl&gt;</th></tr>\n",
              "</thead>\n",
              "<tbody>\n",
              "\t<tr><td>John</td><td>90</td><td>85</td><td>90</td><td>265</td><td>88.33333</td></tr>\n",
              "\t<tr><td>Tom </td><td>95</td><td>96</td><td>80</td><td>271</td><td>90.33333</td></tr>\n",
              "\t<tr><td>Mark</td><td>69</td><td>49</td><td>70</td><td>188</td><td>62.66667</td></tr>\n",
              "\t<tr><td>Jane</td><td>78</td><td>95</td><td>60</td><td>233</td><td>77.66667</td></tr>\n",
              "</tbody>\n",
              "</table>\n"
            ]
          },
          "metadata": {
            "tags": []
          }
        }
      ]
    },
    {
      "cell_type": "code",
      "metadata": {
        "id": "yvG8OrvUi3-T",
        "outputId": "360279b9-d799-42a9-c1ba-701053e18e59",
        "colab": {
          "base_uri": "https://localhost:8080/",
          "height": 34
        }
      },
      "source": [
        "# 정렬 : order(컬럼명,...)\n",
        "# 성적데이터를 평균을 기준으로 정렬\n",
        "order(sungjuk$avg)  #  각 데이터별 정렬 순번 출력"
      ],
      "execution_count": 5,
      "outputs": [
        {
          "output_type": "display_data",
          "data": {
            "text/plain": [
              "[1] 3 4 1 2"
            ],
            "text/latex": "\\begin{enumerate*}\n\\item 3\n\\item 4\n\\item 1\n\\item 2\n\\end{enumerate*}\n",
            "text/markdown": "1. 3\n2. 4\n3. 1\n4. 2\n\n\n",
            "text/html": [
              "<style>\n",
              ".list-inline {list-style: none; margin:0; padding: 0}\n",
              ".list-inline>li {display: inline-block}\n",
              ".list-inline>li:not(:last-child)::after {content: \"\\00b7\"; padding: 0 .5ex}\n",
              "</style>\n",
              "<ol class=list-inline><li>3</li><li>4</li><li>1</li><li>2</li></ol>\n"
            ]
          },
          "metadata": {
            "tags": []
          }
        }
      ]
    },
    {
      "cell_type": "code",
      "metadata": {
        "id": "Q689LY3UjSJt",
        "outputId": "e0b7b3e3-4fd5-4ec1-ba11-7a8bb28523a2",
        "colab": {
          "base_uri": "https://localhost:8080/",
          "height": 162
        }
      },
      "source": [
        "rn <- order(sungjuk$avg) # 오름차순\n",
        "sungjuk[rn,]"
      ],
      "execution_count": 6,
      "outputs": [
        {
          "output_type": "display_data",
          "data": {
            "text/plain": [
              "  name eng mat sci tot avg     \n",
              "3 Mark 69  49  70  188 62.66667\n",
              "4 Jane 78  95  60  233 77.66667\n",
              "1 John 90  85  90  265 88.33333\n",
              "2 Tom  95  96  80  271 90.33333"
            ],
            "text/latex": "A data.frame: 4 × 6\n\\begin{tabular}{r|llllll}\n  & name & eng & mat & sci & tot & avg\\\\\n  & <fct> & <dbl> & <dbl> & <dbl> & <dbl> & <dbl>\\\\\n\\hline\n\t3 & Mark & 69 & 49 & 70 & 188 & 62.66667\\\\\n\t4 & Jane & 78 & 95 & 60 & 233 & 77.66667\\\\\n\t1 & John & 90 & 85 & 90 & 265 & 88.33333\\\\\n\t2 & Tom  & 95 & 96 & 80 & 271 & 90.33333\\\\\n\\end{tabular}\n",
            "text/markdown": "\nA data.frame: 4 × 6\n\n| <!--/--> | name &lt;fct&gt; | eng &lt;dbl&gt; | mat &lt;dbl&gt; | sci &lt;dbl&gt; | tot &lt;dbl&gt; | avg &lt;dbl&gt; |\n|---|---|---|---|---|---|---|\n| 3 | Mark | 69 | 49 | 70 | 188 | 62.66667 |\n| 4 | Jane | 78 | 95 | 60 | 233 | 77.66667 |\n| 1 | John | 90 | 85 | 90 | 265 | 88.33333 |\n| 2 | Tom  | 95 | 96 | 80 | 271 | 90.33333 |\n\n",
            "text/html": [
              "<table>\n",
              "<caption>A data.frame: 4 × 6</caption>\n",
              "<thead>\n",
              "\t<tr><th></th><th scope=col>name</th><th scope=col>eng</th><th scope=col>mat</th><th scope=col>sci</th><th scope=col>tot</th><th scope=col>avg</th></tr>\n",
              "\t<tr><th></th><th scope=col>&lt;fct&gt;</th><th scope=col>&lt;dbl&gt;</th><th scope=col>&lt;dbl&gt;</th><th scope=col>&lt;dbl&gt;</th><th scope=col>&lt;dbl&gt;</th><th scope=col>&lt;dbl&gt;</th></tr>\n",
              "</thead>\n",
              "<tbody>\n",
              "\t<tr><th scope=row>3</th><td>Mark</td><td>69</td><td>49</td><td>70</td><td>188</td><td>62.66667</td></tr>\n",
              "\t<tr><th scope=row>4</th><td>Jane</td><td>78</td><td>95</td><td>60</td><td>233</td><td>77.66667</td></tr>\n",
              "\t<tr><th scope=row>1</th><td>John</td><td>90</td><td>85</td><td>90</td><td>265</td><td>88.33333</td></tr>\n",
              "\t<tr><th scope=row>2</th><td>Tom </td><td>95</td><td>96</td><td>80</td><td>271</td><td>90.33333</td></tr>\n",
              "</tbody>\n",
              "</table>\n"
            ]
          },
          "metadata": {
            "tags": []
          }
        }
      ]
    },
    {
      "cell_type": "code",
      "metadata": {
        "id": "JW0_soI6jtaQ",
        "outputId": "7e86125e-560b-47c7-8db6-43e17d33ae89",
        "colab": {
          "base_uri": "https://localhost:8080/",
          "height": 162
        }
      },
      "source": [
        "rn <- order(-sungjuk$avg) # 내림차순\n",
        "sungjuk[rn,]"
      ],
      "execution_count": 7,
      "outputs": [
        {
          "output_type": "display_data",
          "data": {
            "text/plain": [
              "  name eng mat sci tot avg     \n",
              "2 Tom  95  96  80  271 90.33333\n",
              "1 John 90  85  90  265 88.33333\n",
              "4 Jane 78  95  60  233 77.66667\n",
              "3 Mark 69  49  70  188 62.66667"
            ],
            "text/latex": "A data.frame: 4 × 6\n\\begin{tabular}{r|llllll}\n  & name & eng & mat & sci & tot & avg\\\\\n  & <fct> & <dbl> & <dbl> & <dbl> & <dbl> & <dbl>\\\\\n\\hline\n\t2 & Tom  & 95 & 96 & 80 & 271 & 90.33333\\\\\n\t1 & John & 90 & 85 & 90 & 265 & 88.33333\\\\\n\t4 & Jane & 78 & 95 & 60 & 233 & 77.66667\\\\\n\t3 & Mark & 69 & 49 & 70 & 188 & 62.66667\\\\\n\\end{tabular}\n",
            "text/markdown": "\nA data.frame: 4 × 6\n\n| <!--/--> | name &lt;fct&gt; | eng &lt;dbl&gt; | mat &lt;dbl&gt; | sci &lt;dbl&gt; | tot &lt;dbl&gt; | avg &lt;dbl&gt; |\n|---|---|---|---|---|---|---|\n| 2 | Tom  | 95 | 96 | 80 | 271 | 90.33333 |\n| 1 | John | 90 | 85 | 90 | 265 | 88.33333 |\n| 4 | Jane | 78 | 95 | 60 | 233 | 77.66667 |\n| 3 | Mark | 69 | 49 | 70 | 188 | 62.66667 |\n\n",
            "text/html": [
              "<table>\n",
              "<caption>A data.frame: 4 × 6</caption>\n",
              "<thead>\n",
              "\t<tr><th></th><th scope=col>name</th><th scope=col>eng</th><th scope=col>mat</th><th scope=col>sci</th><th scope=col>tot</th><th scope=col>avg</th></tr>\n",
              "\t<tr><th></th><th scope=col>&lt;fct&gt;</th><th scope=col>&lt;dbl&gt;</th><th scope=col>&lt;dbl&gt;</th><th scope=col>&lt;dbl&gt;</th><th scope=col>&lt;dbl&gt;</th><th scope=col>&lt;dbl&gt;</th></tr>\n",
              "</thead>\n",
              "<tbody>\n",
              "\t<tr><th scope=row>2</th><td>Tom </td><td>95</td><td>96</td><td>80</td><td>271</td><td>90.33333</td></tr>\n",
              "\t<tr><th scope=row>1</th><td>John</td><td>90</td><td>85</td><td>90</td><td>265</td><td>88.33333</td></tr>\n",
              "\t<tr><th scope=row>4</th><td>Jane</td><td>78</td><td>95</td><td>60</td><td>233</td><td>77.66667</td></tr>\n",
              "\t<tr><th scope=row>3</th><td>Mark</td><td>69</td><td>49</td><td>70</td><td>188</td><td>62.66667</td></tr>\n",
              "</tbody>\n",
              "</table>\n"
            ]
          },
          "metadata": {
            "tags": []
          }
        }
      ]
    },
    {
      "cell_type": "code",
      "metadata": {
        "id": "cScg76H2kYfN",
        "outputId": "3376e58d-3d1e-4b21-d5da-6c0b63ddad1a",
        "colab": {
          "base_uri": "https://localhost:8080/",
          "height": 162
        }
      },
      "source": [
        "# 성적 데이터에 반(클래스) 변수 추가\n",
        "sungjuk$class <-c(1,2,1,2)\n",
        "sungjuk"
      ],
      "execution_count": 8,
      "outputs": [
        {
          "output_type": "display_data",
          "data": {
            "text/plain": [
              "  name eng mat sci tot avg      class\n",
              "1 John 90  85  90  265 88.33333 1    \n",
              "2 Tom  95  96  80  271 90.33333 2    \n",
              "3 Mark 69  49  70  188 62.66667 1    \n",
              "4 Jane 78  95  60  233 77.66667 2    "
            ],
            "text/latex": "A data.frame: 4 × 7\n\\begin{tabular}{lllllll}\n name & eng & mat & sci & tot & avg & class\\\\\n <fct> & <dbl> & <dbl> & <dbl> & <dbl> & <dbl> & <dbl>\\\\\n\\hline\n\t John & 90 & 85 & 90 & 265 & 88.33333 & 1\\\\\n\t Tom  & 95 & 96 & 80 & 271 & 90.33333 & 2\\\\\n\t Mark & 69 & 49 & 70 & 188 & 62.66667 & 1\\\\\n\t Jane & 78 & 95 & 60 & 233 & 77.66667 & 2\\\\\n\\end{tabular}\n",
            "text/markdown": "\nA data.frame: 4 × 7\n\n| name &lt;fct&gt; | eng &lt;dbl&gt; | mat &lt;dbl&gt; | sci &lt;dbl&gt; | tot &lt;dbl&gt; | avg &lt;dbl&gt; | class &lt;dbl&gt; |\n|---|---|---|---|---|---|---|\n| John | 90 | 85 | 90 | 265 | 88.33333 | 1 |\n| Tom  | 95 | 96 | 80 | 271 | 90.33333 | 2 |\n| Mark | 69 | 49 | 70 | 188 | 62.66667 | 1 |\n| Jane | 78 | 95 | 60 | 233 | 77.66667 | 2 |\n\n",
            "text/html": [
              "<table>\n",
              "<caption>A data.frame: 4 × 7</caption>\n",
              "<thead>\n",
              "\t<tr><th scope=col>name</th><th scope=col>eng</th><th scope=col>mat</th><th scope=col>sci</th><th scope=col>tot</th><th scope=col>avg</th><th scope=col>class</th></tr>\n",
              "\t<tr><th scope=col>&lt;fct&gt;</th><th scope=col>&lt;dbl&gt;</th><th scope=col>&lt;dbl&gt;</th><th scope=col>&lt;dbl&gt;</th><th scope=col>&lt;dbl&gt;</th><th scope=col>&lt;dbl&gt;</th><th scope=col>&lt;dbl&gt;</th></tr>\n",
              "</thead>\n",
              "<tbody>\n",
              "\t<tr><td>John</td><td>90</td><td>85</td><td>90</td><td>265</td><td>88.33333</td><td>1</td></tr>\n",
              "\t<tr><td>Tom </td><td>95</td><td>96</td><td>80</td><td>271</td><td>90.33333</td><td>2</td></tr>\n",
              "\t<tr><td>Mark</td><td>69</td><td>49</td><td>70</td><td>188</td><td>62.66667</td><td>1</td></tr>\n",
              "\t<tr><td>Jane</td><td>78</td><td>95</td><td>60</td><td>233</td><td>77.66667</td><td>2</td></tr>\n",
              "</tbody>\n",
              "</table>\n"
            ]
          },
          "metadata": {
            "tags": []
          }
        }
      ]
    },
    {
      "cell_type": "code",
      "metadata": {
        "id": "XrntZam2kliT",
        "outputId": "79c3c4b2-9490-452d-af0e-70780c2c0eed",
        "colab": {
          "base_uri": "https://localhost:8080/",
          "height": 257
        }
      },
      "source": [
        "# 클래스별 최고/최저  영어 점수\n",
        "# aggregate(대상, 그룹조건, 집계합수)\n",
        "aggregate(sungjuk$eng, by=list(sungjuk$class),FUN=max)\n",
        "aggregate(sungjuk$eng, by=list(sungjuk$class),FUN=min)"
      ],
      "execution_count": 11,
      "outputs": [
        {
          "output_type": "display_data",
          "data": {
            "text/plain": [
              "  Group.1 x \n",
              "1 1       90\n",
              "2 2       95"
            ],
            "text/latex": "A data.frame: 2 × 2\n\\begin{tabular}{ll}\n Group.1 & x\\\\\n <dbl> & <dbl>\\\\\n\\hline\n\t 1 & 90\\\\\n\t 2 & 95\\\\\n\\end{tabular}\n",
            "text/markdown": "\nA data.frame: 2 × 2\n\n| Group.1 &lt;dbl&gt; | x &lt;dbl&gt; |\n|---|---|\n| 1 | 90 |\n| 2 | 95 |\n\n",
            "text/html": [
              "<table>\n",
              "<caption>A data.frame: 2 × 2</caption>\n",
              "<thead>\n",
              "\t<tr><th scope=col>Group.1</th><th scope=col>x</th></tr>\n",
              "\t<tr><th scope=col>&lt;dbl&gt;</th><th scope=col>&lt;dbl&gt;</th></tr>\n",
              "</thead>\n",
              "<tbody>\n",
              "\t<tr><td>1</td><td>90</td></tr>\n",
              "\t<tr><td>2</td><td>95</td></tr>\n",
              "</tbody>\n",
              "</table>\n"
            ]
          },
          "metadata": {
            "tags": []
          }
        },
        {
          "output_type": "display_data",
          "data": {
            "text/plain": [
              "  Group.1 x \n",
              "1 1       69\n",
              "2 2       78"
            ],
            "text/latex": "A data.frame: 2 × 2\n\\begin{tabular}{ll}\n Group.1 & x\\\\\n <dbl> & <dbl>\\\\\n\\hline\n\t 1 & 69\\\\\n\t 2 & 78\\\\\n\\end{tabular}\n",
            "text/markdown": "\nA data.frame: 2 × 2\n\n| Group.1 &lt;dbl&gt; | x &lt;dbl&gt; |\n|---|---|\n| 1 | 69 |\n| 2 | 78 |\n\n",
            "text/html": [
              "<table>\n",
              "<caption>A data.frame: 2 × 2</caption>\n",
              "<thead>\n",
              "\t<tr><th scope=col>Group.1</th><th scope=col>x</th></tr>\n",
              "\t<tr><th scope=col>&lt;dbl&gt;</th><th scope=col>&lt;dbl&gt;</th></tr>\n",
              "</thead>\n",
              "<tbody>\n",
              "\t<tr><td>1</td><td>69</td></tr>\n",
              "\t<tr><td>2</td><td>78</td></tr>\n",
              "</tbody>\n",
              "</table>\n"
            ]
          },
          "metadata": {
            "tags": []
          }
        }
      ]
    },
    {
      "cell_type": "code",
      "metadata": {
        "id": "OxOqIqeDlXhB",
        "outputId": "ec98eb1a-ab6d-400e-b84a-c1e824aad9ff",
        "colab": {
          "base_uri": "https://localhost:8080/",
          "height": 192
        }
      },
      "source": [
        "# 클래스별 평균 영어/수학/과학 점수?\n",
        "aggregate(sungjuk, by=list(sungjuk$class),FUN=mean)"
      ],
      "execution_count": 12,
      "outputs": [
        {
          "output_type": "stream",
          "text": [
            "Warning message in mean.default(X[[i]], ...):\n",
            "“argument is not numeric or logical: returning NA”\n",
            "Warning message in mean.default(X[[i]], ...):\n",
            "“argument is not numeric or logical: returning NA”\n"
          ],
          "name": "stderr"
        },
        {
          "output_type": "display_data",
          "data": {
            "text/plain": [
              "  Group.1 name eng  mat  sci tot   avg  class\n",
              "1 1       NA   79.5 67.0 80  226.5 75.5 1    \n",
              "2 2       NA   86.5 95.5 70  252.0 84.0 2    "
            ],
            "text/latex": "A data.frame: 2 × 8\n\\begin{tabular}{llllllll}\n Group.1 & name & eng & mat & sci & tot & avg & class\\\\\n <dbl> & <dbl> & <dbl> & <dbl> & <dbl> & <dbl> & <dbl> & <dbl>\\\\\n\\hline\n\t 1 & NA & 79.5 & 67.0 & 80 & 226.5 & 75.5 & 1\\\\\n\t 2 & NA & 86.5 & 95.5 & 70 & 252.0 & 84.0 & 2\\\\\n\\end{tabular}\n",
            "text/markdown": "\nA data.frame: 2 × 8\n\n| Group.1 &lt;dbl&gt; | name &lt;dbl&gt; | eng &lt;dbl&gt; | mat &lt;dbl&gt; | sci &lt;dbl&gt; | tot &lt;dbl&gt; | avg &lt;dbl&gt; | class &lt;dbl&gt; |\n|---|---|---|---|---|---|---|---|\n| 1 | NA | 79.5 | 67.0 | 80 | 226.5 | 75.5 | 1 |\n| 2 | NA | 86.5 | 95.5 | 70 | 252.0 | 84.0 | 2 |\n\n",
            "text/html": [
              "<table>\n",
              "<caption>A data.frame: 2 × 8</caption>\n",
              "<thead>\n",
              "\t<tr><th scope=col>Group.1</th><th scope=col>name</th><th scope=col>eng</th><th scope=col>mat</th><th scope=col>sci</th><th scope=col>tot</th><th scope=col>avg</th><th scope=col>class</th></tr>\n",
              "\t<tr><th scope=col>&lt;dbl&gt;</th><th scope=col>&lt;dbl&gt;</th><th scope=col>&lt;dbl&gt;</th><th scope=col>&lt;dbl&gt;</th><th scope=col>&lt;dbl&gt;</th><th scope=col>&lt;dbl&gt;</th><th scope=col>&lt;dbl&gt;</th><th scope=col>&lt;dbl&gt;</th></tr>\n",
              "</thead>\n",
              "<tbody>\n",
              "\t<tr><td>1</td><td>NA</td><td>79.5</td><td>67.0</td><td>80</td><td>226.5</td><td>75.5</td><td>1</td></tr>\n",
              "\t<tr><td>2</td><td>NA</td><td>86.5</td><td>95.5</td><td>70</td><td>252.0</td><td>84.0</td><td>2</td></tr>\n",
              "</tbody>\n",
              "</table>\n"
            ]
          },
          "metadata": {
            "tags": []
          }
        }
      ]
    },
    {
      "cell_type": "code",
      "metadata": {
        "id": "S7nb1mHOlxY9",
        "outputId": "d63c34a5-bb98-44ba-8dc8-3dcfff0b4545",
        "colab": {
          "base_uri": "https://localhost:8080/",
          "height": 120
        }
      },
      "source": [
        "# 특정 [행,렬] 가져오기\n",
        "aggregate(sungjuk[,2:6], by=list(sungjuk$class),FUN=mean)"
      ],
      "execution_count": 16,
      "outputs": [
        {
          "output_type": "display_data",
          "data": {
            "text/plain": [
              "  Group.1 eng  mat  sci tot   avg \n",
              "1 1       79.5 67.0 80  226.5 75.5\n",
              "2 2       86.5 95.5 70  252.0 84.0"
            ],
            "text/latex": "A data.frame: 2 × 6\n\\begin{tabular}{llllll}\n Group.1 & eng & mat & sci & tot & avg\\\\\n <dbl> & <dbl> & <dbl> & <dbl> & <dbl> & <dbl>\\\\\n\\hline\n\t 1 & 79.5 & 67.0 & 80 & 226.5 & 75.5\\\\\n\t 2 & 86.5 & 95.5 & 70 & 252.0 & 84.0\\\\\n\\end{tabular}\n",
            "text/markdown": "\nA data.frame: 2 × 6\n\n| Group.1 &lt;dbl&gt; | eng &lt;dbl&gt; | mat &lt;dbl&gt; | sci &lt;dbl&gt; | tot &lt;dbl&gt; | avg &lt;dbl&gt; |\n|---|---|---|---|---|---|\n| 1 | 79.5 | 67.0 | 80 | 226.5 | 75.5 |\n| 2 | 86.5 | 95.5 | 70 | 252.0 | 84.0 |\n\n",
            "text/html": [
              "<table>\n",
              "<caption>A data.frame: 2 × 6</caption>\n",
              "<thead>\n",
              "\t<tr><th scope=col>Group.1</th><th scope=col>eng</th><th scope=col>mat</th><th scope=col>sci</th><th scope=col>tot</th><th scope=col>avg</th></tr>\n",
              "\t<tr><th scope=col>&lt;dbl&gt;</th><th scope=col>&lt;dbl&gt;</th><th scope=col>&lt;dbl&gt;</th><th scope=col>&lt;dbl&gt;</th><th scope=col>&lt;dbl&gt;</th><th scope=col>&lt;dbl&gt;</th></tr>\n",
              "</thead>\n",
              "<tbody>\n",
              "\t<tr><td>1</td><td>79.5</td><td>67.0</td><td>80</td><td>226.5</td><td>75.5</td></tr>\n",
              "\t<tr><td>2</td><td>86.5</td><td>95.5</td><td>70</td><td>252.0</td><td>84.0</td></tr>\n",
              "</tbody>\n",
              "</table>\n"
            ]
          },
          "metadata": {
            "tags": []
          }
        }
      ]
    },
    {
      "cell_type": "code",
      "metadata": {
        "id": "jVk7Yzi8mg7s"
      },
      "source": [
        "# 연습하기\n",
        "# mtcars 데이터셋을 이용해서\n",
        "# 실린더 cy1 컬럼을 기준으로 평균/최대/최소 연비 mpg는?\n",
        "?mtcars"
      ],
      "execution_count": 17,
      "outputs": []
    },
    {
      "cell_type": "code",
      "metadata": {
        "id": "bGNkfvjUm9Rk",
        "outputId": "1b857351-ac54-4e78-d828-530565bf1725",
        "colab": {
          "base_uri": "https://localhost:8080/",
          "height": 233
        }
      },
      "source": [
        "str(mtcars)"
      ],
      "execution_count": 18,
      "outputs": [
        {
          "output_type": "stream",
          "text": [
            "'data.frame':\t32 obs. of  11 variables:\n",
            " $ mpg : num  21 21 22.8 21.4 18.7 18.1 14.3 24.4 22.8 19.2 ...\n",
            " $ cyl : num  6 6 4 6 8 6 8 4 4 6 ...\n",
            " $ disp: num  160 160 108 258 360 ...\n",
            " $ hp  : num  110 110 93 110 175 105 245 62 95 123 ...\n",
            " $ drat: num  3.9 3.9 3.85 3.08 3.15 2.76 3.21 3.69 3.92 3.92 ...\n",
            " $ wt  : num  2.62 2.88 2.32 3.21 3.44 ...\n",
            " $ qsec: num  16.5 17 18.6 19.4 17 ...\n",
            " $ vs  : num  0 0 1 1 0 1 0 1 1 1 ...\n",
            " $ am  : num  1 1 1 0 0 0 0 0 0 0 ...\n",
            " $ gear: num  4 4 4 3 3 3 3 4 4 4 ...\n",
            " $ carb: num  4 4 1 1 2 1 4 2 2 4 ...\n"
          ],
          "name": "stdout"
        }
      ]
    },
    {
      "cell_type": "code",
      "metadata": {
        "id": "f12Zrq1xnAne",
        "outputId": "a4b498d5-d3b0-4d2c-c657-daccb65e7b09",
        "colab": {
          "base_uri": "https://localhost:8080/",
          "height": 183
        }
      },
      "source": [
        "head(mtcars, 5)"
      ],
      "execution_count": 19,
      "outputs": [
        {
          "output_type": "display_data",
          "data": {
            "text/plain": [
              "                  mpg  cyl disp hp  drat wt    qsec  vs am gear carb\n",
              "Mazda RX4         21.0 6   160  110 3.90 2.620 16.46 0  1  4    4   \n",
              "Mazda RX4 Wag     21.0 6   160  110 3.90 2.875 17.02 0  1  4    4   \n",
              "Datsun 710        22.8 4   108   93 3.85 2.320 18.61 1  1  4    1   \n",
              "Hornet 4 Drive    21.4 6   258  110 3.08 3.215 19.44 1  0  3    1   \n",
              "Hornet Sportabout 18.7 8   360  175 3.15 3.440 17.02 0  0  3    2   "
            ],
            "text/latex": "A data.frame: 5 × 11\n\\begin{tabular}{r|lllllllllll}\n  & mpg & cyl & disp & hp & drat & wt & qsec & vs & am & gear & carb\\\\\n  & <dbl> & <dbl> & <dbl> & <dbl> & <dbl> & <dbl> & <dbl> & <dbl> & <dbl> & <dbl> & <dbl>\\\\\n\\hline\n\tMazda RX4 & 21.0 & 6 & 160 & 110 & 3.90 & 2.620 & 16.46 & 0 & 1 & 4 & 4\\\\\n\tMazda RX4 Wag & 21.0 & 6 & 160 & 110 & 3.90 & 2.875 & 17.02 & 0 & 1 & 4 & 4\\\\\n\tDatsun 710 & 22.8 & 4 & 108 &  93 & 3.85 & 2.320 & 18.61 & 1 & 1 & 4 & 1\\\\\n\tHornet 4 Drive & 21.4 & 6 & 258 & 110 & 3.08 & 3.215 & 19.44 & 1 & 0 & 3 & 1\\\\\n\tHornet Sportabout & 18.7 & 8 & 360 & 175 & 3.15 & 3.440 & 17.02 & 0 & 0 & 3 & 2\\\\\n\\end{tabular}\n",
            "text/markdown": "\nA data.frame: 5 × 11\n\n| <!--/--> | mpg &lt;dbl&gt; | cyl &lt;dbl&gt; | disp &lt;dbl&gt; | hp &lt;dbl&gt; | drat &lt;dbl&gt; | wt &lt;dbl&gt; | qsec &lt;dbl&gt; | vs &lt;dbl&gt; | am &lt;dbl&gt; | gear &lt;dbl&gt; | carb &lt;dbl&gt; |\n|---|---|---|---|---|---|---|---|---|---|---|---|\n| Mazda RX4 | 21.0 | 6 | 160 | 110 | 3.90 | 2.620 | 16.46 | 0 | 1 | 4 | 4 |\n| Mazda RX4 Wag | 21.0 | 6 | 160 | 110 | 3.90 | 2.875 | 17.02 | 0 | 1 | 4 | 4 |\n| Datsun 710 | 22.8 | 4 | 108 |  93 | 3.85 | 2.320 | 18.61 | 1 | 1 | 4 | 1 |\n| Hornet 4 Drive | 21.4 | 6 | 258 | 110 | 3.08 | 3.215 | 19.44 | 1 | 0 | 3 | 1 |\n| Hornet Sportabout | 18.7 | 8 | 360 | 175 | 3.15 | 3.440 | 17.02 | 0 | 0 | 3 | 2 |\n\n",
            "text/html": [
              "<table>\n",
              "<caption>A data.frame: 5 × 11</caption>\n",
              "<thead>\n",
              "\t<tr><th></th><th scope=col>mpg</th><th scope=col>cyl</th><th scope=col>disp</th><th scope=col>hp</th><th scope=col>drat</th><th scope=col>wt</th><th scope=col>qsec</th><th scope=col>vs</th><th scope=col>am</th><th scope=col>gear</th><th scope=col>carb</th></tr>\n",
              "\t<tr><th></th><th scope=col>&lt;dbl&gt;</th><th scope=col>&lt;dbl&gt;</th><th scope=col>&lt;dbl&gt;</th><th scope=col>&lt;dbl&gt;</th><th scope=col>&lt;dbl&gt;</th><th scope=col>&lt;dbl&gt;</th><th scope=col>&lt;dbl&gt;</th><th scope=col>&lt;dbl&gt;</th><th scope=col>&lt;dbl&gt;</th><th scope=col>&lt;dbl&gt;</th><th scope=col>&lt;dbl&gt;</th></tr>\n",
              "</thead>\n",
              "<tbody>\n",
              "\t<tr><th scope=row>Mazda RX4</th><td>21.0</td><td>6</td><td>160</td><td>110</td><td>3.90</td><td>2.620</td><td>16.46</td><td>0</td><td>1</td><td>4</td><td>4</td></tr>\n",
              "\t<tr><th scope=row>Mazda RX4 Wag</th><td>21.0</td><td>6</td><td>160</td><td>110</td><td>3.90</td><td>2.875</td><td>17.02</td><td>0</td><td>1</td><td>4</td><td>4</td></tr>\n",
              "\t<tr><th scope=row>Datsun 710</th><td>22.8</td><td>4</td><td>108</td><td> 93</td><td>3.85</td><td>2.320</td><td>18.61</td><td>1</td><td>1</td><td>4</td><td>1</td></tr>\n",
              "\t<tr><th scope=row>Hornet 4 Drive</th><td>21.4</td><td>6</td><td>258</td><td>110</td><td>3.08</td><td>3.215</td><td>19.44</td><td>1</td><td>0</td><td>3</td><td>1</td></tr>\n",
              "\t<tr><th scope=row>Hornet Sportabout</th><td>18.7</td><td>8</td><td>360</td><td>175</td><td>3.15</td><td>3.440</td><td>17.02</td><td>0</td><td>0</td><td>3</td><td>2</td></tr>\n",
              "</tbody>\n",
              "</table>\n"
            ]
          },
          "metadata": {
            "tags": []
          }
        }
      ]
    },
    {
      "cell_type": "code",
      "metadata": {
        "id": "PBdGReBmnIAi",
        "outputId": "f57311a0-fa20-4b3f-815b-707daed6dae0",
        "colab": {
          "base_uri": "https://localhost:8080/",
          "height": 440
        }
      },
      "source": [
        "aggregate(mtcars[,1],by=list(mtcars$cyl), FUN=mean)\n",
        "aggregate(mtcars[,1],by=list(mtcars$cyl), FUN=max)\n",
        "aggregate(mtcars[,1],by=list(mtcars$cyl), FUN=min)"
      ],
      "execution_count": 27,
      "outputs": [
        {
          "output_type": "display_data",
          "data": {
            "text/plain": [
              "  Group.1 x       \n",
              "1 4       26.66364\n",
              "2 6       19.74286\n",
              "3 8       15.10000"
            ],
            "text/latex": "A data.frame: 3 × 2\n\\begin{tabular}{ll}\n Group.1 & x\\\\\n <dbl> & <dbl>\\\\\n\\hline\n\t 4 & 26.66364\\\\\n\t 6 & 19.74286\\\\\n\t 8 & 15.10000\\\\\n\\end{tabular}\n",
            "text/markdown": "\nA data.frame: 3 × 2\n\n| Group.1 &lt;dbl&gt; | x &lt;dbl&gt; |\n|---|---|\n| 4 | 26.66364 |\n| 6 | 19.74286 |\n| 8 | 15.10000 |\n\n",
            "text/html": [
              "<table>\n",
              "<caption>A data.frame: 3 × 2</caption>\n",
              "<thead>\n",
              "\t<tr><th scope=col>Group.1</th><th scope=col>x</th></tr>\n",
              "\t<tr><th scope=col>&lt;dbl&gt;</th><th scope=col>&lt;dbl&gt;</th></tr>\n",
              "</thead>\n",
              "<tbody>\n",
              "\t<tr><td>4</td><td>26.66364</td></tr>\n",
              "\t<tr><td>6</td><td>19.74286</td></tr>\n",
              "\t<tr><td>8</td><td>15.10000</td></tr>\n",
              "</tbody>\n",
              "</table>\n"
            ]
          },
          "metadata": {
            "tags": []
          }
        },
        {
          "output_type": "display_data",
          "data": {
            "text/plain": [
              "  Group.1 x   \n",
              "1 4       33.9\n",
              "2 6       21.4\n",
              "3 8       19.2"
            ],
            "text/latex": "A data.frame: 3 × 2\n\\begin{tabular}{ll}\n Group.1 & x\\\\\n <dbl> & <dbl>\\\\\n\\hline\n\t 4 & 33.9\\\\\n\t 6 & 21.4\\\\\n\t 8 & 19.2\\\\\n\\end{tabular}\n",
            "text/markdown": "\nA data.frame: 3 × 2\n\n| Group.1 &lt;dbl&gt; | x &lt;dbl&gt; |\n|---|---|\n| 4 | 33.9 |\n| 6 | 21.4 |\n| 8 | 19.2 |\n\n",
            "text/html": [
              "<table>\n",
              "<caption>A data.frame: 3 × 2</caption>\n",
              "<thead>\n",
              "\t<tr><th scope=col>Group.1</th><th scope=col>x</th></tr>\n",
              "\t<tr><th scope=col>&lt;dbl&gt;</th><th scope=col>&lt;dbl&gt;</th></tr>\n",
              "</thead>\n",
              "<tbody>\n",
              "\t<tr><td>4</td><td>33.9</td></tr>\n",
              "\t<tr><td>6</td><td>21.4</td></tr>\n",
              "\t<tr><td>8</td><td>19.2</td></tr>\n",
              "</tbody>\n",
              "</table>\n"
            ]
          },
          "metadata": {
            "tags": []
          }
        },
        {
          "output_type": "display_data",
          "data": {
            "text/plain": [
              "  Group.1 x   \n",
              "1 4       21.4\n",
              "2 6       17.8\n",
              "3 8       10.4"
            ],
            "text/latex": "A data.frame: 3 × 2\n\\begin{tabular}{ll}\n Group.1 & x\\\\\n <dbl> & <dbl>\\\\\n\\hline\n\t 4 & 21.4\\\\\n\t 6 & 17.8\\\\\n\t 8 & 10.4\\\\\n\\end{tabular}\n",
            "text/markdown": "\nA data.frame: 3 × 2\n\n| Group.1 &lt;dbl&gt; | x &lt;dbl&gt; |\n|---|---|\n| 4 | 21.4 |\n| 6 | 17.8 |\n| 8 | 10.4 |\n\n",
            "text/html": [
              "<table>\n",
              "<caption>A data.frame: 3 × 2</caption>\n",
              "<thead>\n",
              "\t<tr><th scope=col>Group.1</th><th scope=col>x</th></tr>\n",
              "\t<tr><th scope=col>&lt;dbl&gt;</th><th scope=col>&lt;dbl&gt;</th></tr>\n",
              "</thead>\n",
              "<tbody>\n",
              "\t<tr><td>4</td><td>21.4</td></tr>\n",
              "\t<tr><td>6</td><td>17.8</td></tr>\n",
              "\t<tr><td>8</td><td>10.4</td></tr>\n",
              "</tbody>\n",
              "</table>\n"
            ]
          },
          "metadata": {
            "tags": []
          }
        }
      ]
    },
    {
      "cell_type": "code",
      "metadata": {
        "id": "ODrO0YqAyjJQ"
      },
      "source": [
        ""
      ],
      "execution_count": null,
      "outputs": []
    }
  ]
}