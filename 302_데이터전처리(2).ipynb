{
  "nbformat": 4,
  "nbformat_minor": 0,
  "metadata": {
    "colab": {
      "name": "302_데이터전처리(2).ipynb",
      "provenance": [],
      "authorship_tag": "ABX9TyPUMlcb4se3NCs9IPDcs7V5",
      "include_colab_link": true
    },
    "kernelspec": {
      "name": "ir",
      "display_name": "R"
    }
  },
  "cells": [
    {
      "cell_type": "markdown",
      "metadata": {
        "id": "view-in-github",
        "colab_type": "text"
      },
      "source": [
        "<a href=\"https://colab.research.google.com/github/gyujin0450/Rstudy/blob/master/302_%EB%8D%B0%EC%9D%B4%ED%84%B0%EC%A0%84%EC%B2%98%EB%A6%AC(2).ipynb\" target=\"_parent\"><img src=\"https://colab.research.google.com/assets/colab-badge.svg\" alt=\"Open In Colab\"/></a>"
      ]
    },
    {
      "cell_type": "code",
      "metadata": {
        "id": "_jn46W6hIl4t",
        "outputId": "43b96c11-f799-4693-a8fd-b6521c7a77c3",
        "colab": {
          "base_uri": "https://localhost:8080/",
          "height": 71
        }
      },
      "source": [
        "# 데이터전처리(2) : arrange, group_by, summarise\n",
        "install.packages(\"ggplot2\")"
      ],
      "execution_count": 2,
      "outputs": [
        {
          "output_type": "stream",
          "text": [
            "Installing package into ‘/usr/local/lib/R/site-library’\n",
            "(as ‘lib’ is unspecified)\n",
            "\n"
          ],
          "name": "stderr"
        }
      ]
    },
    {
      "cell_type": "code",
      "metadata": {
        "id": "J1CR9AdlJHXC"
      },
      "source": [
        "library(ggplot2)"
      ],
      "execution_count": 3,
      "outputs": []
    },
    {
      "cell_type": "code",
      "metadata": {
        "id": "fowaoOVRLQ-V",
        "outputId": "4d7303b3-538a-491e-fa67-9432de9cc22c",
        "colab": {
          "base_uri": "https://localhost:8080/",
          "height": 269
        }
      },
      "source": [
        "library(dplyr)"
      ],
      "execution_count": 14,
      "outputs": [
        {
          "output_type": "stream",
          "text": [
            "\n",
            "Attaching package: ‘dplyr’\n",
            "\n",
            "\n",
            "The following objects are masked from ‘package:stats’:\n",
            "\n",
            "    filter, lag\n",
            "\n",
            "\n",
            "The following objects are masked from ‘package:base’:\n",
            "\n",
            "    intersect, setdiff, setequal, union\n",
            "\n",
            "\n"
          ],
          "name": "stderr"
        }
      ]
    },
    {
      "cell_type": "code",
      "metadata": {
        "id": "X2nSnSg3JMK3",
        "outputId": "0c813a92-bad9-44a5-abf3-fd157532dfdf",
        "colab": {
          "base_uri": "https://localhost:8080/",
          "height": 288
        }
      },
      "source": [
        "head(diamonds,10)"
      ],
      "execution_count": 4,
      "outputs": [
        {
          "output_type": "display_data",
          "data": {
            "text/plain": [
              "   carat cut       color clarity depth table price x    y    z   \n",
              "1  0.23  Ideal     E     SI2     61.5  55    326   3.95 3.98 2.43\n",
              "2  0.21  Premium   E     SI1     59.8  61    326   3.89 3.84 2.31\n",
              "3  0.23  Good      E     VS1     56.9  65    327   4.05 4.07 2.31\n",
              "4  0.29  Premium   I     VS2     62.4  58    334   4.20 4.23 2.63\n",
              "5  0.31  Good      J     SI2     63.3  58    335   4.34 4.35 2.75\n",
              "6  0.24  Very Good J     VVS2    62.8  57    336   3.94 3.96 2.48\n",
              "7  0.24  Very Good I     VVS1    62.3  57    336   3.95 3.98 2.47\n",
              "8  0.26  Very Good H     SI1     61.9  55    337   4.07 4.11 2.53\n",
              "9  0.22  Fair      E     VS2     65.1  61    337   3.87 3.78 2.49\n",
              "10 0.23  Very Good H     VS1     59.4  61    338   4.00 4.05 2.39"
            ],
            "text/latex": "A tibble: 10 × 10\n\\begin{tabular}{llllllllll}\n carat & cut & color & clarity & depth & table & price & x & y & z\\\\\n <dbl> & <ord> & <ord> & <ord> & <dbl> & <dbl> & <int> & <dbl> & <dbl> & <dbl>\\\\\n\\hline\n\t 0.23 & Ideal     & E & SI2  & 61.5 & 55 & 326 & 3.95 & 3.98 & 2.43\\\\\n\t 0.21 & Premium   & E & SI1  & 59.8 & 61 & 326 & 3.89 & 3.84 & 2.31\\\\\n\t 0.23 & Good      & E & VS1  & 56.9 & 65 & 327 & 4.05 & 4.07 & 2.31\\\\\n\t 0.29 & Premium   & I & VS2  & 62.4 & 58 & 334 & 4.20 & 4.23 & 2.63\\\\\n\t 0.31 & Good      & J & SI2  & 63.3 & 58 & 335 & 4.34 & 4.35 & 2.75\\\\\n\t 0.24 & Very Good & J & VVS2 & 62.8 & 57 & 336 & 3.94 & 3.96 & 2.48\\\\\n\t 0.24 & Very Good & I & VVS1 & 62.3 & 57 & 336 & 3.95 & 3.98 & 2.47\\\\\n\t 0.26 & Very Good & H & SI1  & 61.9 & 55 & 337 & 4.07 & 4.11 & 2.53\\\\\n\t 0.22 & Fair      & E & VS2  & 65.1 & 61 & 337 & 3.87 & 3.78 & 2.49\\\\\n\t 0.23 & Very Good & H & VS1  & 59.4 & 61 & 338 & 4.00 & 4.05 & 2.39\\\\\n\\end{tabular}\n",
            "text/markdown": "\nA tibble: 10 × 10\n\n| carat &lt;dbl&gt; | cut &lt;ord&gt; | color &lt;ord&gt; | clarity &lt;ord&gt; | depth &lt;dbl&gt; | table &lt;dbl&gt; | price &lt;int&gt; | x &lt;dbl&gt; | y &lt;dbl&gt; | z &lt;dbl&gt; |\n|---|---|---|---|---|---|---|---|---|---|\n| 0.23 | Ideal     | E | SI2  | 61.5 | 55 | 326 | 3.95 | 3.98 | 2.43 |\n| 0.21 | Premium   | E | SI1  | 59.8 | 61 | 326 | 3.89 | 3.84 | 2.31 |\n| 0.23 | Good      | E | VS1  | 56.9 | 65 | 327 | 4.05 | 4.07 | 2.31 |\n| 0.29 | Premium   | I | VS2  | 62.4 | 58 | 334 | 4.20 | 4.23 | 2.63 |\n| 0.31 | Good      | J | SI2  | 63.3 | 58 | 335 | 4.34 | 4.35 | 2.75 |\n| 0.24 | Very Good | J | VVS2 | 62.8 | 57 | 336 | 3.94 | 3.96 | 2.48 |\n| 0.24 | Very Good | I | VVS1 | 62.3 | 57 | 336 | 3.95 | 3.98 | 2.47 |\n| 0.26 | Very Good | H | SI1  | 61.9 | 55 | 337 | 4.07 | 4.11 | 2.53 |\n| 0.22 | Fair      | E | VS2  | 65.1 | 61 | 337 | 3.87 | 3.78 | 2.49 |\n| 0.23 | Very Good | H | VS1  | 59.4 | 61 | 338 | 4.00 | 4.05 | 2.39 |\n\n",
            "text/html": [
              "<table>\n",
              "<caption>A tibble: 10 × 10</caption>\n",
              "<thead>\n",
              "\t<tr><th scope=col>carat</th><th scope=col>cut</th><th scope=col>color</th><th scope=col>clarity</th><th scope=col>depth</th><th scope=col>table</th><th scope=col>price</th><th scope=col>x</th><th scope=col>y</th><th scope=col>z</th></tr>\n",
              "\t<tr><th scope=col>&lt;dbl&gt;</th><th scope=col>&lt;ord&gt;</th><th scope=col>&lt;ord&gt;</th><th scope=col>&lt;ord&gt;</th><th scope=col>&lt;dbl&gt;</th><th scope=col>&lt;dbl&gt;</th><th scope=col>&lt;int&gt;</th><th scope=col>&lt;dbl&gt;</th><th scope=col>&lt;dbl&gt;</th><th scope=col>&lt;dbl&gt;</th></tr>\n",
              "</thead>\n",
              "<tbody>\n",
              "\t<tr><td>0.23</td><td>Ideal    </td><td>E</td><td>SI2 </td><td>61.5</td><td>55</td><td>326</td><td>3.95</td><td>3.98</td><td>2.43</td></tr>\n",
              "\t<tr><td>0.21</td><td>Premium  </td><td>E</td><td>SI1 </td><td>59.8</td><td>61</td><td>326</td><td>3.89</td><td>3.84</td><td>2.31</td></tr>\n",
              "\t<tr><td>0.23</td><td>Good     </td><td>E</td><td>VS1 </td><td>56.9</td><td>65</td><td>327</td><td>4.05</td><td>4.07</td><td>2.31</td></tr>\n",
              "\t<tr><td>0.29</td><td>Premium  </td><td>I</td><td>VS2 </td><td>62.4</td><td>58</td><td>334</td><td>4.20</td><td>4.23</td><td>2.63</td></tr>\n",
              "\t<tr><td>0.31</td><td>Good     </td><td>J</td><td>SI2 </td><td>63.3</td><td>58</td><td>335</td><td>4.34</td><td>4.35</td><td>2.75</td></tr>\n",
              "\t<tr><td>0.24</td><td>Very Good</td><td>J</td><td>VVS2</td><td>62.8</td><td>57</td><td>336</td><td>3.94</td><td>3.96</td><td>2.48</td></tr>\n",
              "\t<tr><td>0.24</td><td>Very Good</td><td>I</td><td>VVS1</td><td>62.3</td><td>57</td><td>336</td><td>3.95</td><td>3.98</td><td>2.47</td></tr>\n",
              "\t<tr><td>0.26</td><td>Very Good</td><td>H</td><td>SI1 </td><td>61.9</td><td>55</td><td>337</td><td>4.07</td><td>4.11</td><td>2.53</td></tr>\n",
              "\t<tr><td>0.22</td><td>Fair     </td><td>E</td><td>VS2 </td><td>65.1</td><td>61</td><td>337</td><td>3.87</td><td>3.78</td><td>2.49</td></tr>\n",
              "\t<tr><td>0.23</td><td>Very Good</td><td>H</td><td>VS1 </td><td>59.4</td><td>61</td><td>338</td><td>4.00</td><td>4.05</td><td>2.39</td></tr>\n",
              "</tbody>\n",
              "</table>\n"
            ]
          },
          "metadata": {
            "tags": []
          }
        }
      ]
    },
    {
      "cell_type": "code",
      "metadata": {
        "id": "T2X6Xq7dJQC3"
      },
      "source": [
        "# 'https://github.com/siestageek/datasets/blob/master/rdata/sungjuk.rdata?raw=true'\n",
        "load('sungjuk.rdata')"
      ],
      "execution_count": 8,
      "outputs": []
    },
    {
      "cell_type": "code",
      "metadata": {
        "id": "AfJumcpaKpJd",
        "outputId": "c84eec8c-e38d-4dce-f9bd-8fbc5735e3da",
        "colab": {
          "base_uri": "https://localhost:8080/",
          "height": 107
        }
      },
      "source": [
        "str(sungjuk)"
      ],
      "execution_count": 10,
      "outputs": [
        {
          "output_type": "stream",
          "text": [
            "'data.frame':\t4 obs. of  4 variables:\n",
            " $ name: Factor w/ 4 levels \"Jane\",\"John\",..: 2 4 3 1\n",
            " $ eng : num  90 95 69 78\n",
            " $ mat : num  85 96 49 95\n",
            " $ sci : num  90 80 70 60\n"
          ],
          "name": "stdout"
        }
      ]
    },
    {
      "cell_type": "code",
      "metadata": {
        "id": "HQ4tYORdKup4",
        "outputId": "37060009-d3b9-48b3-9a05-08723baa5e1d",
        "colab": {
          "base_uri": "https://localhost:8080/",
          "height": 143
        }
      },
      "source": [
        "summary(sungjuk)"
      ],
      "execution_count": 11,
      "outputs": [
        {
          "output_type": "display_data",
          "data": {
            "text/plain": [
              "   name        eng             mat             sci      \n",
              " Jane:1   Min.   :69.00   Min.   :49.00   Min.   :60.0  \n",
              " John:1   1st Qu.:75.75   1st Qu.:76.00   1st Qu.:67.5  \n",
              " Mark:1   Median :84.00   Median :90.00   Median :75.0  \n",
              " Tom :1   Mean   :83.00   Mean   :81.25   Mean   :75.0  \n",
              "          3rd Qu.:91.25   3rd Qu.:95.25   3rd Qu.:82.5  \n",
              "          Max.   :95.00   Max.   :96.00   Max.   :90.0  "
            ]
          },
          "metadata": {
            "tags": []
          }
        }
      ]
    },
    {
      "cell_type": "code",
      "metadata": {
        "id": "fRvp45geKz6Q",
        "outputId": "dd74ff75-66e5-41a9-e095-33d6061291b8",
        "colab": {
          "base_uri": "https://localhost:8080/",
          "height": 162
        }
      },
      "source": [
        "head(sungjuk)"
      ],
      "execution_count": 12,
      "outputs": [
        {
          "output_type": "display_data",
          "data": {
            "text/plain": [
              "  name eng mat sci\n",
              "1 John 90  85  90 \n",
              "2 Tom  95  96  80 \n",
              "3 Mark 69  49  70 \n",
              "4 Jane 78  95  60 "
            ],
            "text/latex": "A data.frame: 4 × 4\n\\begin{tabular}{r|llll}\n  & name & eng & mat & sci\\\\\n  & <fct> & <dbl> & <dbl> & <dbl>\\\\\n\\hline\n\t1 & John & 90 & 85 & 90\\\\\n\t2 & Tom  & 95 & 96 & 80\\\\\n\t3 & Mark & 69 & 49 & 70\\\\\n\t4 & Jane & 78 & 95 & 60\\\\\n\\end{tabular}\n",
            "text/markdown": "\nA data.frame: 4 × 4\n\n| <!--/--> | name &lt;fct&gt; | eng &lt;dbl&gt; | mat &lt;dbl&gt; | sci &lt;dbl&gt; |\n|---|---|---|---|---|\n| 1 | John | 90 | 85 | 90 |\n| 2 | Tom  | 95 | 96 | 80 |\n| 3 | Mark | 69 | 49 | 70 |\n| 4 | Jane | 78 | 95 | 60 |\n\n",
            "text/html": [
              "<table>\n",
              "<caption>A data.frame: 4 × 4</caption>\n",
              "<thead>\n",
              "\t<tr><th></th><th scope=col>name</th><th scope=col>eng</th><th scope=col>mat</th><th scope=col>sci</th></tr>\n",
              "\t<tr><th></th><th scope=col>&lt;fct&gt;</th><th scope=col>&lt;dbl&gt;</th><th scope=col>&lt;dbl&gt;</th><th scope=col>&lt;dbl&gt;</th></tr>\n",
              "</thead>\n",
              "<tbody>\n",
              "\t<tr><th scope=row>1</th><td>John</td><td>90</td><td>85</td><td>90</td></tr>\n",
              "\t<tr><th scope=row>2</th><td>Tom </td><td>95</td><td>96</td><td>80</td></tr>\n",
              "\t<tr><th scope=row>3</th><td>Mark</td><td>69</td><td>49</td><td>70</td></tr>\n",
              "\t<tr><th scope=row>4</th><td>Jane</td><td>78</td><td>95</td><td>60</td></tr>\n",
              "</tbody>\n",
              "</table>\n"
            ]
          },
          "metadata": {
            "tags": []
          }
        }
      ]
    },
    {
      "cell_type": "code",
      "metadata": {
        "id": "_myTW6FtK664"
      },
      "source": [
        "# 데이터 정렬 : arrange(변수명,...)"
      ],
      "execution_count": null,
      "outputs": []
    },
    {
      "cell_type": "code",
      "metadata": {
        "id": "dFO4KgWKLGSH",
        "outputId": "6e4d858f-f923-4ba4-a6f2-e13fea939e5f",
        "colab": {
          "base_uri": "https://localhost:8080/",
          "height": 162
        }
      },
      "source": [
        "sungjuk %>% arrange(name) # 이름으로 오름차순"
      ],
      "execution_count": 18,
      "outputs": [
        {
          "output_type": "display_data",
          "data": {
            "text/plain": [
              "  name eng mat sci\n",
              "1 Jane 78  95  60 \n",
              "2 John 90  85  90 \n",
              "3 Mark 69  49  70 \n",
              "4 Tom  95  96  80 "
            ],
            "text/latex": "A data.frame: 4 × 4\n\\begin{tabular}{llll}\n name & eng & mat & sci\\\\\n <fct> & <dbl> & <dbl> & <dbl>\\\\\n\\hline\n\t Jane & 78 & 95 & 60\\\\\n\t John & 90 & 85 & 90\\\\\n\t Mark & 69 & 49 & 70\\\\\n\t Tom  & 95 & 96 & 80\\\\\n\\end{tabular}\n",
            "text/markdown": "\nA data.frame: 4 × 4\n\n| name &lt;fct&gt; | eng &lt;dbl&gt; | mat &lt;dbl&gt; | sci &lt;dbl&gt; |\n|---|---|---|---|\n| Jane | 78 | 95 | 60 |\n| John | 90 | 85 | 90 |\n| Mark | 69 | 49 | 70 |\n| Tom  | 95 | 96 | 80 |\n\n",
            "text/html": [
              "<table>\n",
              "<caption>A data.frame: 4 × 4</caption>\n",
              "<thead>\n",
              "\t<tr><th scope=col>name</th><th scope=col>eng</th><th scope=col>mat</th><th scope=col>sci</th></tr>\n",
              "\t<tr><th scope=col>&lt;fct&gt;</th><th scope=col>&lt;dbl&gt;</th><th scope=col>&lt;dbl&gt;</th><th scope=col>&lt;dbl&gt;</th></tr>\n",
              "</thead>\n",
              "<tbody>\n",
              "\t<tr><td>Jane</td><td>78</td><td>95</td><td>60</td></tr>\n",
              "\t<tr><td>John</td><td>90</td><td>85</td><td>90</td></tr>\n",
              "\t<tr><td>Mark</td><td>69</td><td>49</td><td>70</td></tr>\n",
              "\t<tr><td>Tom </td><td>95</td><td>96</td><td>80</td></tr>\n",
              "</tbody>\n",
              "</table>\n"
            ]
          },
          "metadata": {
            "tags": []
          }
        }
      ]
    },
    {
      "cell_type": "code",
      "metadata": {
        "id": "sxNcofvzLhDQ",
        "outputId": "783a4501-f103-4065-f9cb-ba7d88208e11",
        "colab": {
          "base_uri": "https://localhost:8080/",
          "height": 162
        }
      },
      "source": [
        "sungjuk %>% arrange(desc(name)) # 이름으로 내림차순"
      ],
      "execution_count": 16,
      "outputs": [
        {
          "output_type": "display_data",
          "data": {
            "text/plain": [
              "  name eng mat sci\n",
              "1 Tom  95  96  80 \n",
              "2 Mark 69  49  70 \n",
              "3 John 90  85  90 \n",
              "4 Jane 78  95  60 "
            ],
            "text/latex": "A data.frame: 4 × 4\n\\begin{tabular}{llll}\n name & eng & mat & sci\\\\\n <fct> & <dbl> & <dbl> & <dbl>\\\\\n\\hline\n\t Tom  & 95 & 96 & 80\\\\\n\t Mark & 69 & 49 & 70\\\\\n\t John & 90 & 85 & 90\\\\\n\t Jane & 78 & 95 & 60\\\\\n\\end{tabular}\n",
            "text/markdown": "\nA data.frame: 4 × 4\n\n| name &lt;fct&gt; | eng &lt;dbl&gt; | mat &lt;dbl&gt; | sci &lt;dbl&gt; |\n|---|---|---|---|\n| Tom  | 95 | 96 | 80 |\n| Mark | 69 | 49 | 70 |\n| John | 90 | 85 | 90 |\n| Jane | 78 | 95 | 60 |\n\n",
            "text/html": [
              "<table>\n",
              "<caption>A data.frame: 4 × 4</caption>\n",
              "<thead>\n",
              "\t<tr><th scope=col>name</th><th scope=col>eng</th><th scope=col>mat</th><th scope=col>sci</th></tr>\n",
              "\t<tr><th scope=col>&lt;fct&gt;</th><th scope=col>&lt;dbl&gt;</th><th scope=col>&lt;dbl&gt;</th><th scope=col>&lt;dbl&gt;</th></tr>\n",
              "</thead>\n",
              "<tbody>\n",
              "\t<tr><td>Tom </td><td>95</td><td>96</td><td>80</td></tr>\n",
              "\t<tr><td>Mark</td><td>69</td><td>49</td><td>70</td></tr>\n",
              "\t<tr><td>John</td><td>90</td><td>85</td><td>90</td></tr>\n",
              "\t<tr><td>Jane</td><td>78</td><td>95</td><td>60</td></tr>\n",
              "</tbody>\n",
              "</table>\n"
            ]
          },
          "metadata": {
            "tags": []
          }
        }
      ]
    },
    {
      "cell_type": "code",
      "metadata": {
        "id": "e07uReu1Lvtg",
        "outputId": "3fb8d38f-ccc1-491f-9c5f-f461a7575e09",
        "colab": {
          "base_uri": "https://localhost:8080/",
          "height": 162
        }
      },
      "source": [
        "sungjuk %>% arrange(desc(eng),desc(mat),desc(sci)) # 여러변수 내림차순 정렬"
      ],
      "execution_count": 19,
      "outputs": [
        {
          "output_type": "display_data",
          "data": {
            "text/plain": [
              "  name eng mat sci\n",
              "1 Tom  95  96  80 \n",
              "2 John 90  85  90 \n",
              "3 Jane 78  95  60 \n",
              "4 Mark 69  49  70 "
            ],
            "text/latex": "A data.frame: 4 × 4\n\\begin{tabular}{llll}\n name & eng & mat & sci\\\\\n <fct> & <dbl> & <dbl> & <dbl>\\\\\n\\hline\n\t Tom  & 95 & 96 & 80\\\\\n\t John & 90 & 85 & 90\\\\\n\t Jane & 78 & 95 & 60\\\\\n\t Mark & 69 & 49 & 70\\\\\n\\end{tabular}\n",
            "text/markdown": "\nA data.frame: 4 × 4\n\n| name &lt;fct&gt; | eng &lt;dbl&gt; | mat &lt;dbl&gt; | sci &lt;dbl&gt; |\n|---|---|---|---|\n| Tom  | 95 | 96 | 80 |\n| John | 90 | 85 | 90 |\n| Jane | 78 | 95 | 60 |\n| Mark | 69 | 49 | 70 |\n\n",
            "text/html": [
              "<table>\n",
              "<caption>A data.frame: 4 × 4</caption>\n",
              "<thead>\n",
              "\t<tr><th scope=col>name</th><th scope=col>eng</th><th scope=col>mat</th><th scope=col>sci</th></tr>\n",
              "\t<tr><th scope=col>&lt;fct&gt;</th><th scope=col>&lt;dbl&gt;</th><th scope=col>&lt;dbl&gt;</th><th scope=col>&lt;dbl&gt;</th></tr>\n",
              "</thead>\n",
              "<tbody>\n",
              "\t<tr><td>Tom </td><td>95</td><td>96</td><td>80</td></tr>\n",
              "\t<tr><td>John</td><td>90</td><td>85</td><td>90</td></tr>\n",
              "\t<tr><td>Jane</td><td>78</td><td>95</td><td>60</td></tr>\n",
              "\t<tr><td>Mark</td><td>69</td><td>49</td><td>70</td></tr>\n",
              "</tbody>\n",
              "</table>\n"
            ]
          },
          "metadata": {
            "tags": []
          }
        }
      ]
    },
    {
      "cell_type": "code",
      "metadata": {
        "id": "XoZVfdWEMBGQ"
      },
      "source": [
        "# 집계 : summarise(컬럼명 = 집계함수,...)"
      ],
      "execution_count": null,
      "outputs": []
    },
    {
      "cell_type": "code",
      "metadata": {
        "id": "yIJyIStpMWpQ",
        "outputId": "118aead6-5a26-4b5b-eaff-889dfef412e2",
        "colab": {
          "base_uri": "https://localhost:8080/",
          "height": 133
        }
      },
      "source": [
        "# 영어 평균 점수\n",
        "sungjuk %>% summarise(영어평균 = mean(eng))"
      ],
      "execution_count": 21,
      "outputs": [
        {
          "output_type": "display_data",
          "data": {
            "text/plain": [
              "  영어평균\n",
              "1 83      "
            ],
            "text/latex": "A data.frame: 1 × 1\n\\begin{tabular}{l}\n 영어평균\\\\\n <dbl>\\\\\n\\hline\n\t 83\\\\\n\\end{tabular}\n",
            "text/markdown": "\nA data.frame: 1 × 1\n\n| 영어평균 &lt;dbl&gt; |\n|---|\n| 83 |\n\n",
            "text/html": [
              "<table>\n",
              "<caption>A data.frame: 1 × 1</caption>\n",
              "<thead>\n",
              "\t<tr><th scope=col>영어평균</th></tr>\n",
              "\t<tr><th scope=col>&lt;dbl&gt;</th></tr>\n",
              "</thead>\n",
              "<tbody>\n",
              "\t<tr><td>83</td></tr>\n",
              "</tbody>\n",
              "</table>\n"
            ]
          },
          "metadata": {
            "tags": []
          }
        }
      ]
    },
    {
      "cell_type": "code",
      "metadata": {
        "id": "gW96va2GMuOY",
        "outputId": "66c6ca3b-3809-4f7a-cafa-9d2a1568d75c",
        "colab": {
          "base_uri": "https://localhost:8080/",
          "height": 162
        }
      },
      "source": [
        "sungjuk"
      ],
      "execution_count": 22,
      "outputs": [
        {
          "output_type": "display_data",
          "data": {
            "text/plain": [
              "  name eng mat sci\n",
              "1 John 90  85  90 \n",
              "2 Tom  95  96  80 \n",
              "3 Mark 69  49  70 \n",
              "4 Jane 78  95  60 "
            ],
            "text/latex": "A data.frame: 4 × 4\n\\begin{tabular}{llll}\n name & eng & mat & sci\\\\\n <fct> & <dbl> & <dbl> & <dbl>\\\\\n\\hline\n\t John & 90 & 85 & 90\\\\\n\t Tom  & 95 & 96 & 80\\\\\n\t Mark & 69 & 49 & 70\\\\\n\t Jane & 78 & 95 & 60\\\\\n\\end{tabular}\n",
            "text/markdown": "\nA data.frame: 4 × 4\n\n| name &lt;fct&gt; | eng &lt;dbl&gt; | mat &lt;dbl&gt; | sci &lt;dbl&gt; |\n|---|---|---|---|\n| John | 90 | 85 | 90 |\n| Tom  | 95 | 96 | 80 |\n| Mark | 69 | 49 | 70 |\n| Jane | 78 | 95 | 60 |\n\n",
            "text/html": [
              "<table>\n",
              "<caption>A data.frame: 4 × 4</caption>\n",
              "<thead>\n",
              "\t<tr><th scope=col>name</th><th scope=col>eng</th><th scope=col>mat</th><th scope=col>sci</th></tr>\n",
              "\t<tr><th scope=col>&lt;fct&gt;</th><th scope=col>&lt;dbl&gt;</th><th scope=col>&lt;dbl&gt;</th><th scope=col>&lt;dbl&gt;</th></tr>\n",
              "</thead>\n",
              "<tbody>\n",
              "\t<tr><td>John</td><td>90</td><td>85</td><td>90</td></tr>\n",
              "\t<tr><td>Tom </td><td>95</td><td>96</td><td>80</td></tr>\n",
              "\t<tr><td>Mark</td><td>69</td><td>49</td><td>70</td></tr>\n",
              "\t<tr><td>Jane</td><td>78</td><td>95</td><td>60</td></tr>\n",
              "</tbody>\n",
              "</table>\n"
            ]
          },
          "metadata": {
            "tags": []
          }
        }
      ]
    },
    {
      "cell_type": "code",
      "metadata": {
        "id": "3DpNrQfzNBew",
        "outputId": "808ae68d-7779-4568-bcc3-70cb200ce12f",
        "colab": {
          "base_uri": "https://localhost:8080/",
          "height": 99
        }
      },
      "source": [
        "# 수학 최고,최저 점수\n",
        "sungjuk %>% summarise(수학최고점수 = max(mat),수학최저점수 = min(mat))"
      ],
      "execution_count": 25,
      "outputs": [
        {
          "output_type": "display_data",
          "data": {
            "text/plain": [
              "  수학최고점수 수학최저점수\n",
              "1 96           49          "
            ],
            "text/latex": "A data.frame: 1 × 2\n\\begin{tabular}{ll}\n 수학최고점수 & 수학최저점수\\\\\n <dbl> & <dbl>\\\\\n\\hline\n\t 96 & 49\\\\\n\\end{tabular}\n",
            "text/markdown": "\nA data.frame: 1 × 2\n\n| 수학최고점수 &lt;dbl&gt; | 수학최저점수 &lt;dbl&gt; |\n|---|---|\n| 96 | 49 |\n\n",
            "text/html": [
              "<table>\n",
              "<caption>A data.frame: 1 × 2</caption>\n",
              "<thead>\n",
              "\t<tr><th scope=col>수학최고점수</th><th scope=col>수학최저점수</th></tr>\n",
              "\t<tr><th scope=col>&lt;dbl&gt;</th><th scope=col>&lt;dbl&gt;</th></tr>\n",
              "</thead>\n",
              "<tbody>\n",
              "\t<tr><td>96</td><td>49</td></tr>\n",
              "</tbody>\n",
              "</table>\n"
            ]
          },
          "metadata": {
            "tags": []
          }
        }
      ]
    },
    {
      "cell_type": "code",
      "metadata": {
        "id": "NZEhMiLZNVsH"
      },
      "source": [
        "# 데이터 그룹화 : group_by(컬럼,...)\n",
        "sungjuk$class <- c(2,1,2,1)"
      ],
      "execution_count": 27,
      "outputs": []
    },
    {
      "cell_type": "code",
      "metadata": {
        "id": "PvA8KT8dOGwA",
        "outputId": "a375bea2-5816-483f-82d0-6870e6c814f7",
        "colab": {
          "base_uri": "https://localhost:8080/",
          "height": 156
        }
      },
      "source": [
        "# class별 평균 영어점수\n",
        "sungjuk %>% group_by(class) %>% summarise(영어평균 = mean(eng))"
      ],
      "execution_count": 28,
      "outputs": [
        {
          "output_type": "stream",
          "text": [
            "`summarise()` ungrouping output (override with `.groups` argument)\n",
            "\n"
          ],
          "name": "stderr"
        },
        {
          "output_type": "display_data",
          "data": {
            "text/plain": [
              "  class 영어평균\n",
              "1 1     86.5    \n",
              "2 2     79.5    "
            ],
            "text/latex": "A tibble: 2 × 2\n\\begin{tabular}{ll}\n class & 영어평균\\\\\n <dbl> & <dbl>\\\\\n\\hline\n\t 1 & 86.5\\\\\n\t 2 & 79.5\\\\\n\\end{tabular}\n",
            "text/markdown": "\nA tibble: 2 × 2\n\n| class &lt;dbl&gt; | 영어평균 &lt;dbl&gt; |\n|---|---|\n| 1 | 86.5 |\n| 2 | 79.5 |\n\n",
            "text/html": [
              "<table>\n",
              "<caption>A tibble: 2 × 2</caption>\n",
              "<thead>\n",
              "\t<tr><th scope=col>class</th><th scope=col>영어평균</th></tr>\n",
              "\t<tr><th scope=col>&lt;dbl&gt;</th><th scope=col>&lt;dbl&gt;</th></tr>\n",
              "</thead>\n",
              "<tbody>\n",
              "\t<tr><td>1</td><td>86.5</td></tr>\n",
              "\t<tr><td>2</td><td>79.5</td></tr>\n",
              "</tbody>\n",
              "</table>\n"
            ]
          },
          "metadata": {
            "tags": []
          }
        }
      ]
    },
    {
      "cell_type": "code",
      "metadata": {
        "id": "7rCAxOf_On64",
        "outputId": "285d7a48-96b1-47fa-9935-8c047e586bcd",
        "colab": {
          "base_uri": "https://localhost:8080/",
          "height": 156
        }
      },
      "source": [
        "# class별 최고/최소 영어점수\n",
        "sungjuk %>% group_by(class) %>% summarise(최고영어점수 = max(eng),최소영어점수 = min(eng))"
      ],
      "execution_count": 29,
      "outputs": [
        {
          "output_type": "stream",
          "text": [
            "`summarise()` ungrouping output (override with `.groups` argument)\n",
            "\n"
          ],
          "name": "stderr"
        },
        {
          "output_type": "display_data",
          "data": {
            "text/plain": [
              "  class 최고영어점수 최소영어점수\n",
              "1 1     95           78          \n",
              "2 2     90           69          "
            ],
            "text/latex": "A tibble: 2 × 3\n\\begin{tabular}{lll}\n class & 최고영어점수 & 최소영어점수\\\\\n <dbl> & <dbl> & <dbl>\\\\\n\\hline\n\t 1 & 95 & 78\\\\\n\t 2 & 90 & 69\\\\\n\\end{tabular}\n",
            "text/markdown": "\nA tibble: 2 × 3\n\n| class &lt;dbl&gt; | 최고영어점수 &lt;dbl&gt; | 최소영어점수 &lt;dbl&gt; |\n|---|---|---|\n| 1 | 95 | 78 |\n| 2 | 90 | 69 |\n\n",
            "text/html": [
              "<table>\n",
              "<caption>A tibble: 2 × 3</caption>\n",
              "<thead>\n",
              "\t<tr><th scope=col>class</th><th scope=col>최고영어점수</th><th scope=col>최소영어점수</th></tr>\n",
              "\t<tr><th scope=col>&lt;dbl&gt;</th><th scope=col>&lt;dbl&gt;</th><th scope=col>&lt;dbl&gt;</th></tr>\n",
              "</thead>\n",
              "<tbody>\n",
              "\t<tr><td>1</td><td>95</td><td>78</td></tr>\n",
              "\t<tr><td>2</td><td>90</td><td>69</td></tr>\n",
              "</tbody>\n",
              "</table>\n"
            ]
          },
          "metadata": {
            "tags": []
          }
        }
      ]
    },
    {
      "cell_type": "code",
      "metadata": {
        "id": "CRhTF4CzPFKY",
        "outputId": "f7e3a0e9-7582-4bb3-fd2f-3db991ef5c03",
        "colab": {
          "base_uri": "https://localhost:8080/",
          "height": 162
        }
      },
      "source": [
        "sungjuk"
      ],
      "execution_count": 30,
      "outputs": [
        {
          "output_type": "display_data",
          "data": {
            "text/plain": [
              "  name eng mat sci class\n",
              "1 John 90  85  90  2    \n",
              "2 Tom  95  96  80  1    \n",
              "3 Mark 69  49  70  2    \n",
              "4 Jane 78  95  60  1    "
            ],
            "text/latex": "A data.frame: 4 × 5\n\\begin{tabular}{lllll}\n name & eng & mat & sci & class\\\\\n <fct> & <dbl> & <dbl> & <dbl> & <dbl>\\\\\n\\hline\n\t John & 90 & 85 & 90 & 2\\\\\n\t Tom  & 95 & 96 & 80 & 1\\\\\n\t Mark & 69 & 49 & 70 & 2\\\\\n\t Jane & 78 & 95 & 60 & 1\\\\\n\\end{tabular}\n",
            "text/markdown": "\nA data.frame: 4 × 5\n\n| name &lt;fct&gt; | eng &lt;dbl&gt; | mat &lt;dbl&gt; | sci &lt;dbl&gt; | class &lt;dbl&gt; |\n|---|---|---|---|---|\n| John | 90 | 85 | 90 | 2 |\n| Tom  | 95 | 96 | 80 | 1 |\n| Mark | 69 | 49 | 70 | 2 |\n| Jane | 78 | 95 | 60 | 1 |\n\n",
            "text/html": [
              "<table>\n",
              "<caption>A data.frame: 4 × 5</caption>\n",
              "<thead>\n",
              "\t<tr><th scope=col>name</th><th scope=col>eng</th><th scope=col>mat</th><th scope=col>sci</th><th scope=col>class</th></tr>\n",
              "\t<tr><th scope=col>&lt;fct&gt;</th><th scope=col>&lt;dbl&gt;</th><th scope=col>&lt;dbl&gt;</th><th scope=col>&lt;dbl&gt;</th><th scope=col>&lt;dbl&gt;</th></tr>\n",
              "</thead>\n",
              "<tbody>\n",
              "\t<tr><td>John</td><td>90</td><td>85</td><td>90</td><td>2</td></tr>\n",
              "\t<tr><td>Tom </td><td>95</td><td>96</td><td>80</td><td>1</td></tr>\n",
              "\t<tr><td>Mark</td><td>69</td><td>49</td><td>70</td><td>2</td></tr>\n",
              "\t<tr><td>Jane</td><td>78</td><td>95</td><td>60</td><td>1</td></tr>\n",
              "</tbody>\n",
              "</table>\n"
            ]
          },
          "metadata": {
            "tags": []
          }
        }
      ]
    },
    {
      "cell_type": "code",
      "metadata": {
        "id": "pOl4cyckPdUw"
      },
      "source": [
        ""
      ],
      "execution_count": null,
      "outputs": []
    }
  ]
}