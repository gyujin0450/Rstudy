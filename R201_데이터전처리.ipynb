{
  "nbformat": 4,
  "nbformat_minor": 0,
  "metadata": {
    "colab": {
      "name": "R201_데이터전처리.ipynb",
      "provenance": [],
      "authorship_tag": "ABX9TyPsCWv4of4ZAK/KgxAm0dsq",
      "include_colab_link": true
    },
    "kernelspec": {
      "name": "ir",
      "display_name": "R"
    }
  },
  "cells": [
    {
      "cell_type": "markdown",
      "metadata": {
        "id": "view-in-github",
        "colab_type": "text"
      },
      "source": [
        "<a href=\"https://colab.research.google.com/github/gyujin0450/Rstudy/blob/master/R201_%EB%8D%B0%EC%9D%B4%ED%84%B0%EC%A0%84%EC%B2%98%EB%A6%AC.ipynb\" target=\"_parent\"><img src=\"https://colab.research.google.com/assets/colab-badge.svg\" alt=\"Open In Colab\"/></a>"
      ]
    },
    {
      "cell_type": "markdown",
      "metadata": {
        "id": "A0fC5GPi2V_L"
      },
      "source": [
        "201. 데이터 정제 예제"
      ]
    },
    {
      "cell_type": "code",
      "metadata": {
        "id": "PZVOg9AU3Sl9",
        "outputId": "f6478a53-04d6-454e-fff2-90087b173dfc",
        "colab": {
          "base_uri": "https://localhost:8080/",
          "height": 288
        }
      },
      "source": [
        "# 데이터 분석 목적에 적합한 작업 진행하기!!\n",
        "\n",
        "# 타이타닉 데이터 읽어오기\n",
        "titanic <- read.csv(\"https://raw.githubusercontent.com/gyujin0450/dataset/master/titanic.csv\")\n",
        "head(titanic,10) "
      ],
      "execution_count": 32,
      "outputs": [
        {
          "output_type": "display_data",
          "data": {
            "text/plain": [
              "   pclass survived name                                            sex   \n",
              "1  1      1        Allen, Miss. Elisabeth Walton                   female\n",
              "2  1      1        Allison, Master. Hudson Trevor                  male  \n",
              "3  1      0        Allison, Miss. Helen Loraine                    female\n",
              "4  1      0        Allison, Mr. Hudson Joshua Creighton            male  \n",
              "5  1      0        Allison, Mrs. Hudson J C (Bessie Waldo Daniels) female\n",
              "6  1      1        Anderson, Mr. Harry                             male  \n",
              "7  1      1        Andrews, Miss. Kornelia Theodosia               female\n",
              "8  1      0        Andrews, Mr. Thomas Jr                          male  \n",
              "9  1      1        Appleton, Mrs. Edward Dale (Charlotte Lamson)   female\n",
              "10 1      0        Artagaveytia, Mr. Ramon                         male  \n",
              "   age     sibsp parch ticket   fare     cabin   embarked\n",
              "1  29.0000 0     0     24160    211.3375 B5      S       \n",
              "2   0.9167 1     2     113781   151.5500 C22 C26 S       \n",
              "3   2.0000 1     2     113781   151.5500 C22 C26 S       \n",
              "4  30.0000 1     2     113781   151.5500 C22 C26 S       \n",
              "5  25.0000 1     2     113781   151.5500 C22 C26 S       \n",
              "6  48.0000 0     0     19952     26.5500 E12     S       \n",
              "7  63.0000 1     0     13502     77.9583 D7      S       \n",
              "8  39.0000 0     0     112050     0.0000 A36     S       \n",
              "9  53.0000 2     0     11769     51.4792 C101    S       \n",
              "10 71.0000 0     0     PC 17609  49.5042         C       "
            ],
            "text/latex": "A data.frame: 10 × 11\n\\begin{tabular}{r|lllllllllll}\n  & pclass & survived & name & sex & age & sibsp & parch & ticket & fare & cabin & embarked\\\\\n  & <int> & <int> & <fct> & <fct> & <dbl> & <int> & <int> & <fct> & <dbl> & <fct> & <fct>\\\\\n\\hline\n\t1 & 1 & 1 & Allen, Miss. Elisabeth Walton                   & female & 29.0000 & 0 & 0 & 24160    & 211.3375 & B5      & S\\\\\n\t2 & 1 & 1 & Allison, Master. Hudson Trevor                  & male   &  0.9167 & 1 & 2 & 113781   & 151.5500 & C22 C26 & S\\\\\n\t3 & 1 & 0 & Allison, Miss. Helen Loraine                    & female &  2.0000 & 1 & 2 & 113781   & 151.5500 & C22 C26 & S\\\\\n\t4 & 1 & 0 & Allison, Mr. Hudson Joshua Creighton            & male   & 30.0000 & 1 & 2 & 113781   & 151.5500 & C22 C26 & S\\\\\n\t5 & 1 & 0 & Allison, Mrs. Hudson J C (Bessie Waldo Daniels) & female & 25.0000 & 1 & 2 & 113781   & 151.5500 & C22 C26 & S\\\\\n\t6 & 1 & 1 & Anderson, Mr. Harry                             & male   & 48.0000 & 0 & 0 & 19952    &  26.5500 & E12     & S\\\\\n\t7 & 1 & 1 & Andrews, Miss. Kornelia Theodosia               & female & 63.0000 & 1 & 0 & 13502    &  77.9583 & D7      & S\\\\\n\t8 & 1 & 0 & Andrews, Mr. Thomas Jr                          & male   & 39.0000 & 0 & 0 & 112050   &   0.0000 & A36     & S\\\\\n\t9 & 1 & 1 & Appleton, Mrs. Edward Dale (Charlotte Lamson)   & female & 53.0000 & 2 & 0 & 11769    &  51.4792 & C101    & S\\\\\n\t10 & 1 & 0 & Artagaveytia, Mr. Ramon                         & male   & 71.0000 & 0 & 0 & PC 17609 &  49.5042 &         & C\\\\\n\\end{tabular}\n",
            "text/markdown": "\nA data.frame: 10 × 11\n\n| <!--/--> | pclass &lt;int&gt; | survived &lt;int&gt; | name &lt;fct&gt; | sex &lt;fct&gt; | age &lt;dbl&gt; | sibsp &lt;int&gt; | parch &lt;int&gt; | ticket &lt;fct&gt; | fare &lt;dbl&gt; | cabin &lt;fct&gt; | embarked &lt;fct&gt; |\n|---|---|---|---|---|---|---|---|---|---|---|---|\n| 1 | 1 | 1 | Allen, Miss. Elisabeth Walton                   | female | 29.0000 | 0 | 0 | 24160    | 211.3375 | B5      | S |\n| 2 | 1 | 1 | Allison, Master. Hudson Trevor                  | male   |  0.9167 | 1 | 2 | 113781   | 151.5500 | C22 C26 | S |\n| 3 | 1 | 0 | Allison, Miss. Helen Loraine                    | female |  2.0000 | 1 | 2 | 113781   | 151.5500 | C22 C26 | S |\n| 4 | 1 | 0 | Allison, Mr. Hudson Joshua Creighton            | male   | 30.0000 | 1 | 2 | 113781   | 151.5500 | C22 C26 | S |\n| 5 | 1 | 0 | Allison, Mrs. Hudson J C (Bessie Waldo Daniels) | female | 25.0000 | 1 | 2 | 113781   | 151.5500 | C22 C26 | S |\n| 6 | 1 | 1 | Anderson, Mr. Harry                             | male   | 48.0000 | 0 | 0 | 19952    |  26.5500 | E12     | S |\n| 7 | 1 | 1 | Andrews, Miss. Kornelia Theodosia               | female | 63.0000 | 1 | 0 | 13502    |  77.9583 | D7      | S |\n| 8 | 1 | 0 | Andrews, Mr. Thomas Jr                          | male   | 39.0000 | 0 | 0 | 112050   |   0.0000 | A36     | S |\n| 9 | 1 | 1 | Appleton, Mrs. Edward Dale (Charlotte Lamson)   | female | 53.0000 | 2 | 0 | 11769    |  51.4792 | C101    | S |\n| 10 | 1 | 0 | Artagaveytia, Mr. Ramon                         | male   | 71.0000 | 0 | 0 | PC 17609 |  49.5042 | <!----> | C |\n\n",
            "text/html": [
              "<table>\n",
              "<caption>A data.frame: 10 × 11</caption>\n",
              "<thead>\n",
              "\t<tr><th></th><th scope=col>pclass</th><th scope=col>survived</th><th scope=col>name</th><th scope=col>sex</th><th scope=col>age</th><th scope=col>sibsp</th><th scope=col>parch</th><th scope=col>ticket</th><th scope=col>fare</th><th scope=col>cabin</th><th scope=col>embarked</th></tr>\n",
              "\t<tr><th></th><th scope=col>&lt;int&gt;</th><th scope=col>&lt;int&gt;</th><th scope=col>&lt;fct&gt;</th><th scope=col>&lt;fct&gt;</th><th scope=col>&lt;dbl&gt;</th><th scope=col>&lt;int&gt;</th><th scope=col>&lt;int&gt;</th><th scope=col>&lt;fct&gt;</th><th scope=col>&lt;dbl&gt;</th><th scope=col>&lt;fct&gt;</th><th scope=col>&lt;fct&gt;</th></tr>\n",
              "</thead>\n",
              "<tbody>\n",
              "\t<tr><th scope=row>1</th><td>1</td><td>1</td><td>Allen, Miss. Elisabeth Walton                  </td><td>female</td><td>29.0000</td><td>0</td><td>0</td><td>24160   </td><td>211.3375</td><td>B5     </td><td>S</td></tr>\n",
              "\t<tr><th scope=row>2</th><td>1</td><td>1</td><td>Allison, Master. Hudson Trevor                 </td><td>male  </td><td> 0.9167</td><td>1</td><td>2</td><td>113781  </td><td>151.5500</td><td>C22 C26</td><td>S</td></tr>\n",
              "\t<tr><th scope=row>3</th><td>1</td><td>0</td><td>Allison, Miss. Helen Loraine                   </td><td>female</td><td> 2.0000</td><td>1</td><td>2</td><td>113781  </td><td>151.5500</td><td>C22 C26</td><td>S</td></tr>\n",
              "\t<tr><th scope=row>4</th><td>1</td><td>0</td><td>Allison, Mr. Hudson Joshua Creighton           </td><td>male  </td><td>30.0000</td><td>1</td><td>2</td><td>113781  </td><td>151.5500</td><td>C22 C26</td><td>S</td></tr>\n",
              "\t<tr><th scope=row>5</th><td>1</td><td>0</td><td>Allison, Mrs. Hudson J C (Bessie Waldo Daniels)</td><td>female</td><td>25.0000</td><td>1</td><td>2</td><td>113781  </td><td>151.5500</td><td>C22 C26</td><td>S</td></tr>\n",
              "\t<tr><th scope=row>6</th><td>1</td><td>1</td><td>Anderson, Mr. Harry                            </td><td>male  </td><td>48.0000</td><td>0</td><td>0</td><td>19952   </td><td> 26.5500</td><td>E12    </td><td>S</td></tr>\n",
              "\t<tr><th scope=row>7</th><td>1</td><td>1</td><td>Andrews, Miss. Kornelia Theodosia              </td><td>female</td><td>63.0000</td><td>1</td><td>0</td><td>13502   </td><td> 77.9583</td><td>D7     </td><td>S</td></tr>\n",
              "\t<tr><th scope=row>8</th><td>1</td><td>0</td><td>Andrews, Mr. Thomas Jr                         </td><td>male  </td><td>39.0000</td><td>0</td><td>0</td><td>112050  </td><td>  0.0000</td><td>A36    </td><td>S</td></tr>\n",
              "\t<tr><th scope=row>9</th><td>1</td><td>1</td><td>Appleton, Mrs. Edward Dale (Charlotte Lamson)  </td><td>female</td><td>53.0000</td><td>2</td><td>0</td><td>11769   </td><td> 51.4792</td><td>C101   </td><td>S</td></tr>\n",
              "\t<tr><th scope=row>10</th><td>1</td><td>0</td><td>Artagaveytia, Mr. Ramon                        </td><td>male  </td><td>71.0000</td><td>0</td><td>0</td><td>PC 17609</td><td> 49.5042</td><td>       </td><td>C</td></tr>\n",
              "</tbody>\n",
              "</table>\n"
            ]
          },
          "metadata": {
            "tags": []
          }
        }
      ]
    },
    {
      "cell_type": "code",
      "metadata": {
        "id": "N9bN-9Hm4duS",
        "outputId": "2eb17efc-cc1b-4bd6-a648-f189ca774b41",
        "colab": {
          "base_uri": "https://localhost:8080/",
          "height": 233
        }
      },
      "source": [
        "str(titanic) # 데이터 구조 파악"
      ],
      "execution_count": 33,
      "outputs": [
        {
          "output_type": "stream",
          "text": [
            "'data.frame':\t1310 obs. of  11 variables:\n",
            " $ pclass  : int  1 1 1 1 1 1 1 1 1 1 ...\n",
            " $ survived: int  1 1 0 0 0 1 1 0 1 0 ...\n",
            " $ name    : Factor w/ 1308 levels \"\",\"Abbing, Mr. Anthony\",..: 23 25 26 27 28 32 47 48 52 56 ...\n",
            " $ sex     : Factor w/ 3 levels \"\",\"female\",\"male\": 2 3 2 3 2 3 2 3 2 3 ...\n",
            " $ age     : num  29 0.917 2 30 25 ...\n",
            " $ sibsp   : int  0 1 1 1 1 0 1 0 2 0 ...\n",
            " $ parch   : int  0 2 2 2 2 0 0 0 0 0 ...\n",
            " $ ticket  : Factor w/ 930 levels \"\",\"110152\",\"110413\",..: 189 51 51 51 51 126 94 17 78 827 ...\n",
            " $ fare    : num  211 152 152 152 152 ...\n",
            " $ cabin   : Factor w/ 187 levels \"\",\"A10\",\"A11\",..: 45 81 81 81 81 151 147 17 63 1 ...\n",
            " $ embarked: Factor w/ 4 levels \"\",\"C\",\"Q\",\"S\": 4 4 4 4 4 4 4 4 4 2 ...\n"
          ],
          "name": "stdout"
        }
      ]
    },
    {
      "cell_type": "code",
      "metadata": {
        "id": "Zp_1RXvD4mFU",
        "outputId": "e6f31518-eeb0-4f5c-b3f8-884d61366cb1",
        "colab": {
          "base_uri": "https://localhost:8080/",
          "height": 449
        }
      },
      "source": [
        "summary(titanic) # 요약통계"
      ],
      "execution_count": 34,
      "outputs": [
        {
          "output_type": "display_data",
          "data": {
            "text/plain": [
              "     pclass         survived                                name     \n",
              " Min.   :1.000   Min.   :0.000   Connolly, Miss. Kate         :   2  \n",
              " 1st Qu.:2.000   1st Qu.:0.000   Kelly, Mr. James             :   2  \n",
              " Median :3.000   Median :0.000                                :   1  \n",
              " Mean   :2.295   Mean   :0.382   Abbing, Mr. Anthony          :   1  \n",
              " 3rd Qu.:3.000   3rd Qu.:1.000   Abbott, Master. Eugene Joseph:   1  \n",
              " Max.   :3.000   Max.   :1.000   Abbott, Mr. Rossmore Edward  :   1  \n",
              " NA's   :1       NA's   :1       (Other)                      :1302  \n",
              "     sex           age              sibsp            parch      \n",
              "       :  1   Min.   : 0.1667   Min.   :0.0000   Min.   :0.000  \n",
              " female:466   1st Qu.:21.0000   1st Qu.:0.0000   1st Qu.:0.000  \n",
              " male  :843   Median :28.0000   Median :0.0000   Median :0.000  \n",
              "              Mean   :29.8811   Mean   :0.4989   Mean   :0.385  \n",
              "              3rd Qu.:39.0000   3rd Qu.:1.0000   3rd Qu.:0.000  \n",
              "              Max.   :80.0000   Max.   :8.0000   Max.   :9.000  \n",
              "              NA's   :264       NA's   :1        NA's   :1      \n",
              "      ticket          fare                     cabin      embarked\n",
              " CA. 2343:  11   Min.   :  0.000                  :1015    :  3   \n",
              " 1601    :   8   1st Qu.:  7.896   C23 C25 C27    :   6   C:270   \n",
              " CA 2144 :   8   Median : 14.454   B57 B59 B63 B66:   5   Q:123   \n",
              " 3101295 :   7   Mean   : 33.295   G6             :   5   S:914   \n",
              " 347077  :   7   3rd Qu.: 31.275   B96 B98        :   4           \n",
              " 347082  :   7   Max.   :512.329   C22 C26        :   4           \n",
              " (Other) :1262   NA's   :2         (Other)        : 271           "
            ]
          },
          "metadata": {
            "tags": []
          }
        }
      ]
    },
    {
      "cell_type": "code",
      "metadata": {
        "id": "GUuUkdiF46Gl",
        "outputId": "77f58c9b-c6d2-43b8-c4c7-81de0488f576",
        "colab": {
          "base_uri": "https://localhost:8080/",
          "height": 34
        }
      },
      "source": [
        "colSums(is.na(titanic)) # 결측치 확인"
      ],
      "execution_count": 35,
      "outputs": [
        {
          "output_type": "display_data",
          "data": {
            "text/plain": [
              "  pclass survived     name      sex      age    sibsp    parch   ticket \n",
              "       1        1        0        0      264        1        1        0 \n",
              "    fare    cabin embarked \n",
              "       2        0        0 "
            ],
            "text/latex": "\\begin{description*}\n\\item[pclass] 1\n\\item[survived] 1\n\\item[name] 0\n\\item[sex] 0\n\\item[age] 264\n\\item[sibsp] 1\n\\item[parch] 1\n\\item[ticket] 0\n\\item[fare] 2\n\\item[cabin] 0\n\\item[embarked] 0\n\\end{description*}\n",
            "text/markdown": "pclass\n:   1survived\n:   1name\n:   0sex\n:   0age\n:   264sibsp\n:   1parch\n:   1ticket\n:   0fare\n:   2cabin\n:   0embarked\n:   0\n\n",
            "text/html": [
              "<style>\n",
              ".dl-inline {width: auto; margin:0; padding: 0}\n",
              ".dl-inline>dt, .dl-inline>dd {float: none; width: auto; display: inline-block}\n",
              ".dl-inline>dt::after {content: \":\\0020\"; padding-right: .5ex}\n",
              ".dl-inline>dt:not(:first-of-type) {padding-left: .5ex}\n",
              "</style><dl class=dl-inline><dt>pclass</dt><dd>1</dd><dt>survived</dt><dd>1</dd><dt>name</dt><dd>0</dd><dt>sex</dt><dd>0</dd><dt>age</dt><dd>264</dd><dt>sibsp</dt><dd>1</dd><dt>parch</dt><dd>1</dd><dt>ticket</dt><dd>0</dd><dt>fare</dt><dd>2</dd><dt>cabin</dt><dd>0</dd><dt>embarked</dt><dd>0</dd></dl>\n"
            ]
          },
          "metadata": {
            "tags": []
          }
        }
      ]
    },
    {
      "cell_type": "code",
      "metadata": {
        "id": "fltwp1CL5IMr",
        "outputId": "2c022642-2d25-4b36-a933-aca97a659790",
        "colab": {
          "base_uri": "https://localhost:8080/",
          "height": 34
        }
      },
      "source": [
        "# 결측치 처리 \n",
        "# 1) 결측치 건수가 적은것은 제거 :  na.omit()\n",
        "titanic2 <- na.omit(titanic)\n",
        "colSums(is.na(titanic2))"
      ],
      "execution_count": 36,
      "outputs": [
        {
          "output_type": "display_data",
          "data": {
            "text/plain": [
              "  pclass survived     name      sex      age    sibsp    parch   ticket \n",
              "       0        0        0        0        0        0        0        0 \n",
              "    fare    cabin embarked \n",
              "       0        0        0 "
            ],
            "text/latex": "\\begin{description*}\n\\item[pclass] 0\n\\item[survived] 0\n\\item[name] 0\n\\item[sex] 0\n\\item[age] 0\n\\item[sibsp] 0\n\\item[parch] 0\n\\item[ticket] 0\n\\item[fare] 0\n\\item[cabin] 0\n\\item[embarked] 0\n\\end{description*}\n",
            "text/markdown": "pclass\n:   0survived\n:   0name\n:   0sex\n:   0age\n:   0sibsp\n:   0parch\n:   0ticket\n:   0fare\n:   0cabin\n:   0embarked\n:   0\n\n",
            "text/html": [
              "<style>\n",
              ".dl-inline {width: auto; margin:0; padding: 0}\n",
              ".dl-inline>dt, .dl-inline>dd {float: none; width: auto; display: inline-block}\n",
              ".dl-inline>dt::after {content: \":\\0020\"; padding-right: .5ex}\n",
              ".dl-inline>dt:not(:first-of-type) {padding-left: .5ex}\n",
              "</style><dl class=dl-inline><dt>pclass</dt><dd>0</dd><dt>survived</dt><dd>0</dd><dt>name</dt><dd>0</dd><dt>sex</dt><dd>0</dd><dt>age</dt><dd>0</dd><dt>sibsp</dt><dd>0</dd><dt>parch</dt><dd>0</dd><dt>ticket</dt><dd>0</dd><dt>fare</dt><dd>0</dd><dt>cabin</dt><dd>0</dd><dt>embarked</dt><dd>0</dd></dl>\n"
            ]
          },
          "metadata": {
            "tags": []
          }
        }
      ]
    },
    {
      "cell_type": "code",
      "metadata": {
        "id": "Botf2QGi7bSB",
        "outputId": "232bb01c-58e1-4fdf-9583-843a0666229c",
        "colab": {
          "base_uri": "https://localhost:8080/",
          "height": 34
        }
      },
      "source": [
        "# 2) 대체값 넣기 : age 결측치는 중앙값으로 대체\n",
        "# 소숫점 이하 처리 : round(반올림), floor(내림), ceil(올림)\n",
        "mv <- floor(median(titanic$age, na.rm = T))\n",
        "mv"
      ],
      "execution_count": 37,
      "outputs": [
        {
          "output_type": "display_data",
          "data": {
            "text/plain": [
              "[1] 28"
            ],
            "text/latex": "28",
            "text/markdown": "28",
            "text/html": [
              "28"
            ]
          },
          "metadata": {
            "tags": []
          }
        }
      ]
    },
    {
      "cell_type": "code",
      "metadata": {
        "id": "cw5PEhnJ73bB",
        "outputId": "d657ad72-0f5c-42f7-961b-dae8b29ff3b4",
        "colab": {
          "base_uri": "https://localhost:8080/",
          "height": 51
        }
      },
      "source": [
        "# 중앙값으로 결측치 대치(조건문 필요!!!)\n",
        "# boolean 인텍스\n",
        "# titanic$age[] <- mv # 모든 나이컬럼에 중앙값 대입(X)\n",
        "# is.na(titanic$age) #  age 컬럼의 결측치 여부 확인\n",
        "# age 컬럼의 결측치를 포함된 항목을 찾아서 중앙값(mv)으로 대치\n",
        "titanic$age[is.na(titanic$age)] <- mv\n",
        "colSums(is.na(titanic))\n",
        "# 나머지 결측치 제거\n",
        "titanic3 <- na.omit(titanic) \n",
        "colSums(is.na(titanic3))"
      ],
      "execution_count": 38,
      "outputs": [
        {
          "output_type": "display_data",
          "data": {
            "text/plain": [
              "  pclass survived     name      sex      age    sibsp    parch   ticket \n",
              "       1        1        0        0        0        1        1        0 \n",
              "    fare    cabin embarked \n",
              "       2        0        0 "
            ],
            "text/latex": "\\begin{description*}\n\\item[pclass] 1\n\\item[survived] 1\n\\item[name] 0\n\\item[sex] 0\n\\item[age] 0\n\\item[sibsp] 1\n\\item[parch] 1\n\\item[ticket] 0\n\\item[fare] 2\n\\item[cabin] 0\n\\item[embarked] 0\n\\end{description*}\n",
            "text/markdown": "pclass\n:   1survived\n:   1name\n:   0sex\n:   0age\n:   0sibsp\n:   1parch\n:   1ticket\n:   0fare\n:   2cabin\n:   0embarked\n:   0\n\n",
            "text/html": [
              "<style>\n",
              ".dl-inline {width: auto; margin:0; padding: 0}\n",
              ".dl-inline>dt, .dl-inline>dd {float: none; width: auto; display: inline-block}\n",
              ".dl-inline>dt::after {content: \":\\0020\"; padding-right: .5ex}\n",
              ".dl-inline>dt:not(:first-of-type) {padding-left: .5ex}\n",
              "</style><dl class=dl-inline><dt>pclass</dt><dd>1</dd><dt>survived</dt><dd>1</dd><dt>name</dt><dd>0</dd><dt>sex</dt><dd>0</dd><dt>age</dt><dd>0</dd><dt>sibsp</dt><dd>1</dd><dt>parch</dt><dd>1</dd><dt>ticket</dt><dd>0</dd><dt>fare</dt><dd>2</dd><dt>cabin</dt><dd>0</dd><dt>embarked</dt><dd>0</dd></dl>\n"
            ]
          },
          "metadata": {
            "tags": []
          }
        },
        {
          "output_type": "display_data",
          "data": {
            "text/plain": [
              "  pclass survived     name      sex      age    sibsp    parch   ticket \n",
              "       0        0        0        0        0        0        0        0 \n",
              "    fare    cabin embarked \n",
              "       0        0        0 "
            ],
            "text/latex": "\\begin{description*}\n\\item[pclass] 0\n\\item[survived] 0\n\\item[name] 0\n\\item[sex] 0\n\\item[age] 0\n\\item[sibsp] 0\n\\item[parch] 0\n\\item[ticket] 0\n\\item[fare] 0\n\\item[cabin] 0\n\\item[embarked] 0\n\\end{description*}\n",
            "text/markdown": "pclass\n:   0survived\n:   0name\n:   0sex\n:   0age\n:   0sibsp\n:   0parch\n:   0ticket\n:   0fare\n:   0cabin\n:   0embarked\n:   0\n\n",
            "text/html": [
              "<style>\n",
              ".dl-inline {width: auto; margin:0; padding: 0}\n",
              ".dl-inline>dt, .dl-inline>dd {float: none; width: auto; display: inline-block}\n",
              ".dl-inline>dt::after {content: \":\\0020\"; padding-right: .5ex}\n",
              ".dl-inline>dt:not(:first-of-type) {padding-left: .5ex}\n",
              "</style><dl class=dl-inline><dt>pclass</dt><dd>0</dd><dt>survived</dt><dd>0</dd><dt>name</dt><dd>0</dd><dt>sex</dt><dd>0</dd><dt>age</dt><dd>0</dd><dt>sibsp</dt><dd>0</dd><dt>parch</dt><dd>0</dd><dt>ticket</dt><dd>0</dd><dt>fare</dt><dd>0</dd><dt>cabin</dt><dd>0</dd><dt>embarked</dt><dd>0</dd></dl>\n"
            ]
          },
          "metadata": {
            "tags": []
          }
        }
      ]
    },
    {
      "cell_type": "code",
      "metadata": {
        "id": "Tt3g0j7H-lcS",
        "outputId": "1346e5b3-a12f-4b5b-fe17-7e3b6ee21260",
        "colab": {
          "base_uri": "https://localhost:8080/",
          "height": 437
        }
      },
      "source": [
        "# 시각화\n",
        "# 성별 승성객 수 시각화\n",
        "frq_sex <- table(titanic3$sex)\n",
        "barplot(frq_sex)# 성별 승성객 수 시각화\n",
        "frq_sex <- table(titanic3$sex)\n",
        "barplot(frq_sex)"
      ],
      "execution_count": 39,
      "outputs": [
        {
          "output_type": "display_data",
          "data": {
            "image/png": "[encoded data removed]",
            "text/plain": [
              "plot without title"
            ]
          },
          "metadata": {
            "tags": [],
            "image/png": {
              "width": 420,
              "height": 420
            }
          }
        }
      ]
    },
    {
      "cell_type": "code",
      "metadata": {
        "id": "6hK0Zhlr_GUS",
        "outputId": "5fe23f12-e75d-4472-ee8b-7d110eeae0d2",
        "colab": {
          "base_uri": "https://localhost:8080/",
          "height": 71
        }
      },
      "source": [
        "# 위 결과, 여전히 이상한 값이 있는 듯...\n",
        "table(titanic$sex)"
      ],
      "execution_count": 40,
      "outputs": [
        {
          "output_type": "display_data",
          "data": {
            "text/plain": [
              "\n",
              "       female   male \n",
              "     1    466    843 "
            ]
          },
          "metadata": {
            "tags": []
          }
        }
      ]
    },
    {
      "cell_type": "code",
      "metadata": {
        "id": "saLN0ulw_jrQ"
      },
      "source": [
        "# Tip) read.csv 알아보기\n",
        "# csv로 작성된 파일을 R로 읽어들일때 사용\n",
        "# read.csv('파일경로', 헤더여부, 구분자, 결측치처리, 인코딩)\n",
        "# read.csv('파일경로', header=F, sep='\\t', na.strings='', encoding='euc-kr') \n",
        "# 구분자 : 탭의 경우 '\\t'\n",
        "# 결측치 : 빈문자열이 있는 경우 NA로 대체\n",
        "# 한글로 작성된 자료 인코딩해야 하는 경우, euc-kr 로 함. 그래서, 가능하면 UTF-8로 작성 필요!!                          "
      ],
      "execution_count": null,
      "outputs": []
    },
    {
      "cell_type": "code",
      "metadata": {
        "id": "rZeIrKvjF41o"
      },
      "source": [
        "titanic_na <- read.csv(\"https://raw.githubusercontent.com/gyujin0450/dataset/master/titanic.csv\", na.strings='')"
      ],
      "execution_count": 41,
      "outputs": []
    },
    {
      "cell_type": "code",
      "metadata": {
        "id": "utcrPUaVIgEf",
        "outputId": "afd0d41d-0146-4b58-8469-a5d887bed25d",
        "colab": {
          "base_uri": "https://localhost:8080/",
          "height": 449
        }
      },
      "source": [
        "summary(titanic)"
      ],
      "execution_count": 42,
      "outputs": [
        {
          "output_type": "display_data",
          "data": {
            "text/plain": [
              "     pclass         survived                                name     \n",
              " Min.   :1.000   Min.   :0.000   Connolly, Miss. Kate         :   2  \n",
              " 1st Qu.:2.000   1st Qu.:0.000   Kelly, Mr. James             :   2  \n",
              " Median :3.000   Median :0.000                                :   1  \n",
              " Mean   :2.295   Mean   :0.382   Abbing, Mr. Anthony          :   1  \n",
              " 3rd Qu.:3.000   3rd Qu.:1.000   Abbott, Master. Eugene Joseph:   1  \n",
              " Max.   :3.000   Max.   :1.000   Abbott, Mr. Rossmore Edward  :   1  \n",
              " NA's   :1       NA's   :1       (Other)                      :1302  \n",
              "     sex           age              sibsp            parch      \n",
              "       :  1   Min.   : 0.1667   Min.   :0.0000   Min.   :0.000  \n",
              " female:466   1st Qu.:22.0000   1st Qu.:0.0000   1st Qu.:0.000  \n",
              " male  :843   Median :28.0000   Median :0.0000   Median :0.000  \n",
              "              Mean   :29.5020   Mean   :0.4989   Mean   :0.385  \n",
              "              3rd Qu.:35.0000   3rd Qu.:1.0000   3rd Qu.:0.000  \n",
              "              Max.   :80.0000   Max.   :8.0000   Max.   :9.000  \n",
              "                                NA's   :1        NA's   :1      \n",
              "      ticket          fare                     cabin      embarked\n",
              " CA. 2343:  11   Min.   :  0.000                  :1015    :  3   \n",
              " 1601    :   8   1st Qu.:  7.896   C23 C25 C27    :   6   C:270   \n",
              " CA 2144 :   8   Median : 14.454   B57 B59 B63 B66:   5   Q:123   \n",
              " 3101295 :   7   Mean   : 33.295   G6             :   5   S:914   \n",
              " 347077  :   7   3rd Qu.: 31.275   B96 B98        :   4           \n",
              " 347082  :   7   Max.   :512.329   C22 C26        :   4           \n",
              " (Other) :1262   NA's   :2         (Other)        : 271           "
            ]
          },
          "metadata": {
            "tags": []
          }
        }
      ]
    },
    {
      "cell_type": "code",
      "metadata": {
        "id": "y3roEJ1IIqYp",
        "outputId": "744f68c4-a229-4ef3-c141-22f61bab48f3",
        "colab": {
          "base_uri": "https://localhost:8080/",
          "height": 449
        }
      },
      "source": [
        "summary(titanic_na)"
      ],
      "execution_count": 44,
      "outputs": [
        {
          "output_type": "display_data",
          "data": {
            "text/plain": [
              "     pclass         survived                                name     \n",
              " Min.   :1.000   Min.   :0.000   Connolly, Miss. Kate         :   2  \n",
              " 1st Qu.:2.000   1st Qu.:0.000   Kelly, Mr. James             :   2  \n",
              " Median :3.000   Median :0.000   Abbing, Mr. Anthony          :   1  \n",
              " Mean   :2.295   Mean   :0.382   Abbott, Master. Eugene Joseph:   1  \n",
              " 3rd Qu.:3.000   3rd Qu.:1.000   Abbott, Mr. Rossmore Edward  :   1  \n",
              " Max.   :3.000   Max.   :1.000   (Other)                      :1302  \n",
              " NA's   :1       NA's   :1       NA's                         :   1  \n",
              "     sex           age              sibsp            parch      \n",
              " female:466   Min.   : 0.1667   Min.   :0.0000   Min.   :0.000  \n",
              " male  :843   1st Qu.:21.0000   1st Qu.:0.0000   1st Qu.:0.000  \n",
              " NA's  :  1   Median :28.0000   Median :0.0000   Median :0.000  \n",
              "              Mean   :29.8811   Mean   :0.4989   Mean   :0.385  \n",
              "              3rd Qu.:39.0000   3rd Qu.:1.0000   3rd Qu.:0.000  \n",
              "              Max.   :80.0000   Max.   :8.0000   Max.   :9.000  \n",
              "              NA's   :264       NA's   :1        NA's   :1      \n",
              "      ticket          fare                     cabin      embarked  \n",
              " CA. 2343:  11   Min.   :  0.000   C23 C25 C27    :   6   C   :270  \n",
              " 1601    :   8   1st Qu.:  7.896   B57 B59 B63 B66:   5   Q   :123  \n",
              " CA 2144 :   8   Median : 14.454   G6             :   5   S   :914  \n",
              " 3101295 :   7   Mean   : 33.295   B96 B98        :   4   NA's:  3  \n",
              " 347077  :   7   3rd Qu.: 31.275   C22 C26        :   4             \n",
              " (Other) :1268   Max.   :512.329   (Other)        : 271             \n",
              " NA's    :   1   NA's   :2         NA's           :1015             "
            ]
          },
          "metadata": {
            "tags": []
          }
        }
      ]
    },
    {
      "cell_type": "code",
      "metadata": {
        "id": "McVkv9sWGOB3",
        "outputId": "30e4be5e-d763-4ba3-a282-52f1adc41181",
        "colab": {
          "base_uri": "https://localhost:8080/",
          "height": 34
        }
      },
      "source": [
        "colSums(is.na(titanic_na)) # 결측치 확인"
      ],
      "execution_count": 45,
      "outputs": [
        {
          "output_type": "display_data",
          "data": {
            "text/plain": [
              "  pclass survived     name      sex      age    sibsp    parch   ticket \n",
              "       1        1        1        1      264        1        1        1 \n",
              "    fare    cabin embarked \n",
              "       2     1015        3 "
            ],
            "text/latex": "\\begin{description*}\n\\item[pclass] 1\n\\item[survived] 1\n\\item[name] 1\n\\item[sex] 1\n\\item[age] 264\n\\item[sibsp] 1\n\\item[parch] 1\n\\item[ticket] 1\n\\item[fare] 2\n\\item[cabin] 1015\n\\item[embarked] 3\n\\end{description*}\n",
            "text/markdown": "pclass\n:   1survived\n:   1name\n:   1sex\n:   1age\n:   264sibsp\n:   1parch\n:   1ticket\n:   1fare\n:   2cabin\n:   1015embarked\n:   3\n\n",
            "text/html": [
              "<style>\n",
              ".dl-inline {width: auto; margin:0; padding: 0}\n",
              ".dl-inline>dt, .dl-inline>dd {float: none; width: auto; display: inline-block}\n",
              ".dl-inline>dt::after {content: \":\\0020\"; padding-right: .5ex}\n",
              ".dl-inline>dt:not(:first-of-type) {padding-left: .5ex}\n",
              "</style><dl class=dl-inline><dt>pclass</dt><dd>1</dd><dt>survived</dt><dd>1</dd><dt>name</dt><dd>1</dd><dt>sex</dt><dd>1</dd><dt>age</dt><dd>264</dd><dt>sibsp</dt><dd>1</dd><dt>parch</dt><dd>1</dd><dt>ticket</dt><dd>1</dd><dt>fare</dt><dd>2</dd><dt>cabin</dt><dd>1015</dd><dt>embarked</dt><dd>3</dd></dl>\n"
            ]
          },
          "metadata": {
            "tags": []
          }
        }
      ]
    },
    {
      "cell_type": "code",
      "metadata": {
        "id": "ZXTB4Y1TGYVJ",
        "outputId": "7dfcb4ab-d303-4e76-ddc3-256bec23f32f",
        "colab": {
          "base_uri": "https://localhost:8080/",
          "height": 51
        }
      },
      "source": [
        "mv <- floor(median(titanic_na$age, na.rm = T))\n",
        "mv\n",
        "titanic_na$age[is.na(titanic_na$age)] <- mv\n",
        "colSums(is.na(titanic_na))"
      ],
      "execution_count": 46,
      "outputs": [
        {
          "output_type": "display_data",
          "data": {
            "text/plain": [
              "[1] 28"
            ],
            "text/latex": "28",
            "text/markdown": "28",
            "text/html": [
              "28"
            ]
          },
          "metadata": {
            "tags": []
          }
        },
        {
          "output_type": "display_data",
          "data": {
            "text/plain": [
              "  pclass survived     name      sex      age    sibsp    parch   ticket \n",
              "       1        1        1        1        0        1        1        1 \n",
              "    fare    cabin embarked \n",
              "       2     1015        3 "
            ],
            "text/latex": "\\begin{description*}\n\\item[pclass] 1\n\\item[survived] 1\n\\item[name] 1\n\\item[sex] 1\n\\item[age] 0\n\\item[sibsp] 1\n\\item[parch] 1\n\\item[ticket] 1\n\\item[fare] 2\n\\item[cabin] 1015\n\\item[embarked] 3\n\\end{description*}\n",
            "text/markdown": "pclass\n:   1survived\n:   1name\n:   1sex\n:   1age\n:   0sibsp\n:   1parch\n:   1ticket\n:   1fare\n:   2cabin\n:   1015embarked\n:   3\n\n",
            "text/html": [
              "<style>\n",
              ".dl-inline {width: auto; margin:0; padding: 0}\n",
              ".dl-inline>dt, .dl-inline>dd {float: none; width: auto; display: inline-block}\n",
              ".dl-inline>dt::after {content: \":\\0020\"; padding-right: .5ex}\n",
              ".dl-inline>dt:not(:first-of-type) {padding-left: .5ex}\n",
              "</style><dl class=dl-inline><dt>pclass</dt><dd>1</dd><dt>survived</dt><dd>1</dd><dt>name</dt><dd>1</dd><dt>sex</dt><dd>1</dd><dt>age</dt><dd>0</dd><dt>sibsp</dt><dd>1</dd><dt>parch</dt><dd>1</dd><dt>ticket</dt><dd>1</dd><dt>fare</dt><dd>2</dd><dt>cabin</dt><dd>1015</dd><dt>embarked</dt><dd>3</dd></dl>\n"
            ]
          },
          "metadata": {
            "tags": []
          }
        }
      ]
    },
    {
      "cell_type": "code",
      "metadata": {
        "id": "S4KLBdEFGjQx",
        "outputId": "a512db8a-f9f3-4353-cf4e-5f85873b10ea",
        "colab": {
          "base_uri": "https://localhost:8080/",
          "height": 34
        }
      },
      "source": [
        "# 나머지 결측치 제거\n",
        "titanic_omit <- na.omit(titanic_na) \n",
        "colSums(is.na(titanic_omit))"
      ],
      "execution_count": 47,
      "outputs": [
        {
          "output_type": "display_data",
          "data": {
            "text/plain": [
              "  pclass survived     name      sex      age    sibsp    parch   ticket \n",
              "       0        0        0        0        0        0        0        0 \n",
              "    fare    cabin embarked \n",
              "       0        0        0 "
            ],
            "text/latex": "\\begin{description*}\n\\item[pclass] 0\n\\item[survived] 0\n\\item[name] 0\n\\item[sex] 0\n\\item[age] 0\n\\item[sibsp] 0\n\\item[parch] 0\n\\item[ticket] 0\n\\item[fare] 0\n\\item[cabin] 0\n\\item[embarked] 0\n\\end{description*}\n",
            "text/markdown": "pclass\n:   0survived\n:   0name\n:   0sex\n:   0age\n:   0sibsp\n:   0parch\n:   0ticket\n:   0fare\n:   0cabin\n:   0embarked\n:   0\n\n",
            "text/html": [
              "<style>\n",
              ".dl-inline {width: auto; margin:0; padding: 0}\n",
              ".dl-inline>dt, .dl-inline>dd {float: none; width: auto; display: inline-block}\n",
              ".dl-inline>dt::after {content: \":\\0020\"; padding-right: .5ex}\n",
              ".dl-inline>dt:not(:first-of-type) {padding-left: .5ex}\n",
              "</style><dl class=dl-inline><dt>pclass</dt><dd>0</dd><dt>survived</dt><dd>0</dd><dt>name</dt><dd>0</dd><dt>sex</dt><dd>0</dd><dt>age</dt><dd>0</dd><dt>sibsp</dt><dd>0</dd><dt>parch</dt><dd>0</dd><dt>ticket</dt><dd>0</dd><dt>fare</dt><dd>0</dd><dt>cabin</dt><dd>0</dd><dt>embarked</dt><dd>0</dd></dl>\n"
            ]
          },
          "metadata": {
            "tags": []
          }
        }
      ]
    },
    {
      "cell_type": "code",
      "metadata": {
        "id": "TvlzzvcBGsuZ",
        "outputId": "fc36db3d-f2cf-46ee-d713-e46577156063",
        "colab": {
          "base_uri": "https://localhost:8080/",
          "height": 437
        }
      },
      "source": [
        "# 성별 승성객 수 시각화\n",
        "frq_sex <- table(titanic_omit$sex)\n",
        "barplot(frq_sex)"
      ],
      "execution_count": 48,
      "outputs": [
        {
          "output_type": "display_data",
          "data": {
            "image/png": "[encoded data removed]",
            "text/plain": [
              "plot without title"
            ]
          },
          "metadata": {
            "tags": [],
            "image/png": {
              "width": 420,
              "height": 420
            }
          }
        }
      ]
    }
  ]
}