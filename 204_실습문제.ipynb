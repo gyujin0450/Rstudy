{
  "nbformat": 4,
  "nbformat_minor": 0,
  "metadata": {
    "colab": {
      "name": "R204_실습문제.ipynb",
      "provenance": [],
      "collapsed_sections": [],
      "authorship_tag": "ABX9TyMPKbKPFaOIQ56EptV/L3vd",
      "include_colab_link": true
    },
    "kernelspec": {
      "name": "ir",
      "display_name": "R"
    }
  },
  "cells": [
    {
      "cell_type": "markdown",
      "metadata": {
        "id": "view-in-github",
        "colab_type": "text"
      },
      "source": [
        "<a href=\"https://colab.research.google.com/github/gyujin0450/Rstudy/blob/master/204_%EC%8B%A4%EC%8A%B5%EB%AC%B8%EC%A0%9C.ipynb\" target=\"_parent\"><img src=\"https://colab.research.google.com/assets/colab-badge.svg\" alt=\"Open In Colab\"/></a>"
      ]
    },
    {
      "cell_type": "code",
      "metadata": {
        "id": "Rtyuj-CmHMYP",
        "outputId": "df03f296-a8bb-4562-ad21-9d0b6f50a007",
        "colab": {
          "base_uri": "https://localhost:8080/",
          "height": 233
        }
      },
      "source": [
        "# ggplot2 패키지에 있는 mpg 데이터셋을 이용해서\n",
        "# 다음 문제들을 풀어보세요\n",
        "library(ggplot2)\n",
        "str(mpg)"
      ],
      "execution_count": null,
      "outputs": [
        {
          "output_type": "stream",
          "text": [
            "tibble [234 × 11] (S3: tbl_df/tbl/data.frame)\n",
            " $ manufacturer: chr [1:234] \"audi\" \"audi\" \"audi\" \"audi\" ...\n",
            " $ model       : chr [1:234] \"a4\" \"a4\" \"a4\" \"a4\" ...\n",
            " $ displ       : num [1:234] 1.8 1.8 2 2 2.8 2.8 3.1 1.8 1.8 2 ...\n",
            " $ year        : int [1:234] 1999 1999 2008 2008 1999 1999 2008 1999 1999 2008 ...\n",
            " $ cyl         : int [1:234] 4 4 4 4 6 6 6 4 4 4 ...\n",
            " $ trans       : chr [1:234] \"auto(l5)\" \"manual(m5)\" \"manual(m6)\" \"auto(av)\" ...\n",
            " $ drv         : chr [1:234] \"f\" \"f\" \"f\" \"f\" ...\n",
            " $ cty         : int [1:234] 18 21 20 21 16 18 18 18 16 20 ...\n",
            " $ hwy         : int [1:234] 29 29 31 30 26 26 27 26 25 28 ...\n",
            " $ fl          : chr [1:234] \"p\" \"p\" \"p\" \"p\" ...\n",
            " $ class       : chr [1:234] \"compact\" \"compact\" \"compact\" \"compact\" ...\n"
          ],
          "name": "stdout"
        }
      ]
    },
    {
      "cell_type": "code",
      "metadata": {
        "id": "c4n7cssNHija",
        "outputId": "05ce2067-4beb-4a86-939b-8d9c8b486d7f",
        "colab": {
          "base_uri": "https://localhost:8080/",
          "height": 183
        }
      },
      "source": [
        "head(mpg,5)"
      ],
      "execution_count": null,
      "outputs": [
        {
          "output_type": "display_data",
          "data": {
            "text/plain": [
              "  manufacturer model displ year cyl trans      drv cty hwy fl class  \n",
              "1 audi         a4    1.8   1999 4   auto(l5)   f   18  29  p  compact\n",
              "2 audi         a4    1.8   1999 4   manual(m5) f   21  29  p  compact\n",
              "3 audi         a4    2.0   2008 4   manual(m6) f   20  31  p  compact\n",
              "4 audi         a4    2.0   2008 4   auto(av)   f   21  30  p  compact\n",
              "5 audi         a4    2.8   1999 6   auto(l5)   f   16  26  p  compact"
            ],
            "text/latex": "A tibble: 5 × 11\n\\begin{tabular}{lllllllllll}\n manufacturer & model & displ & year & cyl & trans & drv & cty & hwy & fl & class\\\\\n <chr> & <chr> & <dbl> & <int> & <int> & <chr> & <chr> & <int> & <int> & <chr> & <chr>\\\\\n\\hline\n\t audi & a4 & 1.8 & 1999 & 4 & auto(l5)   & f & 18 & 29 & p & compact\\\\\n\t audi & a4 & 1.8 & 1999 & 4 & manual(m5) & f & 21 & 29 & p & compact\\\\\n\t audi & a4 & 2.0 & 2008 & 4 & manual(m6) & f & 20 & 31 & p & compact\\\\\n\t audi & a4 & 2.0 & 2008 & 4 & auto(av)   & f & 21 & 30 & p & compact\\\\\n\t audi & a4 & 2.8 & 1999 & 6 & auto(l5)   & f & 16 & 26 & p & compact\\\\\n\\end{tabular}\n",
            "text/markdown": "\nA tibble: 5 × 11\n\n| manufacturer &lt;chr&gt; | model &lt;chr&gt; | displ &lt;dbl&gt; | year &lt;int&gt; | cyl &lt;int&gt; | trans &lt;chr&gt; | drv &lt;chr&gt; | cty &lt;int&gt; | hwy &lt;int&gt; | fl &lt;chr&gt; | class &lt;chr&gt; |\n|---|---|---|---|---|---|---|---|---|---|---|\n| audi | a4 | 1.8 | 1999 | 4 | auto(l5)   | f | 18 | 29 | p | compact |\n| audi | a4 | 1.8 | 1999 | 4 | manual(m5) | f | 21 | 29 | p | compact |\n| audi | a4 | 2.0 | 2008 | 4 | manual(m6) | f | 20 | 31 | p | compact |\n| audi | a4 | 2.0 | 2008 | 4 | auto(av)   | f | 21 | 30 | p | compact |\n| audi | a4 | 2.8 | 1999 | 6 | auto(l5)   | f | 16 | 26 | p | compact |\n\n",
            "text/html": [
              "<table>\n",
              "<caption>A tibble: 5 × 11</caption>\n",
              "<thead>\n",
              "\t<tr><th scope=col>manufacturer</th><th scope=col>model</th><th scope=col>displ</th><th scope=col>year</th><th scope=col>cyl</th><th scope=col>trans</th><th scope=col>drv</th><th scope=col>cty</th><th scope=col>hwy</th><th scope=col>fl</th><th scope=col>class</th></tr>\n",
              "\t<tr><th scope=col>&lt;chr&gt;</th><th scope=col>&lt;chr&gt;</th><th scope=col>&lt;dbl&gt;</th><th scope=col>&lt;int&gt;</th><th scope=col>&lt;int&gt;</th><th scope=col>&lt;chr&gt;</th><th scope=col>&lt;chr&gt;</th><th scope=col>&lt;int&gt;</th><th scope=col>&lt;int&gt;</th><th scope=col>&lt;chr&gt;</th><th scope=col>&lt;chr&gt;</th></tr>\n",
              "</thead>\n",
              "<tbody>\n",
              "\t<tr><td>audi</td><td>a4</td><td>1.8</td><td>1999</td><td>4</td><td>auto(l5)  </td><td>f</td><td>18</td><td>29</td><td>p</td><td>compact</td></tr>\n",
              "\t<tr><td>audi</td><td>a4</td><td>1.8</td><td>1999</td><td>4</td><td>manual(m5)</td><td>f</td><td>21</td><td>29</td><td>p</td><td>compact</td></tr>\n",
              "\t<tr><td>audi</td><td>a4</td><td>2.0</td><td>2008</td><td>4</td><td>manual(m6)</td><td>f</td><td>20</td><td>31</td><td>p</td><td>compact</td></tr>\n",
              "\t<tr><td>audi</td><td>a4</td><td>2.0</td><td>2008</td><td>4</td><td>auto(av)  </td><td>f</td><td>21</td><td>30</td><td>p</td><td>compact</td></tr>\n",
              "\t<tr><td>audi</td><td>a4</td><td>2.8</td><td>1999</td><td>6</td><td>auto(l5)  </td><td>f</td><td>16</td><td>26</td><td>p</td><td>compact</td></tr>\n",
              "</tbody>\n",
              "</table>\n"
            ]
          },
          "metadata": {
            "tags": []
          }
        }
      ]
    },
    {
      "cell_type": "code",
      "metadata": {
        "id": "RhkYItyMHpUM",
        "outputId": "4f32fd75-8ded-4563-9e47-48f4deea0b66",
        "colab": {
          "base_uri": "https://localhost:8080/",
          "height": 183
        }
      },
      "source": [
        "# 차종class과 도시연비cty를 조회하세요\n",
        "library(dplyr)\n",
        "head(mpg %>% select(class, cty),5)"
      ],
      "execution_count": null,
      "outputs": [
        {
          "output_type": "display_data",
          "data": {
            "text/plain": [
              "  class   cty\n",
              "1 compact 18 \n",
              "2 compact 21 \n",
              "3 compact 20 \n",
              "4 compact 21 \n",
              "5 compact 16 "
            ],
            "text/latex": "A tibble: 5 × 2\n\\begin{tabular}{ll}\n class & cty\\\\\n <chr> & <int>\\\\\n\\hline\n\t compact & 18\\\\\n\t compact & 21\\\\\n\t compact & 20\\\\\n\t compact & 21\\\\\n\t compact & 16\\\\\n\\end{tabular}\n",
            "text/markdown": "\nA tibble: 5 × 2\n\n| class &lt;chr&gt; | cty &lt;int&gt; |\n|---|---|\n| compact | 18 |\n| compact | 21 |\n| compact | 20 |\n| compact | 21 |\n| compact | 16 |\n\n",
            "text/html": [
              "<table>\n",
              "<caption>A tibble: 5 × 2</caption>\n",
              "<thead>\n",
              "\t<tr><th scope=col>class</th><th scope=col>cty</th></tr>\n",
              "\t<tr><th scope=col>&lt;chr&gt;</th><th scope=col>&lt;int&gt;</th></tr>\n",
              "</thead>\n",
              "<tbody>\n",
              "\t<tr><td>compact</td><td>18</td></tr>\n",
              "\t<tr><td>compact</td><td>21</td></tr>\n",
              "\t<tr><td>compact</td><td>20</td></tr>\n",
              "\t<tr><td>compact</td><td>21</td></tr>\n",
              "\t<tr><td>compact</td><td>16</td></tr>\n",
              "</tbody>\n",
              "</table>\n"
            ]
          },
          "metadata": {
            "tags": []
          }
        }
      ]
    },
    {
      "cell_type": "code",
      "metadata": {
        "id": "3Oa_SmykI0Kp",
        "outputId": "417ebd85-fb51-4b53-a030-38e80ea1a162",
        "colab": {
          "base_uri": "https://localhost:8080/",
          "height": 34
        }
      },
      "source": [
        "# 차종이 suv, compact인 차량중 어느 차량이 도시연비가 높은지 알아보세요\n",
        "suv_cty <- max(mpg %>% filter( class == \"suv\" ) %>% select(cty)) \n",
        "compact_cty <- max(mpg %>% filter( class == \"compact\" ) %>% select(cty))\n",
        "result <- ifelse( suv_cty > compact_cty , \"suv\" , \"compact\")\n",
        "result"
      ],
      "execution_count": null,
      "outputs": [
        {
          "output_type": "display_data",
          "data": {
            "text/plain": [
              "[1] \"compact\""
            ],
            "text/latex": "'compact'",
            "text/markdown": "'compact'",
            "text/html": [
              "'compact'"
            ]
          },
          "metadata": {
            "tags": []
          }
        }
      ]
    },
    {
      "cell_type": "code",
      "metadata": {
        "id": "GQIc82dETGg4",
        "outputId": "1870abbe-9275-445a-d2d8-478a8d31c719",
        "colab": {
          "base_uri": "https://localhost:8080/",
          "height": 34
        }
      },
      "source": [
        "# (모범답안)\n",
        "# 차종이 suv, compact인 차량중 어느 차량이 평균 도시연비가 높은지 알아보세요\n",
        "# select를 먼저 수행해서 범위 줄이고 필더를 함(열연산를 먼저)\n",
        "suv <- mpg %>% select(class, cty) %>% filter(class == \"suv\") \n",
        "# mean(suv$cty)\n",
        "# compact <- mpg %>% filter( class == \"compact\" ) %>% select(cty)\n",
        "compact <- mpg %>% select(class, cty) %>% filter(class == \"compact\") \n",
        "# mean(compact$cty)\n",
        "result <- ifelse( mean(suv$cty) > mean(compact$cty) , \"suv\" , \"compact\")\n",
        "result"
      ],
      "execution_count": null,
      "outputs": [
        {
          "output_type": "display_data",
          "data": {
            "text/plain": [
              "[1] \"compact\""
            ],
            "text/latex": "'compact'",
            "text/markdown": "'compact'",
            "text/html": [
              "'compact'"
            ]
          },
          "metadata": {
            "tags": []
          }
        }
      ]
    },
    {
      "cell_type": "code",
      "metadata": {
        "id": "O5SaVeXRLcih",
        "outputId": "b399bc0e-f209-473e-f5a1-ac2cea12cb0e",
        "colab": {
          "base_uri": "https://localhost:8080/",
          "height": 107
        }
      },
      "source": [
        "# 배기량displ에 따라(4,5)  어느 차량이 고속도로연비hwy가 높은지 알아보세요\n",
        "table(mpg$displ)"
      ],
      "execution_count": null,
      "outputs": [
        {
          "output_type": "display_data",
          "data": {
            "text/plain": [
              "\n",
              "1.6 1.8 1.9   2 2.2 2.4 2.5 2.7 2.8   3 3.1 3.3 3.4 3.5 3.6 3.7 3.8 3.9   4 4.2 \n",
              "  5  14   3  21   6  13  20   8  10   8   6   9   4   5   2   3   8   3  15   4 \n",
              "4.4 4.6 4.7   5 5.2 5.3 5.4 5.6 5.7 5.9   6 6.1 6.2 6.5   7 \n",
              "  1  11  17   2   5   6   8   1   8   2   1   1   2   1   1 "
            ]
          },
          "metadata": {
            "tags": []
          }
        }
      ]
    },
    {
      "cell_type": "code",
      "metadata": {
        "id": "pIgXTrpYMMvs",
        "outputId": "c3a2ec4b-c5be-4ea5-a9aa-bcee4a1847e6",
        "colab": {
          "base_uri": "https://localhost:8080/",
          "height": 34
        }
      },
      "source": [
        "displ_4 <- max(mpg %>% filter(displ == 4) %>% select(hwy))\n",
        "displ_5 <- max(mpg %>% filter(displ == 5) %>% select(hwy))\n",
        "ifelse( displ_4 > displ_5, \"배기량4\", \"배기량5\")"
      ],
      "execution_count": null,
      "outputs": [
        {
          "output_type": "display_data",
          "data": {
            "text/plain": [
              "[1] \"배기량4\""
            ],
            "text/latex": "'배기량4'",
            "text/markdown": "'배기량4'",
            "text/html": [
              "'배기량4'"
            ]
          },
          "metadata": {
            "tags": []
          }
        }
      ]
    },
    {
      "cell_type": "code",
      "metadata": {
        "id": "I_wxNRqQYu2H",
        "outputId": "b0874254-0762-48ff-eeae-e169d8ca0d8a",
        "colab": {
          "base_uri": "https://localhost:8080/",
          "height": 34
        }
      },
      "source": [
        "# (모범답안) select -> filter, 평균비교\n",
        "displ_4 <- mpg %>% select(displ, hwy) %>% filter(displ == 4)\n",
        "displ_5 <- mpg %>% select(displ, hwy) %>% filter(displ == 5)\n",
        "ifelse( mean(displ_4$hwy) > mean(displ_5$hwy), \"배기량4\", \"배기량5\")"
      ],
      "execution_count": null,
      "outputs": [
        {
          "output_type": "display_data",
          "data": {
            "text/plain": [
              "[1] \"배기량4\""
            ],
            "text/latex": "'배기량4'",
            "text/markdown": "'배기량4'",
            "text/html": [
              "'배기량4'"
            ]
          },
          "metadata": {
            "tags": []
          }
        }
      ]
    },
    {
      "cell_type": "code",
      "metadata": {
        "id": "vZfrAHUvNQoQ",
        "outputId": "f5bb2342-5a24-4b87-d2e2-40e5272d9992",
        "colab": {
          "base_uri": "https://localhost:8080/",
          "height": 34
        }
      },
      "source": [
        "# 제조사manufacturer에 따라(audi, toyota) 어느 차량이 도시연비cty가 높은지 알아보세요\n",
        "audi_cty <- max(mpg %>% filter( manufacturer == \"audi\") %>% select(cty))\n",
        "toyota_cty <- max(mpg %>% filter( manufacturer == \"toyota\") %>% select(cty))\n",
        "ifelse( audi_cty > toyota_cty, \"audi\", \"toyota\")"
      ],
      "execution_count": null,
      "outputs": [
        {
          "output_type": "display_data",
          "data": {
            "text/plain": [
              "[1] \"toyota\""
            ],
            "text/latex": "'toyota'",
            "text/markdown": "'toyota'",
            "text/html": [
              "'toyota'"
            ]
          },
          "metadata": {
            "tags": []
          }
        }
      ]
    },
    {
      "cell_type": "code",
      "metadata": {
        "id": "rRNsk7IsZm7n"
      },
      "source": [
        "# (모범답안) select -> filter, 평균비교"
      ],
      "execution_count": null,
      "outputs": []
    },
    {
      "cell_type": "code",
      "metadata": {
        "id": "yw61KPs_OH5a",
        "outputId": "ab546f00-5551-437b-b519-36abbbc6690f",
        "colab": {
          "base_uri": "https://localhost:8080/",
          "height": 34
        }
      },
      "source": [
        "# chervolet, ford, honda 차량의 평균 고속도로연비를 조회하시오\n",
        "car3 <- mpg %>% select(manufacturer, hwy) %>% filter(manufacturer %in% c('chevrolet','ford','honda'))\n",
        "mean(car3$hwy)"
      ],
      "execution_count": null,
      "outputs": [
        {
          "output_type": "display_data",
          "data": {
            "text/plain": [
              "[1] 22.50943"
            ],
            "text/latex": "22.5094339622642",
            "text/markdown": "22.5094339622642",
            "text/html": [
              "22.5094339622642"
            ]
          },
          "metadata": {
            "tags": []
          }
        }
      ]
    },
    {
      "cell_type": "code",
      "metadata": {
        "id": "_aR8NJfWP4sG",
        "outputId": "01f13bb7-d2e5-44ee-b59c-29641735dd4e",
        "colab": {
          "base_uri": "https://localhost:8080/",
          "height": 143
        }
      },
      "source": [
        "table(mpg$manufacturer)"
      ],
      "execution_count": null,
      "outputs": [
        {
          "output_type": "display_data",
          "data": {
            "text/plain": [
              "\n",
              "      audi  chevrolet      dodge       ford      honda    hyundai       jeep \n",
              "        18         19         37         25          9         14          8 \n",
              "land rover    lincoln    mercury     nissan    pontiac     subaru     toyota \n",
              "         4          3          4         13          5         14         34 \n",
              "volkswagen \n",
              "        27 "
            ]
          },
          "metadata": {
            "tags": []
          }
        }
      ]
    },
    {
      "cell_type": "code",
      "metadata": {
        "id": "35BS_ZiYQ26b",
        "outputId": "c623c891-6a23-47c2-cae9-0a898644d598",
        "colab": {
          "base_uri": "https://localhost:8080/",
          "height": 183
        }
      },
      "source": [
        "# 고속도로연비와 도시연비를 합산해서 allmpg를 allmpg를 2로 나눠 avgmpg라는 컬럼을 생성하세요\n",
        "# sungjuk <- sungjuk %>% mutate(tot = eng + mat + sci, avg = round(tot /3,1))\n",
        "mpg <- mpg %>% mutate( allmpg = hwy + cty , avgmpg = allmpg /2 )\n",
        "head(mpg, 5)"
      ],
      "execution_count": null,
      "outputs": [
        {
          "output_type": "display_data",
          "data": {
            "text/plain": [
              "  manufacturer model displ year cyl trans      drv cty hwy fl class   allmpg\n",
              "1 audi         a4    1.8   1999 4   auto(l5)   f   18  29  p  compact 47    \n",
              "2 audi         a4    1.8   1999 4   manual(m5) f   21  29  p  compact 50    \n",
              "3 audi         a4    2.0   2008 4   manual(m6) f   20  31  p  compact 51    \n",
              "4 audi         a4    2.0   2008 4   auto(av)   f   21  30  p  compact 51    \n",
              "5 audi         a4    2.8   1999 6   auto(l5)   f   16  26  p  compact 42    \n",
              "  avgmpg\n",
              "1 23.5  \n",
              "2 25.0  \n",
              "3 25.5  \n",
              "4 25.5  \n",
              "5 21.0  "
            ],
            "text/latex": "A tibble: 5 × 13\n\\begin{tabular}{lllllllllllll}\n manufacturer & model & displ & year & cyl & trans & drv & cty & hwy & fl & class & allmpg & avgmpg\\\\\n <chr> & <chr> & <dbl> & <int> & <int> & <chr> & <chr> & <int> & <int> & <chr> & <chr> & <int> & <dbl>\\\\\n\\hline\n\t audi & a4 & 1.8 & 1999 & 4 & auto(l5)   & f & 18 & 29 & p & compact & 47 & 23.5\\\\\n\t audi & a4 & 1.8 & 1999 & 4 & manual(m5) & f & 21 & 29 & p & compact & 50 & 25.0\\\\\n\t audi & a4 & 2.0 & 2008 & 4 & manual(m6) & f & 20 & 31 & p & compact & 51 & 25.5\\\\\n\t audi & a4 & 2.0 & 2008 & 4 & auto(av)   & f & 21 & 30 & p & compact & 51 & 25.5\\\\\n\t audi & a4 & 2.8 & 1999 & 6 & auto(l5)   & f & 16 & 26 & p & compact & 42 & 21.0\\\\\n\\end{tabular}\n",
            "text/markdown": "\nA tibble: 5 × 13\n\n| manufacturer &lt;chr&gt; | model &lt;chr&gt; | displ &lt;dbl&gt; | year &lt;int&gt; | cyl &lt;int&gt; | trans &lt;chr&gt; | drv &lt;chr&gt; | cty &lt;int&gt; | hwy &lt;int&gt; | fl &lt;chr&gt; | class &lt;chr&gt; | allmpg &lt;int&gt; | avgmpg &lt;dbl&gt; |\n|---|---|---|---|---|---|---|---|---|---|---|---|---|\n| audi | a4 | 1.8 | 1999 | 4 | auto(l5)   | f | 18 | 29 | p | compact | 47 | 23.5 |\n| audi | a4 | 1.8 | 1999 | 4 | manual(m5) | f | 21 | 29 | p | compact | 50 | 25.0 |\n| audi | a4 | 2.0 | 2008 | 4 | manual(m6) | f | 20 | 31 | p | compact | 51 | 25.5 |\n| audi | a4 | 2.0 | 2008 | 4 | auto(av)   | f | 21 | 30 | p | compact | 51 | 25.5 |\n| audi | a4 | 2.8 | 1999 | 6 | auto(l5)   | f | 16 | 26 | p | compact | 42 | 21.0 |\n\n",
            "text/html": [
              "<table>\n",
              "<caption>A tibble: 5 × 13</caption>\n",
              "<thead>\n",
              "\t<tr><th scope=col>manufacturer</th><th scope=col>model</th><th scope=col>displ</th><th scope=col>year</th><th scope=col>cyl</th><th scope=col>trans</th><th scope=col>drv</th><th scope=col>cty</th><th scope=col>hwy</th><th scope=col>fl</th><th scope=col>class</th><th scope=col>allmpg</th><th scope=col>avgmpg</th></tr>\n",
              "\t<tr><th scope=col>&lt;chr&gt;</th><th scope=col>&lt;chr&gt;</th><th scope=col>&lt;dbl&gt;</th><th scope=col>&lt;int&gt;</th><th scope=col>&lt;int&gt;</th><th scope=col>&lt;chr&gt;</th><th scope=col>&lt;chr&gt;</th><th scope=col>&lt;int&gt;</th><th scope=col>&lt;int&gt;</th><th scope=col>&lt;chr&gt;</th><th scope=col>&lt;chr&gt;</th><th scope=col>&lt;int&gt;</th><th scope=col>&lt;dbl&gt;</th></tr>\n",
              "</thead>\n",
              "<tbody>\n",
              "\t<tr><td>audi</td><td>a4</td><td>1.8</td><td>1999</td><td>4</td><td>auto(l5)  </td><td>f</td><td>18</td><td>29</td><td>p</td><td>compact</td><td>47</td><td>23.5</td></tr>\n",
              "\t<tr><td>audi</td><td>a4</td><td>1.8</td><td>1999</td><td>4</td><td>manual(m5)</td><td>f</td><td>21</td><td>29</td><td>p</td><td>compact</td><td>50</td><td>25.0</td></tr>\n",
              "\t<tr><td>audi</td><td>a4</td><td>2.0</td><td>2008</td><td>4</td><td>manual(m6)</td><td>f</td><td>20</td><td>31</td><td>p</td><td>compact</td><td>51</td><td>25.5</td></tr>\n",
              "\t<tr><td>audi</td><td>a4</td><td>2.0</td><td>2008</td><td>4</td><td>auto(av)  </td><td>f</td><td>21</td><td>30</td><td>p</td><td>compact</td><td>51</td><td>25.5</td></tr>\n",
              "\t<tr><td>audi</td><td>a4</td><td>2.8</td><td>1999</td><td>6</td><td>auto(l5)  </td><td>f</td><td>16</td><td>26</td><td>p</td><td>compact</td><td>42</td><td>21.0</td></tr>\n",
              "</tbody>\n",
              "</table>\n"
            ]
          },
          "metadata": {
            "tags": []
          }
        }
      ]
    },
    {
      "cell_type": "code",
      "metadata": {
        "id": "KyhOkg5RR53V",
        "outputId": "d87ff435-d5b2-4773-f497-7e9e2654eedf",
        "colab": {
          "base_uri": "https://localhost:8080/",
          "height": 183
        }
      },
      "source": [
        "# 차량의 실린더cyl가 4면 4기통을 6이면 6기통을, 그외는 8기통이라고 출력하는 clydesc라는 컬럼을 생성하세요\n",
        "mpg <- mpg %>% mutate( clydesc = case_when(cyl == 4 ~ \"4기통\", cyl == 6 ~ \"6기통\" , TRUE ~ \"\"))\n",
        "head(mpg,5)"
      ],
      "execution_count": null,
      "outputs": [
        {
          "output_type": "display_data",
          "data": {
            "text/plain": [
              "  manufacturer model displ year cyl trans      drv cty hwy fl class   allmpg\n",
              "1 audi         a4    1.8   1999 4   auto(l5)   f   18  29  p  compact 47    \n",
              "2 audi         a4    1.8   1999 4   manual(m5) f   21  29  p  compact 50    \n",
              "3 audi         a4    2.0   2008 4   manual(m6) f   20  31  p  compact 51    \n",
              "4 audi         a4    2.0   2008 4   auto(av)   f   21  30  p  compact 51    \n",
              "5 audi         a4    2.8   1999 6   auto(l5)   f   16  26  p  compact 42    \n",
              "  avgmpg clydesc\n",
              "1 23.5   4기통  \n",
              "2 25.0   4기통  \n",
              "3 25.5   4기통  \n",
              "4 25.5   4기통  \n",
              "5 21.0   6기통  "
            ],
            "text/latex": "A tibble: 5 × 14\n\\begin{tabular}{llllllllllllll}\n manufacturer & model & displ & year & cyl & trans & drv & cty & hwy & fl & class & allmpg & avgmpg & clydesc\\\\\n <chr> & <chr> & <dbl> & <int> & <int> & <chr> & <chr> & <int> & <int> & <chr> & <chr> & <int> & <dbl> & <chr>\\\\\n\\hline\n\t audi & a4 & 1.8 & 1999 & 4 & auto(l5)   & f & 18 & 29 & p & compact & 47 & 23.5 & 4기통\\\\\n\t audi & a4 & 1.8 & 1999 & 4 & manual(m5) & f & 21 & 29 & p & compact & 50 & 25.0 & 4기통\\\\\n\t audi & a4 & 2.0 & 2008 & 4 & manual(m6) & f & 20 & 31 & p & compact & 51 & 25.5 & 4기통\\\\\n\t audi & a4 & 2.0 & 2008 & 4 & auto(av)   & f & 21 & 30 & p & compact & 51 & 25.5 & 4기통\\\\\n\t audi & a4 & 2.8 & 1999 & 6 & auto(l5)   & f & 16 & 26 & p & compact & 42 & 21.0 & 6기통\\\\\n\\end{tabular}\n",
            "text/markdown": "\nA tibble: 5 × 14\n\n| manufacturer &lt;chr&gt; | model &lt;chr&gt; | displ &lt;dbl&gt; | year &lt;int&gt; | cyl &lt;int&gt; | trans &lt;chr&gt; | drv &lt;chr&gt; | cty &lt;int&gt; | hwy &lt;int&gt; | fl &lt;chr&gt; | class &lt;chr&gt; | allmpg &lt;int&gt; | avgmpg &lt;dbl&gt; | clydesc &lt;chr&gt; |\n|---|---|---|---|---|---|---|---|---|---|---|---|---|---|\n| audi | a4 | 1.8 | 1999 | 4 | auto(l5)   | f | 18 | 29 | p | compact | 47 | 23.5 | 4기통 |\n| audi | a4 | 1.8 | 1999 | 4 | manual(m5) | f | 21 | 29 | p | compact | 50 | 25.0 | 4기통 |\n| audi | a4 | 2.0 | 2008 | 4 | manual(m6) | f | 20 | 31 | p | compact | 51 | 25.5 | 4기통 |\n| audi | a4 | 2.0 | 2008 | 4 | auto(av)   | f | 21 | 30 | p | compact | 51 | 25.5 | 4기통 |\n| audi | a4 | 2.8 | 1999 | 6 | auto(l5)   | f | 16 | 26 | p | compact | 42 | 21.0 | 6기통 |\n\n",
            "text/html": [
              "<table>\n",
              "<caption>A tibble: 5 × 14</caption>\n",
              "<thead>\n",
              "\t<tr><th scope=col>manufacturer</th><th scope=col>model</th><th scope=col>displ</th><th scope=col>year</th><th scope=col>cyl</th><th scope=col>trans</th><th scope=col>drv</th><th scope=col>cty</th><th scope=col>hwy</th><th scope=col>fl</th><th scope=col>class</th><th scope=col>allmpg</th><th scope=col>avgmpg</th><th scope=col>clydesc</th></tr>\n",
              "\t<tr><th scope=col>&lt;chr&gt;</th><th scope=col>&lt;chr&gt;</th><th scope=col>&lt;dbl&gt;</th><th scope=col>&lt;int&gt;</th><th scope=col>&lt;int&gt;</th><th scope=col>&lt;chr&gt;</th><th scope=col>&lt;chr&gt;</th><th scope=col>&lt;int&gt;</th><th scope=col>&lt;int&gt;</th><th scope=col>&lt;chr&gt;</th><th scope=col>&lt;chr&gt;</th><th scope=col>&lt;int&gt;</th><th scope=col>&lt;dbl&gt;</th><th scope=col>&lt;chr&gt;</th></tr>\n",
              "</thead>\n",
              "<tbody>\n",
              "\t<tr><td>audi</td><td>a4</td><td>1.8</td><td>1999</td><td>4</td><td>auto(l5)  </td><td>f</td><td>18</td><td>29</td><td>p</td><td>compact</td><td>47</td><td>23.5</td><td>4기통</td></tr>\n",
              "\t<tr><td>audi</td><td>a4</td><td>1.8</td><td>1999</td><td>4</td><td>manual(m5)</td><td>f</td><td>21</td><td>29</td><td>p</td><td>compact</td><td>50</td><td>25.0</td><td>4기통</td></tr>\n",
              "\t<tr><td>audi</td><td>a4</td><td>2.0</td><td>2008</td><td>4</td><td>manual(m6)</td><td>f</td><td>20</td><td>31</td><td>p</td><td>compact</td><td>51</td><td>25.5</td><td>4기통</td></tr>\n",
              "\t<tr><td>audi</td><td>a4</td><td>2.0</td><td>2008</td><td>4</td><td>auto(av)  </td><td>f</td><td>21</td><td>30</td><td>p</td><td>compact</td><td>51</td><td>25.5</td><td>4기통</td></tr>\n",
              "\t<tr><td>audi</td><td>a4</td><td>2.8</td><td>1999</td><td>6</td><td>auto(l5)  </td><td>f</td><td>16</td><td>26</td><td>p</td><td>compact</td><td>42</td><td>21.0</td><td>6기통</td></tr>\n",
              "</tbody>\n",
              "</table>\n"
            ]
          },
          "metadata": {
            "tags": []
          }
        }
      ]
    }
  ]
}