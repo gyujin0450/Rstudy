{
  "nbformat": 4,
  "nbformat_minor": 0,
  "metadata": {
    "colab": {
      "name": "R02_사칙연산연습.ipynb",
      "provenance": [],
      "collapsed_sections": [],
      "authorship_tag": "ABX9TyM0ClUVkNHk96l+JNtkQyrB",
      "include_colab_link": true
    },
    "kernelspec": {
      "name": "ir",
      "display_name": "R"
    }
  },
  "cells": [
    {
      "cell_type": "markdown",
      "metadata": {
        "id": "view-in-github",
        "colab_type": "text"
      },
      "source": [
        "<a href=\"https://colab.research.google.com/github/gyujin0450/Rstudy/blob/master/R02_%EC%82%AC%EC%B9%99%EC%97%B0%EC%82%B0%EC%97%B0%EC%8A%B5.ipynb\" target=\"_parent\"><img src=\"https://colab.research.google.com/assets/colab-badge.svg\" alt=\"Open In Colab\"/></a>"
      ]
    },
    {
      "cell_type": "markdown",
      "metadata": {
        "id": "CDCjC7xllchR",
        "colab_type": "text"
      },
      "source": [
        "R의 연산자 ( ctl+m+m / shift+enter)"
      ]
    },
    {
      "cell_type": "code",
      "metadata": {
        "id": "-3nknEDHlrl8",
        "colab_type": "code",
        "colab": {
          "base_uri": "https://localhost:8080/",
          "height": 123
        },
        "outputId": "645dee1a-ac80-43f1-97c9-0d963992d2c5"
      },
      "source": [
        "# 산출연산자 : + - * / %% ^\n",
        "print( 3 + 5)\n",
        "print( 3 - 5)\n",
        "print( 3 * 5)\n",
        "print( 3 / 5)\n",
        "print( 3 %% 5) # 나머지 연산자\n",
        "print( 3 ^ 5)  "
      ],
      "execution_count": null,
      "outputs": [
        {
          "output_type": "stream",
          "text": [
            "[1] 8\n",
            "[1] -2\n",
            "[1] 15\n",
            "[1] 0.6\n",
            "[1] 3\n",
            "[1] 243\n"
          ],
          "name": "stdout"
        }
      ]
    },
    {
      "cell_type": "code",
      "metadata": {
        "id": "tWq7ANe5sQtn",
        "colab_type": "code",
        "colab": {
          "base_uri": "https://localhost:8080/",
          "height": 83
        },
        "outputId": "7294133f-58f1-4451-d80d-d5834d5ae4cc"
      },
      "source": [
        "log(10)\n",
        "log(10, base=2)\n",
        "sqrt(36)\n",
        "max(3,6,10)"
      ],
      "execution_count": null,
      "outputs": [
        {
          "output_type": "display_data",
          "data": {
            "text/plain": [
              "[1] 2.302585"
            ],
            "text/latex": "2.30258509299405",
            "text/markdown": "2.30258509299405",
            "text/html": [
              "2.30258509299405"
            ]
          },
          "metadata": {
            "tags": []
          }
        },
        {
          "output_type": "display_data",
          "data": {
            "text/plain": [
              "[1] 3.321928"
            ],
            "text/latex": "3.32192809488736",
            "text/markdown": "3.32192809488736",
            "text/html": [
              "3.32192809488736"
            ]
          },
          "metadata": {
            "tags": []
          }
        },
        {
          "output_type": "display_data",
          "data": {
            "text/plain": [
              "[1] 6"
            ],
            "text/latex": "6",
            "text/markdown": "6",
            "text/html": [
              "6"
            ]
          },
          "metadata": {
            "tags": []
          }
        },
        {
          "output_type": "display_data",
          "data": {
            "text/plain": [
              "[1] 10"
            ],
            "text/latex": "10",
            "text/markdown": "10",
            "text/html": [
              "10"
            ]
          },
          "metadata": {
            "tags": []
          }
        }
      ]
    },
    {
      "cell_type": "code",
      "metadata": {
        "id": "8n68hlT3w5cv",
        "colab_type": "code",
        "colab": {
          "base_uri": "https://localhost:8080/",
          "height": 87
        },
        "outputId": "e22f6e19-9dc5-418c-c3d8-0f3e620cdd14"
      },
      "source": [
        "# 리터럴 기반 연산\n",
        "print( 5 + 8)\n",
        "print( 5 - 8)\n",
        "print( 5 * 8)\n",
        "print( 5 / 8)"
      ],
      "execution_count": null,
      "outputs": [
        {
          "output_type": "stream",
          "text": [
            "[1] 13\n",
            "[1] -3\n",
            "[1] 40\n",
            "[1] 0.625\n"
          ],
          "name": "stdout"
        }
      ]
    },
    {
      "cell_type": "code",
      "metadata": {
        "id": "gzE23PCCxKcY",
        "colab_type": "code",
        "colab": {
          "base_uri": "https://localhost:8080/",
          "height": 87
        },
        "outputId": "986ebc65-2148-4fc0-9d61-c05e1ef4ed62"
      },
      "source": [
        "# 변수 기반 연산(변수값 수정이 용이함!!)\n",
        "a <- 80\n",
        "b <- 5\n",
        "print( a + b)\n",
        "print( a - b)\n",
        "print( a * b)\n",
        "print( a / b)"
      ],
      "execution_count": null,
      "outputs": [
        {
          "output_type": "stream",
          "text": [
            "[1] 85\n",
            "[1] 75\n",
            "[1] 400\n",
            "[1] 16\n"
          ],
          "name": "stdout"
        }
      ]
    },
    {
      "cell_type": "code",
      "metadata": {
        "id": "yKDzAvFdyCrJ",
        "colab_type": "code",
        "colab": {
          "base_uri": "https://localhost:8080/",
          "height": 33
        },
        "outputId": "d2ad9aa6-9170-4053-8899-e286665bcdc0"
      },
      "source": [
        "# 성적처리 (이름, 국어, 영어, 수학, 총점, 평균)\n",
        "# sprintf('출력형식',변수들, ...)\n",
        "# 출력형식 : %d(정수), %f(실수), %s(문자열)\n",
        "name <- '최규진'\n",
        "kor <- 90\n",
        "eng <- 80\n",
        "mat <- 70\n",
        "tot <- kor + eng + mat\n",
        "avg <- tot / 3\n",
        "sprintf('%s %d %d %d %d %.1f',name, kor, eng, mat, tot, avg)\n"
      ],
      "execution_count": null,
      "outputs": [
        {
          "output_type": "display_data",
          "data": {
            "text/plain": [
              "[1] \"최규진 90 80 70 240 80.0\""
            ],
            "text/latex": "'최규진 90 80 70 240 80.0'",
            "text/markdown": "'최규진 90 80 70 240 80.0'",
            "text/html": [
              "'최규진 90 80 70 240 80.0'"
            ]
          },
          "metadata": {
            "tags": []
          }
        }
      ]
    },
    {
      "cell_type": "code",
      "metadata": {
        "id": "p6_lpGb70Vzt",
        "colab_type": "code",
        "colab": {
          "base_uri": "https://localhost:8080/",
          "height": 34
        },
        "outputId": "63d85ba1-9286-4031-95b9-d50f8a35f6dc"
      },
      "source": [
        "# 논리형\n",
        "print(T)"
      ],
      "execution_count": null,
      "outputs": [
        {
          "output_type": "stream",
          "text": [
            "[1] TRUE\n"
          ],
          "name": "stdout"
        }
      ]
    },
    {
      "cell_type": "code",
      "metadata": {
        "id": "y_lDu8sy1Kzl",
        "colab_type": "code",
        "colab": {
          "base_uri": "https://localhost:8080/",
          "height": 87
        },
        "outputId": "4d5bdfe6-2fe4-454d-ccc9-af8f397408de"
      },
      "source": [
        "# 벡터 : 1차원 배열\n",
        "# 변수명 <- c(값, 값, ...)\n",
        "names <- c('철수','혜련','재국','원식','대열')\n",
        "kors <- c(90,80,70,70,60)\n",
        "engs <- c(80,70,60,70,90)\n",
        "mats <- c(100,80,70,60,50)\n",
        "print(names)\n",
        "print(kors)\n",
        "print(engs)\n",
        "print(mats)"
      ],
      "execution_count": null,
      "outputs": [
        {
          "output_type": "stream",
          "text": [
            "[1] \"철수\" \"혜련\" \"재국\" \"원식\" \"대열\"\n",
            "[1] 90 80 70 70 60\n",
            "[1] 80 70 60 70 90\n",
            "[1] 100  80  70  60  50\n"
          ],
          "name": "stdout"
        }
      ]
    },
    {
      "cell_type": "code",
      "metadata": {
        "id": "q3LRqZxI3ePe",
        "colab_type": "code",
        "colab": {
          "base_uri": "https://localhost:8080/",
          "height": 52
        },
        "outputId": "84606717-c5bb-4a0d-d344-7890e9d4bc34"
      },
      "source": [
        "# 벡터 연산\n",
        "tots <- kors + engs + mats\n",
        "print(tots)\n",
        "\n",
        "avgs <- tots/3\n",
        "print(avgs)"
      ],
      "execution_count": null,
      "outputs": [
        {
          "output_type": "stream",
          "text": [
            "[1] 270 230 200 180 200\n",
            "[1] 90.00000 76.66667 66.66667 60.00000 66.66667\n"
          ],
          "name": "stdout"
        }
      ]
    },
    {
      "cell_type": "code",
      "metadata": {
        "id": "s0M8X07n4ekZ",
        "colab_type": "code",
        "colab": {
          "base_uri": "https://localhost:8080/",
          "height": 174
        },
        "outputId": "0bc2d2d3-706c-4153-9fdf-8d1cf5480878"
      },
      "source": [
        "# 통계함수\n",
        "mkor <- mean(kors)\n",
        "print(mkor)\n",
        "\n",
        "mdkor <- median(kors) # 중앙값\n",
        "print(mdkor)\n",
        "\n",
        "mxkor <- max(kors)\n",
        "print(mxkor)\n",
        "\n",
        "mnkor <- min(kors)\n",
        "print(mnkor)\n",
        "\n",
        "varKor <- var(kors)\n",
        "print(vkor)\n",
        "\n",
        "sdKor <- sd(kors)\n",
        "print(sdKor)\n",
        "\n",
        "sortKor <- sort(kors)\n",
        "print(sortKor)\n",
        "\n",
        "range(kors)\n",
        "length(kors)"
      ],
      "execution_count": null,
      "outputs": [
        {
          "output_type": "stream",
          "text": [
            "[1] 74\n",
            "[1] 70\n",
            "[1] 90\n",
            "[1] 60\n",
            "[1] 130\n",
            "[1] 11.40175\n",
            "[1] 60 70 70 80 90\n"
          ],
          "name": "stdout"
        },
        {
          "output_type": "display_data",
          "data": {
            "text/plain": [
              "[1] 60 90"
            ],
            "text/latex": "\\begin{enumerate*}\n\\item 60\n\\item 90\n\\end{enumerate*}\n",
            "text/markdown": "1. 60\n2. 90\n\n\n",
            "text/html": [
              "<style>\n",
              ".list-inline {list-style: none; margin:0; padding: 0}\n",
              ".list-inline>li {display: inline-block}\n",
              ".list-inline>li:not(:last-child)::after {content: \"\\00b7\"; padding: 0 .5ex}\n",
              "</style>\n",
              "<ol class=list-inline><li>60</li><li>90</li></ol>\n"
            ]
          },
          "metadata": {
            "tags": []
          }
        },
        {
          "output_type": "display_data",
          "data": {
            "text/plain": [
              "[1] 5"
            ],
            "text/latex": "5",
            "text/markdown": "5",
            "text/html": [
              "5"
            ]
          },
          "metadata": {
            "tags": []
          }
        }
      ]
    },
    {
      "cell_type": "code",
      "metadata": {
        "id": "S9LnWpqJ8BG_",
        "colab_type": "code",
        "colab": {
          "base_uri": "https://localhost:8080/",
          "height": 123
        },
        "outputId": "821d99a9-35b9-4a2e-b4b8-90a92a5b88ef"
      },
      "source": [
        "# 벡터에 논리값 적용\n",
        "lg1 <- mean(kors) < mean(engs)\n",
        "lg2 <- mean(kors) == mean(engs)\n",
        "lg3 <- mean(kors) > mean(eng) & mean(kors) > mean(mats)\n",
        "\n",
        "print(mean(kors))\n",
        "print(mean(engs))\n",
        "print(mean(mats))\n",
        "\n",
        "print(lg1)\n",
        "print(lg2)\n",
        "print(lg3)"
      ],
      "execution_count": null,
      "outputs": [
        {
          "output_type": "stream",
          "text": [
            "[1] 74\n",
            "[1] 74\n",
            "[1] 72\n",
            "[1] FALSE\n",
            "[1] TRUE\n",
            "[1] FALSE\n"
          ],
          "name": "stdout"
        }
      ]
    },
    {
      "cell_type": "code",
      "metadata": {
        "id": "NWIMI3Qs-V5H",
        "colab_type": "code",
        "colab": {
          "base_uri": "https://localhost:8080/",
          "height": 543
        },
        "outputId": "67a09dca-adb3-4c04-ed87-34f72b007cc7"
      },
      "source": [
        "# 신생아 월별 몸무게 변화\n",
        "age <- c(1,3,5,2,11,9, 3, 9, 12, 3)\n",
        "weight <- c(4.4, 5.3, 7.2, 5.2,8.5, 7.3, 6.0, 10.4, 10.2, 6.1)\n",
        "\n",
        "# 기술통계 : mean, median, sd, length, range\n",
        "print(mean(age))\n",
        "print(mean(weight))\n",
        "print(median(weight))\n",
        "print(sd(weight))\n",
        "print(length(weight))\n",
        "print(range(weight))\n",
        "\n",
        "# 시간화\n",
        "plot(age, weight)\n",
        "\n",
        "#회귀분석\n",
        "m <- lm(age~weight)\n",
        "abline(m, col='red')\n"
      ],
      "execution_count": null,
      "outputs": [
        {
          "output_type": "stream",
          "text": [
            "[1] 5.8\n",
            "[1] 7.06\n",
            "[1] 6.65\n",
            "[1] 2.077498\n",
            "[1] 10\n",
            "[1]  4.4 10.4\n"
          ],
          "name": "stdout"
        },
        {
          "output_type": "display_data",
          "data": {
            "image/png": "[encoded data removed]",
            "text/plain": [
              "plot without title"
            ]
          },
          "metadata": {
            "tags": [],
            "image/png": {
              "width": 420,
              "height": 420
            }
          }
        }
      ]
    },
    {
      "cell_type": "code",
      "metadata": {
        "id": "aXuoYprv_Qly",
        "colab_type": "code",
        "colab": {}
      },
      "source": [
        "# 매니저 평점 분석\n",
        "manager <- c(1,2,3,4,5)\n",
        "date <- c('10/24/14','10/28/14','10/01/14','10/12/14','05/01/14')\n",
        "country <- c('US','US','UK','UK','UK')\n",
        "gender <- c('M','F','F','M','F')\n",
        "mage <- c(32,45,25,39,99)\n",
        "q1 <- c(5,3,3,3,2)\n",
        "q2 <- c(4,5,5,3,2)\n",
        "q3 <- c(5,2,5,4,1)\n",
        "q4 <- c(5,5,5,NA,2)\n",
        "q5 <- c(5,5,2,NA,1)\n"
      ],
      "execution_count": null,
      "outputs": []
    },
    {
      "cell_type": "code",
      "metadata": {
        "id": "11m2grCUHZ7u",
        "colab_type": "code",
        "colab": {
          "base_uri": "https://localhost:8080/",
          "height": 874
        },
        "outputId": "08601432-e93e-4f90-a3c3-ea2cf795d921"
      },
      "source": [
        "# 매니저 국적별 통계\n",
        "frq_c <- table(country)\n",
        "barplot(frq_c)\n",
        "\n",
        "# 매니저 성별 통계\n",
        "frq_g <- table(gender)\n",
        "barplot(frq_g)\n"
      ],
      "execution_count": null,
      "outputs": [
        {
          "output_type": "display_data",
          "data": {
            "image/png": "[encoded data removed]",
            "text/plain": [
              "plot without title"
            ]
          },
          "metadata": {
            "tags": [],
            "image/png": {
              "width": 420,
              "height": 420
            }
          }
        },
        {
          "output_type": "stream",
          "text": [
            "[1] 48\n"
          ],
          "name": "stdout"
        },
        {
          "output_type": "display_data",
          "data": {
            "image/png": "[encoded data removed]",
            "text/plain": [
              "plot without title"
            ]
          },
          "metadata": {
            "tags": [],
            "image/png": {
              "width": 420,
              "height": 420
            }
          }
        }
      ]
    },
    {
      "cell_type": "code",
      "metadata": {
        "id": "mrl9yUrhHe3T",
        "colab_type": "code",
        "colab": {
          "base_uri": "https://localhost:8080/",
          "height": 70
        },
        "outputId": "6da92ca6-810e-4aac-f71d-74e07592ad0f"
      },
      "source": [
        "# 매니저의 나이\n",
        "print(mean(mage))\n",
        "\n",
        "# 설문 평균\n",
        "print(mean(q3))\n",
        "\n",
        "# NA가 포함된 벡터의 통계함수 적용 -- 전처리함\n",
        "# 결측치 처리 : 다른값으로 대체, 해당 레코드 삭제\n",
        "print(mean(q4, na.rm=T))"
      ],
      "execution_count": null,
      "outputs": [
        {
          "output_type": "stream",
          "text": [
            "[1] 48\n",
            "[1] 3.4\n",
            "[1] 4.25\n"
          ],
          "name": "stdout"
        }
      ]
    }
  ]
}