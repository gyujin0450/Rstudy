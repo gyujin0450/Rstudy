{
  "nbformat": 4,
  "nbformat_minor": 0,
  "metadata": {
    "colab": {
      "name": "203_데이터가공(2)_p48.ipynb",
      "provenance": [],
      "authorship_tag": "ABX9TyNxRRVnViPwX6ithZRB23qj",
      "include_colab_link": true
    },
    "kernelspec": {
      "name": "ir",
      "display_name": "R"
    }
  },
  "cells": [
    {
      "cell_type": "markdown",
      "metadata": {
        "id": "view-in-github",
        "colab_type": "text"
      },
      "source": [
        "<a href=\"https://colab.research.google.com/github/gyujin0450/Rstudy/blob/master/203_%EB%8D%B0%EC%9D%B4%ED%84%B0%EA%B0%80%EA%B3%B5(2)_p48.ipynb\" target=\"_parent\"><img src=\"https://colab.research.google.com/assets/colab-badge.svg\" alt=\"Open In Colab\"/></a>"
      ]
    },
    {
      "cell_type": "markdown",
      "metadata": {
        "id": "Tq_wzsotzAML"
      },
      "source": [
        "데이터가공(2)"
      ]
    },
    {
      "cell_type": "code",
      "metadata": {
        "id": "7LQI1UJvzQoV",
        "outputId": "9596ec58-c32e-46f4-c292-b66595f880ec",
        "colab": {
          "base_uri": "https://localhost:8080/",
          "height": 269
        }
      },
      "source": [
        "# dplyr 라이브러리\n",
        "# 하들리위캄이 만든 패키지 모음 중 하나\n",
        "# 데이터 처리, 탐색에 빠르고 유용한 기능들을 제공함\n",
        "# 데이터분석의 사실상 표준으로 받아지고 있음\n",
        "# install.pakages('dplyr') # 코랩에는 기본적으로 설치됨\n",
        "library(dplyr)"
      ],
      "execution_count": null,
      "outputs": [
        {
          "output_type": "stream",
          "text": [
            "\n",
            "Attaching package: ‘dplyr’\n",
            "\n",
            "\n",
            "The following objects are masked from ‘package:stats’:\n",
            "\n",
            "    filter, lag\n",
            "\n",
            "\n",
            "The following objects are masked from ‘package:base’:\n",
            "\n",
            "    intersect, setdiff, setequal, union\n",
            "\n",
            "\n"
          ],
          "name": "stderr"
        }
      ]
    },
    {
      "cell_type": "code",
      "metadata": {
        "id": "eNnMW48gz9n9"
      },
      "source": [
        "# select  : 열선택\n",
        "# filter  : 조건선택\n",
        "# mutate  : 행/열 추가\n",
        "\n",
        "# summarise : 데이터 집계\n",
        "# group_by  : 데이터 그룹화\n",
        "# arrange   : 데이터 정렬\n",
        "\n",
        "# 연산 수행시 파이프(>) 패러다임을 이용해서\n",
        "# 체인 현식으로 연산을 수행할 수 있음\n",
        "# (예)\n",
        "# sum(titani, na.rm = T)     # 한번에 수행\n",
        "# titanic %>% sum(na.rm=T)   # 단계적으로 수행"
      ],
      "execution_count": null,
      "outputs": []
    },
    {
      "cell_type": "code",
      "metadata": {
        "id": "NPqqERgV1CI8",
        "outputId": "13d230cc-1050-419d-88dd-7a8b954b0d3b",
        "colab": {
          "base_uri": "https://localhost:8080/",
          "height": 162
        }
      },
      "source": [
        "# 성적 데이터 로드\n",
        "load('sungjuk.rdata')\n",
        "# 총점과 평균을 계산하여 tot, avg 라는 컬럼 생성(방법2)\n",
        "sungjuk <- within(sungjuk, {\n",
        "              tot <- eng + mat + sci\n",
        "              avg <- tot / 3\n",
        "           })\n",
        "# 성적 데이터에 반(클래스) 변수 추가\n",
        "sungjuk$class <-c(1,2,1,2)\n",
        "sungjuk"
      ],
      "execution_count": null,
      "outputs": [
        {
          "output_type": "display_data",
          "data": {
            "text/plain": [
              "  name eng mat sci avg      tot class\n",
              "1 John 90  85  90  88.33333 265 1    \n",
              "2 Tom  95  96  80  90.33333 271 2    \n",
              "3 Mark 69  49  70  62.66667 188 1    \n",
              "4 Jane 78  95  60  77.66667 233 2    "
            ],
            "text/latex": "A data.frame: 4 × 7\n\\begin{tabular}{lllllll}\n name & eng & mat & sci & avg & tot & class\\\\\n <fct> & <dbl> & <dbl> & <dbl> & <dbl> & <dbl> & <dbl>\\\\\n\\hline\n\t John & 90 & 85 & 90 & 88.33333 & 265 & 1\\\\\n\t Tom  & 95 & 96 & 80 & 90.33333 & 271 & 2\\\\\n\t Mark & 69 & 49 & 70 & 62.66667 & 188 & 1\\\\\n\t Jane & 78 & 95 & 60 & 77.66667 & 233 & 2\\\\\n\\end{tabular}\n",
            "text/markdown": "\nA data.frame: 4 × 7\n\n| name &lt;fct&gt; | eng &lt;dbl&gt; | mat &lt;dbl&gt; | sci &lt;dbl&gt; | avg &lt;dbl&gt; | tot &lt;dbl&gt; | class &lt;dbl&gt; |\n|---|---|---|---|---|---|---|\n| John | 90 | 85 | 90 | 88.33333 | 265 | 1 |\n| Tom  | 95 | 96 | 80 | 90.33333 | 271 | 2 |\n| Mark | 69 | 49 | 70 | 62.66667 | 188 | 1 |\n| Jane | 78 | 95 | 60 | 77.66667 | 233 | 2 |\n\n",
            "text/html": [
              "<table>\n",
              "<caption>A data.frame: 4 × 7</caption>\n",
              "<thead>\n",
              "\t<tr><th scope=col>name</th><th scope=col>eng</th><th scope=col>mat</th><th scope=col>sci</th><th scope=col>avg</th><th scope=col>tot</th><th scope=col>class</th></tr>\n",
              "\t<tr><th scope=col>&lt;fct&gt;</th><th scope=col>&lt;dbl&gt;</th><th scope=col>&lt;dbl&gt;</th><th scope=col>&lt;dbl&gt;</th><th scope=col>&lt;dbl&gt;</th><th scope=col>&lt;dbl&gt;</th><th scope=col>&lt;dbl&gt;</th></tr>\n",
              "</thead>\n",
              "<tbody>\n",
              "\t<tr><td>John</td><td>90</td><td>85</td><td>90</td><td>88.33333</td><td>265</td><td>1</td></tr>\n",
              "\t<tr><td>Tom </td><td>95</td><td>96</td><td>80</td><td>90.33333</td><td>271</td><td>2</td></tr>\n",
              "\t<tr><td>Mark</td><td>69</td><td>49</td><td>70</td><td>62.66667</td><td>188</td><td>1</td></tr>\n",
              "\t<tr><td>Jane</td><td>78</td><td>95</td><td>60</td><td>77.66667</td><td>233</td><td>2</td></tr>\n",
              "</tbody>\n",
              "</table>\n"
            ]
          },
          "metadata": {
            "tags": []
          }
        }
      ]
    },
    {
      "cell_type": "code",
      "metadata": {
        "id": "g8uG0EWw2PoV",
        "outputId": "40fadb73-ef8d-4dc0-c9c5-04517dda726c",
        "colab": {
          "base_uri": "https://localhost:8080/",
          "height": 162
        }
      },
      "source": [
        "# select : 열선택\n",
        "# sungjuk 데이터프레임에서 영어 출력\n",
        "sungjuk %>% select(eng, mat, sci)"
      ],
      "execution_count": null,
      "outputs": [
        {
          "output_type": "display_data",
          "data": {
            "text/plain": [
              "  eng mat sci\n",
              "1 90  85  90 \n",
              "2 95  96  80 \n",
              "3 69  49  70 \n",
              "4 78  95  60 "
            ],
            "text/latex": "A data.frame: 4 × 3\n\\begin{tabular}{lll}\n eng & mat & sci\\\\\n <dbl> & <dbl> & <dbl>\\\\\n\\hline\n\t 90 & 85 & 90\\\\\n\t 95 & 96 & 80\\\\\n\t 69 & 49 & 70\\\\\n\t 78 & 95 & 60\\\\\n\\end{tabular}\n",
            "text/markdown": "\nA data.frame: 4 × 3\n\n| eng &lt;dbl&gt; | mat &lt;dbl&gt; | sci &lt;dbl&gt; |\n|---|---|---|\n| 90 | 85 | 90 |\n| 95 | 96 | 80 |\n| 69 | 49 | 70 |\n| 78 | 95 | 60 |\n\n",
            "text/html": [
              "<table>\n",
              "<caption>A data.frame: 4 × 3</caption>\n",
              "<thead>\n",
              "\t<tr><th scope=col>eng</th><th scope=col>mat</th><th scope=col>sci</th></tr>\n",
              "\t<tr><th scope=col>&lt;dbl&gt;</th><th scope=col>&lt;dbl&gt;</th><th scope=col>&lt;dbl&gt;</th></tr>\n",
              "</thead>\n",
              "<tbody>\n",
              "\t<tr><td>90</td><td>85</td><td>90</td></tr>\n",
              "\t<tr><td>95</td><td>96</td><td>80</td></tr>\n",
              "\t<tr><td>69</td><td>49</td><td>70</td></tr>\n",
              "\t<tr><td>78</td><td>95</td><td>60</td></tr>\n",
              "</tbody>\n",
              "</table>\n"
            ]
          },
          "metadata": {
            "tags": []
          }
        }
      ]
    },
    {
      "cell_type": "code",
      "metadata": {
        "id": "e05AZomF2dT_",
        "outputId": "659b3f06-4316-42e4-fe16-a7ae34d4f3af",
        "colab": {
          "base_uri": "https://localhost:8080/",
          "height": 120
        }
      },
      "source": [
        "# filter : 조건검색\n",
        "# class가 1인 학생들 출력\n",
        "sungjuk %>% filter(class == 1)"
      ],
      "execution_count": null,
      "outputs": [
        {
          "output_type": "display_data",
          "data": {
            "text/plain": [
              "  name eng mat sci avg      tot class\n",
              "1 John 90  85  90  88.33333 265 1    \n",
              "2 Mark 69  49  70  62.66667 188 1    "
            ],
            "text/latex": "A data.frame: 2 × 7\n\\begin{tabular}{lllllll}\n name & eng & mat & sci & avg & tot & class\\\\\n <fct> & <dbl> & <dbl> & <dbl> & <dbl> & <dbl> & <dbl>\\\\\n\\hline\n\t John & 90 & 85 & 90 & 88.33333 & 265 & 1\\\\\n\t Mark & 69 & 49 & 70 & 62.66667 & 188 & 1\\\\\n\\end{tabular}\n",
            "text/markdown": "\nA data.frame: 2 × 7\n\n| name &lt;fct&gt; | eng &lt;dbl&gt; | mat &lt;dbl&gt; | sci &lt;dbl&gt; | avg &lt;dbl&gt; | tot &lt;dbl&gt; | class &lt;dbl&gt; |\n|---|---|---|---|---|---|---|\n| John | 90 | 85 | 90 | 88.33333 | 265 | 1 |\n| Mark | 69 | 49 | 70 | 62.66667 | 188 | 1 |\n\n",
            "text/html": [
              "<table>\n",
              "<caption>A data.frame: 2 × 7</caption>\n",
              "<thead>\n",
              "\t<tr><th scope=col>name</th><th scope=col>eng</th><th scope=col>mat</th><th scope=col>sci</th><th scope=col>avg</th><th scope=col>tot</th><th scope=col>class</th></tr>\n",
              "\t<tr><th scope=col>&lt;fct&gt;</th><th scope=col>&lt;dbl&gt;</th><th scope=col>&lt;dbl&gt;</th><th scope=col>&lt;dbl&gt;</th><th scope=col>&lt;dbl&gt;</th><th scope=col>&lt;dbl&gt;</th><th scope=col>&lt;dbl&gt;</th></tr>\n",
              "</thead>\n",
              "<tbody>\n",
              "\t<tr><td>John</td><td>90</td><td>85</td><td>90</td><td>88.33333</td><td>265</td><td>1</td></tr>\n",
              "\t<tr><td>Mark</td><td>69</td><td>49</td><td>70</td><td>62.66667</td><td>188</td><td>1</td></tr>\n",
              "</tbody>\n",
              "</table>\n"
            ]
          },
          "metadata": {
            "tags": []
          }
        }
      ]
    },
    {
      "cell_type": "code",
      "metadata": {
        "id": "iZ5j4NrH255O",
        "outputId": "a3cc6c2d-f4d2-457f-8c0d-39b4a91287ad",
        "colab": {
          "base_uri": "https://localhost:8080/",
          "height": 120
        }
      },
      "source": [
        "# 영어점수가 70이상이고, 수학 점수 90이상 학생들 출력\n",
        "sungjuk %>% filter( eng >= 70 & mat >= 90)"
      ],
      "execution_count": null,
      "outputs": [
        {
          "output_type": "display_data",
          "data": {
            "text/plain": [
              "  name eng mat sci avg      tot class\n",
              "1 Tom  95  96  80  90.33333 271 2    \n",
              "2 Jane 78  95  60  77.66667 233 2    "
            ],
            "text/latex": "A data.frame: 2 × 7\n\\begin{tabular}{lllllll}\n name & eng & mat & sci & avg & tot & class\\\\\n <fct> & <dbl> & <dbl> & <dbl> & <dbl> & <dbl> & <dbl>\\\\\n\\hline\n\t Tom  & 95 & 96 & 80 & 90.33333 & 271 & 2\\\\\n\t Jane & 78 & 95 & 60 & 77.66667 & 233 & 2\\\\\n\\end{tabular}\n",
            "text/markdown": "\nA data.frame: 2 × 7\n\n| name &lt;fct&gt; | eng &lt;dbl&gt; | mat &lt;dbl&gt; | sci &lt;dbl&gt; | avg &lt;dbl&gt; | tot &lt;dbl&gt; | class &lt;dbl&gt; |\n|---|---|---|---|---|---|---|\n| Tom  | 95 | 96 | 80 | 90.33333 | 271 | 2 |\n| Jane | 78 | 95 | 60 | 77.66667 | 233 | 2 |\n\n",
            "text/html": [
              "<table>\n",
              "<caption>A data.frame: 2 × 7</caption>\n",
              "<thead>\n",
              "\t<tr><th scope=col>name</th><th scope=col>eng</th><th scope=col>mat</th><th scope=col>sci</th><th scope=col>avg</th><th scope=col>tot</th><th scope=col>class</th></tr>\n",
              "\t<tr><th scope=col>&lt;fct&gt;</th><th scope=col>&lt;dbl&gt;</th><th scope=col>&lt;dbl&gt;</th><th scope=col>&lt;dbl&gt;</th><th scope=col>&lt;dbl&gt;</th><th scope=col>&lt;dbl&gt;</th><th scope=col>&lt;dbl&gt;</th></tr>\n",
              "</thead>\n",
              "<tbody>\n",
              "\t<tr><td>Tom </td><td>95</td><td>96</td><td>80</td><td>90.33333</td><td>271</td><td>2</td></tr>\n",
              "\t<tr><td>Jane</td><td>78</td><td>95</td><td>60</td><td>77.66667</td><td>233</td><td>2</td></tr>\n",
              "</tbody>\n",
              "</table>\n"
            ]
          },
          "metadata": {
            "tags": []
          }
        }
      ]
    },
    {
      "cell_type": "code",
      "metadata": {
        "id": "gjhApUty3N68",
        "outputId": "010987d3-236f-462b-f844-7f87a306f686",
        "colab": {
          "base_uri": "https://localhost:8080/",
          "height": 120
        }
      },
      "source": [
        "sungjuk %>% filter( eng >= 70, mat >= 90)"
      ],
      "execution_count": null,
      "outputs": [
        {
          "output_type": "display_data",
          "data": {
            "text/plain": [
              "  name eng mat sci avg      tot class\n",
              "1 Tom  95  96  80  90.33333 271 2    \n",
              "2 Jane 78  95  60  77.66667 233 2    "
            ],
            "text/latex": "A data.frame: 2 × 7\n\\begin{tabular}{lllllll}\n name & eng & mat & sci & avg & tot & class\\\\\n <fct> & <dbl> & <dbl> & <dbl> & <dbl> & <dbl> & <dbl>\\\\\n\\hline\n\t Tom  & 95 & 96 & 80 & 90.33333 & 271 & 2\\\\\n\t Jane & 78 & 95 & 60 & 77.66667 & 233 & 2\\\\\n\\end{tabular}\n",
            "text/markdown": "\nA data.frame: 2 × 7\n\n| name &lt;fct&gt; | eng &lt;dbl&gt; | mat &lt;dbl&gt; | sci &lt;dbl&gt; | avg &lt;dbl&gt; | tot &lt;dbl&gt; | class &lt;dbl&gt; |\n|---|---|---|---|---|---|---|\n| Tom  | 95 | 96 | 80 | 90.33333 | 271 | 2 |\n| Jane | 78 | 95 | 60 | 77.66667 | 233 | 2 |\n\n",
            "text/html": [
              "<table>\n",
              "<caption>A data.frame: 2 × 7</caption>\n",
              "<thead>\n",
              "\t<tr><th scope=col>name</th><th scope=col>eng</th><th scope=col>mat</th><th scope=col>sci</th><th scope=col>avg</th><th scope=col>tot</th><th scope=col>class</th></tr>\n",
              "\t<tr><th scope=col>&lt;fct&gt;</th><th scope=col>&lt;dbl&gt;</th><th scope=col>&lt;dbl&gt;</th><th scope=col>&lt;dbl&gt;</th><th scope=col>&lt;dbl&gt;</th><th scope=col>&lt;dbl&gt;</th><th scope=col>&lt;dbl&gt;</th></tr>\n",
              "</thead>\n",
              "<tbody>\n",
              "\t<tr><td>Tom </td><td>95</td><td>96</td><td>80</td><td>90.33333</td><td>271</td><td>2</td></tr>\n",
              "\t<tr><td>Jane</td><td>78</td><td>95</td><td>60</td><td>77.66667</td><td>233</td><td>2</td></tr>\n",
              "</tbody>\n",
              "</table>\n"
            ]
          },
          "metadata": {
            "tags": []
          }
        }
      ]
    },
    {
      "cell_type": "code",
      "metadata": {
        "id": "9HxT-Ayz3Wdc",
        "outputId": "fbaa07d0-fb16-4bae-b416-d579be794d88",
        "colab": {
          "base_uri": "https://localhost:8080/",
          "height": 141
        }
      },
      "source": [
        "# 영어점수가 70이상이거나 수학 점수 90이상 학생들 출력\n",
        "sungjuk %>% filter( eng >= 70 | mat >= 90)"
      ],
      "execution_count": null,
      "outputs": [
        {
          "output_type": "display_data",
          "data": {
            "text/plain": [
              "  name eng mat sci avg      tot class\n",
              "1 John 90  85  90  88.33333 265 1    \n",
              "2 Tom  95  96  80  90.33333 271 2    \n",
              "3 Jane 78  95  60  77.66667 233 2    "
            ],
            "text/latex": "A data.frame: 3 × 7\n\\begin{tabular}{lllllll}\n name & eng & mat & sci & avg & tot & class\\\\\n <fct> & <dbl> & <dbl> & <dbl> & <dbl> & <dbl> & <dbl>\\\\\n\\hline\n\t John & 90 & 85 & 90 & 88.33333 & 265 & 1\\\\\n\t Tom  & 95 & 96 & 80 & 90.33333 & 271 & 2\\\\\n\t Jane & 78 & 95 & 60 & 77.66667 & 233 & 2\\\\\n\\end{tabular}\n",
            "text/markdown": "\nA data.frame: 3 × 7\n\n| name &lt;fct&gt; | eng &lt;dbl&gt; | mat &lt;dbl&gt; | sci &lt;dbl&gt; | avg &lt;dbl&gt; | tot &lt;dbl&gt; | class &lt;dbl&gt; |\n|---|---|---|---|---|---|---|\n| John | 90 | 85 | 90 | 88.33333 | 265 | 1 |\n| Tom  | 95 | 96 | 80 | 90.33333 | 271 | 2 |\n| Jane | 78 | 95 | 60 | 77.66667 | 233 | 2 |\n\n",
            "text/html": [
              "<table>\n",
              "<caption>A data.frame: 3 × 7</caption>\n",
              "<thead>\n",
              "\t<tr><th scope=col>name</th><th scope=col>eng</th><th scope=col>mat</th><th scope=col>sci</th><th scope=col>avg</th><th scope=col>tot</th><th scope=col>class</th></tr>\n",
              "\t<tr><th scope=col>&lt;fct&gt;</th><th scope=col>&lt;dbl&gt;</th><th scope=col>&lt;dbl&gt;</th><th scope=col>&lt;dbl&gt;</th><th scope=col>&lt;dbl&gt;</th><th scope=col>&lt;dbl&gt;</th><th scope=col>&lt;dbl&gt;</th></tr>\n",
              "</thead>\n",
              "<tbody>\n",
              "\t<tr><td>John</td><td>90</td><td>85</td><td>90</td><td>88.33333</td><td>265</td><td>1</td></tr>\n",
              "\t<tr><td>Tom </td><td>95</td><td>96</td><td>80</td><td>90.33333</td><td>271</td><td>2</td></tr>\n",
              "\t<tr><td>Jane</td><td>78</td><td>95</td><td>60</td><td>77.66667</td><td>233</td><td>2</td></tr>\n",
              "</tbody>\n",
              "</table>\n"
            ]
          },
          "metadata": {
            "tags": []
          }
        }
      ]
    },
    {
      "cell_type": "code",
      "metadata": {
        "id": "g2necCjV3spZ",
        "outputId": "589837b4-5b05-410a-85ba-4fc32579a640",
        "colab": {
          "base_uri": "https://localhost:8080/",
          "height": 137
        }
      },
      "source": [
        "# 영어점수가 70이상이고, 수학 점수 90이상 학생들의 클래스와 이름만 출력\n",
        "sungjuk %>% filter( eng >= 70 & mat >= 90) %>% select( class, name )"
      ],
      "execution_count": null,
      "outputs": [
        {
          "output_type": "display_data",
          "data": {
            "text/plain": [
              "  class name\n",
              "1 2     Tom \n",
              "2 2     Jane"
            ],
            "text/latex": "A data.frame: 2 × 2\n\\begin{tabular}{ll}\n class & name\\\\\n <dbl> & <fct>\\\\\n\\hline\n\t 2 & Tom \\\\\n\t 2 & Jane\\\\\n\\end{tabular}\n",
            "text/markdown": "\nA data.frame: 2 × 2\n\n| class &lt;dbl&gt; | name &lt;fct&gt; |\n|---|---|\n| 2 | Tom  |\n| 2 | Jane |\n\n",
            "text/html": [
              "<table>\n",
              "<caption>A data.frame: 2 × 2</caption>\n",
              "<thead>\n",
              "\t<tr><th scope=col>class</th><th scope=col>name</th></tr>\n",
              "\t<tr><th scope=col>&lt;dbl&gt;</th><th scope=col>&lt;fct&gt;</th></tr>\n",
              "</thead>\n",
              "<tbody>\n",
              "\t<tr><td>2</td><td>Tom </td></tr>\n",
              "\t<tr><td>2</td><td>Jane</td></tr>\n",
              "</tbody>\n",
              "</table>\n"
            ]
          },
          "metadata": {
            "tags": []
          }
        }
      ]
    },
    {
      "cell_type": "code",
      "metadata": {
        "id": "_qOLdU034Sb0",
        "outputId": "407a5260-5c09-4605-df0a-83ce48dc64b9",
        "colab": {
          "base_uri": "https://localhost:8080/",
          "height": 162
        }
      },
      "source": [
        "#성적데이터 초기화\n",
        "load('sungjuk.rdata')\n",
        "sungjuk"
      ],
      "execution_count": null,
      "outputs": [
        {
          "output_type": "display_data",
          "data": {
            "text/plain": [
              "  name eng mat sci\n",
              "1 John 90  85  90 \n",
              "2 Tom  95  96  80 \n",
              "3 Mark 69  49  70 \n",
              "4 Jane 78  95  60 "
            ],
            "text/latex": "A data.frame: 4 × 4\n\\begin{tabular}{llll}\n name & eng & mat & sci\\\\\n <fct> & <dbl> & <dbl> & <dbl>\\\\\n\\hline\n\t John & 90 & 85 & 90\\\\\n\t Tom  & 95 & 96 & 80\\\\\n\t Mark & 69 & 49 & 70\\\\\n\t Jane & 78 & 95 & 60\\\\\n\\end{tabular}\n",
            "text/markdown": "\nA data.frame: 4 × 4\n\n| name &lt;fct&gt; | eng &lt;dbl&gt; | mat &lt;dbl&gt; | sci &lt;dbl&gt; |\n|---|---|---|---|\n| John | 90 | 85 | 90 |\n| Tom  | 95 | 96 | 80 |\n| Mark | 69 | 49 | 70 |\n| Jane | 78 | 95 | 60 |\n\n",
            "text/html": [
              "<table>\n",
              "<caption>A data.frame: 4 × 4</caption>\n",
              "<thead>\n",
              "\t<tr><th scope=col>name</th><th scope=col>eng</th><th scope=col>mat</th><th scope=col>sci</th></tr>\n",
              "\t<tr><th scope=col>&lt;fct&gt;</th><th scope=col>&lt;dbl&gt;</th><th scope=col>&lt;dbl&gt;</th><th scope=col>&lt;dbl&gt;</th></tr>\n",
              "</thead>\n",
              "<tbody>\n",
              "\t<tr><td>John</td><td>90</td><td>85</td><td>90</td></tr>\n",
              "\t<tr><td>Tom </td><td>95</td><td>96</td><td>80</td></tr>\n",
              "\t<tr><td>Mark</td><td>69</td><td>49</td><td>70</td></tr>\n",
              "\t<tr><td>Jane</td><td>78</td><td>95</td><td>60</td></tr>\n",
              "</tbody>\n",
              "</table>\n"
            ]
          },
          "metadata": {
            "tags": []
          }
        }
      ]
    },
    {
      "cell_type": "code",
      "metadata": {
        "id": "1G8NPHdt4f2_",
        "outputId": "882c6274-8fa9-47cf-b47d-b1ebd7b66f50",
        "colab": {
          "base_uri": "https://localhost:8080/",
          "height": 162
        }
      },
      "source": [
        "# 영어/수학/과학에 대해 총점/평균을 계산하고\n",
        "# tot, avg 컬럼에 저장\n",
        "sungjuk <- sungjuk %>% mutate(tot = eng + mat + sci, avg = round(tot /3,1))\n",
        "sungjuk"
      ],
      "execution_count": null,
      "outputs": [
        {
          "output_type": "display_data",
          "data": {
            "text/plain": [
              "  name eng mat sci tot avg \n",
              "1 John 90  85  90  265 88.3\n",
              "2 Tom  95  96  80  271 90.3\n",
              "3 Mark 69  49  70  188 62.7\n",
              "4 Jane 78  95  60  233 77.7"
            ],
            "text/latex": "A data.frame: 4 × 6\n\\begin{tabular}{llllll}\n name & eng & mat & sci & tot & avg\\\\\n <fct> & <dbl> & <dbl> & <dbl> & <dbl> & <dbl>\\\\\n\\hline\n\t John & 90 & 85 & 90 & 265 & 88.3\\\\\n\t Tom  & 95 & 96 & 80 & 271 & 90.3\\\\\n\t Mark & 69 & 49 & 70 & 188 & 62.7\\\\\n\t Jane & 78 & 95 & 60 & 233 & 77.7\\\\\n\\end{tabular}\n",
            "text/markdown": "\nA data.frame: 4 × 6\n\n| name &lt;fct&gt; | eng &lt;dbl&gt; | mat &lt;dbl&gt; | sci &lt;dbl&gt; | tot &lt;dbl&gt; | avg &lt;dbl&gt; |\n|---|---|---|---|---|---|\n| John | 90 | 85 | 90 | 265 | 88.3 |\n| Tom  | 95 | 96 | 80 | 271 | 90.3 |\n| Mark | 69 | 49 | 70 | 188 | 62.7 |\n| Jane | 78 | 95 | 60 | 233 | 77.7 |\n\n",
            "text/html": [
              "<table>\n",
              "<caption>A data.frame: 4 × 6</caption>\n",
              "<thead>\n",
              "\t<tr><th scope=col>name</th><th scope=col>eng</th><th scope=col>mat</th><th scope=col>sci</th><th scope=col>tot</th><th scope=col>avg</th></tr>\n",
              "\t<tr><th scope=col>&lt;fct&gt;</th><th scope=col>&lt;dbl&gt;</th><th scope=col>&lt;dbl&gt;</th><th scope=col>&lt;dbl&gt;</th><th scope=col>&lt;dbl&gt;</th><th scope=col>&lt;dbl&gt;</th></tr>\n",
              "</thead>\n",
              "<tbody>\n",
              "\t<tr><td>John</td><td>90</td><td>85</td><td>90</td><td>265</td><td>88.3</td></tr>\n",
              "\t<tr><td>Tom </td><td>95</td><td>96</td><td>80</td><td>271</td><td>90.3</td></tr>\n",
              "\t<tr><td>Mark</td><td>69</td><td>49</td><td>70</td><td>188</td><td>62.7</td></tr>\n",
              "\t<tr><td>Jane</td><td>78</td><td>95</td><td>60</td><td>233</td><td>77.7</td></tr>\n",
              "</tbody>\n",
              "</table>\n"
            ]
          },
          "metadata": {
            "tags": []
          }
        }
      ]
    },
    {
      "cell_type": "code",
      "metadata": {
        "id": "Nlgy5FLY5t8j",
        "outputId": "58f3d4c6-a146-4481-c0e3-375d6cba1023",
        "colab": {
          "base_uri": "https://localhost:8080/",
          "height": 34
        }
      },
      "source": [
        "# 조건식 함수 - 강의본(p11)\n",
        "# ifelse(조건식, 참일때 값, 거짓일때 값)\n",
        "x <- 55\n",
        "ifelse(x >= 60, \"합격입니다\", \"불합격입니다\")"
      ],
      "execution_count": null,
      "outputs": [
        {
          "output_type": "display_data",
          "data": {
            "text/plain": [
              "[1] \"불합격입니다\""
            ],
            "text/latex": "'불합격입니다'",
            "text/markdown": "'불합격입니다'",
            "text/html": [
              "'불합격입니다'"
            ]
          },
          "metadata": {
            "tags": []
          }
        }
      ]
    },
    {
      "cell_type": "code",
      "metadata": {
        "id": "4fS8E34Z6VRu",
        "outputId": "a7bd88fd-63d6-432e-c637-1f16372c6a6f",
        "colab": {
          "base_uri": "https://localhost:8080/",
          "height": 34
        }
      },
      "source": [
        " result <- ifelse(x >= 60, \"합격입니다\", \"불합격입니다\")\n",
        " result"
      ],
      "execution_count": null,
      "outputs": [
        {
          "output_type": "display_data",
          "data": {
            "text/plain": [
              "[1] \"불합격입니다\""
            ],
            "text/latex": "'불합격입니다'",
            "text/markdown": "'불합격입니다'",
            "text/html": [
              "'불합격입니다'"
            ]
          },
          "metadata": {
            "tags": []
          }
        }
      ]
    },
    {
      "cell_type": "code",
      "metadata": {
        "id": "kciDP8Un6piG",
        "outputId": "ef70245e-63df-47d2-9368-1163b5da880c",
        "colab": {
          "base_uri": "https://localhost:8080/",
          "height": 34
        }
      },
      "source": [
        "# 0 ~ 30 : 작음       (x >= 0 & x <= 30 --> x <= 30 처럼 상한선만 씀)\n",
        "# 31~ 60 : 보통       (x >= 31 & x <= 60 --> x <= 60 처럼 상한선만 씀) \n",
        "# 61 ~ 100 : 잘했음   (x >= 61 & x <= 100 --> x <= 100 처럼 상한선만 씀) \n",
        "ifelse(x <= 30, '작음', ifelse( x <= 60, '보통', '잘했음')) "
      ],
      "execution_count": null,
      "outputs": [
        {
          "output_type": "display_data",
          "data": {
            "text/plain": [
              "[1] \"보통\""
            ],
            "text/latex": "'보통'",
            "text/markdown": "'보통'",
            "text/html": [
              "'보통'"
            ]
          },
          "metadata": {
            "tags": []
          }
        }
      ]
    },
    {
      "cell_type": "code",
      "metadata": {
        "id": "GpFCD-1d8y_x",
        "outputId": "9b1e1e00-78ee-456c-eb99-cae813309df4",
        "colab": {
          "base_uri": "https://localhost:8080/",
          "height": 34
        }
      },
      "source": [
        "# 학점 ABCDF 을 계산하는 조건식\n",
        "# ifelse 함수로 작성\n",
        "# (90/80/70/60/~ : A/B/C/D/F)\n",
        "x <- 100\n",
        "# ifelse( x <= 59, \"F\", ifelse( x <= 69, \"D\", ifelse( x <= 79, \"C\", ifelse( x <= 89, \"B\", \"A\"))))\n",
        "result <- ifelse( x >= 90, \"A\", ifelse( x >= 80, \"B\", ifelse( x >= 70, \"C\", ifelse( x >= 60, \"D\", \"F\"))))\n",
        "result"
      ],
      "execution_count": null,
      "outputs": [
        {
          "output_type": "display_data",
          "data": {
            "text/plain": [
              "[1] \"A\""
            ],
            "text/latex": "'A'",
            "text/markdown": "'A'",
            "text/html": [
              "'A'"
            ]
          },
          "metadata": {
            "tags": []
          }
        }
      ]
    },
    {
      "cell_type": "code",
      "metadata": {
        "id": "8ejsYCJwB0K8",
        "outputId": "7e5d40e2-d328-45b2-de0b-3a2a822b6461",
        "colab": {
          "base_uri": "https://localhost:8080/",
          "height": 34
        }
      },
      "source": [
        "# 다중 조건문 작성시 case_when\n",
        "# case_when( 조건식~참일때값, ..., TRUE~참일때값)\n",
        "case_when( x <= 30 ~ \"작음\", x <= 60 ~ '보통', TRUE ~ '잘했음')"
      ],
      "execution_count": null,
      "outputs": [
        {
          "output_type": "display_data",
          "data": {
            "text/plain": [
              "[1] \"잘했음\""
            ],
            "text/latex": "'잘했음'",
            "text/markdown": "'잘했음'",
            "text/html": [
              "'잘했음'"
            ]
          },
          "metadata": {
            "tags": []
          }
        }
      ]
    },
    {
      "cell_type": "code",
      "metadata": {
        "id": "QY3ShQaiC02h",
        "outputId": "aee6fbef-3c85-4264-a08b-1c9d6aa41b14",
        "colab": {
          "base_uri": "https://localhost:8080/",
          "height": 34
        }
      },
      "source": [
        "case_when( x >= 90 ~ \"A\", x >= 80 ~ \"B\", x >= 70 ~ \"C\", x >= 60 ~ \"D\", TRUE ~ \"F\")"
      ],
      "execution_count": null,
      "outputs": [
        {
          "output_type": "display_data",
          "data": {
            "text/plain": [
              "[1] \"A\""
            ],
            "text/latex": "'A'",
            "text/markdown": "'A'",
            "text/html": [
              "'A'"
            ]
          },
          "metadata": {
            "tags": []
          }
        }
      ]
    },
    {
      "cell_type": "code",
      "metadata": {
        "id": "tO6BIma3DisN",
        "outputId": "82acc9dc-00a6-403f-9c23-3fb485d3abc0",
        "colab": {
          "base_uri": "https://localhost:8080/",
          "height": 162
        }
      },
      "source": [
        "# 성적 : 수,우,미,양,가\n",
        "sungjuk"
      ],
      "execution_count": null,
      "outputs": [
        {
          "output_type": "display_data",
          "data": {
            "text/plain": [
              "  name eng mat sci tot avg \n",
              "1 John 90  85  90  265 88.3\n",
              "2 Tom  95  96  80  271 90.3\n",
              "3 Mark 69  49  70  188 62.7\n",
              "4 Jane 78  95  60  233 77.7"
            ],
            "text/latex": "A data.frame: 4 × 6\n\\begin{tabular}{llllll}\n name & eng & mat & sci & tot & avg\\\\\n <fct> & <dbl> & <dbl> & <dbl> & <dbl> & <dbl>\\\\\n\\hline\n\t John & 90 & 85 & 90 & 265 & 88.3\\\\\n\t Tom  & 95 & 96 & 80 & 271 & 90.3\\\\\n\t Mark & 69 & 49 & 70 & 188 & 62.7\\\\\n\t Jane & 78 & 95 & 60 & 233 & 77.7\\\\\n\\end{tabular}\n",
            "text/markdown": "\nA data.frame: 4 × 6\n\n| name &lt;fct&gt; | eng &lt;dbl&gt; | mat &lt;dbl&gt; | sci &lt;dbl&gt; | tot &lt;dbl&gt; | avg &lt;dbl&gt; |\n|---|---|---|---|---|---|\n| John | 90 | 85 | 90 | 265 | 88.3 |\n| Tom  | 95 | 96 | 80 | 271 | 90.3 |\n| Mark | 69 | 49 | 70 | 188 | 62.7 |\n| Jane | 78 | 95 | 60 | 233 | 77.7 |\n\n",
            "text/html": [
              "<table>\n",
              "<caption>A data.frame: 4 × 6</caption>\n",
              "<thead>\n",
              "\t<tr><th scope=col>name</th><th scope=col>eng</th><th scope=col>mat</th><th scope=col>sci</th><th scope=col>tot</th><th scope=col>avg</th></tr>\n",
              "\t<tr><th scope=col>&lt;fct&gt;</th><th scope=col>&lt;dbl&gt;</th><th scope=col>&lt;dbl&gt;</th><th scope=col>&lt;dbl&gt;</th><th scope=col>&lt;dbl&gt;</th><th scope=col>&lt;dbl&gt;</th></tr>\n",
              "</thead>\n",
              "<tbody>\n",
              "\t<tr><td>John</td><td>90</td><td>85</td><td>90</td><td>265</td><td>88.3</td></tr>\n",
              "\t<tr><td>Tom </td><td>95</td><td>96</td><td>80</td><td>271</td><td>90.3</td></tr>\n",
              "\t<tr><td>Mark</td><td>69</td><td>49</td><td>70</td><td>188</td><td>62.7</td></tr>\n",
              "\t<tr><td>Jane</td><td>78</td><td>95</td><td>60</td><td>233</td><td>77.7</td></tr>\n",
              "</tbody>\n",
              "</table>\n"
            ]
          },
          "metadata": {
            "tags": []
          }
        }
      ]
    },
    {
      "cell_type": "code",
      "metadata": {
        "id": "Aa7aMK_qEpZ7",
        "outputId": "70f892be-3520-4474-e0ac-69d8202562b2",
        "colab": {
          "base_uri": "https://localhost:8080/",
          "height": 162
        }
      },
      "source": [
        "sungjuk <- sungjuk %>% mutate( grade = case_when( avg >= 90 ~ \"수\", avg >= 80 ~ \"우\", avg >= 70 ~ \"미\", avg >= 60 ~ \"양\", TRUE ~ \"가\"))\n",
        "sungjuk"
      ],
      "execution_count": null,
      "outputs": [
        {
          "output_type": "display_data",
          "data": {
            "text/plain": [
              "  name eng mat sci tot avg  grade\n",
              "1 John 90  85  90  265 88.3 우   \n",
              "2 Tom  95  96  80  271 90.3 수   \n",
              "3 Mark 69  49  70  188 62.7 양   \n",
              "4 Jane 78  95  60  233 77.7 미   "
            ],
            "text/latex": "A data.frame: 4 × 7\n\\begin{tabular}{lllllll}\n name & eng & mat & sci & tot & avg & grade\\\\\n <fct> & <dbl> & <dbl> & <dbl> & <dbl> & <dbl> & <chr>\\\\\n\\hline\n\t John & 90 & 85 & 90 & 265 & 88.3 & 우\\\\\n\t Tom  & 95 & 96 & 80 & 271 & 90.3 & 수\\\\\n\t Mark & 69 & 49 & 70 & 188 & 62.7 & 양\\\\\n\t Jane & 78 & 95 & 60 & 233 & 77.7 & 미\\\\\n\\end{tabular}\n",
            "text/markdown": "\nA data.frame: 4 × 7\n\n| name &lt;fct&gt; | eng &lt;dbl&gt; | mat &lt;dbl&gt; | sci &lt;dbl&gt; | tot &lt;dbl&gt; | avg &lt;dbl&gt; | grade &lt;chr&gt; |\n|---|---|---|---|---|---|---|\n| John | 90 | 85 | 90 | 265 | 88.3 | 우 |\n| Tom  | 95 | 96 | 80 | 271 | 90.3 | 수 |\n| Mark | 69 | 49 | 70 | 188 | 62.7 | 양 |\n| Jane | 78 | 95 | 60 | 233 | 77.7 | 미 |\n\n",
            "text/html": [
              "<table>\n",
              "<caption>A data.frame: 4 × 7</caption>\n",
              "<thead>\n",
              "\t<tr><th scope=col>name</th><th scope=col>eng</th><th scope=col>mat</th><th scope=col>sci</th><th scope=col>tot</th><th scope=col>avg</th><th scope=col>grade</th></tr>\n",
              "\t<tr><th scope=col>&lt;fct&gt;</th><th scope=col>&lt;dbl&gt;</th><th scope=col>&lt;dbl&gt;</th><th scope=col>&lt;dbl&gt;</th><th scope=col>&lt;dbl&gt;</th><th scope=col>&lt;dbl&gt;</th><th scope=col>&lt;chr&gt;</th></tr>\n",
              "</thead>\n",
              "<tbody>\n",
              "\t<tr><td>John</td><td>90</td><td>85</td><td>90</td><td>265</td><td>88.3</td><td>우</td></tr>\n",
              "\t<tr><td>Tom </td><td>95</td><td>96</td><td>80</td><td>271</td><td>90.3</td><td>수</td></tr>\n",
              "\t<tr><td>Mark</td><td>69</td><td>49</td><td>70</td><td>188</td><td>62.7</td><td>양</td></tr>\n",
              "\t<tr><td>Jane</td><td>78</td><td>95</td><td>60</td><td>233</td><td>77.7</td><td>미</td></tr>\n",
              "</tbody>\n",
              "</table>\n"
            ]
          },
          "metadata": {
            "tags": []
          }
        }
      ]
    }
  ]
}