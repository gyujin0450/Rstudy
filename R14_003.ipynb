{
  "nbformat": 4,
  "nbformat_minor": 0,
  "metadata": {
    "colab": {
      "name": "R14_003.ipynb",
      "provenance": [],
      "authorship_tag": "ABX9TyMZCycWPp2d60hOjlYpkxD6",
      "include_colab_link": true
    },
    "kernelspec": {
      "name": "ir",
      "display_name": "R"
    }
  },
  "cells": [
    {
      "cell_type": "markdown",
      "metadata": {
        "id": "view-in-github",
        "colab_type": "text"
      },
      "source": [
        "<a href=\"https://colab.research.google.com/github/gyujin0450/Rstudy/blob/master/R14_003.ipynb\" target=\"_parent\"><img src=\"https://colab.research.google.com/assets/colab-badge.svg\" alt=\"Open In Colab\"/></a>"
      ]
    },
    {
      "cell_type": "markdown",
      "metadata": {
        "id": "q6ed_j4dhLVA"
      },
      "source": [
        "# (단일) 회귀분석\n",
        "- 상관분석은 변수들이 얼마나 밀접한 관계를 가지고 있는지 분석하는 통계적 기법\n",
        "- 한편, 회귀분석은 (\"상관분석\" + 예측)하는 통계적 기법\n",
        "- 수량형 값을 예측하는데 주로 사용되는 통계적 모형\n",
        "   - 즉, 두 변수간의 선형(직선)관계를 식으로 표현하고\n",
        "   - 독립변수가 주어지면 종속변수의 값이 얼마인지 추정\n",
        "   - 독립변수와 종속변수 사이의 관계를 선형방정식으로 나타낸 것을 회귀방정식이라 함\n",
        "\n",
        "$$\\hat{y} = a + bx + \\epsilon $$\n",
        "   \n",
        "   * a : 절편\n",
        "   * b : 기울기\n",
        "   * e : 잔차(오차)\n",
        "\n",
        "- 회귀직선을 그릴때는 '최소제곱법'이라는 수학적 기법을 이용하는데, 이는 두 변수의 \"선형관계\"를 계량화 한 것임\n",
        "\n",
        "- lm(   ~   )"
      ]
    },
    {
      "cell_type": "markdown",
      "metadata": {
        "id": "9iGWUNy8h2VC"
      },
      "source": [
        "- 회귀분석으로 알수 있는 것\n",
        "  - 모형적합도 : 모형이 데이터에 얼마나 잘 맞는가?\n",
        "\n",
        "- 광고비와 매출액의 관계가 데이터에 잘 맞는지 검증할 수 있음\n",
        "- 회귀계수 : 독립변수의 변화가 종속변수를 얼마나 변화시키는가?\n",
        "- 광고비가 증가하면 매출액은 얼마나 증가할지 예상할 수 있음"
      ]
    },
    {
      "cell_type": "markdown",
      "metadata": {
        "id": "7QDASrNljXPr"
      },
      "source": [
        "# 회귀분석 사전진단\n",
        "- 독립변수와 종속변수가 정구분포를 띄는지 확인\n",
        "- 독립변수와 종속변수간의 선형관계 존재 유무 확인"
      ]
    },
    {
      "cell_type": "markdown",
      "metadata": {
        "id": "6dq9EHP9krF2"
      },
      "source": [
        "예) 전화판촉횟수와 판매량의 관계\n",
        "- 판촉횟수(p)가 증가하면 판매량(s)도 증가하는지 알아보세요"
      ]
    },
    {
      "cell_type": "code",
      "metadata": {
        "id": "PUjXVHKHjiId"
      },
      "source": [
        "p <- c(96, 40, 104, 128, 164, 76, 72, 80, 36, 84, 180, 132, 120, 44 , 84)\n",
        "s <- c(41, 41, 51, 60, 61, 29, 39, 50, 28, 43, 70, 56, 45, 31, 30)"
      ],
      "execution_count": 23,
      "outputs": []
    },
    {
      "cell_type": "code",
      "metadata": {
        "id": "RRrD6Ec3k67K",
        "outputId": "3c81b2b9-3d3c-44f7-9bfc-58e900db8fd7",
        "colab": {
          "base_uri": "https://localhost:8080/",
          "height": 437
        }
      },
      "source": [
        "plot(p,s)\n",
        "abline(v=mean(p),col ='red')\n",
        "abline(h=mean(s),col ='red')"
      ],
      "execution_count": 24,
      "outputs": [
        {
          "output_type": "display_data",
          "data": {
            "image/png": "[encoded data removed]",
            "text/plain": [
              "plot without title"
            ]
          },
          "metadata": {
            "tags": [],
            "image/png": {
              "width": 420,
              "height": 420
            }
          }
        }
      ]
    },
    {
      "cell_type": "code",
      "metadata": {
        "id": "WL6GZC0ElFbY",
        "outputId": "473975e2-47ea-4496-c0c0-9de8329d704d",
        "colab": {
          "base_uri": "https://localhost:8080/",
          "height": 34
        }
      },
      "source": [
        "cor(p,s) # 강한 상관관계가 있음!!"
      ],
      "execution_count": 18,
      "outputs": [
        {
          "output_type": "display_data",
          "data": {
            "text/plain": [
              "[1] 0.8895383"
            ],
            "text/latex": "0.889538279995223",
            "text/markdown": "0.889538279995223",
            "text/html": [
              "0.889538279995223"
            ]
          },
          "metadata": {
            "tags": []
          }
        }
      ]
    },
    {
      "cell_type": "code",
      "metadata": {
        "id": "KSTfiBHjmWs2",
        "outputId": "49753b43-2874-4b65-88cb-30612c3c34d5",
        "colab": {
          "base_uri": "https://localhost:8080/",
          "height": 143
        }
      },
      "source": [
        "lm( s ~ p)"
      ],
      "execution_count": 43,
      "outputs": [
        {
          "output_type": "display_data",
          "data": {
            "text/plain": [
              "\n",
              "Call:\n",
              "lm(formula = s ~ p)\n",
              "\n",
              "Coefficients:\n",
              "(Intercept)            p  \n",
              "    19.9800       0.2606  \n"
            ]
          },
          "metadata": {
            "tags": []
          }
        }
      ]
    },
    {
      "cell_type": "markdown",
      "metadata": {
        "id": "QvwVORJUlqRC"
      },
      "source": [
        "선형방정식을 작성하려면 회귀계수가 필요한데, 이것은 최소제곱법으로 계산할 수 있음\n",
        "- lm(s ~ p)\n",
        "- Coefficients : 회귀 계수\n",
        "- Intercept : 절편(a) : 19.98\n",
        "- p : 기울기(b) : 0.26\n",
        "\n",
        "따라서, 선형방정식은 19.98 + 0.26x 임\n",
        "\n"
      ]
    },
    {
      "cell_type": "markdown",
      "metadata": {
        "id": "FcrwNAaxmqo-"
      },
      "source": [
        "적성된 방정식의 의미\n",
        "- 방정식의 x : 판촉전화 횟수\n",
        "- 19.98 의미 : 판촉전화 횟수 0일때의 제품을 19.98 만큼 팔 수 있다?\n",
        "  * 판촉전화 횟수는 0일 수 없음 : 예측에는 사용 할 수 없음\n",
        "- 0.26 의미 : 판촉전화 횟수가 0일때의 제품을 0.26만큼 팔 수 있음\n",
        "  * 독립변수가 주어졌을 때 종속 변수의 변화량을 파악할 수 있음   \n",
        "\n",
        "- 선형방정식을 이용해서 판촉전화 84회시 예상 판매량은?\n"
      ]
    },
    {
      "cell_type": "code",
      "metadata": {
        "id": "CD1n1omImV9r",
        "outputId": "197b6af3-6310-4235-b0b3-7bf01b0a7fc3",
        "colab": {
          "base_uri": "https://localhost:8080/",
          "height": 34
        }
      },
      "source": [
        "x = 84\n",
        "19.98 + 0.26 * x"
      ],
      "execution_count": 25,
      "outputs": [
        {
          "output_type": "display_data",
          "data": {
            "text/plain": [
              "[1] 41.82"
            ],
            "text/latex": "41.82",
            "text/markdown": "41.82",
            "text/html": [
              "41.82"
            ]
          },
          "metadata": {
            "tags": []
          }
        }
      ]
    },
    {
      "cell_type": "markdown",
      "metadata": {
        "id": "764U-MkJn0rj"
      },
      "source": [
        "- 산점도에서 선형방정식을 이용한 회귀선 시각화"
      ]
    },
    {
      "cell_type": "code",
      "metadata": {
        "id": "XSip66z-n-4D",
        "outputId": "55d90182-120c-451e-f82f-5ca0a14883fb",
        "colab": {
          "base_uri": "https://localhost:8080/",
          "height": 437
        }
      },
      "source": [
        "plot(p,s)\n",
        "abline(lm(s~p), col='red')\n",
        "abline(v=84, col='blue')"
      ],
      "execution_count": 26,
      "outputs": [
        {
          "output_type": "display_data",
          "data": {
            "image/png": "[encoded data removed]",
            "text/plain": [
              "plot without title"
            ]
          },
          "metadata": {
            "tags": [],
            "image/png": {
              "width": 420,
              "height": 420
            }
          }
        }
      ]
    },
    {
      "cell_type": "markdown",
      "metadata": {
        "id": "-eRo0Jk_oTmU"
      },
      "source": [
        "- 전화횟수가 84일때 판매량은 41.87로 예측\n",
        "  - 하지만, 실제값은 43, 30나오는데, 과연 이 방정식을 믿어도 될까?\n",
        "\n",
        "- R 에서는 lm함수로 회귀식을 계산한후 summary로 출력하면 분석 결과가 나옴\n"
      ]
    },
    {
      "cell_type": "code",
      "metadata": {
        "id": "kxVQjBn3ou5k",
        "outputId": "eb003835-dc37-41d8-85e5-fb1dceef3e75",
        "colab": {
          "base_uri": "https://localhost:8080/",
          "height": 341
        }
      },
      "source": [
        "model <- lm(s ~ p)\n",
        "summary(model)"
      ],
      "execution_count": 27,
      "outputs": [
        {
          "output_type": "display_data",
          "data": {
            "text/plain": [
              "\n",
              "Call:\n",
              "lm(formula = s ~ p)\n",
              "\n",
              "Residuals:\n",
              "    Min      1Q  Median      3Q     Max \n",
              "-11.873  -2.861   0.255   3.511  10.595 \n",
              "\n",
              "Coefficients:\n",
              "            Estimate Std. Error t value Pr(>|t|)    \n",
              "(Intercept)  19.9800     4.3897   4.552 0.000544 ***\n",
              "p             0.2606     0.0420   6.205 3.19e-05 ***\n",
              "---\n",
              "Signif. codes:  0 ‘***’ 0.001 ‘**’ 0.01 ‘*’ 0.05 ‘.’ 0.1 ‘ ’ 1\n",
              "\n",
              "Residual standard error: 6.72 on 13 degrees of freedom\n",
              "Multiple R-squared:  0.7476,\tAdjusted R-squared:  0.7282 \n",
              "F-statistic:  38.5 on 1 and 13 DF,  p-value: 3.193e-05\n"
            ]
          },
          "metadata": {
            "tags": []
          }
        }
      ]
    },
    {
      "cell_type": "markdown",
      "metadata": {
        "id": "ZegiGBFNpWHW"
      },
      "source": [
        "분석결과 이해하기\n",
        "1. 결정계수 R^2 (0.7282) : 회귀모형이 나름의 의미가 있는지 파악\n",
        "   - 최소 75%, 보통 85% 이상되어야 함 --> \"데이터르 더 모아 분석 필요\" or 삭제는?\n",
        "   - 90% 이상의 모델은 상당히 어렵다... \n",
        "\n",
        "2. 회귀계수 유의성(p-value): F 검정을 통해 회귀 계수 유무 파악 \n",
        "   - p > 0.05 이상으로 회귀계수가 있다고 판단\n",
        "\n",
        "3. 각 회귀계수 유의성(Pr(>|t|) : t 검정을 통해 회귀 계수\n",
        "   - *** 의미가 있다는 의미(Signif. codes)\n"
      ]
    },
    {
      "cell_type": "markdown",
      "metadata": {
        "id": "Elb2VEuMpwc1"
      },
      "source": [
        "# 실습 : 식이요법\n",
        "- '1'번 닭을 대상으로 신간 대비 몸무게에 대한 회귀분석  "
      ]
    },
    {
      "cell_type": "code",
      "metadata": {
        "id": "OeI36EN8sY5z"
      },
      "source": [
        "library(MASS)"
      ],
      "execution_count": 28,
      "outputs": []
    },
    {
      "cell_type": "code",
      "metadata": {
        "id": "mE9iG7Wysfzo",
        "outputId": "a28816fd-5b14-4548-adfb-d8b28b3f4d39",
        "colab": {
          "base_uri": "https://localhost:8080/"
        }
      },
      "source": [
        "str(ChickWeight)"
      ],
      "execution_count": 29,
      "outputs": [
        {
          "output_type": "stream",
          "text": [
            "Classes ‘nfnGroupedData’, ‘nfGroupedData’, ‘groupedData’ and 'data.frame':\t578 obs. of  4 variables:\n",
            " $ weight: num  42 51 59 64 76 93 106 125 149 171 ...\n",
            " $ Time  : num  0 2 4 6 8 10 12 14 16 18 ...\n",
            " $ Chick : Ord.factor w/ 50 levels \"18\"<\"16\"<\"15\"<..: 15 15 15 15 15 15 15 15 15 15 ...\n",
            " $ Diet  : Factor w/ 4 levels \"1\",\"2\",\"3\",\"4\": 1 1 1 1 1 1 1 1 1 1 ...\n",
            " - attr(*, \"formula\")=Class 'formula'  language weight ~ Time | Chick\n",
            "  .. ..- attr(*, \".Environment\")=<environment: R_EmptyEnv> \n",
            " - attr(*, \"outer\")=Class 'formula'  language ~Diet\n",
            "  .. ..- attr(*, \".Environment\")=<environment: R_EmptyEnv> \n",
            " - attr(*, \"labels\")=List of 2\n",
            "  ..$ x: chr \"Time\"\n",
            "  ..$ y: chr \"Body weight\"\n",
            " - attr(*, \"units\")=List of 2\n",
            "  ..$ x: chr \"(days)\"\n",
            "  ..$ y: chr \"(gm)\"\n"
          ],
          "name": "stdout"
        }
      ]
    },
    {
      "cell_type": "markdown",
      "metadata": {
        "id": "bMUyC3tqskHF"
      },
      "source": [
        "- weight : 닭 몸무게\n",
        "- time : 몸무게 측정시 병아리 나이(일수)\n",
        "- chick : 닭번호\n",
        "- diet : 닭 모이 종류\n"
      ]
    },
    {
      "cell_type": "code",
      "metadata": {
        "id": "pXHDTjVax81I"
      },
      "source": [
        "w <- ChickWeight[ChickWeight$Chick == 1, 'weight']\n",
        "t <- ChickWeight[ChickWeight$Chick == 1, 'Time']"
      ],
      "execution_count": 60,
      "outputs": []
    },
    {
      "cell_type": "code",
      "metadata": {
        "id": "k3YUAg7_yCng",
        "outputId": "e010fcbc-6cc2-498a-e2fc-e91e8ac2605c",
        "colab": {
          "base_uri": "https://localhost:8080/",
          "height": 437
        }
      },
      "source": [
        "plot(t,w)\n",
        "abline(lm(w~t), col = 'red') # lm(종속번수 ~ 독립변수)"
      ],
      "execution_count": 61,
      "outputs": [
        {
          "output_type": "display_data",
          "data": {
            "image/png": "[encoded data removed]",
            "text/plain": [
              "plot without title"
            ]
          },
          "metadata": {
            "tags": [],
            "image/png": {
              "width": 420,
              "height": 420
            }
          }
        }
      ]
    },
    {
      "cell_type": "code",
      "metadata": {
        "id": "YlF6SLtuyEKI",
        "outputId": "7edfce42-64d1-402e-dc8b-1bb0c46a65e0",
        "colab": {
          "base_uri": "https://localhost:8080/",
          "height": 34
        }
      },
      "source": [
        "cor(t,w) # 0.98"
      ],
      "execution_count": 62,
      "outputs": [
        {
          "output_type": "display_data",
          "data": {
            "text/plain": [
              "[1] 0.9791822"
            ],
            "text/latex": "0.979182161497028",
            "text/markdown": "0.979182161497028",
            "text/html": [
              "0.979182161497028"
            ]
          },
          "metadata": {
            "tags": []
          }
        }
      ]
    },
    {
      "cell_type": "code",
      "metadata": {
        "id": "Gki0CV3IyLdQ",
        "outputId": "6c2deb00-4245-4a9b-aa90-79bc60e03dfe",
        "colab": {
          "base_uri": "https://localhost:8080/",
          "height": 143
        }
      },
      "source": [
        "lm(w~t) # y = 24.47 + 7.988 * x"
      ],
      "execution_count": 63,
      "outputs": [
        {
          "output_type": "display_data",
          "data": {
            "text/plain": [
              "\n",
              "Call:\n",
              "lm(formula = w ~ t)\n",
              "\n",
              "Coefficients:\n",
              "(Intercept)            t  \n",
              "     24.465        7.988  \n"
            ]
          },
          "metadata": {
            "tags": []
          }
        }
      ]
    },
    {
      "cell_type": "markdown",
      "metadata": {
        "id": "2OHZw2LHvxN5"
      },
      "source": [
        "# 내가 푼것 (수정)"
      ]
    },
    {
      "cell_type": "code",
      "metadata": {
        "id": "bk3bnOm8tnLx",
        "outputId": "15102313-4004-4539-876b-b696dfd6a058",
        "colab": {
          "base_uri": "https://localhost:8080/"
        }
      },
      "source": [
        "library(dplyr)"
      ],
      "execution_count": 32,
      "outputs": [
        {
          "output_type": "stream",
          "text": [
            "\n",
            "Attaching package: ‘dplyr’\n",
            "\n",
            "\n",
            "The following object is masked from ‘package:MASS’:\n",
            "\n",
            "    select\n",
            "\n",
            "\n",
            "The following objects are masked from ‘package:stats’:\n",
            "\n",
            "    filter, lag\n",
            "\n",
            "\n",
            "The following objects are masked from ‘package:base’:\n",
            "\n",
            "    intersect, setdiff, setequal, union\n",
            "\n",
            "\n"
          ],
          "name": "stderr"
        }
      ]
    },
    {
      "cell_type": "code",
      "metadata": {
        "id": "uvULBIo-s3Qe",
        "outputId": "e4abf55e-7a29-4bf6-f16b-f6466b36509f",
        "colab": {
          "base_uri": "https://localhost:8080/",
          "height": 238
        }
      },
      "source": [
        "c <- ChickWeight %>% filter(Chick == 1) %>% select(Time, weight)\n",
        "head(c)"
      ],
      "execution_count": 38,
      "outputs": [
        {
          "output_type": "display_data",
          "data": {
            "text/plain": [
              "  Time weight\n",
              "1  0   42    \n",
              "2  2   51    \n",
              "3  4   59    \n",
              "4  6   64    \n",
              "5  8   76    \n",
              "6 10   93    "
            ],
            "text/latex": "A nfnGroupedData: 6 × 2\n\\begin{tabular}{r|ll}\n  & Time & weight\\\\\n  & <dbl> & <dbl>\\\\\n\\hline\n\t1 &  0 & 42\\\\\n\t2 &  2 & 51\\\\\n\t3 &  4 & 59\\\\\n\t4 &  6 & 64\\\\\n\t5 &  8 & 76\\\\\n\t6 & 10 & 93\\\\\n\\end{tabular}\n",
            "text/markdown": "\nA nfnGroupedData: 6 × 2\n\n| <!--/--> | Time &lt;dbl&gt; | weight &lt;dbl&gt; |\n|---|---|---|\n| 1 |  0 | 42 |\n| 2 |  2 | 51 |\n| 3 |  4 | 59 |\n| 4 |  6 | 64 |\n| 5 |  8 | 76 |\n| 6 | 10 | 93 |\n\n",
            "text/html": [
              "<table>\n",
              "<caption>A nfnGroupedData: 6 × 2</caption>\n",
              "<thead>\n",
              "\t<tr><th></th><th scope=col>Time</th><th scope=col>weight</th></tr>\n",
              "\t<tr><th></th><th scope=col>&lt;dbl&gt;</th><th scope=col>&lt;dbl&gt;</th></tr>\n",
              "</thead>\n",
              "<tbody>\n",
              "\t<tr><th scope=row>1</th><td> 0</td><td>42</td></tr>\n",
              "\t<tr><th scope=row>2</th><td> 2</td><td>51</td></tr>\n",
              "\t<tr><th scope=row>3</th><td> 4</td><td>59</td></tr>\n",
              "\t<tr><th scope=row>4</th><td> 6</td><td>64</td></tr>\n",
              "\t<tr><th scope=row>5</th><td> 8</td><td>76</td></tr>\n",
              "\t<tr><th scope=row>6</th><td>10</td><td>93</td></tr>\n",
              "</tbody>\n",
              "</table>\n"
            ]
          },
          "metadata": {
            "tags": []
          }
        }
      ]
    },
    {
      "cell_type": "code",
      "metadata": {
        "id": "wjlcKy-At_W_",
        "outputId": "6bd77ccc-9283-435b-ed50-5255f738648a",
        "colab": {
          "base_uri": "https://localhost:8080/",
          "height": 437
        }
      },
      "source": [
        "plot(c$Time, c$weight)\n",
        "abline(lm(c$weight ~ c$Time), col = 'red')"
      ],
      "execution_count": 57,
      "outputs": [
        {
          "output_type": "display_data",
          "data": {
            "image/png": "[encoded data removed]",
            "text/plain": [
              "plot without title"
            ]
          },
          "metadata": {
            "tags": [],
            "image/png": {
              "width": 420,
              "height": 420
            }
          }
        }
      ]
    },
    {
      "cell_type": "code",
      "metadata": {
        "id": "QCCPuF4RuYde",
        "outputId": "2d124a44-b54d-4a12-9454-ac7ba78e91be",
        "colab": {
          "base_uri": "https://localhost:8080/",
          "height": 143
        }
      },
      "source": [
        "lm(c$weight ~ c$Time )"
      ],
      "execution_count": 58,
      "outputs": [
        {
          "output_type": "display_data",
          "data": {
            "text/plain": [
              "\n",
              "Call:\n",
              "lm(formula = c$weight ~ c$Time)\n",
              "\n",
              "Coefficients:\n",
              "(Intercept)       c$Time  \n",
              "     24.465        7.988  \n"
            ]
          },
          "metadata": {
            "tags": []
          }
        }
      ]
    },
    {
      "cell_type": "code",
      "metadata": {
        "id": "tWY2LMd0vObs",
        "outputId": "814f2bb9-00e4-47fa-f841-6e217c04ec33",
        "colab": {
          "base_uri": "https://localhost:8080/",
          "height": 341
        }
      },
      "source": [
        "model <- lm(c$weight ~ c$Time)\n",
        "summary(model)"
      ],
      "execution_count": 59,
      "outputs": [
        {
          "output_type": "display_data",
          "data": {
            "text/plain": [
              "\n",
              "Call:\n",
              "lm(formula = c$weight ~ c$Time)\n",
              "\n",
              "Residuals:\n",
              "     Min       1Q   Median       3Q      Max \n",
              "-14.3202 -11.3081  -0.3444  11.1162  17.5346 \n",
              "\n",
              "Coefficients:\n",
              "            Estimate Std. Error t value Pr(>|t|)    \n",
              "(Intercept)  24.4654     6.7279   3.636  0.00456 ** \n",
              "c$Time        7.9879     0.5236  15.255 2.97e-08 ***\n",
              "---\n",
              "Signif. codes:  0 ‘***’ 0.001 ‘**’ 0.01 ‘*’ 0.05 ‘.’ 0.1 ‘ ’ 1\n",
              "\n",
              "Residual standard error: 12.29 on 10 degrees of freedom\n",
              "Multiple R-squared:  0.9588,\tAdjusted R-squared:  0.9547 \n",
              "F-statistic: 232.7 on 1 and 10 DF,  p-value: 2.974e-08\n"
            ]
          },
          "metadata": {
            "tags": []
          }
        }
      ]
    },
    {
      "cell_type": "markdown",
      "metadata": {
        "id": "4t1yU99wvZWC"
      },
      "source": [
        "분석결과 이해하기\n",
        "1. 결정계수 R^2 (0.9547) ==> 회귀계수 의미가 있음!!!\n",
        "2. 회귀계수 유의성(p-value)\n",
        "   - p < 0.05 로 회귀계수가 있다\n",
        "3. 각 회귀계수 유의성(Pr(>|t|)\n",
        "   - *** 의미가 있다는 의미(Signif. codes)\n"
      ]
    }
  ]
}